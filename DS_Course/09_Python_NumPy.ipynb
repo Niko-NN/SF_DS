{
  "cells": [
    {
      "cell_type": "code",
      "execution_count": null,
      "metadata": {
        "id": "PP72fsdz4yWi"
      },
      "outputs": [],
      "source": [
        "# Импортируем объект Counter из модуля collections\n",
        "from collections import Counter\n",
        "# Создаём пустой объект Counter\n",
        "c = Counter()"
      ]
    },
    {
      "cell_type": "code",
      "execution_count": null,
      "metadata": {
        "colab": {
          "base_uri": "https://localhost:8080/"
        },
        "id": "fJQHL4Cy4-A1",
        "outputId": "54cf0711-a7ae-46d9-ecd3-f65c5113031f"
      },
      "outputs": [
        {
          "name": "stdout",
          "output_type": "stream",
          "text": [
            "Counter({'red': 1})\n"
          ]
        }
      ],
      "source": [
        "c['red'] += 1\n",
        "print(c)\n",
        "# Будет напечатано:\n",
        "# Counter({'red': 1})"
      ]
    },
    {
      "cell_type": "code",
      "execution_count": null,
      "metadata": {
        "id": "YPgYDuFG5ALX"
      },
      "outputs": [],
      "source": [
        "cars = ['red', 'blue', 'black', 'black', 'black', 'red', 'blue', 'red', 'white']"
      ]
    },
    {
      "cell_type": "code",
      "execution_count": null,
      "metadata": {
        "colab": {
          "base_uri": "https://localhost:8080/"
        },
        "id": "Wltuu0Jl5Ais",
        "outputId": "2d711522-c61e-4b05-b4d6-7796526b43fb"
      },
      "outputs": [
        {
          "name": "stdout",
          "output_type": "stream",
          "text": [
            "Counter({'red': 3, 'black': 3, 'blue': 2, 'white': 1})\n"
          ]
        }
      ],
      "source": [
        "c = Counter()\n",
        "for car in cars:\n",
        "    c[car] += 1\n",
        " \n",
        "print(c)\n",
        "# Counter({'red': 3, 'black': 3, 'blue': 2, 'white': 1})"
      ]
    },
    {
      "cell_type": "code",
      "execution_count": null,
      "metadata": {
        "colab": {
          "base_uri": "https://localhost:8080/"
        },
        "id": "sLiYHjsV5CnU",
        "outputId": "13ca044e-a593-478a-961d-c2b45e89548c"
      },
      "outputs": [
        {
          "name": "stdout",
          "output_type": "stream",
          "text": [
            "Counter({'red': 3, 'black': 3, 'blue': 2, 'white': 1})\n"
          ]
        }
      ],
      "source": [
        "c = Counter(cars)\n",
        "print(c)\n",
        "# Counter({'red': 3, 'black': 3, 'blue': 2, 'white': 1})"
      ]
    },
    {
      "cell_type": "code",
      "execution_count": null,
      "metadata": {
        "colab": {
          "base_uri": "https://localhost:8080/"
        },
        "id": "ZIwA6ja05END",
        "outputId": "ecab90f4-0e2a-4786-b360-5f1dd753b292"
      },
      "outputs": [
        {
          "name": "stdout",
          "output_type": "stream",
          "text": [
            "3\n"
          ]
        }
      ],
      "source": [
        "print(c['black'])\n",
        "# 3"
      ]
    },
    {
      "cell_type": "code",
      "execution_count": null,
      "metadata": {
        "colab": {
          "base_uri": "https://localhost:8080/"
        },
        "id": "YbZzBTJA5HQk",
        "outputId": "cdc9a54d-7e1b-4567-cb11-a23d7cad7ef0"
      },
      "outputs": [
        {
          "name": "stdout",
          "output_type": "stream",
          "text": [
            "0\n"
          ]
        }
      ],
      "source": [
        "print(c['purple'])\n",
        "# 0"
      ]
    },
    {
      "cell_type": "code",
      "execution_count": null,
      "metadata": {
        "colab": {
          "base_uri": "https://localhost:8080/"
        },
        "id": "X2-VnKu65JQL",
        "outputId": "b422bc49-8eec-4a48-8d39-82fe1fae053a"
      },
      "outputs": [
        {
          "name": "stdout",
          "output_type": "stream",
          "text": [
            "9\n"
          ]
        }
      ],
      "source": [
        "print(sum(c.values()))\n",
        "# 9"
      ]
    },
    {
      "cell_type": "code",
      "execution_count": null,
      "metadata": {
        "colab": {
          "base_uri": "https://localhost:8080/"
        },
        "id": "OhegHKAQ5LDj",
        "outputId": "3de456b1-9c04-4996-ffd3-4bc0cdcc9e87"
      },
      "outputs": [
        {
          "name": "stdout",
          "output_type": "stream",
          "text": [
            "dict_values([3, 2, 3, 1])\n"
          ]
        }
      ],
      "source": [
        "print(c.values())\n",
        "# dict_values([3, 2, 3, 1])"
      ]
    },
    {
      "cell_type": "code",
      "execution_count": null,
      "metadata": {
        "id": "6YroAtFh5NEM"
      },
      "outputs": [],
      "source": [
        "cars_moscow = ['black', 'black', 'white', 'black', 'black', 'white', 'yellow', 'yellow', 'yellow']\n",
        "cars_spb = ['red', 'black', 'black', 'white', 'white', 'yellow', 'yellow', 'red', 'white']"
      ]
    },
    {
      "cell_type": "code",
      "execution_count": null,
      "metadata": {
        "colab": {
          "base_uri": "https://localhost:8080/"
        },
        "id": "T_hF65QH5PK1",
        "outputId": "08032cb4-7556-4599-9ac0-d3d2b847441a"
      },
      "outputs": [
        {
          "name": "stdout",
          "output_type": "stream",
          "text": [
            "Counter({'black': 4, 'yellow': 3, 'white': 2})\n",
            "Counter({'white': 3, 'red': 2, 'black': 2, 'yellow': 2})\n"
          ]
        }
      ],
      "source": [
        "counter_moscow = Counter(cars_moscow)\n",
        "counter_spb = Counter(cars_spb)\n",
        " \n",
        "print(counter_moscow)\n",
        "print(counter_spb)\n",
        " \n",
        "# Counter({'black': 4, 'yellow': 3, 'white': 2})\n",
        "# Counter({'white': 3, 'red': 2, 'black': 2, 'yellow': 2})"
      ]
    },
    {
      "cell_type": "code",
      "execution_count": null,
      "metadata": {
        "colab": {
          "base_uri": "https://localhost:8080/"
        },
        "id": "U2DQYaBs5Q29",
        "outputId": "355f24a3-5fe0-4fd5-91c2-1e42d831b34b"
      },
      "outputs": [
        {
          "name": "stdout",
          "output_type": "stream",
          "text": [
            "Counter({'black': 6, 'white': 5, 'yellow': 5, 'red': 2})\n"
          ]
        }
      ],
      "source": [
        "print(counter_moscow + counter_spb)\n",
        "# Counter({'black': 6, 'white': 5, 'yellow': 5, 'red': 2})"
      ]
    },
    {
      "cell_type": "code",
      "execution_count": null,
      "metadata": {
        "colab": {
          "base_uri": "https://localhost:8080/"
        },
        "id": "2e0Z0rZP5S9N",
        "outputId": "64ca34ef-21af-4d52-b0d0-63d151a9b519"
      },
      "outputs": [
        {
          "name": "stdout",
          "output_type": "stream",
          "text": [
            "Counter({'black': 4, 'yellow': 3, 'white': 2})\n",
            "Counter({'white': 3, 'red': 2, 'black': 2, 'yellow': 2})\n",
            "Counter({'black': 2, 'yellow': 1, 'white': -1, 'red': -2})\n"
          ]
        }
      ],
      "source": [
        "print(counter_moscow)\n",
        "print(counter_spb)\n",
        "# Counter({'black': 4, 'yellow': 3, 'white': 2})\n",
        "# Counter({'white': 3, 'red': 2, 'black': 2, 'yellow': 2})\n",
        " \n",
        "counter_moscow.subtract(counter_spb)\n",
        "print(counter_moscow)\n",
        "# Counter({'black': 2, 'yellow': 1, 'white': -1, 'red': -2})"
      ]
    },
    {
      "cell_type": "code",
      "execution_count": null,
      "metadata": {
        "colab": {
          "base_uri": "https://localhost:8080/"
        },
        "id": "pH3iYwPa5Usd",
        "outputId": "50b0a6db-193b-49ca-c2d6-0e83d96c4476"
      },
      "outputs": [
        {
          "name": "stdout",
          "output_type": "stream",
          "text": [
            "Counter({'black': 2, 'yellow': 1})\n"
          ]
        }
      ],
      "source": [
        "# Пересоздаём счётчики, потому что объект counter_moscow поменял свои значения\n",
        "# после функции subtract.\n",
        "counter_moscow = Counter(cars_moscow)\n",
        "counter_spb = Counter(cars_spb)\n",
        " \n",
        "print(counter_moscow - counter_spb)\n",
        "# Counter({'black': 2, 'yellow': 1})"
      ]
    },
    {
      "cell_type": "code",
      "execution_count": null,
      "metadata": {
        "colab": {
          "base_uri": "https://localhost:8080/"
        },
        "id": "oiKQzPZK5Wts",
        "outputId": "3c8ff4be-1636-4509-d8bc-5acba430b5ab"
      },
      "outputs": [
        {
          "name": "stdout",
          "output_type": "stream",
          "text": [
            "black black black black white white yellow yellow yellow\n"
          ]
        }
      ],
      "source": [
        "print(*counter_moscow.elements())\n",
        "# black black black black white white yellow yellow yellow"
      ]
    },
    {
      "cell_type": "code",
      "execution_count": null,
      "metadata": {
        "colab": {
          "base_uri": "https://localhost:8080/"
        },
        "id": "HFqkyCJY5YuM",
        "outputId": "ddc43966-6a97-473c-c816-a65297aa22b5"
      },
      "outputs": [
        {
          "name": "stdout",
          "output_type": "stream",
          "text": [
            "['black', 'white', 'yellow']\n"
          ]
        }
      ],
      "source": [
        "print(list(counter_moscow))\n",
        "# ['black', 'white', 'yellow']"
      ]
    },
    {
      "cell_type": "code",
      "execution_count": null,
      "metadata": {
        "colab": {
          "base_uri": "https://localhost:8080/"
        },
        "id": "dHtcPezv5acd",
        "outputId": "67bee0aa-f5b5-41f3-e5a0-4a09090ef9a5"
      },
      "outputs": [
        {
          "name": "stdout",
          "output_type": "stream",
          "text": [
            "{'black': 4, 'white': 2, 'yellow': 3}\n"
          ]
        }
      ],
      "source": [
        "print(dict(counter_moscow))\n",
        "# {'black': 4, 'white': 2, 'yellow': 3}"
      ]
    },
    {
      "cell_type": "code",
      "execution_count": null,
      "metadata": {
        "colab": {
          "base_uri": "https://localhost:8080/"
        },
        "id": "jX7galaA5by8",
        "outputId": "8f86a95e-df8c-49d1-8547-b61741128e75"
      },
      "outputs": [
        {
          "name": "stdout",
          "output_type": "stream",
          "text": [
            "[('black', 4), ('yellow', 3), ('white', 2)]\n"
          ]
        }
      ],
      "source": [
        "print(counter_moscow.most_common())\n",
        "# [('black', 4), ('yellow', 3), ('white', 2)]"
      ]
    },
    {
      "cell_type": "code",
      "execution_count": null,
      "metadata": {
        "colab": {
          "base_uri": "https://localhost:8080/"
        },
        "id": "4ztOwNEJ5d_0",
        "outputId": "5e50add8-ad99-4abb-c535-07a36f59d76b"
      },
      "outputs": [
        {
          "name": "stdout",
          "output_type": "stream",
          "text": [
            "[('black', 4), ('yellow', 3)]\n"
          ]
        }
      ],
      "source": [
        "print(counter_moscow.most_common(2))\n",
        "# [('black', 4), ('yellow', 3)]"
      ]
    },
    {
      "cell_type": "code",
      "execution_count": null,
      "metadata": {
        "colab": {
          "base_uri": "https://localhost:8080/"
        },
        "id": "FG-8l0wc5fTs",
        "outputId": "6b602d3a-0eb1-4233-d4d0-d16b9de10890"
      },
      "outputs": [
        {
          "name": "stdout",
          "output_type": "stream",
          "text": [
            "Counter()\n"
          ]
        }
      ],
      "source": [
        "counter_moscow.clear()\n",
        "print(counter_moscow)\n",
        "# Counter()"
      ]
    },
    {
      "cell_type": "code",
      "execution_count": null,
      "metadata": {
        "id": "k-I1isA65g48"
      },
      "outputs": [],
      "source": [
        "# Задание 2.3\n",
        "# Задание 2.4\n",
        "# Задание 2.5\n",
        "# from hidden import clients\n",
        "# from collections import Counter\n",
        "# # Пишите здесь команды, которые помогут\n",
        "# # найти ответы на вопросы\n",
        "# counter_clients = Counter(clients)\n",
        "# # print(list(counter_clients))\n",
        "# # print(dict(counter_clients))\n",
        "# # print(counter_clients.most_common(1))\n",
        "# # print(counter_clients[953421102])\n",
        "# print(len(set(counter_clients.keys())))"
      ]
    },
    {
      "cell_type": "markdown",
      "metadata": {
        "id": "n7_XRrCwDx5s"
      },
      "source": [
        "\n",
        "\n",
        "---\n",
        "\n",
        "DEFAULTDICT"
      ]
    },
    {
      "cell_type": "code",
      "execution_count": null,
      "metadata": {
        "id": "EaxNF1NuDzKV"
      },
      "outputs": [],
      "source": [
        "students = [('Ivanov',1),('Smirnov',4),('Petrov',3),('Kuznetsova',1),\n",
        "            ('Nikitina',2),('Markov',3),('Pavlov',2)]"
      ]
    },
    {
      "cell_type": "code",
      "execution_count": null,
      "metadata": {
        "colab": {
          "base_uri": "https://localhost:8080/"
        },
        "id": "glg-67nSEDMl",
        "outputId": "207b7b36-c077-4b92-b255-5c98593c0111"
      },
      "outputs": [
        {
          "name": "stdout",
          "output_type": "stream",
          "text": [
            "{1: ['Ivanov', 'Kuznetsova'], 4: ['Smirnov'], 3: ['Petrov', 'Markov'], 2: ['Nikitina', 'Pavlov']}\n"
          ]
        }
      ],
      "source": [
        "groups = dict()\n",
        " \n",
        "for student, group in students:\n",
        "    # Проверяем, есть ли уже эта группа в словаре\n",
        "    if group not in groups:\n",
        "        # Если группы ещё нет в словаре, создаём для неё пустой список\n",
        "        groups[group] = list()\n",
        "    groups[group].append(student)\n",
        " \n",
        "print(groups)\n",
        "# {1: ['Ivanov', 'Kuznetsova'], 4: ['Smirnov'], 3: ['Petrov', 'Markov'], 2: ['Nikitina', 'Pavlov']}"
      ]
    },
    {
      "cell_type": "markdown",
      "metadata": {
        "id": "SQWWPYNuE3fs"
      },
      "source": [
        "\n",
        "\n",
        "---\n"
      ]
    },
    {
      "cell_type": "code",
      "execution_count": null,
      "metadata": {
        "id": "V-OHMsWjE5A-"
      },
      "outputs": [],
      "source": [
        "from collections import defaultdict\n",
        "groups = defaultdict(list)"
      ]
    },
    {
      "cell_type": "code",
      "execution_count": null,
      "metadata": {
        "colab": {
          "base_uri": "https://localhost:8080/"
        },
        "id": "Ag_ePt3WFdX9",
        "outputId": "a8dd0293-379d-41a8-d70f-9963f2e47287"
      },
      "outputs": [
        {
          "name": "stdout",
          "output_type": "stream",
          "text": [
            "defaultdict(<class 'list'>, {1: ['Ivanov', 'Kuznetsova'], 4: ['Smirnov'], 3: ['Petrov', 'Markov'], 2: ['Nikitina', 'Pavlov']})\n"
          ]
        }
      ],
      "source": [
        "for student, group in students:\n",
        "    groups[group].append(student)\n",
        " \n",
        "print(groups)\n",
        "# defaultdict(<class 'list'>, {1: ['Ivanov', 'Kuznetsova'], 4: ['Smirnov'], 3: ['Petrov', 'Markov'], 2: ['Nikitina', 'Pavlov']})"
      ]
    },
    {
      "cell_type": "code",
      "execution_count": null,
      "metadata": {
        "colab": {
          "base_uri": "https://localhost:8080/"
        },
        "id": "FDCh7Cb8F0xM",
        "outputId": "a361f9db-112d-4d6c-93bb-b46de8e779a1"
      },
      "outputs": [
        {
          "name": "stdout",
          "output_type": "stream",
          "text": [
            "['Petrov', 'Markov']\n"
          ]
        }
      ],
      "source": [
        "print(groups[3])\n",
        "# ['Petrov', 'Markov']"
      ]
    },
    {
      "cell_type": "code",
      "execution_count": null,
      "metadata": {
        "colab": {
          "base_uri": "https://localhost:8080/"
        },
        "id": "c1c_g-xNF79U",
        "outputId": "ec185420-a465-471a-f1ec-00eb98077949"
      },
      "outputs": [
        {
          "name": "stdout",
          "output_type": "stream",
          "text": [
            "[]\n"
          ]
        }
      ],
      "source": [
        "print(groups[2021])\n",
        "# []"
      ]
    },
    {
      "cell_type": "code",
      "execution_count": null,
      "metadata": {
        "colab": {
          "base_uri": "https://localhost:8080/"
        },
        "id": "fVcfg2dQGDo8",
        "outputId": "041e860d-a320-46dd-ea75-8b86ac29a8dd"
      },
      "outputs": [
        {
          "name": "stdout",
          "output_type": "stream",
          "text": [
            "defaultdict(<class 'list'>, {1: ['Ivanov', 'Kuznetsova'], 4: ['Smirnov'], 3: ['Petrov', 'Markov'], 2: ['Nikitina', 'Pavlov'], 2021: []})\n"
          ]
        }
      ],
      "source": [
        "print(groups)\n",
        "# defaultdict(<class 'list'>, {1: ['Ivanov', 'Kuznetsova'], 4: ['Smirnov'], 3: ['Petrov', 'Markov'], 2: ['Nikitina', 'Pavlov'], 2021: []})"
      ]
    },
    {
      "cell_type": "code",
      "execution_count": null,
      "metadata": {
        "colab": {
          "base_uri": "https://localhost:8080/"
        },
        "id": "5qSd0ll6GNT0",
        "outputId": "c8525576-3089-45f7-d936-c246e0acf812"
      },
      "outputs": [
        {
          "name": "stdout",
          "output_type": "stream",
          "text": [
            "<class 'dict'>\n",
            "<class 'collections.defaultdict'>\n"
          ]
        }
      ],
      "source": [
        "dict_object = dict()\n",
        "defaultdict_object = defaultdict()\n",
        " \n",
        "print(type(dict_object))\n",
        "# <class 'dict'>\n",
        "print(type(defaultdict_object))\n",
        "# <class 'collections.defaultdict'>"
      ]
    },
    {
      "cell_type": "code",
      "execution_count": null,
      "metadata": {
        "colab": {
          "base_uri": "https://localhost:8080/"
        },
        "id": "hJbAin85GX0T",
        "outputId": "2b873617-39c3-44cc-f38d-fa6dcbab742e"
      },
      "outputs": [
        {
          "name": "stdout",
          "output_type": "stream",
          "text": [
            "{}\n",
            "defaultdict(None, {})\n"
          ]
        }
      ],
      "source": [
        "print(dict_object)\n",
        "# {}\n",
        "print(defaultdict_object)\n",
        "# defaultdict(None, {})"
      ]
    },
    {
      "cell_type": "markdown",
      "metadata": {
        "id": "TKeq5p0SIy0R"
      },
      "source": [
        "\n",
        "\n",
        "---\n",
        "\n",
        "# 3. Модуль Collections. Deque и OrderedDict"
      ]
    },
    {
      "cell_type": "markdown",
      "metadata": {
        "id": "jFb03J-ge0Cy"
      },
      "source": [
        "ORDEREDDICT"
      ]
    },
    {
      "cell_type": "code",
      "execution_count": null,
      "metadata": {
        "colab": {
          "base_uri": "https://localhost:8080/"
        },
        "id": "v-geyVgbI0FI",
        "outputId": "3b8da113-68a9-4058-c900-500055cf7d51"
      },
      "outputs": [
        {
          "name": "stdout",
          "output_type": "stream",
          "text": [
            "{'Ivan': 19, 'Mark': 25, 'Andrey': 23, 'Maria': 20}\n"
          ]
        }
      ],
      "source": [
        "# Напоминаем способ создания словаря через список кортежей\n",
        "# (ключ, значение)\n",
        "data = [('Ivan', 19),('Mark', 25),('Andrey', 23),('Maria', 20)]\n",
        "client_ages = dict(data)\n",
        "print(client_ages)\n",
        "# По результатам 3 повторов получились вот такие результаты:\n",
        "# {'Maria': 20, 'Mark': 25, 'Ivan': 19, 'Andrey': 23}\n",
        "# {'Ivan': 19, 'Andrey': 23, 'Mark': 25, 'Maria': 20}\n",
        "# {'Andrey': 23, 'Mark': 25, 'Maria': 20, 'Ivan': 19}"
      ]
    },
    {
      "cell_type": "code",
      "execution_count": null,
      "metadata": {
        "colab": {
          "base_uri": "https://localhost:8080/"
        },
        "id": "MWSN1FaZJTyE",
        "outputId": "76a8ae39-e5a8-4301-fa00-3d090f9383a1"
      },
      "outputs": [
        {
          "name": "stdout",
          "output_type": "stream",
          "text": [
            "OrderedDict([('Ivan', 19), ('Mark', 25), ('Andrey', 23), ('Maria', 20)])\n"
          ]
        }
      ],
      "source": [
        "from collections import OrderedDict\n",
        "data = [('Ivan', 19),('Mark', 25),('Andrey', 23),('Maria', 20)]\n",
        "ordered_client_ages = OrderedDict(data)\n",
        "print(ordered_client_ages)\n",
        "# По результатам 3 повторов получились вот такие результаты:\n",
        "# OrderedDict([('Ivan', 19), ('Mark', 25), ('Andrey', 23), ('Maria', 20)])\n",
        "# OrderedDict([('Ivan', 19), ('Mark', 25), ('Andrey', 23), ('Maria', 20)])\n",
        "# OrderedDict([('Ivan', 19), ('Mark', 25), ('Andrey', 23), ('Maria', 20)])"
      ]
    },
    {
      "cell_type": "code",
      "execution_count": null,
      "metadata": {
        "colab": {
          "base_uri": "https://localhost:8080/"
        },
        "id": "-2hlCaKVJv0U",
        "outputId": "2b69307c-0e65-4cb5-8578-5de97652a98a"
      },
      "outputs": [
        {
          "name": "stdout",
          "output_type": "stream",
          "text": [
            "OrderedDict([('Ivan', 19), ('Maria', 20), ('Andrey', 23), ('Mark', 25)])\n"
          ]
        }
      ],
      "source": [
        "data = [('Ivan', 19),('Mark', 25),('Andrey', 23),('Maria', 20)]\n",
        "# Сортируем по второму значению из кортежа, то есть по возрасту\n",
        "ordered_client_ages = OrderedDict(sorted(data, key=lambda x: x[1]))\n",
        "print(ordered_client_ages)\n",
        "# OrderedDict([('Ivan', 19), ('Maria', 20), ('Andrey', 23), ('Mark', 25)])"
      ]
    },
    {
      "cell_type": "code",
      "execution_count": null,
      "metadata": {
        "colab": {
          "base_uri": "https://localhost:8080/"
        },
        "id": "4CNKJ_0OJ73c",
        "outputId": "5aa421c4-805e-4c6c-fd0c-01fe235d1984"
      },
      "outputs": [
        {
          "name": "stdout",
          "output_type": "stream",
          "text": [
            "OrderedDict([('Ivan', 19), ('Maria', 20), ('Andrey', 23), ('Mark', 25), ('Nikita', 18)])\n"
          ]
        }
      ],
      "source": [
        "ordered_client_ages['Nikita'] = 18\n",
        "print(ordered_client_ages)\n",
        "# OrderedDict([('Ivan', 19), ('Maria', 20), ('Andrey', 23), ('Mark', 25), ('Nikita', 18)])"
      ]
    },
    {
      "cell_type": "code",
      "execution_count": null,
      "metadata": {
        "colab": {
          "base_uri": "https://localhost:8080/"
        },
        "id": "MZseZVNdKA_E",
        "outputId": "c26f7af0-0a13-40bd-e2d7-db03d0e13c40"
      },
      "outputs": [
        {
          "name": "stdout",
          "output_type": "stream",
          "text": [
            "OrderedDict([('Ivan', 19), ('Maria', 20), ('Mark', 25), ('Nikita', 18)])\n",
            "OrderedDict([('Ivan', 19), ('Maria', 20), ('Mark', 25), ('Nikita', 18), ('Andrey', 23)])\n"
          ]
        }
      ],
      "source": [
        "del ordered_client_ages['Andrey']\n",
        "print(ordered_client_ages)\n",
        "# OrderedDict([('Ivan', 19), ('Mark', 25), ('Maria', 20), ('Nikita', 18)])\n",
        "ordered_client_ages['Andrey'] = 23\n",
        "print(ordered_client_ages)\n",
        "# OrderedDict([('Ivan', 19), ('Mark', 25), ('Maria', 20), ('Nikita', 18), ('Andrey', 23)])"
      ]
    },
    {
      "cell_type": "code",
      "execution_count": null,
      "metadata": {
        "colab": {
          "base_uri": "https://localhost:8080/"
        },
        "id": "0qOqVIqcKUQk",
        "outputId": "d509eb17-2acd-4fcd-ee6f-aa056949a728"
      },
      "outputs": [
        {
          "name": "stdout",
          "output_type": "stream",
          "text": [
            "3.7.15 (default, Oct 12 2022, 19:14:55) \n",
            "[GCC 7.5.0]\n"
          ]
        }
      ],
      "source": [
        "import sys\n",
        "print(sys.version)\n",
        "# 3.4.3 (default, Nov 12 2018, 22:25:49)\n",
        "# [GCC 4.8.4]"
      ]
    },
    {
      "cell_type": "markdown",
      "metadata": {
        "id": "YdYWUkXEM0Iw"
      },
      "source": [
        "\n",
        "\n",
        "---\n",
        "\n",
        "DEQUE"
      ]
    },
    {
      "cell_type": "code",
      "execution_count": null,
      "metadata": {
        "colab": {
          "base_uri": "https://localhost:8080/"
        },
        "id": "7IRgbYD4MuCU",
        "outputId": "48046721-ab59-41af-8b93-f00526d0d66a"
      },
      "outputs": [
        {
          "name": "stdout",
          "output_type": "stream",
          "text": [
            "deque([])\n"
          ]
        }
      ],
      "source": [
        "from collections import deque\n",
        "dq = deque()\n",
        "print(dq)\n",
        "# deque([])"
      ]
    },
    {
      "cell_type": "code",
      "execution_count": null,
      "metadata": {
        "colab": {
          "base_uri": "https://localhost:8080/"
        },
        "id": "SkoYhe9aNR2s",
        "outputId": "b34fbcd9-e1f7-48b3-d040-5d7c1c9bdd5a"
      },
      "outputs": [
        {
          "name": "stdout",
          "output_type": "stream",
          "text": [
            "deque(['Ivanov', 'Petrov', 'Smirnov', 'Tikhonova'])\n"
          ]
        }
      ],
      "source": [
        "clients = deque()\n",
        "clients.append('Ivanov')\n",
        "clients.append('Petrov')\n",
        "clients.append('Smirnov')\n",
        "clients.append('Tikhonova')\n",
        "print(clients)\n",
        "# deque(['Ivanov', 'Petrov', 'Smirnov', 'Tikhonova'])"
      ]
    },
    {
      "cell_type": "code",
      "execution_count": null,
      "metadata": {
        "colab": {
          "base_uri": "https://localhost:8080/"
        },
        "id": "pZaCQ0LbNWks",
        "outputId": "cb69e738-8589-41e1-f13f-959f7abb7098"
      },
      "outputs": [
        {
          "name": "stdout",
          "output_type": "stream",
          "text": [
            "Smirnov\n"
          ]
        }
      ],
      "source": [
        "print(clients[2])\n",
        "# Smirnov"
      ]
    },
    {
      "cell_type": "code",
      "execution_count": null,
      "metadata": {
        "colab": {
          "base_uri": "https://localhost:8080/"
        },
        "id": "2vDwGMn1NeBU",
        "outputId": "6e045ec5-c54e-45a3-e459-07b0d33490d2"
      },
      "outputs": [
        {
          "name": "stdout",
          "output_type": "stream",
          "text": [
            "First client: Ivanov\n",
            "Second client: Petrov\n",
            "deque(['Smirnov', 'Tikhonova'])\n"
          ]
        }
      ],
      "source": [
        "first_client = clients.popleft()\n",
        "second_client = clients.popleft()\n",
        " \n",
        "print(\"First client:\", first_client)\n",
        "print(\"Second client:\", second_client)\n",
        "print(clients)\n",
        "# First client: Ivanov\n",
        "# Second client: Petrov\n",
        "# deque(['Smirnov', 'Tikhonova'])"
      ]
    },
    {
      "cell_type": "code",
      "execution_count": null,
      "metadata": {
        "colab": {
          "base_uri": "https://localhost:8080/"
        },
        "id": "xkyKIcVyNvZr",
        "outputId": "85e77a00-45a8-430f-cca1-3209aa57327e"
      },
      "outputs": [
        {
          "name": "stdout",
          "output_type": "stream",
          "text": [
            "deque(['Vip-client', 'Smirnov', 'Tikhonova'])\n"
          ]
        }
      ],
      "source": [
        "clients.appendleft('Vip-client')\n",
        " \n",
        "print(clients)\n",
        "# deque(['Vip-client', 'Smirnov', 'Tikhonova'])"
      ]
    },
    {
      "cell_type": "code",
      "execution_count": null,
      "metadata": {
        "colab": {
          "base_uri": "https://localhost:8080/"
        },
        "id": "6j6EdoLjOBYV",
        "outputId": "a74d800b-5728-4b61-fde2-abe488328b7d"
      },
      "outputs": [
        {
          "name": "stdout",
          "output_type": "stream",
          "text": [
            "Tikhonova left the queue\n",
            "deque(['Vip-client', 'Smirnov'])\n"
          ]
        }
      ],
      "source": [
        "tired_client = clients.pop()\n",
        "print(tired_client, \"left the queue\")\n",
        "print(clients)\n",
        "# Tikhonova left the queue\n",
        "# deque(['Vip-client', 'Smirnov'])"
      ]
    },
    {
      "cell_type": "code",
      "execution_count": null,
      "metadata": {
        "colab": {
          "base_uri": "https://localhost:8080/"
        },
        "id": "3qwg-qqmOJiE",
        "outputId": "6d06985a-a1ac-4874-e1ca-7201c887468f"
      },
      "outputs": [
        {
          "name": "stdout",
          "output_type": "stream",
          "text": [
            "deque(['Ivanov', 'Petrov', 'Smirnov', 'Tikhonova'])\n",
            "deque(['Ivanov', 'Petrov', 'Tikhonova'])\n"
          ]
        }
      ],
      "source": [
        "clients = deque(['Ivanov', 'Petrov', 'Smirnov', 'Tikhonova'])\n",
        "print(clients)\n",
        "# deque(['Ivanov', 'Petrov', 'Smirnov', 'Tikhonova'])\n",
        "del clients[2]\n",
        "print(clients)\n",
        "# deque(['Ivanov', 'Petrov', 'Tikhonova'])"
      ]
    },
    {
      "cell_type": "code",
      "execution_count": null,
      "metadata": {
        "colab": {
          "base_uri": "https://localhost:8080/"
        },
        "id": "GZDqv_c-OkB8",
        "outputId": "aca45104-2d91-4487-cb80-dce7ed2e85a3"
      },
      "outputs": [
        {
          "name": "stdout",
          "output_type": "stream",
          "text": [
            "deque([1, 2, 3, 4, 5])\n",
            "deque([1, 2, 3, 4, 5, 11, 12, 13, 14, 15, 16, 17])\n"
          ]
        }
      ],
      "source": [
        "# В скобках передаём список при создании deque,\n",
        "# чтобы сразу добавить все его элементы в очередь\n",
        "shop = deque([1, 2, 3, 4, 5])\n",
        "print(shop)\n",
        "# deque([1, 2, 3, 4, 5])\n",
        "shop.extend([11, 12, 13, 14, 15, 16, 17])\n",
        "print(shop)\n",
        "# deque([1, 2, 3, 4, 5, 11, 12, 13, 14, 15, 16, 17])"
      ]
    },
    {
      "cell_type": "code",
      "execution_count": null,
      "metadata": {
        "colab": {
          "base_uri": "https://localhost:8080/"
        },
        "id": "z3FueqrHOuht",
        "outputId": "7f41fe6d-49ba-4cc8-eeac-3b17b1d3df12"
      },
      "outputs": [
        {
          "name": "stdout",
          "output_type": "stream",
          "text": [
            "deque([1, 2, 3, 4, 5])\n",
            "deque([17, 16, 15, 14, 13, 12, 11, 1, 2, 3, 4, 5])\n"
          ]
        }
      ],
      "source": [
        "shop = deque([1, 2, 3, 4, 5])\n",
        "print(shop)\n",
        "# deque([1, 2, 3, 4, 5])\n",
        "shop.extendleft([11, 12, 13, 14, 15, 16, 17])\n",
        "print(shop)\n",
        "# deque([17, 16, 15, 14, 13, 12, 11, 1, 2, 3, 4, 5])"
      ]
    },
    {
      "cell_type": "markdown",
      "metadata": {
        "id": "kMIN2zOgPDx4"
      },
      "source": [
        "\n",
        "\n",
        "---\n",
        "\n",
        "ОЧЕРЕДЬ С ОГРАНИЧЕННОЙ МАКСИМАЛЬНОЙ ДЛИНОЙ"
      ]
    },
    {
      "cell_type": "code",
      "execution_count": null,
      "metadata": {
        "colab": {
          "base_uri": "https://localhost:8080/"
        },
        "id": "OS0CaMw6PFyE",
        "outputId": "3c187d25-4422-4006-b2d6-1e416df1f45e"
      },
      "outputs": [
        {
          "name": "stdout",
          "output_type": "stream",
          "text": [
            "deque([], maxlen=3)\n",
            "deque([5, 6, 7], maxlen=3)\n"
          ]
        }
      ],
      "source": [
        "limited = deque(maxlen=3)\n",
        "print(limited)\n",
        "# deque([], maxlen=3)\n",
        " \n",
        "limited_from_list = deque([1,3,4,5,6,7], maxlen=3)\n",
        "print(limited_from_list)\n",
        "# deque([5, 6, 7], maxlen=3)"
      ]
    },
    {
      "cell_type": "code",
      "execution_count": null,
      "metadata": {
        "colab": {
          "base_uri": "https://localhost:8080/"
        },
        "id": "ipkDqaFYPdtE",
        "outputId": "b8ab7384-20d2-4c5b-c3f4-7b5e0fe1e902"
      },
      "outputs": [
        {
          "name": "stdout",
          "output_type": "stream",
          "text": [
            "deque([1, 2, 3], maxlen=3)\n",
            "None\n",
            "deque([2, 3, 8], maxlen=3)\n"
          ]
        }
      ],
      "source": [
        "limited.extend([1,2,3])\n",
        "print(limited)\n",
        "# deque([1, 2, 3], maxlen=3)\n",
        " \n",
        "print(limited.append(8))\n",
        "# None\n",
        "print(limited)\n",
        "# deque([2, 3, 8], maxlen=3)"
      ]
    },
    {
      "cell_type": "code",
      "execution_count": null,
      "metadata": {
        "id": "MzaiWWo5QPIs"
      },
      "outputs": [],
      "source": [
        "temps = [20.6, 19.4, 19.0, 19.0, 22.1,\n",
        "        22.5, 22.8, 24.1, 25.6, 27.0,\n",
        "        27.0, 25.6, 26.8, 27.3, 22.5,\n",
        "        25.4, 24.4, 23.7, 23.6, 22.6,\n",
        "        20.4, 17.9, 17.3, 17.3, 18.1,\n",
        "        20.1, 22.2, 19.8, 21.3, 21.3,\n",
        "        21.9]"
      ]
    },
    {
      "cell_type": "code",
      "execution_count": null,
      "metadata": {
        "colab": {
          "base_uri": "https://localhost:8080/"
        },
        "id": "hDIg1RbXQSik",
        "outputId": "66258116-c4a9-40b7-9f44-e1ed8f1d1107"
      },
      "outputs": [
        {
          "name": "stdout",
          "output_type": "stream",
          "text": [
            "20.77; 21.27; 22.16; 23.3; 24.44; 24.94; 25.56; 26.2; 25.97; 25.94; 25.57; 25.1; 24.81; 24.21; 23.23; 22.57; 21.41; 20.4; 19.6; 19.1; 19.04; 18.96; 19.44; 20.01; 20.67; \n"
          ]
        }
      ],
      "source": [
        "days = deque(maxlen=7)\n",
        " \n",
        "for temp in temps:\n",
        "    # Добавляем температуру в очередь\n",
        "    days.append(temp)\n",
        "    # Если длина очереди оказалась равной максимальной длине очереди (7),\n",
        "    # печатаем среднюю температуру за последние 7 дней\n",
        "    if len(days) == days.maxlen:\n",
        "        print(round(sum(days) / len(days), 2), end='; ')\n",
        "# Напечатаем пустую строку, чтобы завершить действие параметра\n",
        "# end. Иначе следующая строка окажется напечатанной на предыдущей\n",
        "print(\"\")\n",
        "# Результат:\n",
        "# 20.77; 21.27; 22.16; 23.3; 24.44; 24.94; 25.56; 26.2; 25.97;\n",
        "# 25.94; 25.57; 25.1; 24.81; 24.21; 23.23; 22.57; 21.41; 20.4;\n",
        "# 19.6; 19.1; 19.04; 18.96; 19.44; 20.01; 20.67;"
      ]
    },
    {
      "cell_type": "markdown",
      "metadata": {
        "id": "9aPtkm7cSl4Y"
      },
      "source": [
        "\n",
        "\n",
        "---\n",
        "\n",
        "ДОПОЛНИТЕЛЬНЫЕ ФУНКЦИИ"
      ]
    },
    {
      "cell_type": "code",
      "execution_count": null,
      "metadata": {
        "colab": {
          "base_uri": "https://localhost:8080/"
        },
        "id": "6S4iJ9eySnik",
        "outputId": "714cf723-9465-4d0b-da5a-737c7c83bb3b"
      },
      "outputs": [
        {
          "name": "stdout",
          "output_type": "stream",
          "text": [
            "deque([1, 2, 3, 4, 5])\n",
            "deque([5, 4, 3, 2, 1])\n"
          ]
        }
      ],
      "source": [
        "dq = deque([1,2,3,4,5])\n",
        "print(dq)\n",
        "# deque([1, 2, 3, 4, 5])\n",
        " \n",
        "dq.reverse()\n",
        "print(dq)\n",
        "# deque([5, 4, 3, 2, 1])"
      ]
    },
    {
      "cell_type": "code",
      "execution_count": null,
      "metadata": {
        "colab": {
          "base_uri": "https://localhost:8080/"
        },
        "id": "31dkZc36StMN",
        "outputId": "0c745f6c-4541-47d6-a651-b423dd88b43e"
      },
      "outputs": [
        {
          "name": "stdout",
          "output_type": "stream",
          "text": [
            "deque([1, 2, 3, 4, 5])\n",
            "deque([4, 5, 1, 2, 3])\n"
          ]
        }
      ],
      "source": [
        "dq = deque([1,2,3,4,5])\n",
        "print(dq)\n",
        "# deque([1, 2, 3, 4, 5])\n",
        " \n",
        "dq.rotate(2)\n",
        "print(dq)\n",
        "# deque([4, 5, 1, 2, 3])"
      ]
    },
    {
      "cell_type": "code",
      "execution_count": null,
      "metadata": {
        "colab": {
          "base_uri": "https://localhost:8080/"
        },
        "id": "U2US32lYSu7D",
        "outputId": "ec535207-77ba-42e6-90bc-f50d14f7d49b"
      },
      "outputs": [
        {
          "name": "stdout",
          "output_type": "stream",
          "text": [
            "deque([1, 2, 3, 4, 5])\n",
            "deque([3, 4, 5, 1, 2])\n"
          ]
        }
      ],
      "source": [
        "dq = deque([1,2,3,4,5])\n",
        "print(dq)\n",
        "# deque([1, 2, 3, 4, 5])\n",
        " \n",
        "# Отрицательное значение аргумента переносит\n",
        "# n элементов из начала в конец\n",
        "dq.rotate(-2)\n",
        "print(dq)\n",
        "# deque([3, 4, 5, 1, 2])"
      ]
    },
    {
      "cell_type": "code",
      "execution_count": null,
      "metadata": {
        "colab": {
          "base_uri": "https://localhost:8080/"
        },
        "id": "EHFrqQtkSwtF",
        "outputId": "7a0d5c10-01ef-4628-a919-e5a991113c0f"
      },
      "outputs": [
        {
          "name": "stdout",
          "output_type": "stream",
          "text": [
            "2\n",
            "6\n"
          ]
        }
      ],
      "source": [
        "dq = [1,2,4,2,3,1,5,4,4,4,4,4,3]\n",
        "print(dq.index(4))\n",
        "# 2\n",
        "print(dq.count(4))\n",
        "# 6"
      ]
    },
    {
      "cell_type": "code",
      "execution_count": null,
      "metadata": {
        "id": "QWxiTuxJSyeF"
      },
      "outputs": [],
      "source": [
        "dq = deque([1,2,4,2,3,1,5,4,4,4,4,4,3])\n",
        "print(dq.index(25))\n",
        "# ValueError: 25 is not in deque"
      ]
    },
    {
      "cell_type": "code",
      "execution_count": null,
      "metadata": {
        "colab": {
          "base_uri": "https://localhost:8080/"
        },
        "id": "psXaxdjuS0r7",
        "outputId": "b0b07ab3-1df3-42cf-a5d9-630b446ddb89"
      },
      "outputs": [
        {
          "name": "stdout",
          "output_type": "stream",
          "text": [
            "0\n"
          ]
        }
      ],
      "source": [
        "dq = deque([1,2,4,2,3,1,5,4,4,4,4,4,3])\n",
        "print(dq.count(25))\n",
        "# 0"
      ]
    },
    {
      "cell_type": "code",
      "execution_count": null,
      "metadata": {
        "colab": {
          "base_uri": "https://localhost:8080/"
        },
        "id": "0toBu1pFS3Uz",
        "outputId": "44785da0-e3f3-4e85-927d-fb72a24330c5"
      },
      "outputs": [
        {
          "name": "stdout",
          "output_type": "stream",
          "text": [
            "deque([1, 2, 4, 2, 3, 1, 5, 4, 4, 4, 4, 4, 3])\n",
            "deque([])\n"
          ]
        }
      ],
      "source": [
        "dq = deque([1,2,4,2,3,1,5,4,4,4,4,4,3])\n",
        "print(dq)\n",
        "# deque([1, 2, 4, 2, 3, 1, 5, 4, 4, 4, 4, 4, 3])\n",
        "dq.clear()\n",
        "print(dq)\n",
        "# deque([])"
      ]
    },
    {
      "cell_type": "markdown",
      "metadata": {
        "id": "sKGruYDYTj1-"
      },
      "source": [
        "\n",
        "\n",
        "---\n",
        "\n"
      ]
    },
    {
      "cell_type": "code",
      "execution_count": null,
      "metadata": {
        "colab": {
          "base_uri": "https://localhost:8080/"
        },
        "id": "AA7JA1QmTlMi",
        "outputId": "f5305f8c-89a2-4f15-c99a-51bd53f7bc99"
      },
      "outputs": [
        {
          "name": "stdout",
          "output_type": "stream",
          "text": [
            "OrderedDict([('2020', 1.5), ('2005', -1.6), ('2008', -1.7), ('2007', -2.4), ('2001', -2.5), ('2015', -2.7), ('2018', -2.9), ('2009', -3.5), ('2017', -3.9), ('2000', -4.4), ('2002', -4.4), ('2012', -4.9), ('2011', -5.8), ('2006', -5.9), ('2013', -6.1), ('2019', -6.5), ('2014', -6.9), ('2004', -8.2), ('2003', -9.5), ('2016', -11.2), ('2010', -12.1)])\n"
          ]
        }
      ],
      "source": [
        "# Задание 3.2\n",
        "# Дан список из кортежей temps. \n",
        "# На первом месте в кортеже указан год в виде строки, \n",
        "# а на втором — средняя температура января в Петербурге в указанном году.\n",
        "# Необходимо напечатать словарь, в котором ключи — годы, \n",
        "# а значения — показатели температуры. \n",
        "# Ключи необходимо отсортировать в порядке убывания соответствующих им температур.\n",
        "\n",
        "temps = [('2000', -4.4), ('2001', -2.5), ('2002', -4.4), ('2003', -9.5),\n",
        "        ('2004', -8.2), ('2005', -1.6), ('2006', -5.9), ('2007', -2.4),\n",
        "        ('2008', -1.7), ('2009', -3.5), ('2010', -12.1), ('2011', -5.8),\n",
        "        ('2012', -4.9), ('2013', -6.1), ('2014', -6.9), ('2015', -2.7),\n",
        "        ('2016', -11.2), ('2017', -3.9), ('2018', -2.9), ('2019', -6.5),\n",
        "        ('2020', 1.5)]\n",
        "         \n",
        "# Напечатайте словарь из температур, отсортированный по уменьшению температуры\n",
        "from collections import OrderedDict\n",
        "\n",
        "ordered_temps = OrderedDict(sorted(temps, key=lambda x: x[1], reverse=True))\n",
        "print(ordered_temps)"
      ]
    },
    {
      "cell_type": "code",
      "execution_count": null,
      "metadata": {
        "id": "urbe7JdteDAc"
      },
      "outputs": [],
      "source": [
        "# Задание 3.5\n",
        "# Извлеките элемент из начала очереди. \n",
        "# Запишите полученное значение элемента в качестве ответа.\n",
        "\n",
        "# Задание 3.6\n",
        "# В уже модифицированной очереди переместите пять элементов из начала очереди в её конец. \n",
        "# Извлеките последний элемент из очереди. Запишите полученное число в качестве ответа.\n",
        "\n",
        "# Задание 3.7\n",
        "# Сколько задач с тем номером, что был извлечён в предыдущем задании, \n",
        "# осталось в модифицированной очереди? Запишите ответ в числовой форме.\n",
        "\n",
        "# from hidden import users\n",
        "\n",
        "# # Пишите здесь команды, который помогут\n",
        "# # найти ответы на вопросы\n",
        "\n",
        "# from collections import Counter\n",
        "# # from collections import defaultdict\n",
        "# from collections import deque\n",
        "# # from collections import OrderedDict\n",
        "\n",
        "# clients = deque(users)\n",
        "# print(clients)\n",
        "# first_client = clients.popleft()\n",
        "# print(first_client)\n",
        "\n",
        "# clients.rotate(-5)\n",
        "# last_clients = clients.pop()\n",
        "# print(last_clients)\n",
        "\n",
        "# print(clients)\n",
        "# print(clients.count(8))"
      ]
    },
    {
      "cell_type": "markdown",
      "metadata": {
        "id": "Lf9tXa_3gSZN"
      },
      "source": [
        "\n",
        "\n",
        "---\n",
        "\n",
        "# 4. Модуль Collections. Закрепление знаний"
      ]
    },
    {
      "cell_type": "code",
      "execution_count": null,
      "metadata": {
        "id": "H3U5C6p7gYvX"
      },
      "outputs": [],
      "source": [
        "# ЗАДАНИЕ 4.3\n",
        "# Напишите функцию brackets(line), которая определяет, \n",
        "# является ли последовательность из круглых скобок правильной.\n",
        "# Правильной скобочной последовательностью назовём такую последовательность скобок, \n",
        "# в которой для каждой открывающей скобки есть последующая соответствующая ей закрывающая скобка.\n",
        "# Соответственно, остальные скобочные последовательности назовём неправильными.\n",
        "# Пустую строку будем считать правильной последовательностью.\n",
        "# Для решения этой задачи потребуется использовать стек.\n",
        "# Посимвольно переберите строку. \n",
        "# Если встретилась открывающаяся скобка, положите её в стек. \n",
        "# Если встретилась закрывающаяся скобка, извлеките скобку из стека.\n",
        "# Если стек пустой, то есть извлечь скобку нельзя, последовательность неправильная.\n",
        "# Если строка закончилась и стек стал пустым, последовательность правильная.\n",
        "# Если в стеке остались скобки, последовательность неправильная.\n",
        "\n",
        "from collections import deque\n",
        "\n",
        "def brackets(line):\n",
        "    # Напишите тело функции\n",
        "    queue = deque()\n",
        "    for symb in line:\n",
        "        if symb == ')':\n",
        "            if queue:\n",
        "               queue.pop()\n",
        "               continue\n",
        "            return False\n",
        "        elif symb == '(':\n",
        "            queue.append(symb)\n",
        "    return not bool(queue)"
      ]
    },
    {
      "cell_type": "code",
      "execution_count": null,
      "metadata": {
        "colab": {
          "base_uri": "https://localhost:8080/"
        },
        "id": "cxq0hGjRRgWr",
        "outputId": "8c7e11c2-aaa8-4094-91ca-21e5210ae7ef"
      },
      "outputs": [
        {
          "name": "stdout",
          "output_type": "stream",
          "text": [
            "True\n",
            "True\n",
            "False\n"
          ]
        }
      ],
      "source": [
        "print(brackets(\"(()())\"))\n",
        "# True\n",
        "print(brackets(\"\"))\n",
        "# True\n",
        "print(brackets(\"(()()))\"))\n",
        "# False"
      ]
    },
    {
      "cell_type": "markdown",
      "metadata": {
        "id": "w3KpTKe2djBE"
      },
      "source": [
        "\n",
        "\n",
        "---\n",
        "\n"
      ]
    },
    {
      "cell_type": "code",
      "execution_count": null,
      "metadata": {
        "id": "UQlRFioYdkLR"
      },
      "outputs": [],
      "source": [
        "# from hidden import north, center, south\n",
        "# # Пишите здесь команды, которые помогут\n",
        "# # найти ответы на вопросы\n",
        "# # print(north)\n",
        "# # print(center)\n",
        "# # print(south)\n",
        "\n",
        "# from collections import Counter\n",
        "\n",
        "# def flatten(l):\n",
        "#     return [item for sublist in l for item in sublist]\n",
        "\n",
        "# # print(len(flatten(north)))\n",
        "# # print(len(flatten(center)))\n",
        "# # print(len(flatten(south)))\n",
        "# # print(flatten(north))\n",
        "\n",
        "# c_north = Counter(flatten(north))\n",
        "# c_center = Counter(flatten(center))\n",
        "# c_south = Counter(flatten(south))\n",
        "\n",
        "# print(c_north)\n",
        "# print(c_center)\n",
        "# print(c_south)\n",
        "\n",
        "# print(c_north + c_center + c_south)\n",
        "\n",
        "# # from collections import OrderedDict\n",
        "# # ordered_c_north = sorted(c_north, key=lambda x: x[1])\n",
        "# # print(ordered_c_north)"
      ]
    },
    {
      "cell_type": "markdown",
      "metadata": {
        "id": "-ZoTzoN9eB6C"
      },
      "source": [
        "\n",
        "\n",
        "---\n",
        "\n"
      ]
    },
    {
      "cell_type": "code",
      "execution_count": null,
      "metadata": {
        "colab": {
          "base_uri": "https://localhost:8080/"
        },
        "id": "jeqU17mveDKJ",
        "outputId": "22e5846b-7dae-4642-ef1b-9425b00e94f0"
      },
      "outputs": [
        {
          "name": "stdout",
          "output_type": "stream",
          "text": [
            "OrderedDict([('WokAndRice', 4.9), ('WokToWork', 4.9), ('General Foods', 4.8), ('New Age', 4.6), ('Belissimo', 4.5), ('CakeAndCoffee', 4.2), ('CakeOClock', 4.2), ('CakeTime', 4.1), ('Nice Cakes', 3.9), ('Old Gold', 3.3), ('Old Wine Cellar', 3.3), ('Old York', 3.3)])\n"
          ]
        }
      ],
      "source": [
        "# ЗАДАНИЕ 4.9\n",
        "# Дан список кортежей ratings с рейтингами кафе. \n",
        "# Кортеж состоит из названия и рейтинга кафе.\n",
        "# Необходимо отсортировать список кортежей по убыванию рейтинга. \n",
        "# Если рейтинги совпадают, \n",
        "# то отсортировать кафе дополнительно по названию в алфавитном порядке.\n",
        "# Получите словарь cafes с упорядоченными ключами из отсортированного списка, \n",
        "# где ключи — названия кафе, а значения — их рейтинг.\n",
        "ratings = [('Old York', 3.3), ('New Age', 4.6), ('Old Gold', 3.3), ('General Foods', 4.8),\n",
        "           ('Belissimo', 4.5), ('CakeAndCoffee', 4.2), ('CakeOClock', 4.2), ('CakeTime', 4.1),\n",
        "           ('WokToWork', 4.9), ('WokAndRice', 4.9), ('Old Wine Cellar', 3.3), ('Nice Cakes', 3.9)]\n",
        "\n",
        "# Отсортируйте список ratings по убыванию рейтинга. Для кафе\n",
        "# с одинаковым рейтингом отсортируйте кортежи по названию.\n",
        "\n",
        "\n",
        "# Сохраните данные с рейтингом в словарь cafes, где ключами являются\n",
        "# названия кафе, а значениями - их рейтинг.\n",
        "from collections import OrderedDict\n",
        "cafes = OrderedDict(sorted(ratings, key=lambda x: (-x[1], x[0])))\n",
        "print(cafes)"
      ]
    },
    {
      "cell_type": "markdown",
      "metadata": {
        "id": "mKwjTEe3Ed6s"
      },
      "source": [
        "\n",
        "\n",
        "---\n",
        "\n"
      ]
    },
    {
      "cell_type": "code",
      "execution_count": null,
      "metadata": {
        "colab": {
          "base_uri": "https://localhost:8080/"
        },
        "id": "_0mp3fn9EfNi",
        "outputId": "e0e17aa1-0791-431e-f8b4-346c01532fa1"
      },
      "outputs": [
        {
          "name": "stdout",
          "output_type": "stream",
          "text": [
            "defaultdict(<class 'collections.deque'>, {'office': deque([36871, 40690, 33850]), 'voltage': deque([41667, 35364])})\n"
          ]
        }
      ],
      "source": [
        "# ЗАДАНИЕ 4.10\n",
        "# Напишите функцию task_manager, которая принимает список задач для нескольких серверов. \n",
        "# Каждый элемент списка состоит из кортежа \n",
        "# (<номер задачи>, <название сервера>, <высокий приоритет задачи>).\n",
        "\n",
        "# Функция должна создавать словарь и заполнять его задачами по следующему принципу: \n",
        "# название сервера — ключ, по которому хранится очередь задач для конкретного сервера. \n",
        "# Если поступает задача без высокого приоритета (последний элемент кортежа — False), \n",
        "# добавить номер задачи в конец очереди. Если приоритет высокий, добавить номер в начало.\n",
        "\n",
        "# Для словаря используйте defaultdict, для очереди — deque.\n",
        "\n",
        "# Функция возвращает полученный словарь с задачами.\n",
        "\n",
        "tasks1 = [(36871, 'office', False),\n",
        "(40690, 'office', False),\n",
        "(35364, 'voltage', False),\n",
        "(41667, 'voltage', True),\n",
        "(33850, 'office', False)]\n",
        "\n",
        "from collections import defaultdict\n",
        "from collections import deque\n",
        "\n",
        "def task_manager(tasks):\n",
        "    servers = defaultdict(deque)\n",
        "    for task, server, priority in tasks:\n",
        "        if priority:\n",
        "            servers[server].appendleft(task)\n",
        "        else:\n",
        "            servers[server].append(task)\n",
        "        \n",
        "    return servers\n",
        "\n",
        "\n",
        "print(task_manager(tasks1))"
      ]
    },
    {
      "cell_type": "markdown",
      "metadata": {
        "id": "KhHefV5Ziue4"
      },
      "source": [
        "\n",
        "\n",
        "---\n",
        "\n",
        "# 5. Модуль NumPy. Типы данных"
      ]
    },
    {
      "cell_type": "code",
      "execution_count": null,
      "metadata": {
        "colab": {
          "base_uri": "https://localhost:8080/"
        },
        "id": "Rmy7O7qBivi3",
        "outputId": "fa94683a-ca12-407f-8595-ae9776e60350"
      },
      "outputs": [
        {
          "data": {
            "text/plain": [
              "-32768.0"
            ]
          },
          "execution_count": 5,
          "metadata": {},
          "output_type": "execute_result"
        }
      ],
      "source": [
        "-(2**16)/2"
      ]
    },
    {
      "cell_type": "code",
      "execution_count": null,
      "metadata": {
        "colab": {
          "base_uri": "https://localhost:8080/"
        },
        "id": "YGYWztGKjBFv",
        "outputId": "93e8c2d4-8742-4e8f-c181-2f7ba331a371"
      },
      "outputs": [
        {
          "data": {
            "text/plain": [
              "32767.0"
            ]
          },
          "execution_count": 6,
          "metadata": {},
          "output_type": "execute_result"
        }
      ],
      "source": [
        "(2**16)/2 - 1"
      ]
    },
    {
      "cell_type": "code",
      "execution_count": null,
      "metadata": {
        "colab": {
          "base_uri": "https://localhost:8080/"
        },
        "id": "GqKmmpY9kB9w",
        "outputId": "59306e57-75e5-4352-fa65-19db07d98527"
      },
      "outputs": [
        {
          "name": "stdout",
          "output_type": "stream",
          "text": [
            "25\n"
          ]
        }
      ],
      "source": [
        "import numpy as np\n",
        "a = np.int8(25)\n",
        "print(a)\n",
        "# 25"
      ]
    },
    {
      "cell_type": "code",
      "execution_count": null,
      "metadata": {
        "colab": {
          "base_uri": "https://localhost:8080/"
        },
        "id": "mVuVOvzOkD7B",
        "outputId": "54b47f31-559b-46dd-81fd-6df3a79490dc"
      },
      "outputs": [
        {
          "name": "stdout",
          "output_type": "stream",
          "text": [
            "<class 'numpy.int8'>\n"
          ]
        }
      ],
      "source": [
        "print(type(a))\n",
        "# <class 'numpy.int8'>"
      ]
    },
    {
      "cell_type": "code",
      "execution_count": null,
      "metadata": {
        "colab": {
          "base_uri": "https://localhost:8080/"
        },
        "id": "5R3ANTOpkMcH",
        "outputId": "c6e90854-bff0-44e0-a77a-1c9226ac0837"
      },
      "outputs": [
        {
          "data": {
            "text/plain": [
              "iinfo(min=-128, max=127, dtype=int8)"
            ]
          },
          "execution_count": 10,
          "metadata": {},
          "output_type": "execute_result"
        }
      ],
      "source": [
        "# Можно применить к самому\n",
        "# названию типа данных\n",
        "np.iinfo(np.int8)\n",
        "# iinfo(min=-128, max=127, dtype=int8)"
      ]
    },
    {
      "cell_type": "code",
      "execution_count": null,
      "metadata": {
        "colab": {
          "base_uri": "https://localhost:8080/"
        },
        "id": "j3khueLpkTLA",
        "outputId": "6396d173-ffc3-4f0c-861b-2b8733de5a82"
      },
      "outputs": [
        {
          "data": {
            "text/plain": [
              "iinfo(min=-128, max=127, dtype=int8)"
            ]
          },
          "execution_count": 11,
          "metadata": {},
          "output_type": "execute_result"
        }
      ],
      "source": [
        "# Можно применить к существующему\n",
        "# конкретному объекту\n",
        "np.iinfo(a)\n",
        "# iinfo(min=-128, max=127, dtype=int8)"
      ]
    },
    {
      "cell_type": "code",
      "execution_count": null,
      "metadata": {
        "colab": {
          "base_uri": "https://localhost:8080/"
        },
        "id": "ydsWe8TOkotI",
        "outputId": "65c6dab0-545a-4255-9b26-eee516464af9"
      },
      "outputs": [
        {
          "data": {
            "text/plain": [
              "iinfo(min=-32768, max=32767, dtype=int16)"
            ]
          },
          "execution_count": 12,
          "metadata": {},
          "output_type": "execute_result"
        }
      ],
      "source": [
        "np.iinfo(np.int16)"
      ]
    },
    {
      "cell_type": "code",
      "execution_count": null,
      "metadata": {
        "colab": {
          "base_uri": "https://localhost:8080/"
        },
        "id": "CTx8wNXakrso",
        "outputId": "f47bcb05-5d30-40a9-ae5c-b8aa9a02778d"
      },
      "outputs": [
        {
          "data": {
            "text/plain": [
              "iinfo(min=-2147483648, max=2147483647, dtype=int32)"
            ]
          },
          "execution_count": 13,
          "metadata": {},
          "output_type": "execute_result"
        }
      ],
      "source": [
        "np.iinfo(np.int32)"
      ]
    },
    {
      "cell_type": "code",
      "execution_count": null,
      "metadata": {
        "colab": {
          "base_uri": "https://localhost:8080/"
        },
        "id": "zwg8Q23Vk28_",
        "outputId": "a158a939-b268-45eb-cc10-d11961a0b5e5"
      },
      "outputs": [
        {
          "data": {
            "text/plain": [
              "iinfo(min=-9223372036854775808, max=9223372036854775807, dtype=int64)"
            ]
          },
          "execution_count": 14,
          "metadata": {},
          "output_type": "execute_result"
        }
      ],
      "source": [
        "np.iinfo(np.int64)"
      ]
    },
    {
      "cell_type": "markdown",
      "metadata": {
        "id": "P5CWRF9Wlani"
      },
      "source": [
        "\n",
        "\n",
        "---\n",
        "\n"
      ]
    },
    {
      "cell_type": "code",
      "execution_count": null,
      "metadata": {
        "colab": {
          "base_uri": "https://localhost:8080/"
        },
        "id": "Yk1HbZp-leIm",
        "outputId": "78fdc76b-2801-4741-88d6-d1784fe7077c"
      },
      "outputs": [
        {
          "name": "stdout",
          "output_type": "stream",
          "text": [
            "124\n",
            "<class 'numpy.uint8'>\n"
          ]
        },
        {
          "data": {
            "text/plain": [
              "iinfo(min=0, max=255, dtype=uint8)"
            ]
          },
          "execution_count": 15,
          "metadata": {},
          "output_type": "execute_result"
        }
      ],
      "source": [
        "b = np.uint8(124)\n",
        "print(b)\n",
        "# 124\n",
        "print(type(b))\n",
        "# <class 'numpy.uint8'>\n",
        "np.iinfo(b)\n",
        "# iinfo(min=0, max=255, dtype=uint8)"
      ]
    },
    {
      "cell_type": "code",
      "execution_count": null,
      "metadata": {
        "colab": {
          "base_uri": "https://localhost:8080/"
        },
        "id": "02qZpIdhlo5x",
        "outputId": "643b79f1-749b-4d0d-83de-0180a274baa0"
      },
      "outputs": [
        {
          "name": "stdout",
          "output_type": "stream",
          "text": [
            "124\n",
            "<class 'numpy.int8'>\n"
          ]
        },
        {
          "data": {
            "text/plain": [
              "iinfo(min=-128, max=127, dtype=int8)"
            ]
          },
          "execution_count": 18,
          "metadata": {},
          "output_type": "execute_result"
        }
      ],
      "source": [
        "c = np.int8(124)\n",
        "print(c)\n",
        "print(type(c))\n",
        "np.iinfo(c)"
      ]
    },
    {
      "cell_type": "code",
      "execution_count": null,
      "metadata": {
        "colab": {
          "base_uri": "https://localhost:8080/"
        },
        "id": "RUEFvhRDmsFA",
        "outputId": "7e5a4b5b-8cb0-4375-a2d4-5d3321db81de"
      },
      "outputs": [
        {
          "name": "stdout",
          "output_type": "stream",
          "text": [
            "1000\n",
            "<class 'numpy.int32'>\n",
            "2056\n",
            "<class 'int'>\n"
          ]
        }
      ],
      "source": [
        "a = np.int32(1000)\n",
        "print(a)\n",
        "# 1000\n",
        "print(type(a))\n",
        "# <class 'numpy.int32'>\n",
        "a = 2056\n",
        "print(a)\n",
        "# 2056\n",
        "print(type(a))\n",
        "# <class 'int'>"
      ]
    },
    {
      "cell_type": "code",
      "execution_count": null,
      "metadata": {
        "colab": {
          "base_uri": "https://localhost:8080/"
        },
        "id": "3dNVjRopm73o",
        "outputId": "186d1818-8e0f-4f97-d026-6d188d62c73d"
      },
      "outputs": [
        {
          "name": "stdout",
          "output_type": "stream",
          "text": [
            "1000\n",
            "<class 'numpy.int32'>\n",
            "2056\n",
            "<class 'numpy.int32'>\n"
          ]
        }
      ],
      "source": [
        "a = np.int32(1000)\n",
        "print(a)\n",
        "# 1000\n",
        "print(type(a))\n",
        "# <class 'numpy.int32'>\n",
        "a = np.int32(2056)\n",
        "print(a)\n",
        "# 2056\n",
        "print(type(a))\n",
        "# <class 'numpy.int32'>"
      ]
    },
    {
      "cell_type": "code",
      "execution_count": null,
      "metadata": {
        "colab": {
          "base_uri": "https://localhost:8080/"
        },
        "id": "lq955fVSnFLo",
        "outputId": "72f0398b-e7bb-4877-aef6-bce09fb1a2b1"
      },
      "outputs": [
        {
          "name": "stdout",
          "output_type": "stream",
          "text": [
            "1025\n",
            "<class 'numpy.int64'>\n"
          ]
        }
      ],
      "source": [
        "a = np.int32(1000)\n",
        "b = a + 25\n",
        "print(b)\n",
        "# 1025\n",
        "print(type(b))\n",
        "# <class 'numpy.int64'>"
      ]
    },
    {
      "cell_type": "code",
      "execution_count": null,
      "metadata": {
        "colab": {
          "base_uri": "https://localhost:8080/"
        },
        "id": "IWyW8AQFngeP",
        "outputId": "8711fc12-0c73-4207-c50f-bfdfbe8095c6"
      },
      "outputs": [
        {
          "name": "stdout",
          "output_type": "stream",
          "text": [
            "1025\n",
            "<class 'numpy.int32'>\n"
          ]
        }
      ],
      "source": [
        "a = np.int32(1000)\n",
        "b = np.int8(25)\n",
        "c = a + b\n",
        "print(c)\n",
        "# 1025\n",
        "print(type(c))\n",
        "# <class 'numpy.int32'>"
      ]
    },
    {
      "cell_type": "code",
      "execution_count": null,
      "metadata": {
        "colab": {
          "base_uri": "https://localhost:8080/"
        },
        "id": "us9E_fQCn994",
        "outputId": "8153cd8d-ae2d-4e68-d2a7-d64f6269f89d"
      },
      "outputs": [
        {
          "name": "stdout",
          "output_type": "stream",
          "text": [
            "4\n"
          ]
        }
      ],
      "source": [
        "a = np.int8(260)\n",
        "print(a)\n",
        "# 4"
      ]
    },
    {
      "cell_type": "code",
      "execution_count": null,
      "metadata": {
        "colab": {
          "base_uri": "https://localhost:8080/"
        },
        "id": "0sPH4R8Eogfx",
        "outputId": "a7460447-e352-41c4-f19e-7022001dbcf2"
      },
      "outputs": [
        {
          "name": "stdout",
          "output_type": "stream",
          "text": [
            "2147483610 2147483605\n",
            "-81\n"
          ]
        },
        {
          "name": "stderr",
          "output_type": "stream",
          "text": [
            "/usr/local/lib/python3.7/dist-packages/ipykernel_launcher.py:5: RuntimeWarning: overflow encountered in int_scalars\n",
            "  \"\"\"\n"
          ]
        }
      ],
      "source": [
        "a = np.int32(2147483610)\n",
        "b = np.int32(2147483605)\n",
        "print(a, b)\n",
        "# 2147483610 2147483605\n",
        "print(a + b)\n",
        "# -81\n",
        "# RuntimeWarning: overflow encountered in int_scalars\n",
        "# Переполнено int'овое значение"
      ]
    },
    {
      "cell_type": "code",
      "execution_count": null,
      "metadata": {
        "colab": {
          "base_uri": "https://localhost:8080/"
        },
        "id": "d_ohOQD9osu_",
        "outputId": "4e0553c3-09b9-4c9c-bc62-d758f25837e9"
      },
      "outputs": [
        {
          "name": "stdout",
          "output_type": "stream",
          "text": [
            "2147483610 2147483605\n",
            "4294967215\n"
          ]
        }
      ],
      "source": [
        "a = np.int32(2147483610)\n",
        "b = np.int32(2147483605)\n",
        "print(a, b)\n",
        "# 2147483610 2147483605\n",
        "print(np.int64(a) + np.int64(b))\n",
        "# 4294967215"
      ]
    },
    {
      "cell_type": "code",
      "execution_count": null,
      "metadata": {
        "colab": {
          "base_uri": "https://localhost:8080/"
        },
        "id": "oevIpKcNpElf",
        "outputId": "5068cb48-9ab9-4ed8-e6f7-364f96439383"
      },
      "outputs": [
        {
          "data": {
            "text/plain": [
              "finfo(resolution=0.001, min=-6.55040e+04, max=6.55040e+04, dtype=float16)"
            ]
          },
          "execution_count": 27,
          "metadata": {},
          "output_type": "execute_result"
        }
      ],
      "source": [
        "np.finfo(np.float16)\n",
        "# finfo(resolution=0.001, min=-6.55040e+04, max=6.55040e+04, dtype=float16)"
      ]
    },
    {
      "cell_type": "code",
      "execution_count": null,
      "metadata": {
        "colab": {
          "base_uri": "https://localhost:8080/"
        },
        "id": "gEJTeE6rpP5X",
        "outputId": "5e1cfb87-302a-4530-9aa5-f920abe44326"
      },
      "outputs": [
        {
          "data": {
            "text/plain": [
              "finfo(resolution=1e-06, min=-3.4028235e+38, max=3.4028235e+38, dtype=float32)"
            ]
          },
          "execution_count": 28,
          "metadata": {},
          "output_type": "execute_result"
        }
      ],
      "source": [
        "np.finfo(np.float32)\n",
        "# finfo(resolution=1e-06, min=-3.4028235e+38, max=3.4028235e+38, dtype=float32)"
      ]
    },
    {
      "cell_type": "code",
      "execution_count": null,
      "metadata": {
        "colab": {
          "base_uri": "https://localhost:8080/"
        },
        "id": "Y-aQwwo9pS-z",
        "outputId": "1cabe690-f51f-4fc4-b7f0-9e181eea7c57"
      },
      "outputs": [
        {
          "data": {
            "text/plain": [
              "finfo(resolution=1e-15, min=-1.7976931348623157e+308, max=1.7976931348623157e+308, dtype=float64)"
            ]
          },
          "execution_count": 29,
          "metadata": {},
          "output_type": "execute_result"
        }
      ],
      "source": [
        "np.finfo(np.float64)\n",
        "# finfo(resolution=1e-15, min=-1.7976931348623157e+308, max=1.7976931348623157e+308, dtype=float64)"
      ]
    },
    {
      "cell_type": "code",
      "execution_count": null,
      "metadata": {
        "colab": {
          "base_uri": "https://localhost:8080/"
        },
        "id": "5bXw3QVbpVdP",
        "outputId": "f75a48d2-f9a1-4de7-a6a8-875834135a1e"
      },
      "outputs": [
        {
          "data": {
            "text/plain": [
              "finfo(resolution=1e-18, min=-1.189731495357231765e+4932, max=1.189731495357231765e+4932, dtype=float128)"
            ]
          },
          "execution_count": 30,
          "metadata": {},
          "output_type": "execute_result"
        }
      ],
      "source": [
        "np.finfo(np.float128)\n",
        "# finfo(resolution=1e-18, min=-1.189731495357231765e+4932, max=1.189731495357231765e+4932, dtype=float128)"
      ]
    },
    {
      "cell_type": "code",
      "execution_count": null,
      "metadata": {
        "colab": {
          "base_uri": "https://localhost:8080/"
        },
        "id": "tG0MnJpernp_",
        "outputId": "bff8e03f-a890-431e-80b1-e961e7392b85"
      },
      "outputs": [
        {
          "name": "stdout",
          "output_type": "stream",
          "text": [
            "4.12\n",
            "4.13\n",
            "4.12\n",
            "4.125\n",
            "4.125\n"
          ]
        }
      ],
      "source": [
        "print(np.float16(4.12))\n",
        "# 4.12\n",
        "print(np.float16(4.13))\n",
        "# 4.13\n",
        "print(np.float16(4.123))\n",
        "# 4.12\n",
        "print(np.float16(4.124))\n",
        "# 4.125\n",
        "print(np.float16(4.125))\n",
        "# 4.125"
      ]
    },
    {
      "cell_type": "code",
      "execution_count": null,
      "metadata": {
        "colab": {
          "base_uri": "https://localhost:8080/"
        },
        "id": "SaA9FaFrr4I_",
        "outputId": "9a149bf7-3331-4045-da88-686979179afa"
      },
      "outputs": [
        {
          "name": "stdout",
          "output_type": "stream",
          "text": [
            "{'?': <class 'numpy.bool_'>, 0: <class 'numpy.bool_'>, 'byte': <class 'numpy.int8'>, 'b': <class 'numpy.int8'>, 1: <class 'numpy.int8'>, 'ubyte': <class 'numpy.uint8'>, 'B': <class 'numpy.uint8'>, 2: <class 'numpy.uint8'>, 'short': <class 'numpy.int16'>, 'h': <class 'numpy.int16'>, 3: <class 'numpy.int16'>, 'ushort': <class 'numpy.uint16'>, 'H': <class 'numpy.uint16'>, 4: <class 'numpy.uint16'>, 'i': <class 'numpy.int32'>, 5: <class 'numpy.int32'>, 'uint': <class 'numpy.uint64'>, 'I': <class 'numpy.uint32'>, 6: <class 'numpy.uint32'>, 'intp': <class 'numpy.int64'>, 'p': <class 'numpy.int64'>, 7: <class 'numpy.int64'>, 'uintp': <class 'numpy.uint64'>, 'P': <class 'numpy.uint64'>, 8: <class 'numpy.uint64'>, 'long': <class 'numpy.int64'>, 'l': <class 'numpy.int64'>, 'L': <class 'numpy.uint64'>, 'longlong': <class 'numpy.longlong'>, 'q': <class 'numpy.longlong'>, 9: <class 'numpy.longlong'>, 'ulonglong': <class 'numpy.ulonglong'>, 'Q': <class 'numpy.ulonglong'>, 10: <class 'numpy.ulonglong'>, 'half': <class 'numpy.float16'>, 'e': <class 'numpy.float16'>, 23: <class 'numpy.float16'>, 'f': <class 'numpy.float32'>, 11: <class 'numpy.float32'>, 'double': <class 'numpy.float64'>, 'd': <class 'numpy.float64'>, 12: <class 'numpy.float64'>, 'longdouble': <class 'numpy.float128'>, 'g': <class 'numpy.float128'>, 13: <class 'numpy.float128'>, 'cfloat': <class 'numpy.complex128'>, 'F': <class 'numpy.complex64'>, 14: <class 'numpy.complex64'>, 'cdouble': <class 'numpy.complex128'>, 'D': <class 'numpy.complex128'>, 15: <class 'numpy.complex128'>, 'clongdouble': <class 'numpy.complex256'>, 'G': <class 'numpy.complex256'>, 16: <class 'numpy.complex256'>, 'O': <class 'numpy.object_'>, 17: <class 'numpy.object_'>, 'S': <class 'numpy.bytes_'>, 18: <class 'numpy.bytes_'>, 'unicode': <class 'numpy.str_'>, 'U': <class 'numpy.str_'>, 19: <class 'numpy.str_'>, 'void': <class 'numpy.void'>, 'V': <class 'numpy.void'>, 20: <class 'numpy.void'>, 'M': <class 'numpy.datetime64'>, 21: <class 'numpy.datetime64'>, 'm': <class 'numpy.timedelta64'>, 22: <class 'numpy.timedelta64'>, 'bool8': <class 'numpy.bool_'>, 'b1': <class 'numpy.bool_'>, 'int64': <class 'numpy.int64'>, 'i8': <class 'numpy.int64'>, 'uint64': <class 'numpy.uint64'>, 'u8': <class 'numpy.uint64'>, 'float16': <class 'numpy.float16'>, 'f2': <class 'numpy.float16'>, 'float32': <class 'numpy.float32'>, 'f4': <class 'numpy.float32'>, 'float64': <class 'numpy.float64'>, 'f8': <class 'numpy.float64'>, 'float128': <class 'numpy.float128'>, 'f16': <class 'numpy.float128'>, 'complex64': <class 'numpy.complex64'>, 'c8': <class 'numpy.complex64'>, 'complex128': <class 'numpy.complex128'>, 'c16': <class 'numpy.complex128'>, 'complex256': <class 'numpy.complex256'>, 'c32': <class 'numpy.complex256'>, 'object0': <class 'numpy.object_'>, 'bytes0': <class 'numpy.bytes_'>, 'str0': <class 'numpy.str_'>, 'void0': <class 'numpy.void'>, 'datetime64': <class 'numpy.datetime64'>, 'M8': <class 'numpy.datetime64'>, 'timedelta64': <class 'numpy.timedelta64'>, 'm8': <class 'numpy.timedelta64'>, 'Bytes0': <class 'numpy.bytes_'>, 'Datetime64': <class 'numpy.datetime64'>, 'Str0': <class 'numpy.str_'>, 'Uint64': <class 'numpy.uint64'>, 'int32': <class 'numpy.int32'>, 'i4': <class 'numpy.int32'>, 'uint32': <class 'numpy.uint32'>, 'u4': <class 'numpy.uint32'>, 'int16': <class 'numpy.int16'>, 'i2': <class 'numpy.int16'>, 'uint16': <class 'numpy.uint16'>, 'u2': <class 'numpy.uint16'>, 'int8': <class 'numpy.int8'>, 'i1': <class 'numpy.int8'>, 'uint8': <class 'numpy.uint8'>, 'u1': <class 'numpy.uint8'>, 'complex_': <class 'numpy.complex128'>, 'int0': <class 'numpy.int64'>, 'uint0': <class 'numpy.uint64'>, 'single': <class 'numpy.float32'>, 'csingle': <class 'numpy.complex64'>, 'singlecomplex': <class 'numpy.complex64'>, 'float_': <class 'numpy.float64'>, 'intc': <class 'numpy.int32'>, 'uintc': <class 'numpy.uint32'>, 'int_': <class 'numpy.int64'>, 'longfloat': <class 'numpy.float128'>, 'clongfloat': <class 'numpy.complex256'>, 'longcomplex': <class 'numpy.complex256'>, 'bool_': <class 'numpy.bool_'>, 'bytes_': <class 'numpy.bytes_'>, 'string_': <class 'numpy.bytes_'>, 'str_': <class 'numpy.str_'>, 'unicode_': <class 'numpy.str_'>, 'object_': <class 'numpy.object_'>, 'int': <class 'numpy.int64'>, 'float': <class 'numpy.float64'>, 'complex': <class 'numpy.complex128'>, 'bool': <class 'numpy.bool_'>, 'object': <class 'numpy.object_'>, 'str': <class 'numpy.str_'>, 'bytes': <class 'numpy.bytes_'>, 'a': <class 'numpy.bytes_'>}\n",
            "139\n"
          ]
        }
      ],
      "source": [
        "print(np.sctypeDict)\n",
        "print(len(np.sctypeDict))\n",
        "# 158, но может быть 135 или 139"
      ]
    },
    {
      "cell_type": "code",
      "execution_count": null,
      "metadata": {
        "colab": {
          "base_uri": "https://localhost:8080/"
        },
        "id": "vIpbSktusDab",
        "outputId": "3155fd03-6817-42b0-9122-021ee4befdc8"
      },
      "outputs": [
        {
          "name": "stdout",
          "output_type": "stream",
          "text": [
            "<class 'numpy.bool_'>\n",
            "<class 'numpy.bytes_'>\n",
            "<class 'numpy.complex128'>\n",
            "<class 'numpy.complex256'>\n",
            "<class 'numpy.complex64'>\n",
            "<class 'numpy.datetime64'>\n",
            "<class 'numpy.float128'>\n",
            "<class 'numpy.float16'>\n",
            "<class 'numpy.float32'>\n",
            "<class 'numpy.float64'>\n",
            "<class 'numpy.int16'>\n",
            "<class 'numpy.int32'>\n",
            "<class 'numpy.int64'>\n",
            "<class 'numpy.int8'>\n",
            "<class 'numpy.longlong'>\n",
            "<class 'numpy.object_'>\n",
            "<class 'numpy.str_'>\n",
            "<class 'numpy.timedelta64'>\n",
            "<class 'numpy.uint16'>\n",
            "<class 'numpy.uint32'>\n",
            "<class 'numpy.uint64'>\n",
            "<class 'numpy.uint8'>\n",
            "<class 'numpy.ulonglong'>\n",
            "<class 'numpy.void'>\n"
          ]
        }
      ],
      "source": [
        "print(*sorted(map(str, set(np.sctypeDict.values()))), sep='\\n')"
      ]
    },
    {
      "cell_type": "code",
      "execution_count": null,
      "metadata": {
        "colab": {
          "base_uri": "https://localhost:8080/"
        },
        "id": "4ZTiPNUetVAQ",
        "outputId": "780b55c3-8c89-4598-e789-e7bede2fee01"
      },
      "outputs": [
        {
          "name": "stdout",
          "output_type": "stream",
          "text": [
            "<class 'bool'>\n",
            "<class 'bool'>\n",
            "<class 'numpy.bool_'>\n",
            "True\n",
            "False\n"
          ]
        },
        {
          "name": "stderr",
          "output_type": "stream",
          "text": [
            "/usr/local/lib/python3.7/dist-packages/ipykernel_launcher.py:4: DeprecationWarning: `np.bool` is a deprecated alias for the builtin `bool`. To silence this warning, use `bool` by itself. Doing this will not modify any behavior and is safe. If you specifically wanted the numpy scalar type, use `np.bool_` here.\n",
            "Deprecated in NumPy 1.20; for more details and guidance: https://numpy.org/devdocs/release/1.20.0-notes.html#deprecations\n",
            "  after removing the cwd from sys.path.\n",
            "/usr/local/lib/python3.7/dist-packages/ipykernel_launcher.py:12: DeprecationWarning: `np.bool` is a deprecated alias for the builtin `bool`. To silence this warning, use `bool` by itself. Doing this will not modify any behavior and is safe. If you specifically wanted the numpy scalar type, use `np.bool_` here.\n",
            "Deprecated in NumPy 1.20; for more details and guidance: https://numpy.org/devdocs/release/1.20.0-notes.html#deprecations\n",
            "  if sys.path[0] == '':\n",
            "/usr/local/lib/python3.7/dist-packages/ipykernel_launcher.py:15: DeprecationWarning: `np.bool` is a deprecated alias for the builtin `bool`. To silence this warning, use `bool` by itself. Doing this will not modify any behavior and is safe. If you specifically wanted the numpy scalar type, use `np.bool_` here.\n",
            "Deprecated in NumPy 1.20; for more details and guidance: https://numpy.org/devdocs/release/1.20.0-notes.html#deprecations\n",
            "  from ipykernel import kernelapp as app\n"
          ]
        }
      ],
      "source": [
        "a = True\n",
        "print(type(a))\n",
        "# <class 'bool'>\n",
        "a = np.bool(a)\n",
        "print(type(a))\n",
        "# <class 'bool'>\n",
        "a = np.bool_(a)\n",
        "print(type(a))\n",
        "# <class 'numpy.bool_'>\n",
        " \n",
        "# Значения равны\n",
        "print(np.bool(True) == np.bool_(True))\n",
        "# True\n",
        "# А типы — нет:\n",
        "print(type(np.bool(True)) == type(np.bool_(True)))\n",
        "# False"
      ]
    },
    {
      "cell_type": "code",
      "execution_count": null,
      "metadata": {
        "colab": {
          "base_uri": "https://localhost:8080/"
        },
        "id": "55-tEtb4tgrv",
        "outputId": "22593740-06be-4214-ed8b-1f09f831ffc3"
      },
      "outputs": [
        {
          "name": "stdout",
          "output_type": "stream",
          "text": [
            "<class 'str'>\n",
            "<class 'str'>\n",
            "<class 'numpy.str_'>\n"
          ]
        },
        {
          "name": "stderr",
          "output_type": "stream",
          "text": [
            "/usr/local/lib/python3.7/dist-packages/ipykernel_launcher.py:4: DeprecationWarning: `np.str` is a deprecated alias for the builtin `str`. To silence this warning, use `str` by itself. Doing this will not modify any behavior and is safe. If you specifically wanted the numpy scalar type, use `np.str_` here.\n",
            "Deprecated in NumPy 1.20; for more details and guidance: https://numpy.org/devdocs/release/1.20.0-notes.html#deprecations\n",
            "  after removing the cwd from sys.path.\n"
          ]
        }
      ],
      "source": [
        "a = \"Hello world!\"\n",
        "print(type(a))\n",
        "# <class 'str'>\n",
        "a = np.str(a)\n",
        "print(type(a))\n",
        "# <class 'str'>\n",
        "a = np.str_(a)\n",
        "print(type(a))\n",
        "# <class 'numpy.str_'>"
      ]
    },
    {
      "cell_type": "code",
      "execution_count": null,
      "metadata": {
        "colab": {
          "base_uri": "https://localhost:8080/"
        },
        "id": "kpe8JMusvzkn",
        "outputId": "d0e84eb8-1a54-4b7d-b286-586f17a37ad7"
      },
      "outputs": [
        {
          "name": "stdout",
          "output_type": "stream",
          "text": [
            "56\n"
          ]
        }
      ],
      "source": [
        "b = np.uint8(-456)\n",
        "print(b)"
      ]
    },
    {
      "cell_type": "markdown",
      "metadata": {
        "id": "bLDCZUfwP3fp"
      },
      "source": [
        "\n",
        "\n",
        "---\n",
        "\n",
        "# 6. Модуль NumPy. Массивы"
      ]
    },
    {
      "cell_type": "code",
      "execution_count": null,
      "metadata": {
        "colab": {
          "base_uri": "https://localhost:8080/"
        },
        "id": "iNHrRWtYP8K2",
        "outputId": "e9ef8ad7-cde7-430e-feb9-da89f5336572"
      },
      "outputs": [
        {
          "data": {
            "text/plain": [
              "array([ 1,  5,  2,  9, 10])"
            ]
          },
          "execution_count": 1,
          "metadata": {},
          "output_type": "execute_result"
        }
      ],
      "source": [
        "import numpy as np\n",
        "arr = np.array([1,5,2,9,10])\n",
        "arr\n",
        "# array([ 1,  5,  2,  9, 10])"
      ]
    },
    {
      "cell_type": "code",
      "execution_count": null,
      "metadata": {
        "colab": {
          "base_uri": "https://localhost:8080/"
        },
        "id": "dkLYU33nQGhG",
        "outputId": "42810fa1-8c89-4a02-95cc-718cd5c0318d"
      },
      "outputs": [
        {
          "name": "stdout",
          "output_type": "stream",
          "text": [
            "<class 'numpy.ndarray'>\n"
          ]
        }
      ],
      "source": [
        "print(type(arr))\n",
        "# <class 'numpy.ndarray'>"
      ]
    },
    {
      "cell_type": "code",
      "execution_count": null,
      "metadata": {
        "colab": {
          "base_uri": "https://localhost:8080/"
        },
        "id": "Pn9ArOpQQjo2",
        "outputId": "74c7f2f7-db6a-47ca-c1b6-edad0589c988"
      },
      "outputs": [
        {
          "data": {
            "text/plain": [
              "array([[12, 45, 78],\n",
              "       [34, 56, 13],\n",
              "       [12, 98, 76]])"
            ]
          },
          "execution_count": 3,
          "metadata": {},
          "output_type": "execute_result"
        }
      ],
      "source": [
        "# Перечислить список из списков можно\n",
        "# было и в одну строку, но на нескольких\n",
        "# строках получается нагляднее\n",
        "nd_arr = np.array([\n",
        "               [12, 45, 78],\n",
        "               [34, 56, 13],\n",
        "               [12, 98, 76]\n",
        "               ])\n",
        "nd_arr\n",
        "# array([[12, 45, 78],\n",
        "#        [34, 56, 13],\n",
        "#        [12, 98, 76]])"
      ]
    },
    {
      "cell_type": "code",
      "execution_count": null,
      "metadata": {
        "colab": {
          "base_uri": "https://localhost:8080/"
        },
        "id": "kU3iqJ8kQ2Lm",
        "outputId": "27b38599-9a62-4ad6-f9ae-f80d0fbf1c50"
      },
      "outputs": [
        {
          "data": {
            "text/plain": [
              "dtype('int64')"
            ]
          },
          "execution_count": 4,
          "metadata": {},
          "output_type": "execute_result"
        }
      ],
      "source": [
        "arr = np.array([1,5,2,9,10])\n",
        "arr.dtype\n",
        "# dtype('int64')"
      ]
    },
    {
      "cell_type": "code",
      "execution_count": null,
      "metadata": {
        "colab": {
          "base_uri": "https://localhost:8080/"
        },
        "id": "t3TKlwE4RjLW",
        "outputId": "dc974455-5068-40c9-9d00-5b9f185ee643"
      },
      "outputs": [
        {
          "data": {
            "text/plain": [
              "array([ 1,  5,  2,  9, 10], dtype=int8)"
            ]
          },
          "execution_count": 5,
          "metadata": {},
          "output_type": "execute_result"
        }
      ],
      "source": [
        "arr = np.array([1,5,2,9,10], dtype=np.int8)\n",
        "arr\n",
        "# array([ 1,  5,  2,  9, 10], dtype=int8)"
      ]
    },
    {
      "cell_type": "code",
      "execution_count": null,
      "metadata": {
        "colab": {
          "base_uri": "https://localhost:8080/"
        },
        "id": "TRLaEyQsRwiM",
        "outputId": "da3692c8-7910-4335-bf93-3a8199e39630"
      },
      "outputs": [
        {
          "data": {
            "text/plain": [
              "array([  1,   5, -48,   9,  10], dtype=int8)"
            ]
          },
          "execution_count": 6,
          "metadata": {},
          "output_type": "execute_result"
        }
      ],
      "source": [
        "arr[2] = 2000\n",
        "arr\n",
        "# array([  1,   5, -48,   9,  10], dtype=int8)"
      ]
    },
    {
      "cell_type": "code",
      "execution_count": null,
      "metadata": {
        "colab": {
          "base_uri": "https://localhost:8080/"
        },
        "id": "Ml7-hI2kR-6e",
        "outputId": "2f206df2-7744-46b0-e005-48930d6cf9ad"
      },
      "outputs": [
        {
          "data": {
            "text/plain": [
              "array([  1,   5, 125,   9,  10], dtype=int8)"
            ]
          },
          "execution_count": 7,
          "metadata": {},
          "output_type": "execute_result"
        }
      ],
      "source": [
        "arr[2] = 125.5\n",
        "arr\n",
        "# array([  1,   5, 125,   9,  10], dtype=int8)"
      ]
    },
    {
      "cell_type": "code",
      "execution_count": null,
      "metadata": {
        "colab": {
          "base_uri": "https://localhost:8080/"
        },
        "id": "NyNAxlkjSJEp",
        "outputId": "dfc5ee05-42c7-4094-a830-781055e688ec"
      },
      "outputs": [
        {
          "data": {
            "text/plain": [
              "array([ 1,  5, 12,  9, 10], dtype=int8)"
            ]
          },
          "execution_count": 8,
          "metadata": {},
          "output_type": "execute_result"
        }
      ],
      "source": [
        "arr[2] = '12'\n",
        "arr\n",
        "# array([ 1,  5, 12,  9, 10], dtype=int8)"
      ]
    },
    {
      "cell_type": "code",
      "execution_count": null,
      "metadata": {
        "id": "v053IDv8SP4u"
      },
      "outputs": [],
      "source": [
        "arr[2] = 'test'\n",
        "# ValueError: invalid literal for int() with base 10: 'test'"
      ]
    },
    {
      "cell_type": "code",
      "execution_count": null,
      "metadata": {
        "colab": {
          "base_uri": "https://localhost:8080/"
        },
        "id": "PMMbdDY4Scf-",
        "outputId": "abe81709-a670-48e0-bead-47b87efc4670"
      },
      "outputs": [
        {
          "data": {
            "text/plain": [
              "array([ 1.,  5., 12.,  9., 10.], dtype=float128)"
            ]
          },
          "execution_count": 10,
          "metadata": {},
          "output_type": "execute_result"
        }
      ],
      "source": [
        "arr = np.float128(arr)\n",
        "arr\n",
        "# array([ 1.,  5., 12.,  9., 10.], dtype=float128)"
      ]
    },
    {
      "cell_type": "code",
      "execution_count": null,
      "metadata": {
        "colab": {
          "base_uri": "https://localhost:8080/"
        },
        "id": "kpmCBlETSrcO",
        "outputId": "6e345ebf-868f-4906-ca86-e99e2f65541b"
      },
      "outputs": [
        {
          "data": {
            "text/plain": [
              "array([12321, -1234,  3435,  -214,   100], dtype=int32)"
            ]
          },
          "execution_count": 12,
          "metadata": {},
          "output_type": "execute_result"
        }
      ],
      "source": [
        "arr = np.array([12321, -1234, 3435, -214, 100], dtype=np.int32)\n",
        "arr\n",
        "# array([12321, -1234,  3435,  -214,   100], dtype=int32)"
      ]
    },
    {
      "cell_type": "code",
      "execution_count": null,
      "metadata": {
        "colab": {
          "base_uri": "https://localhost:8080/"
        },
        "id": "FHRsfdjJSvGv",
        "outputId": "6faf321b-01d0-45aa-93ec-72154515b5ed"
      },
      "outputs": [
        {
          "data": {
            "text/plain": [
              "array([ 33,  46, 107,  42, 100], dtype=uint8)"
            ]
          },
          "execution_count": 13,
          "metadata": {},
          "output_type": "execute_result"
        }
      ],
      "source": [
        "arr = np.uint8(arr)\n",
        "arr\n",
        "# array([ 33,  46, 107,  42, 100], dtype=uint8)"
      ]
    },
    {
      "cell_type": "markdown",
      "metadata": {
        "id": "r4XK_3CGTj7K"
      },
      "source": [
        "СВОЙСТВА NUMPY-МАССИВОВ"
      ]
    },
    {
      "cell_type": "code",
      "execution_count": null,
      "metadata": {
        "id": "8ZM-ga4_Tgvt"
      },
      "outputs": [],
      "source": [
        "arr = np.array([1,5,2,9,10], dtype=np.int8)\n",
        "nd_arr = np.array([\n",
        "               [12, 45, 78],\n",
        "               [34, 56, 13],\n",
        "               [12, 98, 76]\n",
        "               ], dtype=np.int16)"
      ]
    },
    {
      "cell_type": "code",
      "execution_count": null,
      "metadata": {
        "colab": {
          "base_uri": "https://localhost:8080/"
        },
        "id": "sxx1lHz-T4_I",
        "outputId": "93167526-34e7-4210-f04c-5421a408185a"
      },
      "outputs": [
        {
          "data": {
            "text/plain": [
              "1"
            ]
          },
          "execution_count": 16,
          "metadata": {},
          "output_type": "execute_result"
        }
      ],
      "source": [
        "arr.ndim\n",
        "# 1"
      ]
    },
    {
      "cell_type": "code",
      "execution_count": null,
      "metadata": {
        "colab": {
          "base_uri": "https://localhost:8080/"
        },
        "id": "BNMZFbyjT8I_",
        "outputId": "12195948-8e34-43db-aa64-b1d7c0d37871"
      },
      "outputs": [
        {
          "data": {
            "text/plain": [
              "2"
            ]
          },
          "execution_count": 17,
          "metadata": {},
          "output_type": "execute_result"
        }
      ],
      "source": [
        "nd_arr.ndim\n",
        "# 2"
      ]
    },
    {
      "cell_type": "code",
      "execution_count": null,
      "metadata": {
        "colab": {
          "base_uri": "https://localhost:8080/"
        },
        "id": "JM5p2PXMVmIu",
        "outputId": "6c1a821f-2ad7-4f6e-b40b-2c9120776e4f"
      },
      "outputs": [
        {
          "data": {
            "text/plain": [
              "5"
            ]
          },
          "execution_count": 18,
          "metadata": {},
          "output_type": "execute_result"
        }
      ],
      "source": [
        "arr.size\n",
        "# 5"
      ]
    },
    {
      "cell_type": "code",
      "execution_count": null,
      "metadata": {
        "colab": {
          "base_uri": "https://localhost:8080/"
        },
        "id": "_Voy-DK2Vns2",
        "outputId": "c8d13c8f-1d6f-4291-c6b1-24926739df65"
      },
      "outputs": [
        {
          "data": {
            "text/plain": [
              "9"
            ]
          },
          "execution_count": 19,
          "metadata": {},
          "output_type": "execute_result"
        }
      ],
      "source": [
        "nd_arr.size\n",
        "# 9"
      ]
    },
    {
      "cell_type": "code",
      "execution_count": null,
      "metadata": {
        "colab": {
          "base_uri": "https://localhost:8080/"
        },
        "id": "sgzxFjDXVwqg",
        "outputId": "36f4ef54-e31c-4d84-9fbb-81831e4dc5af"
      },
      "outputs": [
        {
          "data": {
            "text/plain": [
              "(5,)"
            ]
          },
          "execution_count": 20,
          "metadata": {},
          "output_type": "execute_result"
        }
      ],
      "source": [
        "arr.shape\n",
        "# (5,)"
      ]
    },
    {
      "cell_type": "code",
      "execution_count": null,
      "metadata": {
        "colab": {
          "base_uri": "https://localhost:8080/"
        },
        "id": "BCkEpcvVVyDG",
        "outputId": "6054f801-c405-4096-d441-da9b81a1c54c"
      },
      "outputs": [
        {
          "data": {
            "text/plain": [
              "(3, 3)"
            ]
          },
          "execution_count": 21,
          "metadata": {},
          "output_type": "execute_result"
        }
      ],
      "source": [
        "nd_arr.shape\n",
        "# (3, 3)"
      ]
    },
    {
      "cell_type": "code",
      "execution_count": null,
      "metadata": {
        "colab": {
          "base_uri": "https://localhost:8080/"
        },
        "id": "7nqk_7WHWKg6",
        "outputId": "2137f0d6-bcfa-4715-ca3a-74664d55f8bd"
      },
      "outputs": [
        {
          "data": {
            "text/plain": [
              "1"
            ]
          },
          "execution_count": 22,
          "metadata": {},
          "output_type": "execute_result"
        }
      ],
      "source": [
        "arr.itemsize\n",
        "# 1"
      ]
    },
    {
      "cell_type": "code",
      "execution_count": null,
      "metadata": {
        "colab": {
          "base_uri": "https://localhost:8080/"
        },
        "id": "xdpfgoCbWLu6",
        "outputId": "e4700fed-934c-441c-c1de-f7de31d8e14c"
      },
      "outputs": [
        {
          "data": {
            "text/plain": [
              "2"
            ]
          },
          "execution_count": 23,
          "metadata": {},
          "output_type": "execute_result"
        }
      ],
      "source": [
        "nd_arr.itemsize\n",
        "# 2"
      ]
    },
    {
      "cell_type": "markdown",
      "metadata": {
        "id": "EMTDJb9yW5x3"
      },
      "source": [
        "ЗАПОЛНЕНИЕ НОВЫХ МАССИВОВ"
      ]
    },
    {
      "cell_type": "code",
      "execution_count": null,
      "metadata": {
        "colab": {
          "base_uri": "https://localhost:8080/"
        },
        "id": "YYq7m5yZW4-5",
        "outputId": "99a02bc9-c9e9-421f-d63b-115fd35eae4b"
      },
      "outputs": [
        {
          "data": {
            "text/plain": [
              "array([0., 0., 0., 0., 0.])"
            ]
          },
          "execution_count": 24,
          "metadata": {},
          "output_type": "execute_result"
        }
      ],
      "source": [
        "zeros_1d = np.zeros(5)\n",
        "zeros_1d\n",
        "# array([0., 0., 0., 0., 0.])"
      ]
    },
    {
      "cell_type": "code",
      "execution_count": null,
      "metadata": {
        "colab": {
          "base_uri": "https://localhost:8080/"
        },
        "id": "KuWSLw98XJp-",
        "outputId": "013dee8b-16b0-4415-8123-9eabc455296e"
      },
      "outputs": [
        {
          "name": "stdout",
          "output_type": "stream",
          "text": [
            "(5, 4, 3)\n"
          ]
        }
      ],
      "source": [
        "zeros_3d = np.zeros((5,4,3), dtype=np.float32)\n",
        "print(zeros_3d.shape)\n",
        "# (5, 4, 3)"
      ]
    },
    {
      "cell_type": "code",
      "execution_count": null,
      "metadata": {
        "colab": {
          "base_uri": "https://localhost:8080/"
        },
        "id": "7QuoqpQyX7CQ",
        "outputId": "dd3ad0ed-17d8-4408-86da-58567b3af475"
      },
      "outputs": [
        {
          "data": {
            "text/plain": [
              "array([0, 1, 2, 3, 4])"
            ]
          },
          "execution_count": 26,
          "metadata": {},
          "output_type": "execute_result"
        }
      ],
      "source": [
        "np.arange(5)\n",
        "# array([0, 1, 2, 3, 4])"
      ]
    },
    {
      "cell_type": "code",
      "execution_count": null,
      "metadata": {
        "colab": {
          "base_uri": "https://localhost:8080/"
        },
        "id": "1qdsuWAyX_Nd",
        "outputId": "c99b3514-0faa-4073-cb06-f671cb9bd128"
      },
      "outputs": [
        {
          "data": {
            "text/plain": [
              "array([2.5, 3.5, 4.5])"
            ]
          },
          "execution_count": 27,
          "metadata": {},
          "output_type": "execute_result"
        }
      ],
      "source": [
        "np.arange(2.5, 5)\n",
        "# array([2.5, 3.5, 4.5])"
      ]
    },
    {
      "cell_type": "code",
      "execution_count": null,
      "metadata": {
        "colab": {
          "base_uri": "https://localhost:8080/"
        },
        "id": "VlnT9HySYF0t",
        "outputId": "4993f84b-16be-45fe-a06b-c08ff512e2be"
      },
      "outputs": [
        {
          "data": {
            "text/plain": [
              "array([2.5, 3. , 3.5, 4. , 4.5])"
            ]
          },
          "execution_count": 28,
          "metadata": {},
          "output_type": "execute_result"
        }
      ],
      "source": [
        "np.arange(2.5, 5, 0.5)\n",
        "# array([2.5, 3. , 3.5, 4. , 4.5])"
      ]
    },
    {
      "cell_type": "code",
      "execution_count": null,
      "metadata": {
        "colab": {
          "base_uri": "https://localhost:8080/"
        },
        "id": "-nC9-4R5YQ62",
        "outputId": "15343e3c-c987-46ce-aeb6-528116b17390"
      },
      "outputs": [
        {
          "data": {
            "text/plain": [
              "array([2.5, 3. , 3.5, 4. , 4.5], dtype=float16)"
            ]
          },
          "execution_count": 31,
          "metadata": {},
          "output_type": "execute_result"
        }
      ],
      "source": [
        "np.arange(2.5, 5, 0.5, dtype=np.float16)\n",
        "# array([2.5, 3. , 3.5, 4. , 4.5], dtype=float16)"
      ]
    },
    {
      "cell_type": "markdown",
      "metadata": {
        "id": "v7tipYfFY1Uo"
      },
      "source": [
        "np.linspace(start, stop, num=50, endpoint=True, retstep=False, dtype=None)"
      ]
    },
    {
      "cell_type": "code",
      "execution_count": null,
      "metadata": {
        "colab": {
          "base_uri": "https://localhost:8080/"
        },
        "id": "LcnnsEQJZtuN",
        "outputId": "2f8af931-2542-4fc4-9f12-b584406fdd83"
      },
      "outputs": [
        {
          "data": {
            "text/plain": [
              "array([1.        , 1.11111111, 1.22222222, 1.33333333, 1.44444444,\n",
              "       1.55555556, 1.66666667, 1.77777778, 1.88888889, 2.        ])"
            ]
          },
          "execution_count": 32,
          "metadata": {},
          "output_type": "execute_result"
        }
      ],
      "source": [
        "arr = np.linspace(1, 2, 10)\n",
        "arr\n",
        "# array([1.        , 1.11111111, 1.22222222, 1.33333333, 1.44444444,\n",
        "#        1.55555556, 1.66666667, 1.77777778, 1.88888889, 2.        ])"
      ]
    },
    {
      "cell_type": "code",
      "execution_count": null,
      "metadata": {
        "colab": {
          "base_uri": "https://localhost:8080/"
        },
        "id": "WOOOGTkfaE8r",
        "outputId": "937c4d86-61d5-421b-f6a9-552a2d87f70a"
      },
      "outputs": [
        {
          "data": {
            "text/plain": [
              "array([1. , 1.1, 1.2, 1.3, 1.4, 1.5, 1.6, 1.7, 1.8, 1.9])"
            ]
          },
          "execution_count": 33,
          "metadata": {},
          "output_type": "execute_result"
        }
      ],
      "source": [
        "arr = np.linspace(1, 2, 10, endpoint=False)\n",
        "arr\n",
        "# array([1. , 1.1, 1.2, 1.3, 1.4, 1.5, 1.6, 1.7, 1.8, 1.9])"
      ]
    },
    {
      "cell_type": "code",
      "execution_count": null,
      "metadata": {
        "colab": {
          "base_uri": "https://localhost:8080/"
        },
        "id": "lQPksaxRaXQY",
        "outputId": "2b9270c4-1416-4836-e433-9f1b17e56d34"
      },
      "outputs": [
        {
          "name": "stdout",
          "output_type": "stream",
          "text": [
            "0.1111111111111111\n"
          ]
        }
      ],
      "source": [
        "arr, step = np.linspace(1, 2, 10, endpoint=True, retstep=True)\n",
        "print(step)\n",
        "# 0.1111111111111111"
      ]
    },
    {
      "cell_type": "code",
      "execution_count": null,
      "metadata": {
        "colab": {
          "base_uri": "https://localhost:8080/"
        },
        "id": "pmyS-1_KaaQ-",
        "outputId": "4bd47f7f-0dad-4c65-9df4-a0f0b5215309"
      },
      "outputs": [
        {
          "name": "stdout",
          "output_type": "stream",
          "text": [
            "0.1\n"
          ]
        }
      ],
      "source": [
        "arr, step = np.linspace(1, 2, 10, endpoint=False, retstep=True)\n",
        "print(step)\n",
        "# 0.1"
      ]
    },
    {
      "cell_type": "code",
      "execution_count": null,
      "metadata": {
        "colab": {
          "base_uri": "https://localhost:8080/"
        },
        "id": "fC3m7e77ao9m",
        "outputId": "c5aea7eb-0745-49ee-9472-328f9d7cc497"
      },
      "outputs": [
        {
          "name": "stdout",
          "output_type": "stream",
          "text": [
            "0.46\n"
          ]
        }
      ],
      "source": [
        "arr, step = np.linspace(-6, 21, 60, endpoint=True, retstep=True)\n",
        "print(round(step, 2))"
      ]
    },
    {
      "cell_type": "code",
      "execution_count": null,
      "metadata": {
        "colab": {
          "base_uri": "https://localhost:8080/"
        },
        "id": "tOZ_kibGbXpm",
        "outputId": "31d10a8d-1565-424c-c704-735dcd247bd4"
      },
      "outputs": [
        {
          "name": "stdout",
          "output_type": "stream",
          "text": [
            "0.45\n"
          ]
        }
      ],
      "source": [
        "arr, step = np.linspace(-6, 21, 60, endpoint=False, retstep=True)\n",
        "print(round(step, 2))"
      ]
    },
    {
      "cell_type": "code",
      "execution_count": null,
      "metadata": {
        "id": "_l1BJz4bdzdY"
      },
      "outputs": [],
      "source": [
        "# from hidden import mystery\n",
        "# # Пишите здесь команды, который помогут\n",
        "# # найти ответы на вопросы\n",
        "# print(mystery.ndim)\n",
        "# print(mystery.shape)\n",
        "# print(mystery.size)\n",
        "# print(mystery.dtype)\n",
        "# print(mystery.itemsize)"
      ]
    },
    {
      "cell_type": "markdown",
      "metadata": {
        "id": "dRUFqCbNd3mS"
      },
      "source": [
        "\n",
        "\n",
        "---\n",
        "\n",
        "# 7. Модуль NumPy. Действия с массивами"
      ]
    },
    {
      "cell_type": "markdown",
      "metadata": {
        "id": "p1fEqXF0eV1c"
      },
      "source": [
        "ДЕЙСТВИЯ С МАССИВАМИ"
      ]
    },
    {
      "cell_type": "code",
      "execution_count": null,
      "metadata": {
        "colab": {
          "base_uri": "https://localhost:8080/"
        },
        "id": "MwAlLW2eeWyX",
        "outputId": "fdefd6c2-098a-4dc9-8c38-4ac192effa48"
      },
      "outputs": [
        {
          "data": {
            "text/plain": [
              "array([0, 1, 2, 3, 4, 5, 6, 7])"
            ]
          },
          "execution_count": 39,
          "metadata": {},
          "output_type": "execute_result"
        }
      ],
      "source": [
        "import numpy as np\n",
        "arr = np.arange(8)\n",
        "arr\n",
        "# array([0, 1, 2, 3, 4, 5, 6, 7])"
      ]
    },
    {
      "cell_type": "code",
      "execution_count": null,
      "metadata": {
        "colab": {
          "base_uri": "https://localhost:8080/"
        },
        "id": "G1rQw4CFfTUW",
        "outputId": "8c46397c-87ca-490f-f7c9-8128f4a29ff2"
      },
      "outputs": [
        {
          "data": {
            "text/plain": [
              "array([[0, 1, 2, 3],\n",
              "       [4, 5, 6, 7]])"
            ]
          },
          "execution_count": 40,
          "metadata": {},
          "output_type": "execute_result"
        }
      ],
      "source": [
        "arr.shape = (2, 4)\n",
        "arr\n",
        "# array([[0, 1, 2, 3],\n",
        "#        [4, 5, 6, 7]])"
      ]
    },
    {
      "cell_type": "code",
      "execution_count": null,
      "metadata": {
        "colab": {
          "base_uri": "https://localhost:8080/"
        },
        "id": "Cy0TLm-tfrQR",
        "outputId": "56343e58-4495-4ce7-e870-101ba54ece35"
      },
      "outputs": [
        {
          "data": {
            "text/plain": [
              "array([[0, 1, 2, 3],\n",
              "       [4, 5, 6, 7]])"
            ]
          },
          "execution_count": 41,
          "metadata": {},
          "output_type": "execute_result"
        }
      ],
      "source": [
        "arr = np.arange(8)\n",
        "arr_new = arr.reshape((2, 4))\n",
        "arr_new\n",
        "# array([[0, 1, 2, 3],\n",
        "#       [4, 5, 6, 7]])"
      ]
    },
    {
      "cell_type": "code",
      "execution_count": null,
      "metadata": {
        "colab": {
          "base_uri": "https://localhost:8080/"
        },
        "id": "_49HUGQBgFpZ",
        "outputId": "d0c12e94-6e45-466c-b37b-f8d8d8d183da"
      },
      "outputs": [
        {
          "data": {
            "text/plain": [
              "array([[0, 2, 4, 6],\n",
              "       [1, 3, 5, 7]])"
            ]
          },
          "execution_count": 42,
          "metadata": {},
          "output_type": "execute_result"
        }
      ],
      "source": [
        "arr = np.arange(8)\n",
        "arr_new = arr.reshape((2, 4), order='F')\n",
        "arr_new\n",
        "# array([[0, 2, 4, 6],\n",
        "#       [1, 3, 5, 7]])"
      ]
    },
    {
      "cell_type": "code",
      "execution_count": null,
      "metadata": {
        "colab": {
          "base_uri": "https://localhost:8080/"
        },
        "id": "XD4ON8A0gctm",
        "outputId": "938cb11e-5f25-4153-834b-6afdc47490f9"
      },
      "outputs": [
        {
          "data": {
            "text/plain": [
              "array([[0, 1, 2, 3],\n",
              "       [4, 5, 6, 7]])"
            ]
          },
          "execution_count": 43,
          "metadata": {},
          "output_type": "execute_result"
        }
      ],
      "source": [
        "arr = np.arange(8)\n",
        "arr.shape = (2, 4)\n",
        "arr\n",
        "# array([[0, 1, 2, 3],\n",
        "#        [4, 5, 6, 7]])"
      ]
    },
    {
      "cell_type": "code",
      "execution_count": null,
      "metadata": {
        "colab": {
          "base_uri": "https://localhost:8080/"
        },
        "id": "OD0quhGTgjlW",
        "outputId": "8ca266ec-e11e-422b-ee6b-ea3eef8fb551"
      },
      "outputs": [
        {
          "data": {
            "text/plain": [
              "array([[0, 4],\n",
              "       [1, 5],\n",
              "       [2, 6],\n",
              "       [3, 7]])"
            ]
          },
          "execution_count": 44,
          "metadata": {},
          "output_type": "execute_result"
        }
      ],
      "source": [
        "arr_trans = arr.transpose()\n",
        "arr_trans\n",
        "# array([[0, 4],\n",
        "#        [1, 5],\n",
        "#        [2, 6],\n",
        "#        [3, 7]])"
      ]
    },
    {
      "cell_type": "code",
      "execution_count": null,
      "metadata": {
        "colab": {
          "base_uri": "https://localhost:8080/"
        },
        "id": "xJgcLz9FguBN",
        "outputId": "c51dc7a9-db96-4567-8c44-874de5d33871"
      },
      "outputs": [
        {
          "name": "stdout",
          "output_type": "stream",
          "text": [
            "(3,)\n",
            "(3,)\n"
          ]
        }
      ],
      "source": [
        "arr = np.arange(3)\n",
        "print(arr.shape)\n",
        "# (3,)\n",
        "arr_trans = arr.transpose()\n",
        "print(arr_trans.shape)\n",
        "# (3,)"
      ]
    },
    {
      "cell_type": "markdown",
      "metadata": {
        "id": "Gx_IeZGRg9Su"
      },
      "source": [
        "ИНДЕКСЫ И СРЕЗЫ В МАССИВАХ"
      ]
    },
    {
      "cell_type": "code",
      "execution_count": null,
      "metadata": {
        "colab": {
          "base_uri": "https://localhost:8080/"
        },
        "id": "17uiET3zg80m",
        "outputId": "643c79d0-8368-4298-e673-c20fe6da000b"
      },
      "outputs": [
        {
          "data": {
            "text/plain": [
              "array([1. , 1.2, 1.4, 1.6, 1.8, 2. ])"
            ]
          },
          "execution_count": 46,
          "metadata": {},
          "output_type": "execute_result"
        }
      ],
      "source": [
        "arr = np.linspace(1, 2, 6)\n",
        "arr\n",
        "# array([1. , 1.2, 1.4, 1.6, 1.8, 2. ])"
      ]
    },
    {
      "cell_type": "code",
      "execution_count": null,
      "metadata": {
        "colab": {
          "base_uri": "https://localhost:8080/"
        },
        "id": "gsR-JNlPhRVo",
        "outputId": "8d7135d9-94bb-4627-e722-7fbddc43098f"
      },
      "outputs": [
        {
          "name": "stdout",
          "output_type": "stream",
          "text": [
            "1.4\n"
          ]
        }
      ],
      "source": [
        "print(arr[2])\n",
        "# 1.4"
      ]
    },
    {
      "cell_type": "code",
      "execution_count": null,
      "metadata": {
        "colab": {
          "base_uri": "https://localhost:8080/"
        },
        "id": "Q0N77x_4hWN3",
        "outputId": "42572be7-8505-4d15-b198-ee8aa4350ce6"
      },
      "outputs": [
        {
          "name": "stdout",
          "output_type": "stream",
          "text": [
            "[1.4 1.6]\n"
          ]
        }
      ],
      "source": [
        "print(arr[2:4])\n",
        "# [1.4 1.6]"
      ]
    },
    {
      "cell_type": "code",
      "execution_count": null,
      "metadata": {
        "colab": {
          "base_uri": "https://localhost:8080/"
        },
        "id": "jUfiJXRVhfV9",
        "outputId": "a353d118-f04e-43cd-f72c-a53baf1abee2"
      },
      "outputs": [
        {
          "name": "stdout",
          "output_type": "stream",
          "text": [
            "[2.  1.8 1.6 1.4 1.2 1. ]\n"
          ]
        }
      ],
      "source": [
        "print(arr[::-1])\n",
        "# [2.  1.8 1.6 1.4 1.2 1. ]"
      ]
    },
    {
      "cell_type": "code",
      "execution_count": null,
      "metadata": {
        "colab": {
          "base_uri": "https://localhost:8080/"
        },
        "id": "oF1st-XKhn2w",
        "outputId": "aedf6ea5-516f-4b72-9f14-316071d8f566"
      },
      "outputs": [
        {
          "data": {
            "text/plain": [
              "array([[0. , 0.5, 1. , 1.5],\n",
              "       [2. , 2.5, 3. , 3.5],\n",
              "       [4. , 4.5, 5. , 5.5]])"
            ]
          },
          "execution_count": 50,
          "metadata": {},
          "output_type": "execute_result"
        }
      ],
      "source": [
        "nd_array =  np.linspace(0, 6, 12, endpoint=False).reshape(3,4)\n",
        "nd_array\n",
        "# array([[0. , 0.5, 1. , 1.5],\n",
        "#        [2. , 2.5, 3. , 3.5],\n",
        "#        [4. , 4.5, 5. , 5.5]])"
      ]
    },
    {
      "cell_type": "code",
      "execution_count": null,
      "metadata": {
        "colab": {
          "base_uri": "https://localhost:8080/"
        },
        "id": "EwGu9dxilJaa",
        "outputId": "de603765-7416-4d0d-dfe6-3bcfd7324aac"
      },
      "outputs": [
        {
          "data": {
            "text/plain": [
              "array([2. , 2.5, 3. , 3.5])"
            ]
          },
          "execution_count": 57,
          "metadata": {},
          "output_type": "execute_result"
        }
      ],
      "source": [
        "nd_array[1]"
      ]
    },
    {
      "cell_type": "code",
      "execution_count": null,
      "metadata": {
        "colab": {
          "base_uri": "https://localhost:8080/"
        },
        "id": "omQHD18xleGK",
        "outputId": "250898dd-8357-4554-edf6-51288e5991c5"
      },
      "outputs": [
        {
          "data": {
            "text/plain": [
              "array([1.5, 3.5, 5.5])"
            ]
          },
          "execution_count": 59,
          "metadata": {},
          "output_type": "execute_result"
        }
      ],
      "source": [
        "nd_array[:, -1]"
      ]
    },
    {
      "cell_type": "code",
      "execution_count": null,
      "metadata": {
        "colab": {
          "base_uri": "https://localhost:8080/"
        },
        "id": "ieyr1n7ImIRO",
        "outputId": "a01021cf-6742-4ac4-b452-98219473d423"
      },
      "outputs": [
        {
          "data": {
            "text/plain": [
              "array([5.5, 3.5, 1.5])"
            ]
          },
          "execution_count": 60,
          "metadata": {},
          "output_type": "execute_result"
        }
      ],
      "source": [
        "nd_array[:, -1][::-1]"
      ]
    },
    {
      "cell_type": "code",
      "execution_count": null,
      "metadata": {
        "colab": {
          "base_uri": "https://localhost:8080/"
        },
        "id": "PLzYNM11h9hG",
        "outputId": "7745edb4-79ee-4d52-b7ea-22c8e2222160"
      },
      "outputs": [
        {
          "data": {
            "text/plain": [
              "3.0"
            ]
          },
          "execution_count": 51,
          "metadata": {},
          "output_type": "execute_result"
        }
      ],
      "source": [
        "nd_array[1][2]\n",
        "# 3.0"
      ]
    },
    {
      "cell_type": "code",
      "execution_count": null,
      "metadata": {
        "colab": {
          "base_uri": "https://localhost:8080/"
        },
        "id": "Jmc42dnMiHh9",
        "outputId": "8e54190b-c96d-41ac-d3bd-79636d5e8aa1"
      },
      "outputs": [
        {
          "data": {
            "text/plain": [
              "3.0"
            ]
          },
          "execution_count": 52,
          "metadata": {},
          "output_type": "execute_result"
        }
      ],
      "source": [
        "nd_array[1, 2]\n",
        "# 3.0"
      ]
    },
    {
      "cell_type": "code",
      "execution_count": null,
      "metadata": {
        "colab": {
          "base_uri": "https://localhost:8080/"
        },
        "id": "3pYZfRRxiTTf",
        "outputId": "5a54bba1-20a0-469f-8689-be59f6f633e2"
      },
      "outputs": [
        {
          "data": {
            "text/plain": [
              "array([1., 3.])"
            ]
          },
          "execution_count": 53,
          "metadata": {},
          "output_type": "execute_result"
        }
      ],
      "source": [
        "nd_array[:2, 2]\n",
        "# array([1., 3.])"
      ]
    },
    {
      "cell_type": "code",
      "execution_count": null,
      "metadata": {
        "colab": {
          "base_uri": "https://localhost:8080/"
        },
        "id": "zb26fmYxjHge",
        "outputId": "0bdcbdac-4f5e-454f-a0f2-efaf7cc86423"
      },
      "outputs": [
        {
          "data": {
            "text/plain": [
              "array([[3. , 3.5],\n",
              "       [5. , 5.5]])"
            ]
          },
          "execution_count": 54,
          "metadata": {},
          "output_type": "execute_result"
        }
      ],
      "source": [
        "nd_array[1:, 2:4]\n",
        "# array([[3. , 3.5],\n",
        "#       [5. , 5.5]])"
      ]
    },
    {
      "cell_type": "code",
      "execution_count": null,
      "metadata": {
        "colab": {
          "base_uri": "https://localhost:8080/"
        },
        "id": "8I7kdkUpjcM-",
        "outputId": "12df3fe8-b524-403a-9619-08e0f4c6b516"
      },
      "outputs": [
        {
          "data": {
            "text/plain": [
              "array([[1. , 1.5],\n",
              "       [3. , 3.5],\n",
              "       [5. , 5.5]])"
            ]
          },
          "execution_count": 55,
          "metadata": {},
          "output_type": "execute_result"
        }
      ],
      "source": [
        "nd_array[:, 2:4]\n",
        "# array([[1. , 1.5],\n",
        "#       [3. , 3.5],\n",
        "#       [5. , 5.5]])"
      ]
    },
    {
      "cell_type": "code",
      "execution_count": null,
      "metadata": {
        "colab": {
          "base_uri": "https://localhost:8080/"
        },
        "id": "AcvcGEOGjrau",
        "outputId": "86c810b8-3372-41de-9d78-d828f01e8394"
      },
      "outputs": [
        {
          "data": {
            "text/plain": [
              "array([[0. , 0.5, 1. , 1.5],\n",
              "       [2. , 2.5, 3. , 3.5]])"
            ]
          },
          "execution_count": 56,
          "metadata": {},
          "output_type": "execute_result"
        }
      ],
      "source": [
        "nd_array[:2]\n",
        "# array([[0. , 0.5, 1. , 1.5],\n",
        "#       [2. , 2.5, 3. , 3.5]])"
      ]
    },
    {
      "cell_type": "code",
      "execution_count": null,
      "metadata": {
        "id": "LBYkjk2Hnavv"
      },
      "outputs": [],
      "source": [
        "# try:\n",
        "#     from Root.src.hidden import mystery\n",
        "# except ImportError:\n",
        "#     from hidden import mystery\n",
        "    \n",
        "# # В переменную elem_5_3 сохраните элемент из 5 строки и 3 столбца:\n",
        "# elem_5_3 = mystery[4, 2]\n",
        "\n",
        "# # В переменную last сохраните элемент из последней строки последнего столбца\n",
        "# last = mystery[-1, -1]\n",
        "\n",
        "# # В переменную line_4 сохраните строку 4\n",
        "# line_4 = mystery[3]\n",
        "\n",
        "# # В переменную col_2 сохраните предпоследний столбец\n",
        "# col_2 = mystery[:, -2]\n",
        "\n",
        "# # Из строк 2-4 (включительно) получите столбцы 3-5 (включительно)\n",
        "# # Результат сохраните в переменную part\n",
        "# part = mystery[1:4, 2:5]\n",
        "\n",
        "# #  Сохраните в переменную rev последний столбец в обратном порядке\n",
        "# rev = mystery[:, -1][::-1]\n",
        "\n",
        "# # Сохраните в переменную trans транспонированный массив\n",
        "# trans = mystery.transpose()"
      ]
    },
    {
      "cell_type": "markdown",
      "metadata": {
        "id": "q4gbman5nZJd"
      },
      "source": [
        "\n",
        "\n",
        "---\n",
        "\n",
        "СОРТИРОВКА ОДНОМЕРНЫХ МАССИВОВ"
      ]
    },
    {
      "cell_type": "code",
      "execution_count": null,
      "metadata": {
        "colab": {
          "base_uri": "https://localhost:8080/"
        },
        "id": "nIvqP6eTn0OX",
        "outputId": "3a41b161-fdee-4110-db7c-358bbaf98c8f"
      },
      "outputs": [
        {
          "name": "stdout",
          "output_type": "stream",
          "text": [
            "[23 12 45 12 23  4 15  3]\n",
            "[ 3  4 12 12 15 23 23 45]\n"
          ]
        }
      ],
      "source": [
        "arr = np.array([23,12,45,12,23,4,15,3])\n",
        "arr_new = np.sort(arr)\n",
        "print(arr)\n",
        "# [23 12 45 12 23  4 15  3]\n",
        "print(arr_new)\n",
        "# [ 3  4 12 12 15 23 23 45]"
      ]
    },
    {
      "cell_type": "code",
      "execution_count": null,
      "metadata": {
        "colab": {
          "base_uri": "https://localhost:8080/"
        },
        "id": "EcnsRwadoA7V",
        "outputId": "a925f71a-f559-4271-fef9-e502d0452543"
      },
      "outputs": [
        {
          "name": "stdout",
          "output_type": "stream",
          "text": [
            "None\n",
            "[ 3  4 12 12 15 23 23 45]\n"
          ]
        }
      ],
      "source": [
        "arr = np.array([23,12,45,12,23,4,15,3])\n",
        "print(arr.sort())\n",
        "# None\n",
        "print(arr)\n",
        "# [ 3  4 12 12 15 23 23 45]"
      ]
    },
    {
      "cell_type": "markdown",
      "metadata": {
        "id": "7Jn7qTA0oDfa"
      },
      "source": [
        "РАБОТА С ПРОПУЩЕННЫМИ ДАННЫМИ"
      ]
    },
    {
      "cell_type": "code",
      "execution_count": null,
      "metadata": {
        "id": "g0lUHbfHoZPP"
      },
      "outputs": [],
      "source": [
        "import numpy as np\n",
        "data = np.array([4, 9, -4, 3])"
      ]
    },
    {
      "cell_type": "code",
      "execution_count": null,
      "metadata": {
        "colab": {
          "base_uri": "https://localhost:8080/"
        },
        "id": "YwkKmuY5OpeL",
        "outputId": "8031861a-5e26-411d-8e3e-fb6473515b7a"
      },
      "outputs": [
        {
          "name": "stderr",
          "output_type": "stream",
          "text": [
            "/usr/local/lib/python3.7/dist-packages/ipykernel_launcher.py:1: RuntimeWarning: invalid value encountered in sqrt\n",
            "  \"\"\"Entry point for launching an IPython kernel.\n"
          ]
        },
        {
          "data": {
            "text/plain": [
              "array([2.        , 3.        ,        nan, 1.73205081])"
            ]
          },
          "execution_count": 4,
          "metadata": {},
          "output_type": "execute_result"
        }
      ],
      "source": [
        "roots = np.sqrt(data)\n",
        "roots\n",
        "# RuntimeWarning: invalid value encountered in sqrt\n",
        "# array([2.        , 3.        ,        nan, 1.73205081])"
      ]
    },
    {
      "cell_type": "code",
      "execution_count": null,
      "metadata": {
        "colab": {
          "base_uri": "https://localhost:8080/"
        },
        "id": "lFtR09YePNWQ",
        "outputId": "7de8ae62-b0fd-4f74-a188-6cb2a1744cc9"
      },
      "outputs": [
        {
          "name": "stdout",
          "output_type": "stream",
          "text": [
            "<class 'NoneType'>\n",
            "<class 'float'>\n"
          ]
        },
        {
          "data": {
            "text/plain": [
              "float"
            ]
          },
          "execution_count": 5,
          "metadata": {},
          "output_type": "execute_result"
        }
      ],
      "source": [
        "print(type(None))\n",
        "# <class 'NoneType'>\n",
        "print(type(np.nan))\n",
        "# <class 'float'>\n",
        "type(np.nan)"
      ]
    },
    {
      "cell_type": "code",
      "execution_count": null,
      "metadata": {
        "colab": {
          "base_uri": "https://localhost:8080/"
        },
        "id": "87JvBPHhPUw3",
        "outputId": "738a143f-13bb-4d92-bf58-73ef6bc14622"
      },
      "outputs": [
        {
          "name": "stdout",
          "output_type": "stream",
          "text": [
            "True\n",
            "False\n"
          ]
        }
      ],
      "source": [
        "print(None == None)\n",
        "# True\n",
        "print(np.nan == np.nan)\n",
        "# False"
      ]
    },
    {
      "cell_type": "code",
      "execution_count": null,
      "metadata": {
        "colab": {
          "base_uri": "https://localhost:8080/"
        },
        "id": "CYGG0YRXPcJH",
        "outputId": "259a028d-8dac-476c-9b5e-d7e33905f4ca"
      },
      "outputs": [
        {
          "name": "stdout",
          "output_type": "stream",
          "text": [
            "True\n",
            "True\n",
            "False\n"
          ]
        }
      ],
      "source": [
        "print(None is None)\n",
        "# True\n",
        "print(np.nan is np.nan)\n",
        "# True\n",
        "print(np.nan is None)\n",
        "# False"
      ]
    },
    {
      "cell_type": "code",
      "execution_count": null,
      "metadata": {
        "colab": {
          "base_uri": "https://localhost:8080/"
        },
        "id": "Bu47rsyMPoig",
        "outputId": "56dc8130-8b4d-4c84-dc44-94fd3354176a"
      },
      "outputs": [
        {
          "data": {
            "text/plain": [
              "nan"
            ]
          },
          "execution_count": 8,
          "metadata": {},
          "output_type": "execute_result"
        }
      ],
      "source": [
        "sum(roots)\n",
        "# nan"
      ]
    },
    {
      "cell_type": "code",
      "execution_count": null,
      "metadata": {
        "colab": {
          "base_uri": "https://localhost:8080/"
        },
        "id": "p9Vw_-KdPzXX",
        "outputId": "52673dae-d73b-49c5-a329-29d1bdc3e584"
      },
      "outputs": [
        {
          "data": {
            "text/plain": [
              "array([False, False,  True, False])"
            ]
          },
          "execution_count": 9,
          "metadata": {},
          "output_type": "execute_result"
        }
      ],
      "source": [
        "np.isnan(roots)\n",
        "# array([False, False,  True, False])"
      ]
    },
    {
      "cell_type": "code",
      "execution_count": null,
      "metadata": {
        "colab": {
          "base_uri": "https://localhost:8080/"
        },
        "id": "LFqztNmqP7HH",
        "outputId": "3e4d8ef0-6810-48db-ed2b-95cc939f3e57"
      },
      "outputs": [
        {
          "data": {
            "text/plain": [
              "array([nan])"
            ]
          },
          "execution_count": 10,
          "metadata": {},
          "output_type": "execute_result"
        }
      ],
      "source": [
        "roots[np.isnan(roots)]\n",
        "# array([nan])"
      ]
    },
    {
      "cell_type": "code",
      "execution_count": null,
      "metadata": {
        "colab": {
          "base_uri": "https://localhost:8080/"
        },
        "id": "MHzShoIAP_wG",
        "outputId": "46fc7659-ee84-4827-c996-6e571e9e9068"
      },
      "outputs": [
        {
          "data": {
            "text/plain": [
              "array([2.        , 3.        , 0.        , 1.73205081])"
            ]
          },
          "execution_count": 11,
          "metadata": {},
          "output_type": "execute_result"
        }
      ],
      "source": [
        "roots[np.isnan(roots)] = 0\n",
        "roots\n",
        "# array([2.        , 3.        , 0.        , 1.73205081])"
      ]
    },
    {
      "cell_type": "code",
      "execution_count": null,
      "metadata": {
        "colab": {
          "base_uri": "https://localhost:8080/"
        },
        "id": "fQjtyPcjQEji",
        "outputId": "8a8a9d23-cce9-423b-d70d-94dd82d06d60"
      },
      "outputs": [
        {
          "data": {
            "text/plain": [
              "6.732050807568877"
            ]
          },
          "execution_count": 12,
          "metadata": {},
          "output_type": "execute_result"
        }
      ],
      "source": [
        "sum(roots)\n",
        "# 6.732050807568877"
      ]
    },
    {
      "cell_type": "code",
      "execution_count": null,
      "metadata": {
        "colab": {
          "base_uri": "https://localhost:8080/"
        },
        "id": "hD0Q7nlEQeV_",
        "outputId": "6c920956-668d-4906-c581-0a8a0e263d27"
      },
      "outputs": [
        {
          "data": {
            "text/plain": [
              "True"
            ]
          },
          "execution_count": 13,
          "metadata": {},
          "output_type": "execute_result"
        }
      ],
      "source": [
        "np.isnan(np.nan)"
      ]
    },
    {
      "cell_type": "code",
      "execution_count": null,
      "metadata": {
        "colab": {
          "base_uri": "https://localhost:8080/"
        },
        "id": "4DWhTQotQg4a",
        "outputId": "e1041845-8a9e-4cf0-a3cf-322bada64caa"
      },
      "outputs": [
        {
          "data": {
            "text/plain": [
              "True"
            ]
          },
          "execution_count": 14,
          "metadata": {},
          "output_type": "execute_result"
        }
      ],
      "source": [
        "np.nan is np.nan"
      ]
    },
    {
      "cell_type": "code",
      "execution_count": null,
      "metadata": {
        "colab": {
          "base_uri": "https://localhost:8080/"
        },
        "id": "7FG4uC6OQib0",
        "outputId": "60dbbb5b-5c43-4401-df17-f84d035e76d7"
      },
      "outputs": [
        {
          "data": {
            "text/plain": [
              "True"
            ]
          },
          "execution_count": 15,
          "metadata": {},
          "output_type": "execute_result"
        }
      ],
      "source": [
        "None is None"
      ]
    },
    {
      "cell_type": "code",
      "execution_count": null,
      "metadata": {
        "colab": {
          "base_uri": "https://localhost:8080/"
        },
        "id": "HvwLHMj2QkIH",
        "outputId": "ff6e5fa5-5514-45fe-bc27-648d4b2b6388"
      },
      "outputs": [
        {
          "data": {
            "text/plain": [
              "True"
            ]
          },
          "execution_count": 16,
          "metadata": {},
          "output_type": "execute_result"
        }
      ],
      "source": [
        "None == None"
      ]
    },
    {
      "cell_type": "code",
      "execution_count": null,
      "metadata": {
        "id": "xqeGZOMCVIPM"
      },
      "outputs": [],
      "source": [
        "# try:\n",
        "#     from Root.src.hidden import mystery\n",
        "# except ImportError:\n",
        "#     from hidden import mystery\n",
        "# import numpy as np\n",
        "# # Получите булевый массив с информацией о np.nan в массиве mystery\n",
        "# # True - значение пропущено, False - значение не пропущено\n",
        "# nans_index = np.isnan(mystery)\n",
        "\n",
        "# # В переменную n_nan сохраните число пропущенных значений\n",
        "# n_nan = sum(np.isnan(mystery))\n",
        "\n",
        "# # Заполните пропущенные значения в массиве mystery нулями\n",
        "# mystery[np.isnan(mystery)] = 0\n",
        "\n",
        "\n",
        "# # Поменяйте тип данных в массиве mystery на int32\n",
        "# mystery = np.int32(mystery)\n",
        "\n",
        "\n",
        "# # Отсортируйте значения в массиве по возрастанию и сохраните\n",
        "# # результат в переменную array\n",
        "# array = np.sort(mystery)\n",
        "\n",
        "# # Сохраните в массив table двухмерный массив, полученный из массива array\n",
        "# # В нём должно быть 5 строк и 3 столбца. Причём порядок заполнения должен быть\n",
        "# # по столбцам! Например, 1, 2, 3, 4 -> 1    3\n",
        "# #                                      2    4\n",
        "# table = array.reshape((5, 3), order='F')\n",
        "\n",
        "# #  Сохраните в переменную col средний столбец из table\n",
        "# col = table[:, 1]"
      ]
    },
    {
      "cell_type": "markdown",
      "metadata": {
        "id": "4_v-x_myVJ-R"
      },
      "source": [
        "\n",
        "\n",
        "---\n",
        "\n",
        "# 8. Модуль NumPy. Операции с векторами"
      ]
    },
    {
      "cell_type": "markdown",
      "metadata": {
        "id": "XNSRnlARWbq_"
      },
      "source": [
        "ВЕКТОРЫ В NUMPY И АРИФМЕТИКА"
      ]
    },
    {
      "cell_type": "code",
      "execution_count": null,
      "metadata": {
        "colab": {
          "base_uri": "https://localhost:8080/"
        },
        "id": "CgNGkFNaWavN",
        "outputId": "80683357-ce8d-411e-c859-046f7f48a741"
      },
      "outputs": [
        {
          "data": {
            "text/plain": [
              "array([14. , 10. , 10.6, 15.5])"
            ]
          },
          "execution_count": 17,
          "metadata": {},
          "output_type": "execute_result"
        }
      ],
      "source": [
        "import numpy as np\n",
        "vec1 = np.array([2, 4, 7, 2.5])\n",
        "vec2 = np.array([12, 6, 3.6, 13])\n",
        "vec1 + vec2\n",
        "# array([14. , 10. , 10.6, 15.5])"
      ]
    },
    {
      "cell_type": "code",
      "execution_count": null,
      "metadata": {
        "colab": {
          "base_uri": "https://localhost:8080/"
        },
        "id": "ddqYJ2ByW41M",
        "outputId": "dc8d0dc3-f924-4d2e-ca89-434f4e2e9cb1"
      },
      "outputs": [
        {
          "data": {
            "text/plain": [
              "[2, 4, 7, 2.5, 12, 6, 3.6, 13]"
            ]
          },
          "execution_count": 18,
          "metadata": {},
          "output_type": "execute_result"
        }
      ],
      "source": [
        "list1 = [2, 4, 7, 2.5]\n",
        "list2 = [12, 6, 3.6, 13]\n",
        "list1 + list2\n",
        "# [2, 4, 7, 2.5, 12, 6, 3.6, 13]"
      ]
    },
    {
      "cell_type": "code",
      "execution_count": null,
      "metadata": {
        "colab": {
          "base_uri": "https://localhost:8080/"
        },
        "id": "APpst0gJXC42",
        "outputId": "63959b46-52a0-40d5-8647-9a0c4eb182a3"
      },
      "outputs": [
        {
          "data": {
            "text/plain": [
              "[14, 10, 10.6, 15.5]"
            ]
          },
          "execution_count": 19,
          "metadata": {},
          "output_type": "execute_result"
        }
      ],
      "source": [
        "[x + y for x, y in zip(list1, list2)]\n",
        "# [14, 10, 10.6, 15.5]"
      ]
    },
    {
      "cell_type": "code",
      "execution_count": null,
      "metadata": {
        "colab": {
          "base_uri": "https://localhost:8080/"
        },
        "id": "nw_2RzaNXLE0",
        "outputId": "16917023-3584-46fb-c69c-5baf0de8b15c"
      },
      "outputs": [
        {
          "data": {
            "text/plain": [
              "array([24. , 24. , 25.2, 32.5])"
            ]
          },
          "execution_count": 20,
          "metadata": {},
          "output_type": "execute_result"
        }
      ],
      "source": [
        "vec1 = np.array([2, 4, 7, 2.5])\n",
        "vec2 = np.array([12, 6, 3.6, 13])\n",
        "vec1 * vec2\n",
        "# array([24. , 24. , 25.2, 32.5])"
      ]
    },
    {
      "cell_type": "code",
      "execution_count": null,
      "metadata": {
        "colab": {
          "base_uri": "https://localhost:8080/"
        },
        "id": "Jm1ljMf3Xlzw",
        "outputId": "2ce9949f-5696-4711-dd6a-0bb1dee7c74d"
      },
      "outputs": [
        {
          "data": {
            "text/plain": [
              "array([ 0, 10, 20, 30, 40])"
            ]
          },
          "execution_count": 22,
          "metadata": {},
          "output_type": "execute_result"
        }
      ],
      "source": [
        "vec = np.arange(5)\n",
        "vec * 10\n",
        "# array([ 0, 10, 20, 30, 40])"
      ]
    },
    {
      "cell_type": "code",
      "execution_count": null,
      "metadata": {
        "colab": {
          "base_uri": "https://localhost:8080/"
        },
        "id": "AyJzmTiNXoOE",
        "outputId": "0b3c7437-8521-403d-906e-b5f98b03e8c8"
      },
      "outputs": [
        {
          "data": {
            "text/plain": [
              "array([ 0,  1,  4,  9, 16])"
            ]
          },
          "execution_count": 23,
          "metadata": {},
          "output_type": "execute_result"
        }
      ],
      "source": [
        "vec ** 2\n",
        "# array([ 0,  1,  4,  9, 16])"
      ]
    },
    {
      "cell_type": "code",
      "execution_count": null,
      "metadata": {
        "colab": {
          "base_uri": "https://localhost:8080/"
        },
        "id": "_fosQV35XwKU",
        "outputId": "b56e1c80-e817-42d1-c2d0-cb2ad21edb6c"
      },
      "outputs": [
        {
          "data": {
            "text/plain": [
              "array([False, False,  True, False])"
            ]
          },
          "execution_count": 24,
          "metadata": {},
          "output_type": "execute_result"
        }
      ],
      "source": [
        "vec1 = np.array([2, 4, 7, 2.5])\n",
        "vec2 = np.array([12, 6, 3.6, 13])\n",
        " \n",
        "vec1 > vec2\n",
        "# array([False, False,  True, False])"
      ]
    },
    {
      "cell_type": "markdown",
      "metadata": {
        "id": "b8TqVXhHYKKP"
      },
      "source": [
        "ПРОДВИНУТЫЕ ОПЕРАЦИИ С ВЕКТОРАМИ"
      ]
    },
    {
      "cell_type": "code",
      "execution_count": null,
      "metadata": {
        "id": "q9FZ5bxiZNM0"
      },
      "outputs": [],
      "source": [
        "vec = np.array([3, 4])"
      ]
    },
    {
      "cell_type": "code",
      "execution_count": null,
      "metadata": {
        "colab": {
          "base_uri": "https://localhost:8080/"
        },
        "id": "DjUkX3buZT4z",
        "outputId": "81a3fa48-96c3-4c0c-970a-34d4f83f4279"
      },
      "outputs": [
        {
          "name": "stdout",
          "output_type": "stream",
          "text": [
            "5.0\n"
          ]
        }
      ],
      "source": [
        "length = np.sqrt(np.sum(vec ** 2))\n",
        "print(length)\n",
        "# 5.0"
      ]
    },
    {
      "cell_type": "code",
      "execution_count": null,
      "metadata": {
        "colab": {
          "base_uri": "https://localhost:8080/"
        },
        "id": "YD5gosBnZspT",
        "outputId": "e8de794a-86e0-49f1-851a-3d88ad85717a"
      },
      "outputs": [
        {
          "name": "stdout",
          "output_type": "stream",
          "text": [
            "5.0\n"
          ]
        }
      ],
      "source": [
        "length = np.linalg.norm(vec)\n",
        "print(length)\n",
        "# 5.0"
      ]
    },
    {
      "cell_type": "code",
      "execution_count": null,
      "metadata": {
        "colab": {
          "base_uri": "https://localhost:8080/"
        },
        "id": "_ceQcZE2amKD",
        "outputId": "9040a627-4805-4eac-ad1a-cddf45ad1a1a"
      },
      "outputs": [
        {
          "data": {
            "text/plain": [
              "12.206555615733702"
            ]
          },
          "execution_count": 28,
          "metadata": {},
          "output_type": "execute_result"
        }
      ],
      "source": [
        "vec1 = np.array([0, 3, 5])\n",
        "vec2 = np.array([12, 4, 7])\n",
        "distance = np.sqrt(np.sum((vec1 - vec2) ** 2))\n",
        "distance\n",
        "# 12.206555615733702"
      ]
    },
    {
      "cell_type": "code",
      "execution_count": null,
      "metadata": {
        "colab": {
          "base_uri": "https://localhost:8080/"
        },
        "id": "Ii7R7ByCa-dz",
        "outputId": "cb6a80fa-8045-4b13-d5f9-94789ef33d96"
      },
      "outputs": [
        {
          "data": {
            "text/plain": [
              "12.206555615733702"
            ]
          },
          "execution_count": 29,
          "metadata": {},
          "output_type": "execute_result"
        }
      ],
      "source": [
        "vec1 = np.array([0, 3, 5])\n",
        "vec2 = np.array([12, 4, 7])\n",
        "distance = np.linalg.norm(vec1 - vec2)\n",
        "distance\n",
        "# 12.206555615733702"
      ]
    },
    {
      "cell_type": "code",
      "execution_count": null,
      "metadata": {
        "colab": {
          "base_uri": "https://localhost:8080/"
        },
        "id": "0-Tu6xmxcBqL",
        "outputId": "68f53eba-a40c-4d14-e1b5-29c0c9a06305"
      },
      "outputs": [
        {
          "data": {
            "text/plain": [
              "250.0"
            ]
          },
          "execution_count": 30,
          "metadata": {},
          "output_type": "execute_result"
        }
      ],
      "source": [
        "vec1 = np.arange(1, 6)\n",
        "vec2 = np.linspace(10, 20, 5)\n",
        "scalar_product = np.sum(vec1 * vec2)\n",
        "scalar_product\n",
        "# 250.0"
      ]
    },
    {
      "cell_type": "code",
      "execution_count": null,
      "metadata": {
        "colab": {
          "base_uri": "https://localhost:8080/"
        },
        "id": "-MUyVGnRcS0q",
        "outputId": "823e9e72-b415-42d6-d4e9-9b22fc745964"
      },
      "outputs": [
        {
          "data": {
            "text/plain": [
              "250.0"
            ]
          },
          "execution_count": 31,
          "metadata": {},
          "output_type": "execute_result"
        }
      ],
      "source": [
        "scalar_product = np.dot(vec1, vec2)\n",
        "scalar_product\n",
        "# 250.0"
      ]
    },
    {
      "cell_type": "code",
      "execution_count": null,
      "metadata": {
        "colab": {
          "base_uri": "https://localhost:8080/"
        },
        "id": "dHbU6mW7cf7a",
        "outputId": "f4d27c13-4c39-4696-a9c8-9bbf06bccd9f"
      },
      "outputs": [
        {
          "data": {
            "text/plain": [
              "0"
            ]
          },
          "execution_count": 32,
          "metadata": {},
          "output_type": "execute_result"
        }
      ],
      "source": [
        "x = np.array([25, 0])\n",
        "y = np.array([0, 10])\n",
        "np.dot(x, y)\n",
        "# 0"
      ]
    },
    {
      "cell_type": "markdown",
      "metadata": {
        "id": "LhnaXmO3hpFw"
      },
      "source": [
        "\n",
        "\n",
        "---\n",
        "\n"
      ]
    },
    {
      "cell_type": "code",
      "execution_count": null,
      "metadata": {
        "colab": {
          "base_uri": "https://localhost:8080/"
        },
        "id": "7mhOOqgohqLo",
        "outputId": "134ea6df-caa8-4920-9936-6b7d50bce34a"
      },
      "outputs": [
        {
          "name": "stdout",
          "output_type": "stream",
          "text": [
            "120.07611358830478\n",
            "169.20858757445777\n",
            "147.39742195845895\n",
            "\n",
            "86.68909966079934\n",
            "121.75795661885921\n",
            "147.39742195845895\n",
            "\n",
            "85.901105930017\n",
            "120.6358155772986\n",
            "49.13247398615299\n",
            "\n",
            "34\n",
            "68\n",
            "4828\n"
          ]
        }
      ],
      "source": [
        "import numpy as np\n",
        "a = np.array([23, 34, 27])\n",
        "b = np.array([-54, 1,  46])\n",
        "c = np.array([46, 68, 54])\n",
        "\n",
        "# Пишите здесь команды, который помогут\n",
        "# найти ответы на вопросы\n",
        "length_a = np.linalg.norm(a)\n",
        "length_b = np.linalg.norm(b)\n",
        "length_c = np.linalg.norm(c)\n",
        "\n",
        "print(length_a+length_b)\n",
        "print(length_b+length_c)\n",
        "print(length_a+length_c)\n",
        "print()\n",
        "print(np.linalg.norm(a + b))\n",
        "print(np.linalg.norm(b + c))\n",
        "print(np.linalg.norm(a + c))\n",
        "print()\n",
        "print(np.linalg.norm(a - b))\n",
        "print(np.linalg.norm(b - c))\n",
        "print(np.linalg.norm(a - c))\n",
        "print()\n",
        "print(np.dot(a, b))\n",
        "print(np.dot(b, c))\n",
        "print(np.dot(a, c))"
      ]
    },
    {
      "cell_type": "markdown",
      "metadata": {
        "id": "RpA37ux8jiCk"
      },
      "source": [
        "\n",
        "\n",
        "---\n",
        "\n",
        "БАЗОВЫЕ СТАТИСТИЧЕСКИЕ ФУНКЦИИ ДЛЯ ВЕКТОРОВ"
      ]
    },
    {
      "cell_type": "code",
      "execution_count": null,
      "metadata": {
        "colab": {
          "base_uri": "https://localhost:8080/"
        },
        "id": "LvYfBMeRjjOA",
        "outputId": "142792b9-2fee-488b-84f3-e9ff7009ee4d"
      },
      "outputs": [
        {
          "data": {
            "text/plain": [
              "1"
            ]
          },
          "execution_count": 39,
          "metadata": {},
          "output_type": "execute_result"
        }
      ],
      "source": [
        "vec = np.array([2,7,18,28,18,1,8,4])\n",
        "vec.min()\n",
        "# 1"
      ]
    },
    {
      "cell_type": "code",
      "execution_count": null,
      "metadata": {
        "colab": {
          "base_uri": "https://localhost:8080/"
        },
        "id": "sZGpmAQWjzpX",
        "outputId": "81126776-7615-4d74-f383-6d2b57156a3a"
      },
      "outputs": [
        {
          "data": {
            "text/plain": [
              "28"
            ]
          },
          "execution_count": 38,
          "metadata": {},
          "output_type": "execute_result"
        }
      ],
      "source": [
        "np.max(vec)\n",
        "# 28"
      ]
    },
    {
      "cell_type": "code",
      "execution_count": null,
      "metadata": {
        "colab": {
          "base_uri": "https://localhost:8080/"
        },
        "id": "mhXMbVgKj_K7",
        "outputId": "b8fadb2b-2505-4fb5-b636-a5f86f996830"
      },
      "outputs": [
        {
          "data": {
            "text/plain": [
              "10.75"
            ]
          },
          "execution_count": 40,
          "metadata": {},
          "output_type": "execute_result"
        }
      ],
      "source": [
        "vec.mean()\n",
        "# 10.75"
      ]
    },
    {
      "cell_type": "code",
      "execution_count": null,
      "metadata": {
        "id": "lboua5mql-of"
      },
      "outputs": [],
      "source": [
        "# from hidden import mystery\n",
        "# # Пишите здесь команды, который помогут\n",
        "# # найти ответы на вопросы\n",
        "# import numpy as np\n",
        "\n",
        "# print(np.min(mystery))\n",
        "# print(np.mean(mystery))\n",
        "# print(np.median(mystery))\n",
        "# print(np.std(mystery))"
      ]
    },
    {
      "cell_type": "markdown",
      "metadata": {
        "id": "AQ14b9n8mBNP"
      },
      "source": [
        "\n",
        "\n",
        "---\n",
        "\n",
        "# 9. Модуль NumPy. Случайные числа"
      ]
    },
    {
      "cell_type": "markdown",
      "metadata": {
        "id": "WZOALnA05zdf"
      },
      "source": [
        "СЛУЧАЙНЫЕ ЧИСЛА В NUMPY"
      ]
    },
    {
      "cell_type": "markdown",
      "metadata": {
        "id": "95dk8Ljw52fE"
      },
      "source": [
        "ГЕНЕРАЦИЯ FLOAT"
      ]
    },
    {
      "cell_type": "code",
      "execution_count": 1,
      "metadata": {
        "colab": {
          "base_uri": "https://localhost:8080/"
        },
        "id": "sZ0KBlTB6Azt",
        "outputId": "22111ec7-0a15-4160-c3c8-214384b27ba9"
      },
      "outputs": [
        {
          "data": {
            "text/plain": [
              "0.9940439022551997"
            ]
          },
          "execution_count": 1,
          "metadata": {},
          "output_type": "execute_result"
        }
      ],
      "source": [
        "import numpy as np\n",
        "np.random.rand()\n",
        "# 0.06600758835806675"
      ]
    },
    {
      "cell_type": "code",
      "execution_count": 2,
      "metadata": {
        "colab": {
          "base_uri": "https://localhost:8080/"
        },
        "id": "AMAiMhoX6MDR",
        "outputId": "c5f5b806-ca9f-42d9-bbbe-d65960fe1a6b"
      },
      "outputs": [
        {
          "data": {
            "text/plain": [
              "5.374879946862709"
            ]
          },
          "execution_count": 2,
          "metadata": {},
          "output_type": "execute_result"
        }
      ],
      "source": [
        "np.random.rand() * 100\n",
        "# 69.76076924077643"
      ]
    },
    {
      "cell_type": "code",
      "execution_count": 3,
      "metadata": {
        "colab": {
          "base_uri": "https://localhost:8080/"
        },
        "id": "7WoUuBZj6Xyd",
        "outputId": "69d07615-902a-44f5-cf5c-73392cb2869b"
      },
      "outputs": [
        {
          "data": {
            "text/plain": [
              "array([0.44691998, 0.5146289 , 0.26414629, 0.12947618, 0.2943741 ])"
            ]
          },
          "execution_count": 3,
          "metadata": {},
          "output_type": "execute_result"
        }
      ],
      "source": [
        "np.random.rand(5)\n",
        "# array([0.83745099, 0.58426808, 0.89206204, 0.41149807, 0.42445145])"
      ]
    },
    {
      "cell_type": "code",
      "execution_count": 4,
      "metadata": {
        "colab": {
          "base_uri": "https://localhost:8080/"
        },
        "id": "3KsgNUW86pp1",
        "outputId": "443df610-5203-47d1-c79d-c25ee33d8020"
      },
      "outputs": [
        {
          "data": {
            "text/plain": [
              "array([[0.55980569, 0.23381943, 0.70698689],\n",
              "       [0.34707657, 0.51769242, 0.08879115]])"
            ]
          },
          "execution_count": 4,
          "metadata": {},
          "output_type": "execute_result"
        }
      ],
      "source": [
        "np.random.rand(2, 3)\n",
        "# array([[0.94931212, 0.06680018, 0.26707599],\n",
        "#      [0.67908873, 0.18001743, 0.97732239]])"
      ]
    },
    {
      "cell_type": "code",
      "execution_count": 5,
      "metadata": {
        "colab": {
          "base_uri": "https://localhost:8080/"
        },
        "id": "9amC77vd601u",
        "outputId": "35a1aca2-4a1a-474d-bfa0-b8bf3e5f434a"
      },
      "outputs": [
        {
          "data": {
            "text/plain": [
              "array([[[[[[5.57307196e-01, 6.37094489e-01, 8.15559931e-01, ...,\n",
              "            3.68397125e-01, 1.55636540e-01, 4.81996194e-03],\n",
              "           [6.54011059e-01, 4.51373852e-01, 7.09986547e-01, ...,\n",
              "            7.84634881e-01, 9.60785446e-01, 8.52762007e-01],\n",
              "           [7.45128864e-01, 3.38125713e-01, 8.50622821e-01, ...,\n",
              "            6.78716749e-01, 7.67334547e-01, 9.60061137e-02],\n",
              "           ...,\n",
              "           [6.20827217e-01, 8.45689115e-01, 5.02239263e-01, ...,\n",
              "            1.80655514e-01, 4.88743011e-01, 4.98860908e-01],\n",
              "           [8.81341270e-01, 7.50157825e-01, 5.45709404e-01, ...,\n",
              "            7.77660175e-01, 8.73446713e-01, 5.42392588e-02],\n",
              "           [2.54190751e-01, 8.95332933e-01, 1.54104075e-01, ...,\n",
              "            8.63807176e-01, 6.43318086e-01, 2.67442790e-01]],\n",
              "\n",
              "          [[3.17529560e-01, 2.94935503e-01, 4.24978463e-01, ...,\n",
              "            2.84702246e-01, 4.87411235e-01, 3.08744736e-01],\n",
              "           [1.50980091e-01, 9.95904648e-01, 7.01003044e-01, ...,\n",
              "            4.39715838e-01, 6.74164330e-02, 9.44201200e-01],\n",
              "           [5.88756579e-01, 5.67699287e-01, 6.65581907e-01, ...,\n",
              "            7.37995244e-01, 9.03465577e-01, 1.99205001e-01],\n",
              "           ...,\n",
              "           [2.38871937e-01, 2.44268401e-01, 4.03152704e-01, ...,\n",
              "            8.83138307e-01, 6.85680258e-01, 1.31941413e-01],\n",
              "           [1.06450885e-01, 2.11439565e-02, 4.22171303e-01, ...,\n",
              "            3.27637678e-01, 7.95460182e-01, 4.92102074e-01],\n",
              "           [9.91372788e-01, 7.76794865e-01, 2.30606283e-01, ...,\n",
              "            8.09710255e-01, 7.77952623e-01, 4.81224430e-01]],\n",
              "\n",
              "          [[9.65327247e-01, 2.58094928e-01, 7.19638937e-01, ...,\n",
              "            4.54208585e-01, 7.75527724e-01, 6.30184276e-02],\n",
              "           [4.87784005e-02, 4.11483963e-01, 3.83544270e-01, ...,\n",
              "            9.89663925e-01, 3.00033883e-01, 5.83421909e-01],\n",
              "           [1.70484889e-01, 9.43571832e-01, 9.16989790e-01, ...,\n",
              "            6.78954609e-02, 3.91216465e-01, 5.36537350e-01],\n",
              "           ...,\n",
              "           [9.61591748e-01, 2.30605635e-01, 6.96528815e-01, ...,\n",
              "            1.74220561e-01, 3.74235251e-01, 8.86855989e-01],\n",
              "           [8.25548484e-01, 4.60640180e-01, 5.81807119e-01, ...,\n",
              "            3.19878565e-01, 9.81845695e-01, 5.36184729e-01],\n",
              "           [3.85873482e-01, 2.58878504e-01, 4.09440064e-01, ...,\n",
              "            6.94527058e-01, 6.31150839e-01, 6.81333818e-01]],\n",
              "\n",
              "          ...,\n",
              "\n",
              "          [[9.76794187e-01, 7.42464630e-01, 3.31010451e-01, ...,\n",
              "            4.45540958e-01, 4.64245326e-01, 8.98243652e-02],\n",
              "           [6.93373645e-01, 4.07595367e-01, 5.35791109e-01, ...,\n",
              "            6.91795553e-01, 9.26088319e-01, 6.37838331e-01],\n",
              "           [7.60386198e-01, 8.19728666e-01, 8.92332328e-01, ...,\n",
              "            5.47709329e-01, 2.49993129e-01, 9.46006093e-02],\n",
              "           ...,\n",
              "           [6.07514349e-01, 6.93376651e-01, 1.23589245e-01, ...,\n",
              "            1.31863976e-01, 4.38199946e-01, 6.57077600e-01],\n",
              "           [1.57143221e-01, 5.29842973e-01, 4.41470923e-01, ...,\n",
              "            1.52977202e-01, 5.27644905e-01, 1.01082090e-01],\n",
              "           [9.48115133e-01, 2.13284942e-01, 9.13485864e-01, ...,\n",
              "            5.17289770e-01, 9.78025467e-01, 2.62727648e-01]],\n",
              "\n",
              "          [[4.53914474e-01, 2.24383887e-01, 8.64652525e-01, ...,\n",
              "            6.52009189e-02, 2.56424016e-01, 5.12874653e-01],\n",
              "           [9.95599465e-01, 7.95471251e-01, 6.03859088e-01, ...,\n",
              "            3.71617077e-01, 3.10088667e-01, 9.40580717e-01],\n",
              "           [7.48263965e-01, 6.38498117e-01, 4.13931298e-01, ...,\n",
              "            5.90613338e-01, 1.08128484e-01, 8.14080860e-01],\n",
              "           ...,\n",
              "           [8.29934926e-01, 1.67155293e-01, 9.56039914e-01, ...,\n",
              "            1.90994714e-01, 7.88196000e-01, 5.17489420e-01],\n",
              "           [3.03064866e-02, 8.85919311e-01, 5.24013895e-01, ...,\n",
              "            9.69137972e-01, 9.21264926e-01, 1.17907744e-01],\n",
              "           [3.82606082e-01, 3.56874104e-01, 6.86802967e-01, ...,\n",
              "            2.80233710e-01, 8.34889715e-01, 7.48780476e-01]],\n",
              "\n",
              "          [[8.17817042e-01, 9.77204994e-01, 4.72360294e-01, ...,\n",
              "            3.58596345e-01, 6.67675041e-02, 3.22210982e-01],\n",
              "           [2.25942090e-01, 3.99074805e-01, 6.12344680e-01, ...,\n",
              "            3.14920120e-01, 3.01115430e-01, 3.80227276e-01],\n",
              "           [6.80534909e-01, 4.75721185e-01, 9.01878779e-01, ...,\n",
              "            2.73239029e-01, 2.13154662e-02, 7.16286101e-01],\n",
              "           ...,\n",
              "           [5.36813911e-01, 9.77350074e-01, 7.00174062e-01, ...,\n",
              "            2.73651397e-01, 1.32562425e-01, 8.06346345e-01],\n",
              "           [9.01231727e-02, 6.49574866e-01, 2.17939398e-01, ...,\n",
              "            2.20979297e-01, 6.48257418e-01, 4.90941742e-01],\n",
              "           [2.72808353e-01, 8.63958056e-01, 5.39647605e-01, ...,\n",
              "            9.57587885e-01, 5.80673695e-01, 3.45029203e-01]]],\n",
              "\n",
              "\n",
              "         [[[1.16365386e-01, 1.76327827e-01, 6.86715093e-01, ...,\n",
              "            4.77036380e-01, 1.07469384e-01, 2.18477748e-01],\n",
              "           [3.55994338e-01, 9.95719662e-02, 1.23796943e-02, ...,\n",
              "            7.42048521e-01, 8.04570933e-01, 4.00875604e-02],\n",
              "           [5.64481763e-01, 3.26613893e-01, 1.89600551e-01, ...,\n",
              "            5.34480760e-01, 6.34191013e-01, 2.46135756e-01],\n",
              "           ...,\n",
              "           [5.74771856e-01, 2.58999202e-01, 7.79328787e-01, ...,\n",
              "            7.06257105e-01, 6.77335894e-01, 5.51086220e-02],\n",
              "           [4.38435164e-01, 2.85288652e-02, 1.64117238e-01, ...,\n",
              "            4.31461445e-01, 2.53697366e-01, 7.28610047e-02],\n",
              "           [3.97231691e-01, 2.12074605e-02, 9.21477975e-01, ...,\n",
              "            7.25374189e-02, 4.96349800e-01, 8.57073913e-02]],\n",
              "\n",
              "          [[3.34332506e-01, 6.24456591e-02, 4.08710170e-01, ...,\n",
              "            5.95974812e-01, 1.30458967e-01, 6.52087003e-01],\n",
              "           [3.84330514e-01, 6.67392783e-01, 2.57640804e-01, ...,\n",
              "            2.11573702e-01, 9.54202661e-01, 6.92081053e-01],\n",
              "           [4.92706328e-01, 4.34677993e-01, 4.78317287e-01, ...,\n",
              "            3.70333186e-01, 3.76186396e-01, 6.08960236e-02],\n",
              "           ...,\n",
              "           [8.48557873e-01, 8.88192739e-01, 8.97319063e-01, ...,\n",
              "            7.60167462e-01, 6.09426960e-01, 8.64379597e-01],\n",
              "           [4.41097275e-01, 7.92305253e-02, 2.44657068e-02, ...,\n",
              "            3.86369305e-02, 7.15288353e-01, 6.49406207e-01],\n",
              "           [7.00597506e-01, 7.15043753e-01, 6.16864354e-01, ...,\n",
              "            3.91429241e-03, 6.08945796e-01, 5.69611444e-01]],\n",
              "\n",
              "          [[9.53798121e-01, 4.16542715e-02, 3.90785427e-01, ...,\n",
              "            9.79635191e-01, 3.78560380e-01, 2.25492218e-01],\n",
              "           [9.98874254e-01, 4.15484396e-01, 2.13708339e-01, ...,\n",
              "            2.98199224e-01, 6.32846703e-01, 4.79038340e-02],\n",
              "           [5.17269521e-01, 6.82180673e-01, 4.44273338e-01, ...,\n",
              "            7.99503615e-01, 7.61611678e-01, 4.07056708e-01],\n",
              "           ...,\n",
              "           [8.45791471e-01, 4.57707140e-01, 6.83579676e-01, ...,\n",
              "            4.76659669e-01, 7.00462095e-01, 7.77144305e-01],\n",
              "           [8.96202649e-01, 6.80022463e-01, 9.30928150e-01, ...,\n",
              "            3.29984718e-01, 2.63232877e-01, 4.67959688e-01],\n",
              "           [1.21527759e-01, 2.00157440e-01, 7.08498265e-01, ...,\n",
              "            1.33910573e-01, 8.80900334e-01, 4.16139656e-02]],\n",
              "\n",
              "          ...,\n",
              "\n",
              "          [[7.00793228e-01, 9.22933269e-02, 4.76153642e-01, ...,\n",
              "            8.12652183e-01, 2.25434675e-01, 1.41034676e-01],\n",
              "           [9.62045323e-01, 9.18281047e-01, 5.44255192e-01, ...,\n",
              "            6.96738220e-01, 1.71297535e-01, 7.79353981e-01],\n",
              "           [6.32831720e-01, 1.76763195e-01, 9.72848748e-01, ...,\n",
              "            8.34849136e-01, 3.10020384e-01, 6.18290188e-01],\n",
              "           ...,\n",
              "           [8.10151520e-01, 5.52317325e-02, 7.64616196e-01, ...,\n",
              "            4.99962884e-01, 8.05081411e-01, 4.88836572e-01],\n",
              "           [5.30938229e-01, 7.89921811e-02, 6.52160325e-01, ...,\n",
              "            2.50602489e-01, 8.52807109e-01, 2.64791789e-02],\n",
              "           [7.65283173e-01, 1.26999773e-01, 5.86095560e-01, ...,\n",
              "            6.67037681e-01, 1.87776528e-01, 9.35309391e-01]],\n",
              "\n",
              "          [[7.24449213e-01, 5.26018396e-01, 8.95052000e-01, ...,\n",
              "            6.02329484e-02, 1.52543222e-01, 5.80213327e-01],\n",
              "           [9.52070376e-01, 3.22369369e-01, 8.93715007e-01, ...,\n",
              "            1.69331014e-01, 3.78678061e-01, 9.90055390e-01],\n",
              "           [1.83343345e-01, 8.22370733e-01, 3.73990782e-02, ...,\n",
              "            3.71649723e-01, 2.01224418e-01, 3.65170648e-02],\n",
              "           ...,\n",
              "           [2.62768548e-01, 1.56179953e-01, 3.53555253e-01, ...,\n",
              "            7.34814922e-01, 1.21683763e-01, 4.58532762e-01],\n",
              "           [8.97308794e-01, 2.25312958e-01, 5.05941162e-02, ...,\n",
              "            9.52689804e-01, 9.81879228e-01, 7.41957798e-02],\n",
              "           [2.73198445e-01, 2.02080406e-01, 6.75098826e-01, ...,\n",
              "            1.50839649e-01, 7.70261449e-01, 8.78416474e-01]],\n",
              "\n",
              "          [[5.33757617e-01, 6.83416457e-01, 3.24948041e-01, ...,\n",
              "            2.87897021e-01, 9.03891650e-01, 9.29911058e-01],\n",
              "           [2.87952856e-01, 8.83715929e-01, 2.40282646e-01, ...,\n",
              "            3.24556760e-01, 6.66358370e-01, 5.01512048e-01],\n",
              "           [6.47458990e-01, 6.36778344e-02, 1.94869418e-01, ...,\n",
              "            5.82722099e-01, 9.57900185e-01, 3.12245743e-01],\n",
              "           ...,\n",
              "           [8.61431129e-01, 4.12544440e-01, 8.46110833e-01, ...,\n",
              "            2.75919206e-01, 7.33485218e-01, 1.21369643e-01],\n",
              "           [5.56105684e-01, 2.88536326e-01, 6.48683432e-01, ...,\n",
              "            2.33819297e-01, 6.86869101e-01, 3.20256949e-01],\n",
              "           [3.87617689e-01, 9.98018448e-01, 4.52325401e-01, ...,\n",
              "            9.28087903e-01, 8.64161146e-01, 3.92480663e-01]]],\n",
              "\n",
              "\n",
              "         [[[4.20804999e-01, 4.02309386e-01, 8.50149276e-01, ...,\n",
              "            4.39105164e-01, 5.13423709e-01, 6.43441723e-01],\n",
              "           [8.04477333e-01, 7.44517766e-01, 6.75534515e-01, ...,\n",
              "            9.05482794e-03, 9.36328493e-01, 1.40086870e-02],\n",
              "           [8.14303696e-01, 9.00233757e-01, 2.76082422e-01, ...,\n",
              "            2.84826468e-01, 5.22307714e-01, 9.45479219e-01],\n",
              "           ...,\n",
              "           [5.02363321e-02, 2.84336524e-01, 9.73776930e-01, ...,\n",
              "            4.55919802e-01, 7.99177726e-01, 5.45461808e-01],\n",
              "           [1.15166316e-01, 5.26272074e-01, 4.46677397e-01, ...,\n",
              "            8.31789974e-01, 9.65110825e-01, 9.16555606e-01],\n",
              "           [4.50883550e-01, 5.13407827e-01, 9.47800440e-01, ...,\n",
              "            8.62895247e-01, 8.86714858e-01, 1.94330982e-01]],\n",
              "\n",
              "          [[6.48296421e-01, 4.88939638e-01, 8.46806019e-01, ...,\n",
              "            2.42234625e-01, 5.93142742e-01, 2.18207381e-01],\n",
              "           [2.23860916e-01, 7.02229865e-01, 8.46853288e-01, ...,\n",
              "            7.94101368e-01, 5.07262861e-01, 6.09891601e-01],\n",
              "           [3.17112998e-01, 7.02811661e-01, 1.99965349e-01, ...,\n",
              "            6.86812796e-01, 4.48324273e-01, 2.88314794e-01],\n",
              "           ...,\n",
              "           [6.01682516e-01, 2.42459217e-01, 1.59739014e-01, ...,\n",
              "            3.26182285e-01, 2.76691063e-01, 6.41284320e-01],\n",
              "           [8.20391960e-01, 2.18305744e-01, 3.80082818e-01, ...,\n",
              "            5.70913150e-01, 2.03473924e-01, 3.99564059e-02],\n",
              "           [8.34339656e-01, 5.77302726e-01, 8.04208326e-01, ...,\n",
              "            7.49135656e-01, 3.95977829e-01, 9.92514106e-01]],\n",
              "\n",
              "          [[3.87857267e-01, 1.61962701e-01, 4.76152958e-01, ...,\n",
              "            3.02256806e-01, 2.62585480e-01, 4.26874965e-01],\n",
              "           [1.61568244e-01, 7.42030268e-02, 3.65819835e-01, ...,\n",
              "            7.35887841e-01, 3.45872123e-01, 5.31775413e-02],\n",
              "           [9.11128789e-01, 9.70810483e-01, 4.31832826e-01, ...,\n",
              "            2.47510484e-01, 4.04474764e-02, 6.07760619e-01],\n",
              "           ...,\n",
              "           [7.52727612e-01, 7.26128280e-01, 9.48850297e-01, ...,\n",
              "            5.45195929e-01, 1.23558017e-01, 5.54673664e-01],\n",
              "           [8.44744069e-01, 4.23335437e-01, 7.20888669e-01, ...,\n",
              "            9.39161979e-01, 2.60918195e-01, 3.81547736e-01],\n",
              "           [2.82177131e-01, 7.24753613e-02, 9.14229363e-01, ...,\n",
              "            5.27389039e-01, 3.55400492e-01, 2.79661830e-01]],\n",
              "\n",
              "          ...,\n",
              "\n",
              "          [[8.14734910e-01, 7.80774011e-01, 9.92322129e-02, ...,\n",
              "            5.41092294e-01, 6.46197936e-01, 5.16951240e-01],\n",
              "           [7.68794929e-01, 4.44086934e-01, 2.63148247e-01, ...,\n",
              "            2.18491310e-01, 8.76927906e-01, 1.62013093e-01],\n",
              "           [5.84237349e-01, 2.36543480e-01, 7.11957573e-01, ...,\n",
              "            6.56405649e-01, 5.95342461e-01, 8.63847850e-01],\n",
              "           ...,\n",
              "           [8.54457363e-01, 9.11123198e-01, 2.99882313e-01, ...,\n",
              "            6.51908973e-01, 2.14168628e-01, 6.36681772e-01],\n",
              "           [9.78274480e-01, 4.71365281e-01, 7.85059035e-01, ...,\n",
              "            6.53897453e-01, 9.06253080e-01, 3.83697020e-01],\n",
              "           [1.25973171e-01, 2.08252985e-01, 4.87926624e-01, ...,\n",
              "            4.73490602e-01, 8.71075852e-01, 9.75857380e-01]],\n",
              "\n",
              "          [[6.02591319e-01, 7.31284545e-01, 4.38278292e-01, ...,\n",
              "            9.29077218e-01, 1.89036794e-01, 5.31156394e-01],\n",
              "           [9.66980015e-02, 1.46662873e-01, 2.55406101e-01, ...,\n",
              "            1.73995623e-01, 9.82740395e-01, 2.21852919e-01],\n",
              "           [2.02488611e-01, 2.00608913e-02, 3.52119741e-02, ...,\n",
              "            5.80674316e-01, 3.13736759e-01, 9.84073458e-01],\n",
              "           ...,\n",
              "           [1.34889495e-01, 1.98354477e-02, 3.13384027e-01, ...,\n",
              "            6.52210615e-01, 1.69583950e-01, 3.79915290e-01],\n",
              "           [4.29260608e-01, 4.34749286e-01, 8.00483328e-01, ...,\n",
              "            2.78325233e-01, 4.14650959e-01, 4.51390565e-01],\n",
              "           [9.38433496e-02, 1.99288084e-01, 1.93705148e-01, ...,\n",
              "            8.63076735e-01, 5.75536805e-01, 9.35267273e-01]],\n",
              "\n",
              "          [[2.85600089e-01, 1.99073905e-01, 7.50887492e-01, ...,\n",
              "            1.10106160e-01, 4.05112197e-01, 7.96587854e-01],\n",
              "           [1.87453096e-01, 5.21020679e-01, 8.46375577e-01, ...,\n",
              "            7.37751604e-01, 8.67271439e-01, 8.29445304e-01],\n",
              "           [7.91414687e-01, 1.97316383e-01, 5.23484090e-01, ...,\n",
              "            6.28216075e-01, 3.26550372e-01, 4.06403798e-01],\n",
              "           ...,\n",
              "           [9.49459634e-01, 7.04053155e-01, 3.90429798e-01, ...,\n",
              "            1.46922696e-01, 6.29122297e-01, 4.81755037e-01],\n",
              "           [2.87433513e-01, 1.48660956e-01, 4.10854012e-01, ...,\n",
              "            3.29094564e-01, 3.59226737e-01, 1.66536782e-01],\n",
              "           [4.66205358e-01, 6.77822662e-01, 3.67798435e-01, ...,\n",
              "            9.05178800e-01, 5.01324994e-01, 9.49041074e-01]]],\n",
              "\n",
              "\n",
              "         [[[7.79868065e-01, 2.19754476e-01, 9.15949339e-01, ...,\n",
              "            9.51067291e-01, 1.85444958e-01, 8.91153950e-01],\n",
              "           [6.38830128e-02, 8.96383843e-01, 7.66886848e-01, ...,\n",
              "            8.20787507e-01, 9.59345839e-01, 6.82500061e-01],\n",
              "           [5.55027569e-01, 6.54270855e-01, 6.84949427e-01, ...,\n",
              "            4.23871550e-01, 4.32153788e-01, 9.57848291e-01],\n",
              "           ...,\n",
              "           [7.37389878e-01, 4.16266225e-01, 3.14646477e-01, ...,\n",
              "            1.41018837e-01, 7.72639220e-01, 4.21992917e-01],\n",
              "           [3.86772000e-01, 4.60477556e-01, 9.12112268e-01, ...,\n",
              "            8.97171636e-01, 9.67322663e-01, 4.42121583e-01],\n",
              "           [6.35330969e-01, 8.50968101e-01, 7.40020185e-01, ...,\n",
              "            1.15489751e-01, 3.10719591e-01, 2.06210738e-02]],\n",
              "\n",
              "          [[5.63062629e-01, 3.73022612e-01, 5.93150815e-01, ...,\n",
              "            7.70557459e-01, 2.07263028e-03, 5.98327622e-01],\n",
              "           [4.13998435e-01, 8.16939216e-01, 6.81637916e-01, ...,\n",
              "            8.81050746e-01, 5.69974673e-01, 3.21615421e-02],\n",
              "           [3.97325916e-01, 3.92221786e-02, 5.81297187e-03, ...,\n",
              "            8.88368701e-01, 9.69293613e-02, 6.37823681e-01],\n",
              "           ...,\n",
              "           [7.55306361e-01, 9.92743655e-01, 6.89629151e-03, ...,\n",
              "            3.84657507e-01, 9.91610591e-01, 2.70453204e-01],\n",
              "           [9.97042219e-01, 7.50816905e-01, 4.47981774e-01, ...,\n",
              "            3.54294595e-01, 9.32597726e-02, 3.03314311e-01],\n",
              "           [5.15370272e-01, 7.57869072e-01, 7.60010410e-01, ...,\n",
              "            9.74385507e-01, 7.81028677e-01, 1.66169781e-01]],\n",
              "\n",
              "          [[9.23158028e-01, 4.85877773e-02, 2.40353491e-02, ...,\n",
              "            3.20536777e-01, 7.10870965e-01, 3.17646396e-01],\n",
              "           [7.14180964e-01, 2.55773148e-01, 1.36903038e-01, ...,\n",
              "            7.82882605e-01, 4.07020727e-01, 2.89814665e-01],\n",
              "           [1.75201363e-02, 3.91879456e-01, 2.97523262e-01, ...,\n",
              "            1.56224728e-01, 9.04415495e-01, 4.61321435e-01],\n",
              "           ...,\n",
              "           [3.77273120e-01, 4.78945885e-01, 2.53961475e-02, ...,\n",
              "            9.11904403e-02, 7.81769878e-01, 2.96471223e-01],\n",
              "           [2.33422783e-01, 9.46214908e-01, 5.32365191e-01, ...,\n",
              "            5.64816460e-02, 6.07924505e-01, 8.47884574e-01],\n",
              "           [7.17996890e-01, 2.25304538e-01, 8.35104537e-01, ...,\n",
              "            6.39132683e-01, 7.95925177e-02, 1.28822402e-01]],\n",
              "\n",
              "          ...,\n",
              "\n",
              "          [[7.43916016e-01, 4.43487581e-01, 5.55637199e-01, ...,\n",
              "            9.29175570e-01, 9.94628820e-01, 5.86999508e-01],\n",
              "           [3.72368642e-01, 4.89762736e-01, 1.42337913e-02, ...,\n",
              "            9.89804760e-01, 6.06307225e-01, 8.01569293e-01],\n",
              "           [8.42159241e-01, 2.31028157e-01, 1.04859492e-01, ...,\n",
              "            9.03680156e-01, 9.52144675e-01, 9.41677389e-01],\n",
              "           ...,\n",
              "           [9.72566821e-01, 5.70070503e-01, 2.48741196e-01, ...,\n",
              "            7.79385052e-01, 5.64233026e-01, 9.36455793e-01],\n",
              "           [6.70028415e-01, 4.27863665e-01, 2.86896660e-01, ...,\n",
              "            6.89218619e-01, 1.82057062e-01, 6.74398454e-01],\n",
              "           [4.10735910e-01, 5.67378396e-01, 1.08382649e-01, ...,\n",
              "            5.31554966e-01, 7.78923188e-01, 5.26273629e-02]],\n",
              "\n",
              "          [[7.31354981e-01, 4.21061281e-01, 7.38190644e-01, ...,\n",
              "            8.58766068e-01, 6.64974484e-01, 7.00027286e-01],\n",
              "           [9.74634199e-01, 7.94556241e-01, 5.97480269e-01, ...,\n",
              "            2.86016226e-01, 5.26075246e-01, 9.65377129e-01],\n",
              "           [8.14693930e-01, 7.13567103e-01, 3.32540701e-02, ...,\n",
              "            6.77129145e-01, 2.54238801e-01, 7.68938522e-01],\n",
              "           ...,\n",
              "           [3.96800448e-01, 6.49201371e-01, 4.18557506e-01, ...,\n",
              "            7.87547877e-01, 1.65375466e-01, 2.27798369e-01],\n",
              "           [1.85144705e-01, 4.56690143e-01, 3.96976291e-01, ...,\n",
              "            1.43617508e-02, 4.87507396e-01, 6.91860157e-01],\n",
              "           [2.87163591e-01, 9.19611037e-01, 2.20624360e-01, ...,\n",
              "            4.64227364e-01, 2.60462501e-02, 5.65393067e-02]],\n",
              "\n",
              "          [[3.56389589e-01, 2.62065053e-01, 2.08840284e-01, ...,\n",
              "            9.39070639e-01, 8.00533742e-01, 5.67480386e-01],\n",
              "           [6.08106104e-02, 1.55053825e-02, 8.03931354e-01, ...,\n",
              "            9.89241648e-01, 8.81387937e-01, 8.02590784e-02],\n",
              "           [1.62876730e-01, 7.66858242e-01, 2.51842820e-01, ...,\n",
              "            4.28595134e-02, 2.82476878e-01, 3.70705196e-01],\n",
              "           ...,\n",
              "           [1.84885293e-01, 6.98776222e-01, 9.33127028e-01, ...,\n",
              "            1.59737213e-01, 1.45880316e-01, 7.74464464e-02],\n",
              "           [2.98785474e-01, 8.54702431e-01, 9.33700109e-01, ...,\n",
              "            8.07043659e-01, 4.32360196e-01, 8.89048556e-01],\n",
              "           [9.71743061e-01, 7.21481434e-03, 6.17895090e-01, ...,\n",
              "            2.87643099e-01, 6.65328882e-01, 5.98040857e-01]]]],\n",
              "\n",
              "\n",
              "\n",
              "        [[[[2.98405393e-01, 4.00191441e-01, 6.14422571e-01, ...,\n",
              "            4.77922143e-02, 1.96469295e-01, 9.59606684e-01],\n",
              "           [9.65094771e-01, 1.33151650e-01, 7.99211729e-01, ...,\n",
              "            6.25360541e-01, 5.90906421e-01, 3.62123559e-01],\n",
              "           [3.64240379e-02, 8.97214664e-01, 6.74188796e-01, ...,\n",
              "            3.71961278e-01, 5.54712388e-01, 7.29332693e-01],\n",
              "           ...,\n",
              "           [5.18533887e-01, 7.36233280e-01, 9.45262869e-01, ...,\n",
              "            7.90341312e-01, 8.86447182e-04, 2.32267470e-01],\n",
              "           [9.82576541e-01, 4.49077365e-01, 5.91912486e-01, ...,\n",
              "            2.53490257e-01, 2.11780378e-01, 9.09743416e-01],\n",
              "           [9.18065203e-01, 4.34893144e-01, 3.22371756e-01, ...,\n",
              "            1.85994506e-02, 2.40827988e-01, 3.86843625e-01]],\n",
              "\n",
              "          [[5.62661355e-01, 4.66941750e-01, 5.56573719e-01, ...,\n",
              "            8.17960418e-01, 1.76704446e-01, 1.47502738e-02],\n",
              "           [4.21412417e-01, 1.05641984e-01, 9.45242297e-01, ...,\n",
              "            9.94328551e-01, 6.41941977e-01, 1.03237751e-01],\n",
              "           [6.45844063e-01, 9.38722635e-01, 5.33554898e-01, ...,\n",
              "            3.22473936e-01, 4.45873343e-01, 7.00647491e-01],\n",
              "           ...,\n",
              "           [9.39024785e-01, 9.20599951e-01, 4.09175713e-01, ...,\n",
              "            8.50925414e-01, 5.35377167e-01, 3.64826978e-01],\n",
              "           [1.42534112e-01, 2.83572890e-01, 2.26348567e-02, ...,\n",
              "            6.32702880e-01, 4.26908963e-01, 4.73799115e-01],\n",
              "           [1.31885595e-02, 2.92634110e-01, 2.39940708e-01, ...,\n",
              "            4.56924144e-02, 1.25226837e-01, 4.42440031e-01]],\n",
              "\n",
              "          [[1.56340358e-01, 5.38025961e-01, 1.71670161e-01, ...,\n",
              "            9.07770611e-01, 4.04047012e-02, 6.55305120e-01],\n",
              "           [8.30899252e-01, 3.66970259e-01, 5.35224810e-01, ...,\n",
              "            4.80611438e-02, 2.39266623e-01, 6.53884779e-01],\n",
              "           [5.58378935e-01, 9.08250675e-01, 4.02721396e-01, ...,\n",
              "            3.91679151e-01, 1.43819914e-01, 6.57212724e-01],\n",
              "           ...,\n",
              "           [6.95778050e-01, 5.34925898e-01, 9.90328978e-01, ...,\n",
              "            7.04175567e-01, 3.61628709e-01, 1.30811154e-01],\n",
              "           [7.51644657e-01, 1.54305995e-01, 1.75833477e-02, ...,\n",
              "            2.50896298e-01, 9.02638216e-01, 5.06218559e-01],\n",
              "           [9.53798543e-01, 8.85318787e-01, 7.20944280e-01, ...,\n",
              "            1.05641980e-01, 5.27158195e-01, 4.75443292e-01]],\n",
              "\n",
              "          ...,\n",
              "\n",
              "          [[7.17915478e-01, 5.91223057e-03, 6.11476004e-01, ...,\n",
              "            6.32964880e-01, 3.33882067e-01, 4.93527198e-01],\n",
              "           [3.20071724e-01, 4.28249161e-01, 5.19467835e-01, ...,\n",
              "            5.13339059e-01, 8.25038611e-01, 4.78807529e-01],\n",
              "           [6.82394803e-01, 1.63617394e-01, 4.15266137e-01, ...,\n",
              "            3.59099346e-01, 1.08834873e-01, 1.64089517e-01],\n",
              "           ...,\n",
              "           [8.68392167e-01, 2.13544041e-01, 4.52689489e-01, ...,\n",
              "            1.79944596e-01, 1.91035183e-02, 9.36357116e-01],\n",
              "           [4.95078525e-01, 8.31023824e-01, 2.82444326e-01, ...,\n",
              "            1.30716025e-01, 2.05556184e-01, 1.45613410e-01],\n",
              "           [1.22958825e-01, 6.59788581e-01, 4.74794231e-01, ...,\n",
              "            5.97194507e-01, 2.20520092e-01, 1.27278738e-01]],\n",
              "\n",
              "          [[3.50871676e-01, 7.81226424e-02, 4.12069794e-01, ...,\n",
              "            6.41445015e-01, 3.05225643e-01, 8.78035956e-01],\n",
              "           [4.41339823e-01, 3.65380297e-01, 1.27042829e-01, ...,\n",
              "            8.15694666e-01, 6.94736718e-01, 3.00786593e-01],\n",
              "           [7.16057087e-01, 1.00718621e-01, 6.38315067e-01, ...,\n",
              "            9.45859160e-01, 1.21312479e-02, 6.66123964e-01],\n",
              "           ...,\n",
              "           [5.75034585e-01, 4.97087735e-01, 8.40583102e-01, ...,\n",
              "            8.53260382e-01, 7.82454756e-01, 1.77268874e-01],\n",
              "           [1.01589575e-01, 8.85544375e-01, 1.14128025e-01, ...,\n",
              "            7.68005187e-01, 8.19087560e-01, 9.38633637e-01],\n",
              "           [3.57705062e-01, 5.28295308e-01, 5.61908301e-01, ...,\n",
              "            2.53671655e-01, 9.12236191e-01, 4.65691066e-01]],\n",
              "\n",
              "          [[6.66248589e-02, 5.40868745e-01, 1.44846430e-01, ...,\n",
              "            7.87466169e-01, 2.08708724e-01, 1.60492514e-01],\n",
              "           [4.57487192e-01, 1.02693979e-01, 1.82468960e-01, ...,\n",
              "            4.87945852e-02, 2.95043723e-01, 3.38559563e-01],\n",
              "           [9.20009589e-01, 7.73877179e-01, 5.33895827e-01, ...,\n",
              "            3.87944131e-01, 9.17125427e-01, 7.79554504e-01],\n",
              "           ...,\n",
              "           [5.56574440e-01, 8.59081778e-01, 3.00589148e-01, ...,\n",
              "            2.36606344e-01, 4.04921537e-01, 7.40240334e-01],\n",
              "           [4.14374538e-03, 8.02245571e-01, 5.35711809e-01, ...,\n",
              "            1.33347003e-01, 4.93363328e-01, 8.76507435e-02],\n",
              "           [3.02986100e-01, 9.45769017e-01, 5.75162423e-01, ...,\n",
              "            8.48702501e-01, 6.40576648e-01, 9.59994212e-01]]],\n",
              "\n",
              "\n",
              "         [[[6.81887235e-01, 9.19115243e-01, 1.52888642e-01, ...,\n",
              "            2.83908711e-01, 1.40045143e-01, 9.60502215e-01],\n",
              "           [3.94434100e-01, 4.73667038e-01, 7.46371398e-01, ...,\n",
              "            5.94401300e-01, 9.90446232e-01, 4.64219911e-01],\n",
              "           [8.61823689e-01, 1.40106614e-01, 8.82360740e-01, ...,\n",
              "            2.11219648e-01, 9.29668854e-01, 8.21354475e-01],\n",
              "           ...,\n",
              "           [5.54204185e-01, 3.13358528e-01, 7.88047652e-01, ...,\n",
              "            1.60136285e-01, 7.16539185e-01, 8.88861221e-01],\n",
              "           [9.89547945e-01, 7.47833268e-01, 7.88168420e-02, ...,\n",
              "            7.65661542e-01, 4.75041428e-01, 5.98520713e-01],\n",
              "           [3.62673268e-01, 8.36742669e-01, 4.07446676e-01, ...,\n",
              "            2.99207306e-01, 2.93003364e-01, 5.80043197e-01]],\n",
              "\n",
              "          [[9.44069534e-01, 5.97385277e-01, 1.35578168e-02, ...,\n",
              "            1.61038012e-01, 8.69160084e-02, 4.29401693e-01],\n",
              "           [1.37742109e-01, 1.17966235e-01, 8.77900736e-01, ...,\n",
              "            8.08580629e-01, 9.12917071e-01, 2.33175080e-01],\n",
              "           [9.47937391e-01, 3.94349390e-01, 5.79770293e-01, ...,\n",
              "            2.02940685e-01, 2.34696997e-01, 3.43414367e-01],\n",
              "           ...,\n",
              "           [1.14575747e-01, 9.95352797e-01, 2.19954038e-01, ...,\n",
              "            6.50139200e-01, 5.42697160e-01, 9.22151179e-01],\n",
              "           [8.76841805e-01, 6.15666369e-01, 6.26329873e-01, ...,\n",
              "            3.86782712e-01, 7.51470470e-01, 8.10820701e-01],\n",
              "           [3.64056508e-01, 7.64637288e-01, 8.15219049e-01, ...,\n",
              "            5.15083817e-01, 7.79663435e-01, 3.41844942e-01]],\n",
              "\n",
              "          [[5.09120812e-02, 8.03241265e-01, 5.16542535e-01, ...,\n",
              "            7.50560687e-01, 6.71312536e-01, 3.23879518e-01],\n",
              "           [1.31763546e-01, 8.52296950e-01, 1.04028217e-01, ...,\n",
              "            3.80394744e-01, 9.35492800e-01, 1.26346531e-02],\n",
              "           [1.03938390e-01, 6.35883600e-01, 1.70019858e-01, ...,\n",
              "            9.05213339e-02, 6.02410402e-01, 3.84062042e-02],\n",
              "           ...,\n",
              "           [2.90681442e-01, 1.10865924e-01, 3.13742282e-01, ...,\n",
              "            2.52957497e-02, 5.49114205e-01, 5.90417617e-01],\n",
              "           [9.75996618e-01, 7.64617313e-01, 4.61449963e-01, ...,\n",
              "            9.82566296e-02, 1.32225146e-01, 4.92029987e-01],\n",
              "           [8.31418464e-01, 9.43582277e-01, 6.24083056e-01, ...,\n",
              "            2.30549635e-02, 8.99654911e-01, 4.22334623e-01]],\n",
              "\n",
              "          ...,\n",
              "\n",
              "          [[5.05222687e-01, 4.41780249e-01, 9.11447811e-01, ...,\n",
              "            2.80728751e-01, 2.06906687e-01, 7.45593964e-01],\n",
              "           [3.46216947e-01, 5.73124843e-01, 9.73381607e-01, ...,\n",
              "            2.77757947e-01, 3.77693038e-01, 2.95307715e-01],\n",
              "           [8.60552366e-01, 3.44608215e-03, 7.19651616e-01, ...,\n",
              "            9.88341198e-01, 3.76267386e-01, 6.88704095e-01],\n",
              "           ...,\n",
              "           [5.61530751e-01, 1.95613266e-01, 8.12956335e-01, ...,\n",
              "            4.83095341e-01, 9.50477842e-01, 1.45400064e-01],\n",
              "           [9.43350383e-01, 8.30204333e-01, 4.78452415e-01, ...,\n",
              "            1.18112640e-02, 3.55704512e-01, 1.31269798e-01],\n",
              "           [6.82631081e-01, 8.37028295e-02, 6.99911664e-01, ...,\n",
              "            1.38254516e-01, 9.63589932e-01, 1.87032930e-01]],\n",
              "\n",
              "          [[4.75357448e-01, 1.01425312e-01, 4.45602407e-01, ...,\n",
              "            3.28721613e-02, 6.19849724e-01, 8.39018471e-01],\n",
              "           [7.02706971e-01, 3.95352392e-01, 7.88154782e-01, ...,\n",
              "            7.55337620e-01, 8.24725748e-01, 1.85449855e-01],\n",
              "           [5.58541967e-03, 8.77469592e-01, 3.61030582e-02, ...,\n",
              "            4.80106442e-01, 8.29121179e-01, 3.86904807e-01],\n",
              "           ...,\n",
              "           [9.72502474e-01, 7.89435450e-01, 3.86192509e-01, ...,\n",
              "            8.70022762e-01, 4.81272958e-01, 3.58885978e-01],\n",
              "           [9.27691409e-01, 7.60109735e-01, 6.47413178e-01, ...,\n",
              "            5.83247240e-01, 5.48916295e-01, 5.58930570e-01],\n",
              "           [7.56241835e-01, 4.68181302e-01, 8.94199498e-01, ...,\n",
              "            9.63338290e-01, 5.05250136e-01, 9.98534156e-01]],\n",
              "\n",
              "          [[8.45831702e-01, 7.71922625e-01, 8.78401871e-01, ...,\n",
              "            3.06287743e-02, 2.56853072e-01, 3.29333702e-01],\n",
              "           [6.46187042e-01, 9.85415102e-01, 5.19496072e-01, ...,\n",
              "            5.40208944e-01, 1.03578492e-01, 5.51581285e-01],\n",
              "           [9.43947696e-01, 2.76970475e-01, 5.80825985e-01, ...,\n",
              "            3.67772274e-01, 4.17889202e-01, 2.92424457e-01],\n",
              "           ...,\n",
              "           [1.06264847e-01, 4.87791537e-01, 9.42235764e-01, ...,\n",
              "            9.37048801e-01, 8.99173466e-01, 5.01026961e-01],\n",
              "           [8.12109964e-01, 3.11925342e-01, 5.49971266e-01, ...,\n",
              "            8.78049318e-01, 6.42513187e-01, 3.46090601e-01],\n",
              "           [4.26848931e-01, 2.07926915e-01, 9.48303572e-01, ...,\n",
              "            7.41411019e-01, 9.16324715e-01, 8.88619943e-01]]],\n",
              "\n",
              "\n",
              "         [[[5.69201871e-01, 3.22824538e-01, 7.52808483e-01, ...,\n",
              "            7.05865179e-01, 5.52112685e-01, 1.16722746e-01],\n",
              "           [6.37002813e-01, 1.85265554e-01, 9.14204962e-01, ...,\n",
              "            5.21499799e-01, 8.30472210e-02, 9.99543771e-01],\n",
              "           [1.35244148e-01, 9.52404437e-01, 4.14967222e-01, ...,\n",
              "            7.87127073e-01, 8.42533498e-01, 3.90854176e-01],\n",
              "           ...,\n",
              "           [7.19841585e-01, 4.57603790e-01, 3.17088410e-01, ...,\n",
              "            4.82547657e-01, 2.05240206e-01, 3.67941218e-01],\n",
              "           [6.43707124e-01, 8.77034536e-01, 1.65320627e-01, ...,\n",
              "            9.18468501e-01, 6.75731031e-01, 6.35606233e-01],\n",
              "           [8.64538758e-01, 3.25572708e-01, 4.48905870e-01, ...,\n",
              "            8.23022369e-01, 8.01227423e-01, 8.01060020e-01]],\n",
              "\n",
              "          [[3.88927088e-01, 8.99810487e-02, 3.92111371e-01, ...,\n",
              "            4.72728727e-01, 7.87421324e-01, 1.58536218e-01],\n",
              "           [4.11278461e-02, 6.94067226e-01, 5.63519669e-01, ...,\n",
              "            5.57431550e-01, 3.43850879e-01, 6.01638181e-01],\n",
              "           [8.20093272e-01, 2.09907291e-01, 8.47857613e-01, ...,\n",
              "            8.08629152e-01, 1.97881387e-01, 8.37818512e-01],\n",
              "           ...,\n",
              "           [5.29868002e-01, 6.11828381e-01, 2.42593896e-01, ...,\n",
              "            2.29780422e-01, 4.96571532e-01, 5.82127233e-01],\n",
              "           [2.52581995e-01, 9.67369641e-01, 8.58530263e-01, ...,\n",
              "            3.74996073e-01, 6.99032238e-01, 6.35058459e-01],\n",
              "           [3.41556606e-01, 3.62940966e-01, 5.51721735e-01, ...,\n",
              "            7.86876841e-01, 7.62814850e-01, 6.20038374e-01]],\n",
              "\n",
              "          [[2.83342418e-01, 3.37596796e-01, 5.33447855e-01, ...,\n",
              "            9.88788670e-01, 2.97415527e-01, 1.32441728e-01],\n",
              "           [2.03463632e-01, 5.04380654e-01, 6.04541934e-01, ...,\n",
              "            8.83219556e-01, 2.41059835e-01, 7.27160887e-01],\n",
              "           [2.91917011e-01, 2.81906344e-01, 8.79713048e-01, ...,\n",
              "            3.01949537e-01, 1.29671051e-01, 9.34727189e-01],\n",
              "           ...,\n",
              "           [4.00247172e-01, 4.39211329e-01, 2.96223648e-01, ...,\n",
              "            4.42572394e-01, 4.15879881e-01, 4.87765812e-01],\n",
              "           [6.69395895e-01, 7.11089300e-01, 2.67978024e-01, ...,\n",
              "            4.63615280e-01, 9.40856559e-01, 7.74955752e-01],\n",
              "           [9.05672017e-01, 7.53970901e-01, 7.63794396e-01, ...,\n",
              "            5.41108291e-02, 3.87511077e-01, 7.57966235e-01]],\n",
              "\n",
              "          ...,\n",
              "\n",
              "          [[4.55559669e-01, 5.86077762e-01, 3.51494509e-01, ...,\n",
              "            8.73660716e-01, 5.54762776e-01, 7.27295215e-01],\n",
              "           [7.72482931e-01, 7.67266905e-01, 6.61011730e-01, ...,\n",
              "            9.37514666e-01, 6.56195040e-01, 1.74352961e-01],\n",
              "           [4.66782210e-01, 3.36740168e-01, 4.79976009e-01, ...,\n",
              "            4.78646401e-01, 2.15726673e-01, 5.99556090e-01],\n",
              "           ...,\n",
              "           [2.16334915e-01, 9.41385520e-01, 9.48212252e-01, ...,\n",
              "            3.59832165e-01, 1.00978757e-01, 9.14286547e-02],\n",
              "           [8.83018824e-02, 3.61973520e-01, 4.59878486e-01, ...,\n",
              "            6.40222428e-02, 8.34965534e-01, 8.66466706e-01],\n",
              "           [8.96814092e-01, 9.93605024e-01, 1.65768008e-01, ...,\n",
              "            6.48352865e-01, 8.77731185e-01, 5.08647049e-01]],\n",
              "\n",
              "          [[2.92697702e-01, 5.21848838e-01, 2.59031673e-01, ...,\n",
              "            5.22382441e-01, 2.71469005e-01, 1.67485320e-01],\n",
              "           [9.42799301e-02, 3.48717321e-01, 8.23209935e-01, ...,\n",
              "            7.51052336e-01, 3.42630529e-01, 1.05543337e-01],\n",
              "           [7.97144422e-01, 9.88955228e-01, 1.92916155e-01, ...,\n",
              "            4.57283970e-01, 7.64832485e-01, 8.48115712e-02],\n",
              "           ...,\n",
              "           [4.59854659e-01, 9.04027892e-02, 7.72261727e-01, ...,\n",
              "            6.21407493e-02, 8.57498677e-01, 8.46518218e-01],\n",
              "           [9.22329162e-01, 3.38028337e-01, 5.19834170e-01, ...,\n",
              "            9.39470214e-01, 7.16359085e-02, 4.37143855e-01],\n",
              "           [4.49239293e-01, 5.45773749e-04, 5.37041896e-02, ...,\n",
              "            5.53007033e-01, 8.20278124e-01, 2.84195476e-01]],\n",
              "\n",
              "          [[4.02829755e-01, 7.55621485e-01, 4.98198396e-01, ...,\n",
              "            2.19049445e-02, 2.05872919e-01, 2.56091909e-01],\n",
              "           [6.02750804e-01, 2.93996779e-01, 1.03215426e-01, ...,\n",
              "            7.51409270e-01, 6.38306827e-01, 5.66506210e-01],\n",
              "           [6.30647436e-01, 9.33903686e-01, 3.74250213e-01, ...,\n",
              "            2.47841417e-01, 5.73908252e-01, 2.87307135e-01],\n",
              "           ...,\n",
              "           [9.98264365e-01, 3.92814123e-01, 3.34454515e-01, ...,\n",
              "            4.53154547e-01, 4.61987273e-01, 5.49679813e-01],\n",
              "           [1.14871907e-01, 6.04256320e-01, 6.36004223e-01, ...,\n",
              "            7.93692267e-01, 1.96213106e-02, 5.94621665e-01],\n",
              "           [7.06861209e-01, 7.48958424e-01, 8.29177229e-01, ...,\n",
              "            2.76325126e-01, 6.92088492e-01, 6.50145375e-01]]],\n",
              "\n",
              "\n",
              "         [[[4.54203111e-01, 7.35226672e-01, 1.28697945e-01, ...,\n",
              "            5.73622045e-01, 9.81072967e-02, 1.12025582e-01],\n",
              "           [5.14557409e-01, 9.16059244e-01, 8.99310137e-02, ...,\n",
              "            5.92805372e-01, 9.38534879e-01, 8.08728723e-01],\n",
              "           [7.71620985e-01, 4.66280461e-01, 4.44304524e-01, ...,\n",
              "            8.69582327e-01, 9.45944727e-01, 2.01446082e-01],\n",
              "           ...,\n",
              "           [1.54678727e-02, 7.27115800e-01, 2.13451746e-01, ...,\n",
              "            3.33918068e-01, 9.71750538e-01, 4.11914125e-01],\n",
              "           [9.80779743e-01, 1.89151410e-01, 6.19635782e-02, ...,\n",
              "            3.37444507e-01, 8.38929181e-02, 9.31428889e-01],\n",
              "           [8.56939778e-01, 1.91167563e-01, 5.62077936e-01, ...,\n",
              "            4.31065342e-01, 1.91353616e-01, 1.09038345e-01]],\n",
              "\n",
              "          [[3.45381456e-01, 1.06896889e-01, 4.45470099e-01, ...,\n",
              "            9.22289027e-01, 9.59974180e-01, 6.25677001e-01],\n",
              "           [8.11138824e-01, 5.79610232e-01, 7.58291399e-01, ...,\n",
              "            2.10850008e-01, 4.80379552e-01, 7.25036425e-01],\n",
              "           [8.62584563e-01, 5.12896132e-01, 7.18984540e-01, ...,\n",
              "            4.19067192e-01, 7.93459895e-01, 5.63737552e-01],\n",
              "           ...,\n",
              "           [5.26793732e-02, 7.88551355e-01, 2.52925596e-02, ...,\n",
              "            9.72081449e-01, 4.65464195e-01, 3.93633885e-01],\n",
              "           [8.00361805e-01, 5.42896712e-01, 3.13478149e-01, ...,\n",
              "            3.06038353e-01, 4.47349558e-01, 6.82249418e-01],\n",
              "           [9.77570142e-02, 1.60198768e-01, 8.65752174e-01, ...,\n",
              "            1.54675327e-01, 2.89072983e-02, 9.98650618e-01]],\n",
              "\n",
              "          [[4.60271140e-01, 3.78471651e-01, 2.91957042e-01, ...,\n",
              "            9.84204348e-01, 5.42863683e-01, 3.00026357e-02],\n",
              "           [8.65539195e-01, 4.50840477e-01, 6.85688126e-01, ...,\n",
              "            7.04220975e-01, 3.84923181e-01, 1.31600116e-01],\n",
              "           [1.08877867e-01, 3.99293077e-01, 2.91919380e-01, ...,\n",
              "            3.66538236e-01, 9.03133980e-02, 8.14230506e-01],\n",
              "           ...,\n",
              "           [3.12051426e-01, 7.72452315e-01, 3.10351473e-01, ...,\n",
              "            9.66600343e-01, 7.84528217e-01, 6.87652729e-01],\n",
              "           [5.93581669e-01, 2.99102743e-01, 9.95619059e-01, ...,\n",
              "            3.06718252e-01, 2.89875683e-02, 7.29520610e-01],\n",
              "           [2.24023168e-01, 8.69635026e-02, 2.18266582e-01, ...,\n",
              "            3.96079469e-01, 7.02777948e-01, 9.87501092e-01]],\n",
              "\n",
              "          ...,\n",
              "\n",
              "          [[2.29635790e-01, 7.16112719e-01, 7.07126161e-01, ...,\n",
              "            4.16046148e-01, 8.47346967e-01, 5.61152174e-01],\n",
              "           [2.75389270e-01, 7.31818973e-02, 7.20040243e-01, ...,\n",
              "            6.10515502e-01, 8.78747671e-02, 7.73794430e-01],\n",
              "           [5.23110530e-01, 8.80086947e-01, 4.93613173e-01, ...,\n",
              "            5.15762015e-01, 6.75500961e-01, 8.48560242e-01],\n",
              "           ...,\n",
              "           [5.39564954e-01, 8.36894632e-02, 9.05078903e-01, ...,\n",
              "            7.17964541e-01, 9.25568216e-01, 9.90640928e-01],\n",
              "           [3.51229150e-01, 5.67113835e-01, 1.71309369e-02, ...,\n",
              "            3.86101019e-01, 3.39468402e-01, 6.22615611e-01],\n",
              "           [1.74474624e-01, 8.74939733e-01, 7.85808237e-02, ...,\n",
              "            1.64835732e-01, 2.91600903e-01, 6.23634904e-01]],\n",
              "\n",
              "          [[3.09139491e-01, 1.91113837e-01, 7.54216062e-01, ...,\n",
              "            3.15210191e-02, 5.75976345e-01, 5.51634235e-01],\n",
              "           [3.16205667e-02, 9.51551388e-01, 4.82959013e-01, ...,\n",
              "            8.09665555e-01, 1.04658636e-01, 7.46796515e-01],\n",
              "           [2.93927235e-01, 6.94089478e-01, 8.59079583e-02, ...,\n",
              "            8.71357538e-01, 6.21093163e-01, 1.08117538e-01],\n",
              "           ...,\n",
              "           [6.94663873e-01, 8.04015640e-01, 2.21148022e-01, ...,\n",
              "            8.20235887e-01, 4.82094207e-01, 1.74796688e-01],\n",
              "           [4.87230194e-01, 6.16535355e-01, 5.94337921e-01, ...,\n",
              "            4.23721625e-01, 1.85138801e-02, 6.27381504e-01],\n",
              "           [1.72757136e-01, 6.79135096e-01, 2.89035151e-01, ...,\n",
              "            2.17386948e-01, 8.09439523e-01, 4.16942626e-01]],\n",
              "\n",
              "          [[8.16188881e-01, 3.34689489e-01, 2.19084228e-01, ...,\n",
              "            7.46205387e-01, 4.82650498e-01, 6.05991629e-01],\n",
              "           [4.49428604e-01, 5.80904509e-01, 7.40929240e-01, ...,\n",
              "            8.79173700e-01, 6.14578196e-01, 4.64820265e-01],\n",
              "           [3.48409255e-01, 8.56630400e-01, 3.63988099e-02, ...,\n",
              "            2.50443976e-01, 6.16872302e-03, 9.07011095e-01],\n",
              "           ...,\n",
              "           [2.54033134e-01, 9.00509863e-01, 8.97976245e-02, ...,\n",
              "            9.00791956e-01, 6.03046615e-01, 6.89489795e-01],\n",
              "           [5.41279227e-01, 3.05410576e-01, 9.38395947e-01, ...,\n",
              "            2.06854723e-02, 9.83834838e-01, 3.80535621e-01],\n",
              "           [3.67335485e-01, 7.84265061e-01, 5.25297126e-02, ...,\n",
              "            3.90604037e-01, 9.82169636e-01, 6.75333847e-01]]]],\n",
              "\n",
              "\n",
              "\n",
              "        [[[[3.84091946e-01, 7.70126041e-02, 4.30919402e-01, ...,\n",
              "            7.27981211e-01, 4.21590425e-01, 2.07617906e-01],\n",
              "           [4.16399889e-01, 2.64661241e-01, 4.32775323e-02, ...,\n",
              "            1.70892675e-01, 1.77947087e-01, 8.05237891e-01],\n",
              "           [6.17108275e-01, 9.04060931e-01, 9.17175479e-01, ...,\n",
              "            4.90021625e-01, 8.03372444e-01, 5.30408419e-01],\n",
              "           ...,\n",
              "           [5.91679078e-03, 3.44104355e-01, 2.42689334e-01, ...,\n",
              "            5.92482442e-01, 2.15328395e-01, 4.62223870e-01],\n",
              "           [4.84364258e-01, 7.41700944e-01, 8.38677904e-01, ...,\n",
              "            5.20735648e-01, 3.46140095e-01, 4.99299394e-01],\n",
              "           [4.52246052e-01, 7.84286683e-01, 3.38040075e-01, ...,\n",
              "            1.26376589e-01, 6.08727824e-01, 6.98240655e-01]],\n",
              "\n",
              "          [[3.30648682e-01, 3.87835875e-01, 1.74311554e-01, ...,\n",
              "            7.30561514e-01, 5.73667757e-01, 3.34376735e-03],\n",
              "           [4.60729757e-01, 4.54528554e-01, 3.87998065e-02, ...,\n",
              "            1.56645341e-01, 4.47524430e-01, 5.52514059e-01],\n",
              "           [7.80408996e-01, 2.19606311e-01, 1.69860825e-01, ...,\n",
              "            6.88769791e-01, 1.80483434e-01, 2.75355822e-03],\n",
              "           ...,\n",
              "           [7.75197768e-01, 3.85689583e-01, 6.50231877e-02, ...,\n",
              "            4.83129837e-01, 5.93583598e-01, 1.78340277e-01],\n",
              "           [9.96104584e-01, 5.58527773e-01, 3.68051012e-01, ...,\n",
              "            8.50420936e-01, 2.08653884e-01, 1.59207970e-01],\n",
              "           [9.50494840e-01, 7.81689668e-01, 6.76469246e-01, ...,\n",
              "            4.41624514e-02, 1.69369301e-01, 1.44006423e-01]],\n",
              "\n",
              "          [[1.47060939e-01, 1.27391529e-01, 6.53632730e-02, ...,\n",
              "            3.83570510e-01, 5.83548618e-01, 8.32044632e-01],\n",
              "           [8.37435861e-01, 1.38830012e-01, 3.47289716e-01, ...,\n",
              "            8.47965971e-01, 6.75991257e-01, 1.87212405e-01],\n",
              "           [9.26922844e-01, 4.40267405e-01, 3.75315571e-01, ...,\n",
              "            7.47555942e-01, 6.05173996e-01, 1.40791123e-01],\n",
              "           ...,\n",
              "           [8.20790131e-01, 2.00726241e-01, 4.17086254e-01, ...,\n",
              "            8.59768467e-01, 5.80350393e-01, 7.01764811e-01],\n",
              "           [5.38035027e-01, 8.95530613e-01, 8.68588135e-01, ...,\n",
              "            6.10733277e-01, 8.86715921e-01, 3.81363181e-02],\n",
              "           [9.74045328e-01, 4.86205955e-01, 8.55753154e-01, ...,\n",
              "            1.06048434e-01, 3.61545390e-01, 5.40462175e-01]],\n",
              "\n",
              "          ...,\n",
              "\n",
              "          [[8.58212391e-01, 2.12634133e-01, 7.36744203e-01, ...,\n",
              "            9.69909606e-01, 7.59857551e-01, 6.47431124e-01],\n",
              "           [9.09568872e-01, 4.65927869e-01, 3.33246024e-01, ...,\n",
              "            1.99723857e-01, 3.53541381e-02, 8.14314419e-01],\n",
              "           [7.63088529e-01, 6.41771582e-01, 9.38899173e-01, ...,\n",
              "            1.96533452e-01, 2.03458575e-01, 7.57995086e-01],\n",
              "           ...,\n",
              "           [5.52455996e-01, 3.95023815e-01, 2.08847664e-01, ...,\n",
              "            9.05425823e-01, 5.23505578e-01, 9.58308195e-02],\n",
              "           [2.78068483e-01, 9.37704531e-01, 5.08595431e-01, ...,\n",
              "            5.10413913e-01, 5.49614816e-01, 2.67830659e-01],\n",
              "           [6.96201595e-01, 3.59759470e-01, 6.27995482e-01, ...,\n",
              "            5.87557501e-01, 6.69734989e-01, 6.56910951e-01]],\n",
              "\n",
              "          [[6.61437523e-01, 1.36112696e-01, 4.94669159e-01, ...,\n",
              "            3.09968683e-02, 7.11035508e-01, 8.16206608e-02],\n",
              "           [5.40643165e-01, 3.06370458e-02, 5.29172018e-02, ...,\n",
              "            2.57100660e-01, 1.49352687e-01, 2.47792187e-01],\n",
              "           [7.93665637e-01, 3.19634911e-01, 1.21797797e-01, ...,\n",
              "            3.36415532e-02, 5.13361969e-01, 5.22762070e-01],\n",
              "           ...,\n",
              "           [1.94729769e-01, 6.55217866e-01, 9.31927868e-02, ...,\n",
              "            3.26923405e-01, 7.03239397e-01, 8.10637116e-01],\n",
              "           [6.65860340e-01, 8.49552965e-01, 8.84504825e-01, ...,\n",
              "            3.98121993e-01, 8.56230707e-01, 2.48338494e-01],\n",
              "           [2.80302037e-01, 2.19553716e-01, 7.92632346e-01, ...,\n",
              "            5.80647607e-01, 8.58542182e-01, 7.86720070e-01]],\n",
              "\n",
              "          [[6.45045638e-01, 3.36086956e-01, 1.50486703e-01, ...,\n",
              "            8.22784030e-01, 5.61452276e-01, 3.89295324e-01],\n",
              "           [2.73351943e-01, 2.56022572e-01, 2.90812154e-01, ...,\n",
              "            7.21574544e-01, 5.73638292e-01, 7.09717627e-02],\n",
              "           [2.83200067e-02, 7.27048794e-01, 9.46523994e-01, ...,\n",
              "            5.50382811e-01, 2.33160752e-01, 2.16769099e-01],\n",
              "           ...,\n",
              "           [4.55310490e-01, 6.70460051e-01, 1.52716337e-01, ...,\n",
              "            9.08920341e-01, 1.15124775e-01, 4.46344921e-01],\n",
              "           [8.00975422e-01, 7.65211610e-01, 2.88563878e-01, ...,\n",
              "            9.78676079e-01, 4.18659503e-01, 8.89738276e-02],\n",
              "           [1.90561008e-01, 1.22559672e-01, 8.49304878e-01, ...,\n",
              "            1.86011643e-01, 8.64950647e-01, 6.08093151e-01]]],\n",
              "\n",
              "\n",
              "         [[[5.29513347e-01, 1.08009726e-01, 5.08991463e-01, ...,\n",
              "            1.32327475e-01, 9.89836917e-01, 3.80160366e-01],\n",
              "           [7.97241537e-01, 5.11967265e-02, 9.99814491e-02, ...,\n",
              "            3.51812636e-01, 7.23740939e-01, 2.42021817e-01],\n",
              "           [2.65961043e-01, 5.37778308e-01, 3.98306917e-01, ...,\n",
              "            9.00256954e-01, 6.34146944e-01, 5.66076387e-02],\n",
              "           ...,\n",
              "           [8.65839428e-01, 9.05094172e-01, 5.89627585e-01, ...,\n",
              "            2.15666562e-02, 9.45364935e-01, 4.60998852e-02],\n",
              "           [2.67947085e-02, 9.78500163e-01, 1.29147216e-01, ...,\n",
              "            5.93599069e-01, 5.65903827e-02, 5.85545869e-01],\n",
              "           [9.85791163e-01, 8.05622110e-03, 3.28447239e-01, ...,\n",
              "            9.39165262e-01, 7.83673056e-01, 5.41287348e-02]],\n",
              "\n",
              "          [[3.81518040e-01, 5.69099910e-01, 4.86093269e-01, ...,\n",
              "            5.80004960e-01, 2.23927652e-01, 9.68531778e-01],\n",
              "           [7.10480526e-01, 9.09541059e-02, 4.38009988e-02, ...,\n",
              "            8.54289089e-01, 1.77945163e-01, 3.86556566e-01],\n",
              "           [2.05821865e-01, 6.74040713e-01, 7.67315471e-01, ...,\n",
              "            9.17517003e-01, 5.56973246e-01, 6.82890826e-01],\n",
              "           ...,\n",
              "           [2.73371218e-03, 4.54737674e-01, 7.01160713e-01, ...,\n",
              "            5.14325307e-01, 9.65843752e-01, 5.27841896e-02],\n",
              "           [9.86295630e-02, 2.86274271e-01, 7.02952773e-01, ...,\n",
              "            1.54686453e-01, 2.37226945e-01, 3.29650121e-01],\n",
              "           [9.02959156e-01, 3.05684071e-01, 4.93308480e-01, ...,\n",
              "            4.07656427e-01, 8.95720091e-01, 4.54782398e-01]],\n",
              "\n",
              "          [[7.82896885e-01, 5.36100845e-01, 4.49894706e-01, ...,\n",
              "            3.21464984e-01, 1.91678420e-01, 1.11682765e-01],\n",
              "           [4.09161623e-01, 2.11135081e-01, 2.03536242e-01, ...,\n",
              "            4.00451919e-01, 9.95097326e-01, 7.05457103e-02],\n",
              "           [7.68246501e-01, 5.75679310e-01, 7.14922183e-01, ...,\n",
              "            4.18963269e-01, 6.97738799e-01, 9.20578691e-01],\n",
              "           ...,\n",
              "           [7.01690892e-01, 7.93909563e-02, 8.21798599e-01, ...,\n",
              "            9.64187080e-01, 1.99337772e-01, 9.45711647e-02],\n",
              "           [2.05469601e-01, 1.44273798e-01, 1.02876782e-01, ...,\n",
              "            2.12094215e-01, 2.41752089e-01, 3.07340434e-01],\n",
              "           [6.76586039e-01, 9.37310314e-01, 7.14187614e-01, ...,\n",
              "            7.90554033e-02, 4.56633526e-01, 5.56879520e-01]],\n",
              "\n",
              "          ...,\n",
              "\n",
              "          [[6.56762670e-01, 4.12377962e-01, 9.44404043e-01, ...,\n",
              "            6.75899378e-01, 5.18816000e-01, 7.93250231e-01],\n",
              "           [5.46055091e-01, 4.89261945e-02, 5.42796393e-02, ...,\n",
              "            1.85799633e-01, 3.63531071e-01, 1.91343440e-01],\n",
              "           [6.51757932e-01, 9.37053158e-01, 6.92240874e-01, ...,\n",
              "            3.88692754e-01, 4.56089651e-01, 9.85005855e-01],\n",
              "           ...,\n",
              "           [3.02388768e-01, 2.28714246e-01, 3.35947789e-01, ...,\n",
              "            4.43037040e-01, 5.86916261e-01, 1.26553623e-01],\n",
              "           [9.10078646e-01, 4.24361890e-01, 7.49641666e-01, ...,\n",
              "            1.52315003e-01, 6.68661365e-01, 9.06437723e-01],\n",
              "           [1.18539441e-01, 2.57226710e-01, 4.55187485e-02, ...,\n",
              "            3.86562276e-02, 1.63808127e-01, 7.34071335e-01]],\n",
              "\n",
              "          [[2.34369003e-01, 8.25664489e-01, 5.35012583e-02, ...,\n",
              "            3.16903589e-01, 5.80914075e-01, 6.33546560e-02],\n",
              "           [6.27337942e-01, 7.07933820e-01, 2.21699046e-01, ...,\n",
              "            2.44824052e-01, 1.08713060e-01, 1.35912660e-01],\n",
              "           [2.62459573e-01, 1.98807232e-01, 4.50119851e-01, ...,\n",
              "            9.86221524e-01, 2.84235848e-01, 1.32849755e-01],\n",
              "           ...,\n",
              "           [1.99324628e-01, 2.99483330e-01, 8.66543544e-02, ...,\n",
              "            7.86500826e-01, 7.56567004e-01, 4.01569874e-01],\n",
              "           [5.98806069e-01, 1.59893654e-01, 2.17813331e-01, ...,\n",
              "            4.02180438e-02, 1.26241137e-01, 6.71371253e-02],\n",
              "           [5.41244214e-02, 2.70197996e-01, 8.48734786e-01, ...,\n",
              "            5.52298856e-01, 2.10868112e-01, 5.28937317e-01]],\n",
              "\n",
              "          [[2.13338502e-01, 2.67959323e-01, 3.36886996e-01, ...,\n",
              "            8.62354192e-01, 1.40049066e-01, 9.34068384e-01],\n",
              "           [9.92331806e-01, 1.68580173e-01, 5.60807259e-01, ...,\n",
              "            4.93003510e-01, 5.36822311e-01, 6.55348676e-01],\n",
              "           [3.48365456e-02, 7.40989374e-01, 7.16403107e-01, ...,\n",
              "            5.40321510e-01, 5.59945505e-01, 7.18768734e-01],\n",
              "           ...,\n",
              "           [9.11219466e-01, 7.15463956e-01, 2.69665659e-02, ...,\n",
              "            7.59685319e-02, 7.67458878e-01, 3.08015473e-01],\n",
              "           [3.05958742e-02, 6.01717440e-01, 5.12267637e-01, ...,\n",
              "            6.49372947e-01, 9.92605538e-01, 8.54590890e-02],\n",
              "           [3.12858177e-01, 4.91466558e-01, 1.66028426e-01, ...,\n",
              "            5.98141951e-01, 3.78703217e-01, 5.72955603e-01]]],\n",
              "\n",
              "\n",
              "         [[[7.62409955e-01, 7.23848074e-01, 8.25864141e-01, ...,\n",
              "            4.90629598e-01, 8.97408169e-01, 2.97989944e-01],\n",
              "           [6.33208820e-01, 4.06361478e-01, 8.93777868e-01, ...,\n",
              "            9.48079329e-01, 3.14335951e-01, 2.21859735e-01],\n",
              "           [3.97237677e-01, 6.90386284e-01, 6.36365909e-03, ...,\n",
              "            2.43311127e-01, 4.54908327e-01, 4.22358014e-01],\n",
              "           ...,\n",
              "           [1.97249547e-01, 6.53606870e-01, 9.56528561e-01, ...,\n",
              "            6.17637826e-02, 7.44585550e-03, 9.96398012e-01],\n",
              "           [9.15120499e-01, 2.24712490e-01, 6.52279954e-01, ...,\n",
              "            3.14351785e-01, 6.02617851e-01, 1.01829976e-01],\n",
              "           [6.34766654e-01, 4.20843657e-01, 4.62144708e-01, ...,\n",
              "            3.24698859e-01, 3.38816609e-01, 8.62629732e-02]],\n",
              "\n",
              "          [[5.89568257e-01, 8.26083751e-01, 5.05421303e-02, ...,\n",
              "            1.25066897e-01, 8.29340327e-01, 6.08390653e-01],\n",
              "           [6.74373568e-02, 1.51377436e-01, 4.93887408e-01, ...,\n",
              "            8.50417162e-01, 7.51514601e-01, 9.35516048e-01],\n",
              "           [7.57461798e-01, 7.25449238e-01, 5.02140964e-02, ...,\n",
              "            7.58232875e-01, 2.36487370e-01, 8.84237678e-01],\n",
              "           ...,\n",
              "           [5.38424705e-01, 9.70837189e-01, 5.27022257e-01, ...,\n",
              "            9.91306338e-02, 7.48870006e-01, 2.63858577e-01],\n",
              "           [3.24231752e-01, 8.57627326e-01, 4.15289273e-01, ...,\n",
              "            1.20503996e-01, 7.40579525e-01, 5.85858420e-01],\n",
              "           [1.48858044e-01, 3.45121179e-01, 1.21919057e-01, ...,\n",
              "            7.95560586e-01, 5.46062411e-01, 2.08354790e-01]],\n",
              "\n",
              "          [[3.98774771e-01, 6.32007368e-01, 1.91020589e-01, ...,\n",
              "            3.95768336e-01, 3.56589383e-01, 5.13799881e-01],\n",
              "           [7.96113493e-01, 8.33158303e-01, 2.25355970e-01, ...,\n",
              "            1.20253713e-01, 8.64408863e-01, 3.24727882e-01],\n",
              "           [6.52093918e-01, 5.85747537e-01, 7.60967979e-01, ...,\n",
              "            9.56434817e-01, 3.07241388e-02, 7.57932568e-01],\n",
              "           ...,\n",
              "           [9.91337227e-01, 8.32284326e-01, 9.58053000e-01, ...,\n",
              "            9.49617534e-02, 8.96234811e-01, 7.19227430e-01],\n",
              "           [6.88191026e-01, 2.23761979e-01, 8.01678209e-01, ...,\n",
              "            6.74201792e-01, 7.95665838e-01, 1.86556292e-01],\n",
              "           [1.93651309e-01, 2.77598766e-01, 6.15015043e-01, ...,\n",
              "            9.55180907e-01, 8.62975340e-02, 2.45435530e-01]],\n",
              "\n",
              "          ...,\n",
              "\n",
              "          [[1.58932484e-01, 9.56637945e-01, 6.55309447e-01, ...,\n",
              "            7.29905984e-02, 5.60492872e-01, 3.60834440e-01],\n",
              "           [9.04282778e-01, 4.30491666e-01, 3.80722269e-01, ...,\n",
              "            1.13390518e-01, 7.24045950e-01, 1.31730838e-01],\n",
              "           [2.35817420e-01, 8.96462247e-01, 9.13490275e-01, ...,\n",
              "            1.33559149e-01, 7.63091387e-01, 5.50506812e-01],\n",
              "           ...,\n",
              "           [2.40757208e-01, 2.33527259e-01, 8.63993774e-01, ...,\n",
              "            7.68084122e-01, 6.76785803e-01, 8.49925154e-01],\n",
              "           [6.62633125e-01, 5.75238036e-01, 4.93465611e-01, ...,\n",
              "            4.02302560e-01, 9.56956742e-01, 7.35594409e-01],\n",
              "           [1.30985869e-01, 7.73973181e-01, 2.77182556e-01, ...,\n",
              "            2.55675452e-01, 3.95350502e-02, 5.52605287e-01]],\n",
              "\n",
              "          [[8.48983580e-01, 5.07302572e-01, 6.62978722e-01, ...,\n",
              "            2.79099058e-01, 2.27344778e-01, 2.12185609e-01],\n",
              "           [4.26880407e-01, 2.85369761e-01, 9.54159307e-01, ...,\n",
              "            7.50630214e-01, 7.27164869e-01, 3.71633655e-01],\n",
              "           [2.88911334e-01, 3.56020909e-01, 9.39470358e-02, ...,\n",
              "            1.38397146e-01, 2.17640819e-01, 8.90339661e-01],\n",
              "           ...,\n",
              "           [7.27206697e-01, 8.21590996e-01, 9.06597527e-01, ...,\n",
              "            5.90921875e-01, 6.61662626e-01, 7.64030899e-01],\n",
              "           [7.69177490e-01, 8.76413900e-03, 3.86762850e-01, ...,\n",
              "            5.44810556e-01, 8.07717483e-01, 1.47267974e-01],\n",
              "           [6.24767182e-01, 5.83868487e-01, 8.78696885e-01, ...,\n",
              "            3.53052399e-01, 1.53008135e-02, 9.93746701e-01]],\n",
              "\n",
              "          [[7.32086614e-01, 5.52484088e-01, 4.90574234e-01, ...,\n",
              "            7.72551529e-01, 7.33795142e-01, 4.33557495e-01],\n",
              "           [1.34805469e-02, 3.27711024e-01, 2.41012274e-01, ...,\n",
              "            4.66360418e-01, 1.75775976e-01, 7.23538440e-01],\n",
              "           [7.69591916e-01, 1.81056751e-01, 3.73042550e-01, ...,\n",
              "            2.47103996e-01, 7.85001487e-02, 6.58481431e-01],\n",
              "           ...,\n",
              "           [9.77478501e-01, 4.35903907e-01, 9.83494163e-01, ...,\n",
              "            1.43874626e-01, 2.53439416e-01, 9.75074721e-01],\n",
              "           [7.96726501e-02, 1.25421410e-01, 5.31477129e-01, ...,\n",
              "            9.79713617e-01, 1.52396303e-01, 8.03912129e-01],\n",
              "           [8.51260693e-01, 8.34683975e-01, 7.22473537e-01, ...,\n",
              "            5.90522753e-01, 6.72036399e-02, 1.09139646e-01]]],\n",
              "\n",
              "\n",
              "         [[[8.89467903e-01, 7.67166259e-02, 5.65848133e-01, ...,\n",
              "            9.45244100e-01, 4.43155056e-01, 2.99697623e-02],\n",
              "           [7.89190116e-01, 8.63119400e-01, 3.03367944e-01, ...,\n",
              "            7.79897688e-01, 8.35789527e-01, 5.37730297e-01],\n",
              "           [1.85532304e-01, 2.32790279e-01, 5.53862723e-01, ...,\n",
              "            7.84037954e-01, 4.09769442e-01, 9.72958495e-01],\n",
              "           ...,\n",
              "           [3.61339273e-01, 2.75967755e-01, 4.76420972e-01, ...,\n",
              "            8.90518151e-02, 9.95740375e-01, 2.48470837e-01],\n",
              "           [4.45196508e-01, 9.12272207e-01, 1.48990139e-01, ...,\n",
              "            1.31790203e-01, 7.71385936e-02, 6.00926175e-02],\n",
              "           [7.68724759e-01, 1.15297992e-01, 1.05970529e-02, ...,\n",
              "            2.66869777e-01, 8.96038137e-01, 9.51660803e-01]],\n",
              "\n",
              "          [[2.91564534e-01, 2.73397545e-01, 3.36166749e-01, ...,\n",
              "            5.50609458e-01, 5.44921655e-01, 2.35595752e-01],\n",
              "           [8.69115261e-01, 3.49319811e-01, 2.74862845e-01, ...,\n",
              "            8.98812866e-01, 4.69634661e-02, 5.31747477e-01],\n",
              "           [4.75452777e-01, 7.87185285e-01, 7.62182741e-01, ...,\n",
              "            3.68793556e-01, 9.75637396e-01, 8.34631694e-01],\n",
              "           ...,\n",
              "           [6.34904827e-01, 2.98231995e-01, 2.25685499e-01, ...,\n",
              "            6.10891413e-01, 4.74456122e-02, 4.21449066e-01],\n",
              "           [1.04298137e-01, 2.73557037e-01, 4.44084936e-01, ...,\n",
              "            2.93292775e-01, 6.21811035e-01, 8.50712271e-02],\n",
              "           [3.06863532e-01, 8.04333935e-01, 8.81460926e-01, ...,\n",
              "            2.89159991e-01, 3.07392611e-01, 9.55370836e-01]],\n",
              "\n",
              "          [[3.51094236e-01, 6.17713292e-01, 5.56203700e-01, ...,\n",
              "            2.07169580e-01, 1.66740039e-01, 6.03159696e-02],\n",
              "           [5.92584350e-01, 9.14693785e-01, 8.97417038e-01, ...,\n",
              "            8.93818035e-01, 3.41112113e-01, 1.70801910e-01],\n",
              "           [9.20877059e-01, 1.99480124e-01, 1.54223240e-01, ...,\n",
              "            1.06764823e-01, 4.01036223e-01, 2.06884814e-01],\n",
              "           ...,\n",
              "           [5.50981112e-01, 1.24784316e-01, 7.67432882e-01, ...,\n",
              "            7.26781272e-01, 9.85041146e-01, 6.83375298e-01],\n",
              "           [3.12295666e-01, 9.85606056e-01, 1.13128576e-01, ...,\n",
              "            8.67940767e-01, 4.28315627e-01, 9.86340691e-01],\n",
              "           [1.90040552e-01, 6.15891106e-01, 8.81159035e-01, ...,\n",
              "            9.63817487e-02, 5.27554306e-01, 2.16041158e-01]],\n",
              "\n",
              "          ...,\n",
              "\n",
              "          [[1.30770760e-01, 8.20800975e-03, 1.23031272e-01, ...,\n",
              "            7.99328997e-01, 9.54682774e-01, 2.26774021e-01],\n",
              "           [2.79984839e-01, 5.17860233e-01, 1.16827008e-01, ...,\n",
              "            1.54090329e-01, 4.09568250e-01, 8.94808907e-01],\n",
              "           [8.58579854e-01, 9.21897382e-01, 8.56120328e-01, ...,\n",
              "            6.65566425e-01, 1.54393226e-01, 4.71959544e-01],\n",
              "           ...,\n",
              "           [3.18692221e-01, 4.94688555e-01, 2.60431276e-01, ...,\n",
              "            7.96221541e-01, 3.00068812e-01, 7.98268222e-03],\n",
              "           [2.30832537e-01, 3.17645119e-01, 4.03747437e-01, ...,\n",
              "            5.99494844e-02, 7.50857821e-01, 1.85030846e-02],\n",
              "           [3.94496672e-01, 3.58809478e-01, 6.69522629e-01, ...,\n",
              "            8.13528874e-01, 2.08976730e-02, 9.36721176e-01]],\n",
              "\n",
              "          [[8.70649035e-01, 2.46337647e-01, 2.51026772e-01, ...,\n",
              "            1.84024273e-01, 5.69166202e-01, 6.06100732e-01],\n",
              "           [1.21456033e-01, 5.98580240e-01, 7.98017145e-01, ...,\n",
              "            3.91345502e-02, 7.70848233e-01, 5.42422000e-02],\n",
              "           [4.80651387e-01, 6.26459543e-02, 1.84832842e-01, ...,\n",
              "            9.76687854e-01, 7.48400867e-01, 3.00687433e-01],\n",
              "           ...,\n",
              "           [1.34410462e-01, 4.37381101e-01, 4.54780636e-01, ...,\n",
              "            8.58085669e-01, 2.24414165e-01, 3.53770309e-01],\n",
              "           [6.24660900e-01, 4.78799288e-01, 7.39475624e-01, ...,\n",
              "            9.70671153e-01, 6.93277802e-01, 9.56694600e-01],\n",
              "           [5.61448108e-01, 6.31539689e-01, 9.40120728e-01, ...,\n",
              "            7.98104664e-01, 1.30061382e-01, 7.70160453e-01]],\n",
              "\n",
              "          [[6.72177594e-01, 4.10699843e-02, 8.29180396e-01, ...,\n",
              "            5.07224183e-03, 5.52411125e-01, 3.53140669e-02],\n",
              "           [5.21066805e-01, 1.31511992e-01, 2.43975719e-01, ...,\n",
              "            5.31724108e-01, 4.76292644e-01, 5.29081384e-01],\n",
              "           [6.72773887e-01, 5.74407618e-01, 1.84355521e-01, ...,\n",
              "            1.51804546e-01, 7.26502910e-01, 4.55048713e-01],\n",
              "           ...,\n",
              "           [5.54157950e-01, 7.19206004e-01, 9.57770462e-01, ...,\n",
              "            6.13834922e-01, 4.61859837e-01, 5.75075250e-01],\n",
              "           [4.19273446e-02, 8.89833060e-01, 1.47812152e-01, ...,\n",
              "            9.93346702e-01, 4.52996799e-01, 7.53627203e-01],\n",
              "           [4.03368715e-02, 9.65246127e-01, 9.04982043e-02, ...,\n",
              "            4.80234558e-01, 2.63554890e-02, 2.48787193e-01]]]]],\n",
              "\n",
              "\n",
              "\n",
              "\n",
              "       [[[[[7.45277181e-01, 5.89322562e-01, 4.01534038e-01, ...,\n",
              "            3.59161991e-02, 9.97588655e-01, 8.68818681e-02],\n",
              "           [8.86893827e-01, 9.50799650e-01, 9.34258812e-01, ...,\n",
              "            1.75373006e-01, 9.50177737e-01, 9.31923859e-01],\n",
              "           [1.09449096e-01, 4.41423721e-01, 5.93677762e-01, ...,\n",
              "            1.24989079e-01, 2.91406288e-02, 2.09443718e-01],\n",
              "           ...,\n",
              "           [9.69092590e-01, 8.60919099e-01, 7.00475118e-01, ...,\n",
              "            3.37165714e-01, 5.69379257e-01, 1.17792366e-01],\n",
              "           [1.18887974e-01, 1.91803746e-01, 3.87705004e-01, ...,\n",
              "            9.22688103e-01, 3.88158328e-01, 7.63974003e-01],\n",
              "           [1.24168731e-01, 5.43426642e-01, 3.74345454e-01, ...,\n",
              "            9.81448309e-01, 5.25770876e-01, 1.26098271e-01]],\n",
              "\n",
              "          [[5.90340830e-01, 6.39031448e-01, 6.06894092e-01, ...,\n",
              "            2.96844569e-01, 7.43398257e-01, 7.89584653e-01],\n",
              "           [6.10232355e-02, 9.88963537e-01, 6.06091862e-01, ...,\n",
              "            7.01641632e-01, 8.35049110e-01, 9.03826507e-01],\n",
              "           [1.01105728e-01, 6.70117741e-01, 3.11943999e-01, ...,\n",
              "            3.91598809e-01, 9.69619938e-01, 7.83209776e-01],\n",
              "           ...,\n",
              "           [6.76049297e-01, 4.63119968e-01, 7.43519550e-01, ...,\n",
              "            6.28858003e-03, 2.50068232e-01, 8.33872463e-01],\n",
              "           [4.06873311e-01, 4.09641035e-01, 9.46936406e-01, ...,\n",
              "            4.32078848e-01, 8.42265851e-01, 9.53141170e-01],\n",
              "           [7.77717451e-01, 4.84142006e-01, 3.19363705e-01, ...,\n",
              "            9.55199953e-01, 8.87972951e-01, 2.63242131e-01]],\n",
              "\n",
              "          [[3.69288383e-01, 1.81867952e-01, 6.68020164e-01, ...,\n",
              "            7.26755137e-01, 7.66591379e-02, 3.90261969e-01],\n",
              "           [3.43236827e-01, 1.01133709e-01, 3.36939417e-01, ...,\n",
              "            4.89710949e-01, 4.26361549e-01, 7.33064220e-01],\n",
              "           [6.60282019e-01, 7.61462823e-01, 7.43043763e-01, ...,\n",
              "            8.65530664e-01, 2.70318297e-01, 1.13452052e-01],\n",
              "           ...,\n",
              "           [3.49115572e-01, 1.21717713e-01, 3.21673766e-03, ...,\n",
              "            7.97590380e-01, 5.92423292e-01, 2.33577605e-01],\n",
              "           [8.24954788e-01, 4.18442623e-01, 4.26920759e-01, ...,\n",
              "            7.19985428e-01, 9.77784509e-01, 5.68470063e-01],\n",
              "           [6.25685743e-02, 1.47494193e-01, 8.59503654e-01, ...,\n",
              "            5.43877834e-01, 9.87666574e-01, 4.33795741e-01]],\n",
              "\n",
              "          ...,\n",
              "\n",
              "          [[1.70003663e-01, 6.83850122e-01, 8.38612352e-01, ...,\n",
              "            6.90542702e-01, 8.42636525e-01, 1.93884004e-01],\n",
              "           [5.25773709e-01, 7.27108895e-01, 8.74095734e-01, ...,\n",
              "            6.36695521e-01, 5.93752323e-01, 7.92741950e-01],\n",
              "           [3.52576442e-01, 6.05389912e-01, 3.34355642e-01, ...,\n",
              "            8.97981728e-01, 9.03464189e-01, 2.29840313e-01],\n",
              "           ...,\n",
              "           [1.26488933e-01, 9.70497710e-01, 3.63458517e-01, ...,\n",
              "            5.83464032e-01, 6.72158984e-01, 7.57988601e-01],\n",
              "           [6.26039263e-01, 3.92936885e-01, 9.01180724e-01, ...,\n",
              "            2.29521200e-01, 8.33128759e-01, 1.60198887e-01],\n",
              "           [8.96852950e-01, 6.13114811e-01, 3.87653192e-01, ...,\n",
              "            9.62975658e-01, 7.03838407e-01, 8.70158476e-02]],\n",
              "\n",
              "          [[9.54763124e-02, 5.55490811e-01, 4.36091203e-01, ...,\n",
              "            5.90886321e-01, 7.37409305e-01, 2.14548830e-01],\n",
              "           [8.46002982e-01, 7.25124825e-01, 3.92463983e-01, ...,\n",
              "            4.29809288e-01, 2.35551009e-01, 2.70909729e-01],\n",
              "           [3.53330357e-01, 7.08435633e-01, 2.51615630e-01, ...,\n",
              "            4.81572323e-01, 4.89957734e-01, 5.65775114e-01],\n",
              "           ...,\n",
              "           [1.27890010e-01, 2.81548404e-01, 2.62052921e-01, ...,\n",
              "            7.99948856e-01, 5.57497756e-01, 8.00296813e-01],\n",
              "           [3.46064625e-01, 9.04851287e-01, 2.55910950e-01, ...,\n",
              "            6.59341446e-01, 3.44244898e-01, 3.61552363e-01],\n",
              "           [6.54714716e-01, 2.53667396e-01, 6.20896457e-01, ...,\n",
              "            8.37671566e-01, 8.56702519e-02, 3.66558195e-01]],\n",
              "\n",
              "          [[2.26579484e-01, 3.01054496e-01, 1.13080943e-03, ...,\n",
              "            1.48415143e-01, 7.47527510e-01, 3.51905303e-01],\n",
              "           [8.48814561e-01, 3.38475210e-01, 6.28524523e-01, ...,\n",
              "            4.16680212e-01, 8.54643824e-01, 8.00175528e-01],\n",
              "           [6.09705690e-01, 1.43877227e-01, 2.14457621e-01, ...,\n",
              "            7.43173018e-01, 2.78699256e-01, 6.60538999e-01],\n",
              "           ...,\n",
              "           [4.68019986e-01, 7.71212650e-01, 7.79373041e-01, ...,\n",
              "            5.78992602e-01, 8.47378752e-01, 2.03875483e-02],\n",
              "           [9.93448907e-01, 2.81588678e-01, 6.28841830e-01, ...,\n",
              "            8.94124271e-01, 7.68084227e-01, 9.52728466e-01],\n",
              "           [7.81210644e-01, 5.71047519e-01, 2.88673260e-01, ...,\n",
              "            5.70816052e-01, 1.07811523e-01, 8.23921058e-01]]],\n",
              "\n",
              "\n",
              "         [[[4.88083505e-01, 1.51556844e-02, 3.41176794e-02, ...,\n",
              "            2.04749759e-02, 4.43240480e-01, 2.41434603e-01],\n",
              "           [1.19323162e-01, 1.60029566e-01, 3.17385674e-01, ...,\n",
              "            9.07615197e-01, 4.95236730e-01, 7.10989417e-01],\n",
              "           [3.30468721e-01, 1.88679299e-01, 9.26333763e-01, ...,\n",
              "            5.66036082e-01, 2.33200410e-01, 7.96461793e-01],\n",
              "           ...,\n",
              "           [7.50334026e-01, 9.48729766e-01, 9.48019243e-02, ...,\n",
              "            4.94539568e-01, 6.45157560e-01, 3.75862578e-01],\n",
              "           [3.42795899e-01, 8.10690795e-01, 6.95759387e-01, ...,\n",
              "            5.94002067e-01, 1.98216681e-01, 9.44262245e-01],\n",
              "           [7.94927218e-01, 8.75055769e-01, 6.42444039e-01, ...,\n",
              "            2.55870558e-01, 9.58278787e-01, 9.00844538e-01]],\n",
              "\n",
              "          [[8.97204799e-01, 4.45536977e-02, 4.76403161e-01, ...,\n",
              "            9.04815959e-01, 1.30826506e-01, 2.28296368e-01],\n",
              "           [8.82683839e-01, 5.82060053e-01, 4.91041116e-01, ...,\n",
              "            7.77309078e-02, 8.62145401e-01, 4.70179033e-01],\n",
              "           [1.92400918e-01, 2.24427018e-01, 9.27066413e-01, ...,\n",
              "            5.68077914e-01, 8.12446837e-01, 9.91831374e-01],\n",
              "           ...,\n",
              "           [9.23221583e-01, 7.51759021e-01, 2.23360212e-01, ...,\n",
              "            1.25947153e-01, 1.95939240e-03, 1.73835699e-01],\n",
              "           [5.77659458e-01, 1.56598820e-01, 5.07415870e-01, ...,\n",
              "            3.77036183e-02, 6.20179479e-01, 4.09094719e-01],\n",
              "           [3.00453963e-01, 3.26606685e-01, 5.19178359e-01, ...,\n",
              "            7.42140766e-01, 9.62956950e-01, 2.38067700e-01]],\n",
              "\n",
              "          [[2.82637476e-01, 6.82077880e-01, 5.40545126e-01, ...,\n",
              "            2.63601888e-01, 4.81697984e-01, 6.44484390e-01],\n",
              "           [9.89442365e-01, 3.88380515e-01, 3.86322639e-01, ...,\n",
              "            9.19613376e-01, 3.28432253e-01, 8.60152221e-01],\n",
              "           [9.05355234e-01, 8.98750292e-01, 6.87208686e-01, ...,\n",
              "            8.42906886e-01, 3.55105645e-01, 8.52833764e-01],\n",
              "           ...,\n",
              "           [3.71951463e-03, 9.36397712e-01, 4.29448051e-01, ...,\n",
              "            5.67722002e-02, 1.73956793e-01, 3.00577028e-01],\n",
              "           [7.05324027e-01, 6.63077859e-01, 4.87516134e-01, ...,\n",
              "            6.14359075e-02, 5.94022974e-01, 1.84485763e-01],\n",
              "           [7.38774619e-01, 8.53222787e-01, 6.38684531e-01, ...,\n",
              "            6.22834705e-01, 6.24713694e-01, 1.74464037e-01]],\n",
              "\n",
              "          ...,\n",
              "\n",
              "          [[4.86802972e-01, 3.85186589e-01, 7.49149140e-01, ...,\n",
              "            3.04759046e-01, 6.31746838e-01, 3.12515527e-01],\n",
              "           [8.59336686e-01, 6.00422287e-02, 5.10692117e-01, ...,\n",
              "            5.75112620e-01, 7.09061732e-01, 7.40963626e-01],\n",
              "           [9.54645107e-01, 1.22986393e-01, 1.44871980e-01, ...,\n",
              "            4.29270954e-03, 3.76662420e-02, 1.36434508e-01],\n",
              "           ...,\n",
              "           [4.31578473e-01, 2.63437785e-01, 5.74685309e-01, ...,\n",
              "            3.14067485e-01, 9.00507572e-01, 6.32397730e-01],\n",
              "           [1.13037025e-01, 6.74095569e-01, 2.86222705e-01, ...,\n",
              "            7.47645309e-01, 4.07786037e-01, 9.83137481e-02],\n",
              "           [3.77748535e-01, 1.54152364e-01, 6.45460436e-01, ...,\n",
              "            5.84836013e-01, 3.64565507e-01, 5.24639107e-01]],\n",
              "\n",
              "          [[8.03207800e-02, 8.94760501e-01, 1.08074662e-02, ...,\n",
              "            6.65696985e-01, 4.22768623e-01, 1.91722760e-01],\n",
              "           [2.04276381e-01, 3.54467672e-01, 7.51534940e-01, ...,\n",
              "            6.07963908e-01, 8.83246093e-01, 6.14352454e-01],\n",
              "           [2.90309514e-01, 5.47581295e-01, 3.80464100e-01, ...,\n",
              "            2.42061316e-01, 6.99854174e-01, 4.94843332e-01],\n",
              "           ...,\n",
              "           [6.54398731e-01, 1.18093074e-01, 4.03937266e-01, ...,\n",
              "            9.84871102e-01, 8.41702032e-01, 2.48538253e-01],\n",
              "           [8.77711961e-01, 3.67537278e-01, 8.30655129e-01, ...,\n",
              "            2.92007824e-02, 7.59981880e-01, 4.54679224e-01],\n",
              "           [3.22491643e-01, 8.38313101e-01, 1.84813829e-01, ...,\n",
              "            4.90037301e-01, 3.08936172e-01, 1.94177215e-01]],\n",
              "\n",
              "          [[8.66349010e-01, 4.30931762e-01, 8.63747336e-01, ...,\n",
              "            9.34500339e-01, 9.67726513e-01, 2.56261171e-01],\n",
              "           [2.78300416e-01, 5.93621420e-01, 2.92663585e-01, ...,\n",
              "            4.08445315e-01, 5.98354960e-01, 7.83754462e-01],\n",
              "           [8.14667589e-01, 6.05782090e-01, 3.03993202e-01, ...,\n",
              "            9.78952098e-01, 8.14606711e-01, 2.80899118e-01],\n",
              "           ...,\n",
              "           [7.18897280e-01, 9.07561821e-01, 3.92631004e-01, ...,\n",
              "            2.89402663e-01, 5.76594951e-01, 3.67617172e-02],\n",
              "           [2.17336617e-01, 4.72967650e-02, 8.69005530e-01, ...,\n",
              "            9.33376695e-01, 5.10984345e-01, 3.25667446e-01],\n",
              "           [9.79616608e-01, 7.40699897e-01, 5.97099353e-02, ...,\n",
              "            5.48634062e-02, 5.50491830e-01, 4.66447214e-01]]],\n",
              "\n",
              "\n",
              "         [[[3.87519708e-01, 6.86715342e-01, 7.71960737e-01, ...,\n",
              "            1.81437860e-01, 2.27267802e-01, 7.49145166e-01],\n",
              "           [5.39429563e-01, 5.47242202e-01, 4.66909417e-01, ...,\n",
              "            4.64897881e-01, 8.51514565e-01, 3.49935148e-01],\n",
              "           [1.87953369e-01, 9.60790750e-01, 5.17942649e-02, ...,\n",
              "            1.36074409e-01, 3.36863708e-01, 8.27834563e-01],\n",
              "           ...,\n",
              "           [3.90716327e-01, 6.04847954e-01, 8.96266341e-01, ...,\n",
              "            3.51454600e-01, 9.64428111e-01, 1.48325428e-01],\n",
              "           [5.13581457e-01, 7.65156048e-01, 3.50309629e-01, ...,\n",
              "            6.16089394e-01, 4.65966415e-01, 9.87888310e-01],\n",
              "           [3.25476456e-01, 6.07102998e-01, 3.03062806e-02, ...,\n",
              "            3.18422881e-02, 4.60471260e-01, 8.32804321e-01]],\n",
              "\n",
              "          [[8.59864943e-01, 2.67458707e-01, 1.16519045e-01, ...,\n",
              "            5.05761462e-01, 3.44544094e-01, 9.25718474e-01],\n",
              "           [1.04538259e-01, 9.60800682e-03, 5.06277959e-01, ...,\n",
              "            7.06136705e-01, 1.84478187e-01, 6.18266155e-01],\n",
              "           [9.52392927e-01, 4.18130706e-01, 9.11421869e-01, ...,\n",
              "            4.85083457e-01, 9.88155842e-02, 8.25400486e-01],\n",
              "           ...,\n",
              "           [5.23704251e-01, 1.90671824e-01, 2.90534594e-01, ...,\n",
              "            7.58530949e-01, 5.77176813e-02, 4.30028689e-01],\n",
              "           [1.48826648e-01, 8.29974941e-02, 6.09173075e-01, ...,\n",
              "            3.55830707e-01, 1.88851601e-01, 9.69032979e-01],\n",
              "           [2.89251653e-01, 7.24715345e-02, 9.67060275e-01, ...,\n",
              "            1.19352163e-01, 5.80066441e-01, 3.60131481e-01]],\n",
              "\n",
              "          [[8.64335905e-01, 9.43125225e-01, 7.39441404e-01, ...,\n",
              "            9.69287284e-01, 8.39669903e-01, 5.41964105e-01],\n",
              "           [7.78449784e-01, 4.94491048e-01, 7.89713780e-01, ...,\n",
              "            4.46379270e-01, 2.55032461e-01, 9.51170053e-02],\n",
              "           [3.44238111e-01, 1.04283012e-01, 7.34043023e-01, ...,\n",
              "            4.57749914e-01, 8.41488510e-02, 7.69197589e-01],\n",
              "           ...,\n",
              "           [3.95764966e-02, 4.56391195e-01, 2.77907336e-01, ...,\n",
              "            1.87940473e-01, 6.15706993e-01, 5.37784505e-01],\n",
              "           [5.45978488e-01, 3.61769134e-01, 3.78860663e-01, ...,\n",
              "            1.81180943e-01, 8.26419695e-01, 4.00600271e-02],\n",
              "           [9.32487961e-01, 3.02143695e-02, 7.67792796e-01, ...,\n",
              "            9.90013019e-02, 5.24952468e-01, 1.64239287e-01]],\n",
              "\n",
              "          ...,\n",
              "\n",
              "          [[2.98240009e-02, 2.96394824e-01, 9.62160535e-01, ...,\n",
              "            5.42224760e-01, 4.93827654e-01, 9.71633761e-01],\n",
              "           [2.79815870e-01, 7.53147378e-01, 4.05770308e-01, ...,\n",
              "            1.25421400e-01, 6.15660191e-01, 1.92542302e-01],\n",
              "           [1.98302324e-01, 5.72673819e-01, 6.80122849e-01, ...,\n",
              "            4.05351756e-01, 8.84622642e-01, 7.23121029e-01],\n",
              "           ...,\n",
              "           [3.41042230e-01, 1.31105131e-01, 5.07415224e-01, ...,\n",
              "            5.96881865e-01, 7.87741922e-01, 6.38716849e-01],\n",
              "           [1.63824819e-01, 9.72940535e-01, 4.90555641e-01, ...,\n",
              "            5.63419385e-01, 3.99772169e-01, 5.14141893e-01],\n",
              "           [2.55574287e-01, 6.35443717e-01, 8.00034194e-01, ...,\n",
              "            9.55046553e-01, 5.91236241e-01, 9.07066068e-01]],\n",
              "\n",
              "          [[8.79267456e-02, 3.79311685e-01, 5.37988085e-01, ...,\n",
              "            4.50650064e-01, 8.04288389e-02, 5.09088150e-01],\n",
              "           [1.09899320e-01, 6.21283763e-01, 7.07411549e-01, ...,\n",
              "            5.31837395e-01, 4.31737235e-01, 5.49268202e-01],\n",
              "           [7.48222124e-01, 9.70983206e-01, 8.51034634e-01, ...,\n",
              "            3.32759237e-01, 8.26613398e-01, 3.72987806e-01],\n",
              "           ...,\n",
              "           [2.17694890e-01, 3.05824385e-01, 2.56207506e-01, ...,\n",
              "            6.48475697e-01, 6.79447965e-01, 3.84228412e-01],\n",
              "           [7.71568754e-01, 6.93835789e-01, 4.05553846e-01, ...,\n",
              "            7.04487069e-01, 5.56536619e-01, 5.39744221e-01],\n",
              "           [5.97348531e-01, 6.77309972e-01, 7.98348539e-01, ...,\n",
              "            8.99448876e-01, 8.30625382e-01, 5.58524364e-01]],\n",
              "\n",
              "          [[9.93438528e-02, 2.33705042e-01, 8.08421244e-01, ...,\n",
              "            8.39737485e-01, 8.07954909e-01, 5.84731085e-01],\n",
              "           [5.45668970e-01, 2.28610625e-01, 7.95660041e-01, ...,\n",
              "            3.24749804e-01, 6.14835322e-01, 2.42915664e-01],\n",
              "           [1.16597314e-01, 8.42890979e-01, 7.61951260e-01, ...,\n",
              "            8.71471077e-01, 7.34258888e-02, 8.80768166e-01],\n",
              "           ...,\n",
              "           [3.61295652e-01, 5.19740547e-01, 3.38862749e-01, ...,\n",
              "            2.74054735e-01, 2.24640125e-01, 3.98905412e-01],\n",
              "           [8.87791851e-01, 5.34602734e-01, 1.82037518e-01, ...,\n",
              "            9.37075664e-01, 3.87231587e-01, 2.84832445e-02],\n",
              "           [2.67952093e-01, 6.74094153e-01, 1.83415102e-01, ...,\n",
              "            5.63701716e-01, 3.76801468e-01, 2.52409743e-01]]],\n",
              "\n",
              "\n",
              "         [[[7.56562640e-01, 1.46719519e-01, 6.04189378e-01, ...,\n",
              "            4.55366225e-01, 3.96324680e-01, 5.46979392e-01],\n",
              "           [7.05455979e-01, 2.99847440e-01, 8.73886093e-01, ...,\n",
              "            2.76989734e-01, 5.19229142e-01, 5.34306909e-01],\n",
              "           [6.21531859e-01, 1.60746004e-01, 8.83866686e-01, ...,\n",
              "            9.00520476e-01, 9.51393804e-01, 8.62342737e-01],\n",
              "           ...,\n",
              "           [2.51377035e-02, 1.90374059e-01, 3.17181323e-01, ...,\n",
              "            1.56164871e-01, 8.44397038e-02, 2.37966199e-01],\n",
              "           [2.25890756e-01, 9.69607842e-01, 9.89226081e-01, ...,\n",
              "            7.41387187e-01, 5.79806871e-01, 5.01887565e-01],\n",
              "           [5.27506012e-01, 1.87184050e-02, 3.73571392e-01, ...,\n",
              "            6.80158960e-02, 6.07056089e-01, 8.98403168e-01]],\n",
              "\n",
              "          [[4.67492961e-01, 6.93464147e-01, 7.80347101e-01, ...,\n",
              "            4.61409597e-01, 4.87197302e-02, 1.88723158e-01],\n",
              "           [3.75312294e-02, 5.65131183e-01, 6.89251008e-01, ...,\n",
              "            8.86874552e-01, 7.02774294e-01, 6.70593450e-01],\n",
              "           [8.22534184e-01, 2.46563717e-01, 8.85789867e-02, ...,\n",
              "            6.11721048e-01, 4.39309097e-01, 5.74308012e-01],\n",
              "           ...,\n",
              "           [4.06848691e-01, 3.40765410e-01, 4.24528868e-01, ...,\n",
              "            6.08005992e-01, 4.55311518e-01, 3.12792104e-01],\n",
              "           [5.32993676e-01, 7.62466327e-01, 6.06492673e-01, ...,\n",
              "            6.85768739e-01, 1.42220413e-01, 9.76251104e-02],\n",
              "           [6.42700943e-01, 2.21048584e-01, 5.97359672e-01, ...,\n",
              "            1.98024314e-01, 2.59871654e-01, 2.90452530e-01]],\n",
              "\n",
              "          [[3.13162521e-02, 2.54993110e-01, 9.29667892e-01, ...,\n",
              "            3.72018875e-01, 5.10617639e-01, 7.55494716e-01],\n",
              "           [8.10261595e-02, 4.78939101e-01, 5.10781806e-01, ...,\n",
              "            4.81721739e-01, 8.85037999e-01, 4.37052396e-01],\n",
              "           [5.41808149e-01, 1.25942749e-02, 1.90422246e-02, ...,\n",
              "            4.58748709e-01, 1.50684932e-01, 5.84095026e-01],\n",
              "           ...,\n",
              "           [5.74791467e-01, 2.52540007e-01, 9.27842365e-02, ...,\n",
              "            7.14151733e-01, 9.30878474e-01, 2.54617045e-02],\n",
              "           [1.32874215e-01, 6.66922529e-01, 4.67370962e-01, ...,\n",
              "            7.00845724e-01, 9.56219998e-01, 2.85831619e-02],\n",
              "           [5.84982122e-02, 7.88189376e-01, 9.44743872e-01, ...,\n",
              "            1.52126239e-01, 3.41332983e-01, 2.79464522e-01]],\n",
              "\n",
              "          ...,\n",
              "\n",
              "          [[3.00596509e-01, 8.54646463e-01, 2.25018955e-01, ...,\n",
              "            5.20248823e-02, 1.89688899e-01, 1.34297839e-01],\n",
              "           [7.34411438e-01, 6.86596790e-01, 6.40582100e-01, ...,\n",
              "            3.50895644e-01, 3.23452714e-01, 9.95025246e-01],\n",
              "           [8.90453601e-01, 6.90437519e-01, 7.85947363e-01, ...,\n",
              "            3.20751284e-01, 3.53964515e-01, 6.92441359e-01],\n",
              "           ...,\n",
              "           [4.30327970e-01, 8.20449359e-01, 4.58813143e-01, ...,\n",
              "            5.73451729e-01, 6.09381288e-01, 7.30565101e-01],\n",
              "           [7.95896119e-01, 1.36127956e-01, 6.30073682e-01, ...,\n",
              "            1.85303571e-01, 6.71663642e-01, 3.25216933e-01],\n",
              "           [1.32993209e-01, 5.54761228e-01, 3.25982884e-01, ...,\n",
              "            3.00764440e-01, 1.65642779e-01, 2.12795798e-01]],\n",
              "\n",
              "          [[3.45872858e-01, 1.99430440e-01, 1.29571684e-01, ...,\n",
              "            6.19942339e-01, 7.79900333e-01, 2.04066192e-01],\n",
              "           [8.70803605e-01, 7.93848112e-01, 6.35701971e-01, ...,\n",
              "            2.99626752e-02, 8.08576337e-01, 3.56766448e-02],\n",
              "           [3.64994561e-01, 2.49523642e-01, 3.77608599e-01, ...,\n",
              "            3.18199021e-01, 8.49462731e-01, 5.44916540e-01],\n",
              "           ...,\n",
              "           [6.58829379e-01, 1.43280999e-01, 8.51714197e-01, ...,\n",
              "            8.08873788e-01, 5.46115593e-01, 5.52988635e-01],\n",
              "           [8.29056014e-01, 9.49989534e-01, 1.19893364e-01, ...,\n",
              "            6.75299899e-01, 7.07464559e-01, 8.79249517e-01],\n",
              "           [3.24476430e-01, 1.61728723e-01, 5.42736375e-01, ...,\n",
              "            8.27896050e-01, 9.36058532e-01, 2.44934244e-01]],\n",
              "\n",
              "          [[6.13861574e-01, 6.37789574e-01, 2.08569822e-01, ...,\n",
              "            9.50685358e-01, 2.69597786e-01, 4.04190589e-02],\n",
              "           [9.32754876e-01, 6.85816737e-01, 5.55735125e-01, ...,\n",
              "            3.29133617e-01, 1.41341209e-01, 4.32453931e-02],\n",
              "           [4.33305946e-01, 3.70361992e-01, 8.21863863e-01, ...,\n",
              "            7.71647420e-01, 2.92803325e-01, 3.16436564e-01],\n",
              "           ...,\n",
              "           [3.56315980e-01, 6.59375255e-01, 2.06381987e-01, ...,\n",
              "            7.13678145e-01, 6.00886844e-01, 7.32857005e-01],\n",
              "           [1.55635584e-01, 9.03011377e-01, 7.83718720e-01, ...,\n",
              "            1.80151256e-01, 8.69228561e-01, 7.23978925e-01],\n",
              "           [2.83443753e-01, 7.32313282e-01, 8.81339521e-01, ...,\n",
              "            8.48663071e-01, 2.80507761e-01, 7.47097898e-01]]]],\n",
              "\n",
              "\n",
              "\n",
              "        [[[[4.13398053e-01, 6.73774588e-02, 2.05440442e-01, ...,\n",
              "            2.75292786e-02, 7.89554826e-01, 9.23044635e-01],\n",
              "           [3.79862858e-01, 2.31391036e-01, 2.53513579e-01, ...,\n",
              "            8.76098446e-02, 8.68214779e-01, 7.35082812e-01],\n",
              "           [5.10466021e-01, 6.86403500e-02, 2.84172645e-01, ...,\n",
              "            1.53881458e-01, 9.12861094e-01, 8.15225763e-01],\n",
              "           ...,\n",
              "           [6.20318619e-01, 9.10603504e-01, 6.85322793e-01, ...,\n",
              "            6.84293998e-01, 6.64972395e-01, 6.51161642e-01],\n",
              "           [2.67071452e-01, 4.90665267e-01, 7.56454299e-01, ...,\n",
              "            1.39499818e-01, 7.28210480e-01, 4.20575223e-01],\n",
              "           [6.75311152e-01, 1.15457066e-02, 2.15675178e-01, ...,\n",
              "            7.67918686e-01, 2.97221139e-01, 4.32990517e-01]],\n",
              "\n",
              "          [[6.36454247e-02, 2.36514249e-01, 8.69569903e-01, ...,\n",
              "            1.38225155e-03, 4.04824166e-01, 6.90336555e-01],\n",
              "           [4.03668091e-01, 6.01604103e-01, 4.46100895e-01, ...,\n",
              "            8.15931960e-01, 7.55424809e-01, 9.13189353e-01],\n",
              "           [9.44966562e-01, 6.41156610e-01, 3.81609600e-01, ...,\n",
              "            4.54269469e-01, 4.46155624e-01, 7.44832738e-01],\n",
              "           ...,\n",
              "           [8.18054516e-01, 1.45342633e-01, 1.09876704e-01, ...,\n",
              "            3.81171555e-01, 4.12326203e-02, 1.22012758e-01],\n",
              "           [8.21417104e-02, 2.00543183e-02, 9.79815769e-01, ...,\n",
              "            5.82426933e-01, 5.88281837e-01, 6.97250663e-01],\n",
              "           [7.60394154e-01, 7.70930740e-02, 8.96169912e-01, ...,\n",
              "            2.40052195e-01, 8.67444253e-01, 1.41819163e-01]],\n",
              "\n",
              "          [[8.93708491e-01, 2.88196681e-01, 2.17877874e-01, ...,\n",
              "            2.05554107e-01, 6.95457742e-01, 2.79286020e-02],\n",
              "           [2.40364473e-02, 8.57908029e-02, 6.47654024e-01, ...,\n",
              "            3.32783197e-01, 7.51683573e-01, 5.90996878e-01],\n",
              "           [3.54267303e-01, 4.94329742e-01, 9.49593371e-01, ...,\n",
              "            9.67205106e-01, 9.53908537e-02, 7.23929131e-01],\n",
              "           ...,\n",
              "           [8.88472438e-01, 5.97539698e-01, 4.01304578e-01, ...,\n",
              "            4.86795736e-01, 2.06359985e-01, 9.77406413e-01],\n",
              "           [3.18939261e-01, 4.66322332e-01, 2.42474631e-02, ...,\n",
              "            5.35873707e-01, 3.30056562e-02, 7.53667485e-01],\n",
              "           [5.65299301e-01, 9.88589625e-01, 9.34948416e-01, ...,\n",
              "            8.01208472e-01, 5.23268176e-01, 5.24524469e-01]],\n",
              "\n",
              "          ...,\n",
              "\n",
              "          [[1.27198016e-01, 9.05789076e-01, 9.60004432e-01, ...,\n",
              "            4.68899827e-01, 8.11951394e-01, 2.62547684e-01],\n",
              "           [3.02360743e-01, 9.72925568e-01, 7.40754487e-02, ...,\n",
              "            3.01226068e-01, 7.41424873e-01, 7.68079274e-01],\n",
              "           [7.81872712e-01, 7.25375701e-01, 6.22975574e-01, ...,\n",
              "            4.11033224e-01, 1.72273447e-01, 4.39820836e-01],\n",
              "           ...,\n",
              "           [3.83473094e-01, 8.32256410e-01, 6.33682928e-01, ...,\n",
              "            8.08559909e-01, 8.33210994e-02, 1.47219694e-01],\n",
              "           [6.42461511e-01, 5.22506841e-01, 3.93478755e-01, ...,\n",
              "            6.57544036e-01, 8.66959597e-01, 3.75591080e-01],\n",
              "           [1.32954094e-01, 4.49163099e-01, 9.32830726e-01, ...,\n",
              "            8.46495098e-01, 2.03463904e-01, 3.77110810e-01]],\n",
              "\n",
              "          [[9.99274896e-01, 6.48494919e-01, 8.53523316e-01, ...,\n",
              "            1.31832268e-01, 6.01379257e-01, 2.34216967e-01],\n",
              "           [2.89657701e-01, 7.50602804e-01, 4.62594409e-01, ...,\n",
              "            4.20022219e-02, 3.34842295e-01, 5.00703479e-01],\n",
              "           [6.85206228e-02, 6.65464325e-01, 2.81705185e-01, ...,\n",
              "            1.92893134e-01, 9.40856221e-02, 9.34103136e-01],\n",
              "           ...,\n",
              "           [6.35810959e-01, 7.29921999e-02, 6.23531031e-01, ...,\n",
              "            7.54816073e-01, 6.43064601e-01, 9.64258771e-01],\n",
              "           [9.94975134e-01, 4.36576398e-01, 9.49599017e-01, ...,\n",
              "            8.65347458e-01, 6.38308420e-01, 8.51734919e-01],\n",
              "           [2.77578854e-02, 1.84964598e-01, 4.13168928e-01, ...,\n",
              "            6.64080493e-01, 1.59709816e-01, 8.98319250e-02]],\n",
              "\n",
              "          [[4.24281234e-01, 9.71087819e-02, 1.47782758e-01, ...,\n",
              "            7.91690269e-01, 7.72258484e-02, 9.25439650e-01],\n",
              "           [7.54561816e-01, 4.44912313e-01, 1.83504297e-01, ...,\n",
              "            1.83507462e-01, 5.84340961e-01, 2.38512022e-01],\n",
              "           [4.28549874e-01, 2.31014252e-01, 7.42298159e-01, ...,\n",
              "            5.02836739e-01, 3.85563021e-03, 9.61470505e-01],\n",
              "           ...,\n",
              "           [8.65019279e-01, 9.83391994e-01, 3.53953222e-01, ...,\n",
              "            4.56926466e-01, 4.72479697e-01, 8.31006748e-01],\n",
              "           [3.63198820e-01, 7.68693703e-01, 5.03240839e-01, ...,\n",
              "            7.61536755e-01, 9.13526224e-01, 3.99389582e-01],\n",
              "           [7.76486865e-01, 4.85771301e-02, 8.27964002e-01, ...,\n",
              "            3.13204520e-01, 4.84505765e-01, 7.85319092e-01]]],\n",
              "\n",
              "\n",
              "         [[[8.66405655e-01, 8.71122892e-01, 3.94736450e-01, ...,\n",
              "            3.45584357e-01, 7.47471107e-01, 4.16175500e-01],\n",
              "           [1.72131469e-01, 1.29899540e-01, 7.73031083e-01, ...,\n",
              "            7.31633907e-01, 1.02290982e-01, 7.51769659e-01],\n",
              "           [8.54865147e-02, 5.75059074e-01, 4.04852647e-01, ...,\n",
              "            1.25388646e-01, 3.30987411e-01, 6.31665769e-01],\n",
              "           ...,\n",
              "           [5.17336686e-01, 2.63380533e-01, 9.16429860e-01, ...,\n",
              "            4.57048207e-01, 3.73316248e-01, 7.23903640e-01],\n",
              "           [6.40087639e-01, 8.54287345e-01, 8.10276781e-01, ...,\n",
              "            6.28964799e-01, 5.03347215e-01, 7.80881132e-01],\n",
              "           [8.33186190e-01, 4.53214986e-01, 7.55027422e-01, ...,\n",
              "            3.00587641e-01, 6.44757250e-01, 9.93339310e-01]],\n",
              "\n",
              "          [[8.54727242e-01, 2.42230109e-01, 6.91936618e-02, ...,\n",
              "            7.96211544e-01, 2.90172041e-01, 6.56341002e-01],\n",
              "           [8.10205294e-01, 4.61941641e-02, 4.26988263e-01, ...,\n",
              "            3.63591515e-02, 3.75576762e-01, 9.57702690e-01],\n",
              "           [7.04926941e-01, 4.08985034e-01, 1.42339677e-01, ...,\n",
              "            4.58497555e-01, 1.50737374e-01, 5.54172914e-01],\n",
              "           ...,\n",
              "           [4.04661787e-01, 4.07345042e-01, 4.52149678e-02, ...,\n",
              "            2.04277524e-01, 4.18615441e-02, 9.18955028e-02],\n",
              "           [9.90389414e-01, 2.04319722e-01, 6.24580194e-01, ...,\n",
              "            4.94543577e-02, 4.76771708e-01, 4.59843155e-01],\n",
              "           [9.58033481e-01, 2.63109036e-01, 6.85502354e-01, ...,\n",
              "            3.16396411e-01, 5.82053414e-01, 5.85512648e-01]],\n",
              "\n",
              "          [[3.15725532e-01, 1.19859280e-02, 1.07213669e-01, ...,\n",
              "            7.29092429e-02, 8.68501823e-01, 1.49549854e-01],\n",
              "           [8.36370602e-01, 1.68781137e-02, 4.20646095e-01, ...,\n",
              "            9.49925135e-01, 4.02433472e-02, 8.65190694e-01],\n",
              "           [8.22632914e-01, 5.69797814e-01, 3.96930637e-01, ...,\n",
              "            2.06987476e-01, 9.37836516e-01, 3.78756562e-01],\n",
              "           ...,\n",
              "           [3.08394918e-01, 7.83098200e-01, 1.87167964e-01, ...,\n",
              "            6.41395717e-01, 4.20671117e-01, 4.14090213e-01],\n",
              "           [1.48477314e-02, 5.98248167e-01, 2.18988067e-01, ...,\n",
              "            4.09988888e-01, 9.17023959e-01, 9.04603454e-01],\n",
              "           [3.08412360e-01, 1.23121080e-01, 1.49620680e-01, ...,\n",
              "            3.69104204e-02, 3.32003988e-01, 2.80742285e-01]],\n",
              "\n",
              "          ...,\n",
              "\n",
              "          [[9.88370579e-01, 2.06647459e-01, 1.88642137e-01, ...,\n",
              "            6.21906405e-01, 5.78998851e-01, 3.58091626e-01],\n",
              "           [1.07393471e-01, 4.29687872e-01, 9.11207715e-01, ...,\n",
              "            7.47603262e-01, 2.10097018e-01, 9.85956370e-01],\n",
              "           [1.00197241e-01, 7.85752215e-01, 1.32516062e-01, ...,\n",
              "            4.20012021e-01, 5.21361168e-03, 1.67376897e-01],\n",
              "           ...,\n",
              "           [2.74258823e-01, 8.04734470e-01, 1.48891765e-01, ...,\n",
              "            7.36359128e-01, 9.84165565e-01, 7.64699893e-01],\n",
              "           [8.01001204e-01, 2.00122750e-02, 1.93597354e-01, ...,\n",
              "            9.09945114e-01, 7.66852105e-01, 7.07888967e-01],\n",
              "           [4.79003011e-01, 2.77717138e-01, 2.42184639e-01, ...,\n",
              "            8.80572863e-01, 6.28584311e-01, 7.02311715e-02]],\n",
              "\n",
              "          [[8.57986586e-01, 9.11701643e-01, 8.48273207e-02, ...,\n",
              "            8.51703514e-01, 9.76348243e-01, 2.80254167e-01],\n",
              "           [6.56724609e-01, 4.22068329e-01, 9.78098174e-01, ...,\n",
              "            5.39497465e-01, 6.90126318e-01, 8.74518582e-01],\n",
              "           [2.51552355e-01, 9.11092148e-01, 8.26348882e-01, ...,\n",
              "            7.28067778e-01, 7.18503068e-01, 5.76520513e-01],\n",
              "           ...,\n",
              "           [3.14175219e-01, 4.19237380e-01, 6.58081119e-01, ...,\n",
              "            1.03796349e-02, 9.72305761e-01, 3.71775553e-02],\n",
              "           [2.64598205e-02, 1.29802077e-01, 3.03394218e-01, ...,\n",
              "            7.19383274e-01, 9.53710940e-01, 4.95652969e-01],\n",
              "           [4.14902236e-01, 5.98311702e-01, 5.39708302e-01, ...,\n",
              "            3.79111015e-01, 7.29705066e-01, 1.84809048e-01]],\n",
              "\n",
              "          [[9.51854818e-01, 5.53896971e-01, 3.91558332e-01, ...,\n",
              "            9.25660560e-01, 7.98134849e-01, 2.04840865e-01],\n",
              "           [7.36099509e-01, 7.13905781e-01, 3.25743786e-01, ...,\n",
              "            1.10511623e-01, 3.81916581e-01, 2.34604428e-01],\n",
              "           [2.87239935e-02, 3.37399979e-01, 4.58210594e-01, ...,\n",
              "            5.86359606e-01, 5.31876052e-01, 6.89766147e-01],\n",
              "           ...,\n",
              "           [6.53262734e-01, 4.31424259e-01, 3.57683733e-01, ...,\n",
              "            7.27398328e-01, 1.45126678e-01, 7.27963389e-01],\n",
              "           [3.58280988e-01, 3.67693090e-01, 9.92360618e-01, ...,\n",
              "            3.70818762e-02, 6.04513237e-01, 3.40961288e-01],\n",
              "           [6.36665328e-01, 3.34260950e-01, 5.67645010e-01, ...,\n",
              "            2.05816526e-01, 1.91649221e-02, 3.85740764e-01]]],\n",
              "\n",
              "\n",
              "         [[[7.83981885e-02, 1.39685817e-01, 9.16570380e-01, ...,\n",
              "            5.44254091e-01, 9.83124518e-01, 4.65300720e-01],\n",
              "           [8.63670738e-01, 2.05239983e-01, 3.71857088e-01, ...,\n",
              "            6.01804596e-02, 1.03895219e-01, 9.09877647e-01],\n",
              "           [8.04901331e-02, 5.02057207e-01, 4.67703205e-01, ...,\n",
              "            7.90462500e-01, 5.66935849e-01, 4.10147777e-01],\n",
              "           ...,\n",
              "           [3.50328375e-01, 3.28378819e-01, 7.25790790e-01, ...,\n",
              "            8.30361306e-01, 7.77357126e-01, 9.65573029e-01],\n",
              "           [7.48939657e-01, 7.77277253e-01, 4.78897009e-01, ...,\n",
              "            5.60047229e-01, 1.69567406e-01, 8.41118786e-01],\n",
              "           [1.36032433e-02, 2.77702906e-01, 2.02810663e-01, ...,\n",
              "            5.25778529e-03, 2.03878392e-01, 6.54987959e-01]],\n",
              "\n",
              "          [[7.68608705e-01, 6.75236737e-01, 3.46512384e-01, ...,\n",
              "            7.43824408e-01, 6.99185104e-01, 4.75430363e-01],\n",
              "           [4.96721587e-02, 8.59811893e-01, 7.10171541e-01, ...,\n",
              "            4.58820069e-01, 7.28925214e-01, 1.67788895e-01],\n",
              "           [2.44638279e-01, 9.26307293e-04, 4.15431494e-01, ...,\n",
              "            8.43398493e-01, 1.20850012e-01, 4.99243234e-02],\n",
              "           ...,\n",
              "           [6.05563772e-01, 7.04190367e-02, 4.86299564e-01, ...,\n",
              "            9.44477218e-01, 2.84678116e-01, 6.32174406e-01],\n",
              "           [1.60446005e-01, 4.11430837e-01, 2.39908864e-01, ...,\n",
              "            8.98053971e-01, 2.56527647e-01, 6.93996865e-01],\n",
              "           [7.18059957e-01, 6.35345319e-02, 5.64807704e-01, ...,\n",
              "            4.94672352e-01, 9.56650958e-02, 6.20054767e-01]],\n",
              "\n",
              "          [[4.02577275e-01, 6.76921147e-02, 6.51417548e-01, ...,\n",
              "            3.67041411e-01, 5.27261856e-01, 1.19691102e-01],\n",
              "           [5.11051555e-01, 3.21664537e-01, 6.50938352e-01, ...,\n",
              "            5.87702303e-01, 9.42568119e-01, 8.39361519e-01],\n",
              "           [9.66926884e-01, 8.97895032e-01, 6.43557763e-01, ...,\n",
              "            4.91842195e-01, 1.98889997e-01, 6.69900088e-01],\n",
              "           ...,\n",
              "           [9.39947780e-01, 2.00388509e-01, 3.24912021e-01, ...,\n",
              "            9.06339612e-01, 6.31493610e-01, 7.85687349e-01],\n",
              "           [2.63665559e-01, 6.32741579e-01, 9.30008743e-01, ...,\n",
              "            4.22184489e-01, 3.17025133e-01, 4.54889576e-01],\n",
              "           [9.87559401e-01, 3.17420446e-01, 7.01910833e-01, ...,\n",
              "            9.63602403e-01, 8.78459607e-01, 2.41871584e-01]],\n",
              "\n",
              "          ...,\n",
              "\n",
              "          [[8.11731366e-01, 1.57391560e-01, 2.40646086e-01, ...,\n",
              "            6.89169441e-01, 3.09028425e-01, 2.94761469e-01],\n",
              "           [4.34671356e-01, 9.68723650e-01, 9.94151949e-01, ...,\n",
              "            6.85403695e-01, 7.97854315e-01, 1.71356133e-01],\n",
              "           [1.41123849e-02, 2.85398659e-01, 8.59282865e-01, ...,\n",
              "            4.76965725e-01, 6.06668198e-01, 1.71522736e-01],\n",
              "           ...,\n",
              "           [4.35993020e-01, 7.52873305e-01, 3.03943674e-01, ...,\n",
              "            2.36346261e-01, 5.51938017e-01, 7.58313185e-01],\n",
              "           [3.25571791e-01, 6.09654664e-01, 8.72305994e-01, ...,\n",
              "            9.16543041e-02, 2.02332941e-01, 1.53564587e-01],\n",
              "           [1.47042312e-01, 3.75438230e-01, 8.24266813e-01, ...,\n",
              "            9.28623702e-02, 8.75543122e-01, 1.59381080e-01]],\n",
              "\n",
              "          [[1.74283308e-01, 3.77771661e-01, 2.55671283e-01, ...,\n",
              "            9.07791578e-01, 4.36551804e-01, 5.05739825e-01],\n",
              "           [4.83287643e-01, 7.66347932e-01, 3.70457404e-01, ...,\n",
              "            9.58566787e-01, 8.01725093e-01, 3.36530842e-01],\n",
              "           [2.51627156e-01, 2.33754092e-01, 4.44061991e-01, ...,\n",
              "            5.90929129e-01, 7.57976770e-01, 5.37107143e-01],\n",
              "           ...,\n",
              "           [5.51300427e-01, 5.12443465e-01, 5.77423188e-01, ...,\n",
              "            4.79370650e-01, 5.47172336e-01, 3.78746131e-01],\n",
              "           [1.94707188e-01, 1.60802631e-01, 4.35985781e-01, ...,\n",
              "            6.69514879e-01, 5.87265846e-01, 5.36967601e-01],\n",
              "           [1.43128734e-01, 2.56559500e-01, 2.23452069e-01, ...,\n",
              "            8.19411853e-01, 4.88607637e-01, 1.22210101e-01]],\n",
              "\n",
              "          [[3.24643916e-01, 8.32667211e-01, 3.57540050e-01, ...,\n",
              "            3.10915626e-01, 7.83286952e-01, 9.54920914e-01],\n",
              "           [7.01377937e-01, 9.00052625e-01, 9.90024768e-01, ...,\n",
              "            5.38507740e-01, 1.17646759e-01, 1.96052048e-01],\n",
              "           [7.50524352e-01, 4.62050508e-01, 6.28354483e-01, ...,\n",
              "            6.75362187e-02, 6.40152615e-01, 9.63084926e-01],\n",
              "           ...,\n",
              "           [3.34537233e-02, 8.66056690e-01, 6.30204175e-02, ...,\n",
              "            7.05536852e-01, 1.35251272e-01, 4.08639204e-01],\n",
              "           [3.36195436e-01, 2.96455302e-01, 8.03966436e-01, ...,\n",
              "            3.19558949e-01, 7.43171980e-01, 5.86438005e-01],\n",
              "           [1.75551124e-01, 4.39073254e-01, 3.96735190e-01, ...,\n",
              "            1.99203385e-01, 4.32944179e-01, 2.60727216e-01]]],\n",
              "\n",
              "\n",
              "         [[[4.91379432e-01, 8.40567039e-01, 9.08133257e-01, ...,\n",
              "            7.21265428e-01, 2.57538180e-01, 3.19051622e-01],\n",
              "           [7.54023230e-01, 1.43277271e-02, 8.46384414e-01, ...,\n",
              "            2.07601282e-01, 5.88948448e-01, 6.74522166e-01],\n",
              "           [1.14392427e-01, 3.92271670e-01, 9.82748882e-01, ...,\n",
              "            7.81690980e-01, 7.30799504e-02, 5.52109671e-01],\n",
              "           ...,\n",
              "           [5.18009882e-01, 3.81895638e-01, 4.15177454e-02, ...,\n",
              "            1.32915562e-01, 8.71346378e-01, 2.66075927e-01],\n",
              "           [5.94735559e-01, 6.03274362e-01, 7.96156458e-01, ...,\n",
              "            4.73620895e-01, 7.15231414e-01, 9.73930328e-03],\n",
              "           [4.56655226e-01, 1.83254964e-01, 7.23314572e-01, ...,\n",
              "            2.32566955e-01, 3.87345299e-01, 6.85898478e-01]],\n",
              "\n",
              "          [[7.40630115e-01, 6.72582684e-01, 1.02079579e-01, ...,\n",
              "            6.26104557e-01, 3.70289827e-01, 6.01116236e-01],\n",
              "           [7.09168491e-01, 1.73811451e-01, 7.86051103e-01, ...,\n",
              "            5.31108166e-01, 9.15494029e-01, 5.81964323e-01],\n",
              "           [8.88484944e-01, 4.07231772e-02, 5.82889084e-02, ...,\n",
              "            7.84345829e-01, 4.83898305e-01, 1.61916310e-01],\n",
              "           ...,\n",
              "           [2.78753134e-01, 5.73234324e-01, 1.39969930e-01, ...,\n",
              "            3.91896504e-01, 8.37155707e-01, 6.80153350e-01],\n",
              "           [3.17951558e-01, 3.10067887e-01, 8.19523209e-01, ...,\n",
              "            9.25649051e-01, 4.86103516e-01, 7.12222994e-01],\n",
              "           [7.98745211e-02, 3.64822090e-01, 9.61751173e-01, ...,\n",
              "            3.93250264e-01, 3.70231737e-01, 3.69539452e-01]],\n",
              "\n",
              "          [[4.41671684e-01, 9.89321739e-01, 4.35162586e-01, ...,\n",
              "            1.00660539e-01, 6.10418594e-01, 1.57419318e-01],\n",
              "           [6.71780438e-01, 7.63082439e-01, 2.45896911e-01, ...,\n",
              "            9.50035059e-02, 6.95619529e-01, 2.00363693e-01],\n",
              "           [2.08872046e-01, 7.68223585e-01, 7.71063299e-01, ...,\n",
              "            1.94996999e-02, 9.08222331e-01, 5.42342569e-01],\n",
              "           ...,\n",
              "           [8.10171332e-01, 9.15808772e-01, 8.99819299e-01, ...,\n",
              "            2.57252171e-01, 4.79131304e-01, 9.26720354e-01],\n",
              "           [4.00252526e-01, 6.09086390e-01, 8.57634919e-02, ...,\n",
              "            6.43814298e-01, 9.22222321e-01, 3.46699999e-01],\n",
              "           [5.88921614e-01, 7.19702118e-01, 8.25491926e-01, ...,\n",
              "            1.18081481e-01, 9.04264505e-01, 7.75399915e-02]],\n",
              "\n",
              "          ...,\n",
              "\n",
              "          [[4.19988422e-01, 6.38911567e-01, 4.19737037e-01, ...,\n",
              "            4.27598622e-01, 7.77306534e-01, 3.23397161e-01],\n",
              "           [2.51893671e-01, 9.02590092e-01, 9.08280568e-01, ...,\n",
              "            5.73995747e-01, 6.46701617e-01, 1.29001503e-01],\n",
              "           [6.39299707e-01, 3.31687860e-01, 5.57144541e-01, ...,\n",
              "            9.68812822e-01, 3.43636753e-01, 8.27265387e-01],\n",
              "           ...,\n",
              "           [1.94815935e-01, 2.15751280e-01, 4.24327091e-01, ...,\n",
              "            3.85335230e-01, 6.27286883e-01, 3.09596287e-01],\n",
              "           [9.07758562e-01, 5.66689226e-01, 7.01427055e-01, ...,\n",
              "            3.41220253e-01, 8.98500220e-01, 8.71693235e-01],\n",
              "           [7.62243507e-01, 5.49335984e-01, 3.41700829e-01, ...,\n",
              "            4.74405061e-01, 4.45565860e-01, 5.81790324e-01]],\n",
              "\n",
              "          [[3.76882409e-01, 6.38522796e-01, 4.23308521e-01, ...,\n",
              "            3.05380503e-01, 2.36805506e-01, 1.88698499e-01],\n",
              "           [6.79188676e-01, 9.10904713e-01, 9.85178583e-01, ...,\n",
              "            3.53015621e-01, 7.18385714e-01, 7.10340083e-01],\n",
              "           [6.02000345e-01, 1.57593558e-01, 2.60263188e-01, ...,\n",
              "            9.26796737e-01, 3.31446212e-02, 5.17488932e-01],\n",
              "           ...,\n",
              "           [8.48533758e-01, 7.23131401e-02, 3.42222349e-01, ...,\n",
              "            9.77109334e-01, 4.01595630e-01, 9.20706662e-01],\n",
              "           [4.17474438e-01, 8.79111875e-01, 2.38505553e-01, ...,\n",
              "            5.07990321e-01, 2.59777163e-01, 8.70037357e-01],\n",
              "           [5.80405457e-01, 3.92728332e-01, 9.54208186e-02, ...,\n",
              "            2.57105996e-01, 6.77002319e-01, 5.67163877e-01]],\n",
              "\n",
              "          [[8.99316717e-01, 6.85013874e-01, 1.06163047e-01, ...,\n",
              "            1.40778685e-01, 5.19000372e-01, 9.60018619e-02],\n",
              "           [7.16427580e-01, 8.10411858e-01, 7.54875205e-01, ...,\n",
              "            8.17838265e-01, 7.38488046e-01, 3.47442690e-01],\n",
              "           [3.66142715e-01, 7.27845334e-01, 3.62695155e-01, ...,\n",
              "            2.93576369e-01, 9.62753225e-01, 5.57648709e-01],\n",
              "           ...,\n",
              "           [8.98586650e-01, 5.47023547e-02, 6.32345157e-01, ...,\n",
              "            1.56388228e-01, 8.50307224e-01, 5.14459077e-01],\n",
              "           [5.52646918e-01, 4.23614844e-02, 2.21079624e-02, ...,\n",
              "            3.56009069e-01, 6.80225923e-01, 7.12411749e-01],\n",
              "           [7.47532918e-01, 6.38441150e-01, 9.39388673e-01, ...,\n",
              "            6.55107499e-02, 9.78788551e-01, 9.14566022e-02]]]],\n",
              "\n",
              "\n",
              "\n",
              "        [[[[8.52662658e-03, 2.96616273e-02, 9.16343943e-01, ...,\n",
              "            8.63764610e-01, 2.10771803e-01, 5.23247596e-01],\n",
              "           [6.04073254e-01, 8.36654207e-01, 4.26114475e-01, ...,\n",
              "            6.34170270e-01, 3.79193196e-01, 7.38677388e-01],\n",
              "           [6.37569338e-01, 7.98379752e-01, 8.59640577e-01, ...,\n",
              "            7.65031991e-01, 3.51889436e-01, 4.41064046e-02],\n",
              "           ...,\n",
              "           [8.50502772e-01, 1.84285077e-01, 3.35073156e-01, ...,\n",
              "            6.74189872e-01, 6.59226179e-01, 2.74554975e-01],\n",
              "           [9.48196317e-01, 5.41305594e-01, 3.14178492e-01, ...,\n",
              "            2.87399213e-02, 4.54591850e-01, 2.22850567e-01],\n",
              "           [3.38800750e-01, 7.35637971e-01, 2.41230293e-02, ...,\n",
              "            3.34422394e-01, 1.42120045e-01, 7.17512821e-01]],\n",
              "\n",
              "          [[9.58438266e-01, 6.47809557e-01, 7.95385484e-01, ...,\n",
              "            5.13458162e-01, 3.44111797e-01, 8.25475417e-01],\n",
              "           [5.31820954e-01, 2.21857854e-01, 2.02240487e-01, ...,\n",
              "            4.89531972e-01, 6.13295333e-02, 9.18914522e-01],\n",
              "           [9.79944338e-01, 1.79896878e-01, 7.43373246e-01, ...,\n",
              "            3.94620321e-01, 1.33283937e-01, 3.76461891e-01],\n",
              "           ...,\n",
              "           [6.01942180e-01, 8.81285979e-01, 9.66016279e-01, ...,\n",
              "            6.54177389e-01, 6.34246250e-01, 1.32075192e-01],\n",
              "           [1.13309577e-01, 1.92486326e-01, 7.04932800e-01, ...,\n",
              "            5.11699783e-01, 4.49563203e-01, 5.58090352e-01],\n",
              "           [8.96375116e-01, 3.31129443e-01, 6.79351138e-02, ...,\n",
              "            8.66569965e-01, 6.87660483e-01, 5.50134426e-01]],\n",
              "\n",
              "          [[5.58965716e-01, 6.31047571e-01, 8.16804760e-01, ...,\n",
              "            8.17638821e-01, 2.58459605e-01, 7.93813941e-01],\n",
              "           [4.39304245e-02, 2.62199362e-01, 1.99324175e-01, ...,\n",
              "            8.95454976e-01, 1.99986175e-01, 6.59308687e-01],\n",
              "           [5.98191305e-01, 9.85475595e-01, 1.82294112e-01, ...,\n",
              "            3.33150704e-01, 9.21143584e-01, 6.99760932e-01],\n",
              "           ...,\n",
              "           [6.73150403e-01, 4.84348638e-01, 8.17255791e-01, ...,\n",
              "            9.05748300e-01, 2.21553304e-01, 2.62402226e-01],\n",
              "           [4.73404916e-01, 9.84236709e-02, 3.60578052e-01, ...,\n",
              "            4.48363878e-01, 6.49900017e-01, 2.60419520e-01],\n",
              "           [2.85930014e-01, 9.44226394e-01, 3.20785877e-01, ...,\n",
              "            3.73503854e-01, 9.94930594e-01, 2.14335275e-01]],\n",
              "\n",
              "          ...,\n",
              "\n",
              "          [[4.61067342e-01, 2.68206524e-01, 6.19106419e-01, ...,\n",
              "            2.40013153e-02, 1.41489352e-01, 7.68582281e-01],\n",
              "           [3.09275872e-02, 7.75392523e-01, 7.32734651e-01, ...,\n",
              "            2.53595443e-02, 1.49880537e-01, 7.43836166e-01],\n",
              "           [3.59402038e-01, 4.25482630e-01, 9.38674626e-01, ...,\n",
              "            7.32529712e-01, 8.92893639e-01, 3.74818707e-02],\n",
              "           ...,\n",
              "           [7.75617254e-01, 5.69211766e-01, 1.16411838e-01, ...,\n",
              "            4.96708288e-01, 6.82728243e-01, 6.46911552e-01],\n",
              "           [5.68634824e-01, 5.84052758e-01, 3.40691388e-01, ...,\n",
              "            4.04254490e-01, 6.84742638e-01, 5.39870229e-01],\n",
              "           [7.73154434e-01, 9.92400222e-01, 7.85265305e-01, ...,\n",
              "            9.22546344e-01, 7.55845851e-01, 2.74707314e-01]],\n",
              "\n",
              "          [[9.78865172e-01, 7.06108983e-01, 7.04575490e-01, ...,\n",
              "            9.35834328e-01, 5.15302247e-01, 7.42369136e-01],\n",
              "           [2.33503755e-01, 4.37325627e-01, 8.89753197e-01, ...,\n",
              "            7.21807667e-01, 7.35330093e-01, 4.75267518e-01],\n",
              "           [1.78370821e-01, 9.94460351e-01, 6.31823233e-01, ...,\n",
              "            3.91808985e-01, 7.17038962e-01, 3.90045430e-01],\n",
              "           ...,\n",
              "           [8.31738282e-02, 5.09718614e-01, 8.38978579e-01, ...,\n",
              "            1.10774443e-01, 1.18768746e-01, 4.27636767e-02],\n",
              "           [5.68857346e-01, 5.23879307e-01, 6.99237548e-01, ...,\n",
              "            7.36303147e-01, 7.07321651e-01, 1.31406999e-02],\n",
              "           [3.57631618e-01, 4.08625662e-01, 5.67525803e-01, ...,\n",
              "            5.66426225e-01, 1.70408861e-01, 8.88468652e-01]],\n",
              "\n",
              "          [[9.06783119e-01, 1.76049623e-01, 7.47842224e-01, ...,\n",
              "            8.10310749e-01, 8.36779007e-01, 7.51984664e-01],\n",
              "           [3.32923143e-02, 7.70731750e-01, 2.67876775e-01, ...,\n",
              "            9.89607799e-01, 3.66028500e-01, 3.33682269e-01],\n",
              "           [5.44385080e-01, 5.27359707e-01, 6.87705876e-01, ...,\n",
              "            3.35703810e-01, 6.27579443e-01, 7.66472955e-02],\n",
              "           ...,\n",
              "           [1.75567601e-01, 6.57609475e-02, 2.41926379e-01, ...,\n",
              "            4.74246668e-01, 7.58205450e-01, 7.22293034e-01],\n",
              "           [7.13692983e-01, 7.96830482e-01, 2.78584939e-01, ...,\n",
              "            6.77233990e-01, 9.45965446e-01, 1.61205169e-01],\n",
              "           [8.00474177e-01, 9.46228881e-01, 3.64393670e-01, ...,\n",
              "            7.45967322e-01, 8.84689908e-01, 3.51689901e-01]]],\n",
              "\n",
              "\n",
              "         [[[1.70558160e-01, 8.02119706e-01, 3.86490158e-01, ...,\n",
              "            9.16991049e-01, 4.90061838e-01, 5.79716461e-01],\n",
              "           [8.20610241e-01, 4.95412754e-01, 8.58246971e-01, ...,\n",
              "            5.73251614e-01, 3.12461125e-01, 5.30193630e-03],\n",
              "           [2.57224133e-01, 9.16823812e-02, 2.78520532e-01, ...,\n",
              "            4.70016774e-01, 3.57825143e-01, 1.22491033e-01],\n",
              "           ...,\n",
              "           [7.29133091e-01, 9.56146480e-01, 1.21761537e-01, ...,\n",
              "            1.31223887e-01, 6.17668534e-01, 1.97148425e-02],\n",
              "           [7.31207326e-02, 2.56887613e-01, 7.97126675e-01, ...,\n",
              "            8.27854556e-02, 6.27861794e-01, 9.45146533e-01],\n",
              "           [9.05357094e-01, 1.34214544e-01, 7.52824331e-01, ...,\n",
              "            3.05088465e-01, 5.95079064e-01, 9.01516658e-01]],\n",
              "\n",
              "          [[3.95477950e-01, 3.63082004e-01, 9.18165171e-03, ...,\n",
              "            7.06871864e-01, 9.61233262e-02, 8.47835542e-01],\n",
              "           [9.18113229e-01, 6.58857571e-01, 4.18070196e-01, ...,\n",
              "            6.82607028e-01, 7.55148159e-01, 8.90925770e-01],\n",
              "           [9.94725885e-01, 1.23515091e-01, 5.75144479e-01, ...,\n",
              "            6.17588813e-01, 5.57027912e-01, 6.18690199e-02],\n",
              "           ...,\n",
              "           [1.58166917e-01, 1.17073649e-02, 9.98003302e-01, ...,\n",
              "            7.79798099e-01, 1.32490638e-01, 1.98425498e-01],\n",
              "           [9.63193618e-01, 4.81193317e-01, 1.48728438e-01, ...,\n",
              "            4.88389969e-01, 2.76858527e-01, 8.35534719e-02],\n",
              "           [6.89454350e-01, 9.49163156e-01, 1.17568683e-01, ...,\n",
              "            4.41328309e-01, 5.32889479e-01, 4.74430021e-01]],\n",
              "\n",
              "          [[5.12657495e-01, 7.18974407e-01, 9.59840523e-01, ...,\n",
              "            4.88741946e-01, 7.08129111e-01, 8.03915806e-02],\n",
              "           [5.36737051e-01, 5.74768383e-01, 3.41006092e-01, ...,\n",
              "            9.39806751e-01, 2.03568675e-01, 6.20634775e-01],\n",
              "           [1.92648584e-01, 2.41827994e-02, 2.36948784e-01, ...,\n",
              "            2.16568895e-01, 3.40501247e-01, 4.78451609e-01],\n",
              "           ...,\n",
              "           [5.14431838e-02, 9.13139883e-01, 3.30009453e-02, ...,\n",
              "            5.39098882e-02, 9.04530928e-01, 4.49022939e-01],\n",
              "           [3.66117433e-01, 4.93367138e-01, 1.26378811e-01, ...,\n",
              "            4.62634690e-01, 1.83118938e-01, 8.35431459e-01],\n",
              "           [5.28533269e-01, 2.54628030e-01, 5.88245916e-01, ...,\n",
              "            2.03320446e-01, 8.13029534e-01, 5.36001245e-01]],\n",
              "\n",
              "          ...,\n",
              "\n",
              "          [[9.34322574e-01, 3.80079236e-01, 9.80214596e-01, ...,\n",
              "            7.93318276e-01, 6.81337295e-01, 9.34334218e-01],\n",
              "           [7.49133876e-01, 6.46805787e-01, 5.90126390e-01, ...,\n",
              "            9.90271137e-01, 7.84356502e-02, 6.14391917e-02],\n",
              "           [6.21969182e-01, 1.33801568e-01, 8.67063064e-01, ...,\n",
              "            9.63771548e-01, 8.29825888e-01, 7.88693883e-01],\n",
              "           ...,\n",
              "           [4.64615682e-01, 5.22029152e-01, 4.62796118e-01, ...,\n",
              "            6.03841044e-01, 8.80799212e-01, 1.62143676e-01],\n",
              "           [4.91435203e-01, 4.43552482e-01, 6.00474582e-01, ...,\n",
              "            6.08128704e-01, 1.78987680e-01, 3.29322583e-02],\n",
              "           [1.39183018e-01, 9.78563571e-01, 7.98011072e-04, ...,\n",
              "            2.24091776e-01, 3.58548358e-01, 1.58982957e-01]],\n",
              "\n",
              "          [[8.02686579e-01, 1.67023857e-02, 5.14119260e-01, ...,\n",
              "            2.06768044e-01, 8.49660307e-01, 5.19520761e-01],\n",
              "           [5.76317979e-01, 1.37171841e-01, 5.07927117e-01, ...,\n",
              "            3.14569941e-01, 1.45972763e-01, 2.91944334e-01],\n",
              "           [5.77642776e-01, 6.40487305e-01, 2.47894356e-01, ...,\n",
              "            4.26023681e-01, 8.06639619e-01, 1.28953509e-01],\n",
              "           ...,\n",
              "           [4.27917524e-01, 2.88610734e-01, 8.01491967e-01, ...,\n",
              "            4.75514370e-01, 9.86240557e-01, 2.98777537e-01],\n",
              "           [6.66308443e-01, 9.09013785e-02, 9.45601915e-01, ...,\n",
              "            2.97860869e-01, 2.76233845e-02, 7.06916525e-02],\n",
              "           [5.68890552e-01, 2.94351004e-01, 6.34205919e-01, ...,\n",
              "            4.51994768e-01, 7.46524477e-01, 9.21763543e-01]],\n",
              "\n",
              "          [[2.31189207e-01, 2.71391588e-01, 9.64088260e-01, ...,\n",
              "            8.84122209e-01, 1.26737213e-01, 6.69943492e-01],\n",
              "           [5.68987782e-01, 5.58426000e-01, 5.20976727e-01, ...,\n",
              "            5.51815646e-01, 1.07837921e-01, 6.22716483e-01],\n",
              "           [7.84792016e-01, 9.35799055e-01, 1.05262308e-01, ...,\n",
              "            6.47482996e-01, 5.64102428e-01, 1.38884635e-04],\n",
              "           ...,\n",
              "           [2.57316771e-01, 1.14087747e-01, 5.20499800e-03, ...,\n",
              "            1.10254945e-01, 8.85550196e-01, 9.49772350e-01],\n",
              "           [5.88744660e-01, 2.93213608e-01, 8.98991555e-01, ...,\n",
              "            3.54550080e-01, 7.42255796e-01, 8.24537415e-01],\n",
              "           [6.84596089e-01, 2.75757211e-01, 3.67084541e-01, ...,\n",
              "            4.14425619e-01, 4.60774206e-01, 8.72934607e-01]]],\n",
              "\n",
              "\n",
              "         [[[3.87762352e-01, 7.73304832e-01, 9.62258193e-01, ...,\n",
              "            5.80744614e-01, 7.89354537e-01, 8.85418660e-01],\n",
              "           [6.05265705e-01, 6.18647219e-01, 6.23322849e-01, ...,\n",
              "            2.13015356e-01, 2.21947428e-01, 6.11627189e-01],\n",
              "           [3.96429967e-01, 1.94176008e-01, 9.31348440e-01, ...,\n",
              "            4.03312398e-01, 5.38951109e-01, 8.29113956e-01],\n",
              "           ...,\n",
              "           [7.71209914e-01, 2.07802796e-01, 1.24274174e-01, ...,\n",
              "            5.04800214e-01, 7.62609168e-01, 1.23705908e-01],\n",
              "           [9.52463080e-01, 8.63408669e-01, 8.18776714e-01, ...,\n",
              "            2.13808672e-01, 3.35317558e-01, 1.95047090e-01],\n",
              "           [9.63698935e-01, 5.82755219e-02, 6.50765248e-02, ...,\n",
              "            1.21489882e-01, 7.09520472e-01, 8.56042564e-01]],\n",
              "\n",
              "          [[5.70173897e-01, 1.57848091e-01, 9.32281608e-01, ...,\n",
              "            2.52584531e-01, 5.20239051e-01, 8.80713447e-01],\n",
              "           [7.81391098e-01, 8.42230776e-01, 2.05656882e-01, ...,\n",
              "            5.63474021e-01, 9.68217570e-01, 9.30212273e-01],\n",
              "           [9.75053181e-01, 2.60763562e-01, 9.37805276e-01, ...,\n",
              "            9.07606523e-01, 5.42475256e-01, 7.02936825e-01],\n",
              "           ...,\n",
              "           [2.66250865e-01, 9.41686399e-01, 9.06578945e-01, ...,\n",
              "            2.06994388e-01, 1.87879431e-01, 6.23305799e-01],\n",
              "           [1.05524066e-01, 8.19516881e-01, 2.97966390e-01, ...,\n",
              "            6.20036068e-01, 5.79772696e-01, 1.42109323e-01],\n",
              "           [4.97214850e-01, 5.23966897e-01, 8.96321622e-01, ...,\n",
              "            4.96990070e-01, 4.88567265e-01, 2.85077975e-01]],\n",
              "\n",
              "          [[1.39285623e-02, 8.24674070e-01, 4.85891980e-01, ...,\n",
              "            4.85698460e-01, 5.21902805e-01, 2.15440279e-02],\n",
              "           [4.98145066e-01, 4.28737884e-01, 1.42394186e-01, ...,\n",
              "            8.15715734e-01, 9.63204962e-01, 8.12111581e-01],\n",
              "           [5.34924758e-01, 3.32606347e-01, 2.84267851e-01, ...,\n",
              "            4.82233709e-01, 5.15018867e-02, 4.82701863e-01],\n",
              "           ...,\n",
              "           [5.55873357e-01, 3.36730984e-01, 8.87575348e-01, ...,\n",
              "            3.11131815e-01, 8.32988545e-01, 5.30060613e-01],\n",
              "           [1.10424302e-02, 6.75995878e-01, 3.76880854e-01, ...,\n",
              "            9.88379851e-01, 5.23416591e-01, 6.08846651e-01],\n",
              "           [7.13240655e-01, 7.66713204e-01, 6.94979689e-01, ...,\n",
              "            7.40786806e-01, 9.10807530e-01, 6.04149324e-01]],\n",
              "\n",
              "          ...,\n",
              "\n",
              "          [[2.93893185e-01, 7.03062540e-01, 5.00742898e-01, ...,\n",
              "            8.66141729e-01, 2.18487671e-01, 5.59712591e-01],\n",
              "           [9.15206442e-01, 7.28544981e-01, 3.99364750e-01, ...,\n",
              "            1.15915231e-01, 8.47967614e-01, 2.18526434e-01],\n",
              "           [5.40979024e-01, 6.37876142e-01, 1.01752949e-01, ...,\n",
              "            4.28163509e-01, 8.04582055e-01, 1.01910230e-01],\n",
              "           ...,\n",
              "           [6.86426989e-02, 7.28300704e-01, 5.46161452e-02, ...,\n",
              "            9.14813624e-01, 1.66220712e-01, 1.39886388e-01],\n",
              "           [3.61478385e-01, 4.40456672e-02, 8.52690020e-01, ...,\n",
              "            1.16249996e-01, 4.09715333e-01, 7.91060394e-01],\n",
              "           [5.40688537e-01, 8.30475781e-01, 1.92576067e-01, ...,\n",
              "            2.30449741e-01, 3.72255065e-01, 9.86433358e-01]],\n",
              "\n",
              "          [[3.58885562e-01, 2.36792123e-01, 4.32541559e-01, ...,\n",
              "            4.58625113e-01, 6.54551600e-01, 5.95888296e-02],\n",
              "           [1.88608900e-01, 8.59493682e-01, 7.24432975e-01, ...,\n",
              "            9.31115632e-01, 4.23086725e-01, 6.37790065e-01],\n",
              "           [3.19216710e-01, 7.81511201e-01, 3.10698506e-01, ...,\n",
              "            7.21828751e-01, 5.12559152e-01, 5.71326429e-01],\n",
              "           ...,\n",
              "           [1.68800170e-01, 3.12064819e-02, 2.96005634e-02, ...,\n",
              "            7.07029193e-01, 7.70602931e-01, 6.63205246e-01],\n",
              "           [1.53261548e-02, 9.09890431e-01, 3.23668791e-02, ...,\n",
              "            2.66555964e-01, 7.61569328e-02, 7.97516713e-01],\n",
              "           [6.04646022e-01, 3.28241262e-01, 7.33181477e-01, ...,\n",
              "            2.72286588e-02, 6.93424228e-01, 9.75362997e-01]],\n",
              "\n",
              "          [[3.90300984e-01, 9.86556952e-01, 2.66400221e-01, ...,\n",
              "            1.69965130e-01, 4.21794459e-01, 1.08601530e-01],\n",
              "           [9.61324088e-01, 8.19789575e-01, 7.12645094e-02, ...,\n",
              "            3.75236583e-01, 3.66576713e-01, 7.51437869e-01],\n",
              "           [5.48360477e-02, 8.14885353e-01, 2.11262908e-01, ...,\n",
              "            4.59239392e-01, 9.38765657e-01, 8.19989225e-01],\n",
              "           ...,\n",
              "           [3.11482833e-01, 8.42742432e-01, 5.63978714e-01, ...,\n",
              "            2.64609116e-02, 5.35026826e-01, 4.22668885e-01],\n",
              "           [1.20205461e-01, 9.23998935e-01, 7.31883647e-01, ...,\n",
              "            1.96574428e-01, 5.32890511e-01, 3.93849295e-01],\n",
              "           [3.58112167e-01, 8.89511287e-01, 7.62685384e-02, ...,\n",
              "            4.16402298e-01, 4.43412541e-01, 9.73044116e-01]]],\n",
              "\n",
              "\n",
              "         [[[7.60790104e-01, 9.54844759e-01, 2.54211106e-01, ...,\n",
              "            6.62382133e-02, 1.25093461e-01, 2.73349648e-01],\n",
              "           [5.67070716e-01, 7.99862698e-01, 6.94572218e-01, ...,\n",
              "            4.59116060e-01, 8.49159890e-01, 8.82586402e-01],\n",
              "           [4.45299259e-01, 1.42843257e-01, 4.41220441e-01, ...,\n",
              "            3.53243738e-02, 4.92558162e-01, 5.26708167e-01],\n",
              "           ...,\n",
              "           [5.88890584e-02, 2.39417781e-01, 4.47296360e-01, ...,\n",
              "            2.69290348e-01, 2.54005442e-02, 5.64445053e-01],\n",
              "           [3.97497314e-01, 9.65057617e-02, 2.48897337e-01, ...,\n",
              "            1.48214873e-01, 4.55761021e-01, 8.95060068e-01],\n",
              "           [1.92595576e-01, 9.93451937e-01, 8.06753647e-01, ...,\n",
              "            9.36781767e-01, 8.27585022e-01, 8.42874500e-01]],\n",
              "\n",
              "          [[6.64664405e-01, 7.12567000e-01, 9.21602423e-01, ...,\n",
              "            9.97574268e-01, 4.26211664e-01, 7.53088124e-01],\n",
              "           [6.79943426e-01, 9.32931865e-01, 8.56820101e-01, ...,\n",
              "            6.44364835e-01, 8.51198648e-02, 9.54394667e-01],\n",
              "           [9.89280449e-01, 4.55369753e-01, 4.91027658e-01, ...,\n",
              "            6.77493833e-01, 4.18686497e-01, 2.73925975e-01],\n",
              "           ...,\n",
              "           [6.82332106e-01, 9.68505172e-01, 3.72400065e-01, ...,\n",
              "            5.96706586e-01, 3.89460550e-01, 3.64225135e-01],\n",
              "           [9.85569372e-01, 9.05272102e-01, 7.74697549e-01, ...,\n",
              "            9.67249086e-01, 6.44934223e-01, 3.68612013e-01],\n",
              "           [2.37625473e-01, 4.05792765e-01, 1.74185009e-01, ...,\n",
              "            5.14516862e-01, 6.08759374e-01, 7.99384317e-01]],\n",
              "\n",
              "          [[8.16899757e-01, 1.08890398e-02, 4.76625958e-01, ...,\n",
              "            4.00713843e-01, 8.25968723e-01, 2.67536973e-01],\n",
              "           [9.76220842e-01, 7.74867793e-01, 8.80164565e-01, ...,\n",
              "            6.47386278e-01, 7.18174632e-01, 3.52671111e-02],\n",
              "           [2.03280990e-01, 4.06544725e-01, 9.73316129e-01, ...,\n",
              "            3.72595480e-01, 5.43985762e-01, 7.39940166e-01],\n",
              "           ...,\n",
              "           [7.51982390e-01, 6.49651479e-01, 4.42657070e-01, ...,\n",
              "            6.63004564e-02, 6.31265622e-01, 5.89139278e-01],\n",
              "           [1.91771205e-01, 8.73081047e-01, 4.28697192e-01, ...,\n",
              "            1.08690592e-02, 4.97537584e-01, 2.13511597e-01],\n",
              "           [5.03157493e-01, 2.10300157e-01, 2.98512332e-01, ...,\n",
              "            3.86305373e-01, 3.46769812e-01, 8.51956311e-02]],\n",
              "\n",
              "          ...,\n",
              "\n",
              "          [[1.31905293e-01, 7.62035034e-01, 4.65207230e-01, ...,\n",
              "            9.92962197e-01, 5.73667262e-02, 4.63104779e-01],\n",
              "           [1.31577111e-01, 7.59764126e-01, 4.45902140e-01, ...,\n",
              "            3.98263036e-01, 3.55957341e-02, 3.71898413e-01],\n",
              "           [1.95454725e-01, 1.03252774e-01, 8.42402240e-01, ...,\n",
              "            5.73701003e-03, 5.04648566e-01, 6.68615716e-01],\n",
              "           ...,\n",
              "           [3.84893308e-01, 7.20721309e-01, 5.22843535e-02, ...,\n",
              "            7.95079045e-01, 8.01964384e-01, 8.60818913e-01],\n",
              "           [5.37301709e-01, 5.59329275e-01, 5.04387847e-01, ...,\n",
              "            8.97341212e-01, 7.73397788e-01, 8.80154189e-01],\n",
              "           [9.63798914e-01, 3.03550456e-01, 7.29256980e-01, ...,\n",
              "            6.35542234e-01, 5.20862946e-01, 5.64463528e-01]],\n",
              "\n",
              "          [[8.66169314e-01, 5.80544158e-01, 3.24948412e-01, ...,\n",
              "            5.86257025e-01, 4.43375240e-01, 7.10877324e-02],\n",
              "           [8.65832252e-01, 4.09821604e-02, 5.05111134e-01, ...,\n",
              "            6.92674551e-01, 9.44514323e-01, 8.24636483e-01],\n",
              "           [3.59717591e-01, 1.32022928e-01, 3.07377699e-01, ...,\n",
              "            9.49052581e-01, 7.88206863e-01, 1.01862040e-01],\n",
              "           ...,\n",
              "           [7.35564240e-01, 5.60539319e-01, 9.73879249e-01, ...,\n",
              "            9.05099987e-03, 2.06272542e-01, 5.27510523e-01],\n",
              "           [6.55259887e-01, 9.25977243e-01, 9.10044533e-01, ...,\n",
              "            9.02378023e-01, 4.87045241e-01, 5.25688188e-02],\n",
              "           [3.32933453e-01, 2.84916639e-01, 5.94256587e-01, ...,\n",
              "            9.81148279e-01, 5.53162403e-01, 1.88942835e-01]],\n",
              "\n",
              "          [[9.54205713e-01, 6.37029918e-01, 5.94857827e-01, ...,\n",
              "            6.09009446e-01, 6.32463876e-01, 2.18766555e-01],\n",
              "           [6.08482741e-01, 7.80783956e-01, 6.22433490e-01, ...,\n",
              "            9.44498797e-01, 9.75747796e-01, 7.28450749e-01],\n",
              "           [4.76924732e-01, 3.42057438e-01, 1.58326523e-01, ...,\n",
              "            4.69555060e-01, 6.26346902e-01, 8.88644704e-01],\n",
              "           ...,\n",
              "           [4.63951324e-02, 3.35252411e-01, 4.24685384e-01, ...,\n",
              "            8.72629429e-01, 1.92257446e-02, 8.14254753e-01],\n",
              "           [8.08520774e-01, 2.39848763e-01, 2.62814523e-01, ...,\n",
              "            4.90838239e-01, 2.09348510e-01, 9.71273948e-01],\n",
              "           [7.81098543e-01, 4.04527766e-01, 3.89344019e-01, ...,\n",
              "            7.84456358e-01, 7.65698676e-01, 4.68908254e-01]]]]]])"
            ]
          },
          "execution_count": 5,
          "metadata": {},
          "output_type": "execute_result"
        }
      ],
      "source": [
        "np.random.rand(2, 3, 4, 10, 12, 23)"
      ]
    },
    {
      "cell_type": "code",
      "execution_count": 6,
      "metadata": {
        "colab": {
          "base_uri": "https://localhost:8080/"
        },
        "id": "prQCEj327OEl",
        "outputId": "6e2490d0-1ca9-43e0-f6ed-b41583da33b4"
      },
      "outputs": [
        {
          "data": {
            "text/plain": [
              "array([[2.21896614e-01, 6.16152653e-01, 1.25653848e-01, 2.19686494e-01],\n",
              "       [9.94321592e-01, 4.31362450e-01, 5.38308742e-01, 6.45118475e-01],\n",
              "       [7.44869675e-04, 5.38627782e-02, 7.81436444e-01, 7.34837139e-01]])"
            ]
          },
          "execution_count": 6,
          "metadata": {},
          "output_type": "execute_result"
        }
      ],
      "source": [
        "shape = (3, 4)\n",
        "np.random.rand(*shape)\n",
        "# array([[0.66169176, 0.19455777, 0.06451088, 0.31919608],\n",
        "#        [0.73536951, 0.67104408, 0.4762727 , 0.88153576],\n",
        "#        [0.70672971, 0.96677145, 0.09273995, 0.86356465]])"
      ]
    },
    {
      "cell_type": "code",
      "execution_count": 7,
      "metadata": {
        "colab": {
          "base_uri": "https://localhost:8080/"
        },
        "id": "69KwFX1o7W09",
        "outputId": "74e4df81-0b71-448d-a94f-dafd78e74b5d"
      },
      "outputs": [
        {
          "data": {
            "text/plain": [
              "array([[0.87168961, 0.64950165, 0.91814417],\n",
              "       [0.54670997, 0.51539838, 0.24992283]])"
            ]
          },
          "execution_count": 7,
          "metadata": {},
          "output_type": "execute_result"
        }
      ],
      "source": [
        "shape = (2, 3)\n",
        "np.random.sample(shape)\n",
        "# array([[0.39756103, 0.01995168, 0.2768951 ],\n",
        "#       [0.82195372, 0.26435273, 0.00957881]])"
      ]
    },
    {
      "cell_type": "markdown",
      "metadata": {
        "id": "GDGtsZsg_Sgz"
      },
      "source": [
        "uniform(low=0.0, high=1.0, size=None)"
      ]
    },
    {
      "cell_type": "code",
      "execution_count": 9,
      "metadata": {
        "colab": {
          "base_uri": "https://localhost:8080/"
        },
        "id": "Y5TPjNCy7qkE",
        "outputId": "43822459-938f-43c5-efb8-7528bdb2e8d0"
      },
      "outputs": [
        {
          "data": {
            "text/plain": [
              "0.7394222271334"
            ]
          },
          "execution_count": 9,
          "metadata": {},
          "output_type": "execute_result"
        }
      ],
      "source": [
        "np.random.uniform()\n",
        "# 0.951557685543591"
      ]
    },
    {
      "cell_type": "code",
      "execution_count": 10,
      "metadata": {
        "colab": {
          "base_uri": "https://localhost:8080/"
        },
        "id": "BULGdDGL8Gdc",
        "outputId": "8ebdc27f-eb6f-423f-ea39-67ebaf52665e"
      },
      "outputs": [
        {
          "data": {
            "text/plain": [
              "-13.631937332871395"
            ]
          },
          "execution_count": 10,
          "metadata": {},
          "output_type": "execute_result"
        }
      ],
      "source": [
        "np.random.uniform(-30, 50)\n",
        "# 38.47365525953661"
      ]
    },
    {
      "cell_type": "code",
      "execution_count": 11,
      "metadata": {
        "colab": {
          "base_uri": "https://localhost:8080/"
        },
        "id": "4nBMwqmA8NRd",
        "outputId": "06d88f4d-d544-4633-f68d-0271e9468fff"
      },
      "outputs": [
        {
          "data": {
            "text/plain": [
              "array([0.71526034, 0.72009207, 0.64694843, 0.51887138, 0.63633429])"
            ]
          },
          "execution_count": 11,
          "metadata": {},
          "output_type": "execute_result"
        }
      ],
      "source": [
        "np.random.uniform(0.5, 0.75, size=5)\n",
        "# array([0.58078945, 0.58860342, 0.73790553, 0.63448265, 0.70920297])"
      ]
    },
    {
      "cell_type": "code",
      "execution_count": 12,
      "metadata": {
        "colab": {
          "base_uri": "https://localhost:8080/"
        },
        "id": "8OuEXFQm8VGX",
        "outputId": "4f1ae8c1-ce25-4ad8-d774-b02b820a01fb"
      },
      "outputs": [
        {
          "data": {
            "text/plain": [
              "array([[-465.83739241, -977.23160628, -419.87506557],\n",
              "       [-660.17917327, -853.85560223,   83.21340415]])"
            ]
          },
          "execution_count": 12,
          "metadata": {},
          "output_type": "execute_result"
        }
      ],
      "source": [
        "np.random.uniform(-1000, 500, size=(2, 3))\n",
        "# array([[ 129.22164163,   77.69090611, -132.9656972 ],\n",
        "#        [  18.65802226, -317.14793906,   85.3613547 ]])"
      ]
    },
    {
      "cell_type": "markdown",
      "metadata": {
        "id": "mA8zj9Cy8egg"
      },
      "source": [
        "ГЕНЕРАЦИЯ INT"
      ]
    },
    {
      "cell_type": "markdown",
      "metadata": {
        "id": "wgW7IMr5_NR3"
      },
      "source": [
        "randint(low, high=None, size=None, dtype=int)"
      ]
    },
    {
      "cell_type": "code",
      "execution_count": 13,
      "metadata": {
        "colab": {
          "base_uri": "https://localhost:8080/"
        },
        "id": "LqGORw2-8oFn",
        "outputId": "cbcef435-3402-4df1-a7ab-5d504d3875ec"
      },
      "outputs": [
        {
          "data": {
            "text/plain": [
              "array([[3, 1, 2],\n",
              "       [2, 2, 1]])"
            ]
          },
          "execution_count": 13,
          "metadata": {},
          "output_type": "execute_result"
        }
      ],
      "source": [
        "np.random.randint(4, size=(2,3))\n",
        "# array([[3, 0, 1],\n",
        "#       [2, 1, 3]])"
      ]
    },
    {
      "cell_type": "code",
      "execution_count": 14,
      "metadata": {
        "colab": {
          "base_uri": "https://localhost:8080/"
        },
        "id": "Ci4g8G7s9AeM",
        "outputId": "053eedbe-b0c6-41bc-a438-2ba72005fc51"
      },
      "outputs": [
        {
          "data": {
            "text/plain": [
              "array([[ 8,  8,  7],\n",
              "       [10,  8,  9],\n",
              "       [10,  8,  6]])"
            ]
          },
          "execution_count": 14,
          "metadata": {},
          "output_type": "execute_result"
        }
      ],
      "source": [
        "np.random.randint(6, 12, size=(3,3))\n",
        "# array([[ 9,  6, 10],\n",
        "#        [10, 11, 10],\n",
        "#        [ 7, 10, 11]])"
      ]
    },
    {
      "cell_type": "markdown",
      "metadata": {
        "id": "jO6R_EGu9WdO"
      },
      "source": [
        "ГЕНЕРАЦИЯ ВЫБОРОК"
      ]
    },
    {
      "cell_type": "code",
      "execution_count": 15,
      "metadata": {
        "colab": {
          "base_uri": "https://localhost:8080/"
        },
        "id": "9AIbbMdY9nV0",
        "outputId": "9142fbc3-68ac-4318-c180-25939c41e3ef"
      },
      "outputs": [
        {
          "name": "stdout",
          "output_type": "stream",
          "text": [
            "[0 1 2 3 4 5]\n",
            "None\n"
          ]
        },
        {
          "data": {
            "text/plain": [
              "array([5, 4, 0, 3, 1, 2])"
            ]
          },
          "execution_count": 15,
          "metadata": {},
          "output_type": "execute_result"
        }
      ],
      "source": [
        "arr = np.arange(6)\n",
        "print(arr)\n",
        "# [0 1 2 3 4 5]\n",
        "print(np.random.shuffle(arr))\n",
        "# None\n",
        "arr\n",
        "# array([0, 5, 1, 3, 2, 4])"
      ]
    },
    {
      "cell_type": "code",
      "execution_count": 16,
      "metadata": {
        "colab": {
          "base_uri": "https://localhost:8080/"
        },
        "id": "qg_3H7Hy-AR8",
        "outputId": "70d0895c-f215-4a7b-91c7-5ba7a18503a2"
      },
      "outputs": [
        {
          "name": "stdout",
          "output_type": "stream",
          "text": [
            "['ACDC' 'Deep Purple' 'The Beatles' 'Pink Floyd']\n",
            "['The Beatles', 'Pink Floyd', 'ACDC', 'Deep Purple']\n"
          ]
        }
      ],
      "source": [
        "playlist = [\"The Beatles\", \"Pink Floyd\", \"ACDC\", \"Deep Purple\"]\n",
        "shuffled = np.random.permutation(playlist)\n",
        "print(shuffled)\n",
        "# ['The Beatles' 'Pink Floyd' 'Deep Purple' 'ACDC']\n",
        "print(playlist)\n",
        "# ['The Beatles', 'Pink Floyd', 'ACDC', 'Deep Purple']"
      ]
    },
    {
      "cell_type": "code",
      "execution_count": 17,
      "metadata": {
        "colab": {
          "base_uri": "https://localhost:8080/"
        },
        "id": "2OH-xmN9-2jr",
        "outputId": "d65de932-811f-4246-a082-076a77bdfe91"
      },
      "outputs": [
        {
          "data": {
            "text/plain": [
              "array([0, 2, 4, 9, 8, 1, 3, 7, 5, 6])"
            ]
          },
          "execution_count": 17,
          "metadata": {},
          "output_type": "execute_result"
        }
      ],
      "source": [
        "np.random.permutation(10)\n",
        "# array([7, 8, 2, 9, 4, 3, 1, 0, 5, 6])"
      ]
    },
    {
      "cell_type": "markdown",
      "metadata": {
        "id": "_esoMkvA_IbI"
      },
      "source": [
        "choice(a, size=None, replace=True)"
      ]
    },
    {
      "cell_type": "code",
      "execution_count": 18,
      "metadata": {
        "colab": {
          "base_uri": "https://localhost:8080/"
        },
        "id": "xWmAz8-eAStT",
        "outputId": "29576cb5-9b67-4a3b-8301-e027f52b4aad"
      },
      "outputs": [
        {
          "name": "stdout",
          "output_type": "stream",
          "text": [
            "['John' 'Ivan']\n"
          ]
        }
      ],
      "source": [
        "workers = ['Ivan', 'Nikita', 'Maria', 'John', 'Kate']\n",
        " \n",
        "choice = np.random.choice(workers, size=2, replace=False)\n",
        "print(choice)"
      ]
    },
    {
      "cell_type": "code",
      "execution_count": 19,
      "metadata": {
        "colab": {
          "base_uri": "https://localhost:8080/"
        },
        "id": "dEzvnSkRAtJa",
        "outputId": "fe2b3b9f-cc9e-4ac8-cc9d-bc9f0941301a"
      },
      "outputs": [
        {
          "name": "stdout",
          "output_type": "stream",
          "text": [
            "[3 1 2 1 1 1 2 4 5 1]\n"
          ]
        }
      ],
      "source": [
        "choice = np.random.choice([1,2,3,4,5,6], size=10)\n",
        "print(choice)\n",
        "# [3 5 5 6 6 4 2 2 1 3]"
      ]
    },
    {
      "cell_type": "markdown",
      "metadata": {
        "id": "RjDromV2CA6v"
      },
      "source": [
        "SEED ГЕНЕРАТОРА ПСЕВДОСЛУЧАЙНЫХ ЧИСЕЛ"
      ]
    },
    {
      "cell_type": "code",
      "execution_count": 20,
      "metadata": {
        "colab": {
          "base_uri": "https://localhost:8080/"
        },
        "id": "AtrrBQjHCl3T",
        "outputId": "51d0cb38-9e96-47e3-a4d4-daec32cc98ac"
      },
      "outputs": [
        {
          "data": {
            "text/plain": [
              "array([[3, 6, 8, 9],\n",
              "       [6, 8, 7, 9],\n",
              "       [3, 6, 1, 2]])"
            ]
          },
          "execution_count": 20,
          "metadata": {},
          "output_type": "execute_result"
        }
      ],
      "source": [
        "np.random.seed(23)\n",
        "np.random.randint(10, size=(3,4))\n",
        "# array([[3, 6, 8, 9],\n",
        "#        [6, 8, 7, 9],\n",
        "#        [3, 6, 1, 2]])"
      ]
    },
    {
      "cell_type": "code",
      "execution_count": 21,
      "metadata": {
        "colab": {
          "base_uri": "https://localhost:8080/"
        },
        "id": "ted4nT-AC1qi",
        "outputId": "19e1f089-357e-4106-db20-6dc4ffc79346"
      },
      "outputs": [
        {
          "name": "stdout",
          "output_type": "stream",
          "text": [
            "[8 8 3]\n",
            "[7 7 0]\n",
            "[4 2 5]\n"
          ]
        }
      ],
      "source": [
        "np.random.seed(100)\n",
        "print(np.random.randint(10, size=3))\n",
        "# [8 8 3]\n",
        "print(np.random.randint(10, size=3))\n",
        "# [7 7 0]\n",
        "print(np.random.randint(10, size=3))\n",
        "# [4 2 5]"
      ]
    },
    {
      "cell_type": "code",
      "execution_count": 29,
      "metadata": {
        "id": "656y5Y3gO0iX"
      },
      "outputs": [],
      "source": [
        "# Не забудьте импортировать numpy и сразу задать seed 2021\n",
        "import numpy as np\n",
        "np.random.seed(2021)\n",
        "# В simple сохраните случайное число в диапазоне от 0 до 1\n",
        "simple = np.random.rand()\n",
        "# Сгенерируйте 120 чисел в диапазоне от -150 до 2021, сохраните их\n",
        "# в переменную randoms\n",
        "randoms = np.random.uniform(-150, 2021, size=120)\n",
        "# Получите массив из случайных целых чисел от 1 до 100 (включительно)\n",
        "# из 3 строк и 2 столбцов. Сохраните результат в table\n",
        "table = np.random.randint(1, 101, size=(3,2))\n",
        "# В переменную even сохраните чётные числа от 2 до 16 (включительно)\n",
        "even = np.arange(2,17,2)\n",
        "# Перемешайте числа в even так, чтобы массив even изменился\n",
        "np.random.shuffle(even)\n",
        "# Получите из even 3 числа без повторений. Сохраните их в переменную select\n",
        "select = np.random.choice(even, replace=False, size=3)\n",
        "# Получите переменную triplet, которая должна содержать перемешанные\n",
        "# значения из массива select (сам select измениться не должен)\n",
        "triplet = np.random.permutation(select)"
      ]
    },
    {
      "cell_type": "markdown",
      "metadata": {
        "id": "RGP4qyeMPGqR"
      },
      "source": [
        "\n",
        "\n",
        "---\n",
        "\n",
        "# 10. Модуль NumPy. Закрепление знаний"
      ]
    },
    {
      "cell_type": "code",
      "execution_count": 30,
      "metadata": {
        "colab": {
          "base_uri": "https://localhost:8080/"
        },
        "id": "4BT7li8kQL_I",
        "outputId": "24709c54-a109-4342-8357-614ca766d1cc"
      },
      "outputs": [
        {
          "data": {
            "text/plain": [
              "4294954884"
            ]
          },
          "execution_count": 30,
          "metadata": {},
          "output_type": "execute_result"
        }
      ],
      "source": [
        "2147483548 + 2147471336"
      ]
    },
    {
      "cell_type": "code",
      "execution_count": 58,
      "metadata": {
        "colab": {
          "base_uri": "https://localhost:8080/"
        },
        "id": "0BjIfTkSTbOU",
        "outputId": "2fb5c6aa-1d2f-4806-f523-753a647d44f0"
      },
      "outputs": [
        {
          "data": {
            "text/plain": [
              "array([[0, 1, 0, 1, 0],\n",
              "       [1, 0, 1, 0, 1],\n",
              "       [0, 1, 0, 1, 0],\n",
              "       [1, 0, 1, 0, 1],\n",
              "       [0, 1, 0, 1, 0]])"
            ]
          },
          "execution_count": 58,
          "metadata": {},
          "output_type": "execute_result"
        }
      ],
      "source": [
        "# ЗАДАНИЕ 10.6\n",
        "# Напишите функцию get_chess, \n",
        "# которая принимает на вход длину стороны квадрата a и возвращает двумерный массив формы (a, a), \n",
        "# заполненный 0 и 1 в шахматном порядке. \n",
        "# В левом верхнем углу всегда должен быть ноль.\n",
        "# Примечание: воспользуйтесь функцией zeros из библиотеки numpy, \n",
        "# а затем с помощью срезов без циклов задайте необходимым элементам значение 1.\n",
        "# Напоминание: в Python для получения каждого второго элемента используется срез [::2]. \n",
        "# Подумайте, как грамотно применить этот принцип к двумерному массиву.\n",
        "\n",
        "def get_chess(a):\n",
        "    # Напишите тело функции\n",
        "    chess = np.zeros((a,a), dtype=int)\n",
        "    chess[::2, 1::2] = 1\n",
        "    chess[1::2, ::2] = 1\n",
        "\n",
        "    return chess\n",
        "\n",
        "get_chess(5)"
      ]
    },
    {
      "cell_type": "code",
      "execution_count": 67,
      "metadata": {
        "colab": {
          "base_uri": "https://localhost:8080/"
        },
        "id": "6G0e7xz5gdil",
        "outputId": "10248c95-8076-4d14-a945-73d2a5183fe4"
      },
      "outputs": [
        {
          "data": {
            "text/plain": [
              "(array([8, 9, 6, 3]), 2548824280)"
            ]
          },
          "execution_count": 67,
          "metadata": {},
          "output_type": "execute_result"
        }
      ],
      "source": [
        "# ЗАДАНИЕ 10.7\n",
        "# Вы разрабатываете приложение для прослушивания музыки. \n",
        "# Конечно же, там будет доступна функция перемешивания плейлиста. \n",
        "# Пользователю может настолько понравиться перемешанная версия плейлиста, \n",
        "# что он захочет сохранить его копию. \n",
        "# Однако вы не хотите хранить в памяти новую версию плейлиста, \n",
        "# а просто хотите сохранять тот seed, с которым он был сгенерирован.\n",
        "\n",
        "# Для этого напишите функцию shuffle_seed(<array>),  \n",
        "# которая принимает на вход массив из чисел, \n",
        "# генерирует случайное число для seed в диапазоне от 0 до 2**32 - 1 (включительно) \n",
        "# и возвращает кортеж: \n",
        "# перемешанный с данным seed массив (исходный массив должен оставаться без изменений), \n",
        "# а также seed, с которым этот массив был получен.\n",
        "\n",
        "def shuffle_seed(array):\n",
        "    seed = np.random.randint(2 ** 32)\n",
        "    np.random.seed(seed)\n",
        "    result = np.random.permutation(array)\n",
        "    return result, seed\n",
        "\n",
        "playlist = [3, 6, 8, 9]\n",
        "shuffle_seed(playlist)"
      ]
    },
    {
      "cell_type": "code",
      "execution_count": 71,
      "metadata": {
        "colab": {
          "base_uri": "https://localhost:8080/"
        },
        "id": "z6y_H5q0lFKQ",
        "outputId": "56d5e5ad-88a6-4738-c950-eeef580eb2fd"
      },
      "outputs": [
        {
          "data": {
            "text/plain": [
              "(5.196152422706632, 10.392304845413264)"
            ]
          },
          "execution_count": 71,
          "metadata": {},
          "output_type": "execute_result"
        }
      ],
      "source": [
        "# ЗАДАНИЕ 10.8\n",
        "# Напишите функцию min_max_dist, \n",
        "# которая принимает на вход неограниченное число векторов через запятую. \n",
        "# Гарантируется, что все векторы, которые передаются, одинаковой длины.\n",
        "# Функция возвращает минимальное и максимальное расстояние между векторами в виде кортежа.\n",
        "\n",
        "def min_max_dist(*vectors):\n",
        "    dists = list()\n",
        "    for i in range(len(vectors)):\n",
        "        for j in range(i + 1, len(vectors)):\n",
        "            dists.append(np.linalg.norm(vectors[i] - vectors[j]))\n",
        "    return (min(dists), max(dists))\n",
        "\n",
        "vec1 = np.array([1, 2, 3])\n",
        "vec2 = np.array([4, 5, 6])\n",
        "vec3 = np.array([7, 8, 9])\n",
        "min_max_dist(vec1,vec2,vec3)"
      ]
    },
    {
      "cell_type": "code",
      "execution_count": 72,
      "metadata": {
        "colab": {
          "base_uri": "https://localhost:8080/"
        },
        "id": "96SYKqoerEgy",
        "outputId": "ae8d3506-0f92-4901-cdcb-e64148221608"
      },
      "outputs": [
        {
          "name": "stdout",
          "output_type": "stream",
          "text": [
            "True\n"
          ]
        }
      ],
      "source": [
        "# ЗАДАНИЕ 10.9\n",
        "# Напишите функцию any_normal, \n",
        "# которая принимает на вход неограниченное число векторов через запятую. \n",
        "# Гарантируется, что все векторы, которые передаются, одинаковой длины.\n",
        "# Функция возвращает True, если есть хотя бы одна пара перпендикулярных векторов. \n",
        "# Иначе возвращает False.\n",
        "\n",
        "def any_normal(*vectors):\n",
        "    for i in range(len(vectors)):\n",
        "        for j in range(i + 1, len(vectors)):\n",
        "            if np.dot(vectors[i], vectors[j]) == 0:\n",
        "                return True\n",
        "    return False\n",
        "\n",
        "vec1 = np.array([2, 1])\n",
        "vec2 = np.array([-1, 2])\n",
        "vec3 = np.array([3, 4])\n",
        "print(any_normal(vec1, vec2, vec3))"
      ]
    },
    {
      "cell_type": "code",
      "execution_count": 73,
      "metadata": {
        "colab": {
          "base_uri": "https://localhost:8080/"
        },
        "id": "U-u1rRU2u2i2",
        "outputId": "8b3d7ea3-ac14-44cd-fc82-e909affc6186"
      },
      "outputs": [
        {
          "data": {
            "text/plain": [
              "array([[[ 75,  63,  37,   7,  13],\n",
              "        [ 84,  49,  89,  28,  39],\n",
              "        [ 72,  81,  48,  57,  23],\n",
              "        [ 30,  52,  45,  53,  36],\n",
              "        [ 71,  99,  63,  62,  31]],\n",
              "\n",
              "       [[ 51,  96,  45,   3,  94],\n",
              "        [ 21,  84,  48,  84,  98],\n",
              "        [ 13,  37,  98,  78,  54],\n",
              "        [ 94,   8,  69,  31,  80],\n",
              "        [  6,  54,  36, 100,  23]],\n",
              "\n",
              "       [[ 58,  42,  23,  25,  15],\n",
              "        [ 79,  72,  15,  47,   8],\n",
              "        [ 52,  82,  80,  60,  28],\n",
              "        [ 54,  94,  44,  89,  80],\n",
              "        [ 87,  49,  19,  90,  95]]])"
            ]
          },
          "execution_count": 73,
          "metadata": {},
          "output_type": "execute_result"
        }
      ],
      "source": [
        "# ЗАДАНИЕ 10.10\n",
        "# Напишите функцию get_loto(num), \n",
        "# генерирующую трёхмерный массив случайных целых чисел от 1 до 100 (включительно). \n",
        "# Это поля для игры в лото.\n",
        "# Трёхмерный массив должен состоять из таблиц чисел формы 5х5, \n",
        "# то есть итоговая форма — (num, 5, 5).\n",
        "# Функция возвращает полученный массив.\n",
        "\n",
        "def get_loto(num):\n",
        "    loto = np.random.randint(1, 101, size=(num, 5,5))\n",
        "    return loto\n",
        "\n",
        "get_loto(3)"
      ]
    },
    {
      "cell_type": "code",
      "execution_count": 75,
      "metadata": {
        "colab": {
          "base_uri": "https://localhost:8080/"
        },
        "id": "3XyRjgEkwXdc",
        "outputId": "4a7ba5d9-ecad-462b-8f34-6e4adbbb84d0"
      },
      "outputs": [
        {
          "data": {
            "text/plain": [
              "array([[[ 42,  37,  40,  28,  15],\n",
              "        [ 34,  13,  74,  18,  96],\n",
              "        [ 77,   2,  52,  50,  62],\n",
              "        [ 23,  32,  63,  69,  46],\n",
              "        [ 82,  93,  21,  79, 100]],\n",
              "\n",
              "       [[ 96,  70,  38,  80,  48],\n",
              "        [ 10,  77,  54,  40,  59],\n",
              "        [ 17,  24,  65,  19,   9],\n",
              "        [ 64,  83,  75,  73,  11],\n",
              "        [ 43,   6,  47,  36,  84]],\n",
              "\n",
              "       [[ 19,  47,  41,  23,  64],\n",
              "        [ 57,   6,  22,  60,  78],\n",
              "        [ 17,  16,  77,  74,  95],\n",
              "        [ 12,  36,  70,  45,  82],\n",
              "        [ 24,  10,  73,  28,  93]]])"
            ]
          },
          "execution_count": 75,
          "metadata": {},
          "output_type": "execute_result"
        }
      ],
      "source": [
        "# ЗАДАНИЕ 10.11\n",
        "# Напишите функцию get_unique_loto(num). \n",
        "# Она так же, как и функция в задании 10.10, генерирует num полей для игры в лото, \n",
        "# однако теперь на каждом поле 5х5 числа не могут повторяться.\n",
        "# Функция также должна возвращать массив формы num x 5 x 5.\n",
        "\n",
        "def get_unique_loto(num):\n",
        "    field = np.arange(1, 101)\n",
        "    result = list()\n",
        "    for i in range(num):\n",
        "        result.append(np.random.choice(field, size=(5,5), replace=False))\n",
        "    result = np.array(result)\n",
        "    return result\n",
        "\n",
        "get_unique_loto(3)"
      ]
    }
  ],
  "metadata": {
    "colab": {
      "collapsed_sections": [],
      "provenance": []
    },
    "kernelspec": {
      "display_name": "Python 3.10.7 64-bit",
      "language": "python",
      "name": "python3"
    },
    "language_info": {
      "name": "python",
      "version": "3.10.7"
    },
    "vscode": {
      "interpreter": {
        "hash": "fb4569285eef3a3450cb62085a5b1e0da4bce0af555edc33dcf29baf3acc1368"
      }
    }
  },
  "nbformat": 4,
  "nbformat_minor": 0
}
