{
  "nbformat": 4,
  "nbformat_minor": 0,
  "metadata": {
    "colab": {
      "provenance": []
    },
    "kernelspec": {
      "name": "python3",
      "display_name": "Python 3"
    },
    "language_info": {
      "name": "python"
    }
  },
  "cells": [
    {
      "cell_type": "code",
      "execution_count": null,
      "metadata": {
        "id": "PP72fsdz4yWi"
      },
      "outputs": [],
      "source": [
        "# Импортируем объект Counter из модуля collections\n",
        "from collections import Counter\n",
        "# Создаём пустой объект Counter\n",
        "c = Counter()"
      ]
    },
    {
      "cell_type": "code",
      "source": [
        "c['red'] += 1\n",
        "print(c)\n",
        "# Будет напечатано:\n",
        "# Counter({'red': 1})"
      ],
      "metadata": {
        "colab": {
          "base_uri": "https://localhost:8080/"
        },
        "id": "fJQHL4Cy4-A1",
        "outputId": "54cf0711-a7ae-46d9-ecd3-f65c5113031f"
      },
      "execution_count": null,
      "outputs": [
        {
          "output_type": "stream",
          "name": "stdout",
          "text": [
            "Counter({'red': 1})\n"
          ]
        }
      ]
    },
    {
      "cell_type": "code",
      "source": [
        "cars = ['red', 'blue', 'black', 'black', 'black', 'red', 'blue', 'red', 'white']"
      ],
      "metadata": {
        "id": "YPgYDuFG5ALX"
      },
      "execution_count": null,
      "outputs": []
    },
    {
      "cell_type": "code",
      "source": [
        "c = Counter()\n",
        "for car in cars:\n",
        "    c[car] += 1\n",
        " \n",
        "print(c)\n",
        "# Counter({'red': 3, 'black': 3, 'blue': 2, 'white': 1})"
      ],
      "metadata": {
        "colab": {
          "base_uri": "https://localhost:8080/"
        },
        "id": "Wltuu0Jl5Ais",
        "outputId": "2d711522-c61e-4b05-b4d6-7796526b43fb"
      },
      "execution_count": null,
      "outputs": [
        {
          "output_type": "stream",
          "name": "stdout",
          "text": [
            "Counter({'red': 3, 'black': 3, 'blue': 2, 'white': 1})\n"
          ]
        }
      ]
    },
    {
      "cell_type": "code",
      "source": [
        "c = Counter(cars)\n",
        "print(c)\n",
        "# Counter({'red': 3, 'black': 3, 'blue': 2, 'white': 1})"
      ],
      "metadata": {
        "colab": {
          "base_uri": "https://localhost:8080/"
        },
        "id": "sLiYHjsV5CnU",
        "outputId": "13ca044e-a593-478a-961d-c2b45e89548c"
      },
      "execution_count": null,
      "outputs": [
        {
          "output_type": "stream",
          "name": "stdout",
          "text": [
            "Counter({'red': 3, 'black': 3, 'blue': 2, 'white': 1})\n"
          ]
        }
      ]
    },
    {
      "cell_type": "code",
      "source": [
        "print(c['black'])\n",
        "# 3"
      ],
      "metadata": {
        "colab": {
          "base_uri": "https://localhost:8080/"
        },
        "id": "ZIwA6ja05END",
        "outputId": "ecab90f4-0e2a-4786-b360-5f1dd753b292"
      },
      "execution_count": null,
      "outputs": [
        {
          "output_type": "stream",
          "name": "stdout",
          "text": [
            "3\n"
          ]
        }
      ]
    },
    {
      "cell_type": "code",
      "source": [
        "print(c['purple'])\n",
        "# 0"
      ],
      "metadata": {
        "colab": {
          "base_uri": "https://localhost:8080/"
        },
        "id": "YbZzBTJA5HQk",
        "outputId": "cdc9a54d-7e1b-4567-cb11-a23d7cad7ef0"
      },
      "execution_count": null,
      "outputs": [
        {
          "output_type": "stream",
          "name": "stdout",
          "text": [
            "0\n"
          ]
        }
      ]
    },
    {
      "cell_type": "code",
      "source": [
        "print(sum(c.values()))\n",
        "# 9"
      ],
      "metadata": {
        "colab": {
          "base_uri": "https://localhost:8080/"
        },
        "id": "X2-VnKu65JQL",
        "outputId": "b422bc49-8eec-4a48-8d39-82fe1fae053a"
      },
      "execution_count": null,
      "outputs": [
        {
          "output_type": "stream",
          "name": "stdout",
          "text": [
            "9\n"
          ]
        }
      ]
    },
    {
      "cell_type": "code",
      "source": [
        "print(c.values())\n",
        "# dict_values([3, 2, 3, 1])"
      ],
      "metadata": {
        "colab": {
          "base_uri": "https://localhost:8080/"
        },
        "id": "OhegHKAQ5LDj",
        "outputId": "3de456b1-9c04-4996-ffd3-4bc0cdcc9e87"
      },
      "execution_count": null,
      "outputs": [
        {
          "output_type": "stream",
          "name": "stdout",
          "text": [
            "dict_values([3, 2, 3, 1])\n"
          ]
        }
      ]
    },
    {
      "cell_type": "code",
      "source": [
        "cars_moscow = ['black', 'black', 'white', 'black', 'black', 'white', 'yellow', 'yellow', 'yellow']\n",
        "cars_spb = ['red', 'black', 'black', 'white', 'white', 'yellow', 'yellow', 'red', 'white']"
      ],
      "metadata": {
        "id": "6YroAtFh5NEM"
      },
      "execution_count": null,
      "outputs": []
    },
    {
      "cell_type": "code",
      "source": [
        "counter_moscow = Counter(cars_moscow)\n",
        "counter_spb = Counter(cars_spb)\n",
        " \n",
        "print(counter_moscow)\n",
        "print(counter_spb)\n",
        " \n",
        "# Counter({'black': 4, 'yellow': 3, 'white': 2})\n",
        "# Counter({'white': 3, 'red': 2, 'black': 2, 'yellow': 2})"
      ],
      "metadata": {
        "colab": {
          "base_uri": "https://localhost:8080/"
        },
        "id": "T_hF65QH5PK1",
        "outputId": "08032cb4-7556-4599-9ac0-d3d2b847441a"
      },
      "execution_count": null,
      "outputs": [
        {
          "output_type": "stream",
          "name": "stdout",
          "text": [
            "Counter({'black': 4, 'yellow': 3, 'white': 2})\n",
            "Counter({'white': 3, 'red': 2, 'black': 2, 'yellow': 2})\n"
          ]
        }
      ]
    },
    {
      "cell_type": "code",
      "source": [
        "print(counter_moscow + counter_spb)\n",
        "# Counter({'black': 6, 'white': 5, 'yellow': 5, 'red': 2})"
      ],
      "metadata": {
        "colab": {
          "base_uri": "https://localhost:8080/"
        },
        "id": "U2DQYaBs5Q29",
        "outputId": "355f24a3-5fe0-4fd5-91c2-1e42d831b34b"
      },
      "execution_count": null,
      "outputs": [
        {
          "output_type": "stream",
          "name": "stdout",
          "text": [
            "Counter({'black': 6, 'white': 5, 'yellow': 5, 'red': 2})\n"
          ]
        }
      ]
    },
    {
      "cell_type": "code",
      "source": [
        "print(counter_moscow)\n",
        "print(counter_spb)\n",
        "# Counter({'black': 4, 'yellow': 3, 'white': 2})\n",
        "# Counter({'white': 3, 'red': 2, 'black': 2, 'yellow': 2})\n",
        " \n",
        "counter_moscow.subtract(counter_spb)\n",
        "print(counter_moscow)\n",
        "# Counter({'black': 2, 'yellow': 1, 'white': -1, 'red': -2})"
      ],
      "metadata": {
        "colab": {
          "base_uri": "https://localhost:8080/"
        },
        "id": "2e0Z0rZP5S9N",
        "outputId": "64ca34ef-21af-4d52-b0d0-63d151a9b519"
      },
      "execution_count": null,
      "outputs": [
        {
          "output_type": "stream",
          "name": "stdout",
          "text": [
            "Counter({'black': 4, 'yellow': 3, 'white': 2})\n",
            "Counter({'white': 3, 'red': 2, 'black': 2, 'yellow': 2})\n",
            "Counter({'black': 2, 'yellow': 1, 'white': -1, 'red': -2})\n"
          ]
        }
      ]
    },
    {
      "cell_type": "code",
      "source": [
        "# Пересоздаём счётчики, потому что объект counter_moscow поменял свои значения\n",
        "# после функции subtract.\n",
        "counter_moscow = Counter(cars_moscow)\n",
        "counter_spb = Counter(cars_spb)\n",
        " \n",
        "print(counter_moscow - counter_spb)\n",
        "# Counter({'black': 2, 'yellow': 1})"
      ],
      "metadata": {
        "colab": {
          "base_uri": "https://localhost:8080/"
        },
        "id": "pH3iYwPa5Usd",
        "outputId": "50b0a6db-193b-49ca-c2d6-0e83d96c4476"
      },
      "execution_count": null,
      "outputs": [
        {
          "output_type": "stream",
          "name": "stdout",
          "text": [
            "Counter({'black': 2, 'yellow': 1})\n"
          ]
        }
      ]
    },
    {
      "cell_type": "code",
      "source": [
        "print(*counter_moscow.elements())\n",
        "# black black black black white white yellow yellow yellow"
      ],
      "metadata": {
        "colab": {
          "base_uri": "https://localhost:8080/"
        },
        "id": "oiKQzPZK5Wts",
        "outputId": "3c8ff4be-1636-4509-d8bc-5acba430b5ab"
      },
      "execution_count": null,
      "outputs": [
        {
          "output_type": "stream",
          "name": "stdout",
          "text": [
            "black black black black white white yellow yellow yellow\n"
          ]
        }
      ]
    },
    {
      "cell_type": "code",
      "source": [
        "print(list(counter_moscow))\n",
        "# ['black', 'white', 'yellow']"
      ],
      "metadata": {
        "colab": {
          "base_uri": "https://localhost:8080/"
        },
        "id": "HFqkyCJY5YuM",
        "outputId": "ddc43966-6a97-473c-c816-a65297aa22b5"
      },
      "execution_count": null,
      "outputs": [
        {
          "output_type": "stream",
          "name": "stdout",
          "text": [
            "['black', 'white', 'yellow']\n"
          ]
        }
      ]
    },
    {
      "cell_type": "code",
      "source": [
        "print(dict(counter_moscow))\n",
        "# {'black': 4, 'white': 2, 'yellow': 3}"
      ],
      "metadata": {
        "colab": {
          "base_uri": "https://localhost:8080/"
        },
        "id": "dHtcPezv5acd",
        "outputId": "67bee0aa-f5b5-41f3-e5a0-4a09090ef9a5"
      },
      "execution_count": null,
      "outputs": [
        {
          "output_type": "stream",
          "name": "stdout",
          "text": [
            "{'black': 4, 'white': 2, 'yellow': 3}\n"
          ]
        }
      ]
    },
    {
      "cell_type": "code",
      "source": [
        "print(counter_moscow.most_common())\n",
        "# [('black', 4), ('yellow', 3), ('white', 2)]"
      ],
      "metadata": {
        "colab": {
          "base_uri": "https://localhost:8080/"
        },
        "id": "jX7galaA5by8",
        "outputId": "8f86a95e-df8c-49d1-8547-b61741128e75"
      },
      "execution_count": null,
      "outputs": [
        {
          "output_type": "stream",
          "name": "stdout",
          "text": [
            "[('black', 4), ('yellow', 3), ('white', 2)]\n"
          ]
        }
      ]
    },
    {
      "cell_type": "code",
      "source": [
        "print(counter_moscow.most_common(2))\n",
        "# [('black', 4), ('yellow', 3)]"
      ],
      "metadata": {
        "colab": {
          "base_uri": "https://localhost:8080/"
        },
        "id": "4ztOwNEJ5d_0",
        "outputId": "5e50add8-ad99-4abb-c535-07a36f59d76b"
      },
      "execution_count": null,
      "outputs": [
        {
          "output_type": "stream",
          "name": "stdout",
          "text": [
            "[('black', 4), ('yellow', 3)]\n"
          ]
        }
      ]
    },
    {
      "cell_type": "code",
      "source": [
        "counter_moscow.clear()\n",
        "print(counter_moscow)\n",
        "# Counter()"
      ],
      "metadata": {
        "colab": {
          "base_uri": "https://localhost:8080/"
        },
        "id": "FG-8l0wc5fTs",
        "outputId": "6b602d3a-0eb1-4233-d4d0-d16b9de10890"
      },
      "execution_count": null,
      "outputs": [
        {
          "output_type": "stream",
          "name": "stdout",
          "text": [
            "Counter()\n"
          ]
        }
      ]
    },
    {
      "cell_type": "code",
      "source": [
        "# Задание 2.3\n",
        "# Задание 2.4\n",
        "# Задание 2.5\n",
        "# from hidden import clients\n",
        "# from collections import Counter\n",
        "# # Пишите здесь команды, которые помогут\n",
        "# # найти ответы на вопросы\n",
        "# counter_clients = Counter(clients)\n",
        "# # print(list(counter_clients))\n",
        "# # print(dict(counter_clients))\n",
        "# # print(counter_clients.most_common(1))\n",
        "# # print(counter_clients[953421102])\n",
        "# print(len(set(counter_clients.keys())))"
      ],
      "metadata": {
        "id": "k-I1isA65g48"
      },
      "execution_count": null,
      "outputs": []
    },
    {
      "cell_type": "markdown",
      "source": [
        "\n",
        "\n",
        "---\n",
        "\n",
        "DEFAULTDICT"
      ],
      "metadata": {
        "id": "n7_XRrCwDx5s"
      }
    },
    {
      "cell_type": "code",
      "source": [
        "students = [('Ivanov',1),('Smirnov',4),('Petrov',3),('Kuznetsova',1),\n",
        "            ('Nikitina',2),('Markov',3),('Pavlov',2)]"
      ],
      "metadata": {
        "id": "EaxNF1NuDzKV"
      },
      "execution_count": null,
      "outputs": []
    },
    {
      "cell_type": "code",
      "source": [
        "groups = dict()\n",
        " \n",
        "for student, group in students:\n",
        "    # Проверяем, есть ли уже эта группа в словаре\n",
        "    if group not in groups:\n",
        "        # Если группы ещё нет в словаре, создаём для неё пустой список\n",
        "        groups[group] = list()\n",
        "    groups[group].append(student)\n",
        " \n",
        "print(groups)\n",
        "# {1: ['Ivanov', 'Kuznetsova'], 4: ['Smirnov'], 3: ['Petrov', 'Markov'], 2: ['Nikitina', 'Pavlov']}"
      ],
      "metadata": {
        "colab": {
          "base_uri": "https://localhost:8080/"
        },
        "id": "glg-67nSEDMl",
        "outputId": "207b7b36-c077-4b92-b255-5c98593c0111"
      },
      "execution_count": null,
      "outputs": [
        {
          "output_type": "stream",
          "name": "stdout",
          "text": [
            "{1: ['Ivanov', 'Kuznetsova'], 4: ['Smirnov'], 3: ['Petrov', 'Markov'], 2: ['Nikitina', 'Pavlov']}\n"
          ]
        }
      ]
    },
    {
      "cell_type": "markdown",
      "source": [
        "\n",
        "\n",
        "---\n"
      ],
      "metadata": {
        "id": "SQWWPYNuE3fs"
      }
    },
    {
      "cell_type": "code",
      "source": [
        "from collections import defaultdict\n",
        "groups = defaultdict(list)"
      ],
      "metadata": {
        "id": "V-OHMsWjE5A-"
      },
      "execution_count": null,
      "outputs": []
    },
    {
      "cell_type": "code",
      "source": [
        "for student, group in students:\n",
        "    groups[group].append(student)\n",
        " \n",
        "print(groups)\n",
        "# defaultdict(<class 'list'>, {1: ['Ivanov', 'Kuznetsova'], 4: ['Smirnov'], 3: ['Petrov', 'Markov'], 2: ['Nikitina', 'Pavlov']})"
      ],
      "metadata": {
        "colab": {
          "base_uri": "https://localhost:8080/"
        },
        "id": "Ag_ePt3WFdX9",
        "outputId": "a8dd0293-379d-41a8-d70f-9963f2e47287"
      },
      "execution_count": null,
      "outputs": [
        {
          "output_type": "stream",
          "name": "stdout",
          "text": [
            "defaultdict(<class 'list'>, {1: ['Ivanov', 'Kuznetsova'], 4: ['Smirnov'], 3: ['Petrov', 'Markov'], 2: ['Nikitina', 'Pavlov']})\n"
          ]
        }
      ]
    },
    {
      "cell_type": "code",
      "source": [
        "print(groups[3])\n",
        "# ['Petrov', 'Markov']"
      ],
      "metadata": {
        "colab": {
          "base_uri": "https://localhost:8080/"
        },
        "id": "FDCh7Cb8F0xM",
        "outputId": "a361f9db-112d-4d6c-93bb-b46de8e779a1"
      },
      "execution_count": null,
      "outputs": [
        {
          "output_type": "stream",
          "name": "stdout",
          "text": [
            "['Petrov', 'Markov']\n"
          ]
        }
      ]
    },
    {
      "cell_type": "code",
      "source": [
        "print(groups[2021])\n",
        "# []"
      ],
      "metadata": {
        "colab": {
          "base_uri": "https://localhost:8080/"
        },
        "id": "c1c_g-xNF79U",
        "outputId": "ec185420-a465-471a-f1ec-00eb98077949"
      },
      "execution_count": null,
      "outputs": [
        {
          "output_type": "stream",
          "name": "stdout",
          "text": [
            "[]\n"
          ]
        }
      ]
    },
    {
      "cell_type": "code",
      "source": [
        "print(groups)\n",
        "# defaultdict(<class 'list'>, {1: ['Ivanov', 'Kuznetsova'], 4: ['Smirnov'], 3: ['Petrov', 'Markov'], 2: ['Nikitina', 'Pavlov'], 2021: []})"
      ],
      "metadata": {
        "colab": {
          "base_uri": "https://localhost:8080/"
        },
        "id": "fVcfg2dQGDo8",
        "outputId": "041e860d-a320-46dd-ea75-8b86ac29a8dd"
      },
      "execution_count": null,
      "outputs": [
        {
          "output_type": "stream",
          "name": "stdout",
          "text": [
            "defaultdict(<class 'list'>, {1: ['Ivanov', 'Kuznetsova'], 4: ['Smirnov'], 3: ['Petrov', 'Markov'], 2: ['Nikitina', 'Pavlov'], 2021: []})\n"
          ]
        }
      ]
    },
    {
      "cell_type": "code",
      "source": [
        "dict_object = dict()\n",
        "defaultdict_object = defaultdict()\n",
        " \n",
        "print(type(dict_object))\n",
        "# <class 'dict'>\n",
        "print(type(defaultdict_object))\n",
        "# <class 'collections.defaultdict'>"
      ],
      "metadata": {
        "colab": {
          "base_uri": "https://localhost:8080/"
        },
        "id": "5qSd0ll6GNT0",
        "outputId": "c8525576-3089-45f7-d936-c246e0acf812"
      },
      "execution_count": null,
      "outputs": [
        {
          "output_type": "stream",
          "name": "stdout",
          "text": [
            "<class 'dict'>\n",
            "<class 'collections.defaultdict'>\n"
          ]
        }
      ]
    },
    {
      "cell_type": "code",
      "source": [
        "print(dict_object)\n",
        "# {}\n",
        "print(defaultdict_object)\n",
        "# defaultdict(None, {})"
      ],
      "metadata": {
        "colab": {
          "base_uri": "https://localhost:8080/"
        },
        "id": "hJbAin85GX0T",
        "outputId": "2b873617-39c3-44cc-f38d-fa6dcbab742e"
      },
      "execution_count": null,
      "outputs": [
        {
          "output_type": "stream",
          "name": "stdout",
          "text": [
            "{}\n",
            "defaultdict(None, {})\n"
          ]
        }
      ]
    },
    {
      "cell_type": "markdown",
      "source": [
        "\n",
        "\n",
        "---\n",
        "3. Модуль Collections. Deque и OrderedDict\n",
        "- ORDEREDDICT"
      ],
      "metadata": {
        "id": "TKeq5p0SIy0R"
      }
    },
    {
      "cell_type": "code",
      "source": [
        "# Напоминаем способ создания словаря через список кортежей\n",
        "# (ключ, значение)\n",
        "data = [('Ivan', 19),('Mark', 25),('Andrey', 23),('Maria', 20)]\n",
        "client_ages = dict(data)\n",
        "print(client_ages)\n",
        "# По результатам 3 повторов получились вот такие результаты:\n",
        "# {'Maria': 20, 'Mark': 25, 'Ivan': 19, 'Andrey': 23}\n",
        "# {'Ivan': 19, 'Andrey': 23, 'Mark': 25, 'Maria': 20}\n",
        "# {'Andrey': 23, 'Mark': 25, 'Maria': 20, 'Ivan': 19}"
      ],
      "metadata": {
        "colab": {
          "base_uri": "https://localhost:8080/"
        },
        "id": "v-geyVgbI0FI",
        "outputId": "3b8da113-68a9-4058-c900-500055cf7d51"
      },
      "execution_count": null,
      "outputs": [
        {
          "output_type": "stream",
          "name": "stdout",
          "text": [
            "{'Ivan': 19, 'Mark': 25, 'Andrey': 23, 'Maria': 20}\n"
          ]
        }
      ]
    },
    {
      "cell_type": "code",
      "source": [
        "from collections import OrderedDict\n",
        "data = [('Ivan', 19),('Mark', 25),('Andrey', 23),('Maria', 20)]\n",
        "ordered_client_ages = OrderedDict(data)\n",
        "print(ordered_client_ages)\n",
        "# По результатам 3 повторов получились вот такие результаты:\n",
        "# OrderedDict([('Ivan', 19), ('Mark', 25), ('Andrey', 23), ('Maria', 20)])\n",
        "# OrderedDict([('Ivan', 19), ('Mark', 25), ('Andrey', 23), ('Maria', 20)])\n",
        "# OrderedDict([('Ivan', 19), ('Mark', 25), ('Andrey', 23), ('Maria', 20)])"
      ],
      "metadata": {
        "colab": {
          "base_uri": "https://localhost:8080/"
        },
        "id": "MWSN1FaZJTyE",
        "outputId": "76a8ae39-e5a8-4301-fa00-3d090f9383a1"
      },
      "execution_count": null,
      "outputs": [
        {
          "output_type": "stream",
          "name": "stdout",
          "text": [
            "OrderedDict([('Ivan', 19), ('Mark', 25), ('Andrey', 23), ('Maria', 20)])\n"
          ]
        }
      ]
    },
    {
      "cell_type": "code",
      "source": [
        "data = [('Ivan', 19),('Mark', 25),('Andrey', 23),('Maria', 20)]\n",
        "# Сортируем по второму значению из кортежа, то есть по возрасту\n",
        "ordered_client_ages = OrderedDict(sorted(data, key=lambda x: x[1]))\n",
        "print(ordered_client_ages)\n",
        "# OrderedDict([('Ivan', 19), ('Maria', 20), ('Andrey', 23), ('Mark', 25)])"
      ],
      "metadata": {
        "colab": {
          "base_uri": "https://localhost:8080/"
        },
        "id": "-2hlCaKVJv0U",
        "outputId": "2b69307c-0e65-4cb5-8578-5de97652a98a"
      },
      "execution_count": null,
      "outputs": [
        {
          "output_type": "stream",
          "name": "stdout",
          "text": [
            "OrderedDict([('Ivan', 19), ('Maria', 20), ('Andrey', 23), ('Mark', 25)])\n"
          ]
        }
      ]
    },
    {
      "cell_type": "code",
      "source": [
        "ordered_client_ages['Nikita'] = 18\n",
        "print(ordered_client_ages)\n",
        "# OrderedDict([('Ivan', 19), ('Maria', 20), ('Andrey', 23), ('Mark', 25), ('Nikita', 18)])"
      ],
      "metadata": {
        "colab": {
          "base_uri": "https://localhost:8080/"
        },
        "id": "4CNKJ_0OJ73c",
        "outputId": "5aa421c4-805e-4c6c-fd0c-01fe235d1984"
      },
      "execution_count": null,
      "outputs": [
        {
          "output_type": "stream",
          "name": "stdout",
          "text": [
            "OrderedDict([('Ivan', 19), ('Maria', 20), ('Andrey', 23), ('Mark', 25), ('Nikita', 18)])\n"
          ]
        }
      ]
    },
    {
      "cell_type": "code",
      "source": [
        "del ordered_client_ages['Andrey']\n",
        "print(ordered_client_ages)\n",
        "# OrderedDict([('Ivan', 19), ('Mark', 25), ('Maria', 20), ('Nikita', 18)])\n",
        "ordered_client_ages['Andrey'] = 23\n",
        "print(ordered_client_ages)\n",
        "# OrderedDict([('Ivan', 19), ('Mark', 25), ('Maria', 20), ('Nikita', 18), ('Andrey', 23)])"
      ],
      "metadata": {
        "colab": {
          "base_uri": "https://localhost:8080/"
        },
        "id": "MZseZVNdKA_E",
        "outputId": "c26f7af0-0a13-40bd-e2d7-db03d0e13c40"
      },
      "execution_count": null,
      "outputs": [
        {
          "output_type": "stream",
          "name": "stdout",
          "text": [
            "OrderedDict([('Ivan', 19), ('Maria', 20), ('Mark', 25), ('Nikita', 18)])\n",
            "OrderedDict([('Ivan', 19), ('Maria', 20), ('Mark', 25), ('Nikita', 18), ('Andrey', 23)])\n"
          ]
        }
      ]
    },
    {
      "cell_type": "code",
      "source": [
        "import sys\n",
        "print(sys.version)\n",
        "# 3.4.3 (default, Nov 12 2018, 22:25:49)\n",
        "# [GCC 4.8.4]"
      ],
      "metadata": {
        "colab": {
          "base_uri": "https://localhost:8080/"
        },
        "id": "0qOqVIqcKUQk",
        "outputId": "d509eb17-2acd-4fcd-ee6f-aa056949a728"
      },
      "execution_count": null,
      "outputs": [
        {
          "output_type": "stream",
          "name": "stdout",
          "text": [
            "3.7.15 (default, Oct 12 2022, 19:14:55) \n",
            "[GCC 7.5.0]\n"
          ]
        }
      ]
    },
    {
      "cell_type": "markdown",
      "source": [
        "\n",
        "\n",
        "---\n",
        "\n",
        "DEQUE"
      ],
      "metadata": {
        "id": "YdYWUkXEM0Iw"
      }
    },
    {
      "cell_type": "code",
      "source": [
        "from collections import deque\n",
        "dq = deque()\n",
        "print(dq)\n",
        "# deque([])"
      ],
      "metadata": {
        "colab": {
          "base_uri": "https://localhost:8080/"
        },
        "id": "7IRgbYD4MuCU",
        "outputId": "48046721-ab59-41af-8b93-f00526d0d66a"
      },
      "execution_count": null,
      "outputs": [
        {
          "output_type": "stream",
          "name": "stdout",
          "text": [
            "deque([])\n"
          ]
        }
      ]
    },
    {
      "cell_type": "code",
      "source": [
        "clients = deque()\n",
        "clients.append('Ivanov')\n",
        "clients.append('Petrov')\n",
        "clients.append('Smirnov')\n",
        "clients.append('Tikhonova')\n",
        "print(clients)\n",
        "# deque(['Ivanov', 'Petrov', 'Smirnov', 'Tikhonova'])"
      ],
      "metadata": {
        "colab": {
          "base_uri": "https://localhost:8080/"
        },
        "id": "SkoYhe9aNR2s",
        "outputId": "b34fbcd9-e1f7-48b3-d040-5d7c1c9bdd5a"
      },
      "execution_count": null,
      "outputs": [
        {
          "output_type": "stream",
          "name": "stdout",
          "text": [
            "deque(['Ivanov', 'Petrov', 'Smirnov', 'Tikhonova'])\n"
          ]
        }
      ]
    },
    {
      "cell_type": "code",
      "source": [
        "print(clients[2])\n",
        "# Smirnov"
      ],
      "metadata": {
        "colab": {
          "base_uri": "https://localhost:8080/"
        },
        "id": "pZaCQ0LbNWks",
        "outputId": "cb69e738-8589-41e1-f13f-959f7abb7098"
      },
      "execution_count": null,
      "outputs": [
        {
          "output_type": "stream",
          "name": "stdout",
          "text": [
            "Smirnov\n"
          ]
        }
      ]
    },
    {
      "cell_type": "code",
      "source": [
        "first_client = clients.popleft()\n",
        "second_client = clients.popleft()\n",
        " \n",
        "print(\"First client:\", first_client)\n",
        "print(\"Second client:\", second_client)\n",
        "print(clients)\n",
        "# First client: Ivanov\n",
        "# Second client: Petrov\n",
        "# deque(['Smirnov', 'Tikhonova'])"
      ],
      "metadata": {
        "colab": {
          "base_uri": "https://localhost:8080/"
        },
        "id": "2vDwGMn1NeBU",
        "outputId": "6e045ec5-c54e-45a3-e459-07b0d33490d2"
      },
      "execution_count": null,
      "outputs": [
        {
          "output_type": "stream",
          "name": "stdout",
          "text": [
            "First client: Ivanov\n",
            "Second client: Petrov\n",
            "deque(['Smirnov', 'Tikhonova'])\n"
          ]
        }
      ]
    },
    {
      "cell_type": "code",
      "source": [
        "clients.appendleft('Vip-client')\n",
        " \n",
        "print(clients)\n",
        "# deque(['Vip-client', 'Smirnov', 'Tikhonova'])"
      ],
      "metadata": {
        "colab": {
          "base_uri": "https://localhost:8080/"
        },
        "id": "xkyKIcVyNvZr",
        "outputId": "85e77a00-45a8-430f-cca1-3209aa57327e"
      },
      "execution_count": null,
      "outputs": [
        {
          "output_type": "stream",
          "name": "stdout",
          "text": [
            "deque(['Vip-client', 'Smirnov', 'Tikhonova'])\n"
          ]
        }
      ]
    },
    {
      "cell_type": "code",
      "source": [
        "tired_client = clients.pop()\n",
        "print(tired_client, \"left the queue\")\n",
        "print(clients)\n",
        "# Tikhonova left the queue\n",
        "# deque(['Vip-client', 'Smirnov'])"
      ],
      "metadata": {
        "colab": {
          "base_uri": "https://localhost:8080/"
        },
        "id": "6j6EdoLjOBYV",
        "outputId": "a74d800b-5728-4b61-fde2-abe488328b7d"
      },
      "execution_count": null,
      "outputs": [
        {
          "output_type": "stream",
          "name": "stdout",
          "text": [
            "Tikhonova left the queue\n",
            "deque(['Vip-client', 'Smirnov'])\n"
          ]
        }
      ]
    },
    {
      "cell_type": "code",
      "source": [
        "clients = deque(['Ivanov', 'Petrov', 'Smirnov', 'Tikhonova'])\n",
        "print(clients)\n",
        "# deque(['Ivanov', 'Petrov', 'Smirnov', 'Tikhonova'])\n",
        "del clients[2]\n",
        "print(clients)\n",
        "# deque(['Ivanov', 'Petrov', 'Tikhonova'])"
      ],
      "metadata": {
        "colab": {
          "base_uri": "https://localhost:8080/"
        },
        "id": "3qwg-qqmOJiE",
        "outputId": "6d06985a-a1ac-4874-e1ca-7201c887468f"
      },
      "execution_count": null,
      "outputs": [
        {
          "output_type": "stream",
          "name": "stdout",
          "text": [
            "deque(['Ivanov', 'Petrov', 'Smirnov', 'Tikhonova'])\n",
            "deque(['Ivanov', 'Petrov', 'Tikhonova'])\n"
          ]
        }
      ]
    },
    {
      "cell_type": "code",
      "source": [
        "# В скобках передаём список при создании deque,\n",
        "# чтобы сразу добавить все его элементы в очередь\n",
        "shop = deque([1, 2, 3, 4, 5])\n",
        "print(shop)\n",
        "# deque([1, 2, 3, 4, 5])\n",
        "shop.extend([11, 12, 13, 14, 15, 16, 17])\n",
        "print(shop)\n",
        "# deque([1, 2, 3, 4, 5, 11, 12, 13, 14, 15, 16, 17])"
      ],
      "metadata": {
        "colab": {
          "base_uri": "https://localhost:8080/"
        },
        "id": "GZDqv_c-OkB8",
        "outputId": "aca45104-2d91-4487-cb80-dce7ed2e85a3"
      },
      "execution_count": null,
      "outputs": [
        {
          "output_type": "stream",
          "name": "stdout",
          "text": [
            "deque([1, 2, 3, 4, 5])\n",
            "deque([1, 2, 3, 4, 5, 11, 12, 13, 14, 15, 16, 17])\n"
          ]
        }
      ]
    },
    {
      "cell_type": "code",
      "source": [
        "shop = deque([1, 2, 3, 4, 5])\n",
        "print(shop)\n",
        "# deque([1, 2, 3, 4, 5])\n",
        "shop.extendleft([11, 12, 13, 14, 15, 16, 17])\n",
        "print(shop)\n",
        "# deque([17, 16, 15, 14, 13, 12, 11, 1, 2, 3, 4, 5])"
      ],
      "metadata": {
        "colab": {
          "base_uri": "https://localhost:8080/"
        },
        "id": "z3FueqrHOuht",
        "outputId": "7f41fe6d-49ba-4cc8-eeac-3b17b1d3df12"
      },
      "execution_count": null,
      "outputs": [
        {
          "output_type": "stream",
          "name": "stdout",
          "text": [
            "deque([1, 2, 3, 4, 5])\n",
            "deque([17, 16, 15, 14, 13, 12, 11, 1, 2, 3, 4, 5])\n"
          ]
        }
      ]
    },
    {
      "cell_type": "markdown",
      "source": [
        "\n",
        "\n",
        "---\n",
        "\n",
        "ОЧЕРЕДЬ С ОГРАНИЧЕННОЙ МАКСИМАЛЬНОЙ ДЛИНОЙ"
      ],
      "metadata": {
        "id": "kMIN2zOgPDx4"
      }
    },
    {
      "cell_type": "code",
      "source": [
        "limited = deque(maxlen=3)\n",
        "print(limited)\n",
        "# deque([], maxlen=3)\n",
        " \n",
        "limited_from_list = deque([1,3,4,5,6,7], maxlen=3)\n",
        "print(limited_from_list)\n",
        "# deque([5, 6, 7], maxlen=3)"
      ],
      "metadata": {
        "colab": {
          "base_uri": "https://localhost:8080/"
        },
        "id": "OS0CaMw6PFyE",
        "outputId": "3c187d25-4422-4006-b2d6-1e416df1f45e"
      },
      "execution_count": null,
      "outputs": [
        {
          "output_type": "stream",
          "name": "stdout",
          "text": [
            "deque([], maxlen=3)\n",
            "deque([5, 6, 7], maxlen=3)\n"
          ]
        }
      ]
    },
    {
      "cell_type": "code",
      "source": [
        "limited.extend([1,2,3])\n",
        "print(limited)\n",
        "# deque([1, 2, 3], maxlen=3)\n",
        " \n",
        "print(limited.append(8))\n",
        "# None\n",
        "print(limited)\n",
        "# deque([2, 3, 8], maxlen=3)"
      ],
      "metadata": {
        "colab": {
          "base_uri": "https://localhost:8080/"
        },
        "id": "ipkDqaFYPdtE",
        "outputId": "b8ab7384-20d2-4c5b-c3f4-7b5e0fe1e902"
      },
      "execution_count": null,
      "outputs": [
        {
          "output_type": "stream",
          "name": "stdout",
          "text": [
            "deque([1, 2, 3], maxlen=3)\n",
            "None\n",
            "deque([2, 3, 8], maxlen=3)\n"
          ]
        }
      ]
    },
    {
      "cell_type": "code",
      "source": [
        "temps = [20.6, 19.4, 19.0, 19.0, 22.1,\n",
        "        22.5, 22.8, 24.1, 25.6, 27.0,\n",
        "        27.0, 25.6, 26.8, 27.3, 22.5,\n",
        "        25.4, 24.4, 23.7, 23.6, 22.6,\n",
        "        20.4, 17.9, 17.3, 17.3, 18.1,\n",
        "        20.1, 22.2, 19.8, 21.3, 21.3,\n",
        "        21.9]"
      ],
      "metadata": {
        "id": "MzaiWWo5QPIs"
      },
      "execution_count": null,
      "outputs": []
    },
    {
      "cell_type": "code",
      "source": [
        "days = deque(maxlen=7)\n",
        " \n",
        "for temp in temps:\n",
        "    # Добавляем температуру в очередь\n",
        "    days.append(temp)\n",
        "    # Если длина очереди оказалась равной максимальной длине очереди (7),\n",
        "    # печатаем среднюю температуру за последние 7 дней\n",
        "    if len(days) == days.maxlen:\n",
        "        print(round(sum(days) / len(days), 2), end='; ')\n",
        "# Напечатаем пустую строку, чтобы завершить действие параметра\n",
        "# end. Иначе следующая строка окажется напечатанной на предыдущей\n",
        "print(\"\")\n",
        "# Результат:\n",
        "# 20.77; 21.27; 22.16; 23.3; 24.44; 24.94; 25.56; 26.2; 25.97;\n",
        "# 25.94; 25.57; 25.1; 24.81; 24.21; 23.23; 22.57; 21.41; 20.4;\n",
        "# 19.6; 19.1; 19.04; 18.96; 19.44; 20.01; 20.67;"
      ],
      "metadata": {
        "colab": {
          "base_uri": "https://localhost:8080/"
        },
        "id": "hDIg1RbXQSik",
        "outputId": "66258116-c4a9-40b7-9f44-e1ed8f1d1107"
      },
      "execution_count": null,
      "outputs": [
        {
          "output_type": "stream",
          "name": "stdout",
          "text": [
            "20.77; 21.27; 22.16; 23.3; 24.44; 24.94; 25.56; 26.2; 25.97; 25.94; 25.57; 25.1; 24.81; 24.21; 23.23; 22.57; 21.41; 20.4; 19.6; 19.1; 19.04; 18.96; 19.44; 20.01; 20.67; \n"
          ]
        }
      ]
    },
    {
      "cell_type": "markdown",
      "source": [
        "\n",
        "\n",
        "---\n",
        "\n",
        "ДОПОЛНИТЕЛЬНЫЕ ФУНКЦИИ"
      ],
      "metadata": {
        "id": "9aPtkm7cSl4Y"
      }
    },
    {
      "cell_type": "code",
      "source": [
        "dq = deque([1,2,3,4,5])\n",
        "print(dq)\n",
        "# deque([1, 2, 3, 4, 5])\n",
        " \n",
        "dq.reverse()\n",
        "print(dq)\n",
        "# deque([5, 4, 3, 2, 1])"
      ],
      "metadata": {
        "colab": {
          "base_uri": "https://localhost:8080/"
        },
        "id": "6S4iJ9eySnik",
        "outputId": "714cf723-9465-4d0b-da5a-737c7c83bb3b"
      },
      "execution_count": null,
      "outputs": [
        {
          "output_type": "stream",
          "name": "stdout",
          "text": [
            "deque([1, 2, 3, 4, 5])\n",
            "deque([5, 4, 3, 2, 1])\n"
          ]
        }
      ]
    },
    {
      "cell_type": "code",
      "source": [
        "dq = deque([1,2,3,4,5])\n",
        "print(dq)\n",
        "# deque([1, 2, 3, 4, 5])\n",
        " \n",
        "dq.rotate(2)\n",
        "print(dq)\n",
        "# deque([4, 5, 1, 2, 3])"
      ],
      "metadata": {
        "colab": {
          "base_uri": "https://localhost:8080/"
        },
        "id": "31dkZc36StMN",
        "outputId": "0c745f6c-4541-47d6-a651-b423dd88b43e"
      },
      "execution_count": null,
      "outputs": [
        {
          "output_type": "stream",
          "name": "stdout",
          "text": [
            "deque([1, 2, 3, 4, 5])\n",
            "deque([4, 5, 1, 2, 3])\n"
          ]
        }
      ]
    },
    {
      "cell_type": "code",
      "source": [
        "dq = deque([1,2,3,4,5])\n",
        "print(dq)\n",
        "# deque([1, 2, 3, 4, 5])\n",
        " \n",
        "# Отрицательное значение аргумента переносит\n",
        "# n элементов из начала в конец\n",
        "dq.rotate(-2)\n",
        "print(dq)\n",
        "# deque([3, 4, 5, 1, 2])"
      ],
      "metadata": {
        "colab": {
          "base_uri": "https://localhost:8080/"
        },
        "id": "U2US32lYSu7D",
        "outputId": "ec535207-77ba-42e6-90bc-f50d14f7d49b"
      },
      "execution_count": null,
      "outputs": [
        {
          "output_type": "stream",
          "name": "stdout",
          "text": [
            "deque([1, 2, 3, 4, 5])\n",
            "deque([3, 4, 5, 1, 2])\n"
          ]
        }
      ]
    },
    {
      "cell_type": "code",
      "source": [
        "dq = [1,2,4,2,3,1,5,4,4,4,4,4,3]\n",
        "print(dq.index(4))\n",
        "# 2\n",
        "print(dq.count(4))\n",
        "# 6"
      ],
      "metadata": {
        "colab": {
          "base_uri": "https://localhost:8080/"
        },
        "id": "EHFrqQtkSwtF",
        "outputId": "7a0d5c10-01ef-4628-a919-e5a991113c0f"
      },
      "execution_count": null,
      "outputs": [
        {
          "output_type": "stream",
          "name": "stdout",
          "text": [
            "2\n",
            "6\n"
          ]
        }
      ]
    },
    {
      "cell_type": "code",
      "source": [
        "dq = deque([1,2,4,2,3,1,5,4,4,4,4,4,3])\n",
        "print(dq.index(25))\n",
        "# ValueError: 25 is not in deque"
      ],
      "metadata": {
        "id": "QWxiTuxJSyeF"
      },
      "execution_count": null,
      "outputs": []
    },
    {
      "cell_type": "code",
      "source": [
        "dq = deque([1,2,4,2,3,1,5,4,4,4,4,4,3])\n",
        "print(dq.count(25))\n",
        "# 0"
      ],
      "metadata": {
        "colab": {
          "base_uri": "https://localhost:8080/"
        },
        "id": "psXaxdjuS0r7",
        "outputId": "b0b07ab3-1df3-42cf-a5d9-630b446ddb89"
      },
      "execution_count": null,
      "outputs": [
        {
          "output_type": "stream",
          "name": "stdout",
          "text": [
            "0\n"
          ]
        }
      ]
    },
    {
      "cell_type": "code",
      "source": [
        "dq = deque([1,2,4,2,3,1,5,4,4,4,4,4,3])\n",
        "print(dq)\n",
        "# deque([1, 2, 4, 2, 3, 1, 5, 4, 4, 4, 4, 4, 3])\n",
        "dq.clear()\n",
        "print(dq)\n",
        "# deque([])"
      ],
      "metadata": {
        "colab": {
          "base_uri": "https://localhost:8080/"
        },
        "id": "0toBu1pFS3Uz",
        "outputId": "44785da0-e3f3-4e85-927d-fb72a24330c5"
      },
      "execution_count": null,
      "outputs": [
        {
          "output_type": "stream",
          "name": "stdout",
          "text": [
            "deque([1, 2, 4, 2, 3, 1, 5, 4, 4, 4, 4, 4, 3])\n",
            "deque([])\n"
          ]
        }
      ]
    },
    {
      "cell_type": "markdown",
      "source": [
        "\n",
        "\n",
        "---\n",
        "\n"
      ],
      "metadata": {
        "id": "sKGruYDYTj1-"
      }
    },
    {
      "cell_type": "code",
      "source": [
        "# Задание 3.2\n",
        "# Дан список из кортежей temps. \n",
        "# На первом месте в кортеже указан год в виде строки, \n",
        "# а на втором — средняя температура января в Петербурге в указанном году.\n",
        "# Необходимо напечатать словарь, в котором ключи — годы, \n",
        "# а значения — показатели температуры. \n",
        "# Ключи необходимо отсортировать в порядке убывания соответствующих им температур.\n",
        "\n",
        "temps = [('2000', -4.4), ('2001', -2.5), ('2002', -4.4), ('2003', -9.5),\n",
        "        ('2004', -8.2), ('2005', -1.6), ('2006', -5.9), ('2007', -2.4),\n",
        "        ('2008', -1.7), ('2009', -3.5), ('2010', -12.1), ('2011', -5.8),\n",
        "        ('2012', -4.9), ('2013', -6.1), ('2014', -6.9), ('2015', -2.7),\n",
        "        ('2016', -11.2), ('2017', -3.9), ('2018', -2.9), ('2019', -6.5),\n",
        "        ('2020', 1.5)]\n",
        "         \n",
        "# Напечатайте словарь из температур, отсортированный по уменьшению температуры\n",
        "from collections import OrderedDict\n",
        "\n",
        "ordered_temps = OrderedDict(sorted(temps, key=lambda x: x[1], reverse=True))\n",
        "print(ordered_temps)"
      ],
      "metadata": {
        "colab": {
          "base_uri": "https://localhost:8080/"
        },
        "id": "AA7JA1QmTlMi",
        "outputId": "f5305f8c-89a2-4f15-c99a-51bd53f7bc99"
      },
      "execution_count": null,
      "outputs": [
        {
          "output_type": "stream",
          "name": "stdout",
          "text": [
            "OrderedDict([('2020', 1.5), ('2005', -1.6), ('2008', -1.7), ('2007', -2.4), ('2001', -2.5), ('2015', -2.7), ('2018', -2.9), ('2009', -3.5), ('2017', -3.9), ('2000', -4.4), ('2002', -4.4), ('2012', -4.9), ('2011', -5.8), ('2006', -5.9), ('2013', -6.1), ('2019', -6.5), ('2014', -6.9), ('2004', -8.2), ('2003', -9.5), ('2016', -11.2), ('2010', -12.1)])\n"
          ]
        }
      ]
    },
    {
      "cell_type": "code",
      "source": [
        "# Задание 3.5\n",
        "# Извлеките элемент из начала очереди. \n",
        "# Запишите полученное значение элемента в качестве ответа.\n",
        "\n",
        "# Задание 3.6\n",
        "# В уже модифицированной очереди переместите пять элементов из начала очереди в её конец. \n",
        "# Извлеките последний элемент из очереди. Запишите полученное число в качестве ответа.\n",
        "\n",
        "# Задание 3.7\n",
        "# Сколько задач с тем номером, что был извлечён в предыдущем задании, \n",
        "# осталось в модифицированной очереди? Запишите ответ в числовой форме.\n",
        "\n",
        "# from hidden import users\n",
        "\n",
        "# # Пишите здесь команды, который помогут\n",
        "# # найти ответы на вопросы\n",
        "\n",
        "# from collections import Counter\n",
        "# # from collections import defaultdict\n",
        "# from collections import deque\n",
        "# # from collections import OrderedDict\n",
        "\n",
        "# clients = deque(users)\n",
        "# print(clients)\n",
        "# first_client = clients.popleft()\n",
        "# print(first_client)\n",
        "\n",
        "# clients.rotate(-5)\n",
        "# last_clients = clients.pop()\n",
        "# print(last_clients)\n",
        "\n",
        "# print(clients)\n",
        "# print(clients.count(8))"
      ],
      "metadata": {
        "id": "urbe7JdteDAc"
      },
      "execution_count": null,
      "outputs": []
    },
    {
      "cell_type": "markdown",
      "source": [
        "\n",
        "\n",
        "---\n",
        "\n",
        "4. Модуль Collections. Закрепление знаний"
      ],
      "metadata": {
        "id": "Lf9tXa_3gSZN"
      }
    },
    {
      "cell_type": "code",
      "source": [
        "# ЗАДАНИЕ 4.3\n",
        "# Напишите функцию brackets(line), которая определяет, \n",
        "# является ли последовательность из круглых скобок правильной.\n",
        "# Правильной скобочной последовательностью назовём такую последовательность скобок, \n",
        "# в которой для каждой открывающей скобки есть последующая соответствующая ей закрывающая скобка.\n",
        "# Соответственно, остальные скобочные последовательности назовём неправильными.\n",
        "# Пустую строку будем считать правильной последовательностью.\n",
        "# Для решения этой задачи потребуется использовать стек.\n",
        "# Посимвольно переберите строку. \n",
        "# Если встретилась открывающаяся скобка, положите её в стек. \n",
        "# Если встретилась закрывающаяся скобка, извлеките скобку из стека.\n",
        "# Если стек пустой, то есть извлечь скобку нельзя, последовательность неправильная.\n",
        "# Если строка закончилась и стек стал пустым, последовательность правильная.\n",
        "# Если в стеке остались скобки, последовательность неправильная.\n",
        "\n",
        "from collections import deque\n",
        "\n",
        "def brackets(line):\n",
        "    # Напишите тело функции\n",
        "    queue = deque()\n",
        "    for symb in line:\n",
        "        if symb == ')':\n",
        "            if queue:\n",
        "               queue.pop()\n",
        "               continue\n",
        "            return False\n",
        "        elif symb == '(':\n",
        "            queue.append(symb)\n",
        "    return not bool(queue)"
      ],
      "metadata": {
        "id": "H3U5C6p7gYvX"
      },
      "execution_count": null,
      "outputs": []
    },
    {
      "cell_type": "code",
      "source": [
        "print(brackets(\"(()())\"))\n",
        "# True\n",
        "print(brackets(\"\"))\n",
        "# True\n",
        "print(brackets(\"(()()))\"))\n",
        "# False"
      ],
      "metadata": {
        "colab": {
          "base_uri": "https://localhost:8080/"
        },
        "id": "cxq0hGjRRgWr",
        "outputId": "8c7e11c2-aaa8-4094-91ca-21e5210ae7ef"
      },
      "execution_count": null,
      "outputs": [
        {
          "output_type": "stream",
          "name": "stdout",
          "text": [
            "True\n",
            "True\n",
            "False\n"
          ]
        }
      ]
    },
    {
      "cell_type": "markdown",
      "source": [
        "\n",
        "\n",
        "---\n",
        "\n"
      ],
      "metadata": {
        "id": "w3KpTKe2djBE"
      }
    },
    {
      "cell_type": "code",
      "source": [
        "# from hidden import north, center, south\n",
        "# # Пишите здесь команды, которые помогут\n",
        "# # найти ответы на вопросы\n",
        "# # print(north)\n",
        "# # print(center)\n",
        "# # print(south)\n",
        "\n",
        "# from collections import Counter\n",
        "\n",
        "# def flatten(l):\n",
        "#     return [item for sublist in l for item in sublist]\n",
        "\n",
        "# # print(len(flatten(north)))\n",
        "# # print(len(flatten(center)))\n",
        "# # print(len(flatten(south)))\n",
        "# # print(flatten(north))\n",
        "\n",
        "# c_north = Counter(flatten(north))\n",
        "# c_center = Counter(flatten(center))\n",
        "# c_south = Counter(flatten(south))\n",
        "\n",
        "# print(c_north)\n",
        "# print(c_center)\n",
        "# print(c_south)\n",
        "\n",
        "# print(c_north + c_center + c_south)\n",
        "\n",
        "# # from collections import OrderedDict\n",
        "# # ordered_c_north = sorted(c_north, key=lambda x: x[1])\n",
        "# # print(ordered_c_north)"
      ],
      "metadata": {
        "id": "UQlRFioYdkLR"
      },
      "execution_count": null,
      "outputs": []
    },
    {
      "cell_type": "markdown",
      "source": [
        "\n",
        "\n",
        "---\n",
        "\n"
      ],
      "metadata": {
        "id": "-ZoTzoN9eB6C"
      }
    },
    {
      "cell_type": "code",
      "source": [
        "# ЗАДАНИЕ 4.9\n",
        "# Дан список кортежей ratings с рейтингами кафе. \n",
        "# Кортеж состоит из названия и рейтинга кафе.\n",
        "# Необходимо отсортировать список кортежей по убыванию рейтинга. \n",
        "# Если рейтинги совпадают, \n",
        "# то отсортировать кафе дополнительно по названию в алфавитном порядке.\n",
        "# Получите словарь cafes с упорядоченными ключами из отсортированного списка, \n",
        "# где ключи — названия кафе, а значения — их рейтинг.\n",
        "ratings = [('Old York', 3.3), ('New Age', 4.6), ('Old Gold', 3.3), ('General Foods', 4.8),\n",
        "           ('Belissimo', 4.5), ('CakeAndCoffee', 4.2), ('CakeOClock', 4.2), ('CakeTime', 4.1),\n",
        "           ('WokToWork', 4.9), ('WokAndRice', 4.9), ('Old Wine Cellar', 3.3), ('Nice Cakes', 3.9)]\n",
        "\n",
        "# Отсортируйте список ratings по убыванию рейтинга. Для кафе\n",
        "# с одинаковым рейтингом отсортируйте кортежи по названию.\n",
        "\n",
        "\n",
        "# Сохраните данные с рейтингом в словарь cafes, где ключами являются\n",
        "# названия кафе, а значениями - их рейтинг.\n",
        "from collections import OrderedDict\n",
        "cafes = OrderedDict(sorted(ratings, key=lambda x: (-x[1], x[0])))\n",
        "print(cafes)"
      ],
      "metadata": {
        "id": "jeqU17mveDKJ",
        "colab": {
          "base_uri": "https://localhost:8080/"
        },
        "outputId": "22e5846b-7dae-4642-ef1b-9425b00e94f0"
      },
      "execution_count": null,
      "outputs": [
        {
          "output_type": "stream",
          "name": "stdout",
          "text": [
            "OrderedDict([('WokAndRice', 4.9), ('WokToWork', 4.9), ('General Foods', 4.8), ('New Age', 4.6), ('Belissimo', 4.5), ('CakeAndCoffee', 4.2), ('CakeOClock', 4.2), ('CakeTime', 4.1), ('Nice Cakes', 3.9), ('Old Gold', 3.3), ('Old Wine Cellar', 3.3), ('Old York', 3.3)])\n"
          ]
        }
      ]
    },
    {
      "cell_type": "markdown",
      "source": [
        "\n",
        "\n",
        "---\n",
        "\n"
      ],
      "metadata": {
        "id": "mKwjTEe3Ed6s"
      }
    },
    {
      "cell_type": "code",
      "source": [
        "# ЗАДАНИЕ 4.10\n",
        "# Напишите функцию task_manager, которая принимает список задач для нескольких серверов. \n",
        "# Каждый элемент списка состоит из кортежа \n",
        "# (<номер задачи>, <название сервера>, <высокий приоритет задачи>).\n",
        "\n",
        "# Функция должна создавать словарь и заполнять его задачами по следующему принципу: \n",
        "# название сервера — ключ, по которому хранится очередь задач для конкретного сервера. \n",
        "# Если поступает задача без высокого приоритета (последний элемент кортежа — False), \n",
        "# добавить номер задачи в конец очереди. Если приоритет высокий, добавить номер в начало.\n",
        "\n",
        "# Для словаря используйте defaultdict, для очереди — deque.\n",
        "\n",
        "# Функция возвращает полученный словарь с задачами.\n",
        "\n",
        "tasks1 = [(36871, 'office', False),\n",
        "(40690, 'office', False),\n",
        "(35364, 'voltage', False),\n",
        "(41667, 'voltage', True),\n",
        "(33850, 'office', False)]\n",
        "\n",
        "from collections import defaultdict\n",
        "from collections import deque\n",
        "\n",
        "def task_manager(tasks):\n",
        "    servers = defaultdict(deque)\n",
        "    for task, server, priority in tasks:\n",
        "        if priority:\n",
        "            servers[server].appendleft(task)\n",
        "        else:\n",
        "            servers[server].append(task)\n",
        "        \n",
        "    return servers\n",
        "\n",
        "\n",
        "print(task_manager(tasks1))"
      ],
      "metadata": {
        "colab": {
          "base_uri": "https://localhost:8080/"
        },
        "id": "_0mp3fn9EfNi",
        "outputId": "e0e17aa1-0791-431e-f8b4-346c01532fa1"
      },
      "execution_count": null,
      "outputs": [
        {
          "output_type": "stream",
          "name": "stdout",
          "text": [
            "defaultdict(<class 'collections.deque'>, {'office': deque([36871, 40690, 33850]), 'voltage': deque([41667, 35364])})\n"
          ]
        }
      ]
    },
    {
      "cell_type": "markdown",
      "source": [
        "\n",
        "\n",
        "---\n",
        "\n",
        "5. Модуль NumPy. Типы данных"
      ],
      "metadata": {
        "id": "KhHefV5Ziue4"
      }
    },
    {
      "cell_type": "code",
      "source": [
        "-(2**16)/2"
      ],
      "metadata": {
        "colab": {
          "base_uri": "https://localhost:8080/"
        },
        "id": "Rmy7O7qBivi3",
        "outputId": "fa94683a-ca12-407f-8595-ae9776e60350"
      },
      "execution_count": null,
      "outputs": [
        {
          "output_type": "execute_result",
          "data": {
            "text/plain": [
              "-32768.0"
            ]
          },
          "metadata": {},
          "execution_count": 5
        }
      ]
    },
    {
      "cell_type": "code",
      "source": [
        "(2**16)/2 - 1"
      ],
      "metadata": {
        "colab": {
          "base_uri": "https://localhost:8080/"
        },
        "id": "YGYWztGKjBFv",
        "outputId": "93e8c2d4-8742-4e8f-c181-2f7ba331a371"
      },
      "execution_count": null,
      "outputs": [
        {
          "output_type": "execute_result",
          "data": {
            "text/plain": [
              "32767.0"
            ]
          },
          "metadata": {},
          "execution_count": 6
        }
      ]
    },
    {
      "cell_type": "code",
      "source": [
        "import numpy as np\n",
        "a = np.int8(25)\n",
        "print(a)\n",
        "# 25"
      ],
      "metadata": {
        "colab": {
          "base_uri": "https://localhost:8080/"
        },
        "id": "GqKmmpY9kB9w",
        "outputId": "59306e57-75e5-4352-fa65-19db07d98527"
      },
      "execution_count": null,
      "outputs": [
        {
          "output_type": "stream",
          "name": "stdout",
          "text": [
            "25\n"
          ]
        }
      ]
    },
    {
      "cell_type": "code",
      "source": [
        "print(type(a))\n",
        "# <class 'numpy.int8'>"
      ],
      "metadata": {
        "colab": {
          "base_uri": "https://localhost:8080/"
        },
        "id": "mVuVOvzOkD7B",
        "outputId": "54b47f31-559b-46dd-81fd-6df3a79490dc"
      },
      "execution_count": null,
      "outputs": [
        {
          "output_type": "stream",
          "name": "stdout",
          "text": [
            "<class 'numpy.int8'>\n"
          ]
        }
      ]
    },
    {
      "cell_type": "code",
      "source": [
        "# Можно применить к самому\n",
        "# названию типа данных\n",
        "np.iinfo(np.int8)\n",
        "# iinfo(min=-128, max=127, dtype=int8)"
      ],
      "metadata": {
        "colab": {
          "base_uri": "https://localhost:8080/"
        },
        "id": "5R3ANTOpkMcH",
        "outputId": "c6e90854-bff0-44e0-a77a-1c9226ac0837"
      },
      "execution_count": null,
      "outputs": [
        {
          "output_type": "execute_result",
          "data": {
            "text/plain": [
              "iinfo(min=-128, max=127, dtype=int8)"
            ]
          },
          "metadata": {},
          "execution_count": 10
        }
      ]
    },
    {
      "cell_type": "code",
      "source": [
        "# Можно применить к существующему\n",
        "# конкретному объекту\n",
        "np.iinfo(a)\n",
        "# iinfo(min=-128, max=127, dtype=int8)"
      ],
      "metadata": {
        "colab": {
          "base_uri": "https://localhost:8080/"
        },
        "id": "j3khueLpkTLA",
        "outputId": "6396d173-ffc3-4f0c-861b-2b8733de5a82"
      },
      "execution_count": null,
      "outputs": [
        {
          "output_type": "execute_result",
          "data": {
            "text/plain": [
              "iinfo(min=-128, max=127, dtype=int8)"
            ]
          },
          "metadata": {},
          "execution_count": 11
        }
      ]
    },
    {
      "cell_type": "code",
      "source": [
        "np.iinfo(np.int16)"
      ],
      "metadata": {
        "colab": {
          "base_uri": "https://localhost:8080/"
        },
        "id": "ydsWe8TOkotI",
        "outputId": "65c6dab0-545a-4255-9b26-eee516464af9"
      },
      "execution_count": null,
      "outputs": [
        {
          "output_type": "execute_result",
          "data": {
            "text/plain": [
              "iinfo(min=-32768, max=32767, dtype=int16)"
            ]
          },
          "metadata": {},
          "execution_count": 12
        }
      ]
    },
    {
      "cell_type": "code",
      "source": [
        "np.iinfo(np.int32)"
      ],
      "metadata": {
        "colab": {
          "base_uri": "https://localhost:8080/"
        },
        "id": "CTx8wNXakrso",
        "outputId": "f47bcb05-5d30-40a9-ae5c-b8aa9a02778d"
      },
      "execution_count": null,
      "outputs": [
        {
          "output_type": "execute_result",
          "data": {
            "text/plain": [
              "iinfo(min=-2147483648, max=2147483647, dtype=int32)"
            ]
          },
          "metadata": {},
          "execution_count": 13
        }
      ]
    },
    {
      "cell_type": "code",
      "source": [
        "np.iinfo(np.int64)"
      ],
      "metadata": {
        "colab": {
          "base_uri": "https://localhost:8080/"
        },
        "id": "zwg8Q23Vk28_",
        "outputId": "a158a939-b268-45eb-cc10-d11961a0b5e5"
      },
      "execution_count": null,
      "outputs": [
        {
          "output_type": "execute_result",
          "data": {
            "text/plain": [
              "iinfo(min=-9223372036854775808, max=9223372036854775807, dtype=int64)"
            ]
          },
          "metadata": {},
          "execution_count": 14
        }
      ]
    },
    {
      "cell_type": "markdown",
      "source": [
        "\n",
        "\n",
        "---\n",
        "\n"
      ],
      "metadata": {
        "id": "P5CWRF9Wlani"
      }
    },
    {
      "cell_type": "code",
      "source": [
        "b = np.uint8(124)\n",
        "print(b)\n",
        "# 124\n",
        "print(type(b))\n",
        "# <class 'numpy.uint8'>\n",
        "np.iinfo(b)\n",
        "# iinfo(min=0, max=255, dtype=uint8)"
      ],
      "metadata": {
        "colab": {
          "base_uri": "https://localhost:8080/"
        },
        "id": "Yk1HbZp-leIm",
        "outputId": "78fdc76b-2801-4741-88d6-d1784fe7077c"
      },
      "execution_count": null,
      "outputs": [
        {
          "output_type": "stream",
          "name": "stdout",
          "text": [
            "124\n",
            "<class 'numpy.uint8'>\n"
          ]
        },
        {
          "output_type": "execute_result",
          "data": {
            "text/plain": [
              "iinfo(min=0, max=255, dtype=uint8)"
            ]
          },
          "metadata": {},
          "execution_count": 15
        }
      ]
    },
    {
      "cell_type": "code",
      "source": [
        "c = np.int8(124)\n",
        "print(c)\n",
        "print(type(c))\n",
        "np.iinfo(c)"
      ],
      "metadata": {
        "colab": {
          "base_uri": "https://localhost:8080/"
        },
        "id": "02qZpIdhlo5x",
        "outputId": "643b79f1-749b-4d0d-83de-0180a274baa0"
      },
      "execution_count": null,
      "outputs": [
        {
          "output_type": "stream",
          "name": "stdout",
          "text": [
            "124\n",
            "<class 'numpy.int8'>\n"
          ]
        },
        {
          "output_type": "execute_result",
          "data": {
            "text/plain": [
              "iinfo(min=-128, max=127, dtype=int8)"
            ]
          },
          "metadata": {},
          "execution_count": 18
        }
      ]
    },
    {
      "cell_type": "code",
      "source": [
        "a = np.int32(1000)\n",
        "print(a)\n",
        "# 1000\n",
        "print(type(a))\n",
        "# <class 'numpy.int32'>\n",
        "a = 2056\n",
        "print(a)\n",
        "# 2056\n",
        "print(type(a))\n",
        "# <class 'int'>"
      ],
      "metadata": {
        "colab": {
          "base_uri": "https://localhost:8080/"
        },
        "id": "RUEFvhRDmsFA",
        "outputId": "7e5a4b5b-8cb0-4375-a2d4-5d3321db81de"
      },
      "execution_count": null,
      "outputs": [
        {
          "output_type": "stream",
          "name": "stdout",
          "text": [
            "1000\n",
            "<class 'numpy.int32'>\n",
            "2056\n",
            "<class 'int'>\n"
          ]
        }
      ]
    },
    {
      "cell_type": "code",
      "source": [
        "a = np.int32(1000)\n",
        "print(a)\n",
        "# 1000\n",
        "print(type(a))\n",
        "# <class 'numpy.int32'>\n",
        "a = np.int32(2056)\n",
        "print(a)\n",
        "# 2056\n",
        "print(type(a))\n",
        "# <class 'numpy.int32'>"
      ],
      "metadata": {
        "colab": {
          "base_uri": "https://localhost:8080/"
        },
        "id": "3dNVjRopm73o",
        "outputId": "186d1818-8e0f-4f97-d026-6d188d62c73d"
      },
      "execution_count": null,
      "outputs": [
        {
          "output_type": "stream",
          "name": "stdout",
          "text": [
            "1000\n",
            "<class 'numpy.int32'>\n",
            "2056\n",
            "<class 'numpy.int32'>\n"
          ]
        }
      ]
    },
    {
      "cell_type": "code",
      "source": [
        "a = np.int32(1000)\n",
        "b = a + 25\n",
        "print(b)\n",
        "# 1025\n",
        "print(type(b))\n",
        "# <class 'numpy.int64'>"
      ],
      "metadata": {
        "colab": {
          "base_uri": "https://localhost:8080/"
        },
        "id": "lq955fVSnFLo",
        "outputId": "72f0398b-e7bb-4877-aef6-bce09fb1a2b1"
      },
      "execution_count": null,
      "outputs": [
        {
          "output_type": "stream",
          "name": "stdout",
          "text": [
            "1025\n",
            "<class 'numpy.int64'>\n"
          ]
        }
      ]
    },
    {
      "cell_type": "code",
      "source": [
        "a = np.int32(1000)\n",
        "b = np.int8(25)\n",
        "c = a + b\n",
        "print(c)\n",
        "# 1025\n",
        "print(type(c))\n",
        "# <class 'numpy.int32'>"
      ],
      "metadata": {
        "colab": {
          "base_uri": "https://localhost:8080/"
        },
        "id": "IWyW8AQFngeP",
        "outputId": "8711fc12-0c73-4207-c50f-bfdfbe8095c6"
      },
      "execution_count": null,
      "outputs": [
        {
          "output_type": "stream",
          "name": "stdout",
          "text": [
            "1025\n",
            "<class 'numpy.int32'>\n"
          ]
        }
      ]
    },
    {
      "cell_type": "code",
      "source": [
        "a = np.int8(260)\n",
        "print(a)\n",
        "# 4"
      ],
      "metadata": {
        "colab": {
          "base_uri": "https://localhost:8080/"
        },
        "id": "us9E_fQCn994",
        "outputId": "8153cd8d-ae2d-4e68-d2a7-d64f6269f89d"
      },
      "execution_count": null,
      "outputs": [
        {
          "output_type": "stream",
          "name": "stdout",
          "text": [
            "4\n"
          ]
        }
      ]
    },
    {
      "cell_type": "code",
      "source": [
        "a = np.int32(2147483610)\n",
        "b = np.int32(2147483605)\n",
        "print(a, b)\n",
        "# 2147483610 2147483605\n",
        "print(a + b)\n",
        "# -81\n",
        "# RuntimeWarning: overflow encountered in int_scalars\n",
        "# Переполнено int'овое значение"
      ],
      "metadata": {
        "colab": {
          "base_uri": "https://localhost:8080/"
        },
        "id": "0sPH4R8Eogfx",
        "outputId": "a7460447-e352-41c4-f19e-7022001dbcf2"
      },
      "execution_count": null,
      "outputs": [
        {
          "output_type": "stream",
          "name": "stdout",
          "text": [
            "2147483610 2147483605\n",
            "-81\n"
          ]
        },
        {
          "output_type": "stream",
          "name": "stderr",
          "text": [
            "/usr/local/lib/python3.7/dist-packages/ipykernel_launcher.py:5: RuntimeWarning: overflow encountered in int_scalars\n",
            "  \"\"\"\n"
          ]
        }
      ]
    },
    {
      "cell_type": "code",
      "source": [
        "a = np.int32(2147483610)\n",
        "b = np.int32(2147483605)\n",
        "print(a, b)\n",
        "# 2147483610 2147483605\n",
        "print(np.int64(a) + np.int64(b))\n",
        "# 4294967215"
      ],
      "metadata": {
        "colab": {
          "base_uri": "https://localhost:8080/"
        },
        "id": "d_ohOQD9osu_",
        "outputId": "4e0553c3-09b9-4c9c-bc62-d758f25837e9"
      },
      "execution_count": null,
      "outputs": [
        {
          "output_type": "stream",
          "name": "stdout",
          "text": [
            "2147483610 2147483605\n",
            "4294967215\n"
          ]
        }
      ]
    },
    {
      "cell_type": "code",
      "source": [
        "np.finfo(np.float16)\n",
        "# finfo(resolution=0.001, min=-6.55040e+04, max=6.55040e+04, dtype=float16)"
      ],
      "metadata": {
        "colab": {
          "base_uri": "https://localhost:8080/"
        },
        "id": "oevIpKcNpElf",
        "outputId": "5068cb48-9ab9-4ed8-e6f7-364f96439383"
      },
      "execution_count": null,
      "outputs": [
        {
          "output_type": "execute_result",
          "data": {
            "text/plain": [
              "finfo(resolution=0.001, min=-6.55040e+04, max=6.55040e+04, dtype=float16)"
            ]
          },
          "metadata": {},
          "execution_count": 27
        }
      ]
    },
    {
      "cell_type": "code",
      "source": [
        "np.finfo(np.float32)\n",
        "# finfo(resolution=1e-06, min=-3.4028235e+38, max=3.4028235e+38, dtype=float32)"
      ],
      "metadata": {
        "colab": {
          "base_uri": "https://localhost:8080/"
        },
        "id": "gEJTeE6rpP5X",
        "outputId": "5e1cfb87-302a-4530-9aa5-f920abe44326"
      },
      "execution_count": null,
      "outputs": [
        {
          "output_type": "execute_result",
          "data": {
            "text/plain": [
              "finfo(resolution=1e-06, min=-3.4028235e+38, max=3.4028235e+38, dtype=float32)"
            ]
          },
          "metadata": {},
          "execution_count": 28
        }
      ]
    },
    {
      "cell_type": "code",
      "source": [
        "np.finfo(np.float64)\n",
        "# finfo(resolution=1e-15, min=-1.7976931348623157e+308, max=1.7976931348623157e+308, dtype=float64)"
      ],
      "metadata": {
        "colab": {
          "base_uri": "https://localhost:8080/"
        },
        "id": "Y-aQwwo9pS-z",
        "outputId": "1cabe690-f51f-4fc4-b7f0-9e181eea7c57"
      },
      "execution_count": null,
      "outputs": [
        {
          "output_type": "execute_result",
          "data": {
            "text/plain": [
              "finfo(resolution=1e-15, min=-1.7976931348623157e+308, max=1.7976931348623157e+308, dtype=float64)"
            ]
          },
          "metadata": {},
          "execution_count": 29
        }
      ]
    },
    {
      "cell_type": "code",
      "source": [
        "np.finfo(np.float128)\n",
        "# finfo(resolution=1e-18, min=-1.189731495357231765e+4932, max=1.189731495357231765e+4932, dtype=float128)"
      ],
      "metadata": {
        "colab": {
          "base_uri": "https://localhost:8080/"
        },
        "id": "5bXw3QVbpVdP",
        "outputId": "f75a48d2-f9a1-4de7-a6a8-875834135a1e"
      },
      "execution_count": null,
      "outputs": [
        {
          "output_type": "execute_result",
          "data": {
            "text/plain": [
              "finfo(resolution=1e-18, min=-1.189731495357231765e+4932, max=1.189731495357231765e+4932, dtype=float128)"
            ]
          },
          "metadata": {},
          "execution_count": 30
        }
      ]
    },
    {
      "cell_type": "code",
      "source": [
        "print(np.float16(4.12))\n",
        "# 4.12\n",
        "print(np.float16(4.13))\n",
        "# 4.13\n",
        "print(np.float16(4.123))\n",
        "# 4.12\n",
        "print(np.float16(4.124))\n",
        "# 4.125\n",
        "print(np.float16(4.125))\n",
        "# 4.125"
      ],
      "metadata": {
        "colab": {
          "base_uri": "https://localhost:8080/"
        },
        "id": "tG0MnJpernp_",
        "outputId": "bff8e03f-a890-431e-80b1-e961e7392b85"
      },
      "execution_count": null,
      "outputs": [
        {
          "output_type": "stream",
          "name": "stdout",
          "text": [
            "4.12\n",
            "4.13\n",
            "4.12\n",
            "4.125\n",
            "4.125\n"
          ]
        }
      ]
    },
    {
      "cell_type": "code",
      "source": [
        "print(np.sctypeDict)\n",
        "print(len(np.sctypeDict))\n",
        "# 158, но может быть 135 или 139"
      ],
      "metadata": {
        "colab": {
          "base_uri": "https://localhost:8080/"
        },
        "id": "SaA9FaFrr4I_",
        "outputId": "9a149bf7-3331-4045-da88-686979179afa"
      },
      "execution_count": null,
      "outputs": [
        {
          "output_type": "stream",
          "name": "stdout",
          "text": [
            "{'?': <class 'numpy.bool_'>, 0: <class 'numpy.bool_'>, 'byte': <class 'numpy.int8'>, 'b': <class 'numpy.int8'>, 1: <class 'numpy.int8'>, 'ubyte': <class 'numpy.uint8'>, 'B': <class 'numpy.uint8'>, 2: <class 'numpy.uint8'>, 'short': <class 'numpy.int16'>, 'h': <class 'numpy.int16'>, 3: <class 'numpy.int16'>, 'ushort': <class 'numpy.uint16'>, 'H': <class 'numpy.uint16'>, 4: <class 'numpy.uint16'>, 'i': <class 'numpy.int32'>, 5: <class 'numpy.int32'>, 'uint': <class 'numpy.uint64'>, 'I': <class 'numpy.uint32'>, 6: <class 'numpy.uint32'>, 'intp': <class 'numpy.int64'>, 'p': <class 'numpy.int64'>, 7: <class 'numpy.int64'>, 'uintp': <class 'numpy.uint64'>, 'P': <class 'numpy.uint64'>, 8: <class 'numpy.uint64'>, 'long': <class 'numpy.int64'>, 'l': <class 'numpy.int64'>, 'L': <class 'numpy.uint64'>, 'longlong': <class 'numpy.longlong'>, 'q': <class 'numpy.longlong'>, 9: <class 'numpy.longlong'>, 'ulonglong': <class 'numpy.ulonglong'>, 'Q': <class 'numpy.ulonglong'>, 10: <class 'numpy.ulonglong'>, 'half': <class 'numpy.float16'>, 'e': <class 'numpy.float16'>, 23: <class 'numpy.float16'>, 'f': <class 'numpy.float32'>, 11: <class 'numpy.float32'>, 'double': <class 'numpy.float64'>, 'd': <class 'numpy.float64'>, 12: <class 'numpy.float64'>, 'longdouble': <class 'numpy.float128'>, 'g': <class 'numpy.float128'>, 13: <class 'numpy.float128'>, 'cfloat': <class 'numpy.complex128'>, 'F': <class 'numpy.complex64'>, 14: <class 'numpy.complex64'>, 'cdouble': <class 'numpy.complex128'>, 'D': <class 'numpy.complex128'>, 15: <class 'numpy.complex128'>, 'clongdouble': <class 'numpy.complex256'>, 'G': <class 'numpy.complex256'>, 16: <class 'numpy.complex256'>, 'O': <class 'numpy.object_'>, 17: <class 'numpy.object_'>, 'S': <class 'numpy.bytes_'>, 18: <class 'numpy.bytes_'>, 'unicode': <class 'numpy.str_'>, 'U': <class 'numpy.str_'>, 19: <class 'numpy.str_'>, 'void': <class 'numpy.void'>, 'V': <class 'numpy.void'>, 20: <class 'numpy.void'>, 'M': <class 'numpy.datetime64'>, 21: <class 'numpy.datetime64'>, 'm': <class 'numpy.timedelta64'>, 22: <class 'numpy.timedelta64'>, 'bool8': <class 'numpy.bool_'>, 'b1': <class 'numpy.bool_'>, 'int64': <class 'numpy.int64'>, 'i8': <class 'numpy.int64'>, 'uint64': <class 'numpy.uint64'>, 'u8': <class 'numpy.uint64'>, 'float16': <class 'numpy.float16'>, 'f2': <class 'numpy.float16'>, 'float32': <class 'numpy.float32'>, 'f4': <class 'numpy.float32'>, 'float64': <class 'numpy.float64'>, 'f8': <class 'numpy.float64'>, 'float128': <class 'numpy.float128'>, 'f16': <class 'numpy.float128'>, 'complex64': <class 'numpy.complex64'>, 'c8': <class 'numpy.complex64'>, 'complex128': <class 'numpy.complex128'>, 'c16': <class 'numpy.complex128'>, 'complex256': <class 'numpy.complex256'>, 'c32': <class 'numpy.complex256'>, 'object0': <class 'numpy.object_'>, 'bytes0': <class 'numpy.bytes_'>, 'str0': <class 'numpy.str_'>, 'void0': <class 'numpy.void'>, 'datetime64': <class 'numpy.datetime64'>, 'M8': <class 'numpy.datetime64'>, 'timedelta64': <class 'numpy.timedelta64'>, 'm8': <class 'numpy.timedelta64'>, 'Bytes0': <class 'numpy.bytes_'>, 'Datetime64': <class 'numpy.datetime64'>, 'Str0': <class 'numpy.str_'>, 'Uint64': <class 'numpy.uint64'>, 'int32': <class 'numpy.int32'>, 'i4': <class 'numpy.int32'>, 'uint32': <class 'numpy.uint32'>, 'u4': <class 'numpy.uint32'>, 'int16': <class 'numpy.int16'>, 'i2': <class 'numpy.int16'>, 'uint16': <class 'numpy.uint16'>, 'u2': <class 'numpy.uint16'>, 'int8': <class 'numpy.int8'>, 'i1': <class 'numpy.int8'>, 'uint8': <class 'numpy.uint8'>, 'u1': <class 'numpy.uint8'>, 'complex_': <class 'numpy.complex128'>, 'int0': <class 'numpy.int64'>, 'uint0': <class 'numpy.uint64'>, 'single': <class 'numpy.float32'>, 'csingle': <class 'numpy.complex64'>, 'singlecomplex': <class 'numpy.complex64'>, 'float_': <class 'numpy.float64'>, 'intc': <class 'numpy.int32'>, 'uintc': <class 'numpy.uint32'>, 'int_': <class 'numpy.int64'>, 'longfloat': <class 'numpy.float128'>, 'clongfloat': <class 'numpy.complex256'>, 'longcomplex': <class 'numpy.complex256'>, 'bool_': <class 'numpy.bool_'>, 'bytes_': <class 'numpy.bytes_'>, 'string_': <class 'numpy.bytes_'>, 'str_': <class 'numpy.str_'>, 'unicode_': <class 'numpy.str_'>, 'object_': <class 'numpy.object_'>, 'int': <class 'numpy.int64'>, 'float': <class 'numpy.float64'>, 'complex': <class 'numpy.complex128'>, 'bool': <class 'numpy.bool_'>, 'object': <class 'numpy.object_'>, 'str': <class 'numpy.str_'>, 'bytes': <class 'numpy.bytes_'>, 'a': <class 'numpy.bytes_'>}\n",
            "139\n"
          ]
        }
      ]
    },
    {
      "cell_type": "code",
      "source": [
        "print(*sorted(map(str, set(np.sctypeDict.values()))), sep='\\n')"
      ],
      "metadata": {
        "colab": {
          "base_uri": "https://localhost:8080/"
        },
        "id": "vIpbSktusDab",
        "outputId": "3155fd03-6817-42b0-9122-021ee4befdc8"
      },
      "execution_count": null,
      "outputs": [
        {
          "output_type": "stream",
          "name": "stdout",
          "text": [
            "<class 'numpy.bool_'>\n",
            "<class 'numpy.bytes_'>\n",
            "<class 'numpy.complex128'>\n",
            "<class 'numpy.complex256'>\n",
            "<class 'numpy.complex64'>\n",
            "<class 'numpy.datetime64'>\n",
            "<class 'numpy.float128'>\n",
            "<class 'numpy.float16'>\n",
            "<class 'numpy.float32'>\n",
            "<class 'numpy.float64'>\n",
            "<class 'numpy.int16'>\n",
            "<class 'numpy.int32'>\n",
            "<class 'numpy.int64'>\n",
            "<class 'numpy.int8'>\n",
            "<class 'numpy.longlong'>\n",
            "<class 'numpy.object_'>\n",
            "<class 'numpy.str_'>\n",
            "<class 'numpy.timedelta64'>\n",
            "<class 'numpy.uint16'>\n",
            "<class 'numpy.uint32'>\n",
            "<class 'numpy.uint64'>\n",
            "<class 'numpy.uint8'>\n",
            "<class 'numpy.ulonglong'>\n",
            "<class 'numpy.void'>\n"
          ]
        }
      ]
    },
    {
      "cell_type": "code",
      "source": [
        "a = True\n",
        "print(type(a))\n",
        "# <class 'bool'>\n",
        "a = np.bool(a)\n",
        "print(type(a))\n",
        "# <class 'bool'>\n",
        "a = np.bool_(a)\n",
        "print(type(a))\n",
        "# <class 'numpy.bool_'>\n",
        " \n",
        "# Значения равны\n",
        "print(np.bool(True) == np.bool_(True))\n",
        "# True\n",
        "# А типы — нет:\n",
        "print(type(np.bool(True)) == type(np.bool_(True)))\n",
        "# False"
      ],
      "metadata": {
        "colab": {
          "base_uri": "https://localhost:8080/"
        },
        "id": "4ZTiPNUetVAQ",
        "outputId": "780b55c3-8c89-4598-e789-e7bede2fee01"
      },
      "execution_count": null,
      "outputs": [
        {
          "output_type": "stream",
          "name": "stdout",
          "text": [
            "<class 'bool'>\n",
            "<class 'bool'>\n",
            "<class 'numpy.bool_'>\n",
            "True\n",
            "False\n"
          ]
        },
        {
          "output_type": "stream",
          "name": "stderr",
          "text": [
            "/usr/local/lib/python3.7/dist-packages/ipykernel_launcher.py:4: DeprecationWarning: `np.bool` is a deprecated alias for the builtin `bool`. To silence this warning, use `bool` by itself. Doing this will not modify any behavior and is safe. If you specifically wanted the numpy scalar type, use `np.bool_` here.\n",
            "Deprecated in NumPy 1.20; for more details and guidance: https://numpy.org/devdocs/release/1.20.0-notes.html#deprecations\n",
            "  after removing the cwd from sys.path.\n",
            "/usr/local/lib/python3.7/dist-packages/ipykernel_launcher.py:12: DeprecationWarning: `np.bool` is a deprecated alias for the builtin `bool`. To silence this warning, use `bool` by itself. Doing this will not modify any behavior and is safe. If you specifically wanted the numpy scalar type, use `np.bool_` here.\n",
            "Deprecated in NumPy 1.20; for more details and guidance: https://numpy.org/devdocs/release/1.20.0-notes.html#deprecations\n",
            "  if sys.path[0] == '':\n",
            "/usr/local/lib/python3.7/dist-packages/ipykernel_launcher.py:15: DeprecationWarning: `np.bool` is a deprecated alias for the builtin `bool`. To silence this warning, use `bool` by itself. Doing this will not modify any behavior and is safe. If you specifically wanted the numpy scalar type, use `np.bool_` here.\n",
            "Deprecated in NumPy 1.20; for more details and guidance: https://numpy.org/devdocs/release/1.20.0-notes.html#deprecations\n",
            "  from ipykernel import kernelapp as app\n"
          ]
        }
      ]
    },
    {
      "cell_type": "code",
      "source": [
        "a = \"Hello world!\"\n",
        "print(type(a))\n",
        "# <class 'str'>\n",
        "a = np.str(a)\n",
        "print(type(a))\n",
        "# <class 'str'>\n",
        "a = np.str_(a)\n",
        "print(type(a))\n",
        "# <class 'numpy.str_'>"
      ],
      "metadata": {
        "colab": {
          "base_uri": "https://localhost:8080/"
        },
        "id": "55-tEtb4tgrv",
        "outputId": "22593740-06be-4214-ed8b-1f09f831ffc3"
      },
      "execution_count": null,
      "outputs": [
        {
          "output_type": "stream",
          "name": "stdout",
          "text": [
            "<class 'str'>\n",
            "<class 'str'>\n",
            "<class 'numpy.str_'>\n"
          ]
        },
        {
          "output_type": "stream",
          "name": "stderr",
          "text": [
            "/usr/local/lib/python3.7/dist-packages/ipykernel_launcher.py:4: DeprecationWarning: `np.str` is a deprecated alias for the builtin `str`. To silence this warning, use `str` by itself. Doing this will not modify any behavior and is safe. If you specifically wanted the numpy scalar type, use `np.str_` here.\n",
            "Deprecated in NumPy 1.20; for more details and guidance: https://numpy.org/devdocs/release/1.20.0-notes.html#deprecations\n",
            "  after removing the cwd from sys.path.\n"
          ]
        }
      ]
    },
    {
      "cell_type": "code",
      "source": [
        "b = np.uint8(-456)\n",
        "print(b)"
      ],
      "metadata": {
        "id": "kpe8JMusvzkn",
        "outputId": "d0e84eb8-1a54-4b7d-b286-586f17a37ad7",
        "colab": {
          "base_uri": "https://localhost:8080/"
        }
      },
      "execution_count": null,
      "outputs": [
        {
          "output_type": "stream",
          "name": "stdout",
          "text": [
            "56\n"
          ]
        }
      ]
    }
  ]
}