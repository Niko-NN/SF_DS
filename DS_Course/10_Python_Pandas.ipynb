{
  "cells": [
    {
      "cell_type": "code",
      "execution_count": null,
      "metadata": {
        "colab": {
          "base_uri": "https://localhost:8080/",
          "height": 35
        },
        "id": "_3yS4QPs9sTF",
        "outputId": "30d347ea-82ff-448b-bf8c-b1ddf11af186"
      },
      "outputs": [
        {
          "data": {
            "application/vnd.google.colaboratory.intrinsic+json": {
              "type": "string"
            },
            "text/plain": [
              "'1.3.5'"
            ]
          },
          "execution_count": 1,
          "metadata": {},
          "output_type": "execute_result"
        }
      ],
      "source": [
        "import pandas as pd\n",
        "pd.__version__"
      ]
    },
    {
      "cell_type": "code",
      "execution_count": null,
      "metadata": {
        "colab": {
          "base_uri": "https://localhost:8080/"
        },
        "id": "w2-iajFz92vr",
        "outputId": "e2439036-7bf5-4ae9-a1bb-8d72d81a510a"
      },
      "outputs": [
        {
          "name": "stdout",
          "output_type": "stream",
          "text": [
            "pandas\n"
          ]
        }
      ],
      "source": [
        "print(pd.__name__)"
      ]
    },
    {
      "cell_type": "code",
      "execution_count": null,
      "metadata": {
        "colab": {
          "base_uri": "https://localhost:8080/",
          "height": 156
        },
        "id": "OZoUNoKS_Ss7",
        "outputId": "04950e99-26f3-4077-a341-185e86ec8510"
      },
      "outputs": [
        {
          "data": {
            "text/plain": [
              "UK       Англия\n",
              "CA       Канада\n",
              "US          США\n",
              "RU       Россия\n",
              "UA      Украина\n",
              "BY     Беларусь\n",
              "KZ    Казахстан\n",
              "Name: countries, dtype: object"
            ]
          },
          "metadata": {},
          "output_type": "display_data"
        }
      ],
      "source": [
        "countries = pd.Series(\n",
        "    data = ['Англия', 'Канада', 'США', 'Россия', 'Украина', 'Беларусь', 'Казахстан'],\n",
        "    index = ['UK', 'CA', 'US', 'RU', 'UA', 'BY', 'KZ'],\n",
        "    name = 'countries'\n",
        ")\n",
        "display(countries)"
      ]
    },
    {
      "cell_type": "code",
      "execution_count": null,
      "metadata": {
        "colab": {
          "base_uri": "https://localhost:8080/"
        },
        "id": "p7urQlYLA2i6",
        "outputId": "817de6e9-32e7-4991-e5bf-b8dd7c194801"
      },
      "outputs": [
        {
          "name": "stdout",
          "output_type": "stream",
          "text": [
            "США\n"
          ]
        }
      ],
      "source": [
        "print(countries.loc['US'])\n",
        "# США"
      ]
    },
    {
      "cell_type": "code",
      "execution_count": null,
      "metadata": {
        "colab": {
          "base_uri": "https://localhost:8080/"
        },
        "id": "RXU0jqnoBYPY",
        "outputId": "097627c2-83f1-4984-ad07-51dbd6133fc6"
      },
      "outputs": [
        {
          "name": "stdout",
          "output_type": "stream",
          "text": [
            "US       США\n",
            "RU    Россия\n",
            "UK    Англия\n",
            "Name: countries, dtype: object\n"
          ]
        }
      ],
      "source": [
        "print(countries.loc[['US', 'RU', 'UK']])"
      ]
    },
    {
      "cell_type": "code",
      "execution_count": null,
      "metadata": {
        "colab": {
          "base_uri": "https://localhost:8080/"
        },
        "id": "B01K4J_aBTog",
        "outputId": "45208fa6-0ede-453e-d7fc-979dda53c3a5"
      },
      "outputs": [
        {
          "name": "stdout",
          "output_type": "stream",
          "text": [
            "Казахстан\n"
          ]
        }
      ],
      "source": [
        "print(countries.iloc[6])\n",
        "# Казахстан"
      ]
    },
    {
      "cell_type": "code",
      "execution_count": null,
      "metadata": {
        "colab": {
          "base_uri": "https://localhost:8080/"
        },
        "id": "SEfMQKQuBfVw",
        "outputId": "e162b4e8-8c54-48fb-b07b-e54b57a73da0"
      },
      "outputs": [
        {
          "name": "stdout",
          "output_type": "stream",
          "text": [
            "CA    Канада\n",
            "US       США\n",
            "RU    Россия\n",
            "Name: countries, dtype: object\n"
          ]
        }
      ],
      "source": [
        "print(countries.iloc[1:4])"
      ]
    },
    {
      "cell_type": "markdown",
      "metadata": {
        "id": "od6wGP_7C0uo"
      },
      "source": [
        "\n",
        "\n",
        "---\n",
        "\n"
      ]
    },
    {
      "cell_type": "code",
      "execution_count": null,
      "metadata": {
        "colab": {
          "base_uri": "https://localhost:8080/"
        },
        "id": "WTy5QNQXC1x_",
        "outputId": "3dfdd261-3f67-4c17-d151-d45feb9fb456"
      },
      "outputs": [
        {
          "name": "stdout",
          "output_type": "stream",
          "text": [
            "37.5\n"
          ]
        }
      ],
      "source": [
        "# ЗАДАНИЕ 2.4\n",
        "import pandas as pd\n",
        "\n",
        "def create_medications(names, counts):\n",
        "    \"\"\"\n",
        "    Напишите функцию create_mediactions(names, counts), которая  создает Series medications,\n",
        "    индексами которой являются названия лекарств names, а значениями - их количество в поставке counts\n",
        "    \"\"\"\n",
        "    medications = pd.Series(index = names, data = counts)\n",
        "    return medications\n",
        "   \n",
        "\n",
        "def get_percent(medications, name):\n",
        "    \"\"\"\n",
        "    А также напишите функцию get_percent(medications, name), которая возвращает долю количества товара\n",
        "    с именем name от общего количества товаров в поставке в процентах.\n",
        "    \"\"\"\n",
        "    percent = medications.loc[name] / medications.sum() *100\n",
        "    return percent\n",
        "\n",
        "\n",
        "if __name__ == '__main__':\n",
        "    names=['chlorhexidine', 'cyntomycin', 'afobazol']\n",
        "    counts=[15, 18, 7]\n",
        "    medications = create_medications(names, counts)\n",
        "    print(get_percent(medications, \"chlorhexidine\")) #37.5"
      ]
    },
    {
      "cell_type": "markdown",
      "metadata": {
        "id": "TQqpuPv0avn_"
      },
      "source": [
        "\n",
        "\n",
        "---\n",
        "\n",
        "# 3. Pandas.DataFrame"
      ]
    },
    {
      "cell_type": "code",
      "execution_count": null,
      "metadata": {
        "colab": {
          "base_uri": "https://localhost:8080/",
          "height": 269
        },
        "id": "Hv0-JkQ5SbAj",
        "outputId": "a4144cf1-ab72-4f24-d7bc-9a06b60aed9e"
      },
      "outputs": [
        {
          "data": {
            "text/html": [
              "\n",
              "  <div id=\"df-88d67297-5e0e-477e-afe4-fdc1fbc6ba5f\">\n",
              "    <div class=\"colab-df-container\">\n",
              "      <div>\n",
              "<style scoped>\n",
              "    .dataframe tbody tr th:only-of-type {\n",
              "        vertical-align: middle;\n",
              "    }\n",
              "\n",
              "    .dataframe tbody tr th {\n",
              "        vertical-align: top;\n",
              "    }\n",
              "\n",
              "    .dataframe thead th {\n",
              "        text-align: right;\n",
              "    }\n",
              "</style>\n",
              "<table border=\"1\" class=\"dataframe\">\n",
              "  <thead>\n",
              "    <tr style=\"text-align: right;\">\n",
              "      <th></th>\n",
              "      <th>country</th>\n",
              "      <th>population</th>\n",
              "      <th>square</th>\n",
              "    </tr>\n",
              "  </thead>\n",
              "  <tbody>\n",
              "    <tr>\n",
              "      <th>0</th>\n",
              "      <td>Англия</td>\n",
              "      <td>56.29</td>\n",
              "      <td>133396</td>\n",
              "    </tr>\n",
              "    <tr>\n",
              "      <th>1</th>\n",
              "      <td>Канада</td>\n",
              "      <td>38.05</td>\n",
              "      <td>9984670</td>\n",
              "    </tr>\n",
              "    <tr>\n",
              "      <th>2</th>\n",
              "      <td>США</td>\n",
              "      <td>322.28</td>\n",
              "      <td>9826630</td>\n",
              "    </tr>\n",
              "    <tr>\n",
              "      <th>3</th>\n",
              "      <td>Россия</td>\n",
              "      <td>146.24</td>\n",
              "      <td>17125191</td>\n",
              "    </tr>\n",
              "    <tr>\n",
              "      <th>4</th>\n",
              "      <td>Украина</td>\n",
              "      <td>45.50</td>\n",
              "      <td>603628</td>\n",
              "    </tr>\n",
              "    <tr>\n",
              "      <th>5</th>\n",
              "      <td>Беларусь</td>\n",
              "      <td>9.50</td>\n",
              "      <td>207600</td>\n",
              "    </tr>\n",
              "    <tr>\n",
              "      <th>6</th>\n",
              "      <td>Казахстан</td>\n",
              "      <td>17.04</td>\n",
              "      <td>2724902</td>\n",
              "    </tr>\n",
              "  </tbody>\n",
              "</table>\n",
              "</div>\n",
              "      <button class=\"colab-df-convert\" onclick=\"convertToInteractive('df-88d67297-5e0e-477e-afe4-fdc1fbc6ba5f')\"\n",
              "              title=\"Convert this dataframe to an interactive table.\"\n",
              "              style=\"display:none;\">\n",
              "        \n",
              "  <svg xmlns=\"http://www.w3.org/2000/svg\" height=\"24px\"viewBox=\"0 0 24 24\"\n",
              "       width=\"24px\">\n",
              "    <path d=\"M0 0h24v24H0V0z\" fill=\"none\"/>\n",
              "    <path d=\"M18.56 5.44l.94 2.06.94-2.06 2.06-.94-2.06-.94-.94-2.06-.94 2.06-2.06.94zm-11 1L8.5 8.5l.94-2.06 2.06-.94-2.06-.94L8.5 2.5l-.94 2.06-2.06.94zm10 10l.94 2.06.94-2.06 2.06-.94-2.06-.94-.94-2.06-.94 2.06-2.06.94z\"/><path d=\"M17.41 7.96l-1.37-1.37c-.4-.4-.92-.59-1.43-.59-.52 0-1.04.2-1.43.59L10.3 9.45l-7.72 7.72c-.78.78-.78 2.05 0 2.83L4 21.41c.39.39.9.59 1.41.59.51 0 1.02-.2 1.41-.59l7.78-7.78 2.81-2.81c.8-.78.8-2.07 0-2.86zM5.41 20L4 18.59l7.72-7.72 1.47 1.35L5.41 20z\"/>\n",
              "  </svg>\n",
              "      </button>\n",
              "      \n",
              "  <style>\n",
              "    .colab-df-container {\n",
              "      display:flex;\n",
              "      flex-wrap:wrap;\n",
              "      gap: 12px;\n",
              "    }\n",
              "\n",
              "    .colab-df-convert {\n",
              "      background-color: #E8F0FE;\n",
              "      border: none;\n",
              "      border-radius: 50%;\n",
              "      cursor: pointer;\n",
              "      display: none;\n",
              "      fill: #1967D2;\n",
              "      height: 32px;\n",
              "      padding: 0 0 0 0;\n",
              "      width: 32px;\n",
              "    }\n",
              "\n",
              "    .colab-df-convert:hover {\n",
              "      background-color: #E2EBFA;\n",
              "      box-shadow: 0px 1px 2px rgba(60, 64, 67, 0.3), 0px 1px 3px 1px rgba(60, 64, 67, 0.15);\n",
              "      fill: #174EA6;\n",
              "    }\n",
              "\n",
              "    [theme=dark] .colab-df-convert {\n",
              "      background-color: #3B4455;\n",
              "      fill: #D2E3FC;\n",
              "    }\n",
              "\n",
              "    [theme=dark] .colab-df-convert:hover {\n",
              "      background-color: #434B5C;\n",
              "      box-shadow: 0px 1px 3px 1px rgba(0, 0, 0, 0.15);\n",
              "      filter: drop-shadow(0px 1px 2px rgba(0, 0, 0, 0.3));\n",
              "      fill: #FFFFFF;\n",
              "    }\n",
              "  </style>\n",
              "\n",
              "      <script>\n",
              "        const buttonEl =\n",
              "          document.querySelector('#df-88d67297-5e0e-477e-afe4-fdc1fbc6ba5f button.colab-df-convert');\n",
              "        buttonEl.style.display =\n",
              "          google.colab.kernel.accessAllowed ? 'block' : 'none';\n",
              "\n",
              "        async function convertToInteractive(key) {\n",
              "          const element = document.querySelector('#df-88d67297-5e0e-477e-afe4-fdc1fbc6ba5f');\n",
              "          const dataTable =\n",
              "            await google.colab.kernel.invokeFunction('convertToInteractive',\n",
              "                                                     [key], {});\n",
              "          if (!dataTable) return;\n",
              "\n",
              "          const docLinkHtml = 'Like what you see? Visit the ' +\n",
              "            '<a target=\"_blank\" href=https://colab.research.google.com/notebooks/data_table.ipynb>data table notebook</a>'\n",
              "            + ' to learn more about interactive tables.';\n",
              "          element.innerHTML = '';\n",
              "          dataTable['output_type'] = 'display_data';\n",
              "          await google.colab.output.renderOutput(dataTable, element);\n",
              "          const docLink = document.createElement('div');\n",
              "          docLink.innerHTML = docLinkHtml;\n",
              "          element.appendChild(docLink);\n",
              "        }\n",
              "      </script>\n",
              "    </div>\n",
              "  </div>\n",
              "  "
            ],
            "text/plain": [
              "     country  population    square\n",
              "0     Англия       56.29    133396\n",
              "1     Канада       38.05   9984670\n",
              "2        США      322.28   9826630\n",
              "3     Россия      146.24  17125191\n",
              "4    Украина       45.50    603628\n",
              "5   Беларусь        9.50    207600\n",
              "6  Казахстан       17.04   2724902"
            ]
          },
          "execution_count": 17,
          "metadata": {},
          "output_type": "execute_result"
        }
      ],
      "source": [
        "countries_df = pd.DataFrame({\n",
        "    'country': ['Англия', 'Канада', 'США', 'Россия', 'Украина', 'Беларусь', 'Казахстан'],\n",
        "    'population': [56.29, 38.05, 322.28, 146.24, 45.5, 9.5, 17.04],\n",
        "    'square': [133396, 9984670, 9826630, 17125191, 603628, 207600, 2724902]\n",
        "})\n",
        "countries_df"
      ]
    },
    {
      "cell_type": "code",
      "execution_count": null,
      "metadata": {
        "colab": {
          "base_uri": "https://localhost:8080/",
          "height": 269
        },
        "id": "_vwyK8BBSpm7",
        "outputId": "e3226fb6-dd0c-45f0-d083-5652dadbb768"
      },
      "outputs": [
        {
          "data": {
            "text/html": [
              "\n",
              "  <div id=\"df-c9108b20-9583-4401-9150-2192a2aa762b\">\n",
              "    <div class=\"colab-df-container\">\n",
              "      <div>\n",
              "<style scoped>\n",
              "    .dataframe tbody tr th:only-of-type {\n",
              "        vertical-align: middle;\n",
              "    }\n",
              "\n",
              "    .dataframe tbody tr th {\n",
              "        vertical-align: top;\n",
              "    }\n",
              "\n",
              "    .dataframe thead th {\n",
              "        text-align: right;\n",
              "    }\n",
              "</style>\n",
              "<table border=\"1\" class=\"dataframe\">\n",
              "  <thead>\n",
              "    <tr style=\"text-align: right;\">\n",
              "      <th></th>\n",
              "      <th>country</th>\n",
              "      <th>population</th>\n",
              "      <th>square</th>\n",
              "    </tr>\n",
              "  </thead>\n",
              "  <tbody>\n",
              "    <tr>\n",
              "      <th>UK</th>\n",
              "      <td>Англия</td>\n",
              "      <td>56.29</td>\n",
              "      <td>133396</td>\n",
              "    </tr>\n",
              "    <tr>\n",
              "      <th>CA</th>\n",
              "      <td>Канада</td>\n",
              "      <td>38.05</td>\n",
              "      <td>9984670</td>\n",
              "    </tr>\n",
              "    <tr>\n",
              "      <th>US</th>\n",
              "      <td>США</td>\n",
              "      <td>322.28</td>\n",
              "      <td>9826630</td>\n",
              "    </tr>\n",
              "    <tr>\n",
              "      <th>RU</th>\n",
              "      <td>Россия</td>\n",
              "      <td>146.24</td>\n",
              "      <td>17125191</td>\n",
              "    </tr>\n",
              "    <tr>\n",
              "      <th>UA</th>\n",
              "      <td>Украина</td>\n",
              "      <td>45.50</td>\n",
              "      <td>603628</td>\n",
              "    </tr>\n",
              "    <tr>\n",
              "      <th>BY</th>\n",
              "      <td>Беларусь</td>\n",
              "      <td>9.50</td>\n",
              "      <td>207600</td>\n",
              "    </tr>\n",
              "    <tr>\n",
              "      <th>KZ</th>\n",
              "      <td>Казахстан</td>\n",
              "      <td>17.04</td>\n",
              "      <td>2724902</td>\n",
              "    </tr>\n",
              "  </tbody>\n",
              "</table>\n",
              "</div>\n",
              "      <button class=\"colab-df-convert\" onclick=\"convertToInteractive('df-c9108b20-9583-4401-9150-2192a2aa762b')\"\n",
              "              title=\"Convert this dataframe to an interactive table.\"\n",
              "              style=\"display:none;\">\n",
              "        \n",
              "  <svg xmlns=\"http://www.w3.org/2000/svg\" height=\"24px\"viewBox=\"0 0 24 24\"\n",
              "       width=\"24px\">\n",
              "    <path d=\"M0 0h24v24H0V0z\" fill=\"none\"/>\n",
              "    <path d=\"M18.56 5.44l.94 2.06.94-2.06 2.06-.94-2.06-.94-.94-2.06-.94 2.06-2.06.94zm-11 1L8.5 8.5l.94-2.06 2.06-.94-2.06-.94L8.5 2.5l-.94 2.06-2.06.94zm10 10l.94 2.06.94-2.06 2.06-.94-2.06-.94-.94-2.06-.94 2.06-2.06.94z\"/><path d=\"M17.41 7.96l-1.37-1.37c-.4-.4-.92-.59-1.43-.59-.52 0-1.04.2-1.43.59L10.3 9.45l-7.72 7.72c-.78.78-.78 2.05 0 2.83L4 21.41c.39.39.9.59 1.41.59.51 0 1.02-.2 1.41-.59l7.78-7.78 2.81-2.81c.8-.78.8-2.07 0-2.86zM5.41 20L4 18.59l7.72-7.72 1.47 1.35L5.41 20z\"/>\n",
              "  </svg>\n",
              "      </button>\n",
              "      \n",
              "  <style>\n",
              "    .colab-df-container {\n",
              "      display:flex;\n",
              "      flex-wrap:wrap;\n",
              "      gap: 12px;\n",
              "    }\n",
              "\n",
              "    .colab-df-convert {\n",
              "      background-color: #E8F0FE;\n",
              "      border: none;\n",
              "      border-radius: 50%;\n",
              "      cursor: pointer;\n",
              "      display: none;\n",
              "      fill: #1967D2;\n",
              "      height: 32px;\n",
              "      padding: 0 0 0 0;\n",
              "      width: 32px;\n",
              "    }\n",
              "\n",
              "    .colab-df-convert:hover {\n",
              "      background-color: #E2EBFA;\n",
              "      box-shadow: 0px 1px 2px rgba(60, 64, 67, 0.3), 0px 1px 3px 1px rgba(60, 64, 67, 0.15);\n",
              "      fill: #174EA6;\n",
              "    }\n",
              "\n",
              "    [theme=dark] .colab-df-convert {\n",
              "      background-color: #3B4455;\n",
              "      fill: #D2E3FC;\n",
              "    }\n",
              "\n",
              "    [theme=dark] .colab-df-convert:hover {\n",
              "      background-color: #434B5C;\n",
              "      box-shadow: 0px 1px 3px 1px rgba(0, 0, 0, 0.15);\n",
              "      filter: drop-shadow(0px 1px 2px rgba(0, 0, 0, 0.3));\n",
              "      fill: #FFFFFF;\n",
              "    }\n",
              "  </style>\n",
              "\n",
              "      <script>\n",
              "        const buttonEl =\n",
              "          document.querySelector('#df-c9108b20-9583-4401-9150-2192a2aa762b button.colab-df-convert');\n",
              "        buttonEl.style.display =\n",
              "          google.colab.kernel.accessAllowed ? 'block' : 'none';\n",
              "\n",
              "        async function convertToInteractive(key) {\n",
              "          const element = document.querySelector('#df-c9108b20-9583-4401-9150-2192a2aa762b');\n",
              "          const dataTable =\n",
              "            await google.colab.kernel.invokeFunction('convertToInteractive',\n",
              "                                                     [key], {});\n",
              "          if (!dataTable) return;\n",
              "\n",
              "          const docLinkHtml = 'Like what you see? Visit the ' +\n",
              "            '<a target=\"_blank\" href=https://colab.research.google.com/notebooks/data_table.ipynb>data table notebook</a>'\n",
              "            + ' to learn more about interactive tables.';\n",
              "          element.innerHTML = '';\n",
              "          dataTable['output_type'] = 'display_data';\n",
              "          await google.colab.output.renderOutput(dataTable, element);\n",
              "          const docLink = document.createElement('div');\n",
              "          docLink.innerHTML = docLinkHtml;\n",
              "          element.appendChild(docLink);\n",
              "        }\n",
              "      </script>\n",
              "    </div>\n",
              "  </div>\n",
              "  "
            ],
            "text/plain": [
              "      country  population    square\n",
              "UK     Англия       56.29    133396\n",
              "CA     Канада       38.05   9984670\n",
              "US        США      322.28   9826630\n",
              "RU     Россия      146.24  17125191\n",
              "UA    Украина       45.50    603628\n",
              "BY   Беларусь        9.50    207600\n",
              "KZ  Казахстан       17.04   2724902"
            ]
          },
          "metadata": {},
          "output_type": "display_data"
        }
      ],
      "source": [
        "countries_df.index = ['UK', 'CA', 'US', 'RU', 'UA', 'BY', 'KZ']\n",
        "display(countries_df)"
      ]
    },
    {
      "cell_type": "code",
      "execution_count": null,
      "metadata": {
        "colab": {
          "base_uri": "https://localhost:8080/",
          "height": 269
        },
        "id": "oniEsBbvSvZz",
        "outputId": "9a1e77e7-6f60-4312-f6a9-88bee3287d4c"
      },
      "outputs": [
        {
          "data": {
            "text/html": [
              "\n",
              "  <div id=\"df-eafe7990-b4d6-479a-8b87-775dad33e992\">\n",
              "    <div class=\"colab-df-container\">\n",
              "      <div>\n",
              "<style scoped>\n",
              "    .dataframe tbody tr th:only-of-type {\n",
              "        vertical-align: middle;\n",
              "    }\n",
              "\n",
              "    .dataframe tbody tr th {\n",
              "        vertical-align: top;\n",
              "    }\n",
              "\n",
              "    .dataframe thead th {\n",
              "        text-align: right;\n",
              "    }\n",
              "</style>\n",
              "<table border=\"1\" class=\"dataframe\">\n",
              "  <thead>\n",
              "    <tr style=\"text-align: right;\">\n",
              "      <th></th>\n",
              "      <th>country</th>\n",
              "      <th>population</th>\n",
              "      <th>square</th>\n",
              "    </tr>\n",
              "  </thead>\n",
              "  <tbody>\n",
              "    <tr>\n",
              "      <th>UK</th>\n",
              "      <td>Англия</td>\n",
              "      <td>56.29</td>\n",
              "      <td>133396</td>\n",
              "    </tr>\n",
              "    <tr>\n",
              "      <th>CA</th>\n",
              "      <td>Канада</td>\n",
              "      <td>38.05</td>\n",
              "      <td>9984670</td>\n",
              "    </tr>\n",
              "    <tr>\n",
              "      <th>US</th>\n",
              "      <td>США</td>\n",
              "      <td>322.28</td>\n",
              "      <td>9826630</td>\n",
              "    </tr>\n",
              "    <tr>\n",
              "      <th>RU</th>\n",
              "      <td>Россия</td>\n",
              "      <td>146.24</td>\n",
              "      <td>17125191</td>\n",
              "    </tr>\n",
              "    <tr>\n",
              "      <th>UA</th>\n",
              "      <td>Украина</td>\n",
              "      <td>45.50</td>\n",
              "      <td>603628</td>\n",
              "    </tr>\n",
              "    <tr>\n",
              "      <th>BY</th>\n",
              "      <td>Беларусь</td>\n",
              "      <td>9.50</td>\n",
              "      <td>207600</td>\n",
              "    </tr>\n",
              "    <tr>\n",
              "      <th>KZ</th>\n",
              "      <td>Казахстан</td>\n",
              "      <td>17.04</td>\n",
              "      <td>2724902</td>\n",
              "    </tr>\n",
              "  </tbody>\n",
              "</table>\n",
              "</div>\n",
              "      <button class=\"colab-df-convert\" onclick=\"convertToInteractive('df-eafe7990-b4d6-479a-8b87-775dad33e992')\"\n",
              "              title=\"Convert this dataframe to an interactive table.\"\n",
              "              style=\"display:none;\">\n",
              "        \n",
              "  <svg xmlns=\"http://www.w3.org/2000/svg\" height=\"24px\"viewBox=\"0 0 24 24\"\n",
              "       width=\"24px\">\n",
              "    <path d=\"M0 0h24v24H0V0z\" fill=\"none\"/>\n",
              "    <path d=\"M18.56 5.44l.94 2.06.94-2.06 2.06-.94-2.06-.94-.94-2.06-.94 2.06-2.06.94zm-11 1L8.5 8.5l.94-2.06 2.06-.94-2.06-.94L8.5 2.5l-.94 2.06-2.06.94zm10 10l.94 2.06.94-2.06 2.06-.94-2.06-.94-.94-2.06-.94 2.06-2.06.94z\"/><path d=\"M17.41 7.96l-1.37-1.37c-.4-.4-.92-.59-1.43-.59-.52 0-1.04.2-1.43.59L10.3 9.45l-7.72 7.72c-.78.78-.78 2.05 0 2.83L4 21.41c.39.39.9.59 1.41.59.51 0 1.02-.2 1.41-.59l7.78-7.78 2.81-2.81c.8-.78.8-2.07 0-2.86zM5.41 20L4 18.59l7.72-7.72 1.47 1.35L5.41 20z\"/>\n",
              "  </svg>\n",
              "      </button>\n",
              "      \n",
              "  <style>\n",
              "    .colab-df-container {\n",
              "      display:flex;\n",
              "      flex-wrap:wrap;\n",
              "      gap: 12px;\n",
              "    }\n",
              "\n",
              "    .colab-df-convert {\n",
              "      background-color: #E8F0FE;\n",
              "      border: none;\n",
              "      border-radius: 50%;\n",
              "      cursor: pointer;\n",
              "      display: none;\n",
              "      fill: #1967D2;\n",
              "      height: 32px;\n",
              "      padding: 0 0 0 0;\n",
              "      width: 32px;\n",
              "    }\n",
              "\n",
              "    .colab-df-convert:hover {\n",
              "      background-color: #E2EBFA;\n",
              "      box-shadow: 0px 1px 2px rgba(60, 64, 67, 0.3), 0px 1px 3px 1px rgba(60, 64, 67, 0.15);\n",
              "      fill: #174EA6;\n",
              "    }\n",
              "\n",
              "    [theme=dark] .colab-df-convert {\n",
              "      background-color: #3B4455;\n",
              "      fill: #D2E3FC;\n",
              "    }\n",
              "\n",
              "    [theme=dark] .colab-df-convert:hover {\n",
              "      background-color: #434B5C;\n",
              "      box-shadow: 0px 1px 3px 1px rgba(0, 0, 0, 0.15);\n",
              "      filter: drop-shadow(0px 1px 2px rgba(0, 0, 0, 0.3));\n",
              "      fill: #FFFFFF;\n",
              "    }\n",
              "  </style>\n",
              "\n",
              "      <script>\n",
              "        const buttonEl =\n",
              "          document.querySelector('#df-eafe7990-b4d6-479a-8b87-775dad33e992 button.colab-df-convert');\n",
              "        buttonEl.style.display =\n",
              "          google.colab.kernel.accessAllowed ? 'block' : 'none';\n",
              "\n",
              "        async function convertToInteractive(key) {\n",
              "          const element = document.querySelector('#df-eafe7990-b4d6-479a-8b87-775dad33e992');\n",
              "          const dataTable =\n",
              "            await google.colab.kernel.invokeFunction('convertToInteractive',\n",
              "                                                     [key], {});\n",
              "          if (!dataTable) return;\n",
              "\n",
              "          const docLinkHtml = 'Like what you see? Visit the ' +\n",
              "            '<a target=\"_blank\" href=https://colab.research.google.com/notebooks/data_table.ipynb>data table notebook</a>'\n",
              "            + ' to learn more about interactive tables.';\n",
              "          element.innerHTML = '';\n",
              "          dataTable['output_type'] = 'display_data';\n",
              "          await google.colab.output.renderOutput(dataTable, element);\n",
              "          const docLink = document.createElement('div');\n",
              "          docLink.innerHTML = docLinkHtml;\n",
              "          element.appendChild(docLink);\n",
              "        }\n",
              "      </script>\n",
              "    </div>\n",
              "  </div>\n",
              "  "
            ],
            "text/plain": [
              "      country  population    square\n",
              "UK     Англия       56.29    133396\n",
              "CA     Канада       38.05   9984670\n",
              "US        США      322.28   9826630\n",
              "RU     Россия      146.24  17125191\n",
              "UA    Украина       45.50    603628\n",
              "BY   Беларусь        9.50    207600\n",
              "KZ  Казахстан       17.04   2724902"
            ]
          },
          "metadata": {},
          "output_type": "display_data"
        }
      ],
      "source": [
        "countries_df = pd.DataFrame(\n",
        "    data = [\n",
        "        ['Англия', 56.29, 133396],\n",
        "        ['Канада', 38.05, 9984670],\n",
        "        ['США', 322.28, 9826630],\n",
        "        ['Россия', 146.24, 17125191],\n",
        "        ['Украина', 45.5, 603628],\n",
        "        ['Беларусь', 9.5, 207600],\n",
        "        ['Казахстан', 17.04, 2724902]\n",
        "    ],\n",
        "    columns= ['country', 'population', 'square'],\n",
        "    index = ['UK', 'CA', 'US', 'RU', 'UA', 'BY', 'KZ']\n",
        ")\n",
        "display(countries_df)"
      ]
    },
    {
      "cell_type": "markdown",
      "metadata": {
        "id": "M4uOC6kJbBjL"
      },
      "source": [
        "\n",
        "\n",
        "---\n",
        "\n",
        "\n",
        "AXIS В DATAFRAME"
      ]
    },
    {
      "cell_type": "code",
      "execution_count": null,
      "metadata": {
        "colab": {
          "base_uri": "https://localhost:8080/"
        },
        "id": "EIR9vRGYa7KI",
        "outputId": "6d8a860e-42b9-4e17-8e38-30d313be2c14"
      },
      "outputs": [
        {
          "name": "stderr",
          "output_type": "stream",
          "text": [
            "/usr/local/lib/python3.7/dist-packages/ipykernel_launcher.py:1: FutureWarning: Dropping of nuisance columns in DataFrame reductions (with 'numeric_only=None') is deprecated; in a future version this will raise TypeError.  Select only valid columns before calling the reduction.\n",
            "  \"\"\"Entry point for launching an IPython kernel.\n"
          ]
        },
        {
          "data": {
            "text/plain": [
              "population    9.070000e+01\n",
              "square        5.800860e+06\n",
              "dtype: float64"
            ]
          },
          "execution_count": 20,
          "metadata": {},
          "output_type": "execute_result"
        }
      ],
      "source": [
        "countries_df.mean(axis=0)"
      ]
    },
    {
      "cell_type": "code",
      "execution_count": null,
      "metadata": {
        "colab": {
          "base_uri": "https://localhost:8080/"
        },
        "id": "0JtsFW2GbVVg",
        "outputId": "56fb7530-5daf-4cc6-e27f-380714ffd892"
      },
      "outputs": [
        {
          "name": "stderr",
          "output_type": "stream",
          "text": [
            "/usr/local/lib/python3.7/dist-packages/ipykernel_launcher.py:1: FutureWarning: Dropping of nuisance columns in DataFrame reductions (with 'numeric_only=None') is deprecated; in a future version this will raise TypeError.  Select only valid columns before calling the reduction.\n",
            "  \"\"\"Entry point for launching an IPython kernel.\n"
          ]
        },
        {
          "data": {
            "text/plain": [
              "UK      66726.145\n",
              "CA    4992354.025\n",
              "US    4913476.140\n",
              "RU    8562668.620\n",
              "UA     301836.750\n",
              "BY     103804.750\n",
              "KZ    1362459.520\n",
              "dtype: float64"
            ]
          },
          "execution_count": 21,
          "metadata": {},
          "output_type": "execute_result"
        }
      ],
      "source": [
        "countries_df.mean(axis=1)"
      ]
    },
    {
      "cell_type": "markdown",
      "metadata": {
        "id": "5qfh70tzbaU0"
      },
      "source": [
        "\n",
        "\n",
        "---\n",
        "\n",
        "\n",
        "ДОСТУП К ДАННЫМ В DATAFRAME"
      ]
    },
    {
      "cell_type": "code",
      "execution_count": null,
      "metadata": {
        "colab": {
          "base_uri": "https://localhost:8080/"
        },
        "id": "zFpEhQ2Bbd1g",
        "outputId": "8362ce60-9a86-4d82-add0-36f0a1eeff16"
      },
      "outputs": [
        {
          "data": {
            "text/plain": [
              "UK     56.29\n",
              "CA     38.05\n",
              "US    322.28\n",
              "RU    146.24\n",
              "UA     45.50\n",
              "BY      9.50\n",
              "KZ     17.04\n",
              "Name: population, dtype: float64"
            ]
          },
          "execution_count": 22,
          "metadata": {},
          "output_type": "execute_result"
        }
      ],
      "source": [
        "countries_df.population"
      ]
    },
    {
      "cell_type": "code",
      "execution_count": null,
      "metadata": {
        "colab": {
          "base_uri": "https://localhost:8080/"
        },
        "id": "tWYvU1vFbjjH",
        "outputId": "0e28a0d1-d514-452e-e9ba-19d72dc713a6"
      },
      "outputs": [
        {
          "data": {
            "text/plain": [
              "UK     56.29\n",
              "CA     38.05\n",
              "US    322.28\n",
              "RU    146.24\n",
              "UA     45.50\n",
              "BY      9.50\n",
              "KZ     17.04\n",
              "Name: population, dtype: float64"
            ]
          },
          "execution_count": 23,
          "metadata": {},
          "output_type": "execute_result"
        }
      ],
      "source": [
        "countries_df['population']"
      ]
    },
    {
      "cell_type": "code",
      "execution_count": null,
      "metadata": {
        "colab": {
          "base_uri": "https://localhost:8080/"
        },
        "id": "S8xwOLkvbnCg",
        "outputId": "864e5b61-1e16-4c97-e4a8-ced8662fefd6"
      },
      "outputs": [
        {
          "data": {
            "text/plain": [
              "pandas.core.series.Series"
            ]
          },
          "execution_count": 24,
          "metadata": {},
          "output_type": "execute_result"
        }
      ],
      "source": [
        "type(countries_df.population)"
      ]
    },
    {
      "cell_type": "code",
      "execution_count": null,
      "metadata": {
        "colab": {
          "base_uri": "https://localhost:8080/"
        },
        "id": "cmV4vz3Wbq_w",
        "outputId": "8c5c37a5-90d7-4845-be52-a50d8741b319"
      },
      "outputs": [
        {
          "data": {
            "text/plain": [
              "133396"
            ]
          },
          "execution_count": 25,
          "metadata": {},
          "output_type": "execute_result"
        }
      ],
      "source": [
        "countries_df.loc['UK', 'square']"
      ]
    },
    {
      "cell_type": "code",
      "execution_count": null,
      "metadata": {
        "colab": {
          "base_uri": "https://localhost:8080/"
        },
        "id": "Y1wLXBJxb56_",
        "outputId": "85886601-99dc-4121-e695-52b7104457d2"
      },
      "outputs": [
        {
          "data": {
            "text/plain": [
              "population      146.24\n",
              "square        17125191\n",
              "Name: RU, dtype: object"
            ]
          },
          "execution_count": 26,
          "metadata": {},
          "output_type": "execute_result"
        }
      ],
      "source": [
        "countries_df.loc['RU', ['population', 'square']]"
      ]
    },
    {
      "cell_type": "code",
      "execution_count": null,
      "metadata": {
        "colab": {
          "base_uri": "https://localhost:8080/",
          "height": 143
        },
        "id": "7ZluU3_6cGWZ",
        "outputId": "2af34dcc-f3e0-4a42-a3d3-5db0a974dbc1"
      },
      "outputs": [
        {
          "data": {
            "text/html": [
              "\n",
              "  <div id=\"df-2de89191-6c49-41b1-b23f-b96eade59483\">\n",
              "    <div class=\"colab-df-container\">\n",
              "      <div>\n",
              "<style scoped>\n",
              "    .dataframe tbody tr th:only-of-type {\n",
              "        vertical-align: middle;\n",
              "    }\n",
              "\n",
              "    .dataframe tbody tr th {\n",
              "        vertical-align: top;\n",
              "    }\n",
              "\n",
              "    .dataframe thead th {\n",
              "        text-align: right;\n",
              "    }\n",
              "</style>\n",
              "<table border=\"1\" class=\"dataframe\">\n",
              "  <thead>\n",
              "    <tr style=\"text-align: right;\">\n",
              "      <th></th>\n",
              "      <th>population</th>\n",
              "      <th>square</th>\n",
              "    </tr>\n",
              "  </thead>\n",
              "  <tbody>\n",
              "    <tr>\n",
              "      <th>UA</th>\n",
              "      <td>45.50</td>\n",
              "      <td>603628</td>\n",
              "    </tr>\n",
              "    <tr>\n",
              "      <th>BY</th>\n",
              "      <td>9.50</td>\n",
              "      <td>207600</td>\n",
              "    </tr>\n",
              "    <tr>\n",
              "      <th>KZ</th>\n",
              "      <td>17.04</td>\n",
              "      <td>2724902</td>\n",
              "    </tr>\n",
              "  </tbody>\n",
              "</table>\n",
              "</div>\n",
              "      <button class=\"colab-df-convert\" onclick=\"convertToInteractive('df-2de89191-6c49-41b1-b23f-b96eade59483')\"\n",
              "              title=\"Convert this dataframe to an interactive table.\"\n",
              "              style=\"display:none;\">\n",
              "        \n",
              "  <svg xmlns=\"http://www.w3.org/2000/svg\" height=\"24px\"viewBox=\"0 0 24 24\"\n",
              "       width=\"24px\">\n",
              "    <path d=\"M0 0h24v24H0V0z\" fill=\"none\"/>\n",
              "    <path d=\"M18.56 5.44l.94 2.06.94-2.06 2.06-.94-2.06-.94-.94-2.06-.94 2.06-2.06.94zm-11 1L8.5 8.5l.94-2.06 2.06-.94-2.06-.94L8.5 2.5l-.94 2.06-2.06.94zm10 10l.94 2.06.94-2.06 2.06-.94-2.06-.94-.94-2.06-.94 2.06-2.06.94z\"/><path d=\"M17.41 7.96l-1.37-1.37c-.4-.4-.92-.59-1.43-.59-.52 0-1.04.2-1.43.59L10.3 9.45l-7.72 7.72c-.78.78-.78 2.05 0 2.83L4 21.41c.39.39.9.59 1.41.59.51 0 1.02-.2 1.41-.59l7.78-7.78 2.81-2.81c.8-.78.8-2.07 0-2.86zM5.41 20L4 18.59l7.72-7.72 1.47 1.35L5.41 20z\"/>\n",
              "  </svg>\n",
              "      </button>\n",
              "      \n",
              "  <style>\n",
              "    .colab-df-container {\n",
              "      display:flex;\n",
              "      flex-wrap:wrap;\n",
              "      gap: 12px;\n",
              "    }\n",
              "\n",
              "    .colab-df-convert {\n",
              "      background-color: #E8F0FE;\n",
              "      border: none;\n",
              "      border-radius: 50%;\n",
              "      cursor: pointer;\n",
              "      display: none;\n",
              "      fill: #1967D2;\n",
              "      height: 32px;\n",
              "      padding: 0 0 0 0;\n",
              "      width: 32px;\n",
              "    }\n",
              "\n",
              "    .colab-df-convert:hover {\n",
              "      background-color: #E2EBFA;\n",
              "      box-shadow: 0px 1px 2px rgba(60, 64, 67, 0.3), 0px 1px 3px 1px rgba(60, 64, 67, 0.15);\n",
              "      fill: #174EA6;\n",
              "    }\n",
              "\n",
              "    [theme=dark] .colab-df-convert {\n",
              "      background-color: #3B4455;\n",
              "      fill: #D2E3FC;\n",
              "    }\n",
              "\n",
              "    [theme=dark] .colab-df-convert:hover {\n",
              "      background-color: #434B5C;\n",
              "      box-shadow: 0px 1px 3px 1px rgba(0, 0, 0, 0.15);\n",
              "      filter: drop-shadow(0px 1px 2px rgba(0, 0, 0, 0.3));\n",
              "      fill: #FFFFFF;\n",
              "    }\n",
              "  </style>\n",
              "\n",
              "      <script>\n",
              "        const buttonEl =\n",
              "          document.querySelector('#df-2de89191-6c49-41b1-b23f-b96eade59483 button.colab-df-convert');\n",
              "        buttonEl.style.display =\n",
              "          google.colab.kernel.accessAllowed ? 'block' : 'none';\n",
              "\n",
              "        async function convertToInteractive(key) {\n",
              "          const element = document.querySelector('#df-2de89191-6c49-41b1-b23f-b96eade59483');\n",
              "          const dataTable =\n",
              "            await google.colab.kernel.invokeFunction('convertToInteractive',\n",
              "                                                     [key], {});\n",
              "          if (!dataTable) return;\n",
              "\n",
              "          const docLinkHtml = 'Like what you see? Visit the ' +\n",
              "            '<a target=\"_blank\" href=https://colab.research.google.com/notebooks/data_table.ipynb>data table notebook</a>'\n",
              "            + ' to learn more about interactive tables.';\n",
              "          element.innerHTML = '';\n",
              "          dataTable['output_type'] = 'display_data';\n",
              "          await google.colab.output.renderOutput(dataTable, element);\n",
              "          const docLink = document.createElement('div');\n",
              "          docLink.innerHTML = docLinkHtml;\n",
              "          element.appendChild(docLink);\n",
              "        }\n",
              "      </script>\n",
              "    </div>\n",
              "  </div>\n",
              "  "
            ],
            "text/plain": [
              "    population   square\n",
              "UA       45.50   603628\n",
              "BY        9.50   207600\n",
              "KZ       17.04  2724902"
            ]
          },
          "execution_count": 27,
          "metadata": {},
          "output_type": "execute_result"
        }
      ],
      "source": [
        "countries_df.loc[['UA', 'BY', 'KZ'],['population', 'square']]"
      ]
    },
    {
      "cell_type": "code",
      "execution_count": null,
      "metadata": {
        "colab": {
          "base_uri": "https://localhost:8080/",
          "height": 143
        },
        "id": "tpUuIRlRcI3X",
        "outputId": "1c0b86a1-0b0f-4559-acba-bdc204aa557b"
      },
      "outputs": [
        {
          "data": {
            "text/html": [
              "\n",
              "  <div id=\"df-230ce2d4-4f1e-44ce-8cf6-7fccb6572ef3\">\n",
              "    <div class=\"colab-df-container\">\n",
              "      <div>\n",
              "<style scoped>\n",
              "    .dataframe tbody tr th:only-of-type {\n",
              "        vertical-align: middle;\n",
              "    }\n",
              "\n",
              "    .dataframe tbody tr th {\n",
              "        vertical-align: top;\n",
              "    }\n",
              "\n",
              "    .dataframe thead th {\n",
              "        text-align: right;\n",
              "    }\n",
              "</style>\n",
              "<table border=\"1\" class=\"dataframe\">\n",
              "  <thead>\n",
              "    <tr style=\"text-align: right;\">\n",
              "      <th></th>\n",
              "      <th>population</th>\n",
              "      <th>square</th>\n",
              "    </tr>\n",
              "  </thead>\n",
              "  <tbody>\n",
              "    <tr>\n",
              "      <th>UA</th>\n",
              "      <td>45.50</td>\n",
              "      <td>603628</td>\n",
              "    </tr>\n",
              "    <tr>\n",
              "      <th>BY</th>\n",
              "      <td>9.50</td>\n",
              "      <td>207600</td>\n",
              "    </tr>\n",
              "    <tr>\n",
              "      <th>KZ</th>\n",
              "      <td>17.04</td>\n",
              "      <td>2724902</td>\n",
              "    </tr>\n",
              "  </tbody>\n",
              "</table>\n",
              "</div>\n",
              "      <button class=\"colab-df-convert\" onclick=\"convertToInteractive('df-230ce2d4-4f1e-44ce-8cf6-7fccb6572ef3')\"\n",
              "              title=\"Convert this dataframe to an interactive table.\"\n",
              "              style=\"display:none;\">\n",
              "        \n",
              "  <svg xmlns=\"http://www.w3.org/2000/svg\" height=\"24px\"viewBox=\"0 0 24 24\"\n",
              "       width=\"24px\">\n",
              "    <path d=\"M0 0h24v24H0V0z\" fill=\"none\"/>\n",
              "    <path d=\"M18.56 5.44l.94 2.06.94-2.06 2.06-.94-2.06-.94-.94-2.06-.94 2.06-2.06.94zm-11 1L8.5 8.5l.94-2.06 2.06-.94-2.06-.94L8.5 2.5l-.94 2.06-2.06.94zm10 10l.94 2.06.94-2.06 2.06-.94-2.06-.94-.94-2.06-.94 2.06-2.06.94z\"/><path d=\"M17.41 7.96l-1.37-1.37c-.4-.4-.92-.59-1.43-.59-.52 0-1.04.2-1.43.59L10.3 9.45l-7.72 7.72c-.78.78-.78 2.05 0 2.83L4 21.41c.39.39.9.59 1.41.59.51 0 1.02-.2 1.41-.59l7.78-7.78 2.81-2.81c.8-.78.8-2.07 0-2.86zM5.41 20L4 18.59l7.72-7.72 1.47 1.35L5.41 20z\"/>\n",
              "  </svg>\n",
              "      </button>\n",
              "      \n",
              "  <style>\n",
              "    .colab-df-container {\n",
              "      display:flex;\n",
              "      flex-wrap:wrap;\n",
              "      gap: 12px;\n",
              "    }\n",
              "\n",
              "    .colab-df-convert {\n",
              "      background-color: #E8F0FE;\n",
              "      border: none;\n",
              "      border-radius: 50%;\n",
              "      cursor: pointer;\n",
              "      display: none;\n",
              "      fill: #1967D2;\n",
              "      height: 32px;\n",
              "      padding: 0 0 0 0;\n",
              "      width: 32px;\n",
              "    }\n",
              "\n",
              "    .colab-df-convert:hover {\n",
              "      background-color: #E2EBFA;\n",
              "      box-shadow: 0px 1px 2px rgba(60, 64, 67, 0.3), 0px 1px 3px 1px rgba(60, 64, 67, 0.15);\n",
              "      fill: #174EA6;\n",
              "    }\n",
              "\n",
              "    [theme=dark] .colab-df-convert {\n",
              "      background-color: #3B4455;\n",
              "      fill: #D2E3FC;\n",
              "    }\n",
              "\n",
              "    [theme=dark] .colab-df-convert:hover {\n",
              "      background-color: #434B5C;\n",
              "      box-shadow: 0px 1px 3px 1px rgba(0, 0, 0, 0.15);\n",
              "      filter: drop-shadow(0px 1px 2px rgba(0, 0, 0, 0.3));\n",
              "      fill: #FFFFFF;\n",
              "    }\n",
              "  </style>\n",
              "\n",
              "      <script>\n",
              "        const buttonEl =\n",
              "          document.querySelector('#df-230ce2d4-4f1e-44ce-8cf6-7fccb6572ef3 button.colab-df-convert');\n",
              "        buttonEl.style.display =\n",
              "          google.colab.kernel.accessAllowed ? 'block' : 'none';\n",
              "\n",
              "        async function convertToInteractive(key) {\n",
              "          const element = document.querySelector('#df-230ce2d4-4f1e-44ce-8cf6-7fccb6572ef3');\n",
              "          const dataTable =\n",
              "            await google.colab.kernel.invokeFunction('convertToInteractive',\n",
              "                                                     [key], {});\n",
              "          if (!dataTable) return;\n",
              "\n",
              "          const docLinkHtml = 'Like what you see? Visit the ' +\n",
              "            '<a target=\"_blank\" href=https://colab.research.google.com/notebooks/data_table.ipynb>data table notebook</a>'\n",
              "            + ' to learn more about interactive tables.';\n",
              "          element.innerHTML = '';\n",
              "          dataTable['output_type'] = 'display_data';\n",
              "          await google.colab.output.renderOutput(dataTable, element);\n",
              "          const docLink = document.createElement('div');\n",
              "          docLink.innerHTML = docLinkHtml;\n",
              "          element.appendChild(docLink);\n",
              "        }\n",
              "      </script>\n",
              "    </div>\n",
              "  </div>\n",
              "  "
            ],
            "text/plain": [
              "    population   square\n",
              "UA       45.50   603628\n",
              "BY        9.50   207600\n",
              "KZ       17.04  2724902"
            ]
          },
          "execution_count": 28,
          "metadata": {},
          "output_type": "execute_result"
        }
      ],
      "source": [
        "countries_df.iloc[4:8, 1:3]"
      ]
    },
    {
      "cell_type": "markdown",
      "metadata": {
        "id": "yr5OcWwWVi8p"
      },
      "source": [
        "\n",
        "\n",
        "---\n",
        "\n"
      ]
    },
    {
      "cell_type": "code",
      "execution_count": 1,
      "metadata": {
        "colab": {
          "base_uri": "https://localhost:8080/"
        },
        "id": "a4nlvIDhVlUh",
        "outputId": "03f06d8c-3098-4e62-f70d-0a84086553c2"
      },
      "outputs": [
        {
          "name": "stdout",
          "output_type": "stream",
          "text": [
            "-74\n"
          ]
        }
      ],
      "source": [
        "# Задание 3.5\n",
        "# Ваша задача — проанализировать чистую прибыль.\n",
        "# Доходы (incomes), расходы (expenses) и годы (years), соответствующие им, \n",
        "# предоставлены вам в виде списков.\n",
        "\n",
        "# Создайте функцию create_companyDF(incomes, expenses, years), \n",
        "# которая  возвращает DataFrame, \n",
        "# составленный из входных данных со столбцами Incomes и Expenses и индексами, \n",
        "# соответствующими годам рассматриваемого периода.\n",
        "\n",
        "# Также напишите функцию get_profit(df, year), \n",
        "# которая возвращает разницу между доходом и расходом, \n",
        "# записанными в таблице df, за год year. \n",
        "# Учтите, что если информация за запрашиваемый год не указана в вашей таблице, \n",
        "# вам необходимо вернуть None.\n",
        "\n",
        "# Для проверки вхождения запрашиваемого года в перечень индексов таблицы вам поможет атрибут df.index, \n",
        "# который возвращает список индексов таблицы.\n",
        "\n",
        "import pandas as pd\n",
        "\n",
        "def create_companyDF(incomes, expenses, years):\n",
        "    # ваш код здесь\n",
        "    df = pd.DataFrame({'incomes': incomes,\n",
        "        'expenses': expenses\n",
        "    }, index=years)\n",
        "    return df\n",
        "\n",
        "\n",
        "def get_profit(df, year):\n",
        "    # ваш код здесь\n",
        "    if year not in df.index: return None\n",
        "    profit = df.loc[year,'incomes'] - df.loc[year,'expenses']\n",
        "    return profit\n",
        "\n",
        "if __name__ == '__main__':\n",
        "    expenses = [156, 130, 270]\n",
        "    incomes = [478, 512, 196]\n",
        "    years = [2018, 2019, 2020]\n",
        "    \n",
        "    scienceyou = create_companyDF(incomes, expenses, years)\n",
        "    print(get_profit(scienceyou, 2020)) #-74"
      ]
    },
    {
      "cell_type": "markdown",
      "metadata": {
        "id": "Cahvz9ludFlX"
      },
      "source": [
        "\n",
        "\n",
        "---\n",
        "\n",
        "# 4. Работа с различными источниками данных в Pandas"
      ]
    },
    {
      "cell_type": "markdown",
      "metadata": {
        "id": "9rkC3AMJg2aW"
      },
      "source": [
        "ЗАПИСЬ В CSV-ФАЙЛ"
      ]
    },
    {
      "cell_type": "code",
      "execution_count": 3,
      "metadata": {
        "id": "JLFNMhXae-ge"
      },
      "outputs": [],
      "source": [
        "countries_df = pd.DataFrame({\n",
        "    'country': ['Англия', 'Канада', 'США', 'Россия', 'Украина', 'Беларусь', 'Казахстан'],\n",
        "    'population': [56.29, 38.05, 322.28, 146.24, 45.5, 9.5, 17.04],\n",
        "    'square': [133396, 9984670, 9826630, 17125191, 603628, 207600, 2724902]\n",
        "})\n",
        "\n",
        "countries_df.to_csv('data/countries.csv', index=False, sep=';')"
      ]
    },
    {
      "cell_type": "markdown",
      "metadata": {
        "id": "DreChhvdg6QN"
      },
      "source": [
        "ЧТЕНИЕ CSV-ФАЙЛА"
      ]
    },
    {
      "cell_type": "code",
      "execution_count": 4,
      "metadata": {
        "colab": {
          "base_uri": "https://localhost:8080/",
          "height": 269
        },
        "id": "-kgarT6JgL7f",
        "outputId": "20e9eced-3c70-4427-83ce-b19afbfaa9fc"
      },
      "outputs": [
        {
          "data": {
            "text/html": [
              "<div>\n",
              "<style scoped>\n",
              "    .dataframe tbody tr th:only-of-type {\n",
              "        vertical-align: middle;\n",
              "    }\n",
              "\n",
              "    .dataframe tbody tr th {\n",
              "        vertical-align: top;\n",
              "    }\n",
              "\n",
              "    .dataframe thead th {\n",
              "        text-align: right;\n",
              "    }\n",
              "</style>\n",
              "<table border=\"1\" class=\"dataframe\">\n",
              "  <thead>\n",
              "    <tr style=\"text-align: right;\">\n",
              "      <th></th>\n",
              "      <th>country</th>\n",
              "      <th>population</th>\n",
              "      <th>square</th>\n",
              "    </tr>\n",
              "  </thead>\n",
              "  <tbody>\n",
              "    <tr>\n",
              "      <th>0</th>\n",
              "      <td>Англия</td>\n",
              "      <td>56.29</td>\n",
              "      <td>133396</td>\n",
              "    </tr>\n",
              "    <tr>\n",
              "      <th>1</th>\n",
              "      <td>Канада</td>\n",
              "      <td>38.05</td>\n",
              "      <td>9984670</td>\n",
              "    </tr>\n",
              "    <tr>\n",
              "      <th>2</th>\n",
              "      <td>США</td>\n",
              "      <td>322.28</td>\n",
              "      <td>9826630</td>\n",
              "    </tr>\n",
              "    <tr>\n",
              "      <th>3</th>\n",
              "      <td>Россия</td>\n",
              "      <td>146.24</td>\n",
              "      <td>17125191</td>\n",
              "    </tr>\n",
              "    <tr>\n",
              "      <th>4</th>\n",
              "      <td>Украина</td>\n",
              "      <td>45.50</td>\n",
              "      <td>603628</td>\n",
              "    </tr>\n",
              "    <tr>\n",
              "      <th>5</th>\n",
              "      <td>Беларусь</td>\n",
              "      <td>9.50</td>\n",
              "      <td>207600</td>\n",
              "    </tr>\n",
              "    <tr>\n",
              "      <th>6</th>\n",
              "      <td>Казахстан</td>\n",
              "      <td>17.04</td>\n",
              "      <td>2724902</td>\n",
              "    </tr>\n",
              "  </tbody>\n",
              "</table>\n",
              "</div>"
            ],
            "text/plain": [
              "     country  population    square\n",
              "0     Англия       56.29    133396\n",
              "1     Канада       38.05   9984670\n",
              "2        США      322.28   9826630\n",
              "3     Россия      146.24  17125191\n",
              "4    Украина       45.50    603628\n",
              "5   Беларусь        9.50    207600\n",
              "6  Казахстан       17.04   2724902"
            ]
          },
          "metadata": {},
          "output_type": "display_data"
        }
      ],
      "source": [
        "countries_data = pd.read_csv('data/countries.csv', sep=';')\n",
        "display(countries_data)"
      ]
    },
    {
      "cell_type": "markdown",
      "metadata": {
        "id": "8CpfkndUgmA5"
      },
      "source": [
        "\n",
        "ЧТЕНИЕ CSV-ФАЙЛА ПО ССЫЛКЕ"
      ]
    },
    {
      "cell_type": "code",
      "execution_count": 5,
      "metadata": {
        "colab": {
          "base_uri": "https://localhost:8080/",
          "height": 748
        },
        "id": "05_KkKxTgmzl",
        "outputId": "46f2f90a-bb17-4d43-b685-0784766c68c3"
      },
      "outputs": [
        {
          "data": {
            "text/html": [
              "<div>\n",
              "<style scoped>\n",
              "    .dataframe tbody tr th:only-of-type {\n",
              "        vertical-align: middle;\n",
              "    }\n",
              "\n",
              "    .dataframe tbody tr th {\n",
              "        vertical-align: top;\n",
              "    }\n",
              "\n",
              "    .dataframe thead th {\n",
              "        text-align: right;\n",
              "    }\n",
              "</style>\n",
              "<table border=\"1\" class=\"dataframe\">\n",
              "  <thead>\n",
              "    <tr style=\"text-align: right;\">\n",
              "      <th></th>\n",
              "      <th>Unnamed: 0</th>\n",
              "      <th>Suburb</th>\n",
              "      <th>Address</th>\n",
              "      <th>Rooms</th>\n",
              "      <th>Type</th>\n",
              "      <th>Price</th>\n",
              "      <th>Method</th>\n",
              "      <th>SellerG</th>\n",
              "      <th>Date</th>\n",
              "      <th>Distance</th>\n",
              "      <th>...</th>\n",
              "      <th>Bathroom</th>\n",
              "      <th>Car</th>\n",
              "      <th>Landsize</th>\n",
              "      <th>BuildingArea</th>\n",
              "      <th>YearBuilt</th>\n",
              "      <th>CouncilArea</th>\n",
              "      <th>Lattitude</th>\n",
              "      <th>Longtitude</th>\n",
              "      <th>Regionname</th>\n",
              "      <th>Propertycount</th>\n",
              "    </tr>\n",
              "  </thead>\n",
              "  <tbody>\n",
              "    <tr>\n",
              "      <th>0</th>\n",
              "      <td>1</td>\n",
              "      <td>Abbotsford</td>\n",
              "      <td>85 Turner St</td>\n",
              "      <td>2</td>\n",
              "      <td>h</td>\n",
              "      <td>1480000.0</td>\n",
              "      <td>S</td>\n",
              "      <td>Biggin</td>\n",
              "      <td>3/12/2016</td>\n",
              "      <td>2.5</td>\n",
              "      <td>...</td>\n",
              "      <td>1.0</td>\n",
              "      <td>1.0</td>\n",
              "      <td>202.0</td>\n",
              "      <td>NaN</td>\n",
              "      <td>NaN</td>\n",
              "      <td>Yarra</td>\n",
              "      <td>-37.79960</td>\n",
              "      <td>144.99840</td>\n",
              "      <td>Northern Metropolitan</td>\n",
              "      <td>4019.0</td>\n",
              "    </tr>\n",
              "    <tr>\n",
              "      <th>1</th>\n",
              "      <td>2</td>\n",
              "      <td>Abbotsford</td>\n",
              "      <td>25 Bloomburg St</td>\n",
              "      <td>2</td>\n",
              "      <td>h</td>\n",
              "      <td>1035000.0</td>\n",
              "      <td>S</td>\n",
              "      <td>Biggin</td>\n",
              "      <td>4/02/2016</td>\n",
              "      <td>2.5</td>\n",
              "      <td>...</td>\n",
              "      <td>1.0</td>\n",
              "      <td>0.0</td>\n",
              "      <td>156.0</td>\n",
              "      <td>79.0</td>\n",
              "      <td>1900.0</td>\n",
              "      <td>Yarra</td>\n",
              "      <td>-37.80790</td>\n",
              "      <td>144.99340</td>\n",
              "      <td>Northern Metropolitan</td>\n",
              "      <td>4019.0</td>\n",
              "    </tr>\n",
              "    <tr>\n",
              "      <th>2</th>\n",
              "      <td>4</td>\n",
              "      <td>Abbotsford</td>\n",
              "      <td>5 Charles St</td>\n",
              "      <td>3</td>\n",
              "      <td>h</td>\n",
              "      <td>1465000.0</td>\n",
              "      <td>SP</td>\n",
              "      <td>Biggin</td>\n",
              "      <td>4/03/2017</td>\n",
              "      <td>2.5</td>\n",
              "      <td>...</td>\n",
              "      <td>2.0</td>\n",
              "      <td>0.0</td>\n",
              "      <td>134.0</td>\n",
              "      <td>150.0</td>\n",
              "      <td>1900.0</td>\n",
              "      <td>Yarra</td>\n",
              "      <td>-37.80930</td>\n",
              "      <td>144.99440</td>\n",
              "      <td>Northern Metropolitan</td>\n",
              "      <td>4019.0</td>\n",
              "    </tr>\n",
              "    <tr>\n",
              "      <th>3</th>\n",
              "      <td>5</td>\n",
              "      <td>Abbotsford</td>\n",
              "      <td>40 Federation La</td>\n",
              "      <td>3</td>\n",
              "      <td>h</td>\n",
              "      <td>850000.0</td>\n",
              "      <td>PI</td>\n",
              "      <td>Biggin</td>\n",
              "      <td>4/03/2017</td>\n",
              "      <td>2.5</td>\n",
              "      <td>...</td>\n",
              "      <td>2.0</td>\n",
              "      <td>1.0</td>\n",
              "      <td>94.0</td>\n",
              "      <td>NaN</td>\n",
              "      <td>NaN</td>\n",
              "      <td>Yarra</td>\n",
              "      <td>-37.79690</td>\n",
              "      <td>144.99690</td>\n",
              "      <td>Northern Metropolitan</td>\n",
              "      <td>4019.0</td>\n",
              "    </tr>\n",
              "    <tr>\n",
              "      <th>4</th>\n",
              "      <td>6</td>\n",
              "      <td>Abbotsford</td>\n",
              "      <td>55a Park St</td>\n",
              "      <td>4</td>\n",
              "      <td>h</td>\n",
              "      <td>1600000.0</td>\n",
              "      <td>VB</td>\n",
              "      <td>Nelson</td>\n",
              "      <td>4/06/2016</td>\n",
              "      <td>2.5</td>\n",
              "      <td>...</td>\n",
              "      <td>1.0</td>\n",
              "      <td>2.0</td>\n",
              "      <td>120.0</td>\n",
              "      <td>142.0</td>\n",
              "      <td>2014.0</td>\n",
              "      <td>Yarra</td>\n",
              "      <td>-37.80720</td>\n",
              "      <td>144.99410</td>\n",
              "      <td>Northern Metropolitan</td>\n",
              "      <td>4019.0</td>\n",
              "    </tr>\n",
              "    <tr>\n",
              "      <th>...</th>\n",
              "      <td>...</td>\n",
              "      <td>...</td>\n",
              "      <td>...</td>\n",
              "      <td>...</td>\n",
              "      <td>...</td>\n",
              "      <td>...</td>\n",
              "      <td>...</td>\n",
              "      <td>...</td>\n",
              "      <td>...</td>\n",
              "      <td>...</td>\n",
              "      <td>...</td>\n",
              "      <td>...</td>\n",
              "      <td>...</td>\n",
              "      <td>...</td>\n",
              "      <td>...</td>\n",
              "      <td>...</td>\n",
              "      <td>...</td>\n",
              "      <td>...</td>\n",
              "      <td>...</td>\n",
              "      <td>...</td>\n",
              "      <td>...</td>\n",
              "    </tr>\n",
              "    <tr>\n",
              "      <th>18391</th>\n",
              "      <td>23540</td>\n",
              "      <td>Williamstown</td>\n",
              "      <td>8/2 Thompson St</td>\n",
              "      <td>2</td>\n",
              "      <td>t</td>\n",
              "      <td>622500.0</td>\n",
              "      <td>SP</td>\n",
              "      <td>Greg</td>\n",
              "      <td>26/08/2017</td>\n",
              "      <td>6.8</td>\n",
              "      <td>...</td>\n",
              "      <td>2.0</td>\n",
              "      <td>1.0</td>\n",
              "      <td>NaN</td>\n",
              "      <td>89.0</td>\n",
              "      <td>2010.0</td>\n",
              "      <td>NaN</td>\n",
              "      <td>-37.86393</td>\n",
              "      <td>144.90484</td>\n",
              "      <td>Western Metropolitan</td>\n",
              "      <td>6380.0</td>\n",
              "    </tr>\n",
              "    <tr>\n",
              "      <th>18392</th>\n",
              "      <td>23541</td>\n",
              "      <td>Williamstown</td>\n",
              "      <td>96 Verdon St</td>\n",
              "      <td>4</td>\n",
              "      <td>h</td>\n",
              "      <td>2500000.0</td>\n",
              "      <td>PI</td>\n",
              "      <td>Sweeney</td>\n",
              "      <td>26/08/2017</td>\n",
              "      <td>6.8</td>\n",
              "      <td>...</td>\n",
              "      <td>1.0</td>\n",
              "      <td>5.0</td>\n",
              "      <td>866.0</td>\n",
              "      <td>157.0</td>\n",
              "      <td>1920.0</td>\n",
              "      <td>NaN</td>\n",
              "      <td>-37.85908</td>\n",
              "      <td>144.89299</td>\n",
              "      <td>Western Metropolitan</td>\n",
              "      <td>6380.0</td>\n",
              "    </tr>\n",
              "    <tr>\n",
              "      <th>18393</th>\n",
              "      <td>23544</td>\n",
              "      <td>Yallambie</td>\n",
              "      <td>17 Amaroo Wy</td>\n",
              "      <td>4</td>\n",
              "      <td>h</td>\n",
              "      <td>1100000.0</td>\n",
              "      <td>S</td>\n",
              "      <td>Buckingham</td>\n",
              "      <td>26/08/2017</td>\n",
              "      <td>12.7</td>\n",
              "      <td>...</td>\n",
              "      <td>3.0</td>\n",
              "      <td>2.0</td>\n",
              "      <td>NaN</td>\n",
              "      <td>NaN</td>\n",
              "      <td>NaN</td>\n",
              "      <td>NaN</td>\n",
              "      <td>-37.72006</td>\n",
              "      <td>145.10547</td>\n",
              "      <td>Northern Metropolitan</td>\n",
              "      <td>1369.0</td>\n",
              "    </tr>\n",
              "    <tr>\n",
              "      <th>18394</th>\n",
              "      <td>23545</td>\n",
              "      <td>Yarraville</td>\n",
              "      <td>6 Agnes St</td>\n",
              "      <td>4</td>\n",
              "      <td>h</td>\n",
              "      <td>1285000.0</td>\n",
              "      <td>SP</td>\n",
              "      <td>Village</td>\n",
              "      <td>26/08/2017</td>\n",
              "      <td>6.3</td>\n",
              "      <td>...</td>\n",
              "      <td>1.0</td>\n",
              "      <td>1.0</td>\n",
              "      <td>362.0</td>\n",
              "      <td>112.0</td>\n",
              "      <td>1920.0</td>\n",
              "      <td>NaN</td>\n",
              "      <td>-37.81188</td>\n",
              "      <td>144.88449</td>\n",
              "      <td>Western Metropolitan</td>\n",
              "      <td>6543.0</td>\n",
              "    </tr>\n",
              "    <tr>\n",
              "      <th>18395</th>\n",
              "      <td>23546</td>\n",
              "      <td>Yarraville</td>\n",
              "      <td>33 Freeman St</td>\n",
              "      <td>4</td>\n",
              "      <td>h</td>\n",
              "      <td>1050000.0</td>\n",
              "      <td>VB</td>\n",
              "      <td>Village</td>\n",
              "      <td>26/08/2017</td>\n",
              "      <td>6.3</td>\n",
              "      <td>...</td>\n",
              "      <td>2.0</td>\n",
              "      <td>2.0</td>\n",
              "      <td>NaN</td>\n",
              "      <td>139.0</td>\n",
              "      <td>1950.0</td>\n",
              "      <td>NaN</td>\n",
              "      <td>-37.81829</td>\n",
              "      <td>144.87404</td>\n",
              "      <td>Western Metropolitan</td>\n",
              "      <td>6543.0</td>\n",
              "    </tr>\n",
              "  </tbody>\n",
              "</table>\n",
              "<p>18396 rows × 22 columns</p>\n",
              "</div>"
            ],
            "text/plain": [
              "       Unnamed: 0        Suburb           Address  Rooms Type      Price  \\\n",
              "0               1    Abbotsford      85 Turner St      2    h  1480000.0   \n",
              "1               2    Abbotsford   25 Bloomburg St      2    h  1035000.0   \n",
              "2               4    Abbotsford      5 Charles St      3    h  1465000.0   \n",
              "3               5    Abbotsford  40 Federation La      3    h   850000.0   \n",
              "4               6    Abbotsford       55a Park St      4    h  1600000.0   \n",
              "...           ...           ...               ...    ...  ...        ...   \n",
              "18391       23540  Williamstown   8/2 Thompson St      2    t   622500.0   \n",
              "18392       23541  Williamstown      96 Verdon St      4    h  2500000.0   \n",
              "18393       23544     Yallambie      17 Amaroo Wy      4    h  1100000.0   \n",
              "18394       23545    Yarraville        6 Agnes St      4    h  1285000.0   \n",
              "18395       23546    Yarraville     33 Freeman St      4    h  1050000.0   \n",
              "\n",
              "      Method     SellerG        Date  Distance  ...  Bathroom  Car  Landsize  \\\n",
              "0          S      Biggin   3/12/2016       2.5  ...       1.0  1.0     202.0   \n",
              "1          S      Biggin   4/02/2016       2.5  ...       1.0  0.0     156.0   \n",
              "2         SP      Biggin   4/03/2017       2.5  ...       2.0  0.0     134.0   \n",
              "3         PI      Biggin   4/03/2017       2.5  ...       2.0  1.0      94.0   \n",
              "4         VB      Nelson   4/06/2016       2.5  ...       1.0  2.0     120.0   \n",
              "...      ...         ...         ...       ...  ...       ...  ...       ...   \n",
              "18391     SP        Greg  26/08/2017       6.8  ...       2.0  1.0       NaN   \n",
              "18392     PI     Sweeney  26/08/2017       6.8  ...       1.0  5.0     866.0   \n",
              "18393      S  Buckingham  26/08/2017      12.7  ...       3.0  2.0       NaN   \n",
              "18394     SP     Village  26/08/2017       6.3  ...       1.0  1.0     362.0   \n",
              "18395     VB     Village  26/08/2017       6.3  ...       2.0  2.0       NaN   \n",
              "\n",
              "       BuildingArea  YearBuilt  CouncilArea  Lattitude Longtitude  \\\n",
              "0               NaN        NaN        Yarra  -37.79960  144.99840   \n",
              "1              79.0     1900.0        Yarra  -37.80790  144.99340   \n",
              "2             150.0     1900.0        Yarra  -37.80930  144.99440   \n",
              "3               NaN        NaN        Yarra  -37.79690  144.99690   \n",
              "4             142.0     2014.0        Yarra  -37.80720  144.99410   \n",
              "...             ...        ...          ...        ...        ...   \n",
              "18391          89.0     2010.0          NaN  -37.86393  144.90484   \n",
              "18392         157.0     1920.0          NaN  -37.85908  144.89299   \n",
              "18393           NaN        NaN          NaN  -37.72006  145.10547   \n",
              "18394         112.0     1920.0          NaN  -37.81188  144.88449   \n",
              "18395         139.0     1950.0          NaN  -37.81829  144.87404   \n",
              "\n",
              "                  Regionname  Propertycount  \n",
              "0      Northern Metropolitan         4019.0  \n",
              "1      Northern Metropolitan         4019.0  \n",
              "2      Northern Metropolitan         4019.0  \n",
              "3      Northern Metropolitan         4019.0  \n",
              "4      Northern Metropolitan         4019.0  \n",
              "...                      ...            ...  \n",
              "18391   Western Metropolitan         6380.0  \n",
              "18392   Western Metropolitan         6380.0  \n",
              "18393  Northern Metropolitan         1369.0  \n",
              "18394   Western Metropolitan         6543.0  \n",
              "18395   Western Metropolitan         6543.0  \n",
              "\n",
              "[18396 rows x 22 columns]"
            ]
          },
          "metadata": {},
          "output_type": "display_data"
        }
      ],
      "source": [
        "data = pd.read_csv('https://raw.githubusercontent.com/esabunor/MLWorkspace/master/melb_data.csv')\n",
        "display(data)"
      ]
    },
    {
      "cell_type": "markdown",
      "metadata": {
        "id": "SDjhTTltucFC"
      },
      "source": [
        "\n",
        "\n",
        "---\n",
        "\n",
        "# 5. Знакомимся с данными: недвижимость"
      ]
    },
    {
      "cell_type": "code",
      "execution_count": 6,
      "metadata": {
        "id": "_yQ7EeXJv1ZC"
      },
      "outputs": [],
      "source": [
        "melb_data = pd.read_csv('C:\\IDE\\DS_Course\\data\\melb_data.csv', sep=',')"
      ]
    },
    {
      "cell_type": "code",
      "execution_count": 7,
      "metadata": {
        "colab": {
          "base_uri": "https://localhost:8080/",
          "height": 713
        },
        "id": "BajtZxcjygTU",
        "outputId": "8772897a-e589-4f11-a53e-e1030945fd21"
      },
      "outputs": [
        {
          "data": {
            "text/html": [
              "<div>\n",
              "<style scoped>\n",
              "    .dataframe tbody tr th:only-of-type {\n",
              "        vertical-align: middle;\n",
              "    }\n",
              "\n",
              "    .dataframe tbody tr th {\n",
              "        vertical-align: top;\n",
              "    }\n",
              "\n",
              "    .dataframe thead th {\n",
              "        text-align: right;\n",
              "    }\n",
              "</style>\n",
              "<table border=\"1\" class=\"dataframe\">\n",
              "  <thead>\n",
              "    <tr style=\"text-align: right;\">\n",
              "      <th></th>\n",
              "      <th>index</th>\n",
              "      <th>Suburb</th>\n",
              "      <th>Address</th>\n",
              "      <th>Rooms</th>\n",
              "      <th>Type</th>\n",
              "      <th>Price</th>\n",
              "      <th>Method</th>\n",
              "      <th>SellerG</th>\n",
              "      <th>Date</th>\n",
              "      <th>Distance</th>\n",
              "      <th>...</th>\n",
              "      <th>Car</th>\n",
              "      <th>Landsize</th>\n",
              "      <th>BuildingArea</th>\n",
              "      <th>YearBuilt</th>\n",
              "      <th>CouncilArea</th>\n",
              "      <th>Lattitude</th>\n",
              "      <th>Longtitude</th>\n",
              "      <th>Regionname</th>\n",
              "      <th>Propertycount</th>\n",
              "      <th>Coordinates</th>\n",
              "    </tr>\n",
              "  </thead>\n",
              "  <tbody>\n",
              "    <tr>\n",
              "      <th>0</th>\n",
              "      <td>0</td>\n",
              "      <td>Abbotsford</td>\n",
              "      <td>85 Turner St</td>\n",
              "      <td>2</td>\n",
              "      <td>h</td>\n",
              "      <td>1480000.0</td>\n",
              "      <td>S</td>\n",
              "      <td>Biggin</td>\n",
              "      <td>3/12/2016</td>\n",
              "      <td>2.5</td>\n",
              "      <td>...</td>\n",
              "      <td>1.0</td>\n",
              "      <td>202.0</td>\n",
              "      <td>126.0</td>\n",
              "      <td>1970.0</td>\n",
              "      <td>Yarra</td>\n",
              "      <td>-37.79960</td>\n",
              "      <td>144.99840</td>\n",
              "      <td>Northern Metropolitan</td>\n",
              "      <td>4019.0</td>\n",
              "      <td>-37.7996, 144.9984</td>\n",
              "    </tr>\n",
              "    <tr>\n",
              "      <th>1</th>\n",
              "      <td>1</td>\n",
              "      <td>Abbotsford</td>\n",
              "      <td>25 Bloomburg St</td>\n",
              "      <td>2</td>\n",
              "      <td>h</td>\n",
              "      <td>1035000.0</td>\n",
              "      <td>S</td>\n",
              "      <td>Biggin</td>\n",
              "      <td>4/02/2016</td>\n",
              "      <td>2.5</td>\n",
              "      <td>...</td>\n",
              "      <td>0.0</td>\n",
              "      <td>156.0</td>\n",
              "      <td>79.0</td>\n",
              "      <td>1900.0</td>\n",
              "      <td>Yarra</td>\n",
              "      <td>-37.80790</td>\n",
              "      <td>144.99340</td>\n",
              "      <td>Northern Metropolitan</td>\n",
              "      <td>4019.0</td>\n",
              "      <td>-37.8079, 144.9934</td>\n",
              "    </tr>\n",
              "    <tr>\n",
              "      <th>2</th>\n",
              "      <td>2</td>\n",
              "      <td>Abbotsford</td>\n",
              "      <td>5 Charles St</td>\n",
              "      <td>3</td>\n",
              "      <td>h</td>\n",
              "      <td>1465000.0</td>\n",
              "      <td>SP</td>\n",
              "      <td>Biggin</td>\n",
              "      <td>4/03/2017</td>\n",
              "      <td>2.5</td>\n",
              "      <td>...</td>\n",
              "      <td>0.0</td>\n",
              "      <td>134.0</td>\n",
              "      <td>150.0</td>\n",
              "      <td>1900.0</td>\n",
              "      <td>Yarra</td>\n",
              "      <td>-37.80930</td>\n",
              "      <td>144.99440</td>\n",
              "      <td>Northern Metropolitan</td>\n",
              "      <td>4019.0</td>\n",
              "      <td>-37.8093, 144.9944</td>\n",
              "    </tr>\n",
              "    <tr>\n",
              "      <th>3</th>\n",
              "      <td>3</td>\n",
              "      <td>Abbotsford</td>\n",
              "      <td>40 Federation La</td>\n",
              "      <td>3</td>\n",
              "      <td>h</td>\n",
              "      <td>850000.0</td>\n",
              "      <td>PI</td>\n",
              "      <td>Biggin</td>\n",
              "      <td>4/03/2017</td>\n",
              "      <td>2.5</td>\n",
              "      <td>...</td>\n",
              "      <td>1.0</td>\n",
              "      <td>94.0</td>\n",
              "      <td>126.0</td>\n",
              "      <td>1970.0</td>\n",
              "      <td>Yarra</td>\n",
              "      <td>-37.79690</td>\n",
              "      <td>144.99690</td>\n",
              "      <td>Northern Metropolitan</td>\n",
              "      <td>4019.0</td>\n",
              "      <td>-37.7969, 144.9969</td>\n",
              "    </tr>\n",
              "    <tr>\n",
              "      <th>4</th>\n",
              "      <td>4</td>\n",
              "      <td>Abbotsford</td>\n",
              "      <td>55a Park St</td>\n",
              "      <td>4</td>\n",
              "      <td>h</td>\n",
              "      <td>1600000.0</td>\n",
              "      <td>VB</td>\n",
              "      <td>Nelson</td>\n",
              "      <td>4/06/2016</td>\n",
              "      <td>2.5</td>\n",
              "      <td>...</td>\n",
              "      <td>2.0</td>\n",
              "      <td>120.0</td>\n",
              "      <td>142.0</td>\n",
              "      <td>2014.0</td>\n",
              "      <td>Yarra</td>\n",
              "      <td>-37.80720</td>\n",
              "      <td>144.99410</td>\n",
              "      <td>Northern Metropolitan</td>\n",
              "      <td>4019.0</td>\n",
              "      <td>-37.8072, 144.9941</td>\n",
              "    </tr>\n",
              "    <tr>\n",
              "      <th>...</th>\n",
              "      <td>...</td>\n",
              "      <td>...</td>\n",
              "      <td>...</td>\n",
              "      <td>...</td>\n",
              "      <td>...</td>\n",
              "      <td>...</td>\n",
              "      <td>...</td>\n",
              "      <td>...</td>\n",
              "      <td>...</td>\n",
              "      <td>...</td>\n",
              "      <td>...</td>\n",
              "      <td>...</td>\n",
              "      <td>...</td>\n",
              "      <td>...</td>\n",
              "      <td>...</td>\n",
              "      <td>...</td>\n",
              "      <td>...</td>\n",
              "      <td>...</td>\n",
              "      <td>...</td>\n",
              "      <td>...</td>\n",
              "      <td>...</td>\n",
              "    </tr>\n",
              "    <tr>\n",
              "      <th>13575</th>\n",
              "      <td>13575</td>\n",
              "      <td>Wheelers Hill</td>\n",
              "      <td>12 Strada Cr</td>\n",
              "      <td>4</td>\n",
              "      <td>h</td>\n",
              "      <td>1245000.0</td>\n",
              "      <td>S</td>\n",
              "      <td>Barry</td>\n",
              "      <td>26/08/2017</td>\n",
              "      <td>16.7</td>\n",
              "      <td>...</td>\n",
              "      <td>2.0</td>\n",
              "      <td>652.0</td>\n",
              "      <td>126.0</td>\n",
              "      <td>1981.0</td>\n",
              "      <td>NaN</td>\n",
              "      <td>-37.90562</td>\n",
              "      <td>145.16761</td>\n",
              "      <td>South-Eastern Metropolitan</td>\n",
              "      <td>7392.0</td>\n",
              "      <td>-37.90562, 145.16761</td>\n",
              "    </tr>\n",
              "    <tr>\n",
              "      <th>13576</th>\n",
              "      <td>13576</td>\n",
              "      <td>Williamstown</td>\n",
              "      <td>77 Merrett Dr</td>\n",
              "      <td>3</td>\n",
              "      <td>h</td>\n",
              "      <td>1031000.0</td>\n",
              "      <td>SP</td>\n",
              "      <td>Williams</td>\n",
              "      <td>26/08/2017</td>\n",
              "      <td>6.8</td>\n",
              "      <td>...</td>\n",
              "      <td>2.0</td>\n",
              "      <td>333.0</td>\n",
              "      <td>133.0</td>\n",
              "      <td>1995.0</td>\n",
              "      <td>NaN</td>\n",
              "      <td>-37.85927</td>\n",
              "      <td>144.87904</td>\n",
              "      <td>Western Metropolitan</td>\n",
              "      <td>6380.0</td>\n",
              "      <td>-37.85927, 144.87904</td>\n",
              "    </tr>\n",
              "    <tr>\n",
              "      <th>13577</th>\n",
              "      <td>13577</td>\n",
              "      <td>Williamstown</td>\n",
              "      <td>83 Power St</td>\n",
              "      <td>3</td>\n",
              "      <td>h</td>\n",
              "      <td>1170000.0</td>\n",
              "      <td>S</td>\n",
              "      <td>Raine</td>\n",
              "      <td>26/08/2017</td>\n",
              "      <td>6.8</td>\n",
              "      <td>...</td>\n",
              "      <td>4.0</td>\n",
              "      <td>436.0</td>\n",
              "      <td>126.0</td>\n",
              "      <td>1997.0</td>\n",
              "      <td>NaN</td>\n",
              "      <td>-37.85274</td>\n",
              "      <td>144.88738</td>\n",
              "      <td>Western Metropolitan</td>\n",
              "      <td>6380.0</td>\n",
              "      <td>-37.85274, 144.88738</td>\n",
              "    </tr>\n",
              "    <tr>\n",
              "      <th>13578</th>\n",
              "      <td>13578</td>\n",
              "      <td>Williamstown</td>\n",
              "      <td>96 Verdon St</td>\n",
              "      <td>4</td>\n",
              "      <td>h</td>\n",
              "      <td>2500000.0</td>\n",
              "      <td>PI</td>\n",
              "      <td>Sweeney</td>\n",
              "      <td>26/08/2017</td>\n",
              "      <td>6.8</td>\n",
              "      <td>...</td>\n",
              "      <td>5.0</td>\n",
              "      <td>866.0</td>\n",
              "      <td>157.0</td>\n",
              "      <td>1920.0</td>\n",
              "      <td>NaN</td>\n",
              "      <td>-37.85908</td>\n",
              "      <td>144.89299</td>\n",
              "      <td>Western Metropolitan</td>\n",
              "      <td>6380.0</td>\n",
              "      <td>-37.85908, 144.89299</td>\n",
              "    </tr>\n",
              "    <tr>\n",
              "      <th>13579</th>\n",
              "      <td>13579</td>\n",
              "      <td>Yarraville</td>\n",
              "      <td>6 Agnes St</td>\n",
              "      <td>4</td>\n",
              "      <td>h</td>\n",
              "      <td>1285000.0</td>\n",
              "      <td>SP</td>\n",
              "      <td>Village</td>\n",
              "      <td>26/08/2017</td>\n",
              "      <td>6.3</td>\n",
              "      <td>...</td>\n",
              "      <td>1.0</td>\n",
              "      <td>362.0</td>\n",
              "      <td>112.0</td>\n",
              "      <td>1920.0</td>\n",
              "      <td>NaN</td>\n",
              "      <td>-37.81188</td>\n",
              "      <td>144.88449</td>\n",
              "      <td>Western Metropolitan</td>\n",
              "      <td>6543.0</td>\n",
              "      <td>-37.81188, 144.88449</td>\n",
              "    </tr>\n",
              "  </tbody>\n",
              "</table>\n",
              "<p>13580 rows × 23 columns</p>\n",
              "</div>"
            ],
            "text/plain": [
              "       index         Suburb           Address  Rooms Type      Price Method  \\\n",
              "0          0     Abbotsford      85 Turner St      2    h  1480000.0      S   \n",
              "1          1     Abbotsford   25 Bloomburg St      2    h  1035000.0      S   \n",
              "2          2     Abbotsford      5 Charles St      3    h  1465000.0     SP   \n",
              "3          3     Abbotsford  40 Federation La      3    h   850000.0     PI   \n",
              "4          4     Abbotsford       55a Park St      4    h  1600000.0     VB   \n",
              "...      ...            ...               ...    ...  ...        ...    ...   \n",
              "13575  13575  Wheelers Hill      12 Strada Cr      4    h  1245000.0      S   \n",
              "13576  13576   Williamstown     77 Merrett Dr      3    h  1031000.0     SP   \n",
              "13577  13577   Williamstown       83 Power St      3    h  1170000.0      S   \n",
              "13578  13578   Williamstown      96 Verdon St      4    h  2500000.0     PI   \n",
              "13579  13579     Yarraville        6 Agnes St      4    h  1285000.0     SP   \n",
              "\n",
              "        SellerG        Date  Distance  ...  Car  Landsize  BuildingArea  \\\n",
              "0        Biggin   3/12/2016       2.5  ...  1.0     202.0         126.0   \n",
              "1        Biggin   4/02/2016       2.5  ...  0.0     156.0          79.0   \n",
              "2        Biggin   4/03/2017       2.5  ...  0.0     134.0         150.0   \n",
              "3        Biggin   4/03/2017       2.5  ...  1.0      94.0         126.0   \n",
              "4        Nelson   4/06/2016       2.5  ...  2.0     120.0         142.0   \n",
              "...         ...         ...       ...  ...  ...       ...           ...   \n",
              "13575     Barry  26/08/2017      16.7  ...  2.0     652.0         126.0   \n",
              "13576  Williams  26/08/2017       6.8  ...  2.0     333.0         133.0   \n",
              "13577     Raine  26/08/2017       6.8  ...  4.0     436.0         126.0   \n",
              "13578   Sweeney  26/08/2017       6.8  ...  5.0     866.0         157.0   \n",
              "13579   Village  26/08/2017       6.3  ...  1.0     362.0         112.0   \n",
              "\n",
              "       YearBuilt  CouncilArea  Lattitude  Longtitude  \\\n",
              "0         1970.0        Yarra  -37.79960   144.99840   \n",
              "1         1900.0        Yarra  -37.80790   144.99340   \n",
              "2         1900.0        Yarra  -37.80930   144.99440   \n",
              "3         1970.0        Yarra  -37.79690   144.99690   \n",
              "4         2014.0        Yarra  -37.80720   144.99410   \n",
              "...          ...          ...        ...         ...   \n",
              "13575     1981.0          NaN  -37.90562   145.16761   \n",
              "13576     1995.0          NaN  -37.85927   144.87904   \n",
              "13577     1997.0          NaN  -37.85274   144.88738   \n",
              "13578     1920.0          NaN  -37.85908   144.89299   \n",
              "13579     1920.0          NaN  -37.81188   144.88449   \n",
              "\n",
              "                       Regionname  Propertycount           Coordinates  \n",
              "0           Northern Metropolitan         4019.0    -37.7996, 144.9984  \n",
              "1           Northern Metropolitan         4019.0    -37.8079, 144.9934  \n",
              "2           Northern Metropolitan         4019.0    -37.8093, 144.9944  \n",
              "3           Northern Metropolitan         4019.0    -37.7969, 144.9969  \n",
              "4           Northern Metropolitan         4019.0    -37.8072, 144.9941  \n",
              "...                           ...            ...                   ...  \n",
              "13575  South-Eastern Metropolitan         7392.0  -37.90562, 145.16761  \n",
              "13576        Western Metropolitan         6380.0  -37.85927, 144.87904  \n",
              "13577        Western Metropolitan         6380.0  -37.85274, 144.88738  \n",
              "13578        Western Metropolitan         6380.0  -37.85908, 144.89299  \n",
              "13579        Western Metropolitan         6543.0  -37.81188, 144.88449  \n",
              "\n",
              "[13580 rows x 23 columns]"
            ]
          },
          "execution_count": 7,
          "metadata": {},
          "output_type": "execute_result"
        }
      ],
      "source": [
        "melb_data"
      ]
    },
    {
      "cell_type": "code",
      "execution_count": 8,
      "metadata": {
        "colab": {
          "base_uri": "https://localhost:8080/"
        },
        "id": "Kmgm1EDnwd2C",
        "outputId": "da0f49a4-3d43-41e5-828b-6d93cd749e43"
      },
      "outputs": [
        {
          "data": {
            "text/plain": [
              "1310000.0"
            ]
          },
          "execution_count": 8,
          "metadata": {},
          "output_type": "execute_result"
        }
      ],
      "source": [
        "# ЗАДАНИЕ 5.1\n",
        "melb_data.loc[15, 'Price']"
      ]
    },
    {
      "cell_type": "code",
      "execution_count": 9,
      "metadata": {
        "colab": {
          "base_uri": "https://localhost:8080/",
          "height": 35
        },
        "id": "MmEgaAWjwt8I",
        "outputId": "6e610047-b264-4358-ecff-aea7a8b2add4"
      },
      "outputs": [
        {
          "data": {
            "text/plain": [
              "'10/09/2016'"
            ]
          },
          "execution_count": 9,
          "metadata": {},
          "output_type": "execute_result"
        }
      ],
      "source": [
        "# ЗАДАНИЕ 5.2\n",
        "melb_data.loc[90, 'Date']"
      ]
    },
    {
      "cell_type": "code",
      "execution_count": 10,
      "metadata": {
        "colab": {
          "base_uri": "https://localhost:8080/"
        },
        "id": "F9HpECexxATq",
        "outputId": "59506195-1696-4c2f-c27a-2d86d1ccfdd6"
      },
      "outputs": [
        {
          "data": {
            "text/plain": [
              "3"
            ]
          },
          "execution_count": 10,
          "metadata": {},
          "output_type": "execute_result"
        }
      ],
      "source": [
        "# ЗАДАНИЕ 5.3\n",
        "round(melb_data.iloc[3521]['Landsize'] / melb_data.iloc[1690]['Landsize'])"
      ]
    },
    {
      "cell_type": "markdown",
      "metadata": {
        "id": "qydgu6lEzERq"
      },
      "source": [
        "\n",
        "\n",
        "---\n",
        "\n",
        "# 6. Исследование структуры DataFrame"
      ]
    },
    {
      "cell_type": "markdown",
      "metadata": {
        "id": "FtlFceul2IRV"
      },
      "source": [
        "ВЫВОД ПЕРВЫХ И ПОСЛЕДНИХ СТРОК"
      ]
    },
    {
      "cell_type": "code",
      "execution_count": 11,
      "metadata": {
        "colab": {
          "base_uri": "https://localhost:8080/",
          "height": 421
        },
        "id": "dhlcLmh4z8D_",
        "outputId": "4f4c7c32-19af-4fc2-af0e-5df2567cde43"
      },
      "outputs": [
        {
          "data": {
            "text/html": [
              "<div>\n",
              "<style scoped>\n",
              "    .dataframe tbody tr th:only-of-type {\n",
              "        vertical-align: middle;\n",
              "    }\n",
              "\n",
              "    .dataframe tbody tr th {\n",
              "        vertical-align: top;\n",
              "    }\n",
              "\n",
              "    .dataframe thead th {\n",
              "        text-align: right;\n",
              "    }\n",
              "</style>\n",
              "<table border=\"1\" class=\"dataframe\">\n",
              "  <thead>\n",
              "    <tr style=\"text-align: right;\">\n",
              "      <th></th>\n",
              "      <th>index</th>\n",
              "      <th>Suburb</th>\n",
              "      <th>Address</th>\n",
              "      <th>Rooms</th>\n",
              "      <th>Type</th>\n",
              "      <th>Price</th>\n",
              "      <th>Method</th>\n",
              "      <th>SellerG</th>\n",
              "      <th>Date</th>\n",
              "      <th>Distance</th>\n",
              "      <th>...</th>\n",
              "      <th>Car</th>\n",
              "      <th>Landsize</th>\n",
              "      <th>BuildingArea</th>\n",
              "      <th>YearBuilt</th>\n",
              "      <th>CouncilArea</th>\n",
              "      <th>Lattitude</th>\n",
              "      <th>Longtitude</th>\n",
              "      <th>Regionname</th>\n",
              "      <th>Propertycount</th>\n",
              "      <th>Coordinates</th>\n",
              "    </tr>\n",
              "  </thead>\n",
              "  <tbody>\n",
              "    <tr>\n",
              "      <th>0</th>\n",
              "      <td>0</td>\n",
              "      <td>Abbotsford</td>\n",
              "      <td>85 Turner St</td>\n",
              "      <td>2</td>\n",
              "      <td>h</td>\n",
              "      <td>1480000.0</td>\n",
              "      <td>S</td>\n",
              "      <td>Biggin</td>\n",
              "      <td>3/12/2016</td>\n",
              "      <td>2.5</td>\n",
              "      <td>...</td>\n",
              "      <td>1.0</td>\n",
              "      <td>202.0</td>\n",
              "      <td>126.0</td>\n",
              "      <td>1970.0</td>\n",
              "      <td>Yarra</td>\n",
              "      <td>-37.7996</td>\n",
              "      <td>144.9984</td>\n",
              "      <td>Northern Metropolitan</td>\n",
              "      <td>4019.0</td>\n",
              "      <td>-37.7996, 144.9984</td>\n",
              "    </tr>\n",
              "    <tr>\n",
              "      <th>1</th>\n",
              "      <td>1</td>\n",
              "      <td>Abbotsford</td>\n",
              "      <td>25 Bloomburg St</td>\n",
              "      <td>2</td>\n",
              "      <td>h</td>\n",
              "      <td>1035000.0</td>\n",
              "      <td>S</td>\n",
              "      <td>Biggin</td>\n",
              "      <td>4/02/2016</td>\n",
              "      <td>2.5</td>\n",
              "      <td>...</td>\n",
              "      <td>0.0</td>\n",
              "      <td>156.0</td>\n",
              "      <td>79.0</td>\n",
              "      <td>1900.0</td>\n",
              "      <td>Yarra</td>\n",
              "      <td>-37.8079</td>\n",
              "      <td>144.9934</td>\n",
              "      <td>Northern Metropolitan</td>\n",
              "      <td>4019.0</td>\n",
              "      <td>-37.8079, 144.9934</td>\n",
              "    </tr>\n",
              "    <tr>\n",
              "      <th>2</th>\n",
              "      <td>2</td>\n",
              "      <td>Abbotsford</td>\n",
              "      <td>5 Charles St</td>\n",
              "      <td>3</td>\n",
              "      <td>h</td>\n",
              "      <td>1465000.0</td>\n",
              "      <td>SP</td>\n",
              "      <td>Biggin</td>\n",
              "      <td>4/03/2017</td>\n",
              "      <td>2.5</td>\n",
              "      <td>...</td>\n",
              "      <td>0.0</td>\n",
              "      <td>134.0</td>\n",
              "      <td>150.0</td>\n",
              "      <td>1900.0</td>\n",
              "      <td>Yarra</td>\n",
              "      <td>-37.8093</td>\n",
              "      <td>144.9944</td>\n",
              "      <td>Northern Metropolitan</td>\n",
              "      <td>4019.0</td>\n",
              "      <td>-37.8093, 144.9944</td>\n",
              "    </tr>\n",
              "    <tr>\n",
              "      <th>3</th>\n",
              "      <td>3</td>\n",
              "      <td>Abbotsford</td>\n",
              "      <td>40 Federation La</td>\n",
              "      <td>3</td>\n",
              "      <td>h</td>\n",
              "      <td>850000.0</td>\n",
              "      <td>PI</td>\n",
              "      <td>Biggin</td>\n",
              "      <td>4/03/2017</td>\n",
              "      <td>2.5</td>\n",
              "      <td>...</td>\n",
              "      <td>1.0</td>\n",
              "      <td>94.0</td>\n",
              "      <td>126.0</td>\n",
              "      <td>1970.0</td>\n",
              "      <td>Yarra</td>\n",
              "      <td>-37.7969</td>\n",
              "      <td>144.9969</td>\n",
              "      <td>Northern Metropolitan</td>\n",
              "      <td>4019.0</td>\n",
              "      <td>-37.7969, 144.9969</td>\n",
              "    </tr>\n",
              "    <tr>\n",
              "      <th>4</th>\n",
              "      <td>4</td>\n",
              "      <td>Abbotsford</td>\n",
              "      <td>55a Park St</td>\n",
              "      <td>4</td>\n",
              "      <td>h</td>\n",
              "      <td>1600000.0</td>\n",
              "      <td>VB</td>\n",
              "      <td>Nelson</td>\n",
              "      <td>4/06/2016</td>\n",
              "      <td>2.5</td>\n",
              "      <td>...</td>\n",
              "      <td>2.0</td>\n",
              "      <td>120.0</td>\n",
              "      <td>142.0</td>\n",
              "      <td>2014.0</td>\n",
              "      <td>Yarra</td>\n",
              "      <td>-37.8072</td>\n",
              "      <td>144.9941</td>\n",
              "      <td>Northern Metropolitan</td>\n",
              "      <td>4019.0</td>\n",
              "      <td>-37.8072, 144.9941</td>\n",
              "    </tr>\n",
              "  </tbody>\n",
              "</table>\n",
              "<p>5 rows × 23 columns</p>\n",
              "</div>"
            ],
            "text/plain": [
              "   index      Suburb           Address  Rooms Type      Price Method SellerG  \\\n",
              "0      0  Abbotsford      85 Turner St      2    h  1480000.0      S  Biggin   \n",
              "1      1  Abbotsford   25 Bloomburg St      2    h  1035000.0      S  Biggin   \n",
              "2      2  Abbotsford      5 Charles St      3    h  1465000.0     SP  Biggin   \n",
              "3      3  Abbotsford  40 Federation La      3    h   850000.0     PI  Biggin   \n",
              "4      4  Abbotsford       55a Park St      4    h  1600000.0     VB  Nelson   \n",
              "\n",
              "        Date  Distance  ...  Car  Landsize  BuildingArea  YearBuilt  \\\n",
              "0  3/12/2016       2.5  ...  1.0     202.0         126.0     1970.0   \n",
              "1  4/02/2016       2.5  ...  0.0     156.0          79.0     1900.0   \n",
              "2  4/03/2017       2.5  ...  0.0     134.0         150.0     1900.0   \n",
              "3  4/03/2017       2.5  ...  1.0      94.0         126.0     1970.0   \n",
              "4  4/06/2016       2.5  ...  2.0     120.0         142.0     2014.0   \n",
              "\n",
              "   CouncilArea  Lattitude  Longtitude             Regionname  Propertycount  \\\n",
              "0        Yarra   -37.7996    144.9984  Northern Metropolitan         4019.0   \n",
              "1        Yarra   -37.8079    144.9934  Northern Metropolitan         4019.0   \n",
              "2        Yarra   -37.8093    144.9944  Northern Metropolitan         4019.0   \n",
              "3        Yarra   -37.7969    144.9969  Northern Metropolitan         4019.0   \n",
              "4        Yarra   -37.8072    144.9941  Northern Metropolitan         4019.0   \n",
              "\n",
              "          Coordinates  \n",
              "0  -37.7996, 144.9984  \n",
              "1  -37.8079, 144.9934  \n",
              "2  -37.8093, 144.9944  \n",
              "3  -37.7969, 144.9969  \n",
              "4  -37.8072, 144.9941  \n",
              "\n",
              "[5 rows x 23 columns]"
            ]
          },
          "metadata": {},
          "output_type": "display_data"
        }
      ],
      "source": [
        "display(melb_data.head())"
      ]
    },
    {
      "cell_type": "code",
      "execution_count": 12,
      "metadata": {
        "colab": {
          "base_uri": "https://localhost:8080/",
          "height": 553
        },
        "id": "wbe9MUbe0F6e",
        "outputId": "34632df2-1509-4cc5-cbb4-2b6cb0e5a57d"
      },
      "outputs": [
        {
          "data": {
            "text/html": [
              "<div>\n",
              "<style scoped>\n",
              "    .dataframe tbody tr th:only-of-type {\n",
              "        vertical-align: middle;\n",
              "    }\n",
              "\n",
              "    .dataframe tbody tr th {\n",
              "        vertical-align: top;\n",
              "    }\n",
              "\n",
              "    .dataframe thead th {\n",
              "        text-align: right;\n",
              "    }\n",
              "</style>\n",
              "<table border=\"1\" class=\"dataframe\">\n",
              "  <thead>\n",
              "    <tr style=\"text-align: right;\">\n",
              "      <th></th>\n",
              "      <th>index</th>\n",
              "      <th>Suburb</th>\n",
              "      <th>Address</th>\n",
              "      <th>Rooms</th>\n",
              "      <th>Type</th>\n",
              "      <th>Price</th>\n",
              "      <th>Method</th>\n",
              "      <th>SellerG</th>\n",
              "      <th>Date</th>\n",
              "      <th>Distance</th>\n",
              "      <th>...</th>\n",
              "      <th>Car</th>\n",
              "      <th>Landsize</th>\n",
              "      <th>BuildingArea</th>\n",
              "      <th>YearBuilt</th>\n",
              "      <th>CouncilArea</th>\n",
              "      <th>Lattitude</th>\n",
              "      <th>Longtitude</th>\n",
              "      <th>Regionname</th>\n",
              "      <th>Propertycount</th>\n",
              "      <th>Coordinates</th>\n",
              "    </tr>\n",
              "  </thead>\n",
              "  <tbody>\n",
              "    <tr>\n",
              "      <th>13573</th>\n",
              "      <td>13573</td>\n",
              "      <td>Werribee</td>\n",
              "      <td>5 Nuragi Ct</td>\n",
              "      <td>4</td>\n",
              "      <td>h</td>\n",
              "      <td>635000.0</td>\n",
              "      <td>S</td>\n",
              "      <td>hockingstuart</td>\n",
              "      <td>26/08/2017</td>\n",
              "      <td>14.7</td>\n",
              "      <td>...</td>\n",
              "      <td>1.0</td>\n",
              "      <td>662.0</td>\n",
              "      <td>172.0</td>\n",
              "      <td>1980.0</td>\n",
              "      <td>NaN</td>\n",
              "      <td>-37.89327</td>\n",
              "      <td>144.64789</td>\n",
              "      <td>Western Metropolitan</td>\n",
              "      <td>16166.0</td>\n",
              "      <td>-37.89327, 144.64789</td>\n",
              "    </tr>\n",
              "    <tr>\n",
              "      <th>13574</th>\n",
              "      <td>13574</td>\n",
              "      <td>Westmeadows</td>\n",
              "      <td>9 Black St</td>\n",
              "      <td>3</td>\n",
              "      <td>h</td>\n",
              "      <td>582000.0</td>\n",
              "      <td>S</td>\n",
              "      <td>Red</td>\n",
              "      <td>26/08/2017</td>\n",
              "      <td>16.5</td>\n",
              "      <td>...</td>\n",
              "      <td>2.0</td>\n",
              "      <td>256.0</td>\n",
              "      <td>126.0</td>\n",
              "      <td>1970.0</td>\n",
              "      <td>NaN</td>\n",
              "      <td>-37.67917</td>\n",
              "      <td>144.89390</td>\n",
              "      <td>Northern Metropolitan</td>\n",
              "      <td>2474.0</td>\n",
              "      <td>-37.67917, 144.8939</td>\n",
              "    </tr>\n",
              "    <tr>\n",
              "      <th>13575</th>\n",
              "      <td>13575</td>\n",
              "      <td>Wheelers Hill</td>\n",
              "      <td>12 Strada Cr</td>\n",
              "      <td>4</td>\n",
              "      <td>h</td>\n",
              "      <td>1245000.0</td>\n",
              "      <td>S</td>\n",
              "      <td>Barry</td>\n",
              "      <td>26/08/2017</td>\n",
              "      <td>16.7</td>\n",
              "      <td>...</td>\n",
              "      <td>2.0</td>\n",
              "      <td>652.0</td>\n",
              "      <td>126.0</td>\n",
              "      <td>1981.0</td>\n",
              "      <td>NaN</td>\n",
              "      <td>-37.90562</td>\n",
              "      <td>145.16761</td>\n",
              "      <td>South-Eastern Metropolitan</td>\n",
              "      <td>7392.0</td>\n",
              "      <td>-37.90562, 145.16761</td>\n",
              "    </tr>\n",
              "    <tr>\n",
              "      <th>13576</th>\n",
              "      <td>13576</td>\n",
              "      <td>Williamstown</td>\n",
              "      <td>77 Merrett Dr</td>\n",
              "      <td>3</td>\n",
              "      <td>h</td>\n",
              "      <td>1031000.0</td>\n",
              "      <td>SP</td>\n",
              "      <td>Williams</td>\n",
              "      <td>26/08/2017</td>\n",
              "      <td>6.8</td>\n",
              "      <td>...</td>\n",
              "      <td>2.0</td>\n",
              "      <td>333.0</td>\n",
              "      <td>133.0</td>\n",
              "      <td>1995.0</td>\n",
              "      <td>NaN</td>\n",
              "      <td>-37.85927</td>\n",
              "      <td>144.87904</td>\n",
              "      <td>Western Metropolitan</td>\n",
              "      <td>6380.0</td>\n",
              "      <td>-37.85927, 144.87904</td>\n",
              "    </tr>\n",
              "    <tr>\n",
              "      <th>13577</th>\n",
              "      <td>13577</td>\n",
              "      <td>Williamstown</td>\n",
              "      <td>83 Power St</td>\n",
              "      <td>3</td>\n",
              "      <td>h</td>\n",
              "      <td>1170000.0</td>\n",
              "      <td>S</td>\n",
              "      <td>Raine</td>\n",
              "      <td>26/08/2017</td>\n",
              "      <td>6.8</td>\n",
              "      <td>...</td>\n",
              "      <td>4.0</td>\n",
              "      <td>436.0</td>\n",
              "      <td>126.0</td>\n",
              "      <td>1997.0</td>\n",
              "      <td>NaN</td>\n",
              "      <td>-37.85274</td>\n",
              "      <td>144.88738</td>\n",
              "      <td>Western Metropolitan</td>\n",
              "      <td>6380.0</td>\n",
              "      <td>-37.85274, 144.88738</td>\n",
              "    </tr>\n",
              "    <tr>\n",
              "      <th>13578</th>\n",
              "      <td>13578</td>\n",
              "      <td>Williamstown</td>\n",
              "      <td>96 Verdon St</td>\n",
              "      <td>4</td>\n",
              "      <td>h</td>\n",
              "      <td>2500000.0</td>\n",
              "      <td>PI</td>\n",
              "      <td>Sweeney</td>\n",
              "      <td>26/08/2017</td>\n",
              "      <td>6.8</td>\n",
              "      <td>...</td>\n",
              "      <td>5.0</td>\n",
              "      <td>866.0</td>\n",
              "      <td>157.0</td>\n",
              "      <td>1920.0</td>\n",
              "      <td>NaN</td>\n",
              "      <td>-37.85908</td>\n",
              "      <td>144.89299</td>\n",
              "      <td>Western Metropolitan</td>\n",
              "      <td>6380.0</td>\n",
              "      <td>-37.85908, 144.89299</td>\n",
              "    </tr>\n",
              "    <tr>\n",
              "      <th>13579</th>\n",
              "      <td>13579</td>\n",
              "      <td>Yarraville</td>\n",
              "      <td>6 Agnes St</td>\n",
              "      <td>4</td>\n",
              "      <td>h</td>\n",
              "      <td>1285000.0</td>\n",
              "      <td>SP</td>\n",
              "      <td>Village</td>\n",
              "      <td>26/08/2017</td>\n",
              "      <td>6.3</td>\n",
              "      <td>...</td>\n",
              "      <td>1.0</td>\n",
              "      <td>362.0</td>\n",
              "      <td>112.0</td>\n",
              "      <td>1920.0</td>\n",
              "      <td>NaN</td>\n",
              "      <td>-37.81188</td>\n",
              "      <td>144.88449</td>\n",
              "      <td>Western Metropolitan</td>\n",
              "      <td>6543.0</td>\n",
              "      <td>-37.81188, 144.88449</td>\n",
              "    </tr>\n",
              "  </tbody>\n",
              "</table>\n",
              "<p>7 rows × 23 columns</p>\n",
              "</div>"
            ],
            "text/plain": [
              "       index         Suburb        Address  Rooms Type      Price Method  \\\n",
              "13573  13573       Werribee    5 Nuragi Ct      4    h   635000.0      S   \n",
              "13574  13574    Westmeadows     9 Black St      3    h   582000.0      S   \n",
              "13575  13575  Wheelers Hill   12 Strada Cr      4    h  1245000.0      S   \n",
              "13576  13576   Williamstown  77 Merrett Dr      3    h  1031000.0     SP   \n",
              "13577  13577   Williamstown    83 Power St      3    h  1170000.0      S   \n",
              "13578  13578   Williamstown   96 Verdon St      4    h  2500000.0     PI   \n",
              "13579  13579     Yarraville     6 Agnes St      4    h  1285000.0     SP   \n",
              "\n",
              "             SellerG        Date  Distance  ...  Car  Landsize  BuildingArea  \\\n",
              "13573  hockingstuart  26/08/2017      14.7  ...  1.0     662.0         172.0   \n",
              "13574            Red  26/08/2017      16.5  ...  2.0     256.0         126.0   \n",
              "13575          Barry  26/08/2017      16.7  ...  2.0     652.0         126.0   \n",
              "13576       Williams  26/08/2017       6.8  ...  2.0     333.0         133.0   \n",
              "13577          Raine  26/08/2017       6.8  ...  4.0     436.0         126.0   \n",
              "13578        Sweeney  26/08/2017       6.8  ...  5.0     866.0         157.0   \n",
              "13579        Village  26/08/2017       6.3  ...  1.0     362.0         112.0   \n",
              "\n",
              "       YearBuilt  CouncilArea  Lattitude  Longtitude  \\\n",
              "13573     1980.0          NaN  -37.89327   144.64789   \n",
              "13574     1970.0          NaN  -37.67917   144.89390   \n",
              "13575     1981.0          NaN  -37.90562   145.16761   \n",
              "13576     1995.0          NaN  -37.85927   144.87904   \n",
              "13577     1997.0          NaN  -37.85274   144.88738   \n",
              "13578     1920.0          NaN  -37.85908   144.89299   \n",
              "13579     1920.0          NaN  -37.81188   144.88449   \n",
              "\n",
              "                       Regionname  Propertycount           Coordinates  \n",
              "13573        Western Metropolitan        16166.0  -37.89327, 144.64789  \n",
              "13574       Northern Metropolitan         2474.0   -37.67917, 144.8939  \n",
              "13575  South-Eastern Metropolitan         7392.0  -37.90562, 145.16761  \n",
              "13576        Western Metropolitan         6380.0  -37.85927, 144.87904  \n",
              "13577        Western Metropolitan         6380.0  -37.85274, 144.88738  \n",
              "13578        Western Metropolitan         6380.0  -37.85908, 144.89299  \n",
              "13579        Western Metropolitan         6543.0  -37.81188, 144.88449  \n",
              "\n",
              "[7 rows x 23 columns]"
            ]
          },
          "execution_count": 12,
          "metadata": {},
          "output_type": "execute_result"
        }
      ],
      "source": [
        "melb_data.tail(7)"
      ]
    },
    {
      "cell_type": "markdown",
      "metadata": {
        "id": "pjiXsp2Y2Dvg"
      },
      "source": [
        "РАЗМЕРНОСТЬ ТАБЛИЦЫ"
      ]
    },
    {
      "cell_type": "code",
      "execution_count": null,
      "metadata": {
        "colab": {
          "base_uri": "https://localhost:8080/"
        },
        "id": "15GWkKtd0QyI",
        "outputId": "e20fc683-28c6-4392-8c73-d55b0ee1afc9"
      },
      "outputs": [
        {
          "data": {
            "text/plain": [
              "(13580, 23)"
            ]
          },
          "execution_count": 53,
          "metadata": {},
          "output_type": "execute_result"
        }
      ],
      "source": [
        "melb_data.shape\n",
        "# (13580, 23)"
      ]
    },
    {
      "cell_type": "markdown",
      "metadata": {
        "id": "J8syF3wi1_uR"
      },
      "source": [
        "ПОЛУЧЕНИЕ ИНФОРМАЦИИ О СТОЛБЦАХ"
      ]
    },
    {
      "cell_type": "code",
      "execution_count": 8,
      "metadata": {
        "colab": {
          "base_uri": "https://localhost:8080/"
        },
        "id": "VoGVe3F00dyu",
        "outputId": "c8e185c4-1b06-46c0-ca21-cb0f08189e6a"
      },
      "outputs": [
        {
          "name": "stdout",
          "output_type": "stream",
          "text": [
            "<class 'pandas.core.frame.DataFrame'>\n",
            "RangeIndex: 13580 entries, 0 to 13579\n",
            "Data columns (total 23 columns):\n",
            " #   Column         Non-Null Count  Dtype  \n",
            "---  ------         --------------  -----  \n",
            " 0   index          13580 non-null  int64  \n",
            " 1   Suburb         13580 non-null  object \n",
            " 2   Address        13580 non-null  object \n",
            " 3   Rooms          13580 non-null  int64  \n",
            " 4   Type           13580 non-null  object \n",
            " 5   Price          13580 non-null  float64\n",
            " 6   Method         13580 non-null  object \n",
            " 7   SellerG        13580 non-null  object \n",
            " 8   Date           13580 non-null  object \n",
            " 9   Distance       13580 non-null  float64\n",
            " 10  Postcode       13580 non-null  int64  \n",
            " 11  Bedroom        13580 non-null  float64\n",
            " 12  Bathroom       13580 non-null  float64\n",
            " 13  Car            13580 non-null  float64\n",
            " 14  Landsize       13580 non-null  float64\n",
            " 15  BuildingArea   13580 non-null  float64\n",
            " 16  YearBuilt      13580 non-null  float64\n",
            " 17  CouncilArea    12211 non-null  object \n",
            " 18  Lattitude      13580 non-null  float64\n",
            " 19  Longtitude     13580 non-null  float64\n",
            " 20  Regionname     13580 non-null  object \n",
            " 21  Propertycount  13580 non-null  float64\n",
            " 22  Coordinates    13580 non-null  object \n",
            "dtypes: float64(11), int64(3), object(9)\n",
            "memory usage: 2.4+ MB\n"
          ]
        }
      ],
      "source": [
        "melb_data.info()"
      ]
    },
    {
      "cell_type": "markdown",
      "metadata": {
        "id": "IeghqTeL18Ae"
      },
      "source": [
        "ИЗМЕНЕНИЕ ТИПА ДАННЫХ В СТОЛБЦЕ"
      ]
    },
    {
      "cell_type": "code",
      "execution_count": 9,
      "metadata": {
        "colab": {
          "base_uri": "https://localhost:8080/"
        },
        "id": "YHuiC3O21iKn",
        "outputId": "66d07672-9737-4a3f-9ead-ed0fde6eb34e"
      },
      "outputs": [
        {
          "name": "stdout",
          "output_type": "stream",
          "text": [
            "<class 'pandas.core.frame.DataFrame'>\n",
            "RangeIndex: 13580 entries, 0 to 13579\n",
            "Data columns (total 23 columns):\n",
            " #   Column         Non-Null Count  Dtype  \n",
            "---  ------         --------------  -----  \n",
            " 0   index          13580 non-null  int64  \n",
            " 1   Suburb         13580 non-null  object \n",
            " 2   Address        13580 non-null  object \n",
            " 3   Rooms          13580 non-null  int64  \n",
            " 4   Type           13580 non-null  object \n",
            " 5   Price          13580 non-null  float64\n",
            " 6   Method         13580 non-null  object \n",
            " 7   SellerG        13580 non-null  object \n",
            " 8   Date           13580 non-null  object \n",
            " 9   Distance       13580 non-null  float64\n",
            " 10  Postcode       13580 non-null  int64  \n",
            " 11  Bedroom        13580 non-null  int64  \n",
            " 12  Bathroom       13580 non-null  int64  \n",
            " 13  Car            13580 non-null  int64  \n",
            " 14  Landsize       13580 non-null  float64\n",
            " 15  BuildingArea   13580 non-null  float64\n",
            " 16  YearBuilt      13580 non-null  int64  \n",
            " 17  CouncilArea    12211 non-null  object \n",
            " 18  Lattitude      13580 non-null  float64\n",
            " 19  Longtitude     13580 non-null  float64\n",
            " 20  Regionname     13580 non-null  object \n",
            " 21  Propertycount  13580 non-null  int64  \n",
            " 22  Coordinates    13580 non-null  object \n",
            "dtypes: float64(6), int64(8), object(9)\n",
            "memory usage: 2.4+ MB\n"
          ]
        }
      ],
      "source": [
        "melb_data['Car'] = melb_data['Car'].astype('int64')\n",
        "melb_data['Bedroom'] = melb_data['Bedroom'].astype('int64')\n",
        "melb_data['Bathroom'] = melb_data['Bathroom'].astype('int64')\n",
        "melb_data['Propertycount'] = melb_data['Propertycount'].astype('int64')\n",
        "melb_data['YearBuilt'] = melb_data['YearBuilt'].astype('int64')\n",
        "melb_data.info()"
      ]
    },
    {
      "cell_type": "markdown",
      "metadata": {
        "id": "vKpZ9pNX2O99"
      },
      "source": [
        "ПОЛУЧЕНИЕ ОПИСАТЕЛЬНОЙ СТАТИСТИКИ"
      ]
    },
    {
      "cell_type": "code",
      "execution_count": 13,
      "metadata": {
        "colab": {
          "base_uri": "https://localhost:8080/",
          "height": 300
        },
        "id": "yFlEUIB12QDA",
        "outputId": "d4644b4d-c5f9-4f9a-f619-ad1432a8868c"
      },
      "outputs": [
        {
          "data": {
            "text/html": [
              "<div>\n",
              "<style scoped>\n",
              "    .dataframe tbody tr th:only-of-type {\n",
              "        vertical-align: middle;\n",
              "    }\n",
              "\n",
              "    .dataframe tbody tr th {\n",
              "        vertical-align: top;\n",
              "    }\n",
              "\n",
              "    .dataframe thead th {\n",
              "        text-align: right;\n",
              "    }\n",
              "</style>\n",
              "<table border=\"1\" class=\"dataframe\">\n",
              "  <thead>\n",
              "    <tr style=\"text-align: right;\">\n",
              "      <th></th>\n",
              "      <th>Distance</th>\n",
              "      <th>BuildingArea</th>\n",
              "      <th>Price</th>\n",
              "    </tr>\n",
              "  </thead>\n",
              "  <tbody>\n",
              "    <tr>\n",
              "      <th>count</th>\n",
              "      <td>13580.000000</td>\n",
              "      <td>13580.000000</td>\n",
              "      <td>1.358000e+04</td>\n",
              "    </tr>\n",
              "    <tr>\n",
              "      <th>mean</th>\n",
              "      <td>10.137776</td>\n",
              "      <td>139.633972</td>\n",
              "      <td>1.075684e+06</td>\n",
              "    </tr>\n",
              "    <tr>\n",
              "      <th>std</th>\n",
              "      <td>5.868725</td>\n",
              "      <td>392.217403</td>\n",
              "      <td>6.393107e+05</td>\n",
              "    </tr>\n",
              "    <tr>\n",
              "      <th>min</th>\n",
              "      <td>0.000000</td>\n",
              "      <td>0.000000</td>\n",
              "      <td>8.500000e+04</td>\n",
              "    </tr>\n",
              "    <tr>\n",
              "      <th>25%</th>\n",
              "      <td>6.100000</td>\n",
              "      <td>122.000000</td>\n",
              "      <td>6.500000e+05</td>\n",
              "    </tr>\n",
              "    <tr>\n",
              "      <th>50%</th>\n",
              "      <td>9.200000</td>\n",
              "      <td>126.000000</td>\n",
              "      <td>9.030000e+05</td>\n",
              "    </tr>\n",
              "    <tr>\n",
              "      <th>75%</th>\n",
              "      <td>13.000000</td>\n",
              "      <td>129.940000</td>\n",
              "      <td>1.330000e+06</td>\n",
              "    </tr>\n",
              "    <tr>\n",
              "      <th>max</th>\n",
              "      <td>48.100000</td>\n",
              "      <td>44515.000000</td>\n",
              "      <td>9.000000e+06</td>\n",
              "    </tr>\n",
              "  </tbody>\n",
              "</table>\n",
              "</div>"
            ],
            "text/plain": [
              "           Distance  BuildingArea         Price\n",
              "count  13580.000000  13580.000000  1.358000e+04\n",
              "mean      10.137776    139.633972  1.075684e+06\n",
              "std        5.868725    392.217403  6.393107e+05\n",
              "min        0.000000      0.000000  8.500000e+04\n",
              "25%        6.100000    122.000000  6.500000e+05\n",
              "50%        9.200000    126.000000  9.030000e+05\n",
              "75%       13.000000    129.940000  1.330000e+06\n",
              "max       48.100000  44515.000000  9.000000e+06"
            ]
          },
          "execution_count": 13,
          "metadata": {},
          "output_type": "execute_result"
        }
      ],
      "source": [
        "melb_data.describe().loc[:, ['Distance', 'BuildingArea' , 'Price']]"
      ]
    },
    {
      "cell_type": "code",
      "execution_count": 14,
      "metadata": {
        "colab": {
          "base_uri": "https://localhost:8080/",
          "height": 236
        },
        "id": "GgzkXB-84a4p",
        "outputId": "c88a5439-aa9c-456c-d5e5-75703525f1a8"
      },
      "outputs": [
        {
          "data": {
            "text/html": [
              "<div>\n",
              "<style scoped>\n",
              "    .dataframe tbody tr th:only-of-type {\n",
              "        vertical-align: middle;\n",
              "    }\n",
              "\n",
              "    .dataframe tbody tr th {\n",
              "        vertical-align: top;\n",
              "    }\n",
              "\n",
              "    .dataframe thead th {\n",
              "        text-align: right;\n",
              "    }\n",
              "</style>\n",
              "<table border=\"1\" class=\"dataframe\">\n",
              "  <thead>\n",
              "    <tr style=\"text-align: right;\">\n",
              "      <th></th>\n",
              "      <th>Suburb</th>\n",
              "      <th>Address</th>\n",
              "      <th>Type</th>\n",
              "      <th>Method</th>\n",
              "      <th>SellerG</th>\n",
              "      <th>Date</th>\n",
              "      <th>CouncilArea</th>\n",
              "      <th>Regionname</th>\n",
              "      <th>Coordinates</th>\n",
              "    </tr>\n",
              "  </thead>\n",
              "  <tbody>\n",
              "    <tr>\n",
              "      <th>count</th>\n",
              "      <td>13580</td>\n",
              "      <td>13580</td>\n",
              "      <td>13580</td>\n",
              "      <td>13580</td>\n",
              "      <td>13580</td>\n",
              "      <td>13580</td>\n",
              "      <td>12211</td>\n",
              "      <td>13580</td>\n",
              "      <td>13580</td>\n",
              "    </tr>\n",
              "    <tr>\n",
              "      <th>unique</th>\n",
              "      <td>314</td>\n",
              "      <td>13378</td>\n",
              "      <td>3</td>\n",
              "      <td>5</td>\n",
              "      <td>268</td>\n",
              "      <td>58</td>\n",
              "      <td>33</td>\n",
              "      <td>8</td>\n",
              "      <td>13097</td>\n",
              "    </tr>\n",
              "    <tr>\n",
              "      <th>top</th>\n",
              "      <td>Reservoir</td>\n",
              "      <td>36 Aberfeldie St</td>\n",
              "      <td>h</td>\n",
              "      <td>S</td>\n",
              "      <td>Nelson</td>\n",
              "      <td>27/05/2017</td>\n",
              "      <td>Moreland</td>\n",
              "      <td>Southern Metropolitan</td>\n",
              "      <td>-37.8361, 144.9966</td>\n",
              "    </tr>\n",
              "    <tr>\n",
              "      <th>freq</th>\n",
              "      <td>359</td>\n",
              "      <td>3</td>\n",
              "      <td>9449</td>\n",
              "      <td>9022</td>\n",
              "      <td>1565</td>\n",
              "      <td>473</td>\n",
              "      <td>1163</td>\n",
              "      <td>4695</td>\n",
              "      <td>12</td>\n",
              "    </tr>\n",
              "  </tbody>\n",
              "</table>\n",
              "</div>"
            ],
            "text/plain": [
              "           Suburb           Address   Type Method SellerG        Date  \\\n",
              "count       13580             13580  13580  13580   13580       13580   \n",
              "unique        314             13378      3      5     268          58   \n",
              "top     Reservoir  36 Aberfeldie St      h      S  Nelson  27/05/2017   \n",
              "freq          359                 3   9449   9022    1565         473   \n",
              "\n",
              "       CouncilArea             Regionname         Coordinates  \n",
              "count        12211                  13580               13580  \n",
              "unique          33                      8               13097  \n",
              "top       Moreland  Southern Metropolitan  -37.8361, 144.9966  \n",
              "freq          1163                   4695                  12  "
            ]
          },
          "execution_count": 14,
          "metadata": {},
          "output_type": "execute_result"
        }
      ],
      "source": [
        "# ЗАДАНИЕ 6.8\n",
        "melb_data.describe(include=['object'])"
      ]
    },
    {
      "cell_type": "markdown",
      "metadata": {
        "id": "29eZDVlB5p0k"
      },
      "source": [
        "ПОЛУЧЕНИЕ ЧАСТОТЫ УНИКАЛЬНЫХ ЗНАЧЕНИЙ В СТОЛБЦЕ"
      ]
    },
    {
      "cell_type": "code",
      "execution_count": 15,
      "metadata": {
        "colab": {
          "base_uri": "https://localhost:8080/"
        },
        "id": "cBF_1D3c5qbt",
        "outputId": "ef36e03a-983b-4f6d-f88c-beed16aa39c7"
      },
      "outputs": [
        {
          "data": {
            "text/plain": [
              "Southern Metropolitan         4695\n",
              "Northern Metropolitan         3890\n",
              "Western Metropolitan          2948\n",
              "Eastern Metropolitan          1471\n",
              "South-Eastern Metropolitan     450\n",
              "Eastern Victoria                53\n",
              "Northern Victoria               41\n",
              "Western Victoria                32\n",
              "Name: Regionname, dtype: int64"
            ]
          },
          "execution_count": 15,
          "metadata": {},
          "output_type": "execute_result"
        }
      ],
      "source": [
        "melb_data['Regionname'].value_counts()"
      ]
    },
    {
      "cell_type": "code",
      "execution_count": 13,
      "metadata": {
        "colab": {
          "base_uri": "https://localhost:8080/"
        },
        "id": "ZvRGCqB_542F",
        "outputId": "2d3129ab-d135-428b-94ff-da0f56c6d311"
      },
      "outputs": [
        {
          "data": {
            "text/plain": [
              "Southern Metropolitan         0.345729\n",
              "Northern Metropolitan         0.286451\n",
              "Western Metropolitan          0.217084\n",
              "Eastern Metropolitan          0.108321\n",
              "South-Eastern Metropolitan    0.033137\n",
              "Eastern Victoria              0.003903\n",
              "Northern Victoria             0.003019\n",
              "Western Victoria              0.002356\n",
              "Name: Regionname, dtype: float64"
            ]
          },
          "execution_count": 13,
          "metadata": {},
          "output_type": "execute_result"
        }
      ],
      "source": [
        "melb_data['Regionname'].value_counts(normalize=True)"
      ]
    },
    {
      "cell_type": "markdown",
      "metadata": {
        "id": "DK3KNBqK6E1N"
      },
      "source": [
        "\n",
        "\n",
        "---\n",
        "\n"
      ]
    },
    {
      "cell_type": "code",
      "execution_count": 14,
      "metadata": {
        "colab": {
          "base_uri": "https://localhost:8080/"
        },
        "id": "_JEQ392X6Gpd",
        "outputId": "f3a213d1-f33b-4493-ed90-3aee6f7e840e"
      },
      "outputs": [
        {
          "name": "stdout",
          "output_type": "stream",
          "text": [
            "(3, 2)\n"
          ]
        }
      ],
      "source": [
        "data = pd.DataFrame([[0,1], [1, 0], [1, 1]], columns=['А', 'B'])\n",
        "print(data.shape)"
      ]
    },
    {
      "cell_type": "code",
      "execution_count": null,
      "metadata": {
        "colab": {
          "base_uri": "https://localhost:8080/"
        },
        "id": "WVEqlNvZ7An8",
        "outputId": "65099bb6-3e6f-4559-ecba-86fc884fca6f"
      },
      "outputs": [
        {
          "data": {
            "text/plain": [
              "1369"
            ]
          },
          "execution_count": 68,
          "metadata": {},
          "output_type": "execute_result"
        }
      ],
      "source": [
        "melb_data.CouncilArea.isna().sum()"
      ]
    },
    {
      "cell_type": "code",
      "execution_count": 15,
      "metadata": {
        "colab": {
          "base_uri": "https://localhost:8080/"
        },
        "id": "uLRwAACH-2H6",
        "outputId": "cd983052-f2ba-4f99-b074-ed64a4600848"
      },
      "outputs": [
        {
          "data": {
            "text/plain": [
              "h    69.580265\n",
              "u    22.216495\n",
              "t     8.203240\n",
              "Name: Type, dtype: float64"
            ]
          },
          "execution_count": 15,
          "metadata": {},
          "output_type": "execute_result"
        }
      ],
      "source": [
        "# ЗАДАНИЕ 6.9\n",
        "melb_data['Type'].value_counts(normalize=True)*100"
      ]
    },
    {
      "cell_type": "markdown",
      "metadata": {
        "id": "bpv2dJQF_Mmv"
      },
      "source": [
        "\n",
        "\n",
        "---\n",
        "\n",
        "# 7. Статистические методы"
      ]
    },
    {
      "cell_type": "markdown",
      "metadata": {
        "id": "PQpiouZ2JrY-"
      },
      "source": [
        "АГРЕГИРУЮЩИЕ МЕТОДЫ"
      ]
    },
    {
      "cell_type": "code",
      "execution_count": 16,
      "metadata": {
        "colab": {
          "base_uri": "https://localhost:8080/"
        },
        "id": "Ie_xrYMjL2TL",
        "outputId": "1b5a578b-061e-4dc8-d0e8-14b3ab4894ec"
      },
      "outputs": [
        {
          "name": "stdout",
          "output_type": "stream",
          "text": [
            "1075684.079455081\n"
          ]
        }
      ],
      "source": [
        "print(melb_data['Price'].mean())\n",
        "# 1075684.079455081"
      ]
    },
    {
      "cell_type": "code",
      "execution_count": 17,
      "metadata": {
        "colab": {
          "base_uri": "https://localhost:8080/"
        },
        "id": "q6WpKZ7nL7yj",
        "outputId": "0737c7fd-67f5-44c3-db13-2c09dbf91bcd"
      },
      "outputs": [
        {
          "name": "stdout",
          "output_type": "stream",
          "text": [
            "10\n"
          ]
        }
      ],
      "source": [
        "print(melb_data['Car'].max())\n",
        "# 10"
      ]
    },
    {
      "cell_type": "code",
      "execution_count": 18,
      "metadata": {
        "colab": {
          "base_uri": "https://localhost:8080/"
        },
        "id": "v_FGzoX7MF4s",
        "outputId": "332853f7-a501-4040-ff3a-aea0e718c08d"
      },
      "outputs": [
        {
          "name": "stdout",
          "output_type": "stream",
          "text": [
            "Total income of real estate agencies: 1752934775.88\n"
          ]
        }
      ],
      "source": [
        "rate = 0.12\n",
        "income = melb_data['Price'].sum() * rate\n",
        "print('Total income of real estate agencies:', round(income, 2))\n",
        "# Total income of real estate agencies: 1752934775.88"
      ]
    },
    {
      "cell_type": "code",
      "execution_count": 19,
      "metadata": {
        "colab": {
          "base_uri": "https://localhost:8080/"
        },
        "id": "OWKyhKQ6MXqr",
        "outputId": "cc0290cd-7b52-4404-f83e-f07d85694376"
      },
      "outputs": [
        {
          "name": "stdout",
          "output_type": "stream",
          "text": [
            "0.21205713983546193\n"
          ]
        }
      ],
      "source": [
        "landsize_median = melb_data['Landsize'].median() \n",
        "landsize_mean =  melb_data['Landsize'].mean()\n",
        "print(abs(landsize_median - landsize_mean)/landsize_mean)\n",
        "# 0.21205713983546193"
      ]
    },
    {
      "cell_type": "markdown",
      "metadata": {
        "id": "SXuj24LhMyln"
      },
      "source": [
        "МОДАЛЬНОЕ ЗНАЧЕНИЕ"
      ]
    },
    {
      "cell_type": "code",
      "execution_count": 20,
      "metadata": {
        "colab": {
          "base_uri": "https://localhost:8080/"
        },
        "id": "W3Ot27yANG8c",
        "outputId": "c23645a7-d71a-4f03-9540-75b52d7c9839"
      },
      "outputs": [
        {
          "name": "stdout",
          "output_type": "stream",
          "text": [
            "0    3\n",
            "dtype: int64\n"
          ]
        }
      ],
      "source": [
        "print(melb_data['Rooms'].mode())\n",
        "# 0    3\n",
        "# dtype: int64"
      ]
    },
    {
      "cell_type": "code",
      "execution_count": 16,
      "metadata": {
        "colab": {
          "base_uri": "https://localhost:8080/"
        },
        "id": "A1pZylsFNcgC",
        "outputId": "684e0cb7-fc35-47a4-9406-bc08801d00a6"
      },
      "outputs": [
        {
          "data": {
            "text/plain": [
              "0    Southern Metropolitan\n",
              "Name: Regionname, dtype: object"
            ]
          },
          "execution_count": 16,
          "metadata": {},
          "output_type": "execute_result"
        }
      ],
      "source": [
        "melb_data['Regionname'].mode()"
      ]
    },
    {
      "cell_type": "markdown",
      "metadata": {
        "id": "uZmuoiOPN0iK"
      },
      "source": [
        "\n",
        "\n",
        "---\n",
        "\n"
      ]
    },
    {
      "cell_type": "code",
      "execution_count": 17,
      "metadata": {
        "colab": {
          "base_uri": "https://localhost:8080/"
        },
        "id": "RdH8G2ElN3u5",
        "outputId": "0b686268-d6a0-48b9-98e0-62143c425af9"
      },
      "outputs": [
        {
          "data": {
            "text/plain": [
              "21650.0"
            ]
          },
          "execution_count": 17,
          "metadata": {},
          "output_type": "execute_result"
        }
      ],
      "source": [
        "# ЗАДАНИЕ 7.2\n",
        "melb_data['Propertycount'].max()"
      ]
    },
    {
      "cell_type": "code",
      "execution_count": 18,
      "metadata": {
        "colab": {
          "base_uri": "https://localhost:8080/"
        },
        "id": "1MDkCdMkOqiK",
        "outputId": "a98485e8-93c4-4055-88b2-9af270e55017"
      },
      "outputs": [
        {
          "data": {
            "text/plain": [
              "6.0"
            ]
          },
          "execution_count": 18,
          "metadata": {},
          "output_type": "execute_result"
        }
      ],
      "source": [
        "# ЗАДАНИЕ 7.3\n",
        "melb_data['Distance'].std().round()"
      ]
    },
    {
      "cell_type": "code",
      "execution_count": 19,
      "metadata": {
        "colab": {
          "base_uri": "https://localhost:8080/"
        },
        "id": "xSMKKS2LPCo8",
        "outputId": "a148a7e9-df93-4406-e77e-9b14709e772e"
      },
      "outputs": [
        {
          "data": {
            "text/plain": [
              "10"
            ]
          },
          "execution_count": 19,
          "metadata": {},
          "output_type": "execute_result"
        }
      ],
      "source": [
        "# ЗАДАНИЕ 7.4\n",
        "BuildingArea_median = melb_data['BuildingArea'].median()\n",
        "BuildingArea_mean = melb_data['BuildingArea'].mean()\n",
        "round(abs(BuildingArea_median - BuildingArea_mean)/BuildingArea_mean*100)"
      ]
    },
    {
      "cell_type": "code",
      "execution_count": 32,
      "metadata": {
        "colab": {
          "base_uri": "https://localhost:8080/"
        },
        "id": "mAUal7ABQheT",
        "outputId": "934205a1-b4c9-4ee5-ac76-bda327c9ea77"
      },
      "outputs": [
        {
          "data": {
            "text/plain": [
              "0    2\n",
              "dtype: int64"
            ]
          },
          "execution_count": 32,
          "metadata": {},
          "output_type": "execute_result"
        }
      ],
      "source": [
        "pd.Series([1, 2, 4, 2, 3, 2, 1, 5, 6]).mode()"
      ]
    },
    {
      "cell_type": "code",
      "execution_count": 20,
      "metadata": {
        "colab": {
          "base_uri": "https://localhost:8080/"
        },
        "id": "Qcu_w_2vQ7oJ",
        "outputId": "440c8c9b-f31d-436c-a1ef-d7e29620b8ce"
      },
      "outputs": [
        {
          "data": {
            "text/plain": [
              "0    3.0\n",
              "Name: Bedroom, dtype: float64"
            ]
          },
          "execution_count": 20,
          "metadata": {},
          "output_type": "execute_result"
        }
      ],
      "source": [
        "# ЗАДАНИЕ 7.6\n",
        "melb_data['Bedroom'].mode()"
      ]
    },
    {
      "cell_type": "markdown",
      "metadata": {
        "id": "MyK1R3j8RL7F"
      },
      "source": [
        "\n",
        "\n",
        "---\n",
        "\n",
        "# 8. Фильтрация данных в DataFrame"
      ]
    },
    {
      "cell_type": "code",
      "execution_count": 21,
      "metadata": {
        "colab": {
          "base_uri": "https://localhost:8080/",
          "height": 225
        },
        "id": "17XD5j1KSlIp",
        "outputId": "d258309c-bad8-4fa0-a8a9-062f19395f82"
      },
      "outputs": [
        {
          "data": {
            "text/plain": [
              "0        False\n",
              "1        False\n",
              "2        False\n",
              "3        False\n",
              "4        False\n",
              "         ...  \n",
              "13575    False\n",
              "13576    False\n",
              "13577    False\n",
              "13578     True\n",
              "13579    False\n",
              "Name: Price, Length: 13580, dtype: bool"
            ]
          },
          "metadata": {},
          "output_type": "display_data"
        }
      ],
      "source": [
        "mask = melb_data['Price'] > 2000000\n",
        "display(mask)"
      ]
    },
    {
      "cell_type": "code",
      "execution_count": 36,
      "metadata": {
        "colab": {
          "base_uri": "https://localhost:8080/",
          "height": 421
        },
        "id": "hL4wi7LMSxB7",
        "outputId": "8ddb86d4-9bdb-4ce9-a140-be445d4578d8"
      },
      "outputs": [
        {
          "data": {
            "text/html": [
              "\n",
              "  <div id=\"df-8ed25fa7-e661-4d9d-b491-baa7b7f79cac\">\n",
              "    <div class=\"colab-df-container\">\n",
              "      <div>\n",
              "<style scoped>\n",
              "    .dataframe tbody tr th:only-of-type {\n",
              "        vertical-align: middle;\n",
              "    }\n",
              "\n",
              "    .dataframe tbody tr th {\n",
              "        vertical-align: top;\n",
              "    }\n",
              "\n",
              "    .dataframe thead th {\n",
              "        text-align: right;\n",
              "    }\n",
              "</style>\n",
              "<table border=\"1\" class=\"dataframe\">\n",
              "  <thead>\n",
              "    <tr style=\"text-align: right;\">\n",
              "      <th></th>\n",
              "      <th>index</th>\n",
              "      <th>Suburb</th>\n",
              "      <th>Address</th>\n",
              "      <th>Rooms</th>\n",
              "      <th>Type</th>\n",
              "      <th>Price</th>\n",
              "      <th>Method</th>\n",
              "      <th>SellerG</th>\n",
              "      <th>Date</th>\n",
              "      <th>Distance</th>\n",
              "      <th>...</th>\n",
              "      <th>Car</th>\n",
              "      <th>Landsize</th>\n",
              "      <th>BuildingArea</th>\n",
              "      <th>YearBuilt</th>\n",
              "      <th>CouncilArea</th>\n",
              "      <th>Lattitude</th>\n",
              "      <th>Longtitude</th>\n",
              "      <th>Regionname</th>\n",
              "      <th>Propertycount</th>\n",
              "      <th>Coordinates</th>\n",
              "    </tr>\n",
              "  </thead>\n",
              "  <tbody>\n",
              "    <tr>\n",
              "      <th>80</th>\n",
              "      <td>80</td>\n",
              "      <td>Albert Park</td>\n",
              "      <td>112 Beaconsfield Pde</td>\n",
              "      <td>3</td>\n",
              "      <td>h</td>\n",
              "      <td>2850000.0</td>\n",
              "      <td>PI</td>\n",
              "      <td>Buxton</td>\n",
              "      <td>4/03/2017</td>\n",
              "      <td>3.3</td>\n",
              "      <td>...</td>\n",
              "      <td>0</td>\n",
              "      <td>211.0</td>\n",
              "      <td>198.0</td>\n",
              "      <td>1890</td>\n",
              "      <td>Port Phillip</td>\n",
              "      <td>-37.8481</td>\n",
              "      <td>144.9499</td>\n",
              "      <td>Southern Metropolitan</td>\n",
              "      <td>3280</td>\n",
              "      <td>-37.8481, 144.9499</td>\n",
              "    </tr>\n",
              "    <tr>\n",
              "      <th>85</th>\n",
              "      <td>85</td>\n",
              "      <td>Albert Park</td>\n",
              "      <td>104 Richardson St</td>\n",
              "      <td>4</td>\n",
              "      <td>h</td>\n",
              "      <td>2300000.0</td>\n",
              "      <td>S</td>\n",
              "      <td>Marshall</td>\n",
              "      <td>7/05/2016</td>\n",
              "      <td>3.3</td>\n",
              "      <td>...</td>\n",
              "      <td>1</td>\n",
              "      <td>153.0</td>\n",
              "      <td>180.0</td>\n",
              "      <td>1880</td>\n",
              "      <td>Port Phillip</td>\n",
              "      <td>-37.8447</td>\n",
              "      <td>144.9523</td>\n",
              "      <td>Southern Metropolitan</td>\n",
              "      <td>3280</td>\n",
              "      <td>-37.8447, 144.9523</td>\n",
              "    </tr>\n",
              "    <tr>\n",
              "      <th>88</th>\n",
              "      <td>88</td>\n",
              "      <td>Albert Park</td>\n",
              "      <td>29 Faussett St</td>\n",
              "      <td>2</td>\n",
              "      <td>h</td>\n",
              "      <td>2120000.0</td>\n",
              "      <td>S</td>\n",
              "      <td>Greg</td>\n",
              "      <td>10/09/2016</td>\n",
              "      <td>3.3</td>\n",
              "      <td>...</td>\n",
              "      <td>1</td>\n",
              "      <td>199.0</td>\n",
              "      <td>107.0</td>\n",
              "      <td>1900</td>\n",
              "      <td>Port Phillip</td>\n",
              "      <td>-37.8422</td>\n",
              "      <td>144.9554</td>\n",
              "      <td>Southern Metropolitan</td>\n",
              "      <td>3280</td>\n",
              "      <td>-37.8422, 144.9554</td>\n",
              "    </tr>\n",
              "    <tr>\n",
              "      <th>92</th>\n",
              "      <td>92</td>\n",
              "      <td>Albert Park</td>\n",
              "      <td>2 Dundas Pl</td>\n",
              "      <td>3</td>\n",
              "      <td>h</td>\n",
              "      <td>2615000.0</td>\n",
              "      <td>S</td>\n",
              "      <td>Cayzer</td>\n",
              "      <td>10/12/2016</td>\n",
              "      <td>3.3</td>\n",
              "      <td>...</td>\n",
              "      <td>1</td>\n",
              "      <td>177.0</td>\n",
              "      <td>181.0</td>\n",
              "      <td>1880</td>\n",
              "      <td>Port Phillip</td>\n",
              "      <td>-37.8415</td>\n",
              "      <td>144.9585</td>\n",
              "      <td>Southern Metropolitan</td>\n",
              "      <td>3280</td>\n",
              "      <td>-37.8415, 144.9585</td>\n",
              "    </tr>\n",
              "    <tr>\n",
              "      <th>93</th>\n",
              "      <td>93</td>\n",
              "      <td>Albert Park</td>\n",
              "      <td>23 Finlay St</td>\n",
              "      <td>5</td>\n",
              "      <td>h</td>\n",
              "      <td>2100000.0</td>\n",
              "      <td>S</td>\n",
              "      <td>Greg</td>\n",
              "      <td>10/12/2016</td>\n",
              "      <td>3.3</td>\n",
              "      <td>...</td>\n",
              "      <td>1</td>\n",
              "      <td>237.0</td>\n",
              "      <td>126.0</td>\n",
              "      <td>1970</td>\n",
              "      <td>Port Phillip</td>\n",
              "      <td>-37.8436</td>\n",
              "      <td>144.9557</td>\n",
              "      <td>Southern Metropolitan</td>\n",
              "      <td>3280</td>\n",
              "      <td>-37.8436, 144.9557</td>\n",
              "    </tr>\n",
              "  </tbody>\n",
              "</table>\n",
              "<p>5 rows × 23 columns</p>\n",
              "</div>\n",
              "      <button class=\"colab-df-convert\" onclick=\"convertToInteractive('df-8ed25fa7-e661-4d9d-b491-baa7b7f79cac')\"\n",
              "              title=\"Convert this dataframe to an interactive table.\"\n",
              "              style=\"display:none;\">\n",
              "        \n",
              "  <svg xmlns=\"http://www.w3.org/2000/svg\" height=\"24px\"viewBox=\"0 0 24 24\"\n",
              "       width=\"24px\">\n",
              "    <path d=\"M0 0h24v24H0V0z\" fill=\"none\"/>\n",
              "    <path d=\"M18.56 5.44l.94 2.06.94-2.06 2.06-.94-2.06-.94-.94-2.06-.94 2.06-2.06.94zm-11 1L8.5 8.5l.94-2.06 2.06-.94-2.06-.94L8.5 2.5l-.94 2.06-2.06.94zm10 10l.94 2.06.94-2.06 2.06-.94-2.06-.94-.94-2.06-.94 2.06-2.06.94z\"/><path d=\"M17.41 7.96l-1.37-1.37c-.4-.4-.92-.59-1.43-.59-.52 0-1.04.2-1.43.59L10.3 9.45l-7.72 7.72c-.78.78-.78 2.05 0 2.83L4 21.41c.39.39.9.59 1.41.59.51 0 1.02-.2 1.41-.59l7.78-7.78 2.81-2.81c.8-.78.8-2.07 0-2.86zM5.41 20L4 18.59l7.72-7.72 1.47 1.35L5.41 20z\"/>\n",
              "  </svg>\n",
              "      </button>\n",
              "      \n",
              "  <style>\n",
              "    .colab-df-container {\n",
              "      display:flex;\n",
              "      flex-wrap:wrap;\n",
              "      gap: 12px;\n",
              "    }\n",
              "\n",
              "    .colab-df-convert {\n",
              "      background-color: #E8F0FE;\n",
              "      border: none;\n",
              "      border-radius: 50%;\n",
              "      cursor: pointer;\n",
              "      display: none;\n",
              "      fill: #1967D2;\n",
              "      height: 32px;\n",
              "      padding: 0 0 0 0;\n",
              "      width: 32px;\n",
              "    }\n",
              "\n",
              "    .colab-df-convert:hover {\n",
              "      background-color: #E2EBFA;\n",
              "      box-shadow: 0px 1px 2px rgba(60, 64, 67, 0.3), 0px 1px 3px 1px rgba(60, 64, 67, 0.15);\n",
              "      fill: #174EA6;\n",
              "    }\n",
              "\n",
              "    [theme=dark] .colab-df-convert {\n",
              "      background-color: #3B4455;\n",
              "      fill: #D2E3FC;\n",
              "    }\n",
              "\n",
              "    [theme=dark] .colab-df-convert:hover {\n",
              "      background-color: #434B5C;\n",
              "      box-shadow: 0px 1px 3px 1px rgba(0, 0, 0, 0.15);\n",
              "      filter: drop-shadow(0px 1px 2px rgba(0, 0, 0, 0.3));\n",
              "      fill: #FFFFFF;\n",
              "    }\n",
              "  </style>\n",
              "\n",
              "      <script>\n",
              "        const buttonEl =\n",
              "          document.querySelector('#df-8ed25fa7-e661-4d9d-b491-baa7b7f79cac button.colab-df-convert');\n",
              "        buttonEl.style.display =\n",
              "          google.colab.kernel.accessAllowed ? 'block' : 'none';\n",
              "\n",
              "        async function convertToInteractive(key) {\n",
              "          const element = document.querySelector('#df-8ed25fa7-e661-4d9d-b491-baa7b7f79cac');\n",
              "          const dataTable =\n",
              "            await google.colab.kernel.invokeFunction('convertToInteractive',\n",
              "                                                     [key], {});\n",
              "          if (!dataTable) return;\n",
              "\n",
              "          const docLinkHtml = 'Like what you see? Visit the ' +\n",
              "            '<a target=\"_blank\" href=https://colab.research.google.com/notebooks/data_table.ipynb>data table notebook</a>'\n",
              "            + ' to learn more about interactive tables.';\n",
              "          element.innerHTML = '';\n",
              "          dataTable['output_type'] = 'display_data';\n",
              "          await google.colab.output.renderOutput(dataTable, element);\n",
              "          const docLink = document.createElement('div');\n",
              "          docLink.innerHTML = docLinkHtml;\n",
              "          element.appendChild(docLink);\n",
              "        }\n",
              "      </script>\n",
              "    </div>\n",
              "  </div>\n",
              "  "
            ],
            "text/plain": [
              "    index       Suburb               Address  Rooms Type      Price Method  \\\n",
              "80     80  Albert Park  112 Beaconsfield Pde      3    h  2850000.0     PI   \n",
              "85     85  Albert Park     104 Richardson St      4    h  2300000.0      S   \n",
              "88     88  Albert Park        29 Faussett St      2    h  2120000.0      S   \n",
              "92     92  Albert Park           2 Dundas Pl      3    h  2615000.0      S   \n",
              "93     93  Albert Park          23 Finlay St      5    h  2100000.0      S   \n",
              "\n",
              "     SellerG        Date  Distance  ...  Car  Landsize  BuildingArea  \\\n",
              "80    Buxton   4/03/2017       3.3  ...    0     211.0         198.0   \n",
              "85  Marshall   7/05/2016       3.3  ...    1     153.0         180.0   \n",
              "88      Greg  10/09/2016       3.3  ...    1     199.0         107.0   \n",
              "92    Cayzer  10/12/2016       3.3  ...    1     177.0         181.0   \n",
              "93      Greg  10/12/2016       3.3  ...    1     237.0         126.0   \n",
              "\n",
              "    YearBuilt   CouncilArea  Lattitude  Longtitude             Regionname  \\\n",
              "80       1890  Port Phillip   -37.8481    144.9499  Southern Metropolitan   \n",
              "85       1880  Port Phillip   -37.8447    144.9523  Southern Metropolitan   \n",
              "88       1900  Port Phillip   -37.8422    144.9554  Southern Metropolitan   \n",
              "92       1880  Port Phillip   -37.8415    144.9585  Southern Metropolitan   \n",
              "93       1970  Port Phillip   -37.8436    144.9557  Southern Metropolitan   \n",
              "\n",
              "    Propertycount         Coordinates  \n",
              "80           3280  -37.8481, 144.9499  \n",
              "85           3280  -37.8447, 144.9523  \n",
              "88           3280  -37.8422, 144.9554  \n",
              "92           3280  -37.8415, 144.9585  \n",
              "93           3280  -37.8436, 144.9557  \n",
              "\n",
              "[5 rows x 23 columns]"
            ]
          },
          "metadata": {},
          "output_type": "display_data"
        }
      ],
      "source": [
        "display(melb_data[mask].head())"
      ]
    },
    {
      "cell_type": "code",
      "execution_count": 37,
      "metadata": {
        "colab": {
          "base_uri": "https://localhost:8080/",
          "height": 696
        },
        "id": "RxiErkhSTC1x",
        "outputId": "e7547f57-f7de-4694-b4da-0834a6adf759"
      },
      "outputs": [
        {
          "data": {
            "text/html": [
              "\n",
              "  <div id=\"df-5a2c4ef9-23fc-4007-a55c-2a0f1bc659ff\">\n",
              "    <div class=\"colab-df-container\">\n",
              "      <div>\n",
              "<style scoped>\n",
              "    .dataframe tbody tr th:only-of-type {\n",
              "        vertical-align: middle;\n",
              "    }\n",
              "\n",
              "    .dataframe tbody tr th {\n",
              "        vertical-align: top;\n",
              "    }\n",
              "\n",
              "    .dataframe thead th {\n",
              "        text-align: right;\n",
              "    }\n",
              "</style>\n",
              "<table border=\"1\" class=\"dataframe\">\n",
              "  <thead>\n",
              "    <tr style=\"text-align: right;\">\n",
              "      <th></th>\n",
              "      <th>index</th>\n",
              "      <th>Suburb</th>\n",
              "      <th>Address</th>\n",
              "      <th>Rooms</th>\n",
              "      <th>Type</th>\n",
              "      <th>Price</th>\n",
              "      <th>Method</th>\n",
              "      <th>SellerG</th>\n",
              "      <th>Date</th>\n",
              "      <th>Distance</th>\n",
              "      <th>...</th>\n",
              "      <th>Car</th>\n",
              "      <th>Landsize</th>\n",
              "      <th>BuildingArea</th>\n",
              "      <th>YearBuilt</th>\n",
              "      <th>CouncilArea</th>\n",
              "      <th>Lattitude</th>\n",
              "      <th>Longtitude</th>\n",
              "      <th>Regionname</th>\n",
              "      <th>Propertycount</th>\n",
              "      <th>Coordinates</th>\n",
              "    </tr>\n",
              "  </thead>\n",
              "  <tbody>\n",
              "    <tr>\n",
              "      <th>80</th>\n",
              "      <td>80</td>\n",
              "      <td>Albert Park</td>\n",
              "      <td>112 Beaconsfield Pde</td>\n",
              "      <td>3</td>\n",
              "      <td>h</td>\n",
              "      <td>2850000.0</td>\n",
              "      <td>PI</td>\n",
              "      <td>Buxton</td>\n",
              "      <td>4/03/2017</td>\n",
              "      <td>3.3</td>\n",
              "      <td>...</td>\n",
              "      <td>0</td>\n",
              "      <td>211.0</td>\n",
              "      <td>198.0</td>\n",
              "      <td>1890</td>\n",
              "      <td>Port Phillip</td>\n",
              "      <td>-37.84810</td>\n",
              "      <td>144.94990</td>\n",
              "      <td>Southern Metropolitan</td>\n",
              "      <td>3280</td>\n",
              "      <td>-37.8481, 144.9499</td>\n",
              "    </tr>\n",
              "    <tr>\n",
              "      <th>85</th>\n",
              "      <td>85</td>\n",
              "      <td>Albert Park</td>\n",
              "      <td>104 Richardson St</td>\n",
              "      <td>4</td>\n",
              "      <td>h</td>\n",
              "      <td>2300000.0</td>\n",
              "      <td>S</td>\n",
              "      <td>Marshall</td>\n",
              "      <td>7/05/2016</td>\n",
              "      <td>3.3</td>\n",
              "      <td>...</td>\n",
              "      <td>1</td>\n",
              "      <td>153.0</td>\n",
              "      <td>180.0</td>\n",
              "      <td>1880</td>\n",
              "      <td>Port Phillip</td>\n",
              "      <td>-37.84470</td>\n",
              "      <td>144.95230</td>\n",
              "      <td>Southern Metropolitan</td>\n",
              "      <td>3280</td>\n",
              "      <td>-37.8447, 144.9523</td>\n",
              "    </tr>\n",
              "    <tr>\n",
              "      <th>88</th>\n",
              "      <td>88</td>\n",
              "      <td>Albert Park</td>\n",
              "      <td>29 Faussett St</td>\n",
              "      <td>2</td>\n",
              "      <td>h</td>\n",
              "      <td>2120000.0</td>\n",
              "      <td>S</td>\n",
              "      <td>Greg</td>\n",
              "      <td>10/09/2016</td>\n",
              "      <td>3.3</td>\n",
              "      <td>...</td>\n",
              "      <td>1</td>\n",
              "      <td>199.0</td>\n",
              "      <td>107.0</td>\n",
              "      <td>1900</td>\n",
              "      <td>Port Phillip</td>\n",
              "      <td>-37.84220</td>\n",
              "      <td>144.95540</td>\n",
              "      <td>Southern Metropolitan</td>\n",
              "      <td>3280</td>\n",
              "      <td>-37.8422, 144.9554</td>\n",
              "    </tr>\n",
              "    <tr>\n",
              "      <th>92</th>\n",
              "      <td>92</td>\n",
              "      <td>Albert Park</td>\n",
              "      <td>2 Dundas Pl</td>\n",
              "      <td>3</td>\n",
              "      <td>h</td>\n",
              "      <td>2615000.0</td>\n",
              "      <td>S</td>\n",
              "      <td>Cayzer</td>\n",
              "      <td>10/12/2016</td>\n",
              "      <td>3.3</td>\n",
              "      <td>...</td>\n",
              "      <td>1</td>\n",
              "      <td>177.0</td>\n",
              "      <td>181.0</td>\n",
              "      <td>1880</td>\n",
              "      <td>Port Phillip</td>\n",
              "      <td>-37.84150</td>\n",
              "      <td>144.95850</td>\n",
              "      <td>Southern Metropolitan</td>\n",
              "      <td>3280</td>\n",
              "      <td>-37.8415, 144.9585</td>\n",
              "    </tr>\n",
              "    <tr>\n",
              "      <th>93</th>\n",
              "      <td>93</td>\n",
              "      <td>Albert Park</td>\n",
              "      <td>23 Finlay St</td>\n",
              "      <td>5</td>\n",
              "      <td>h</td>\n",
              "      <td>2100000.0</td>\n",
              "      <td>S</td>\n",
              "      <td>Greg</td>\n",
              "      <td>10/12/2016</td>\n",
              "      <td>3.3</td>\n",
              "      <td>...</td>\n",
              "      <td>1</td>\n",
              "      <td>237.0</td>\n",
              "      <td>126.0</td>\n",
              "      <td>1970</td>\n",
              "      <td>Port Phillip</td>\n",
              "      <td>-37.84360</td>\n",
              "      <td>144.95570</td>\n",
              "      <td>Southern Metropolitan</td>\n",
              "      <td>3280</td>\n",
              "      <td>-37.8436, 144.9557</td>\n",
              "    </tr>\n",
              "    <tr>\n",
              "      <th>...</th>\n",
              "      <td>...</td>\n",
              "      <td>...</td>\n",
              "      <td>...</td>\n",
              "      <td>...</td>\n",
              "      <td>...</td>\n",
              "      <td>...</td>\n",
              "      <td>...</td>\n",
              "      <td>...</td>\n",
              "      <td>...</td>\n",
              "      <td>...</td>\n",
              "      <td>...</td>\n",
              "      <td>...</td>\n",
              "      <td>...</td>\n",
              "      <td>...</td>\n",
              "      <td>...</td>\n",
              "      <td>...</td>\n",
              "      <td>...</td>\n",
              "      <td>...</td>\n",
              "      <td>...</td>\n",
              "      <td>...</td>\n",
              "      <td>...</td>\n",
              "    </tr>\n",
              "    <tr>\n",
              "      <th>13521</th>\n",
              "      <td>13521</td>\n",
              "      <td>Port Melbourne</td>\n",
              "      <td>44 Garton St</td>\n",
              "      <td>4</td>\n",
              "      <td>t</td>\n",
              "      <td>2455000.0</td>\n",
              "      <td>SP</td>\n",
              "      <td>Marshall</td>\n",
              "      <td>26/08/2017</td>\n",
              "      <td>3.5</td>\n",
              "      <td>...</td>\n",
              "      <td>2</td>\n",
              "      <td>123.0</td>\n",
              "      <td>0.0</td>\n",
              "      <td>2010</td>\n",
              "      <td>NaN</td>\n",
              "      <td>-37.83349</td>\n",
              "      <td>144.94840</td>\n",
              "      <td>Southern Metropolitan</td>\n",
              "      <td>8648</td>\n",
              "      <td>-37.83349, 144.9484</td>\n",
              "    </tr>\n",
              "    <tr>\n",
              "      <th>13523</th>\n",
              "      <td>13523</td>\n",
              "      <td>Prahran</td>\n",
              "      <td>69 Greville St</td>\n",
              "      <td>4</td>\n",
              "      <td>h</td>\n",
              "      <td>2668000.0</td>\n",
              "      <td>S</td>\n",
              "      <td>Biggin</td>\n",
              "      <td>26/08/2017</td>\n",
              "      <td>4.6</td>\n",
              "      <td>...</td>\n",
              "      <td>2</td>\n",
              "      <td>383.0</td>\n",
              "      <td>126.0</td>\n",
              "      <td>1970</td>\n",
              "      <td>NaN</td>\n",
              "      <td>-37.84879</td>\n",
              "      <td>144.98882</td>\n",
              "      <td>Southern Metropolitan</td>\n",
              "      <td>7717</td>\n",
              "      <td>-37.84879, 144.98882</td>\n",
              "    </tr>\n",
              "    <tr>\n",
              "      <th>13553</th>\n",
              "      <td>13553</td>\n",
              "      <td>Surrey Hills</td>\n",
              "      <td>20 Albert Cr</td>\n",
              "      <td>4</td>\n",
              "      <td>h</td>\n",
              "      <td>2720000.0</td>\n",
              "      <td>S</td>\n",
              "      <td>Kay</td>\n",
              "      <td>26/08/2017</td>\n",
              "      <td>10.2</td>\n",
              "      <td>...</td>\n",
              "      <td>2</td>\n",
              "      <td>1005.0</td>\n",
              "      <td>126.0</td>\n",
              "      <td>1920</td>\n",
              "      <td>NaN</td>\n",
              "      <td>-37.82421</td>\n",
              "      <td>145.10352</td>\n",
              "      <td>Southern Metropolitan</td>\n",
              "      <td>5457</td>\n",
              "      <td>-37.82421, 145.10352</td>\n",
              "    </tr>\n",
              "    <tr>\n",
              "      <th>13555</th>\n",
              "      <td>13555</td>\n",
              "      <td>Surrey Hills</td>\n",
              "      <td>3 Oak St</td>\n",
              "      <td>4</td>\n",
              "      <td>h</td>\n",
              "      <td>3100000.0</td>\n",
              "      <td>VB</td>\n",
              "      <td>Marshall</td>\n",
              "      <td>26/08/2017</td>\n",
              "      <td>10.2</td>\n",
              "      <td>...</td>\n",
              "      <td>3</td>\n",
              "      <td>832.0</td>\n",
              "      <td>126.0</td>\n",
              "      <td>1970</td>\n",
              "      <td>NaN</td>\n",
              "      <td>-37.83564</td>\n",
              "      <td>145.10919</td>\n",
              "      <td>Southern Metropolitan</td>\n",
              "      <td>5457</td>\n",
              "      <td>-37.83564, 145.10919</td>\n",
              "    </tr>\n",
              "    <tr>\n",
              "      <th>13578</th>\n",
              "      <td>13578</td>\n",
              "      <td>Williamstown</td>\n",
              "      <td>96 Verdon St</td>\n",
              "      <td>4</td>\n",
              "      <td>h</td>\n",
              "      <td>2500000.0</td>\n",
              "      <td>PI</td>\n",
              "      <td>Sweeney</td>\n",
              "      <td>26/08/2017</td>\n",
              "      <td>6.8</td>\n",
              "      <td>...</td>\n",
              "      <td>5</td>\n",
              "      <td>866.0</td>\n",
              "      <td>157.0</td>\n",
              "      <td>1920</td>\n",
              "      <td>NaN</td>\n",
              "      <td>-37.85908</td>\n",
              "      <td>144.89299</td>\n",
              "      <td>Western Metropolitan</td>\n",
              "      <td>6380</td>\n",
              "      <td>-37.85908, 144.89299</td>\n",
              "    </tr>\n",
              "  </tbody>\n",
              "</table>\n",
              "<p>1007 rows × 23 columns</p>\n",
              "</div>\n",
              "      <button class=\"colab-df-convert\" onclick=\"convertToInteractive('df-5a2c4ef9-23fc-4007-a55c-2a0f1bc659ff')\"\n",
              "              title=\"Convert this dataframe to an interactive table.\"\n",
              "              style=\"display:none;\">\n",
              "        \n",
              "  <svg xmlns=\"http://www.w3.org/2000/svg\" height=\"24px\"viewBox=\"0 0 24 24\"\n",
              "       width=\"24px\">\n",
              "    <path d=\"M0 0h24v24H0V0z\" fill=\"none\"/>\n",
              "    <path d=\"M18.56 5.44l.94 2.06.94-2.06 2.06-.94-2.06-.94-.94-2.06-.94 2.06-2.06.94zm-11 1L8.5 8.5l.94-2.06 2.06-.94-2.06-.94L8.5 2.5l-.94 2.06-2.06.94zm10 10l.94 2.06.94-2.06 2.06-.94-2.06-.94-.94-2.06-.94 2.06-2.06.94z\"/><path d=\"M17.41 7.96l-1.37-1.37c-.4-.4-.92-.59-1.43-.59-.52 0-1.04.2-1.43.59L10.3 9.45l-7.72 7.72c-.78.78-.78 2.05 0 2.83L4 21.41c.39.39.9.59 1.41.59.51 0 1.02-.2 1.41-.59l7.78-7.78 2.81-2.81c.8-.78.8-2.07 0-2.86zM5.41 20L4 18.59l7.72-7.72 1.47 1.35L5.41 20z\"/>\n",
              "  </svg>\n",
              "      </button>\n",
              "      \n",
              "  <style>\n",
              "    .colab-df-container {\n",
              "      display:flex;\n",
              "      flex-wrap:wrap;\n",
              "      gap: 12px;\n",
              "    }\n",
              "\n",
              "    .colab-df-convert {\n",
              "      background-color: #E8F0FE;\n",
              "      border: none;\n",
              "      border-radius: 50%;\n",
              "      cursor: pointer;\n",
              "      display: none;\n",
              "      fill: #1967D2;\n",
              "      height: 32px;\n",
              "      padding: 0 0 0 0;\n",
              "      width: 32px;\n",
              "    }\n",
              "\n",
              "    .colab-df-convert:hover {\n",
              "      background-color: #E2EBFA;\n",
              "      box-shadow: 0px 1px 2px rgba(60, 64, 67, 0.3), 0px 1px 3px 1px rgba(60, 64, 67, 0.15);\n",
              "      fill: #174EA6;\n",
              "    }\n",
              "\n",
              "    [theme=dark] .colab-df-convert {\n",
              "      background-color: #3B4455;\n",
              "      fill: #D2E3FC;\n",
              "    }\n",
              "\n",
              "    [theme=dark] .colab-df-convert:hover {\n",
              "      background-color: #434B5C;\n",
              "      box-shadow: 0px 1px 3px 1px rgba(0, 0, 0, 0.15);\n",
              "      filter: drop-shadow(0px 1px 2px rgba(0, 0, 0, 0.3));\n",
              "      fill: #FFFFFF;\n",
              "    }\n",
              "  </style>\n",
              "\n",
              "      <script>\n",
              "        const buttonEl =\n",
              "          document.querySelector('#df-5a2c4ef9-23fc-4007-a55c-2a0f1bc659ff button.colab-df-convert');\n",
              "        buttonEl.style.display =\n",
              "          google.colab.kernel.accessAllowed ? 'block' : 'none';\n",
              "\n",
              "        async function convertToInteractive(key) {\n",
              "          const element = document.querySelector('#df-5a2c4ef9-23fc-4007-a55c-2a0f1bc659ff');\n",
              "          const dataTable =\n",
              "            await google.colab.kernel.invokeFunction('convertToInteractive',\n",
              "                                                     [key], {});\n",
              "          if (!dataTable) return;\n",
              "\n",
              "          const docLinkHtml = 'Like what you see? Visit the ' +\n",
              "            '<a target=\"_blank\" href=https://colab.research.google.com/notebooks/data_table.ipynb>data table notebook</a>'\n",
              "            + ' to learn more about interactive tables.';\n",
              "          element.innerHTML = '';\n",
              "          dataTable['output_type'] = 'display_data';\n",
              "          await google.colab.output.renderOutput(dataTable, element);\n",
              "          const docLink = document.createElement('div');\n",
              "          docLink.innerHTML = docLinkHtml;\n",
              "          element.appendChild(docLink);\n",
              "        }\n",
              "      </script>\n",
              "    </div>\n",
              "  </div>\n",
              "  "
            ],
            "text/plain": [
              "       index          Suburb               Address  Rooms Type      Price  \\\n",
              "80        80     Albert Park  112 Beaconsfield Pde      3    h  2850000.0   \n",
              "85        85     Albert Park     104 Richardson St      4    h  2300000.0   \n",
              "88        88     Albert Park        29 Faussett St      2    h  2120000.0   \n",
              "92        92     Albert Park           2 Dundas Pl      3    h  2615000.0   \n",
              "93        93     Albert Park          23 Finlay St      5    h  2100000.0   \n",
              "...      ...             ...                   ...    ...  ...        ...   \n",
              "13521  13521  Port Melbourne          44 Garton St      4    t  2455000.0   \n",
              "13523  13523         Prahran        69 Greville St      4    h  2668000.0   \n",
              "13553  13553    Surrey Hills          20 Albert Cr      4    h  2720000.0   \n",
              "13555  13555    Surrey Hills              3 Oak St      4    h  3100000.0   \n",
              "13578  13578    Williamstown          96 Verdon St      4    h  2500000.0   \n",
              "\n",
              "      Method   SellerG        Date  Distance  ...  Car  Landsize  \\\n",
              "80        PI    Buxton   4/03/2017       3.3  ...    0     211.0   \n",
              "85         S  Marshall   7/05/2016       3.3  ...    1     153.0   \n",
              "88         S      Greg  10/09/2016       3.3  ...    1     199.0   \n",
              "92         S    Cayzer  10/12/2016       3.3  ...    1     177.0   \n",
              "93         S      Greg  10/12/2016       3.3  ...    1     237.0   \n",
              "...      ...       ...         ...       ...  ...  ...       ...   \n",
              "13521     SP  Marshall  26/08/2017       3.5  ...    2     123.0   \n",
              "13523      S    Biggin  26/08/2017       4.6  ...    2     383.0   \n",
              "13553      S       Kay  26/08/2017      10.2  ...    2    1005.0   \n",
              "13555     VB  Marshall  26/08/2017      10.2  ...    3     832.0   \n",
              "13578     PI   Sweeney  26/08/2017       6.8  ...    5     866.0   \n",
              "\n",
              "       BuildingArea  YearBuilt   CouncilArea  Lattitude  Longtitude  \\\n",
              "80            198.0       1890  Port Phillip  -37.84810   144.94990   \n",
              "85            180.0       1880  Port Phillip  -37.84470   144.95230   \n",
              "88            107.0       1900  Port Phillip  -37.84220   144.95540   \n",
              "92            181.0       1880  Port Phillip  -37.84150   144.95850   \n",
              "93            126.0       1970  Port Phillip  -37.84360   144.95570   \n",
              "...             ...        ...           ...        ...         ...   \n",
              "13521           0.0       2010           NaN  -37.83349   144.94840   \n",
              "13523         126.0       1970           NaN  -37.84879   144.98882   \n",
              "13553         126.0       1920           NaN  -37.82421   145.10352   \n",
              "13555         126.0       1970           NaN  -37.83564   145.10919   \n",
              "13578         157.0       1920           NaN  -37.85908   144.89299   \n",
              "\n",
              "                  Regionname  Propertycount           Coordinates  \n",
              "80     Southern Metropolitan           3280    -37.8481, 144.9499  \n",
              "85     Southern Metropolitan           3280    -37.8447, 144.9523  \n",
              "88     Southern Metropolitan           3280    -37.8422, 144.9554  \n",
              "92     Southern Metropolitan           3280    -37.8415, 144.9585  \n",
              "93     Southern Metropolitan           3280    -37.8436, 144.9557  \n",
              "...                      ...            ...                   ...  \n",
              "13521  Southern Metropolitan           8648   -37.83349, 144.9484  \n",
              "13523  Southern Metropolitan           7717  -37.84879, 144.98882  \n",
              "13553  Southern Metropolitan           5457  -37.82421, 145.10352  \n",
              "13555  Southern Metropolitan           5457  -37.83564, 145.10919  \n",
              "13578   Western Metropolitan           6380  -37.85908, 144.89299  \n",
              "\n",
              "[1007 rows x 23 columns]"
            ]
          },
          "execution_count": 37,
          "metadata": {},
          "output_type": "execute_result"
        }
      ],
      "source": [
        "melb_data[melb_data['Price'] > 2000000]"
      ]
    },
    {
      "cell_type": "code",
      "execution_count": 40,
      "metadata": {
        "colab": {
          "base_uri": "https://localhost:8080/"
        },
        "id": "Q5NsiFYHTS-g",
        "outputId": "f8edc81a-140e-4cf2-848c-da346240670e"
      },
      "outputs": [
        {
          "data": {
            "text/plain": [
              "5881"
            ]
          },
          "execution_count": 40,
          "metadata": {},
          "output_type": "execute_result"
        }
      ],
      "source": [
        "melb_data[melb_data['Rooms'] == 3].shape[0]\n",
        "# 5881"
      ]
    },
    {
      "cell_type": "code",
      "execution_count": 41,
      "metadata": {
        "colab": {
          "base_uri": "https://localhost:8080/"
        },
        "id": "k0UqEpL6T_pQ",
        "outputId": "89a8557f-b7df-4db1-92b6-3d9ba44c76ba"
      },
      "outputs": [
        {
          "data": {
            "text/plain": [
              "3"
            ]
          },
          "execution_count": 41,
          "metadata": {},
          "output_type": "execute_result"
        }
      ],
      "source": [
        "melb_data[(melb_data['Rooms'] == 3) & (melb_data['Price'] < 300000)].shape[0]\n",
        "# 3"
      ]
    },
    {
      "cell_type": "code",
      "execution_count": 42,
      "metadata": {
        "colab": {
          "base_uri": "https://localhost:8080/"
        },
        "id": "5Q8VXx94UQJ_",
        "outputId": "88def7a8-d466-48ab-d5ee-8b83c94d1607"
      },
      "outputs": [
        {
          "data": {
            "text/plain": [
              "68"
            ]
          },
          "execution_count": 42,
          "metadata": {},
          "output_type": "execute_result"
        }
      ],
      "source": [
        "melb_data[((melb_data['Rooms'] == 3) | (melb_data['BuildingArea'] > 100)) & (melb_data['Price'] < 300000)].shape[0]\n",
        "# 68"
      ]
    },
    {
      "cell_type": "code",
      "execution_count": 43,
      "metadata": {
        "colab": {
          "base_uri": "https://localhost:8080/"
        },
        "id": "49JpskATUtDG",
        "outputId": "e15a8556-702e-4de7-87e8-17bf1338ca29"
      },
      "outputs": [
        {
          "data": {
            "text/plain": [
              "5"
            ]
          },
          "execution_count": 43,
          "metadata": {},
          "output_type": "execute_result"
        }
      ],
      "source": [
        "melb_data[melb_data['Type'] == 't']['Rooms'].max()\n",
        "# 5"
      ]
    },
    {
      "cell_type": "code",
      "execution_count": 45,
      "metadata": {
        "colab": {
          "base_uri": "https://localhost:8080/"
        },
        "id": "2SvRKUo6U9vw",
        "outputId": "962e0018-fda8-4449-97a9-d8cb66d11ded"
      },
      "outputs": [
        {
          "data": {
            "text/plain": [
              "126.0"
            ]
          },
          "execution_count": 45,
          "metadata": {},
          "output_type": "execute_result"
        }
      ],
      "source": [
        "mean_price = melb_data['Price'].mean()\n",
        "melb_data[melb_data['Price'] > mean_price]['BuildingArea'].median()\n",
        "# 126.0"
      ]
    },
    {
      "cell_type": "code",
      "execution_count": 22,
      "metadata": {
        "colab": {
          "base_uri": "https://localhost:8080/"
        },
        "id": "phKdqbIAVvP-",
        "outputId": "6eb6b098-8d7d-4c08-ebb2-cc88a1f3d7a9"
      },
      "outputs": [
        {
          "data": {
            "text/plain": [
              "34"
            ]
          },
          "execution_count": 22,
          "metadata": {},
          "output_type": "execute_result"
        }
      ],
      "source": [
        "# ЗАДАНИЕ 8.1\n",
        "melb_data[melb_data['Bathroom'] == 0].shape[0]"
      ]
    },
    {
      "cell_type": "code",
      "execution_count": 23,
      "metadata": {
        "colab": {
          "base_uri": "https://localhost:8080/"
        },
        "id": "U4mAfgq7WEYf",
        "outputId": "e209d6c5-3885-4ffb-d335-13eb11922b1c"
      },
      "outputs": [
        {
          "data": {
            "text/plain": [
              "5"
            ]
          },
          "execution_count": 23,
          "metadata": {},
          "output_type": "execute_result"
        }
      ],
      "source": [
        "# ЗАДАНИЕ 8.2\n",
        "melb_data[(melb_data['SellerG'] == 'Nelson') & (melb_data['Price']>3e6)].shape[0]"
      ]
    },
    {
      "cell_type": "code",
      "execution_count": 49,
      "metadata": {
        "colab": {
          "base_uri": "https://localhost:8080/"
        },
        "id": "T6qMgGGFWlLY",
        "outputId": "dd4e9248-8ef1-49d3-8ecd-061152e2f73e"
      },
      "outputs": [
        {
          "data": {
            "text/plain": [
              "412500.0"
            ]
          },
          "execution_count": 49,
          "metadata": {},
          "output_type": "execute_result"
        }
      ],
      "source": [
        "# ЗАДАНИЕ 8.3\n",
        "melb_data[melb_data['BuildingArea'] == 0]['Price'].min()"
      ]
    },
    {
      "cell_type": "code",
      "execution_count": 109,
      "metadata": {
        "colab": {
          "base_uri": "https://localhost:8080/"
        },
        "id": "jUPhmx7sXjdv",
        "outputId": "ff75e1f5-0e01-4107-9772-50550157153a"
      },
      "outputs": [
        {
          "data": {
            "text/plain": [
              "1618249.335538917"
            ]
          },
          "execution_count": 109,
          "metadata": {},
          "output_type": "execute_result"
        }
      ],
      "source": [
        "melb_data[melb_data['Price']>1e6]['Price'].mean()"
      ]
    },
    {
      "cell_type": "code",
      "execution_count": 108,
      "metadata": {
        "colab": {
          "base_uri": "https://localhost:8080/"
        },
        "id": "zmTxkLeWYFVH",
        "outputId": "4b077709-51b8-4501-f93b-c7e7c2e81a79"
      },
      "outputs": [
        {
          "data": {
            "text/plain": [
              "769239.0"
            ]
          },
          "execution_count": 108,
          "metadata": {},
          "output_type": "execute_result"
        }
      ],
      "source": [
        "# ЗАДАНИЕ 8.4\n",
        "melb_data[(melb_data['Price']<1e6) & ((melb_data['Rooms']>5) | (melb_data['YearBuilt']>2015))]['Price'].mean().round()"
      ]
    },
    {
      "cell_type": "code",
      "execution_count": 110,
      "metadata": {
        "colab": {
          "base_uri": "https://localhost:8080/"
        },
        "id": "xrmEFv4taJUw",
        "outputId": "313e6799-13ee-45e3-b279-847b10bbff08"
      },
      "outputs": [
        {
          "data": {
            "text/plain": [
              "0    Northern Metropolitan\n",
              "dtype: object"
            ]
          },
          "execution_count": 110,
          "metadata": {},
          "output_type": "execute_result"
        }
      ],
      "source": [
        "# ЗАДАНИЕ 8.5\n",
        "melb_data[(melb_data['Price']<3e6) & (melb_data['Type'] == 'h')]['Regionname'].mode()"
      ]
    },
    {
      "cell_type": "markdown",
      "metadata": {
        "id": "I0BtO1rFa4L4"
      },
      "source": [
        "\n",
        "\n",
        "---\n",
        "\n",
        "# 9. Закрепление знаний"
      ]
    },
    {
      "cell_type": "code",
      "execution_count": 24,
      "metadata": {
        "colab": {
          "base_uri": "https://localhost:8080/",
          "height": 485
        },
        "id": "_IHTSS3xpBbo",
        "outputId": "634a7987-49e5-4116-b819-3006e56d45dd"
      },
      "outputs": [
        {
          "data": {
            "text/html": [
              "<div>\n",
              "<style scoped>\n",
              "    .dataframe tbody tr th:only-of-type {\n",
              "        vertical-align: middle;\n",
              "    }\n",
              "\n",
              "    .dataframe tbody tr th {\n",
              "        vertical-align: top;\n",
              "    }\n",
              "\n",
              "    .dataframe thead th {\n",
              "        text-align: right;\n",
              "    }\n",
              "</style>\n",
              "<table border=\"1\" class=\"dataframe\">\n",
              "  <thead>\n",
              "    <tr style=\"text-align: right;\">\n",
              "      <th></th>\n",
              "      <th>gender</th>\n",
              "      <th>race/ethnicity</th>\n",
              "      <th>parental level of education</th>\n",
              "      <th>lunch</th>\n",
              "      <th>test preparation course</th>\n",
              "      <th>math score</th>\n",
              "      <th>reading score</th>\n",
              "      <th>writing score</th>\n",
              "    </tr>\n",
              "  </thead>\n",
              "  <tbody>\n",
              "    <tr>\n",
              "      <th>0</th>\n",
              "      <td>female</td>\n",
              "      <td>group B</td>\n",
              "      <td>bachelor's degree</td>\n",
              "      <td>standard</td>\n",
              "      <td>none</td>\n",
              "      <td>72</td>\n",
              "      <td>72</td>\n",
              "      <td>74</td>\n",
              "    </tr>\n",
              "    <tr>\n",
              "      <th>1</th>\n",
              "      <td>female</td>\n",
              "      <td>group C</td>\n",
              "      <td>some college</td>\n",
              "      <td>standard</td>\n",
              "      <td>completed</td>\n",
              "      <td>69</td>\n",
              "      <td>90</td>\n",
              "      <td>88</td>\n",
              "    </tr>\n",
              "    <tr>\n",
              "      <th>2</th>\n",
              "      <td>female</td>\n",
              "      <td>group B</td>\n",
              "      <td>master's degree</td>\n",
              "      <td>standard</td>\n",
              "      <td>none</td>\n",
              "      <td>90</td>\n",
              "      <td>95</td>\n",
              "      <td>93</td>\n",
              "    </tr>\n",
              "    <tr>\n",
              "      <th>3</th>\n",
              "      <td>male</td>\n",
              "      <td>group A</td>\n",
              "      <td>associate's degree</td>\n",
              "      <td>free/reduced</td>\n",
              "      <td>none</td>\n",
              "      <td>47</td>\n",
              "      <td>57</td>\n",
              "      <td>44</td>\n",
              "    </tr>\n",
              "    <tr>\n",
              "      <th>4</th>\n",
              "      <td>male</td>\n",
              "      <td>group C</td>\n",
              "      <td>some college</td>\n",
              "      <td>standard</td>\n",
              "      <td>none</td>\n",
              "      <td>76</td>\n",
              "      <td>78</td>\n",
              "      <td>75</td>\n",
              "    </tr>\n",
              "    <tr>\n",
              "      <th>...</th>\n",
              "      <td>...</td>\n",
              "      <td>...</td>\n",
              "      <td>...</td>\n",
              "      <td>...</td>\n",
              "      <td>...</td>\n",
              "      <td>...</td>\n",
              "      <td>...</td>\n",
              "      <td>...</td>\n",
              "    </tr>\n",
              "    <tr>\n",
              "      <th>995</th>\n",
              "      <td>female</td>\n",
              "      <td>group E</td>\n",
              "      <td>master's degree</td>\n",
              "      <td>standard</td>\n",
              "      <td>completed</td>\n",
              "      <td>88</td>\n",
              "      <td>99</td>\n",
              "      <td>95</td>\n",
              "    </tr>\n",
              "    <tr>\n",
              "      <th>996</th>\n",
              "      <td>male</td>\n",
              "      <td>group C</td>\n",
              "      <td>high school</td>\n",
              "      <td>free/reduced</td>\n",
              "      <td>none</td>\n",
              "      <td>62</td>\n",
              "      <td>55</td>\n",
              "      <td>55</td>\n",
              "    </tr>\n",
              "    <tr>\n",
              "      <th>997</th>\n",
              "      <td>female</td>\n",
              "      <td>group C</td>\n",
              "      <td>high school</td>\n",
              "      <td>free/reduced</td>\n",
              "      <td>completed</td>\n",
              "      <td>59</td>\n",
              "      <td>71</td>\n",
              "      <td>65</td>\n",
              "    </tr>\n",
              "    <tr>\n",
              "      <th>998</th>\n",
              "      <td>female</td>\n",
              "      <td>group D</td>\n",
              "      <td>some college</td>\n",
              "      <td>standard</td>\n",
              "      <td>completed</td>\n",
              "      <td>68</td>\n",
              "      <td>78</td>\n",
              "      <td>77</td>\n",
              "    </tr>\n",
              "    <tr>\n",
              "      <th>999</th>\n",
              "      <td>female</td>\n",
              "      <td>group D</td>\n",
              "      <td>some college</td>\n",
              "      <td>free/reduced</td>\n",
              "      <td>none</td>\n",
              "      <td>77</td>\n",
              "      <td>86</td>\n",
              "      <td>86</td>\n",
              "    </tr>\n",
              "  </tbody>\n",
              "</table>\n",
              "<p>1000 rows × 8 columns</p>\n",
              "</div>"
            ],
            "text/plain": [
              "     gender race/ethnicity parental level of education         lunch  \\\n",
              "0    female        group B           bachelor's degree      standard   \n",
              "1    female        group C                some college      standard   \n",
              "2    female        group B             master's degree      standard   \n",
              "3      male        group A          associate's degree  free/reduced   \n",
              "4      male        group C                some college      standard   \n",
              "..      ...            ...                         ...           ...   \n",
              "995  female        group E             master's degree      standard   \n",
              "996    male        group C                 high school  free/reduced   \n",
              "997  female        group C                 high school  free/reduced   \n",
              "998  female        group D                some college      standard   \n",
              "999  female        group D                some college  free/reduced   \n",
              "\n",
              "    test preparation course  math score  reading score  writing score  \n",
              "0                      none          72             72             74  \n",
              "1                 completed          69             90             88  \n",
              "2                      none          90             95             93  \n",
              "3                      none          47             57             44  \n",
              "4                      none          76             78             75  \n",
              "..                      ...         ...            ...            ...  \n",
              "995               completed          88             99             95  \n",
              "996                    none          62             55             55  \n",
              "997               completed          59             71             65  \n",
              "998               completed          68             78             77  \n",
              "999                    none          77             86             86  \n",
              "\n",
              "[1000 rows x 8 columns]"
            ]
          },
          "execution_count": 24,
          "metadata": {},
          "output_type": "execute_result"
        }
      ],
      "source": [
        "student_data = pd.read_csv('C:\\IDE\\DS_Course\\data\\students_performance.csv', sep=',')\n",
        "student_data"
      ]
    },
    {
      "cell_type": "code",
      "execution_count": 25,
      "metadata": {
        "colab": {
          "base_uri": "https://localhost:8080/"
        },
        "id": "OWNbIR6kqFII",
        "outputId": "7d73d6b6-6c6d-4aed-9bbc-e8d7d3a56107"
      },
      "outputs": [
        {
          "data": {
            "text/plain": [
              "1000"
            ]
          },
          "execution_count": 25,
          "metadata": {},
          "output_type": "execute_result"
        }
      ],
      "source": [
        "# Задание 9.1\n",
        "student_data.shape[0]"
      ]
    },
    {
      "cell_type": "code",
      "execution_count": 26,
      "metadata": {
        "colab": {
          "base_uri": "https://localhost:8080/"
        },
        "id": "Q1uRtOr2qQyA",
        "outputId": "a60e77cd-e683-4bd1-8652-5635a27889ab"
      },
      "outputs": [
        {
          "data": {
            "text/plain": [
              "88"
            ]
          },
          "execution_count": 26,
          "metadata": {},
          "output_type": "execute_result"
        }
      ],
      "source": [
        "# Задание 9.2\n",
        "student_data.loc[155, 'writing score']"
      ]
    },
    {
      "cell_type": "code",
      "execution_count": 27,
      "metadata": {
        "colab": {
          "base_uri": "https://localhost:8080/"
        },
        "id": "RDFFrXCYqca7",
        "outputId": "968e097b-6330-4452-9570-d7380f39303c"
      },
      "outputs": [
        {
          "name": "stdout",
          "output_type": "stream",
          "text": [
            "<class 'pandas.core.frame.DataFrame'>\n",
            "RangeIndex: 1000 entries, 0 to 999\n",
            "Data columns (total 8 columns):\n",
            " #   Column                       Non-Null Count  Dtype \n",
            "---  ------                       --------------  ----- \n",
            " 0   gender                       1000 non-null   object\n",
            " 1   race/ethnicity               1000 non-null   object\n",
            " 2   parental level of education  1000 non-null   object\n",
            " 3   lunch                        1000 non-null   object\n",
            " 4   test preparation course      1000 non-null   object\n",
            " 5   math score                   1000 non-null   int64 \n",
            " 6   reading score                1000 non-null   int64 \n",
            " 7   writing score                1000 non-null   int64 \n",
            "dtypes: int64(3), object(5)\n",
            "memory usage: 62.6+ KB\n"
          ]
        }
      ],
      "source": [
        "# Задание 9.3\n",
        "# Задание 9.4\n",
        "# Задание 9.5\n",
        "student_data.info()"
      ]
    },
    {
      "cell_type": "code",
      "execution_count": 28,
      "metadata": {
        "colab": {
          "base_uri": "https://localhost:8080/"
        },
        "id": "iffddx70rcPm",
        "outputId": "0f30c0ee-3f90-4c79-9390-8f0e188423b7"
      },
      "outputs": [
        {
          "data": {
            "text/plain": [
              "66.089"
            ]
          },
          "execution_count": 28,
          "metadata": {},
          "output_type": "execute_result"
        }
      ],
      "source": [
        "# Задание 9.6\n",
        "student_data['math score'].mean()"
      ]
    },
    {
      "cell_type": "code",
      "execution_count": 29,
      "metadata": {
        "colab": {
          "base_uri": "https://localhost:8080/"
        },
        "id": "h8Dz4WJ_tX4H",
        "outputId": "9b2d1392-0cce-4331-9645-72ca8241c53c"
      },
      "outputs": [
        {
          "data": {
            "text/plain": [
              "0    group C\n",
              "Name: race/ethnicity, dtype: object"
            ]
          },
          "execution_count": 29,
          "metadata": {},
          "output_type": "execute_result"
        }
      ],
      "source": [
        "# Задание 9.7\n",
        "student_data['race/ethnicity'].mode()"
      ]
    },
    {
      "cell_type": "code",
      "execution_count": 30,
      "metadata": {
        "colab": {
          "base_uri": "https://localhost:8080/"
        },
        "id": "NJ1ssfbYtkIf",
        "outputId": "404d735e-7a4b-470e-eae7-01e439fd8ee1"
      },
      "outputs": [
        {
          "data": {
            "text/plain": [
              "73.89385474860335"
            ]
          },
          "execution_count": 30,
          "metadata": {},
          "output_type": "execute_result"
        }
      ],
      "source": [
        "# Задание 9.8\n",
        "student_data[(student_data['test preparation course'] == 'completed')]['reading score'].mean()"
      ]
    },
    {
      "cell_type": "code",
      "execution_count": 31,
      "metadata": {
        "colab": {
          "base_uri": "https://localhost:8080/"
        },
        "id": "0DQgyOffuh4b",
        "outputId": "da429764-5af6-4371-f530-2bdacdb5fbbe"
      },
      "outputs": [
        {
          "data": {
            "text/plain": [
              "1"
            ]
          },
          "execution_count": 31,
          "metadata": {},
          "output_type": "execute_result"
        }
      ],
      "source": [
        "# Задание 9.9\n",
        "student_data[(student_data['math score'] == 0)].shape[0]"
      ]
    },
    {
      "cell_type": "code",
      "execution_count": 32,
      "metadata": {
        "colab": {
          "base_uri": "https://localhost:8080/"
        },
        "id": "gLWjcIlzwMtW",
        "outputId": "3134faf2-bbc6-422d-f3e5-0fee589fc1cf"
      },
      "outputs": [
        {
          "data": {
            "text/plain": [
              "70.03410852713178"
            ]
          },
          "execution_count": 32,
          "metadata": {},
          "output_type": "execute_result"
        }
      ],
      "source": [
        "# Задание 9.10\n",
        "student_data[(student_data['lunch'] == 'standard')]['math score'].mean()"
      ]
    },
    {
      "cell_type": "code",
      "execution_count": 80,
      "metadata": {
        "colab": {
          "base_uri": "https://localhost:8080/"
        },
        "id": "aZQzvYyQwY_W",
        "outputId": "5239c087-889c-4aa4-b3a2-891f04fd3c16"
      },
      "outputs": [
        {
          "data": {
            "text/plain": [
              "58.92112676056338"
            ]
          },
          "execution_count": 80,
          "metadata": {},
          "output_type": "execute_result"
        }
      ],
      "source": [
        "student_data[(student_data['lunch'] == 'free/reduced')]['math score'].mean()"
      ]
    },
    {
      "cell_type": "code",
      "execution_count": 118,
      "metadata": {
        "colab": {
          "base_uri": "https://localhost:8080/"
        },
        "id": "RZK_niRPxLyv",
        "outputId": "91a3c123-d1df-4fb6-dd3a-f6bd1c976bf0"
      },
      "outputs": [
        {
          "data": {
            "text/plain": [
              "some college          23.0\n",
              "associate's degree    22.0\n",
              "high school           20.0\n",
              "some high school      18.0\n",
              "bachelor's degree     12.0\n",
              "master's degree        6.0\n",
              "Name: parental level of education, dtype: float64"
            ]
          },
          "execution_count": 118,
          "metadata": {},
          "output_type": "execute_result"
        }
      ],
      "source": [
        "# Задание 9.11\n",
        "round(student_data[\"parental level of education\"].value_counts(normalize=True)*100)"
      ]
    },
    {
      "cell_type": "code",
      "execution_count": 84,
      "metadata": {
        "id": "B3LOqKnRyChK"
      },
      "outputs": [],
      "source": [
        "# Задание 9.12\n",
        "student_a = student_data['race/ethnicity'] == \"group A\"\n",
        "student_c = student_data['race/ethnicity'] == \"group C\""
      ]
    },
    {
      "cell_type": "code",
      "execution_count": 85,
      "metadata": {
        "colab": {
          "base_uri": "https://localhost:8080/"
        },
        "id": "I684Hkpvyydd",
        "outputId": "d87c1094-0fc2-48fc-9319-d35dc04251ca"
      },
      "outputs": [
        {
          "data": {
            "text/plain": [
              "62.0"
            ]
          },
          "execution_count": 85,
          "metadata": {},
          "output_type": "execute_result"
        }
      ],
      "source": [
        "student_data[student_a]['writing score'].median()"
      ]
    },
    {
      "cell_type": "code",
      "execution_count": 91,
      "metadata": {
        "colab": {
          "base_uri": "https://localhost:8080/"
        },
        "id": "dlbB7Gmmy_0U",
        "outputId": "5f8bf068-2ad6-4962-fc2f-3f3d33d45ef1"
      },
      "outputs": [
        {
          "data": {
            "text/plain": [
              "68.0"
            ]
          },
          "execution_count": 91,
          "metadata": {},
          "output_type": "execute_result"
        }
      ],
      "source": [
        "student_data[student_c]['writing score'].mean().round(0)"
      ]
    }
  ],
  "metadata": {
    "colab": {
      "collapsed_sections": [],
      "provenance": []
    },
    "kernelspec": {
      "display_name": "Python 3.10.7 64-bit",
      "language": "python",
      "name": "python3"
    },
    "language_info": {
      "codemirror_mode": {
        "name": "ipython",
        "version": 3
      },
      "file_extension": ".py",
      "mimetype": "text/x-python",
      "name": "python",
      "nbconvert_exporter": "python",
      "pygments_lexer": "ipython3",
      "version": "3.10.7"
    },
    "vscode": {
      "interpreter": {
        "hash": "fb4569285eef3a3450cb62085a5b1e0da4bce0af555edc33dcf29baf3acc1368"
      }
    }
  },
  "nbformat": 4,
  "nbformat_minor": 0
}
