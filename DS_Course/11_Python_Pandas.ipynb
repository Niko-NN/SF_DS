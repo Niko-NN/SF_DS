{
  "cells": [
    {
      "cell_type": "markdown",
      "metadata": {
        "id": "7An-idO5MuH4"
      },
      "source": [
        "# 1. Введение"
      ]
    },
    {
      "cell_type": "code",
      "execution_count": 2,
      "metadata": {
        "colab": {
          "base_uri": "https://localhost:8080/",
          "height": 421
        },
        "id": "b8clWW3VLMlQ",
        "outputId": "4f1180ef-5e0d-4061-df33-8055df2cc9c5"
      },
      "outputs": [
        {
          "data": {
            "text/html": [
              "\n",
              "  <div id=\"df-82ea0df7-edca-4028-be83-7ceb4c08aac3\">\n",
              "    <div class=\"colab-df-container\">\n",
              "      <div>\n",
              "<style scoped>\n",
              "    .dataframe tbody tr th:only-of-type {\n",
              "        vertical-align: middle;\n",
              "    }\n",
              "\n",
              "    .dataframe tbody tr th {\n",
              "        vertical-align: top;\n",
              "    }\n",
              "\n",
              "    .dataframe thead th {\n",
              "        text-align: right;\n",
              "    }\n",
              "</style>\n",
              "<table border=\"1\" class=\"dataframe\">\n",
              "  <thead>\n",
              "    <tr style=\"text-align: right;\">\n",
              "      <th></th>\n",
              "      <th>index</th>\n",
              "      <th>Suburb</th>\n",
              "      <th>Address</th>\n",
              "      <th>Rooms</th>\n",
              "      <th>Type</th>\n",
              "      <th>Price</th>\n",
              "      <th>Method</th>\n",
              "      <th>SellerG</th>\n",
              "      <th>Date</th>\n",
              "      <th>Distance</th>\n",
              "      <th>...</th>\n",
              "      <th>Car</th>\n",
              "      <th>Landsize</th>\n",
              "      <th>BuildingArea</th>\n",
              "      <th>YearBuilt</th>\n",
              "      <th>CouncilArea</th>\n",
              "      <th>Lattitude</th>\n",
              "      <th>Longtitude</th>\n",
              "      <th>Regionname</th>\n",
              "      <th>Propertycount</th>\n",
              "      <th>Coordinates</th>\n",
              "    </tr>\n",
              "  </thead>\n",
              "  <tbody>\n",
              "    <tr>\n",
              "      <th>0</th>\n",
              "      <td>0</td>\n",
              "      <td>Abbotsford</td>\n",
              "      <td>85 Turner St</td>\n",
              "      <td>2</td>\n",
              "      <td>h</td>\n",
              "      <td>1480000.0</td>\n",
              "      <td>S</td>\n",
              "      <td>Biggin</td>\n",
              "      <td>3/12/2016</td>\n",
              "      <td>2.5</td>\n",
              "      <td>...</td>\n",
              "      <td>1</td>\n",
              "      <td>202.0</td>\n",
              "      <td>126.0</td>\n",
              "      <td>1970</td>\n",
              "      <td>Yarra</td>\n",
              "      <td>-37.7996</td>\n",
              "      <td>144.9984</td>\n",
              "      <td>Northern Metropolitan</td>\n",
              "      <td>4019</td>\n",
              "      <td>-37.7996, 144.9984</td>\n",
              "    </tr>\n",
              "    <tr>\n",
              "      <th>1</th>\n",
              "      <td>1</td>\n",
              "      <td>Abbotsford</td>\n",
              "      <td>25 Bloomburg St</td>\n",
              "      <td>2</td>\n",
              "      <td>h</td>\n",
              "      <td>1035000.0</td>\n",
              "      <td>S</td>\n",
              "      <td>Biggin</td>\n",
              "      <td>4/02/2016</td>\n",
              "      <td>2.5</td>\n",
              "      <td>...</td>\n",
              "      <td>0</td>\n",
              "      <td>156.0</td>\n",
              "      <td>79.0</td>\n",
              "      <td>1900</td>\n",
              "      <td>Yarra</td>\n",
              "      <td>-37.8079</td>\n",
              "      <td>144.9934</td>\n",
              "      <td>Northern Metropolitan</td>\n",
              "      <td>4019</td>\n",
              "      <td>-37.8079, 144.9934</td>\n",
              "    </tr>\n",
              "    <tr>\n",
              "      <th>2</th>\n",
              "      <td>2</td>\n",
              "      <td>Abbotsford</td>\n",
              "      <td>5 Charles St</td>\n",
              "      <td>3</td>\n",
              "      <td>h</td>\n",
              "      <td>1465000.0</td>\n",
              "      <td>SP</td>\n",
              "      <td>Biggin</td>\n",
              "      <td>4/03/2017</td>\n",
              "      <td>2.5</td>\n",
              "      <td>...</td>\n",
              "      <td>0</td>\n",
              "      <td>134.0</td>\n",
              "      <td>150.0</td>\n",
              "      <td>1900</td>\n",
              "      <td>Yarra</td>\n",
              "      <td>-37.8093</td>\n",
              "      <td>144.9944</td>\n",
              "      <td>Northern Metropolitan</td>\n",
              "      <td>4019</td>\n",
              "      <td>-37.8093, 144.9944</td>\n",
              "    </tr>\n",
              "    <tr>\n",
              "      <th>3</th>\n",
              "      <td>3</td>\n",
              "      <td>Abbotsford</td>\n",
              "      <td>40 Federation La</td>\n",
              "      <td>3</td>\n",
              "      <td>h</td>\n",
              "      <td>850000.0</td>\n",
              "      <td>PI</td>\n",
              "      <td>Biggin</td>\n",
              "      <td>4/03/2017</td>\n",
              "      <td>2.5</td>\n",
              "      <td>...</td>\n",
              "      <td>1</td>\n",
              "      <td>94.0</td>\n",
              "      <td>126.0</td>\n",
              "      <td>1970</td>\n",
              "      <td>Yarra</td>\n",
              "      <td>-37.7969</td>\n",
              "      <td>144.9969</td>\n",
              "      <td>Northern Metropolitan</td>\n",
              "      <td>4019</td>\n",
              "      <td>-37.7969, 144.9969</td>\n",
              "    </tr>\n",
              "    <tr>\n",
              "      <th>4</th>\n",
              "      <td>4</td>\n",
              "      <td>Abbotsford</td>\n",
              "      <td>55a Park St</td>\n",
              "      <td>4</td>\n",
              "      <td>h</td>\n",
              "      <td>1600000.0</td>\n",
              "      <td>VB</td>\n",
              "      <td>Nelson</td>\n",
              "      <td>4/06/2016</td>\n",
              "      <td>2.5</td>\n",
              "      <td>...</td>\n",
              "      <td>2</td>\n",
              "      <td>120.0</td>\n",
              "      <td>142.0</td>\n",
              "      <td>2014</td>\n",
              "      <td>Yarra</td>\n",
              "      <td>-37.8072</td>\n",
              "      <td>144.9941</td>\n",
              "      <td>Northern Metropolitan</td>\n",
              "      <td>4019</td>\n",
              "      <td>-37.8072, 144.9941</td>\n",
              "    </tr>\n",
              "  </tbody>\n",
              "</table>\n",
              "<p>5 rows × 23 columns</p>\n",
              "</div>\n",
              "      <button class=\"colab-df-convert\" onclick=\"convertToInteractive('df-82ea0df7-edca-4028-be83-7ceb4c08aac3')\"\n",
              "              title=\"Convert this dataframe to an interactive table.\"\n",
              "              style=\"display:none;\">\n",
              "        \n",
              "  <svg xmlns=\"http://www.w3.org/2000/svg\" height=\"24px\"viewBox=\"0 0 24 24\"\n",
              "       width=\"24px\">\n",
              "    <path d=\"M0 0h24v24H0V0z\" fill=\"none\"/>\n",
              "    <path d=\"M18.56 5.44l.94 2.06.94-2.06 2.06-.94-2.06-.94-.94-2.06-.94 2.06-2.06.94zm-11 1L8.5 8.5l.94-2.06 2.06-.94-2.06-.94L8.5 2.5l-.94 2.06-2.06.94zm10 10l.94 2.06.94-2.06 2.06-.94-2.06-.94-.94-2.06-.94 2.06-2.06.94z\"/><path d=\"M17.41 7.96l-1.37-1.37c-.4-.4-.92-.59-1.43-.59-.52 0-1.04.2-1.43.59L10.3 9.45l-7.72 7.72c-.78.78-.78 2.05 0 2.83L4 21.41c.39.39.9.59 1.41.59.51 0 1.02-.2 1.41-.59l7.78-7.78 2.81-2.81c.8-.78.8-2.07 0-2.86zM5.41 20L4 18.59l7.72-7.72 1.47 1.35L5.41 20z\"/>\n",
              "  </svg>\n",
              "      </button>\n",
              "      \n",
              "  <style>\n",
              "    .colab-df-container {\n",
              "      display:flex;\n",
              "      flex-wrap:wrap;\n",
              "      gap: 12px;\n",
              "    }\n",
              "\n",
              "    .colab-df-convert {\n",
              "      background-color: #E8F0FE;\n",
              "      border: none;\n",
              "      border-radius: 50%;\n",
              "      cursor: pointer;\n",
              "      display: none;\n",
              "      fill: #1967D2;\n",
              "      height: 32px;\n",
              "      padding: 0 0 0 0;\n",
              "      width: 32px;\n",
              "    }\n",
              "\n",
              "    .colab-df-convert:hover {\n",
              "      background-color: #E2EBFA;\n",
              "      box-shadow: 0px 1px 2px rgba(60, 64, 67, 0.3), 0px 1px 3px 1px rgba(60, 64, 67, 0.15);\n",
              "      fill: #174EA6;\n",
              "    }\n",
              "\n",
              "    [theme=dark] .colab-df-convert {\n",
              "      background-color: #3B4455;\n",
              "      fill: #D2E3FC;\n",
              "    }\n",
              "\n",
              "    [theme=dark] .colab-df-convert:hover {\n",
              "      background-color: #434B5C;\n",
              "      box-shadow: 0px 1px 3px 1px rgba(0, 0, 0, 0.15);\n",
              "      filter: drop-shadow(0px 1px 2px rgba(0, 0, 0, 0.3));\n",
              "      fill: #FFFFFF;\n",
              "    }\n",
              "  </style>\n",
              "\n",
              "      <script>\n",
              "        const buttonEl =\n",
              "          document.querySelector('#df-82ea0df7-edca-4028-be83-7ceb4c08aac3 button.colab-df-convert');\n",
              "        buttonEl.style.display =\n",
              "          google.colab.kernel.accessAllowed ? 'block' : 'none';\n",
              "\n",
              "        async function convertToInteractive(key) {\n",
              "          const element = document.querySelector('#df-82ea0df7-edca-4028-be83-7ceb4c08aac3');\n",
              "          const dataTable =\n",
              "            await google.colab.kernel.invokeFunction('convertToInteractive',\n",
              "                                                     [key], {});\n",
              "          if (!dataTable) return;\n",
              "\n",
              "          const docLinkHtml = 'Like what you see? Visit the ' +\n",
              "            '<a target=\"_blank\" href=https://colab.research.google.com/notebooks/data_table.ipynb>data table notebook</a>'\n",
              "            + ' to learn more about interactive tables.';\n",
              "          element.innerHTML = '';\n",
              "          dataTable['output_type'] = 'display_data';\n",
              "          await google.colab.output.renderOutput(dataTable, element);\n",
              "          const docLink = document.createElement('div');\n",
              "          docLink.innerHTML = docLinkHtml;\n",
              "          element.appendChild(docLink);\n",
              "        }\n",
              "      </script>\n",
              "    </div>\n",
              "  </div>\n",
              "  "
            ],
            "text/plain": [
              "   index      Suburb           Address  Rooms Type      Price Method SellerG  \\\n",
              "0      0  Abbotsford      85 Turner St      2    h  1480000.0      S  Biggin   \n",
              "1      1  Abbotsford   25 Bloomburg St      2    h  1035000.0      S  Biggin   \n",
              "2      2  Abbotsford      5 Charles St      3    h  1465000.0     SP  Biggin   \n",
              "3      3  Abbotsford  40 Federation La      3    h   850000.0     PI  Biggin   \n",
              "4      4  Abbotsford       55a Park St      4    h  1600000.0     VB  Nelson   \n",
              "\n",
              "        Date  Distance  ...  Car  Landsize  BuildingArea  YearBuilt  \\\n",
              "0  3/12/2016       2.5  ...    1     202.0         126.0       1970   \n",
              "1  4/02/2016       2.5  ...    0     156.0          79.0       1900   \n",
              "2  4/03/2017       2.5  ...    0     134.0         150.0       1900   \n",
              "3  4/03/2017       2.5  ...    1      94.0         126.0       1970   \n",
              "4  4/06/2016       2.5  ...    2     120.0         142.0       2014   \n",
              "\n",
              "   CouncilArea  Lattitude  Longtitude             Regionname  Propertycount  \\\n",
              "0        Yarra   -37.7996    144.9984  Northern Metropolitan           4019   \n",
              "1        Yarra   -37.8079    144.9934  Northern Metropolitan           4019   \n",
              "2        Yarra   -37.8093    144.9944  Northern Metropolitan           4019   \n",
              "3        Yarra   -37.7969    144.9969  Northern Metropolitan           4019   \n",
              "4        Yarra   -37.8072    144.9941  Northern Metropolitan           4019   \n",
              "\n",
              "          Coordinates  \n",
              "0  -37.7996, 144.9984  \n",
              "1  -37.8079, 144.9934  \n",
              "2  -37.8093, 144.9944  \n",
              "3  -37.7969, 144.9969  \n",
              "4  -37.8072, 144.9941  \n",
              "\n",
              "[5 rows x 23 columns]"
            ]
          },
          "execution_count": 2,
          "metadata": {},
          "output_type": "execute_result"
        }
      ],
      "source": [
        "import pandas as pd\n",
        "\n",
        "melb_data = pd.read_csv('/content/sample_data/melb_data_ps.csv', sep=',')\n",
        "melb_data.head()"
      ]
    },
    {
      "cell_type": "markdown",
      "metadata": {
        "id": "yeg3-j-mMpPX"
      },
      "source": [
        "\n",
        "\n",
        "---\n",
        "\n",
        "# 2. Базовые операции со столбцами DataFrame"
      ]
    },
    {
      "cell_type": "markdown",
      "metadata": {
        "id": "8WOGzlHIM14o"
      },
      "source": [
        "СОЗДАНИЕ КОПИИ ТАБЛИЦЫ"
      ]
    },
    {
      "cell_type": "code",
      "execution_count": 25,
      "metadata": {
        "colab": {
          "base_uri": "https://localhost:8080/",
          "height": 421
        },
        "id": "KEVEA5XGNDf8",
        "outputId": "9980a156-da57-4aa6-eae1-292902b8c158"
      },
      "outputs": [
        {
          "data": {
            "text/html": [
              "\n",
              "  <div id=\"df-e66a5270-c154-4d5c-b00c-96e4bd874992\">\n",
              "    <div class=\"colab-df-container\">\n",
              "      <div>\n",
              "<style scoped>\n",
              "    .dataframe tbody tr th:only-of-type {\n",
              "        vertical-align: middle;\n",
              "    }\n",
              "\n",
              "    .dataframe tbody tr th {\n",
              "        vertical-align: top;\n",
              "    }\n",
              "\n",
              "    .dataframe thead th {\n",
              "        text-align: right;\n",
              "    }\n",
              "</style>\n",
              "<table border=\"1\" class=\"dataframe\">\n",
              "  <thead>\n",
              "    <tr style=\"text-align: right;\">\n",
              "      <th></th>\n",
              "      <th>index</th>\n",
              "      <th>Suburb</th>\n",
              "      <th>Address</th>\n",
              "      <th>Rooms</th>\n",
              "      <th>Type</th>\n",
              "      <th>Price</th>\n",
              "      <th>Method</th>\n",
              "      <th>SellerG</th>\n",
              "      <th>Date</th>\n",
              "      <th>Distance</th>\n",
              "      <th>...</th>\n",
              "      <th>Car</th>\n",
              "      <th>Landsize</th>\n",
              "      <th>BuildingArea</th>\n",
              "      <th>YearBuilt</th>\n",
              "      <th>CouncilArea</th>\n",
              "      <th>Lattitude</th>\n",
              "      <th>Longtitude</th>\n",
              "      <th>Regionname</th>\n",
              "      <th>Propertycount</th>\n",
              "      <th>Coordinates</th>\n",
              "    </tr>\n",
              "  </thead>\n",
              "  <tbody>\n",
              "    <tr>\n",
              "      <th>0</th>\n",
              "      <td>0</td>\n",
              "      <td>Abbotsford</td>\n",
              "      <td>85 Turner St</td>\n",
              "      <td>2</td>\n",
              "      <td>h</td>\n",
              "      <td>1480000.0</td>\n",
              "      <td>S</td>\n",
              "      <td>Biggin</td>\n",
              "      <td>3/12/2016</td>\n",
              "      <td>2.5</td>\n",
              "      <td>...</td>\n",
              "      <td>1</td>\n",
              "      <td>202.0</td>\n",
              "      <td>126.0</td>\n",
              "      <td>1970</td>\n",
              "      <td>Yarra</td>\n",
              "      <td>-37.7996</td>\n",
              "      <td>144.9984</td>\n",
              "      <td>Northern Metropolitan</td>\n",
              "      <td>4019</td>\n",
              "      <td>-37.7996, 144.9984</td>\n",
              "    </tr>\n",
              "    <tr>\n",
              "      <th>1</th>\n",
              "      <td>1</td>\n",
              "      <td>Abbotsford</td>\n",
              "      <td>25 Bloomburg St</td>\n",
              "      <td>2</td>\n",
              "      <td>h</td>\n",
              "      <td>1035000.0</td>\n",
              "      <td>S</td>\n",
              "      <td>Biggin</td>\n",
              "      <td>4/02/2016</td>\n",
              "      <td>2.5</td>\n",
              "      <td>...</td>\n",
              "      <td>0</td>\n",
              "      <td>156.0</td>\n",
              "      <td>79.0</td>\n",
              "      <td>1900</td>\n",
              "      <td>Yarra</td>\n",
              "      <td>-37.8079</td>\n",
              "      <td>144.9934</td>\n",
              "      <td>Northern Metropolitan</td>\n",
              "      <td>4019</td>\n",
              "      <td>-37.8079, 144.9934</td>\n",
              "    </tr>\n",
              "    <tr>\n",
              "      <th>2</th>\n",
              "      <td>2</td>\n",
              "      <td>Abbotsford</td>\n",
              "      <td>5 Charles St</td>\n",
              "      <td>3</td>\n",
              "      <td>h</td>\n",
              "      <td>1465000.0</td>\n",
              "      <td>SP</td>\n",
              "      <td>Biggin</td>\n",
              "      <td>4/03/2017</td>\n",
              "      <td>2.5</td>\n",
              "      <td>...</td>\n",
              "      <td>0</td>\n",
              "      <td>134.0</td>\n",
              "      <td>150.0</td>\n",
              "      <td>1900</td>\n",
              "      <td>Yarra</td>\n",
              "      <td>-37.8093</td>\n",
              "      <td>144.9944</td>\n",
              "      <td>Northern Metropolitan</td>\n",
              "      <td>4019</td>\n",
              "      <td>-37.8093, 144.9944</td>\n",
              "    </tr>\n",
              "    <tr>\n",
              "      <th>3</th>\n",
              "      <td>3</td>\n",
              "      <td>Abbotsford</td>\n",
              "      <td>40 Federation La</td>\n",
              "      <td>3</td>\n",
              "      <td>h</td>\n",
              "      <td>850000.0</td>\n",
              "      <td>PI</td>\n",
              "      <td>Biggin</td>\n",
              "      <td>4/03/2017</td>\n",
              "      <td>2.5</td>\n",
              "      <td>...</td>\n",
              "      <td>1</td>\n",
              "      <td>94.0</td>\n",
              "      <td>126.0</td>\n",
              "      <td>1970</td>\n",
              "      <td>Yarra</td>\n",
              "      <td>-37.7969</td>\n",
              "      <td>144.9969</td>\n",
              "      <td>Northern Metropolitan</td>\n",
              "      <td>4019</td>\n",
              "      <td>-37.7969, 144.9969</td>\n",
              "    </tr>\n",
              "    <tr>\n",
              "      <th>4</th>\n",
              "      <td>4</td>\n",
              "      <td>Abbotsford</td>\n",
              "      <td>55a Park St</td>\n",
              "      <td>4</td>\n",
              "      <td>h</td>\n",
              "      <td>1600000.0</td>\n",
              "      <td>VB</td>\n",
              "      <td>Nelson</td>\n",
              "      <td>4/06/2016</td>\n",
              "      <td>2.5</td>\n",
              "      <td>...</td>\n",
              "      <td>2</td>\n",
              "      <td>120.0</td>\n",
              "      <td>142.0</td>\n",
              "      <td>2014</td>\n",
              "      <td>Yarra</td>\n",
              "      <td>-37.8072</td>\n",
              "      <td>144.9941</td>\n",
              "      <td>Northern Metropolitan</td>\n",
              "      <td>4019</td>\n",
              "      <td>-37.8072, 144.9941</td>\n",
              "    </tr>\n",
              "  </tbody>\n",
              "</table>\n",
              "<p>5 rows × 23 columns</p>\n",
              "</div>\n",
              "      <button class=\"colab-df-convert\" onclick=\"convertToInteractive('df-e66a5270-c154-4d5c-b00c-96e4bd874992')\"\n",
              "              title=\"Convert this dataframe to an interactive table.\"\n",
              "              style=\"display:none;\">\n",
              "        \n",
              "  <svg xmlns=\"http://www.w3.org/2000/svg\" height=\"24px\"viewBox=\"0 0 24 24\"\n",
              "       width=\"24px\">\n",
              "    <path d=\"M0 0h24v24H0V0z\" fill=\"none\"/>\n",
              "    <path d=\"M18.56 5.44l.94 2.06.94-2.06 2.06-.94-2.06-.94-.94-2.06-.94 2.06-2.06.94zm-11 1L8.5 8.5l.94-2.06 2.06-.94-2.06-.94L8.5 2.5l-.94 2.06-2.06.94zm10 10l.94 2.06.94-2.06 2.06-.94-2.06-.94-.94-2.06-.94 2.06-2.06.94z\"/><path d=\"M17.41 7.96l-1.37-1.37c-.4-.4-.92-.59-1.43-.59-.52 0-1.04.2-1.43.59L10.3 9.45l-7.72 7.72c-.78.78-.78 2.05 0 2.83L4 21.41c.39.39.9.59 1.41.59.51 0 1.02-.2 1.41-.59l7.78-7.78 2.81-2.81c.8-.78.8-2.07 0-2.86zM5.41 20L4 18.59l7.72-7.72 1.47 1.35L5.41 20z\"/>\n",
              "  </svg>\n",
              "      </button>\n",
              "      \n",
              "  <style>\n",
              "    .colab-df-container {\n",
              "      display:flex;\n",
              "      flex-wrap:wrap;\n",
              "      gap: 12px;\n",
              "    }\n",
              "\n",
              "    .colab-df-convert {\n",
              "      background-color: #E8F0FE;\n",
              "      border: none;\n",
              "      border-radius: 50%;\n",
              "      cursor: pointer;\n",
              "      display: none;\n",
              "      fill: #1967D2;\n",
              "      height: 32px;\n",
              "      padding: 0 0 0 0;\n",
              "      width: 32px;\n",
              "    }\n",
              "\n",
              "    .colab-df-convert:hover {\n",
              "      background-color: #E2EBFA;\n",
              "      box-shadow: 0px 1px 2px rgba(60, 64, 67, 0.3), 0px 1px 3px 1px rgba(60, 64, 67, 0.15);\n",
              "      fill: #174EA6;\n",
              "    }\n",
              "\n",
              "    [theme=dark] .colab-df-convert {\n",
              "      background-color: #3B4455;\n",
              "      fill: #D2E3FC;\n",
              "    }\n",
              "\n",
              "    [theme=dark] .colab-df-convert:hover {\n",
              "      background-color: #434B5C;\n",
              "      box-shadow: 0px 1px 3px 1px rgba(0, 0, 0, 0.15);\n",
              "      filter: drop-shadow(0px 1px 2px rgba(0, 0, 0, 0.3));\n",
              "      fill: #FFFFFF;\n",
              "    }\n",
              "  </style>\n",
              "\n",
              "      <script>\n",
              "        const buttonEl =\n",
              "          document.querySelector('#df-e66a5270-c154-4d5c-b00c-96e4bd874992 button.colab-df-convert');\n",
              "        buttonEl.style.display =\n",
              "          google.colab.kernel.accessAllowed ? 'block' : 'none';\n",
              "\n",
              "        async function convertToInteractive(key) {\n",
              "          const element = document.querySelector('#df-e66a5270-c154-4d5c-b00c-96e4bd874992');\n",
              "          const dataTable =\n",
              "            await google.colab.kernel.invokeFunction('convertToInteractive',\n",
              "                                                     [key], {});\n",
              "          if (!dataTable) return;\n",
              "\n",
              "          const docLinkHtml = 'Like what you see? Visit the ' +\n",
              "            '<a target=\"_blank\" href=https://colab.research.google.com/notebooks/data_table.ipynb>data table notebook</a>'\n",
              "            + ' to learn more about interactive tables.';\n",
              "          element.innerHTML = '';\n",
              "          dataTable['output_type'] = 'display_data';\n",
              "          await google.colab.output.renderOutput(dataTable, element);\n",
              "          const docLink = document.createElement('div');\n",
              "          docLink.innerHTML = docLinkHtml;\n",
              "          element.appendChild(docLink);\n",
              "        }\n",
              "      </script>\n",
              "    </div>\n",
              "  </div>\n",
              "  "
            ],
            "text/plain": [
              "   index      Suburb           Address  Rooms Type      Price Method SellerG  \\\n",
              "0      0  Abbotsford      85 Turner St      2    h  1480000.0      S  Biggin   \n",
              "1      1  Abbotsford   25 Bloomburg St      2    h  1035000.0      S  Biggin   \n",
              "2      2  Abbotsford      5 Charles St      3    h  1465000.0     SP  Biggin   \n",
              "3      3  Abbotsford  40 Federation La      3    h   850000.0     PI  Biggin   \n",
              "4      4  Abbotsford       55a Park St      4    h  1600000.0     VB  Nelson   \n",
              "\n",
              "        Date  Distance  ...  Car  Landsize  BuildingArea  YearBuilt  \\\n",
              "0  3/12/2016       2.5  ...    1     202.0         126.0       1970   \n",
              "1  4/02/2016       2.5  ...    0     156.0          79.0       1900   \n",
              "2  4/03/2017       2.5  ...    0     134.0         150.0       1900   \n",
              "3  4/03/2017       2.5  ...    1      94.0         126.0       1970   \n",
              "4  4/06/2016       2.5  ...    2     120.0         142.0       2014   \n",
              "\n",
              "   CouncilArea  Lattitude  Longtitude             Regionname  Propertycount  \\\n",
              "0        Yarra   -37.7996    144.9984  Northern Metropolitan           4019   \n",
              "1        Yarra   -37.8079    144.9934  Northern Metropolitan           4019   \n",
              "2        Yarra   -37.8093    144.9944  Northern Metropolitan           4019   \n",
              "3        Yarra   -37.7969    144.9969  Northern Metropolitan           4019   \n",
              "4        Yarra   -37.8072    144.9941  Northern Metropolitan           4019   \n",
              "\n",
              "          Coordinates  \n",
              "0  -37.7996, 144.9984  \n",
              "1  -37.8079, 144.9934  \n",
              "2  -37.8093, 144.9944  \n",
              "3  -37.7969, 144.9969  \n",
              "4  -37.8072, 144.9941  \n",
              "\n",
              "[5 rows x 23 columns]"
            ]
          },
          "execution_count": 25,
          "metadata": {},
          "output_type": "execute_result"
        }
      ],
      "source": [
        "melb_df = melb_data.copy()\n",
        "melb_df.head()"
      ]
    },
    {
      "cell_type": "markdown",
      "metadata": {
        "id": "FGvsqaBPNhie"
      },
      "source": [
        "УДАЛЕНИЕ СТОЛБЦОВ"
      ]
    },
    {
      "cell_type": "code",
      "execution_count": null,
      "metadata": {
        "colab": {
          "base_uri": "https://localhost:8080/",
          "height": 421
        },
        "id": "d3nFUTGZOcu-",
        "outputId": "d9343b03-442a-4dc4-eee6-dad2fa6b7e0d"
      },
      "outputs": [
        {
          "data": {
            "text/html": [
              "\n",
              "  <div id=\"df-735b034e-4f0d-48ad-a5e8-fff73481389a\">\n",
              "    <div class=\"colab-df-container\">\n",
              "      <div>\n",
              "<style scoped>\n",
              "    .dataframe tbody tr th:only-of-type {\n",
              "        vertical-align: middle;\n",
              "    }\n",
              "\n",
              "    .dataframe tbody tr th {\n",
              "        vertical-align: top;\n",
              "    }\n",
              "\n",
              "    .dataframe thead th {\n",
              "        text-align: right;\n",
              "    }\n",
              "</style>\n",
              "<table border=\"1\" class=\"dataframe\">\n",
              "  <thead>\n",
              "    <tr style=\"text-align: right;\">\n",
              "      <th></th>\n",
              "      <th>Suburb</th>\n",
              "      <th>Address</th>\n",
              "      <th>Rooms</th>\n",
              "      <th>Type</th>\n",
              "      <th>Price</th>\n",
              "      <th>Method</th>\n",
              "      <th>SellerG</th>\n",
              "      <th>Date</th>\n",
              "      <th>Distance</th>\n",
              "      <th>Postcode</th>\n",
              "      <th>...</th>\n",
              "      <th>Bathroom</th>\n",
              "      <th>Car</th>\n",
              "      <th>Landsize</th>\n",
              "      <th>BuildingArea</th>\n",
              "      <th>YearBuilt</th>\n",
              "      <th>CouncilArea</th>\n",
              "      <th>Lattitude</th>\n",
              "      <th>Longtitude</th>\n",
              "      <th>Regionname</th>\n",
              "      <th>Propertycount</th>\n",
              "    </tr>\n",
              "  </thead>\n",
              "  <tbody>\n",
              "    <tr>\n",
              "      <th>0</th>\n",
              "      <td>Abbotsford</td>\n",
              "      <td>85 Turner St</td>\n",
              "      <td>2</td>\n",
              "      <td>h</td>\n",
              "      <td>1480000.0</td>\n",
              "      <td>S</td>\n",
              "      <td>Biggin</td>\n",
              "      <td>3/12/2016</td>\n",
              "      <td>2.5</td>\n",
              "      <td>3067</td>\n",
              "      <td>...</td>\n",
              "      <td>1</td>\n",
              "      <td>1</td>\n",
              "      <td>202.0</td>\n",
              "      <td>126.0</td>\n",
              "      <td>1970</td>\n",
              "      <td>Yarra</td>\n",
              "      <td>-37.7996</td>\n",
              "      <td>144.9984</td>\n",
              "      <td>Northern Metropolitan</td>\n",
              "      <td>4019</td>\n",
              "    </tr>\n",
              "    <tr>\n",
              "      <th>1</th>\n",
              "      <td>Abbotsford</td>\n",
              "      <td>25 Bloomburg St</td>\n",
              "      <td>2</td>\n",
              "      <td>h</td>\n",
              "      <td>1035000.0</td>\n",
              "      <td>S</td>\n",
              "      <td>Biggin</td>\n",
              "      <td>4/02/2016</td>\n",
              "      <td>2.5</td>\n",
              "      <td>3067</td>\n",
              "      <td>...</td>\n",
              "      <td>1</td>\n",
              "      <td>0</td>\n",
              "      <td>156.0</td>\n",
              "      <td>79.0</td>\n",
              "      <td>1900</td>\n",
              "      <td>Yarra</td>\n",
              "      <td>-37.8079</td>\n",
              "      <td>144.9934</td>\n",
              "      <td>Northern Metropolitan</td>\n",
              "      <td>4019</td>\n",
              "    </tr>\n",
              "    <tr>\n",
              "      <th>2</th>\n",
              "      <td>Abbotsford</td>\n",
              "      <td>5 Charles St</td>\n",
              "      <td>3</td>\n",
              "      <td>h</td>\n",
              "      <td>1465000.0</td>\n",
              "      <td>SP</td>\n",
              "      <td>Biggin</td>\n",
              "      <td>4/03/2017</td>\n",
              "      <td>2.5</td>\n",
              "      <td>3067</td>\n",
              "      <td>...</td>\n",
              "      <td>2</td>\n",
              "      <td>0</td>\n",
              "      <td>134.0</td>\n",
              "      <td>150.0</td>\n",
              "      <td>1900</td>\n",
              "      <td>Yarra</td>\n",
              "      <td>-37.8093</td>\n",
              "      <td>144.9944</td>\n",
              "      <td>Northern Metropolitan</td>\n",
              "      <td>4019</td>\n",
              "    </tr>\n",
              "    <tr>\n",
              "      <th>3</th>\n",
              "      <td>Abbotsford</td>\n",
              "      <td>40 Federation La</td>\n",
              "      <td>3</td>\n",
              "      <td>h</td>\n",
              "      <td>850000.0</td>\n",
              "      <td>PI</td>\n",
              "      <td>Biggin</td>\n",
              "      <td>4/03/2017</td>\n",
              "      <td>2.5</td>\n",
              "      <td>3067</td>\n",
              "      <td>...</td>\n",
              "      <td>2</td>\n",
              "      <td>1</td>\n",
              "      <td>94.0</td>\n",
              "      <td>126.0</td>\n",
              "      <td>1970</td>\n",
              "      <td>Yarra</td>\n",
              "      <td>-37.7969</td>\n",
              "      <td>144.9969</td>\n",
              "      <td>Northern Metropolitan</td>\n",
              "      <td>4019</td>\n",
              "    </tr>\n",
              "    <tr>\n",
              "      <th>4</th>\n",
              "      <td>Abbotsford</td>\n",
              "      <td>55a Park St</td>\n",
              "      <td>4</td>\n",
              "      <td>h</td>\n",
              "      <td>1600000.0</td>\n",
              "      <td>VB</td>\n",
              "      <td>Nelson</td>\n",
              "      <td>4/06/2016</td>\n",
              "      <td>2.5</td>\n",
              "      <td>3067</td>\n",
              "      <td>...</td>\n",
              "      <td>1</td>\n",
              "      <td>2</td>\n",
              "      <td>120.0</td>\n",
              "      <td>142.0</td>\n",
              "      <td>2014</td>\n",
              "      <td>Yarra</td>\n",
              "      <td>-37.8072</td>\n",
              "      <td>144.9941</td>\n",
              "      <td>Northern Metropolitan</td>\n",
              "      <td>4019</td>\n",
              "    </tr>\n",
              "  </tbody>\n",
              "</table>\n",
              "<p>5 rows × 21 columns</p>\n",
              "</div>\n",
              "      <button class=\"colab-df-convert\" onclick=\"convertToInteractive('df-735b034e-4f0d-48ad-a5e8-fff73481389a')\"\n",
              "              title=\"Convert this dataframe to an interactive table.\"\n",
              "              style=\"display:none;\">\n",
              "        \n",
              "  <svg xmlns=\"http://www.w3.org/2000/svg\" height=\"24px\"viewBox=\"0 0 24 24\"\n",
              "       width=\"24px\">\n",
              "    <path d=\"M0 0h24v24H0V0z\" fill=\"none\"/>\n",
              "    <path d=\"M18.56 5.44l.94 2.06.94-2.06 2.06-.94-2.06-.94-.94-2.06-.94 2.06-2.06.94zm-11 1L8.5 8.5l.94-2.06 2.06-.94-2.06-.94L8.5 2.5l-.94 2.06-2.06.94zm10 10l.94 2.06.94-2.06 2.06-.94-2.06-.94-.94-2.06-.94 2.06-2.06.94z\"/><path d=\"M17.41 7.96l-1.37-1.37c-.4-.4-.92-.59-1.43-.59-.52 0-1.04.2-1.43.59L10.3 9.45l-7.72 7.72c-.78.78-.78 2.05 0 2.83L4 21.41c.39.39.9.59 1.41.59.51 0 1.02-.2 1.41-.59l7.78-7.78 2.81-2.81c.8-.78.8-2.07 0-2.86zM5.41 20L4 18.59l7.72-7.72 1.47 1.35L5.41 20z\"/>\n",
              "  </svg>\n",
              "      </button>\n",
              "      \n",
              "  <style>\n",
              "    .colab-df-container {\n",
              "      display:flex;\n",
              "      flex-wrap:wrap;\n",
              "      gap: 12px;\n",
              "    }\n",
              "\n",
              "    .colab-df-convert {\n",
              "      background-color: #E8F0FE;\n",
              "      border: none;\n",
              "      border-radius: 50%;\n",
              "      cursor: pointer;\n",
              "      display: none;\n",
              "      fill: #1967D2;\n",
              "      height: 32px;\n",
              "      padding: 0 0 0 0;\n",
              "      width: 32px;\n",
              "    }\n",
              "\n",
              "    .colab-df-convert:hover {\n",
              "      background-color: #E2EBFA;\n",
              "      box-shadow: 0px 1px 2px rgba(60, 64, 67, 0.3), 0px 1px 3px 1px rgba(60, 64, 67, 0.15);\n",
              "      fill: #174EA6;\n",
              "    }\n",
              "\n",
              "    [theme=dark] .colab-df-convert {\n",
              "      background-color: #3B4455;\n",
              "      fill: #D2E3FC;\n",
              "    }\n",
              "\n",
              "    [theme=dark] .colab-df-convert:hover {\n",
              "      background-color: #434B5C;\n",
              "      box-shadow: 0px 1px 3px 1px rgba(0, 0, 0, 0.15);\n",
              "      filter: drop-shadow(0px 1px 2px rgba(0, 0, 0, 0.3));\n",
              "      fill: #FFFFFF;\n",
              "    }\n",
              "  </style>\n",
              "\n",
              "      <script>\n",
              "        const buttonEl =\n",
              "          document.querySelector('#df-735b034e-4f0d-48ad-a5e8-fff73481389a button.colab-df-convert');\n",
              "        buttonEl.style.display =\n",
              "          google.colab.kernel.accessAllowed ? 'block' : 'none';\n",
              "\n",
              "        async function convertToInteractive(key) {\n",
              "          const element = document.querySelector('#df-735b034e-4f0d-48ad-a5e8-fff73481389a');\n",
              "          const dataTable =\n",
              "            await google.colab.kernel.invokeFunction('convertToInteractive',\n",
              "                                                     [key], {});\n",
              "          if (!dataTable) return;\n",
              "\n",
              "          const docLinkHtml = 'Like what you see? Visit the ' +\n",
              "            '<a target=\"_blank\" href=https://colab.research.google.com/notebooks/data_table.ipynb>data table notebook</a>'\n",
              "            + ' to learn more about interactive tables.';\n",
              "          element.innerHTML = '';\n",
              "          dataTable['output_type'] = 'display_data';\n",
              "          await google.colab.output.renderOutput(dataTable, element);\n",
              "          const docLink = document.createElement('div');\n",
              "          docLink.innerHTML = docLinkHtml;\n",
              "          element.appendChild(docLink);\n",
              "        }\n",
              "      </script>\n",
              "    </div>\n",
              "  </div>\n",
              "  "
            ],
            "text/plain": [
              "       Suburb           Address  Rooms Type      Price Method SellerG  \\\n",
              "0  Abbotsford      85 Turner St      2    h  1480000.0      S  Biggin   \n",
              "1  Abbotsford   25 Bloomburg St      2    h  1035000.0      S  Biggin   \n",
              "2  Abbotsford      5 Charles St      3    h  1465000.0     SP  Biggin   \n",
              "3  Abbotsford  40 Federation La      3    h   850000.0     PI  Biggin   \n",
              "4  Abbotsford       55a Park St      4    h  1600000.0     VB  Nelson   \n",
              "\n",
              "        Date  Distance  Postcode  ...  Bathroom  Car  Landsize  BuildingArea  \\\n",
              "0  3/12/2016       2.5      3067  ...         1    1     202.0         126.0   \n",
              "1  4/02/2016       2.5      3067  ...         1    0     156.0          79.0   \n",
              "2  4/03/2017       2.5      3067  ...         2    0     134.0         150.0   \n",
              "3  4/03/2017       2.5      3067  ...         2    1      94.0         126.0   \n",
              "4  4/06/2016       2.5      3067  ...         1    2     120.0         142.0   \n",
              "\n",
              "   YearBuilt  CouncilArea Lattitude  Longtitude             Regionname  \\\n",
              "0       1970        Yarra  -37.7996    144.9984  Northern Metropolitan   \n",
              "1       1900        Yarra  -37.8079    144.9934  Northern Metropolitan   \n",
              "2       1900        Yarra  -37.8093    144.9944  Northern Metropolitan   \n",
              "3       1970        Yarra  -37.7969    144.9969  Northern Metropolitan   \n",
              "4       2014        Yarra  -37.8072    144.9941  Northern Metropolitan   \n",
              "\n",
              "  Propertycount  \n",
              "0          4019  \n",
              "1          4019  \n",
              "2          4019  \n",
              "3          4019  \n",
              "4          4019  \n",
              "\n",
              "[5 rows x 21 columns]"
            ]
          },
          "execution_count": 37,
          "metadata": {},
          "output_type": "execute_result"
        }
      ],
      "source": [
        "melb_df = melb_df.drop(['index', 'Coordinates'], axis=1)\n",
        "melb_df.head()"
      ]
    },
    {
      "cell_type": "code",
      "execution_count": null,
      "metadata": {
        "colab": {
          "base_uri": "https://localhost:8080/",
          "height": 421
        },
        "id": "X7hQHVZ1OoU3",
        "outputId": "1f5317b0-5bae-405e-8368-3a6c5427bb92"
      },
      "outputs": [
        {
          "data": {
            "text/html": [
              "\n",
              "  <div id=\"df-45ac0df4-62b7-4ca8-b77d-1a844e1d8cff\">\n",
              "    <div class=\"colab-df-container\">\n",
              "      <div>\n",
              "<style scoped>\n",
              "    .dataframe tbody tr th:only-of-type {\n",
              "        vertical-align: middle;\n",
              "    }\n",
              "\n",
              "    .dataframe tbody tr th {\n",
              "        vertical-align: top;\n",
              "    }\n",
              "\n",
              "    .dataframe thead th {\n",
              "        text-align: right;\n",
              "    }\n",
              "</style>\n",
              "<table border=\"1\" class=\"dataframe\">\n",
              "  <thead>\n",
              "    <tr style=\"text-align: right;\">\n",
              "      <th></th>\n",
              "      <th>Suburb</th>\n",
              "      <th>Address</th>\n",
              "      <th>Rooms</th>\n",
              "      <th>Type</th>\n",
              "      <th>Price</th>\n",
              "      <th>Method</th>\n",
              "      <th>SellerG</th>\n",
              "      <th>Date</th>\n",
              "      <th>Distance</th>\n",
              "      <th>Postcode</th>\n",
              "      <th>...</th>\n",
              "      <th>Bathroom</th>\n",
              "      <th>Car</th>\n",
              "      <th>Landsize</th>\n",
              "      <th>BuildingArea</th>\n",
              "      <th>YearBuilt</th>\n",
              "      <th>CouncilArea</th>\n",
              "      <th>Lattitude</th>\n",
              "      <th>Longtitude</th>\n",
              "      <th>Regionname</th>\n",
              "      <th>Propertycount</th>\n",
              "    </tr>\n",
              "  </thead>\n",
              "  <tbody>\n",
              "    <tr>\n",
              "      <th>0</th>\n",
              "      <td>Abbotsford</td>\n",
              "      <td>85 Turner St</td>\n",
              "      <td>2</td>\n",
              "      <td>h</td>\n",
              "      <td>1480000.0</td>\n",
              "      <td>S</td>\n",
              "      <td>Biggin</td>\n",
              "      <td>3/12/2016</td>\n",
              "      <td>2.5</td>\n",
              "      <td>3067</td>\n",
              "      <td>...</td>\n",
              "      <td>1</td>\n",
              "      <td>1</td>\n",
              "      <td>202.0</td>\n",
              "      <td>126.0</td>\n",
              "      <td>1970</td>\n",
              "      <td>Yarra</td>\n",
              "      <td>-37.7996</td>\n",
              "      <td>144.9984</td>\n",
              "      <td>Northern Metropolitan</td>\n",
              "      <td>4019</td>\n",
              "    </tr>\n",
              "    <tr>\n",
              "      <th>1</th>\n",
              "      <td>Abbotsford</td>\n",
              "      <td>25 Bloomburg St</td>\n",
              "      <td>2</td>\n",
              "      <td>h</td>\n",
              "      <td>1035000.0</td>\n",
              "      <td>S</td>\n",
              "      <td>Biggin</td>\n",
              "      <td>4/02/2016</td>\n",
              "      <td>2.5</td>\n",
              "      <td>3067</td>\n",
              "      <td>...</td>\n",
              "      <td>1</td>\n",
              "      <td>0</td>\n",
              "      <td>156.0</td>\n",
              "      <td>79.0</td>\n",
              "      <td>1900</td>\n",
              "      <td>Yarra</td>\n",
              "      <td>-37.8079</td>\n",
              "      <td>144.9934</td>\n",
              "      <td>Northern Metropolitan</td>\n",
              "      <td>4019</td>\n",
              "    </tr>\n",
              "    <tr>\n",
              "      <th>2</th>\n",
              "      <td>Abbotsford</td>\n",
              "      <td>5 Charles St</td>\n",
              "      <td>3</td>\n",
              "      <td>h</td>\n",
              "      <td>1465000.0</td>\n",
              "      <td>SP</td>\n",
              "      <td>Biggin</td>\n",
              "      <td>4/03/2017</td>\n",
              "      <td>2.5</td>\n",
              "      <td>3067</td>\n",
              "      <td>...</td>\n",
              "      <td>2</td>\n",
              "      <td>0</td>\n",
              "      <td>134.0</td>\n",
              "      <td>150.0</td>\n",
              "      <td>1900</td>\n",
              "      <td>Yarra</td>\n",
              "      <td>-37.8093</td>\n",
              "      <td>144.9944</td>\n",
              "      <td>Northern Metropolitan</td>\n",
              "      <td>4019</td>\n",
              "    </tr>\n",
              "    <tr>\n",
              "      <th>3</th>\n",
              "      <td>Abbotsford</td>\n",
              "      <td>40 Federation La</td>\n",
              "      <td>3</td>\n",
              "      <td>h</td>\n",
              "      <td>850000.0</td>\n",
              "      <td>PI</td>\n",
              "      <td>Biggin</td>\n",
              "      <td>4/03/2017</td>\n",
              "      <td>2.5</td>\n",
              "      <td>3067</td>\n",
              "      <td>...</td>\n",
              "      <td>2</td>\n",
              "      <td>1</td>\n",
              "      <td>94.0</td>\n",
              "      <td>126.0</td>\n",
              "      <td>1970</td>\n",
              "      <td>Yarra</td>\n",
              "      <td>-37.7969</td>\n",
              "      <td>144.9969</td>\n",
              "      <td>Northern Metropolitan</td>\n",
              "      <td>4019</td>\n",
              "    </tr>\n",
              "    <tr>\n",
              "      <th>4</th>\n",
              "      <td>Abbotsford</td>\n",
              "      <td>55a Park St</td>\n",
              "      <td>4</td>\n",
              "      <td>h</td>\n",
              "      <td>1600000.0</td>\n",
              "      <td>VB</td>\n",
              "      <td>Nelson</td>\n",
              "      <td>4/06/2016</td>\n",
              "      <td>2.5</td>\n",
              "      <td>3067</td>\n",
              "      <td>...</td>\n",
              "      <td>1</td>\n",
              "      <td>2</td>\n",
              "      <td>120.0</td>\n",
              "      <td>142.0</td>\n",
              "      <td>2014</td>\n",
              "      <td>Yarra</td>\n",
              "      <td>-37.8072</td>\n",
              "      <td>144.9941</td>\n",
              "      <td>Northern Metropolitan</td>\n",
              "      <td>4019</td>\n",
              "    </tr>\n",
              "  </tbody>\n",
              "</table>\n",
              "<p>5 rows × 21 columns</p>\n",
              "</div>\n",
              "      <button class=\"colab-df-convert\" onclick=\"convertToInteractive('df-45ac0df4-62b7-4ca8-b77d-1a844e1d8cff')\"\n",
              "              title=\"Convert this dataframe to an interactive table.\"\n",
              "              style=\"display:none;\">\n",
              "        \n",
              "  <svg xmlns=\"http://www.w3.org/2000/svg\" height=\"24px\"viewBox=\"0 0 24 24\"\n",
              "       width=\"24px\">\n",
              "    <path d=\"M0 0h24v24H0V0z\" fill=\"none\"/>\n",
              "    <path d=\"M18.56 5.44l.94 2.06.94-2.06 2.06-.94-2.06-.94-.94-2.06-.94 2.06-2.06.94zm-11 1L8.5 8.5l.94-2.06 2.06-.94-2.06-.94L8.5 2.5l-.94 2.06-2.06.94zm10 10l.94 2.06.94-2.06 2.06-.94-2.06-.94-.94-2.06-.94 2.06-2.06.94z\"/><path d=\"M17.41 7.96l-1.37-1.37c-.4-.4-.92-.59-1.43-.59-.52 0-1.04.2-1.43.59L10.3 9.45l-7.72 7.72c-.78.78-.78 2.05 0 2.83L4 21.41c.39.39.9.59 1.41.59.51 0 1.02-.2 1.41-.59l7.78-7.78 2.81-2.81c.8-.78.8-2.07 0-2.86zM5.41 20L4 18.59l7.72-7.72 1.47 1.35L5.41 20z\"/>\n",
              "  </svg>\n",
              "      </button>\n",
              "      \n",
              "  <style>\n",
              "    .colab-df-container {\n",
              "      display:flex;\n",
              "      flex-wrap:wrap;\n",
              "      gap: 12px;\n",
              "    }\n",
              "\n",
              "    .colab-df-convert {\n",
              "      background-color: #E8F0FE;\n",
              "      border: none;\n",
              "      border-radius: 50%;\n",
              "      cursor: pointer;\n",
              "      display: none;\n",
              "      fill: #1967D2;\n",
              "      height: 32px;\n",
              "      padding: 0 0 0 0;\n",
              "      width: 32px;\n",
              "    }\n",
              "\n",
              "    .colab-df-convert:hover {\n",
              "      background-color: #E2EBFA;\n",
              "      box-shadow: 0px 1px 2px rgba(60, 64, 67, 0.3), 0px 1px 3px 1px rgba(60, 64, 67, 0.15);\n",
              "      fill: #174EA6;\n",
              "    }\n",
              "\n",
              "    [theme=dark] .colab-df-convert {\n",
              "      background-color: #3B4455;\n",
              "      fill: #D2E3FC;\n",
              "    }\n",
              "\n",
              "    [theme=dark] .colab-df-convert:hover {\n",
              "      background-color: #434B5C;\n",
              "      box-shadow: 0px 1px 3px 1px rgba(0, 0, 0, 0.15);\n",
              "      filter: drop-shadow(0px 1px 2px rgba(0, 0, 0, 0.3));\n",
              "      fill: #FFFFFF;\n",
              "    }\n",
              "  </style>\n",
              "\n",
              "      <script>\n",
              "        const buttonEl =\n",
              "          document.querySelector('#df-45ac0df4-62b7-4ca8-b77d-1a844e1d8cff button.colab-df-convert');\n",
              "        buttonEl.style.display =\n",
              "          google.colab.kernel.accessAllowed ? 'block' : 'none';\n",
              "\n",
              "        async function convertToInteractive(key) {\n",
              "          const element = document.querySelector('#df-45ac0df4-62b7-4ca8-b77d-1a844e1d8cff');\n",
              "          const dataTable =\n",
              "            await google.colab.kernel.invokeFunction('convertToInteractive',\n",
              "                                                     [key], {});\n",
              "          if (!dataTable) return;\n",
              "\n",
              "          const docLinkHtml = 'Like what you see? Visit the ' +\n",
              "            '<a target=\"_blank\" href=https://colab.research.google.com/notebooks/data_table.ipynb>data table notebook</a>'\n",
              "            + ' to learn more about interactive tables.';\n",
              "          element.innerHTML = '';\n",
              "          dataTable['output_type'] = 'display_data';\n",
              "          await google.colab.output.renderOutput(dataTable, element);\n",
              "          const docLink = document.createElement('div');\n",
              "          docLink.innerHTML = docLinkHtml;\n",
              "          element.appendChild(docLink);\n",
              "        }\n",
              "      </script>\n",
              "    </div>\n",
              "  </div>\n",
              "  "
            ],
            "text/plain": [
              "       Suburb           Address  Rooms Type      Price Method SellerG  \\\n",
              "0  Abbotsford      85 Turner St      2    h  1480000.0      S  Biggin   \n",
              "1  Abbotsford   25 Bloomburg St      2    h  1035000.0      S  Biggin   \n",
              "2  Abbotsford      5 Charles St      3    h  1465000.0     SP  Biggin   \n",
              "3  Abbotsford  40 Federation La      3    h   850000.0     PI  Biggin   \n",
              "4  Abbotsford       55a Park St      4    h  1600000.0     VB  Nelson   \n",
              "\n",
              "        Date  Distance  Postcode  ...  Bathroom  Car  Landsize  BuildingArea  \\\n",
              "0  3/12/2016       2.5      3067  ...         1    1     202.0         126.0   \n",
              "1  4/02/2016       2.5      3067  ...         1    0     156.0          79.0   \n",
              "2  4/03/2017       2.5      3067  ...         2    0     134.0         150.0   \n",
              "3  4/03/2017       2.5      3067  ...         2    1      94.0         126.0   \n",
              "4  4/06/2016       2.5      3067  ...         1    2     120.0         142.0   \n",
              "\n",
              "   YearBuilt  CouncilArea Lattitude  Longtitude             Regionname  \\\n",
              "0       1970        Yarra  -37.7996    144.9984  Northern Metropolitan   \n",
              "1       1900        Yarra  -37.8079    144.9934  Northern Metropolitan   \n",
              "2       1900        Yarra  -37.8093    144.9944  Northern Metropolitan   \n",
              "3       1970        Yarra  -37.7969    144.9969  Northern Metropolitan   \n",
              "4       2014        Yarra  -37.8072    144.9941  Northern Metropolitan   \n",
              "\n",
              "  Propertycount  \n",
              "0          4019  \n",
              "1          4019  \n",
              "2          4019  \n",
              "3          4019  \n",
              "4          4019  \n",
              "\n",
              "[5 rows x 21 columns]"
            ]
          },
          "execution_count": 40,
          "metadata": {},
          "output_type": "execute_result"
        }
      ],
      "source": [
        "melb_df.drop(['index','Coordinates'],axis=1,inplace=True)\n",
        "melb_df.head()"
      ]
    },
    {
      "cell_type": "markdown",
      "metadata": {
        "id": "LEKCMvPqO4Fr"
      },
      "source": [
        "МАТЕМАТИЧЕСКИЕ ОПЕРАЦИИ СО СТОЛБЦАМИ"
      ]
    },
    {
      "cell_type": "code",
      "execution_count": null,
      "metadata": {
        "colab": {
          "base_uri": "https://localhost:8080/",
          "height": 225
        },
        "id": "1leS-c26PVav",
        "outputId": "a6cf2421-594f-43c0-becf-78dbb86075b7"
      },
      "outputs": [
        {
          "data": {
            "text/plain": [
              "0         5\n",
              "1         5\n",
              "2         8\n",
              "3         8\n",
              "4         8\n",
              "         ..\n",
              "13575    10\n",
              "13576     8\n",
              "13577     8\n",
              "13578     9\n",
              "13579     9\n",
              "Length: 13580, dtype: int64"
            ]
          },
          "metadata": {},
          "output_type": "display_data"
        }
      ],
      "source": [
        "total_rooms = melb_df['Rooms'] + melb_df['Bedroom'] + melb_df['Bathroom']\n",
        "display(total_rooms)"
      ]
    },
    {
      "cell_type": "code",
      "execution_count": null,
      "metadata": {
        "colab": {
          "base_uri": "https://localhost:8080/",
          "height": 225
        },
        "id": "ZgAb4pLyPkbW",
        "outputId": "6b224e27-64b2-4727-b665-b7275c8e7058"
      },
      "outputs": [
        {
          "data": {
            "text/plain": [
              "0        25.200000\n",
              "1        15.800000\n",
              "2        18.750000\n",
              "3        15.750000\n",
              "4        17.750000\n",
              "           ...    \n",
              "13575    12.600000\n",
              "13576    16.625000\n",
              "13577    15.750000\n",
              "13578    17.444444\n",
              "13579    12.444444\n",
              "Name: MeanRoomsSquare, Length: 13580, dtype: float64"
            ]
          },
          "metadata": {},
          "output_type": "display_data"
        }
      ],
      "source": [
        "melb_df['MeanRoomsSquare'] = melb_df['BuildingArea'] / total_rooms\n",
        "display(melb_df['MeanRoomsSquare'])"
      ]
    },
    {
      "cell_type": "code",
      "execution_count": null,
      "metadata": {
        "colab": {
          "base_uri": "https://localhost:8080/",
          "height": 225
        },
        "id": "ruUiRGwIPxMG",
        "outputId": "41c3c73e-abb0-4b7b-9aff-89fae3bb0206"
      },
      "outputs": [
        {
          "data": {
            "text/plain": [
              "0       -0.231707\n",
              "1       -0.327660\n",
              "2        0.056338\n",
              "3        0.145455\n",
              "4        0.083969\n",
              "           ...   \n",
              "13575   -0.676093\n",
              "13576   -0.429185\n",
              "13577   -0.551601\n",
              "13578   -0.693060\n",
              "13579   -0.527426\n",
              "Name: AreaRatio, Length: 13580, dtype: float64"
            ]
          },
          "metadata": {},
          "output_type": "display_data"
        }
      ],
      "source": [
        "diff_area = melb_df['BuildingArea'] - melb_df['Landsize']\n",
        "sum_area = melb_df['BuildingArea'] + melb_df['Landsize']\n",
        "melb_df['AreaRatio'] = diff_area/sum_area\n",
        "display(melb_df['AreaRatio'])"
      ]
    },
    {
      "cell_type": "code",
      "execution_count": null,
      "metadata": {
        "colab": {
          "base_uri": "https://localhost:8080/"
        },
        "id": "OwhFydxTQeQv",
        "outputId": "91575cc0-7b77-4f66-9f77-aef3bd4f4e2b"
      },
      "outputs": [
        {
          "name": "stdout",
          "output_type": "stream",
          "text": [
            "   cust_id  cust_sale  cust_year_birth  cust_order\n",
            "0      128       0.00             2008        1400\n",
            "1     1201       0.00             2000       14142\n",
            "2     9832       0.20             2002         900\n",
            "3     4392       0.15             2000        1240\n",
            "4     7472       0.30             1961        8430\n"
          ]
        }
      ],
      "source": [
        "# Задание 2.3\n",
        "import pandas as pd\n",
        "\n",
        "def delete_columns(df, col=[]):\n",
        "    \"\"\"\n",
        "    Напишите функцию delete_columns(df, col=[]), \n",
        "    которая удаляет столбцы из DataFrame и возвращает новую таблицу. \n",
        "    Если одного из указанных столбцов в таблице не существует, \n",
        "    то функция должна возвращать None.\n",
        "    \"\"\"\n",
        "    for i in col:\n",
        "      if i in df.columns:\n",
        "        df.drop(col, axis=1,inplace=True)\n",
        "        return df\n",
        "      else:\n",
        "        return None\n",
        "\n",
        "\n",
        "if __name__ == '__main__':\n",
        "    customer_df = pd.DataFrame({\n",
        "        'number': [0, 1, 2, 3, 4],\n",
        "        'cust_id': [128, 1201, 9832, 4392, 7472],\n",
        "        'cust_age': [13, 21, 19, 21, 60],\n",
        "        'cust_sale': [0, 0, 0.2, 0.15, 0.3],\n",
        "        'cust_year_birth': [2008, 2000, 2002, 2000, 1961],\n",
        "        'cust_order': [1400, 14142, 900, 1240, 8430]\n",
        "    })\n",
        "    columns_for_delete= ['number','cust_age'] #выбранные вами столбцы\n",
        "    new_df = delete_columns(customer_df, columns_for_delete)\n",
        "    print(new_df)"
      ]
    },
    {
      "cell_type": "code",
      "execution_count": null,
      "metadata": {
        "colab": {
          "base_uri": "https://localhost:8080/",
          "height": 269
        },
        "id": "bIkAua_jTAv5",
        "outputId": "3e8bcc8e-7618-4ac7-8274-30068e4e23a6"
      },
      "outputs": [
        {
          "data": {
            "text/html": [
              "\n",
              "  <div id=\"df-5073f9fd-ea35-47c8-8e37-a5d8de574fe0\">\n",
              "    <div class=\"colab-df-container\">\n",
              "      <div>\n",
              "<style scoped>\n",
              "    .dataframe tbody tr th:only-of-type {\n",
              "        vertical-align: middle;\n",
              "    }\n",
              "\n",
              "    .dataframe tbody tr th {\n",
              "        vertical-align: top;\n",
              "    }\n",
              "\n",
              "    .dataframe thead th {\n",
              "        text-align: right;\n",
              "    }\n",
              "</style>\n",
              "<table border=\"1\" class=\"dataframe\">\n",
              "  <thead>\n",
              "    <tr style=\"text-align: right;\">\n",
              "      <th></th>\n",
              "      <th>country</th>\n",
              "      <th>population</th>\n",
              "      <th>square</th>\n",
              "    </tr>\n",
              "  </thead>\n",
              "  <tbody>\n",
              "    <tr>\n",
              "      <th>0</th>\n",
              "      <td>Англия</td>\n",
              "      <td>56.29</td>\n",
              "      <td>133396</td>\n",
              "    </tr>\n",
              "    <tr>\n",
              "      <th>1</th>\n",
              "      <td>Канада</td>\n",
              "      <td>38.05</td>\n",
              "      <td>9984670</td>\n",
              "    </tr>\n",
              "    <tr>\n",
              "      <th>2</th>\n",
              "      <td>США</td>\n",
              "      <td>322.28</td>\n",
              "      <td>9826630</td>\n",
              "    </tr>\n",
              "    <tr>\n",
              "      <th>3</th>\n",
              "      <td>Россия</td>\n",
              "      <td>146.24</td>\n",
              "      <td>17125191</td>\n",
              "    </tr>\n",
              "    <tr>\n",
              "      <th>4</th>\n",
              "      <td>Украина</td>\n",
              "      <td>45.50</td>\n",
              "      <td>603628</td>\n",
              "    </tr>\n",
              "    <tr>\n",
              "      <th>5</th>\n",
              "      <td>Беларусь</td>\n",
              "      <td>9.50</td>\n",
              "      <td>207600</td>\n",
              "    </tr>\n",
              "    <tr>\n",
              "      <th>6</th>\n",
              "      <td>Казахстан</td>\n",
              "      <td>17.04</td>\n",
              "      <td>2724902</td>\n",
              "    </tr>\n",
              "  </tbody>\n",
              "</table>\n",
              "</div>\n",
              "      <button class=\"colab-df-convert\" onclick=\"convertToInteractive('df-5073f9fd-ea35-47c8-8e37-a5d8de574fe0')\"\n",
              "              title=\"Convert this dataframe to an interactive table.\"\n",
              "              style=\"display:none;\">\n",
              "        \n",
              "  <svg xmlns=\"http://www.w3.org/2000/svg\" height=\"24px\"viewBox=\"0 0 24 24\"\n",
              "       width=\"24px\">\n",
              "    <path d=\"M0 0h24v24H0V0z\" fill=\"none\"/>\n",
              "    <path d=\"M18.56 5.44l.94 2.06.94-2.06 2.06-.94-2.06-.94-.94-2.06-.94 2.06-2.06.94zm-11 1L8.5 8.5l.94-2.06 2.06-.94-2.06-.94L8.5 2.5l-.94 2.06-2.06.94zm10 10l.94 2.06.94-2.06 2.06-.94-2.06-.94-.94-2.06-.94 2.06-2.06.94z\"/><path d=\"M17.41 7.96l-1.37-1.37c-.4-.4-.92-.59-1.43-.59-.52 0-1.04.2-1.43.59L10.3 9.45l-7.72 7.72c-.78.78-.78 2.05 0 2.83L4 21.41c.39.39.9.59 1.41.59.51 0 1.02-.2 1.41-.59l7.78-7.78 2.81-2.81c.8-.78.8-2.07 0-2.86zM5.41 20L4 18.59l7.72-7.72 1.47 1.35L5.41 20z\"/>\n",
              "  </svg>\n",
              "      </button>\n",
              "      \n",
              "  <style>\n",
              "    .colab-df-container {\n",
              "      display:flex;\n",
              "      flex-wrap:wrap;\n",
              "      gap: 12px;\n",
              "    }\n",
              "\n",
              "    .colab-df-convert {\n",
              "      background-color: #E8F0FE;\n",
              "      border: none;\n",
              "      border-radius: 50%;\n",
              "      cursor: pointer;\n",
              "      display: none;\n",
              "      fill: #1967D2;\n",
              "      height: 32px;\n",
              "      padding: 0 0 0 0;\n",
              "      width: 32px;\n",
              "    }\n",
              "\n",
              "    .colab-df-convert:hover {\n",
              "      background-color: #E2EBFA;\n",
              "      box-shadow: 0px 1px 2px rgba(60, 64, 67, 0.3), 0px 1px 3px 1px rgba(60, 64, 67, 0.15);\n",
              "      fill: #174EA6;\n",
              "    }\n",
              "\n",
              "    [theme=dark] .colab-df-convert {\n",
              "      background-color: #3B4455;\n",
              "      fill: #D2E3FC;\n",
              "    }\n",
              "\n",
              "    [theme=dark] .colab-df-convert:hover {\n",
              "      background-color: #434B5C;\n",
              "      box-shadow: 0px 1px 3px 1px rgba(0, 0, 0, 0.15);\n",
              "      filter: drop-shadow(0px 1px 2px rgba(0, 0, 0, 0.3));\n",
              "      fill: #FFFFFF;\n",
              "    }\n",
              "  </style>\n",
              "\n",
              "      <script>\n",
              "        const buttonEl =\n",
              "          document.querySelector('#df-5073f9fd-ea35-47c8-8e37-a5d8de574fe0 button.colab-df-convert');\n",
              "        buttonEl.style.display =\n",
              "          google.colab.kernel.accessAllowed ? 'block' : 'none';\n",
              "\n",
              "        async function convertToInteractive(key) {\n",
              "          const element = document.querySelector('#df-5073f9fd-ea35-47c8-8e37-a5d8de574fe0');\n",
              "          const dataTable =\n",
              "            await google.colab.kernel.invokeFunction('convertToInteractive',\n",
              "                                                     [key], {});\n",
              "          if (!dataTable) return;\n",
              "\n",
              "          const docLinkHtml = 'Like what you see? Visit the ' +\n",
              "            '<a target=\"_blank\" href=https://colab.research.google.com/notebooks/data_table.ipynb>data table notebook</a>'\n",
              "            + ' to learn more about interactive tables.';\n",
              "          element.innerHTML = '';\n",
              "          dataTable['output_type'] = 'display_data';\n",
              "          await google.colab.output.renderOutput(dataTable, element);\n",
              "          const docLink = document.createElement('div');\n",
              "          docLink.innerHTML = docLinkHtml;\n",
              "          element.appendChild(docLink);\n",
              "        }\n",
              "      </script>\n",
              "    </div>\n",
              "  </div>\n",
              "  "
            ],
            "text/plain": [
              "     country  population    square\n",
              "0     Англия       56.29    133396\n",
              "1     Канада       38.05   9984670\n",
              "2        США      322.28   9826630\n",
              "3     Россия      146.24  17125191\n",
              "4    Украина       45.50    603628\n",
              "5   Беларусь        9.50    207600\n",
              "6  Казахстан       17.04   2724902"
            ]
          },
          "execution_count": 19,
          "metadata": {},
          "output_type": "execute_result"
        }
      ],
      "source": [
        "# Задание 2.4\n",
        "countries_df = pd.DataFrame({\n",
        "    'country': ['Англия', 'Канада', 'США', 'Россия', 'Украина', 'Беларусь', 'Казахстан'],\n",
        "    'population': [56.29, 38.05, 322.28, 146.24, 45.5, 9.5, 17.04],\n",
        "    'square': [133396, 9984670, 9826630, 17125191, 603628, 207600, 2724902]\n",
        "})\n",
        "countries_df"
      ]
    },
    {
      "cell_type": "code",
      "execution_count": null,
      "metadata": {
        "colab": {
          "base_uri": "https://localhost:8080/",
          "height": 269
        },
        "id": "jLYfiZEEXPJv",
        "outputId": "e2608545-1e47-4bb4-fc24-cabafec2a776"
      },
      "outputs": [
        {
          "data": {
            "text/html": [
              "\n",
              "  <div id=\"df-bd960984-7f60-404d-9430-2081c4f22e92\">\n",
              "    <div class=\"colab-df-container\">\n",
              "      <div>\n",
              "<style scoped>\n",
              "    .dataframe tbody tr th:only-of-type {\n",
              "        vertical-align: middle;\n",
              "    }\n",
              "\n",
              "    .dataframe tbody tr th {\n",
              "        vertical-align: top;\n",
              "    }\n",
              "\n",
              "    .dataframe thead th {\n",
              "        text-align: right;\n",
              "    }\n",
              "</style>\n",
              "<table border=\"1\" class=\"dataframe\">\n",
              "  <thead>\n",
              "    <tr style=\"text-align: right;\">\n",
              "      <th></th>\n",
              "      <th>country</th>\n",
              "      <th>population</th>\n",
              "      <th>square</th>\n",
              "      <th>density</th>\n",
              "    </tr>\n",
              "  </thead>\n",
              "  <tbody>\n",
              "    <tr>\n",
              "      <th>0</th>\n",
              "      <td>Англия</td>\n",
              "      <td>56.29</td>\n",
              "      <td>133396</td>\n",
              "      <td>421.976671</td>\n",
              "    </tr>\n",
              "    <tr>\n",
              "      <th>1</th>\n",
              "      <td>Канада</td>\n",
              "      <td>38.05</td>\n",
              "      <td>9984670</td>\n",
              "      <td>3.810842</td>\n",
              "    </tr>\n",
              "    <tr>\n",
              "      <th>2</th>\n",
              "      <td>США</td>\n",
              "      <td>322.28</td>\n",
              "      <td>9826630</td>\n",
              "      <td>32.796595</td>\n",
              "    </tr>\n",
              "    <tr>\n",
              "      <th>3</th>\n",
              "      <td>Россия</td>\n",
              "      <td>146.24</td>\n",
              "      <td>17125191</td>\n",
              "      <td>8.539467</td>\n",
              "    </tr>\n",
              "    <tr>\n",
              "      <th>4</th>\n",
              "      <td>Украина</td>\n",
              "      <td>45.50</td>\n",
              "      <td>603628</td>\n",
              "      <td>75.377550</td>\n",
              "    </tr>\n",
              "    <tr>\n",
              "      <th>5</th>\n",
              "      <td>Беларусь</td>\n",
              "      <td>9.50</td>\n",
              "      <td>207600</td>\n",
              "      <td>45.761079</td>\n",
              "    </tr>\n",
              "    <tr>\n",
              "      <th>6</th>\n",
              "      <td>Казахстан</td>\n",
              "      <td>17.04</td>\n",
              "      <td>2724902</td>\n",
              "      <td>6.253436</td>\n",
              "    </tr>\n",
              "  </tbody>\n",
              "</table>\n",
              "</div>\n",
              "      <button class=\"colab-df-convert\" onclick=\"convertToInteractive('df-bd960984-7f60-404d-9430-2081c4f22e92')\"\n",
              "              title=\"Convert this dataframe to an interactive table.\"\n",
              "              style=\"display:none;\">\n",
              "        \n",
              "  <svg xmlns=\"http://www.w3.org/2000/svg\" height=\"24px\"viewBox=\"0 0 24 24\"\n",
              "       width=\"24px\">\n",
              "    <path d=\"M0 0h24v24H0V0z\" fill=\"none\"/>\n",
              "    <path d=\"M18.56 5.44l.94 2.06.94-2.06 2.06-.94-2.06-.94-.94-2.06-.94 2.06-2.06.94zm-11 1L8.5 8.5l.94-2.06 2.06-.94-2.06-.94L8.5 2.5l-.94 2.06-2.06.94zm10 10l.94 2.06.94-2.06 2.06-.94-2.06-.94-.94-2.06-.94 2.06-2.06.94z\"/><path d=\"M17.41 7.96l-1.37-1.37c-.4-.4-.92-.59-1.43-.59-.52 0-1.04.2-1.43.59L10.3 9.45l-7.72 7.72c-.78.78-.78 2.05 0 2.83L4 21.41c.39.39.9.59 1.41.59.51 0 1.02-.2 1.41-.59l7.78-7.78 2.81-2.81c.8-.78.8-2.07 0-2.86zM5.41 20L4 18.59l7.72-7.72 1.47 1.35L5.41 20z\"/>\n",
              "  </svg>\n",
              "      </button>\n",
              "      \n",
              "  <style>\n",
              "    .colab-df-container {\n",
              "      display:flex;\n",
              "      flex-wrap:wrap;\n",
              "      gap: 12px;\n",
              "    }\n",
              "\n",
              "    .colab-df-convert {\n",
              "      background-color: #E8F0FE;\n",
              "      border: none;\n",
              "      border-radius: 50%;\n",
              "      cursor: pointer;\n",
              "      display: none;\n",
              "      fill: #1967D2;\n",
              "      height: 32px;\n",
              "      padding: 0 0 0 0;\n",
              "      width: 32px;\n",
              "    }\n",
              "\n",
              "    .colab-df-convert:hover {\n",
              "      background-color: #E2EBFA;\n",
              "      box-shadow: 0px 1px 2px rgba(60, 64, 67, 0.3), 0px 1px 3px 1px rgba(60, 64, 67, 0.15);\n",
              "      fill: #174EA6;\n",
              "    }\n",
              "\n",
              "    [theme=dark] .colab-df-convert {\n",
              "      background-color: #3B4455;\n",
              "      fill: #D2E3FC;\n",
              "    }\n",
              "\n",
              "    [theme=dark] .colab-df-convert:hover {\n",
              "      background-color: #434B5C;\n",
              "      box-shadow: 0px 1px 3px 1px rgba(0, 0, 0, 0.15);\n",
              "      filter: drop-shadow(0px 1px 2px rgba(0, 0, 0, 0.3));\n",
              "      fill: #FFFFFF;\n",
              "    }\n",
              "  </style>\n",
              "\n",
              "      <script>\n",
              "        const buttonEl =\n",
              "          document.querySelector('#df-bd960984-7f60-404d-9430-2081c4f22e92 button.colab-df-convert');\n",
              "        buttonEl.style.display =\n",
              "          google.colab.kernel.accessAllowed ? 'block' : 'none';\n",
              "\n",
              "        async function convertToInteractive(key) {\n",
              "          const element = document.querySelector('#df-bd960984-7f60-404d-9430-2081c4f22e92');\n",
              "          const dataTable =\n",
              "            await google.colab.kernel.invokeFunction('convertToInteractive',\n",
              "                                                     [key], {});\n",
              "          if (!dataTable) return;\n",
              "\n",
              "          const docLinkHtml = 'Like what you see? Visit the ' +\n",
              "            '<a target=\"_blank\" href=https://colab.research.google.com/notebooks/data_table.ipynb>data table notebook</a>'\n",
              "            + ' to learn more about interactive tables.';\n",
              "          element.innerHTML = '';\n",
              "          dataTable['output_type'] = 'display_data';\n",
              "          await google.colab.output.renderOutput(dataTable, element);\n",
              "          const docLink = document.createElement('div');\n",
              "          docLink.innerHTML = docLinkHtml;\n",
              "          element.appendChild(docLink);\n",
              "        }\n",
              "      </script>\n",
              "    </div>\n",
              "  </div>\n",
              "  "
            ],
            "text/plain": [
              "     country  population    square     density\n",
              "0     Англия       56.29    133396  421.976671\n",
              "1     Канада       38.05   9984670    3.810842\n",
              "2        США      322.28   9826630   32.796595\n",
              "3     Россия      146.24  17125191    8.539467\n",
              "4    Украина       45.50    603628   75.377550\n",
              "5   Беларусь        9.50    207600   45.761079\n",
              "6  Казахстан       17.04   2724902    6.253436"
            ]
          },
          "execution_count": 29,
          "metadata": {},
          "output_type": "execute_result"
        }
      ],
      "source": [
        "countries_df['density'] = countries_df['population']*1e6 / countries_df['square']\n",
        "countries_df"
      ]
    },
    {
      "cell_type": "code",
      "execution_count": null,
      "metadata": {
        "colab": {
          "base_uri": "https://localhost:8080/"
        },
        "id": "-YkONPvsZSH2",
        "outputId": "c6cfb56a-04c0-4f31-a997-bb8906f680f1"
      },
      "outputs": [
        {
          "data": {
            "text/plain": [
              "84.93"
            ]
          },
          "execution_count": 31,
          "metadata": {},
          "output_type": "execute_result"
        }
      ],
      "source": [
        "countries_df['density'].mean().round(2)"
      ]
    },
    {
      "cell_type": "markdown",
      "metadata": {
        "id": "zZVYMEsmZf58"
      },
      "source": [
        "\n",
        "\n",
        "---\n",
        "\n",
        "\n",
        "# 3. Работа с датами в DataFrame"
      ]
    },
    {
      "cell_type": "markdown",
      "metadata": {
        "id": "f0k-UskjZ4Uy"
      },
      "source": [
        "ПРИЗНАКИ ДАТЫ И ВРЕМЕНИ"
      ]
    },
    {
      "cell_type": "markdown",
      "metadata": {
        "id": "_WxlKFUyaLOq"
      },
      "source": [
        "ФОРМАТ DATETIME"
      ]
    },
    {
      "cell_type": "code",
      "execution_count": null,
      "metadata": {
        "colab": {
          "base_uri": "https://localhost:8080/",
          "height": 225
        },
        "id": "xpH4ZkNxayUr",
        "outputId": "810359bc-80f1-47a1-a4b9-89c2f0feb019"
      },
      "outputs": [
        {
          "data": {
            "text/plain": [
              "0         3/12/2016\n",
              "1         4/02/2016\n",
              "2         4/03/2017\n",
              "3         4/03/2017\n",
              "4         4/06/2016\n",
              "            ...    \n",
              "13575    26/08/2017\n",
              "13576    26/08/2017\n",
              "13577    26/08/2017\n",
              "13578    26/08/2017\n",
              "13579    26/08/2017\n",
              "Name: Date, Length: 13580, dtype: object"
            ]
          },
          "metadata": {},
          "output_type": "display_data"
        }
      ],
      "source": [
        "display(melb_df['Date'])"
      ]
    },
    {
      "cell_type": "code",
      "execution_count": 7,
      "metadata": {
        "colab": {
          "base_uri": "https://localhost:8080/",
          "height": 225
        },
        "id": "y60omM_dbTPS",
        "outputId": "299cdac7-b25e-4c34-969a-c1b2312f194d"
      },
      "outputs": [
        {
          "data": {
            "text/plain": [
              "0       2016-12-03\n",
              "1       2016-02-04\n",
              "2       2017-03-04\n",
              "3       2017-03-04\n",
              "4       2016-06-04\n",
              "           ...    \n",
              "13575   2017-08-26\n",
              "13576   2017-08-26\n",
              "13577   2017-08-26\n",
              "13578   2017-08-26\n",
              "13579   2017-08-26\n",
              "Name: Date, Length: 13580, dtype: datetime64[ns]"
            ]
          },
          "metadata": {},
          "output_type": "display_data"
        }
      ],
      "source": [
        "melb_df['Date'] = pd.to_datetime(melb_df['Date'], dayfirst=True)\n",
        "display(melb_df['Date'])"
      ]
    },
    {
      "cell_type": "code",
      "execution_count": null,
      "metadata": {
        "colab": {
          "base_uri": "https://localhost:8080/"
        },
        "id": "jkXVZCp0c-iB",
        "outputId": "4c6934d2-61f5-4e65-e4f7-6d3fb61665ca"
      },
      "outputs": [
        {
          "name": "stdout",
          "output_type": "stream",
          "text": [
            "0        2016\n",
            "1        2016\n",
            "2        2017\n",
            "3        2017\n",
            "4        2016\n",
            "         ... \n",
            "13575    2017\n",
            "13576    2017\n",
            "13577    2017\n",
            "13578    2017\n",
            "13579    2017\n",
            "Name: Date, Length: 13580, dtype: int64\n",
            "Min year sold: 2016\n",
            "Max year sold: 2017\n",
            "Mode year sold: 2017\n"
          ]
        }
      ],
      "source": [
        "years_sold = melb_df['Date'].dt.year\n",
        "print(years_sold)\n",
        "print('Min year sold:', years_sold.min())\n",
        "print('Max year sold:', years_sold.max())\n",
        "print('Mode year sold:', years_sold.mode()[0])"
      ]
    },
    {
      "cell_type": "code",
      "execution_count": null,
      "metadata": {
        "colab": {
          "base_uri": "https://localhost:8080/"
        },
        "id": "QEvdTK0kduoB",
        "outputId": "019dca21-c42e-4ce1-8e76-4106a4e486fe"
      },
      "outputs": [
        {
          "data": {
            "text/plain": [
              "0    2017\n",
              "dtype: int64"
            ]
          },
          "execution_count": 48,
          "metadata": {},
          "output_type": "execute_result"
        }
      ],
      "source": [
        "years_sold.mode()"
      ]
    },
    {
      "cell_type": "code",
      "execution_count": null,
      "metadata": {
        "colab": {
          "base_uri": "https://localhost:8080/"
        },
        "id": "W-AznKl_eHIy",
        "outputId": "3dfb5777-5d7b-474d-e7e5-c7341a33b479"
      },
      "outputs": [
        {
          "data": {
            "text/plain": [
              "5     0.149411\n",
              "7     0.145950\n",
              "9     0.135862\n",
              "6     0.134757\n",
              "8     0.114138\n",
              "11    0.082032\n",
              "4     0.069882\n",
              "3     0.049926\n",
              "12    0.044698\n",
              "10    0.040574\n",
              "2     0.032622\n",
              "1     0.000147\n",
              "Name: MonthSale, dtype: float64"
            ]
          },
          "execution_count": 49,
          "metadata": {},
          "output_type": "execute_result"
        }
      ],
      "source": [
        "melb_df['MonthSale'] = melb_df['Date'].dt.month\n",
        "melb_df['MonthSale'].value_counts(normalize=True)"
      ]
    },
    {
      "cell_type": "markdown",
      "metadata": {
        "id": "3hoR3DS3ek_a"
      },
      "source": [
        "РАБОТА С ИНТЕРВАЛАМИ"
      ]
    },
    {
      "cell_type": "code",
      "execution_count": null,
      "metadata": {
        "colab": {
          "base_uri": "https://localhost:8080/",
          "height": 225
        },
        "id": "u0GiNCb1e1vC",
        "outputId": "dbcf1133-3046-4239-a9ee-ef92084e0d9f"
      },
      "outputs": [
        {
          "data": {
            "text/plain": [
              "0       337 days\n",
              "1        34 days\n",
              "2       428 days\n",
              "3       428 days\n",
              "4       155 days\n",
              "          ...   \n",
              "13575   603 days\n",
              "13576   603 days\n",
              "13577   603 days\n",
              "13578   603 days\n",
              "13579   603 days\n",
              "Name: Date, Length: 13580, dtype: timedelta64[ns]"
            ]
          },
          "metadata": {},
          "output_type": "display_data"
        }
      ],
      "source": [
        "delta_days = melb_df['Date'] - pd.to_datetime('2016-01-01') \n",
        "display(delta_days)"
      ]
    },
    {
      "cell_type": "code",
      "execution_count": null,
      "metadata": {
        "colab": {
          "base_uri": "https://localhost:8080/",
          "height": 225
        },
        "id": "vlpCORvcfTfw",
        "outputId": "f4fd2ba3-d634-4362-e781-62816a2b822f"
      },
      "outputs": [
        {
          "data": {
            "text/plain": [
              "0        337\n",
              "1         34\n",
              "2        428\n",
              "3        428\n",
              "4        155\n",
              "        ... \n",
              "13575    603\n",
              "13576    603\n",
              "13577    603\n",
              "13578    603\n",
              "13579    603\n",
              "Name: Date, Length: 13580, dtype: int64"
            ]
          },
          "metadata": {},
          "output_type": "display_data"
        }
      ],
      "source": [
        "display(delta_days.dt.days)"
      ]
    },
    {
      "cell_type": "code",
      "execution_count": null,
      "metadata": {
        "colab": {
          "base_uri": "https://localhost:8080/",
          "height": 225
        },
        "id": "b3_wG1EqfjRQ",
        "outputId": "7ecd6197-88bc-4bd5-9392-3ecc999ec0b7"
      },
      "outputs": [
        {
          "data": {
            "text/plain": [
              "0         46\n",
              "1        116\n",
              "2        117\n",
              "3         47\n",
              "4          2\n",
              "        ... \n",
              "13575     36\n",
              "13576     22\n",
              "13577     20\n",
              "13578     97\n",
              "13579     97\n",
              "Name: AgeBuilding, Length: 13580, dtype: int64"
            ]
          },
          "metadata": {},
          "output_type": "display_data"
        }
      ],
      "source": [
        "melb_df['AgeBuilding'] = melb_df['Date'].dt.year - melb_df['YearBuilt']\n",
        "display(melb_df['AgeBuilding'])"
      ]
    },
    {
      "cell_type": "code",
      "execution_count": null,
      "metadata": {
        "id": "nYaa_mbigHxR"
      },
      "outputs": [],
      "source": [
        "melb_df = melb_df.drop('YearBuilt', axis=1)"
      ]
    },
    {
      "cell_type": "markdown",
      "metadata": {
        "id": "lHEKvyd4hxrd"
      },
      "source": [
        "\n",
        "\n",
        "---\n",
        "\n"
      ]
    },
    {
      "cell_type": "code",
      "execution_count": null,
      "metadata": {
        "colab": {
          "base_uri": "https://localhost:8080/"
        },
        "id": "nLBzAV39hy9R",
        "outputId": "b5a45bda-c791-4a91-8080-9286b6bf3203"
      },
      "outputs": [
        {
          "data": {
            "text/plain": [
              "12822"
            ]
          },
          "execution_count": 53,
          "metadata": {},
          "output_type": "execute_result"
        }
      ],
      "source": [
        "# Задание 3.3\n",
        "melb_df['WeekdaySale'] = melb_df['Date'].dt.dayofweek\n",
        "weekend_count = melb_df[melb_df['WeekdaySale']>4].shape[0]\n",
        "weekend_count"
      ]
    },
    {
      "cell_type": "code",
      "execution_count": null,
      "metadata": {
        "colab": {
          "base_uri": "https://localhost:8080/",
          "height": 424
        },
        "id": "eMdr4zSYjmKn",
        "outputId": "097c1be0-5529-4702-a997-affadbf086bd"
      },
      "outputs": [
        {
          "data": {
            "text/html": [
              "\n",
              "  <div id=\"df-e40fd123-29a6-4871-b236-ab21f66b032a\">\n",
              "    <div class=\"colab-df-container\">\n",
              "      <div>\n",
              "<style scoped>\n",
              "    .dataframe tbody tr th:only-of-type {\n",
              "        vertical-align: middle;\n",
              "    }\n",
              "\n",
              "    .dataframe tbody tr th {\n",
              "        vertical-align: top;\n",
              "    }\n",
              "\n",
              "    .dataframe thead th {\n",
              "        text-align: right;\n",
              "    }\n",
              "</style>\n",
              "<table border=\"1\" class=\"dataframe\">\n",
              "  <thead>\n",
              "    <tr style=\"text-align: right;\">\n",
              "      <th></th>\n",
              "      <th>City</th>\n",
              "      <th>Colors Reported</th>\n",
              "      <th>Shape Reported</th>\n",
              "      <th>State</th>\n",
              "      <th>Time</th>\n",
              "    </tr>\n",
              "  </thead>\n",
              "  <tbody>\n",
              "    <tr>\n",
              "      <th>0</th>\n",
              "      <td>Ithaca</td>\n",
              "      <td>NaN</td>\n",
              "      <td>TRIANGLE</td>\n",
              "      <td>NY</td>\n",
              "      <td>1930-06-01 22:00:00</td>\n",
              "    </tr>\n",
              "    <tr>\n",
              "      <th>1</th>\n",
              "      <td>Willingboro</td>\n",
              "      <td>NaN</td>\n",
              "      <td>OTHER</td>\n",
              "      <td>NJ</td>\n",
              "      <td>1930-06-30 20:00:00</td>\n",
              "    </tr>\n",
              "    <tr>\n",
              "      <th>2</th>\n",
              "      <td>Holyoke</td>\n",
              "      <td>NaN</td>\n",
              "      <td>OVAL</td>\n",
              "      <td>CO</td>\n",
              "      <td>1931-02-15 14:00:00</td>\n",
              "    </tr>\n",
              "    <tr>\n",
              "      <th>3</th>\n",
              "      <td>Abilene</td>\n",
              "      <td>NaN</td>\n",
              "      <td>DISK</td>\n",
              "      <td>KS</td>\n",
              "      <td>1931-06-01 13:00:00</td>\n",
              "    </tr>\n",
              "    <tr>\n",
              "      <th>4</th>\n",
              "      <td>New York Worlds Fair</td>\n",
              "      <td>NaN</td>\n",
              "      <td>LIGHT</td>\n",
              "      <td>NY</td>\n",
              "      <td>1933-04-18 19:00:00</td>\n",
              "    </tr>\n",
              "    <tr>\n",
              "      <th>...</th>\n",
              "      <td>...</td>\n",
              "      <td>...</td>\n",
              "      <td>...</td>\n",
              "      <td>...</td>\n",
              "      <td>...</td>\n",
              "    </tr>\n",
              "    <tr>\n",
              "      <th>18236</th>\n",
              "      <td>Grant Park</td>\n",
              "      <td>NaN</td>\n",
              "      <td>TRIANGLE</td>\n",
              "      <td>IL</td>\n",
              "      <td>2000-12-31 23:00:00</td>\n",
              "    </tr>\n",
              "    <tr>\n",
              "      <th>18237</th>\n",
              "      <td>Spirit Lake</td>\n",
              "      <td>NaN</td>\n",
              "      <td>DISK</td>\n",
              "      <td>IA</td>\n",
              "      <td>2000-12-31 23:00:00</td>\n",
              "    </tr>\n",
              "    <tr>\n",
              "      <th>18238</th>\n",
              "      <td>Eagle River</td>\n",
              "      <td>NaN</td>\n",
              "      <td>NaN</td>\n",
              "      <td>WI</td>\n",
              "      <td>2000-12-31 23:45:00</td>\n",
              "    </tr>\n",
              "    <tr>\n",
              "      <th>18239</th>\n",
              "      <td>Eagle River</td>\n",
              "      <td>RED</td>\n",
              "      <td>LIGHT</td>\n",
              "      <td>WI</td>\n",
              "      <td>2000-12-31 23:45:00</td>\n",
              "    </tr>\n",
              "    <tr>\n",
              "      <th>18240</th>\n",
              "      <td>Ybor</td>\n",
              "      <td>NaN</td>\n",
              "      <td>OVAL</td>\n",
              "      <td>FL</td>\n",
              "      <td>2000-12-31 23:59:00</td>\n",
              "    </tr>\n",
              "  </tbody>\n",
              "</table>\n",
              "<p>18241 rows × 5 columns</p>\n",
              "</div>\n",
              "      <button class=\"colab-df-convert\" onclick=\"convertToInteractive('df-e40fd123-29a6-4871-b236-ab21f66b032a')\"\n",
              "              title=\"Convert this dataframe to an interactive table.\"\n",
              "              style=\"display:none;\">\n",
              "        \n",
              "  <svg xmlns=\"http://www.w3.org/2000/svg\" height=\"24px\"viewBox=\"0 0 24 24\"\n",
              "       width=\"24px\">\n",
              "    <path d=\"M0 0h24v24H0V0z\" fill=\"none\"/>\n",
              "    <path d=\"M18.56 5.44l.94 2.06.94-2.06 2.06-.94-2.06-.94-.94-2.06-.94 2.06-2.06.94zm-11 1L8.5 8.5l.94-2.06 2.06-.94-2.06-.94L8.5 2.5l-.94 2.06-2.06.94zm10 10l.94 2.06.94-2.06 2.06-.94-2.06-.94-.94-2.06-.94 2.06-2.06.94z\"/><path d=\"M17.41 7.96l-1.37-1.37c-.4-.4-.92-.59-1.43-.59-.52 0-1.04.2-1.43.59L10.3 9.45l-7.72 7.72c-.78.78-.78 2.05 0 2.83L4 21.41c.39.39.9.59 1.41.59.51 0 1.02-.2 1.41-.59l7.78-7.78 2.81-2.81c.8-.78.8-2.07 0-2.86zM5.41 20L4 18.59l7.72-7.72 1.47 1.35L5.41 20z\"/>\n",
              "  </svg>\n",
              "      </button>\n",
              "      \n",
              "  <style>\n",
              "    .colab-df-container {\n",
              "      display:flex;\n",
              "      flex-wrap:wrap;\n",
              "      gap: 12px;\n",
              "    }\n",
              "\n",
              "    .colab-df-convert {\n",
              "      background-color: #E8F0FE;\n",
              "      border: none;\n",
              "      border-radius: 50%;\n",
              "      cursor: pointer;\n",
              "      display: none;\n",
              "      fill: #1967D2;\n",
              "      height: 32px;\n",
              "      padding: 0 0 0 0;\n",
              "      width: 32px;\n",
              "    }\n",
              "\n",
              "    .colab-df-convert:hover {\n",
              "      background-color: #E2EBFA;\n",
              "      box-shadow: 0px 1px 2px rgba(60, 64, 67, 0.3), 0px 1px 3px 1px rgba(60, 64, 67, 0.15);\n",
              "      fill: #174EA6;\n",
              "    }\n",
              "\n",
              "    [theme=dark] .colab-df-convert {\n",
              "      background-color: #3B4455;\n",
              "      fill: #D2E3FC;\n",
              "    }\n",
              "\n",
              "    [theme=dark] .colab-df-convert:hover {\n",
              "      background-color: #434B5C;\n",
              "      box-shadow: 0px 1px 3px 1px rgba(0, 0, 0, 0.15);\n",
              "      filter: drop-shadow(0px 1px 2px rgba(0, 0, 0, 0.3));\n",
              "      fill: #FFFFFF;\n",
              "    }\n",
              "  </style>\n",
              "\n",
              "      <script>\n",
              "        const buttonEl =\n",
              "          document.querySelector('#df-e40fd123-29a6-4871-b236-ab21f66b032a button.colab-df-convert');\n",
              "        buttonEl.style.display =\n",
              "          google.colab.kernel.accessAllowed ? 'block' : 'none';\n",
              "\n",
              "        async function convertToInteractive(key) {\n",
              "          const element = document.querySelector('#df-e40fd123-29a6-4871-b236-ab21f66b032a');\n",
              "          const dataTable =\n",
              "            await google.colab.kernel.invokeFunction('convertToInteractive',\n",
              "                                                     [key], {});\n",
              "          if (!dataTable) return;\n",
              "\n",
              "          const docLinkHtml = 'Like what you see? Visit the ' +\n",
              "            '<a target=\"_blank\" href=https://colab.research.google.com/notebooks/data_table.ipynb>data table notebook</a>'\n",
              "            + ' to learn more about interactive tables.';\n",
              "          element.innerHTML = '';\n",
              "          dataTable['output_type'] = 'display_data';\n",
              "          await google.colab.output.renderOutput(dataTable, element);\n",
              "          const docLink = document.createElement('div');\n",
              "          docLink.innerHTML = docLinkHtml;\n",
              "          element.appendChild(docLink);\n",
              "        }\n",
              "      </script>\n",
              "    </div>\n",
              "  </div>\n",
              "  "
            ],
            "text/plain": [
              "                       City Colors Reported Shape Reported State  \\\n",
              "0                    Ithaca             NaN       TRIANGLE    NY   \n",
              "1               Willingboro             NaN          OTHER    NJ   \n",
              "2                   Holyoke             NaN           OVAL    CO   \n",
              "3                   Abilene             NaN           DISK    KS   \n",
              "4      New York Worlds Fair             NaN          LIGHT    NY   \n",
              "...                     ...             ...            ...   ...   \n",
              "18236            Grant Park             NaN       TRIANGLE    IL   \n",
              "18237           Spirit Lake             NaN           DISK    IA   \n",
              "18238           Eagle River             NaN            NaN    WI   \n",
              "18239           Eagle River             RED          LIGHT    WI   \n",
              "18240                  Ybor             NaN           OVAL    FL   \n",
              "\n",
              "                     Time  \n",
              "0     1930-06-01 22:00:00  \n",
              "1     1930-06-30 20:00:00  \n",
              "2     1931-02-15 14:00:00  \n",
              "3     1931-06-01 13:00:00  \n",
              "4     1933-04-18 19:00:00  \n",
              "...                   ...  \n",
              "18236 2000-12-31 23:00:00  \n",
              "18237 2000-12-31 23:00:00  \n",
              "18238 2000-12-31 23:45:00  \n",
              "18239 2000-12-31 23:45:00  \n",
              "18240 2000-12-31 23:59:00  \n",
              "\n",
              "[18241 rows x 5 columns]"
            ]
          },
          "execution_count": 48,
          "metadata": {},
          "output_type": "execute_result"
        }
      ],
      "source": [
        "# ВВОДНЫЕ ДАННЫЕ ДЛЯ ВЫПОЛНЕНИЯ ЗАДАНИЙ 3.4-3.5\n",
        "\n",
        "# Вам представлены данные (в формате csv) об отчётах очевидцев НЛО в США за период с 1930 по 2020 год.\n",
        "\n",
        "# В данных есть следующие признаки:\n",
        "# \"City\" — город, где был замечен НЛО;\n",
        "# \"Colors Reported\" — цвет объекта;\n",
        "# \"Shape Reported\" — форма объекта;\n",
        "# \"State\" — обозначение штата;\n",
        "# \"Time\" — время, когда был замечен НЛО (данные отсортированы от старых наблюдений к новым). \n",
        "# Прочитайте данные, сделайте преобразование времени к формату datetime и выполните задания ниже.\n",
        "\n",
        "ufo_df = pd.read_csv('/content/sample_data/ufo.txt', sep=',')\n",
        "ufo_df['Time'] = pd.to_datetime(ufo_df['Time'])\n",
        "ufo_df"
      ]
    },
    {
      "cell_type": "code",
      "execution_count": null,
      "metadata": {
        "colab": {
          "base_uri": "https://localhost:8080/"
        },
        "id": "KEe3GHA3lTsQ",
        "outputId": "9bc35108-3886-464a-be8d-083fa531bb80"
      },
      "outputs": [
        {
          "data": {
            "text/plain": [
              "0    1999\n",
              "dtype: int64"
            ]
          },
          "execution_count": 49,
          "metadata": {},
          "output_type": "execute_result"
        }
      ],
      "source": [
        "ufo_df['Time'].dt.year.mode()"
      ]
    },
    {
      "cell_type": "code",
      "execution_count": null,
      "metadata": {
        "colab": {
          "base_uri": "https://localhost:8080/"
        },
        "id": "aHG2FD9fmaI2",
        "outputId": "14fc3fdb-3abd-40e8-ce21-556c5358e138"
      },
      "outputs": [
        {
          "data": {
            "text/plain": [
              "68.92932862190813"
            ]
          },
          "execution_count": 75,
          "metadata": {},
          "output_type": "execute_result"
        }
      ],
      "source": [
        "ufo_df['Date'] = ufo_df['Time'].dt.date\n",
        "ufo_df[ufo_df['State']=='NV']['Date'].diff().dt.days.mean()"
      ]
    },
    {
      "cell_type": "markdown",
      "metadata": {
        "id": "iJ5UiZOurk1t"
      },
      "source": [
        "\n",
        "\n",
        "---\n",
        "\n",
        "# 4. Создание и преобразование столбцов с помощью функций"
      ]
    },
    {
      "cell_type": "code",
      "execution_count": null,
      "metadata": {
        "colab": {
          "base_uri": "https://localhost:8080/"
        },
        "id": "h-0pMII8n6zr",
        "outputId": "d31cb240-287e-40ad-948d-e09f1d09d820"
      },
      "outputs": [
        {
          "name": "stdout",
          "output_type": "stream",
          "text": [
            "13378\n"
          ]
        }
      ],
      "source": [
        "print(melb_df['Address'].nunique())\n",
        "# 13378"
      ]
    },
    {
      "cell_type": "code",
      "execution_count": null,
      "metadata": {
        "colab": {
          "base_uri": "https://localhost:8080/"
        },
        "id": "ksycgo3Eo9KQ",
        "outputId": "d9d64e3b-f5a2-4d5e-d9a0-93e1d1b3507c"
      },
      "outputs": [
        {
          "name": "stdout",
          "output_type": "stream",
          "text": [
            "2/119 Railway St N\n",
            "9/400 Dandenong Rd\n",
            "172 Danks St\n"
          ]
        }
      ],
      "source": [
        "print(melb_df['Address'].loc[177])\n",
        "print(melb_df['Address'].loc[1812])\n",
        "print(melb_df['Address'].loc[9001])\n",
        "# 2/119 Railway St N\n",
        "# 9/400 Dandenong Rd\n",
        "# 172 Danks St"
      ]
    },
    {
      "cell_type": "code",
      "execution_count": null,
      "metadata": {
        "id": "d47wDil1o9Dp"
      },
      "outputs": [],
      "source": [
        "# На вход данной функции поступает строка с адресом.\n",
        "def get_street_type(address):\n",
        "# Создаём список географических пометок exclude_list.\n",
        "    exclude_list = ['N', 'S', 'W', 'E']\n",
        "# Метод split() разбивает строку на слова по пробелу.\n",
        "# В результате получаем список слов в строке и заносим его в переменную address_list.\n",
        "    address_list = address.split(' ')\n",
        "# Обрезаем список, оставляя в нём только последний элемент,\n",
        "# потенциальный подтип улицы, и заносим в переменную street_type.\n",
        "    street_type = address_list[-1]\n",
        "# Делаем проверку на то, что полученный подтип является географической пометкой.\n",
        "# Для этого проверяем его на наличие в списке exclude_list.\n",
        "    if street_type in exclude_list:\n",
        "# Если переменная street_type является географической пометкой,\n",
        "# переопределяем её на второй элемент с конца списка address_list.\n",
        "        street_type = address_list[-2]\n",
        "# Возвращаем переменную street_type, в которой хранится подтип улицы.\n",
        "    return street_type"
      ]
    },
    {
      "cell_type": "code",
      "execution_count": null,
      "metadata": {
        "colab": {
          "base_uri": "https://localhost:8080/",
          "height": 225
        },
        "id": "QD-TGBVvp0uQ",
        "outputId": "059ae260-40cb-4420-8f09-e1cc8d6a5f91"
      },
      "outputs": [
        {
          "data": {
            "text/plain": [
              "0        St\n",
              "1        St\n",
              "2        St\n",
              "3        La\n",
              "4        St\n",
              "         ..\n",
              "13575    Cr\n",
              "13576    Dr\n",
              "13577    St\n",
              "13578    St\n",
              "13579    St\n",
              "Name: Address, Length: 13580, dtype: object"
            ]
          },
          "metadata": {},
          "output_type": "display_data"
        }
      ],
      "source": [
        "street_types = melb_df['Address'].apply(get_street_type)\n",
        "display(street_types)"
      ]
    },
    {
      "cell_type": "code",
      "execution_count": null,
      "metadata": {
        "colab": {
          "base_uri": "https://localhost:8080/"
        },
        "id": "jF-zwPoNqGZQ",
        "outputId": "49f531de-f1fe-4984-fade-94c77856fd7a"
      },
      "outputs": [
        {
          "name": "stdout",
          "output_type": "stream",
          "text": [
            "56\n"
          ]
        }
      ],
      "source": [
        "print(street_types.nunique())\n",
        "# 56"
      ]
    },
    {
      "cell_type": "code",
      "execution_count": null,
      "metadata": {
        "id": "FzRrviPCqSKA"
      },
      "outputs": [],
      "source": [
        "display(street_types.value_counts())"
      ]
    },
    {
      "cell_type": "code",
      "execution_count": null,
      "metadata": {
        "colab": {
          "base_uri": "https://localhost:8080/"
        },
        "id": "lKzKKunyq05g",
        "outputId": "b8cc8e40-3be6-4b8b-8900-1e2103750252"
      },
      "outputs": [
        {
          "name": "stdout",
          "output_type": "stream",
          "text": [
            "Index(['St', 'Rd', 'Ct', 'Dr', 'Av', 'Gr', 'Pde', 'Pl', 'Cr', 'Cl'], dtype='object')\n"
          ]
        }
      ],
      "source": [
        "popular_stypes = street_types.value_counts().nlargest(10).index\n",
        "print(popular_stypes)\n",
        "# Index(['St', 'Rd', 'Ct', 'Dr', 'Av', 'Gr', 'Pde', 'Pl', 'Cr', 'Cl'], dtype='object')"
      ]
    },
    {
      "cell_type": "code",
      "execution_count": null,
      "metadata": {
        "colab": {
          "base_uri": "https://localhost:8080/",
          "height": 225
        },
        "id": "IvKLJKXcrmn3",
        "outputId": "0cb62350-d13a-4114-a4bd-028e53b85e49"
      },
      "outputs": [
        {
          "data": {
            "text/plain": [
              "0           St\n",
              "1           St\n",
              "2           St\n",
              "3        other\n",
              "4           St\n",
              "         ...  \n",
              "13575       Cr\n",
              "13576       Dr\n",
              "13577       St\n",
              "13578       St\n",
              "13579       St\n",
              "Name: StreetType, Length: 13580, dtype: object"
            ]
          },
          "metadata": {},
          "output_type": "display_data"
        }
      ],
      "source": [
        "melb_df['StreetType'] = street_types.apply(lambda x: x if x in popular_stypes else 'other')\n",
        "display(melb_df['StreetType'])"
      ]
    },
    {
      "cell_type": "code",
      "execution_count": null,
      "metadata": {
        "colab": {
          "base_uri": "https://localhost:8080/"
        },
        "id": "qKayg1XDr-dx",
        "outputId": "700cdd56-b2e8-4f9e-e5dd-25768b35e86c"
      },
      "outputs": [
        {
          "name": "stdout",
          "output_type": "stream",
          "text": [
            "11\n"
          ]
        }
      ],
      "source": [
        "print(melb_df['StreetType'].nunique())\n",
        "# 11"
      ]
    },
    {
      "cell_type": "code",
      "execution_count": null,
      "metadata": {
        "id": "5-pd2TOrsMiX"
      },
      "outputs": [],
      "source": [
        "melb_df = melb_df.drop('Address', axis=1)"
      ]
    },
    {
      "cell_type": "markdown",
      "metadata": {
        "id": "N2uyIblKwJSd"
      },
      "source": [
        "\n",
        "\n",
        "---\n",
        "\n"
      ]
    },
    {
      "cell_type": "code",
      "execution_count": null,
      "metadata": {
        "colab": {
          "base_uri": "https://localhost:8080/"
        },
        "id": "dPHV-clCwKE1",
        "outputId": "6389b937-b07f-4bcc-80b1-0b4378a78a83"
      },
      "outputs": [
        {
          "data": {
            "text/plain": [
              "1081199.0"
            ]
          },
          "execution_count": 63,
          "metadata": {},
          "output_type": "execute_result"
        }
      ],
      "source": [
        "# Задание 4.2\n",
        "# Ранее, в задании 3.3, \n",
        "# мы создали признак WeekdaySale в таблице melb_df — день недели продажи. \n",
        "# Из полученных в задании результатов можно сделать вывод, \n",
        "# что объекты недвижимости в Мельбурне продаются преимущественно по выходным (суббота и воскресенье).\n",
        "# Напишите функцию get_weekend(weekday), \n",
        "# которая принимает на вход элемент столбца WeekdaySale и возвращает 1, \n",
        "# если день является выходным, и 0 — в противном случае, \n",
        "# и создайте столбец Weekend в таблице melb_df с помощью неё.\n",
        "\n",
        "# Примените эту функцию к столбцу и вычислите среднюю цену объекта недвижимости, \n",
        "# проданного в выходные дни. Результат округлите до целых.\n",
        "\n",
        "def get_weekend(weekday):\n",
        "    if weekday > 4: return 1\n",
        "    else: return 0\n",
        "\n",
        "melb_df['Weekend'] = melb_df['WeekdaySale'].apply(get_weekend)\n",
        "\n",
        "melb_df[melb_df['Weekend']>0]['Price'].mean().round()"
      ]
    },
    {
      "cell_type": "code",
      "execution_count": null,
      "metadata": {
        "colab": {
          "base_uri": "https://localhost:8080/"
        },
        "id": "KybtCEYs3t0T",
        "outputId": "3a7d7126-5bf0-408b-88f1-8aefe45dce4d"
      },
      "outputs": [
        {
          "data": {
            "text/plain": [
              "50"
            ]
          },
          "execution_count": 68,
          "metadata": {},
          "output_type": "execute_result"
        }
      ],
      "source": [
        "melb_df['SellerG'].nunique()"
      ]
    },
    {
      "cell_type": "code",
      "execution_count": null,
      "metadata": {
        "colab": {
          "base_uri": "https://localhost:8080/"
        },
        "id": "V9T3337G1St8",
        "outputId": "7ce58c8e-9a45-43b6-b3ca-1824e13f5e31"
      },
      "outputs": [
        {
          "name": "stdout",
          "output_type": "stream",
          "text": [
            "Index(['Nelson', 'Jellis', 'other', 'hockingstuart', 'Barry', 'Ray',\n",
            "       'Marshall', 'Buxton', 'Biggin', 'Brad', 'Woodards', 'Fletchers', 'Jas',\n",
            "       'Greg', 'McGrath', 'Sweeney', 'Noel', 'Miles', 'RT', 'Gary',\n",
            "       'Harcourts', 'Hodges', 'YPA', 'Stockdale', 'Village', 'Kay', 'Raine',\n",
            "       'Williams', 'Love', 'Douglas', 'Chisholm', 'RW', 'Rendina', 'HAR',\n",
            "       'O'Brien', 'C21', 'Collins', 'Cayzer', 'Eview', 'Purplebricks',\n",
            "       'Philip', 'Buckingham', 'Bells', 'Thomson', 'Nick', 'Alexkarbon',\n",
            "       'McDonald', 'Burnham', 'Moonee'],\n",
            "      dtype='object')\n",
            "170000.0\n",
            "131000.0\n",
            "1.3\n"
          ]
        }
      ],
      "source": [
        "# Задание 4.3\n",
        "# Преобразуйте столбец SellerG с наименованиями риелторских компаний в таблице melb_df следующим образом: \n",
        "# оставьте в столбце только 49 самых популярных компаний, а остальные обозначьте как 'other'.\n",
        "# Найдите, во сколько раз минимальная цена объектов недвижимости, \n",
        "# проданных компанией 'Nelson', больше минимальной цены объектов, проданных компаниями, \n",
        "# обозначенными как 'other'. Ответ округлите до десятых.\n",
        "\n",
        "pop_sel = melb_df['SellerG'].value_counts().nlargest(49).index\n",
        "# popular_stypes = street_types.value_counts().nlargest(10).index\n",
        "print(pop_sel)\n",
        "melb_df['SellerG'] = melb_df['SellerG'].apply(lambda x: x if x in pop_sel else 'other')\n",
        "nlsn_min = melb_df[melb_df['SellerG'] == 'Nelson']['Price'].min()\n",
        "print(nlsn_min)\n",
        "othr_min = melb_df[melb_df['SellerG'] == 'other']['Price'].min()\n",
        "print(othr_min)\n",
        "print((nlsn_min / othr_min).round(1))"
      ]
    },
    {
      "cell_type": "code",
      "execution_count": null,
      "metadata": {
        "colab": {
          "base_uri": "https://localhost:8080/"
        },
        "id": "LBRhtNGF2q8n",
        "outputId": "1c763332-178f-40fc-b029-fb98ee705878"
      },
      "outputs": [
        {
          "name": "stdout",
          "output_type": "stream",
          "text": [
            "0    99\n",
            "1    41\n",
            "2    21\n",
            "3     3\n",
            "4    72\n",
            "dtype: int64\n"
          ]
        }
      ],
      "source": [
        "# ЗАДАНИЕ 4.4\n",
        "# Представьте, \n",
        "# что вы занимаетесь подготовкой данных о вакансиях с платформы hh.ru. \n",
        "# В вашем распоряжении имеется таблица, \n",
        "# в которой с помощью парсинга собраны резюме кандидатов. \n",
        "# В этой таблице есть текстовый столбец «Опыт работы». \n",
        "# Пример такого столбца представлен ниже в виде объекта Series. \n",
        "# Структура текста в столбце фиксирована и не может измениться.\n",
        "\n",
        "# Напишите функцию get_experience(arg), \n",
        "# аргументом которой является строка столбца с опытом работы. \n",
        "# Функция должна возвращать опыт работы в месяцах. \n",
        "# Не забудьте привести результат к целому числу.\n",
        "\n",
        "# Обратите внимание, \n",
        "# что опыт работы может выражаться только в годах или только в месяцах. \n",
        "# Учтите это при построении своей функции. \n",
        "# Кроме того, учтите возможные вариации слов месяц (месяца, месяцев) и год (года, лет).\n",
        "\n",
        "def get_experience(arg):\n",
        "    \"\"\"\n",
        "    Напишите функцию get_experience(arg), аргументом которой является строка столбца с опытом работы. \n",
        "    Функция должна возвращать опыт работы в месяцах. Не забудьте привести результат к целому числу.\n",
        "    \"\"\"\n",
        "    year_kw = ['год', 'года', 'лет']\n",
        "    month_kw = ['месяц', 'месяца', 'месяцев']\n",
        "    arg_split = arg.split(' ')\n",
        "    year = 0\n",
        "    month = 0\n",
        "    for i in range(len(arg_split)):\n",
        "        if arg_split[i] in month_kw:\n",
        "           month = arg_split[i-1]\n",
        "        if arg_split[i] in year_kw:\n",
        "           year = arg_split[i-1]\n",
        "    return int(year)*12 + int(month)\n",
        "\n",
        "\n",
        "if __name__ == '__main__':\n",
        "    experience_col = pd.Series([\n",
        "        'Опыт работы 8 лет 3 месяца',\n",
        "        'Опыт работы 3 года 5 месяцев',\n",
        "        'Опыт работы 1 год 9 месяцев',\n",
        "        'Опыт работы 3 месяца',\n",
        "        'Опыт работы 6 лет'\n",
        "        ])\n",
        "    experience_month = experience_col.apply(get_experience)\n",
        "    print(experience_month)"
      ]
    },
    {
      "cell_type": "markdown",
      "metadata": {
        "id": "fyIin5dffwAJ"
      },
      "source": [
        "\n",
        "\n",
        "---\n",
        "\n",
        "# 5. Тип данных Category"
      ]
    },
    {
      "cell_type": "markdown",
      "metadata": {
        "id": "yoQhIrPCiKnu"
      },
      "source": [
        "ПРИЗНАКИ: КАТЕГОРИАЛЬНЫЕ И ЧИСЛОВЫЕ"
      ]
    },
    {
      "cell_type": "markdown",
      "metadata": {
        "id": "c87xo4UZiFsQ"
      },
      "source": [
        "КАТЕГОРИИ В ДАННЫХ О НЕДВИЖИМОСТИ"
      ]
    },
    {
      "cell_type": "code",
      "execution_count": 26,
      "metadata": {
        "colab": {
          "base_uri": "https://localhost:8080/",
          "height": 771
        },
        "id": "vYy_8-9Rfwyo",
        "outputId": "dae01df5-9426-4241-f021-176cfb7899e7"
      },
      "outputs": [
        {
          "data": {
            "text/html": [
              "\n",
              "  <div id=\"df-0f3a1293-c0d6-4034-91ae-5791d4126f61\">\n",
              "    <div class=\"colab-df-container\">\n",
              "      <div>\n",
              "<style scoped>\n",
              "    .dataframe tbody tr th:only-of-type {\n",
              "        vertical-align: middle;\n",
              "    }\n",
              "\n",
              "    .dataframe tbody tr th {\n",
              "        vertical-align: top;\n",
              "    }\n",
              "\n",
              "    .dataframe thead th {\n",
              "        text-align: right;\n",
              "    }\n",
              "</style>\n",
              "<table border=\"1\" class=\"dataframe\">\n",
              "  <thead>\n",
              "    <tr style=\"text-align: right;\">\n",
              "      <th></th>\n",
              "      <th>Column_Name</th>\n",
              "      <th>Num_Unique</th>\n",
              "      <th>Type</th>\n",
              "    </tr>\n",
              "  </thead>\n",
              "  <tbody>\n",
              "    <tr>\n",
              "      <th>0</th>\n",
              "      <td>Type</td>\n",
              "      <td>3</td>\n",
              "      <td>object</td>\n",
              "    </tr>\n",
              "    <tr>\n",
              "      <th>1</th>\n",
              "      <td>Method</td>\n",
              "      <td>5</td>\n",
              "      <td>object</td>\n",
              "    </tr>\n",
              "    <tr>\n",
              "      <th>2</th>\n",
              "      <td>Regionname</td>\n",
              "      <td>8</td>\n",
              "      <td>object</td>\n",
              "    </tr>\n",
              "    <tr>\n",
              "      <th>3</th>\n",
              "      <td>Rooms</td>\n",
              "      <td>9</td>\n",
              "      <td>int64</td>\n",
              "    </tr>\n",
              "    <tr>\n",
              "      <th>4</th>\n",
              "      <td>Bathroom</td>\n",
              "      <td>9</td>\n",
              "      <td>int64</td>\n",
              "    </tr>\n",
              "    <tr>\n",
              "      <th>5</th>\n",
              "      <td>Car</td>\n",
              "      <td>11</td>\n",
              "      <td>int64</td>\n",
              "    </tr>\n",
              "    <tr>\n",
              "      <th>6</th>\n",
              "      <td>Bedroom</td>\n",
              "      <td>12</td>\n",
              "      <td>int64</td>\n",
              "    </tr>\n",
              "    <tr>\n",
              "      <th>7</th>\n",
              "      <td>CouncilArea</td>\n",
              "      <td>33</td>\n",
              "      <td>object</td>\n",
              "    </tr>\n",
              "    <tr>\n",
              "      <th>8</th>\n",
              "      <td>Date</td>\n",
              "      <td>58</td>\n",
              "      <td>object</td>\n",
              "    </tr>\n",
              "    <tr>\n",
              "      <th>9</th>\n",
              "      <td>YearBuilt</td>\n",
              "      <td>144</td>\n",
              "      <td>int64</td>\n",
              "    </tr>\n",
              "    <tr>\n",
              "      <th>10</th>\n",
              "      <td>Postcode</td>\n",
              "      <td>198</td>\n",
              "      <td>int64</td>\n",
              "    </tr>\n",
              "    <tr>\n",
              "      <th>11</th>\n",
              "      <td>Distance</td>\n",
              "      <td>202</td>\n",
              "      <td>float64</td>\n",
              "    </tr>\n",
              "    <tr>\n",
              "      <th>12</th>\n",
              "      <td>SellerG</td>\n",
              "      <td>268</td>\n",
              "      <td>object</td>\n",
              "    </tr>\n",
              "    <tr>\n",
              "      <th>13</th>\n",
              "      <td>Propertycount</td>\n",
              "      <td>311</td>\n",
              "      <td>int64</td>\n",
              "    </tr>\n",
              "    <tr>\n",
              "      <th>14</th>\n",
              "      <td>Suburb</td>\n",
              "      <td>314</td>\n",
              "      <td>object</td>\n",
              "    </tr>\n",
              "    <tr>\n",
              "      <th>15</th>\n",
              "      <td>BuildingArea</td>\n",
              "      <td>602</td>\n",
              "      <td>float64</td>\n",
              "    </tr>\n",
              "    <tr>\n",
              "      <th>16</th>\n",
              "      <td>Landsize</td>\n",
              "      <td>1448</td>\n",
              "      <td>float64</td>\n",
              "    </tr>\n",
              "    <tr>\n",
              "      <th>17</th>\n",
              "      <td>Price</td>\n",
              "      <td>2204</td>\n",
              "      <td>float64</td>\n",
              "    </tr>\n",
              "    <tr>\n",
              "      <th>18</th>\n",
              "      <td>Lattitude</td>\n",
              "      <td>6503</td>\n",
              "      <td>float64</td>\n",
              "    </tr>\n",
              "    <tr>\n",
              "      <th>19</th>\n",
              "      <td>Longtitude</td>\n",
              "      <td>7063</td>\n",
              "      <td>float64</td>\n",
              "    </tr>\n",
              "    <tr>\n",
              "      <th>20</th>\n",
              "      <td>Coordinates</td>\n",
              "      <td>13097</td>\n",
              "      <td>object</td>\n",
              "    </tr>\n",
              "    <tr>\n",
              "      <th>21</th>\n",
              "      <td>Address</td>\n",
              "      <td>13378</td>\n",
              "      <td>object</td>\n",
              "    </tr>\n",
              "    <tr>\n",
              "      <th>22</th>\n",
              "      <td>index</td>\n",
              "      <td>13580</td>\n",
              "      <td>int64</td>\n",
              "    </tr>\n",
              "  </tbody>\n",
              "</table>\n",
              "</div>\n",
              "      <button class=\"colab-df-convert\" onclick=\"convertToInteractive('df-0f3a1293-c0d6-4034-91ae-5791d4126f61')\"\n",
              "              title=\"Convert this dataframe to an interactive table.\"\n",
              "              style=\"display:none;\">\n",
              "        \n",
              "  <svg xmlns=\"http://www.w3.org/2000/svg\" height=\"24px\"viewBox=\"0 0 24 24\"\n",
              "       width=\"24px\">\n",
              "    <path d=\"M0 0h24v24H0V0z\" fill=\"none\"/>\n",
              "    <path d=\"M18.56 5.44l.94 2.06.94-2.06 2.06-.94-2.06-.94-.94-2.06-.94 2.06-2.06.94zm-11 1L8.5 8.5l.94-2.06 2.06-.94-2.06-.94L8.5 2.5l-.94 2.06-2.06.94zm10 10l.94 2.06.94-2.06 2.06-.94-2.06-.94-.94-2.06-.94 2.06-2.06.94z\"/><path d=\"M17.41 7.96l-1.37-1.37c-.4-.4-.92-.59-1.43-.59-.52 0-1.04.2-1.43.59L10.3 9.45l-7.72 7.72c-.78.78-.78 2.05 0 2.83L4 21.41c.39.39.9.59 1.41.59.51 0 1.02-.2 1.41-.59l7.78-7.78 2.81-2.81c.8-.78.8-2.07 0-2.86zM5.41 20L4 18.59l7.72-7.72 1.47 1.35L5.41 20z\"/>\n",
              "  </svg>\n",
              "      </button>\n",
              "      \n",
              "  <style>\n",
              "    .colab-df-container {\n",
              "      display:flex;\n",
              "      flex-wrap:wrap;\n",
              "      gap: 12px;\n",
              "    }\n",
              "\n",
              "    .colab-df-convert {\n",
              "      background-color: #E8F0FE;\n",
              "      border: none;\n",
              "      border-radius: 50%;\n",
              "      cursor: pointer;\n",
              "      display: none;\n",
              "      fill: #1967D2;\n",
              "      height: 32px;\n",
              "      padding: 0 0 0 0;\n",
              "      width: 32px;\n",
              "    }\n",
              "\n",
              "    .colab-df-convert:hover {\n",
              "      background-color: #E2EBFA;\n",
              "      box-shadow: 0px 1px 2px rgba(60, 64, 67, 0.3), 0px 1px 3px 1px rgba(60, 64, 67, 0.15);\n",
              "      fill: #174EA6;\n",
              "    }\n",
              "\n",
              "    [theme=dark] .colab-df-convert {\n",
              "      background-color: #3B4455;\n",
              "      fill: #D2E3FC;\n",
              "    }\n",
              "\n",
              "    [theme=dark] .colab-df-convert:hover {\n",
              "      background-color: #434B5C;\n",
              "      box-shadow: 0px 1px 3px 1px rgba(0, 0, 0, 0.15);\n",
              "      filter: drop-shadow(0px 1px 2px rgba(0, 0, 0, 0.3));\n",
              "      fill: #FFFFFF;\n",
              "    }\n",
              "  </style>\n",
              "\n",
              "      <script>\n",
              "        const buttonEl =\n",
              "          document.querySelector('#df-0f3a1293-c0d6-4034-91ae-5791d4126f61 button.colab-df-convert');\n",
              "        buttonEl.style.display =\n",
              "          google.colab.kernel.accessAllowed ? 'block' : 'none';\n",
              "\n",
              "        async function convertToInteractive(key) {\n",
              "          const element = document.querySelector('#df-0f3a1293-c0d6-4034-91ae-5791d4126f61');\n",
              "          const dataTable =\n",
              "            await google.colab.kernel.invokeFunction('convertToInteractive',\n",
              "                                                     [key], {});\n",
              "          if (!dataTable) return;\n",
              "\n",
              "          const docLinkHtml = 'Like what you see? Visit the ' +\n",
              "            '<a target=\"_blank\" href=https://colab.research.google.com/notebooks/data_table.ipynb>data table notebook</a>'\n",
              "            + ' to learn more about interactive tables.';\n",
              "          element.innerHTML = '';\n",
              "          dataTable['output_type'] = 'display_data';\n",
              "          await google.colab.output.renderOutput(dataTable, element);\n",
              "          const docLink = document.createElement('div');\n",
              "          docLink.innerHTML = docLinkHtml;\n",
              "          element.appendChild(docLink);\n",
              "        }\n",
              "      </script>\n",
              "    </div>\n",
              "  </div>\n",
              "  "
            ],
            "text/plain": [
              "      Column_Name  Num_Unique     Type\n",
              "0            Type           3   object\n",
              "1          Method           5   object\n",
              "2      Regionname           8   object\n",
              "3           Rooms           9    int64\n",
              "4        Bathroom           9    int64\n",
              "5             Car          11    int64\n",
              "6         Bedroom          12    int64\n",
              "7     CouncilArea          33   object\n",
              "8            Date          58   object\n",
              "9       YearBuilt         144    int64\n",
              "10       Postcode         198    int64\n",
              "11       Distance         202  float64\n",
              "12        SellerG         268   object\n",
              "13  Propertycount         311    int64\n",
              "14         Suburb         314   object\n",
              "15   BuildingArea         602  float64\n",
              "16       Landsize        1448  float64\n",
              "17          Price        2204  float64\n",
              "18      Lattitude        6503  float64\n",
              "19     Longtitude        7063  float64\n",
              "20    Coordinates       13097   object\n",
              "21        Address       13378   object\n",
              "22          index       13580    int64"
            ]
          },
          "metadata": {},
          "output_type": "display_data"
        }
      ],
      "source": [
        "# создаём пустой список\n",
        "unique_list = []\n",
        "# пробегаемся по именам столбцов в таблице\n",
        "for col in melb_df.columns:\n",
        "    # создаём кортеж (имя столбца, число уникальных значений)\n",
        "    item = (col, melb_df[col].nunique(), melb_df[col].dtypes) \n",
        "    # добавляем кортеж в список\n",
        "    unique_list.append(item) \n",
        "# создаём вспомогательную таблицу и сортируем её\n",
        "unique_counts = pd.DataFrame(\n",
        "    unique_list,\n",
        "    columns=['Column_Name', 'Num_Unique', 'Type']\n",
        ").sort_values(by='Num_Unique', ignore_index=True)\n",
        "# выводим её на экран\n",
        "display(unique_counts)"
      ]
    },
    {
      "cell_type": "markdown",
      "metadata": {
        "id": "OTL-ar7SiPQw"
      },
      "source": [
        "ТИП ДАННЫХ CATEGORY"
      ]
    },
    {
      "cell_type": "code",
      "execution_count": 27,
      "metadata": {
        "colab": {
          "base_uri": "https://localhost:8080/",
          "height": 555
        },
        "id": "qcximKTRizFk",
        "outputId": "051220ed-122d-4d02-ede4-fa4911d1c75e"
      },
      "outputs": [
        {
          "name": "stdout",
          "output_type": "stream",
          "text": [
            "<class 'pandas.core.frame.DataFrame'>\n",
            "RangeIndex: 13580 entries, 0 to 13579\n",
            "Data columns (total 23 columns):\n",
            " #   Column         Non-Null Count  Dtype  \n",
            "---  ------         --------------  -----  \n",
            " 0   index          13580 non-null  int64  \n",
            " 1   Suburb         13580 non-null  object \n",
            " 2   Address        13580 non-null  object \n",
            " 3   Rooms          13580 non-null  int64  \n",
            " 4   Type           13580 non-null  object \n",
            " 5   Price          13580 non-null  float64\n",
            " 6   Method         13580 non-null  object \n",
            " 7   SellerG        13580 non-null  object \n",
            " 8   Date           13580 non-null  object \n",
            " 9   Distance       13580 non-null  float64\n",
            " 10  Postcode       13580 non-null  int64  \n",
            " 11  Bedroom        13580 non-null  int64  \n",
            " 12  Bathroom       13580 non-null  int64  \n",
            " 13  Car            13580 non-null  int64  \n",
            " 14  Landsize       13580 non-null  float64\n",
            " 15  BuildingArea   13580 non-null  float64\n",
            " 16  YearBuilt      13580 non-null  int64  \n",
            " 17  CouncilArea    12211 non-null  object \n",
            " 18  Lattitude      13580 non-null  float64\n",
            " 19  Longtitude     13580 non-null  float64\n",
            " 20  Regionname     13580 non-null  object \n",
            " 21  Propertycount  13580 non-null  int64  \n",
            " 22  Coordinates    13580 non-null  object \n",
            "dtypes: float64(6), int64(8), object(9)\n",
            "memory usage: 2.4+ MB\n"
          ]
        },
        {
          "data": {
            "text/plain": [
              "None"
            ]
          },
          "metadata": {},
          "output_type": "display_data"
        }
      ],
      "source": [
        "display(melb_df.info())"
      ]
    },
    {
      "cell_type": "code",
      "execution_count": 28,
      "metadata": {
        "colab": {
          "base_uri": "https://localhost:8080/",
          "height": 555
        },
        "id": "4a9S3BNOjGJP",
        "outputId": "32560a7f-967a-4480-aba1-1d799f960790"
      },
      "outputs": [
        {
          "name": "stdout",
          "output_type": "stream",
          "text": [
            "<class 'pandas.core.frame.DataFrame'>\n",
            "RangeIndex: 13580 entries, 0 to 13579\n",
            "Data columns (total 23 columns):\n",
            " #   Column         Non-Null Count  Dtype   \n",
            "---  ------         --------------  -----   \n",
            " 0   index          13580 non-null  int64   \n",
            " 1   Suburb         13580 non-null  object  \n",
            " 2   Address        13580 non-null  object  \n",
            " 3   Rooms          13580 non-null  int64   \n",
            " 4   Type           13580 non-null  category\n",
            " 5   Price          13580 non-null  float64 \n",
            " 6   Method         13580 non-null  category\n",
            " 7   SellerG        13580 non-null  object  \n",
            " 8   Date           13580 non-null  object  \n",
            " 9   Distance       13580 non-null  float64 \n",
            " 10  Postcode       13580 non-null  int64   \n",
            " 11  Bedroom        13580 non-null  int64   \n",
            " 12  Bathroom       13580 non-null  int64   \n",
            " 13  Car            13580 non-null  int64   \n",
            " 14  Landsize       13580 non-null  float64 \n",
            " 15  BuildingArea   13580 non-null  float64 \n",
            " 16  YearBuilt      13580 non-null  category\n",
            " 17  CouncilArea    12211 non-null  category\n",
            " 18  Lattitude      13580 non-null  float64 \n",
            " 19  Longtitude     13580 non-null  float64 \n",
            " 20  Regionname     13580 non-null  category\n",
            " 21  Propertycount  13580 non-null  int64   \n",
            " 22  Coordinates    13580 non-null  object  \n",
            "dtypes: category(5), float64(6), int64(7), object(5)\n",
            "memory usage: 1.9+ MB\n"
          ]
        },
        {
          "data": {
            "text/plain": [
              "None"
            ]
          },
          "metadata": {},
          "output_type": "display_data"
        }
      ],
      "source": [
        "# список столбцов, которые мы не берём во внимание\n",
        "cols_to_exclude = ['Date', 'Rooms', 'Bedroom', 'Bathroom', 'Car']\n",
        "# задаём максимальное число уникальных категорий\n",
        "max_unique_count = 150\n",
        "# цикл по именам столбцов\n",
        "for col in melb_df.columns:\n",
        "    # проверяем условие\n",
        "    if melb_df[col].nunique() < max_unique_count and col not in cols_to_exclude:\n",
        "        # преобразуем тип столбца\n",
        "        melb_df[col] = melb_df[col].astype('category')\n",
        "# выводим её на экран\n",
        "display(melb_df.info())"
      ]
    },
    {
      "cell_type": "markdown",
      "metadata": {
        "id": "OfZCTAkBkjPI"
      },
      "source": [
        "ПОЛУЧЕНИЕ АТРИБУТОВ CATEGORY"
      ]
    },
    {
      "cell_type": "code",
      "execution_count": 29,
      "metadata": {
        "colab": {
          "base_uri": "https://localhost:8080/"
        },
        "id": "X1nut-BAkl_X",
        "outputId": "700a5223-fdf1-4a19-8a85-f14da8efe568"
      },
      "outputs": [
        {
          "name": "stdout",
          "output_type": "stream",
          "text": [
            "Index(['Eastern Metropolitan', 'Eastern Victoria', 'Northern Metropolitan',\n",
            "       'Northern Victoria', 'South-Eastern Metropolitan',\n",
            "       'Southern Metropolitan', 'Western Metropolitan', 'Western Victoria'],\n",
            "      dtype='object')\n"
          ]
        }
      ],
      "source": [
        "print(melb_df['Regionname'].cat.categories)"
      ]
    },
    {
      "cell_type": "code",
      "execution_count": 30,
      "metadata": {
        "colab": {
          "base_uri": "https://localhost:8080/",
          "height": 225
        },
        "id": "nd-sMfKclAf_",
        "outputId": "780be5fa-0d86-454c-cdbe-a286e75ace6b"
      },
      "outputs": [
        {
          "data": {
            "text/plain": [
              "0        2\n",
              "1        2\n",
              "2        2\n",
              "3        2\n",
              "4        2\n",
              "        ..\n",
              "13575    4\n",
              "13576    6\n",
              "13577    6\n",
              "13578    6\n",
              "13579    6\n",
              "Length: 13580, dtype: int8"
            ]
          },
          "metadata": {},
          "output_type": "display_data"
        }
      ],
      "source": [
        "display(melb_df['Regionname'].cat.codes)"
      ]
    },
    {
      "cell_type": "code",
      "execution_count": 31,
      "metadata": {
        "colab": {
          "base_uri": "https://localhost:8080/",
          "height": 243
        },
        "id": "yMVYIBnLlt3n",
        "outputId": "60a8d669-9dfa-4adf-9824-83c91c32f292"
      },
      "outputs": [
        {
          "data": {
            "text/plain": [
              "0        house\n",
              "1        house\n",
              "2        house\n",
              "3        house\n",
              "4        house\n",
              "         ...  \n",
              "13575    house\n",
              "13576    house\n",
              "13577    house\n",
              "13578    house\n",
              "13579    house\n",
              "Name: Type, Length: 13580, dtype: category\n",
              "Categories (3, object): ['house', 'townhouse', 'unit']"
            ]
          },
          "metadata": {},
          "output_type": "display_data"
        }
      ],
      "source": [
        "melb_df['Type'] = melb_df['Type'].cat.rename_categories({\n",
        "    'u': 'unit',\n",
        "    't': 'townhouse',\n",
        "    'h': 'house'\n",
        "})\n",
        "display(melb_df['Type'])"
      ]
    },
    {
      "cell_type": "markdown",
      "metadata": {
        "id": "_bDjmwikmC1n"
      },
      "source": [
        "ПОДВОДНЫЕ КАМНИ"
      ]
    },
    {
      "cell_type": "code",
      "execution_count": 32,
      "metadata": {
        "colab": {
          "base_uri": "https://localhost:8080/",
          "height": 139
        },
        "id": "watj_Zi6mUd1",
        "outputId": "bd1797e3-3d56-4279-b50a-fd370a3bbb93"
      },
      "outputs": [
        {
          "data": {
            "text/plain": [
              "0     unit\n",
              "1    house\n",
              "2      NaN\n",
              "3      NaN\n",
              "4    house\n",
              "dtype: category\n",
              "Categories (3, object): ['house', 'townhouse', 'unit']"
            ]
          },
          "metadata": {},
          "output_type": "display_data"
        }
      ],
      "source": [
        "new_houses_types = pd.Series(['unit', 'house', 'flat', 'flat', 'house'])\n",
        "new_houses_types = new_houses_types.astype(melb_df['Type'].dtype)\n",
        "display(new_houses_types)"
      ]
    },
    {
      "cell_type": "code",
      "execution_count": 33,
      "metadata": {
        "colab": {
          "base_uri": "https://localhost:8080/",
          "height": 139
        },
        "id": "RUsvU5nymyEG",
        "outputId": "b511bb24-147b-4fca-ebc3-303da80d5a83"
      },
      "outputs": [
        {
          "data": {
            "text/plain": [
              "0     unit\n",
              "1    house\n",
              "2     flat\n",
              "3     flat\n",
              "4    house\n",
              "dtype: category\n",
              "Categories (4, object): ['house', 'townhouse', 'unit', 'flat']"
            ]
          },
          "metadata": {},
          "output_type": "display_data"
        }
      ],
      "source": [
        "melb_df['Type'] = melb_df['Type'].cat.add_categories('flat')\n",
        "new_houses_types = pd.Series(['unit', 'house', 'flat', 'flat', 'house'])\n",
        "new_houses_types = new_houses_types.astype(melb_df['Type'].dtype)\n",
        "display(new_houses_types)"
      ]
    },
    {
      "cell_type": "markdown",
      "metadata": {
        "id": "b4I2lOQroEXW"
      },
      "source": [
        "\n",
        "\n",
        "---\n",
        "\n"
      ]
    },
    {
      "cell_type": "code",
      "execution_count": 40,
      "metadata": {
        "colab": {
          "base_uri": "https://localhost:8080/",
          "height": 555
        },
        "id": "1AujzwUprg89",
        "outputId": "af928369-ab2c-4777-ca11-db1c588f0aee"
      },
      "outputs": [
        {
          "name": "stdout",
          "output_type": "stream",
          "text": [
            "<class 'pandas.core.frame.DataFrame'>\n",
            "RangeIndex: 13580 entries, 0 to 13579\n",
            "Data columns (total 23 columns):\n",
            " #   Column         Non-Null Count  Dtype   \n",
            "---  ------         --------------  -----   \n",
            " 0   index          13580 non-null  int64   \n",
            " 1   Suburb         13580 non-null  object  \n",
            " 2   Address        13580 non-null  object  \n",
            " 3   Rooms          13580 non-null  int64   \n",
            " 4   Type           13580 non-null  category\n",
            " 5   Price          13580 non-null  float64 \n",
            " 6   Method         13580 non-null  category\n",
            " 7   SellerG        13580 non-null  object  \n",
            " 8   Date           13580 non-null  object  \n",
            " 9   Distance       13580 non-null  float64 \n",
            " 10  Postcode       13580 non-null  int64   \n",
            " 11  Bedroom        13580 non-null  int64   \n",
            " 12  Bathroom       13580 non-null  int64   \n",
            " 13  Car            13580 non-null  int64   \n",
            " 14  Landsize       13580 non-null  float64 \n",
            " 15  BuildingArea   13580 non-null  float64 \n",
            " 16  YearBuilt      13580 non-null  category\n",
            " 17  CouncilArea    12211 non-null  category\n",
            " 18  Lattitude      13580 non-null  float64 \n",
            " 19  Longtitude     13580 non-null  float64 \n",
            " 20  Regionname     13580 non-null  category\n",
            " 21  Propertycount  13580 non-null  int64   \n",
            " 22  Coordinates    13580 non-null  object  \n",
            "dtypes: category(5), float64(6), int64(7), object(5)\n",
            "memory usage: 1.9+ MB\n"
          ]
        },
        {
          "data": {
            "text/plain": [
              "None"
            ]
          },
          "metadata": {},
          "output_type": "display_data"
        }
      ],
      "source": [
        "melb_df = melb_data.copy()\n",
        "# список столбцов, которые мы не берём во внимание\n",
        "cols_to_exclude = ['Date', 'Rooms', 'Bedroom', 'Bathroom', 'Car']\n",
        "# задаём максимальное число уникальных категорий\n",
        "max_unique_count = 150\n",
        "# цикл по именам столбцов\n",
        "for col in melb_df.columns:\n",
        "    # проверяем условие\n",
        "    if melb_df[col].nunique() < max_unique_count and col not in cols_to_exclude:\n",
        "        # преобразуем тип столбца\n",
        "        melb_df[col] = melb_df[col].astype('category')\n",
        "# выводим её на экран\n",
        "display(melb_df.info())"
      ]
    },
    {
      "cell_type": "code",
      "execution_count": null,
      "metadata": {
        "id": "T1INN5OWoFVN"
      },
      "outputs": [],
      "source": [
        "# Задание 5.2\n",
        "# При преобразовании столбцов таблицы о недвижимости к типу category \n",
        "# мы оставили без внимания столбец Suburb (пригород). \n",
        "# Давайте исправим это.\n",
        "# С помощью метода info() узнайте, сколько памяти занимает таблица melb_df.\n",
        "# Преобразуйте признак Suburb следующим образом: \n",
        "# оставьте в столбце только 119 наиболее популярных пригородов, \n",
        "# остальные замените на 'other'.\n",
        "# Приведите данные в столбце Suburb к категориальному типу.\n",
        "# В качестве ответа запишите разницу между объёмом занимаемой памяти до преобразования \n",
        "# (который мы получили ранее в модуле) и после него в Мб. Ответ округлите до десятых.\n",
        "\n",
        "print()\n",
        "\n",
        "print(melb_df['Suburb'].nunique())"
      ]
    },
    {
      "cell_type": "code",
      "execution_count": 44,
      "metadata": {
        "colab": {
          "base_uri": "https://localhost:8080/"
        },
        "id": "5SCGwUJFuqAc",
        "outputId": "1e9af88f-ae10-4b20-b4ed-50c92f02429f"
      },
      "outputs": [
        {
          "data": {
            "text/plain": [
              "Index(['Reservoir', 'Richmond', 'Bentleigh East', 'Preston', 'Brunswick',\n",
              "       'Essendon', 'South Yarra', 'Glen Iris', 'Hawthorn', 'Coburg',\n",
              "       ...\n",
              "       'Albion', 'Hoppers Crossing', 'Sunbury', 'Greensborough', 'Bundoora',\n",
              "       'Hughesdale', 'Chadstone', 'Caulfield North', 'Mont Albert',\n",
              "       'Alphington'],\n",
              "      dtype='object', length=119)"
            ]
          },
          "execution_count": 44,
          "metadata": {},
          "output_type": "execute_result"
        }
      ],
      "source": [
        "cat_sbrb = melb_df['Suburb'].value_counts().nlargest(119).index\n",
        "cat_sbrb"
      ]
    },
    {
      "cell_type": "code",
      "execution_count": 46,
      "metadata": {
        "colab": {
          "base_uri": "https://localhost:8080/"
        },
        "id": "HwWzBHdRuxrM",
        "outputId": "c9f279b2-a25a-48ed-a2b3-867301e7131f"
      },
      "outputs": [
        {
          "data": {
            "text/plain": [
              "other              2181\n",
              "Reservoir           359\n",
              "Richmond            260\n",
              "Bentleigh East      249\n",
              "Preston             239\n",
              "                   ... \n",
              "Caulfield North      35\n",
              "Chadstone            35\n",
              "Hughesdale           35\n",
              "Mont Albert          34\n",
              "Alphington           34\n",
              "Name: Suburb, Length: 120, dtype: int64"
            ]
          },
          "execution_count": 46,
          "metadata": {},
          "output_type": "execute_result"
        }
      ],
      "source": [
        "melb_df['Suburb'] = melb_df['Suburb'].apply(lambda x: x if x in cat_sbrb else 'other')\n",
        "melb_df['Suburb'].value_counts()"
      ]
    },
    {
      "cell_type": "code",
      "execution_count": 50,
      "metadata": {
        "colab": {
          "base_uri": "https://localhost:8080/"
        },
        "id": "PGyhulAjtImM",
        "outputId": "3edd5102-36ed-4cbc-dc1a-caac07774e40"
      },
      "outputs": [
        {
          "name": "stdout",
          "output_type": "stream",
          "text": [
            "0          Abbotsford\n",
            "1          Abbotsford\n",
            "2          Abbotsford\n",
            "3          Abbotsford\n",
            "4          Abbotsford\n",
            "             ...     \n",
            "13575           other\n",
            "13576    Williamstown\n",
            "13577    Williamstown\n",
            "13578    Williamstown\n",
            "13579      Yarraville\n",
            "Name: Suburb, Length: 13580, dtype: category\n",
            "Categories (120, object): ['Abbotsford', 'Aberfeldie', 'Airport West', 'Albert Park', ...,\n",
            "                           'Williamstown', 'Windsor', 'Yarraville', 'other']\n",
            "<class 'pandas.core.frame.DataFrame'>\n",
            "RangeIndex: 13580 entries, 0 to 13579\n",
            "Data columns (total 23 columns):\n",
            " #   Column         Non-Null Count  Dtype   \n",
            "---  ------         --------------  -----   \n",
            " 0   index          13580 non-null  int64   \n",
            " 1   Suburb         13580 non-null  category\n",
            " 2   Address        13580 non-null  object  \n",
            " 3   Rooms          13580 non-null  int64   \n",
            " 4   Type           13580 non-null  category\n",
            " 5   Price          13580 non-null  float64 \n",
            " 6   Method         13580 non-null  category\n",
            " 7   SellerG        13580 non-null  object  \n",
            " 8   Date           13580 non-null  object  \n",
            " 9   Distance       13580 non-null  float64 \n",
            " 10  Postcode       13580 non-null  int64   \n",
            " 11  Bedroom        13580 non-null  int64   \n",
            " 12  Bathroom       13580 non-null  int64   \n",
            " 13  Car            13580 non-null  int64   \n",
            " 14  Landsize       13580 non-null  float64 \n",
            " 15  BuildingArea   13580 non-null  float64 \n",
            " 16  YearBuilt      13580 non-null  category\n",
            " 17  CouncilArea    12211 non-null  category\n",
            " 18  Lattitude      13580 non-null  float64 \n",
            " 19  Longtitude     13580 non-null  float64 \n",
            " 20  Regionname     13580 non-null  category\n",
            " 21  Propertycount  13580 non-null  int64   \n",
            " 22  Coordinates    13580 non-null  object  \n",
            "dtypes: category(6), float64(6), int64(7), object(4)\n",
            "memory usage: 1.9+ MB\n",
            "None\n"
          ]
        }
      ],
      "source": [
        "melb_df['Suburb'] = melb_df['Suburb'].astype('category')\n",
        "print(melb_df['Suburb'])\n",
        "print(melb_df.info())"
      ]
    },
    {
      "cell_type": "markdown",
      "metadata": {
        "id": "i8mA67cU3ut9"
      },
      "source": [
        "\n",
        "\n",
        "---\n",
        "\n",
        "# 6. Закрепление знаний"
      ]
    },
    {
      "cell_type": "code",
      "execution_count": null,
      "metadata": {
        "id": "m7GkUW6bILNx"
      },
      "outputs": [],
      "source": [
        "import pandas as pd\n",
        "url = 'https://drive.google.com/file/d/1ERm5SXJBx4dg6FBWnzTzeNl5lVHjqurY/view'\n",
        "url='https://drive.google.com/uc?id=' + url.split('/')[-2]\n",
        "df = pd.read_csv(url)\n",
        "df"
      ]
    },
    {
      "cell_type": "code",
      "execution_count": 64,
      "metadata": {
        "colab": {
          "base_uri": "https://localhost:8080/",
          "height": 835
        },
        "id": "uaqOsIqZJrhq",
        "outputId": "3659b43c-8c63-4221-fbe3-d40b177578ec"
      },
      "outputs": [
        {
          "data": {
            "text/html": [
              "\n",
              "  <div id=\"df-70726014-33af-46c8-91b4-4c8e004cdece\">\n",
              "    <div class=\"colab-df-container\">\n",
              "      <div>\n",
              "<style scoped>\n",
              "    .dataframe tbody tr th:only-of-type {\n",
              "        vertical-align: middle;\n",
              "    }\n",
              "\n",
              "    .dataframe tbody tr th {\n",
              "        vertical-align: top;\n",
              "    }\n",
              "\n",
              "    .dataframe thead th {\n",
              "        text-align: right;\n",
              "    }\n",
              "</style>\n",
              "<table border=\"1\" class=\"dataframe\">\n",
              "  <thead>\n",
              "    <tr style=\"text-align: right;\">\n",
              "      <th></th>\n",
              "      <th>starttime</th>\n",
              "      <th>stoptime</th>\n",
              "      <th>start station id</th>\n",
              "      <th>start station name</th>\n",
              "      <th>start station latitude</th>\n",
              "      <th>start station longitude</th>\n",
              "      <th>end station id</th>\n",
              "      <th>end station name</th>\n",
              "      <th>end station latitude</th>\n",
              "      <th>end station longitude</th>\n",
              "      <th>bikeid</th>\n",
              "      <th>usertype</th>\n",
              "      <th>birth year</th>\n",
              "      <th>gender</th>\n",
              "    </tr>\n",
              "  </thead>\n",
              "  <tbody>\n",
              "    <tr>\n",
              "      <th>0</th>\n",
              "      <td>2018-09-01 00:00:05.2690</td>\n",
              "      <td>2018-09-01 00:27:20.6340</td>\n",
              "      <td>252.0</td>\n",
              "      <td>MacDougal St &amp; Washington Sq</td>\n",
              "      <td>40.732264</td>\n",
              "      <td>-73.998522</td>\n",
              "      <td>366.0</td>\n",
              "      <td>Clinton Ave &amp; Myrtle Ave</td>\n",
              "      <td>40.693261</td>\n",
              "      <td>-73.968896</td>\n",
              "      <td>25577</td>\n",
              "      <td>Subscriber</td>\n",
              "      <td>1980</td>\n",
              "      <td>1</td>\n",
              "    </tr>\n",
              "    <tr>\n",
              "      <th>1</th>\n",
              "      <td>2018-09-01 00:00:11.2810</td>\n",
              "      <td>2018-09-01 00:02:23.4810</td>\n",
              "      <td>314.0</td>\n",
              "      <td>Cadman Plaza West &amp; Montague St</td>\n",
              "      <td>40.693830</td>\n",
              "      <td>-73.990539</td>\n",
              "      <td>3242.0</td>\n",
              "      <td>Schermerhorn St &amp; Court St</td>\n",
              "      <td>40.691029</td>\n",
              "      <td>-73.991834</td>\n",
              "      <td>34377</td>\n",
              "      <td>Subscriber</td>\n",
              "      <td>1969</td>\n",
              "      <td>0</td>\n",
              "    </tr>\n",
              "    <tr>\n",
              "      <th>2</th>\n",
              "      <td>2018-09-01 00:00:20.6490</td>\n",
              "      <td>2018-09-01 00:55:58.5470</td>\n",
              "      <td>3142.0</td>\n",
              "      <td>1 Ave &amp; E 62 St</td>\n",
              "      <td>40.761227</td>\n",
              "      <td>-73.960940</td>\n",
              "      <td>3384.0</td>\n",
              "      <td>Smith St &amp; 3 St</td>\n",
              "      <td>40.678724</td>\n",
              "      <td>-73.995991</td>\n",
              "      <td>30496</td>\n",
              "      <td>Subscriber</td>\n",
              "      <td>1975</td>\n",
              "      <td>1</td>\n",
              "    </tr>\n",
              "    <tr>\n",
              "      <th>3</th>\n",
              "      <td>2018-09-01 00:00:21.7460</td>\n",
              "      <td>2018-09-01 00:07:38.5830</td>\n",
              "      <td>308.0</td>\n",
              "      <td>St James Pl &amp; Oliver St</td>\n",
              "      <td>40.713079</td>\n",
              "      <td>-73.998512</td>\n",
              "      <td>3690.0</td>\n",
              "      <td>Park Pl &amp; Church St</td>\n",
              "      <td>40.713342</td>\n",
              "      <td>-74.009355</td>\n",
              "      <td>28866</td>\n",
              "      <td>Subscriber</td>\n",
              "      <td>1984</td>\n",
              "      <td>2</td>\n",
              "    </tr>\n",
              "    <tr>\n",
              "      <th>4</th>\n",
              "      <td>2018-09-01 00:00:27.3150</td>\n",
              "      <td>2018-09-01 02:21:25.3080</td>\n",
              "      <td>345.0</td>\n",
              "      <td>W 13 St &amp; 6 Ave</td>\n",
              "      <td>40.736494</td>\n",
              "      <td>-73.997044</td>\n",
              "      <td>380.0</td>\n",
              "      <td>W 4 St &amp; 7 Ave S</td>\n",
              "      <td>40.734011</td>\n",
              "      <td>-74.002939</td>\n",
              "      <td>20943</td>\n",
              "      <td>Customer</td>\n",
              "      <td>1994</td>\n",
              "      <td>1</td>\n",
              "    </tr>\n",
              "    <tr>\n",
              "      <th>...</th>\n",
              "      <td>...</td>\n",
              "      <td>...</td>\n",
              "      <td>...</td>\n",
              "      <td>...</td>\n",
              "      <td>...</td>\n",
              "      <td>...</td>\n",
              "      <td>...</td>\n",
              "      <td>...</td>\n",
              "      <td>...</td>\n",
              "      <td>...</td>\n",
              "      <td>...</td>\n",
              "      <td>...</td>\n",
              "      <td>...</td>\n",
              "      <td>...</td>\n",
              "    </tr>\n",
              "    <tr>\n",
              "      <th>299995</th>\n",
              "      <td>2018-09-05 19:08:27.8460</td>\n",
              "      <td>2018-09-05 19:15:51.4940</td>\n",
              "      <td>494.0</td>\n",
              "      <td>W 26 St &amp; 8 Ave</td>\n",
              "      <td>40.747348</td>\n",
              "      <td>-73.997236</td>\n",
              "      <td>448.0</td>\n",
              "      <td>W 37 St &amp; 10 Ave</td>\n",
              "      <td>40.756604</td>\n",
              "      <td>-73.997901</td>\n",
              "      <td>19531</td>\n",
              "      <td>Subscriber</td>\n",
              "      <td>1990</td>\n",
              "      <td>2</td>\n",
              "    </tr>\n",
              "    <tr>\n",
              "      <th>299996</th>\n",
              "      <td>2018-09-05 19:08:28.3700</td>\n",
              "      <td>2018-09-05 19:20:01.5080</td>\n",
              "      <td>3016.0</td>\n",
              "      <td>Kent Ave &amp; N 7 St</td>\n",
              "      <td>40.720368</td>\n",
              "      <td>-73.961651</td>\n",
              "      <td>3086.0</td>\n",
              "      <td>Graham Ave &amp; Conselyea St</td>\n",
              "      <td>40.715143</td>\n",
              "      <td>-73.944507</td>\n",
              "      <td>34020</td>\n",
              "      <td>Subscriber</td>\n",
              "      <td>1982</td>\n",
              "      <td>1</td>\n",
              "    </tr>\n",
              "    <tr>\n",
              "      <th>299997</th>\n",
              "      <td>2018-09-05 19:08:27.5090</td>\n",
              "      <td>2018-09-05 19:13:40.5060</td>\n",
              "      <td>3686.0</td>\n",
              "      <td>Gansevoort St &amp; Hudson St</td>\n",
              "      <td>40.739448</td>\n",
              "      <td>-74.005070</td>\n",
              "      <td>168.0</td>\n",
              "      <td>W 18 St &amp; 6 Ave</td>\n",
              "      <td>40.739713</td>\n",
              "      <td>-73.994564</td>\n",
              "      <td>33220</td>\n",
              "      <td>Subscriber</td>\n",
              "      <td>1991</td>\n",
              "      <td>1</td>\n",
              "    </tr>\n",
              "    <tr>\n",
              "      <th>299998</th>\n",
              "      <td>2018-09-05 19:08:29.2300</td>\n",
              "      <td>2018-09-05 20:04:29.3220</td>\n",
              "      <td>254.0</td>\n",
              "      <td>W 11 St &amp; 6 Ave</td>\n",
              "      <td>40.735324</td>\n",
              "      <td>-73.998004</td>\n",
              "      <td>499.0</td>\n",
              "      <td>Broadway &amp; W 60 St</td>\n",
              "      <td>40.769155</td>\n",
              "      <td>-73.981918</td>\n",
              "      <td>34744</td>\n",
              "      <td>Subscriber</td>\n",
              "      <td>1975</td>\n",
              "      <td>0</td>\n",
              "    </tr>\n",
              "    <tr>\n",
              "      <th>299999</th>\n",
              "      <td>2018-09-05 19:08:29.7110</td>\n",
              "      <td>2018-09-05 19:12:14.7620</td>\n",
              "      <td>3496.0</td>\n",
              "      <td>1 Ave &amp; E 110 St</td>\n",
              "      <td>40.792327</td>\n",
              "      <td>-73.938300</td>\n",
              "      <td>3502.0</td>\n",
              "      <td>Lexington Ave &amp; E 111 St</td>\n",
              "      <td>40.795412</td>\n",
              "      <td>-73.944123</td>\n",
              "      <td>18292</td>\n",
              "      <td>Subscriber</td>\n",
              "      <td>1966</td>\n",
              "      <td>1</td>\n",
              "    </tr>\n",
              "  </tbody>\n",
              "</table>\n",
              "<p>300000 rows × 14 columns</p>\n",
              "</div>\n",
              "      <button class=\"colab-df-convert\" onclick=\"convertToInteractive('df-70726014-33af-46c8-91b4-4c8e004cdece')\"\n",
              "              title=\"Convert this dataframe to an interactive table.\"\n",
              "              style=\"display:none;\">\n",
              "        \n",
              "  <svg xmlns=\"http://www.w3.org/2000/svg\" height=\"24px\"viewBox=\"0 0 24 24\"\n",
              "       width=\"24px\">\n",
              "    <path d=\"M0 0h24v24H0V0z\" fill=\"none\"/>\n",
              "    <path d=\"M18.56 5.44l.94 2.06.94-2.06 2.06-.94-2.06-.94-.94-2.06-.94 2.06-2.06.94zm-11 1L8.5 8.5l.94-2.06 2.06-.94-2.06-.94L8.5 2.5l-.94 2.06-2.06.94zm10 10l.94 2.06.94-2.06 2.06-.94-2.06-.94-.94-2.06-.94 2.06-2.06.94z\"/><path d=\"M17.41 7.96l-1.37-1.37c-.4-.4-.92-.59-1.43-.59-.52 0-1.04.2-1.43.59L10.3 9.45l-7.72 7.72c-.78.78-.78 2.05 0 2.83L4 21.41c.39.39.9.59 1.41.59.51 0 1.02-.2 1.41-.59l7.78-7.78 2.81-2.81c.8-.78.8-2.07 0-2.86zM5.41 20L4 18.59l7.72-7.72 1.47 1.35L5.41 20z\"/>\n",
              "  </svg>\n",
              "      </button>\n",
              "      \n",
              "  <style>\n",
              "    .colab-df-container {\n",
              "      display:flex;\n",
              "      flex-wrap:wrap;\n",
              "      gap: 12px;\n",
              "    }\n",
              "\n",
              "    .colab-df-convert {\n",
              "      background-color: #E8F0FE;\n",
              "      border: none;\n",
              "      border-radius: 50%;\n",
              "      cursor: pointer;\n",
              "      display: none;\n",
              "      fill: #1967D2;\n",
              "      height: 32px;\n",
              "      padding: 0 0 0 0;\n",
              "      width: 32px;\n",
              "    }\n",
              "\n",
              "    .colab-df-convert:hover {\n",
              "      background-color: #E2EBFA;\n",
              "      box-shadow: 0px 1px 2px rgba(60, 64, 67, 0.3), 0px 1px 3px 1px rgba(60, 64, 67, 0.15);\n",
              "      fill: #174EA6;\n",
              "    }\n",
              "\n",
              "    [theme=dark] .colab-df-convert {\n",
              "      background-color: #3B4455;\n",
              "      fill: #D2E3FC;\n",
              "    }\n",
              "\n",
              "    [theme=dark] .colab-df-convert:hover {\n",
              "      background-color: #434B5C;\n",
              "      box-shadow: 0px 1px 3px 1px rgba(0, 0, 0, 0.15);\n",
              "      filter: drop-shadow(0px 1px 2px rgba(0, 0, 0, 0.3));\n",
              "      fill: #FFFFFF;\n",
              "    }\n",
              "  </style>\n",
              "\n",
              "      <script>\n",
              "        const buttonEl =\n",
              "          document.querySelector('#df-70726014-33af-46c8-91b4-4c8e004cdece button.colab-df-convert');\n",
              "        buttonEl.style.display =\n",
              "          google.colab.kernel.accessAllowed ? 'block' : 'none';\n",
              "\n",
              "        async function convertToInteractive(key) {\n",
              "          const element = document.querySelector('#df-70726014-33af-46c8-91b4-4c8e004cdece');\n",
              "          const dataTable =\n",
              "            await google.colab.kernel.invokeFunction('convertToInteractive',\n",
              "                                                     [key], {});\n",
              "          if (!dataTable) return;\n",
              "\n",
              "          const docLinkHtml = 'Like what you see? Visit the ' +\n",
              "            '<a target=\"_blank\" href=https://colab.research.google.com/notebooks/data_table.ipynb>data table notebook</a>'\n",
              "            + ' to learn more about interactive tables.';\n",
              "          element.innerHTML = '';\n",
              "          dataTable['output_type'] = 'display_data';\n",
              "          await google.colab.output.renderOutput(dataTable, element);\n",
              "          const docLink = document.createElement('div');\n",
              "          docLink.innerHTML = docLinkHtml;\n",
              "          element.appendChild(docLink);\n",
              "        }\n",
              "      </script>\n",
              "    </div>\n",
              "  </div>\n",
              "  "
            ],
            "text/plain": [
              "                       starttime                  stoptime  start station id  \\\n",
              "0       2018-09-01 00:00:05.2690  2018-09-01 00:27:20.6340             252.0   \n",
              "1       2018-09-01 00:00:11.2810  2018-09-01 00:02:23.4810             314.0   \n",
              "2       2018-09-01 00:00:20.6490  2018-09-01 00:55:58.5470            3142.0   \n",
              "3       2018-09-01 00:00:21.7460  2018-09-01 00:07:38.5830             308.0   \n",
              "4       2018-09-01 00:00:27.3150  2018-09-01 02:21:25.3080             345.0   \n",
              "...                          ...                       ...               ...   \n",
              "299995  2018-09-05 19:08:27.8460  2018-09-05 19:15:51.4940             494.0   \n",
              "299996  2018-09-05 19:08:28.3700  2018-09-05 19:20:01.5080            3016.0   \n",
              "299997  2018-09-05 19:08:27.5090  2018-09-05 19:13:40.5060            3686.0   \n",
              "299998  2018-09-05 19:08:29.2300  2018-09-05 20:04:29.3220             254.0   \n",
              "299999  2018-09-05 19:08:29.7110  2018-09-05 19:12:14.7620            3496.0   \n",
              "\n",
              "                     start station name  start station latitude  \\\n",
              "0          MacDougal St & Washington Sq               40.732264   \n",
              "1       Cadman Plaza West & Montague St               40.693830   \n",
              "2                       1 Ave & E 62 St               40.761227   \n",
              "3               St James Pl & Oliver St               40.713079   \n",
              "4                       W 13 St & 6 Ave               40.736494   \n",
              "...                                 ...                     ...   \n",
              "299995                  W 26 St & 8 Ave               40.747348   \n",
              "299996                Kent Ave & N 7 St               40.720368   \n",
              "299997        Gansevoort St & Hudson St               40.739448   \n",
              "299998                  W 11 St & 6 Ave               40.735324   \n",
              "299999                 1 Ave & E 110 St               40.792327   \n",
              "\n",
              "        start station longitude  end station id            end station name  \\\n",
              "0                    -73.998522           366.0    Clinton Ave & Myrtle Ave   \n",
              "1                    -73.990539          3242.0  Schermerhorn St & Court St   \n",
              "2                    -73.960940          3384.0             Smith St & 3 St   \n",
              "3                    -73.998512          3690.0         Park Pl & Church St   \n",
              "4                    -73.997044           380.0            W 4 St & 7 Ave S   \n",
              "...                         ...             ...                         ...   \n",
              "299995               -73.997236           448.0            W 37 St & 10 Ave   \n",
              "299996               -73.961651          3086.0   Graham Ave & Conselyea St   \n",
              "299997               -74.005070           168.0             W 18 St & 6 Ave   \n",
              "299998               -73.998004           499.0          Broadway & W 60 St   \n",
              "299999               -73.938300          3502.0    Lexington Ave & E 111 St   \n",
              "\n",
              "        end station latitude  end station longitude  bikeid    usertype  \\\n",
              "0                  40.693261             -73.968896   25577  Subscriber   \n",
              "1                  40.691029             -73.991834   34377  Subscriber   \n",
              "2                  40.678724             -73.995991   30496  Subscriber   \n",
              "3                  40.713342             -74.009355   28866  Subscriber   \n",
              "4                  40.734011             -74.002939   20943    Customer   \n",
              "...                      ...                    ...     ...         ...   \n",
              "299995             40.756604             -73.997901   19531  Subscriber   \n",
              "299996             40.715143             -73.944507   34020  Subscriber   \n",
              "299997             40.739713             -73.994564   33220  Subscriber   \n",
              "299998             40.769155             -73.981918   34744  Subscriber   \n",
              "299999             40.795412             -73.944123   18292  Subscriber   \n",
              "\n",
              "        birth year  gender  \n",
              "0             1980       1  \n",
              "1             1969       0  \n",
              "2             1975       1  \n",
              "3             1984       2  \n",
              "4             1994       1  \n",
              "...            ...     ...  \n",
              "299995        1990       2  \n",
              "299996        1982       1  \n",
              "299997        1991       1  \n",
              "299998        1975       0  \n",
              "299999        1966       1  \n",
              "\n",
              "[300000 rows x 14 columns]"
            ]
          },
          "execution_count": 64,
          "metadata": {},
          "output_type": "execute_result"
        }
      ],
      "source": [
        "bike_data = pd.read_csv('/content/sample_data/citibike-tripdata.csv', sep = ',')\n",
        "df_bike = bike_data.copy()\n",
        "df_bike"
      ]
    },
    {
      "cell_type": "code",
      "execution_count": null,
      "metadata": {
        "id": "ELYigXG6Nui8"
      },
      "outputs": [],
      "source": [
        "# starttime — время начала поездки (дата, время);\n",
        "# stoptime — время окончания поездки (дата, время);\n",
        "# start station id — идентификатор стартовой стоянки;\n",
        "# start station name — название стартовой стоянки;\n",
        "# start station latitude, start station longitude — географическая широта и долгота стартовой стоянки;\n",
        "# end station id — идентификатор конечной стоянки;\n",
        "# end station name — название конечной стоянки;\n",
        "# end station latitude, end station longitude — географическая широта и долгота конечной стоянки;\n",
        "# bikeid — идентификатор велосипеда;\n",
        "# usertype — тип пользователя (Customer — клиент с подпиской на 24 часа или на три дня, Subscriber — подписчик с годовой арендой велосипеда);\n",
        "# birth year — год рождения клиента;\n",
        "# gender — пол клиента (0 — неизвестный, 1 — мужчина, 2 — женщина)."
      ]
    },
    {
      "cell_type": "code",
      "execution_count": 63,
      "metadata": {
        "colab": {
          "base_uri": "https://localhost:8080/"
        },
        "id": "gErly0iqL3Sh",
        "outputId": "d1e77f2f-3956-4292-c7f0-0375b88f09b3"
      },
      "outputs": [
        {
          "data": {
            "text/plain": [
              "169"
            ]
          },
          "execution_count": 63,
          "metadata": {},
          "output_type": "execute_result"
        }
      ],
      "source": [
        "# Задание 6.1\n",
        "# Сколько пропусков в столбце start station id?\n",
        "df_bike['start station id'].isna().sum()"
      ]
    },
    {
      "cell_type": "code",
      "execution_count": 62,
      "metadata": {
        "colab": {
          "base_uri": "https://localhost:8080/"
        },
        "id": "7X86mu3_MN-R",
        "outputId": "8adbffa0-cd52-4111-ee13-e3bdfb5626a4"
      },
      "outputs": [
        {
          "name": "stdout",
          "output_type": "stream",
          "text": [
            "<class 'pandas.core.frame.DataFrame'>\n",
            "RangeIndex: 300000 entries, 0 to 299999\n",
            "Data columns (total 14 columns):\n",
            " #   Column                   Non-Null Count   Dtype  \n",
            "---  ------                   --------------   -----  \n",
            " 0   starttime                300000 non-null  object \n",
            " 1   stoptime                 300000 non-null  object \n",
            " 2   start station id         299831 non-null  float64\n",
            " 3   start station name       299831 non-null  object \n",
            " 4   start station latitude   300000 non-null  float64\n",
            " 5   start station longitude  300000 non-null  float64\n",
            " 6   end station id           299831 non-null  float64\n",
            " 7   end station name         299831 non-null  object \n",
            " 8   end station latitude     300000 non-null  float64\n",
            " 9   end station longitude    300000 non-null  float64\n",
            " 10  bikeid                   300000 non-null  int64  \n",
            " 11  usertype                 300000 non-null  object \n",
            " 12  birth year               300000 non-null  int64  \n",
            " 13  gender                   300000 non-null  int64  \n",
            "dtypes: float64(6), int64(3), object(5)\n",
            "memory usage: 32.0+ MB\n"
          ]
        }
      ],
      "source": [
        "# Задание 6.2\n",
        "# Какой тип данных имеют столбцы starttime и stoptime?\n",
        "df_bike.info()"
      ]
    },
    {
      "cell_type": "code",
      "execution_count": null,
      "metadata": {
        "id": "4ypMBRm3Mdgo"
      },
      "outputs": [],
      "source": [
        "# Задание 6.3\n",
        "# Найдите идентификатор самой популярной стартовой стоянки. \n",
        "# Запишите идентификатор в виде целого числа.\n",
        "df_bike['start station id'].mode()[0]"
      ]
    },
    {
      "cell_type": "code",
      "execution_count": 66,
      "metadata": {
        "colab": {
          "base_uri": "https://localhost:8080/"
        },
        "id": "-wAmupK0N5Po",
        "outputId": "538f7c27-69e3-4a5f-e617-684b7e2b1fd9"
      },
      "outputs": [
        {
          "data": {
            "text/plain": [
              "0    33887\n",
              "dtype: int64"
            ]
          },
          "execution_count": 66,
          "metadata": {},
          "output_type": "execute_result"
        }
      ],
      "source": [
        "# Задание 6.4\n",
        "# Велосипед с каким идентификатором является самым популярным?\n",
        "df_bike['bikeid'].mode()[0]"
      ]
    },
    {
      "cell_type": "code",
      "execution_count": 69,
      "metadata": {
        "colab": {
          "base_uri": "https://localhost:8080/"
        },
        "id": "m37XBM2NOKMQ",
        "outputId": "6f6e7c9c-6496-436b-e6cb-e8db8b6828a1"
      },
      "outputs": [
        {
          "data": {
            "text/plain": [
              "Subscriber    0.77\n",
              "Customer      0.23\n",
              "Name: usertype, dtype: float64"
            ]
          },
          "execution_count": 69,
          "metadata": {},
          "output_type": "execute_result"
        }
      ],
      "source": [
        "# Задание 6.5\n",
        "# Какой тип клиентов (столбец usertype) является преобладающим — Subscriber или Customer? \n",
        "# В качестве ответа запишите долю клиентов преобладающего типа среди общего количества клиентов. \n",
        "# Ответ округлите до сотых.\n",
        "df_bike['usertype'].value_counts(normalize=True).round(2)"
      ]
    },
    {
      "cell_type": "code",
      "execution_count": 71,
      "metadata": {
        "colab": {
          "base_uri": "https://localhost:8080/"
        },
        "id": "iMHOJwmfPX-H",
        "outputId": "1e218d6c-a8ac-4fa1-a089-21679b1df762"
      },
      "outputs": [
        {
          "data": {
            "text/plain": [
              "1    183582\n",
              "2     74506\n",
              "0     41912\n",
              "Name: gender, dtype: int64"
            ]
          },
          "execution_count": 71,
          "metadata": {},
          "output_type": "execute_result"
        }
      ],
      "source": [
        "# Задание 6.6\n",
        "# Кто больше занимается велоспортом — мужчины или женщины? \n",
        "# В ответ запишите число поездок для той группы, у которой их больше.\n",
        "df_bike['gender'].value_counts()"
      ]
    },
    {
      "cell_type": "code",
      "execution_count": 131,
      "metadata": {
        "colab": {
          "base_uri": "https://localhost:8080/"
        },
        "id": "wcqbUPVutQc_",
        "outputId": "6a2c762d-fa83-4dfe-dbac-81677c6dea6a"
      },
      "outputs": [
        {
          "name": "stdout",
          "output_type": "stream",
          "text": [
            "183582\n"
          ]
        }
      ],
      "source": [
        "male_count = df_bike[df_bike['gender'] == 1].shape[0]\n",
        "female_count = df_bike[df_bike['gender'] == 0].shape[0]\n",
        "print(max([male_count, female_count]))"
      ]
    },
    {
      "cell_type": "code",
      "execution_count": 83,
      "metadata": {
        "colab": {
          "base_uri": "https://localhost:8080/",
          "height": 399
        },
        "id": "T_bKtTpLS95n",
        "outputId": "524a1821-dd3f-4925-df87-62c2a98b86ff"
      },
      "outputs": [
        {
          "data": {
            "text/html": [
              "\n",
              "  <div id=\"df-1485350a-6470-4cad-ade6-60de4d551f6c\">\n",
              "    <div class=\"colab-df-container\">\n",
              "      <div>\n",
              "<style scoped>\n",
              "    .dataframe tbody tr th:only-of-type {\n",
              "        vertical-align: middle;\n",
              "    }\n",
              "\n",
              "    .dataframe tbody tr th {\n",
              "        vertical-align: top;\n",
              "    }\n",
              "\n",
              "    .dataframe thead th {\n",
              "        text-align: right;\n",
              "    }\n",
              "</style>\n",
              "<table border=\"1\" class=\"dataframe\">\n",
              "  <thead>\n",
              "    <tr style=\"text-align: right;\">\n",
              "      <th></th>\n",
              "      <th>start station id</th>\n",
              "      <th>start station latitude</th>\n",
              "      <th>start station longitude</th>\n",
              "      <th>end station id</th>\n",
              "      <th>end station latitude</th>\n",
              "      <th>end station longitude</th>\n",
              "      <th>bikeid</th>\n",
              "      <th>birth year</th>\n",
              "      <th>gender</th>\n",
              "    </tr>\n",
              "  </thead>\n",
              "  <tbody>\n",
              "    <tr>\n",
              "      <th>count</th>\n",
              "      <td>299831.000000</td>\n",
              "      <td>300000.000000</td>\n",
              "      <td>300000.000000</td>\n",
              "      <td>299831.000000</td>\n",
              "      <td>300000.000000</td>\n",
              "      <td>300000.000000</td>\n",
              "      <td>300000.000000</td>\n",
              "      <td>300000.000000</td>\n",
              "      <td>300000.000000</td>\n",
              "    </tr>\n",
              "    <tr>\n",
              "      <th>mean</th>\n",
              "      <td>1695.665665</td>\n",
              "      <td>40.737769</td>\n",
              "      <td>-73.982042</td>\n",
              "      <td>1684.624298</td>\n",
              "      <td>40.737294</td>\n",
              "      <td>-73.982330</td>\n",
              "      <td>26688.525943</td>\n",
              "      <td>1979.364803</td>\n",
              "      <td>1.108647</td>\n",
              "    </tr>\n",
              "    <tr>\n",
              "      <th>std</th>\n",
              "      <td>1458.264055</td>\n",
              "      <td>0.031999</td>\n",
              "      <td>0.020207</td>\n",
              "      <td>1457.549589</td>\n",
              "      <td>0.031794</td>\n",
              "      <td>0.020261</td>\n",
              "      <td>6271.691143</td>\n",
              "      <td>11.920796</td>\n",
              "      <td>0.613398</td>\n",
              "    </tr>\n",
              "    <tr>\n",
              "      <th>min</th>\n",
              "      <td>72.000000</td>\n",
              "      <td>40.655400</td>\n",
              "      <td>-74.025353</td>\n",
              "      <td>72.000000</td>\n",
              "      <td>40.655400</td>\n",
              "      <td>-74.083639</td>\n",
              "      <td>14529.000000</td>\n",
              "      <td>1885.000000</td>\n",
              "      <td>0.000000</td>\n",
              "    </tr>\n",
              "    <tr>\n",
              "      <th>25%</th>\n",
              "      <td>387.000000</td>\n",
              "      <td>40.716226</td>\n",
              "      <td>-73.995991</td>\n",
              "      <td>387.000000</td>\n",
              "      <td>40.716059</td>\n",
              "      <td>-73.996621</td>\n",
              "      <td>20569.000000</td>\n",
              "      <td>1969.000000</td>\n",
              "      <td>1.000000</td>\n",
              "    </tr>\n",
              "    <tr>\n",
              "      <th>50%</th>\n",
              "      <td>519.000000</td>\n",
              "      <td>40.737262</td>\n",
              "      <td>-73.985162</td>\n",
              "      <td>519.000000</td>\n",
              "      <td>40.737050</td>\n",
              "      <td>-73.985649</td>\n",
              "      <td>28197.000000</td>\n",
              "      <td>1982.000000</td>\n",
              "      <td>1.000000</td>\n",
              "    </tr>\n",
              "    <tr>\n",
              "      <th>75%</th>\n",
              "      <td>3282.000000</td>\n",
              "      <td>40.760683</td>\n",
              "      <td>-73.970416</td>\n",
              "      <td>3282.000000</td>\n",
              "      <td>40.760094</td>\n",
              "      <td>-73.971092</td>\n",
              "      <td>32216.000000</td>\n",
              "      <td>1989.000000</td>\n",
              "      <td>1.000000</td>\n",
              "    </tr>\n",
              "    <tr>\n",
              "      <th>max</th>\n",
              "      <td>3705.000000</td>\n",
              "      <td>40.869000</td>\n",
              "      <td>-73.878000</td>\n",
              "      <td>3705.000000</td>\n",
              "      <td>40.869000</td>\n",
              "      <td>-73.878000</td>\n",
              "      <td>34863.000000</td>\n",
              "      <td>2002.000000</td>\n",
              "      <td>2.000000</td>\n",
              "    </tr>\n",
              "  </tbody>\n",
              "</table>\n",
              "</div>\n",
              "      <button class=\"colab-df-convert\" onclick=\"convertToInteractive('df-1485350a-6470-4cad-ade6-60de4d551f6c')\"\n",
              "              title=\"Convert this dataframe to an interactive table.\"\n",
              "              style=\"display:none;\">\n",
              "        \n",
              "  <svg xmlns=\"http://www.w3.org/2000/svg\" height=\"24px\"viewBox=\"0 0 24 24\"\n",
              "       width=\"24px\">\n",
              "    <path d=\"M0 0h24v24H0V0z\" fill=\"none\"/>\n",
              "    <path d=\"M18.56 5.44l.94 2.06.94-2.06 2.06-.94-2.06-.94-.94-2.06-.94 2.06-2.06.94zm-11 1L8.5 8.5l.94-2.06 2.06-.94-2.06-.94L8.5 2.5l-.94 2.06-2.06.94zm10 10l.94 2.06.94-2.06 2.06-.94-2.06-.94-.94-2.06-.94 2.06-2.06.94z\"/><path d=\"M17.41 7.96l-1.37-1.37c-.4-.4-.92-.59-1.43-.59-.52 0-1.04.2-1.43.59L10.3 9.45l-7.72 7.72c-.78.78-.78 2.05 0 2.83L4 21.41c.39.39.9.59 1.41.59.51 0 1.02-.2 1.41-.59l7.78-7.78 2.81-2.81c.8-.78.8-2.07 0-2.86zM5.41 20L4 18.59l7.72-7.72 1.47 1.35L5.41 20z\"/>\n",
              "  </svg>\n",
              "      </button>\n",
              "      \n",
              "  <style>\n",
              "    .colab-df-container {\n",
              "      display:flex;\n",
              "      flex-wrap:wrap;\n",
              "      gap: 12px;\n",
              "    }\n",
              "\n",
              "    .colab-df-convert {\n",
              "      background-color: #E8F0FE;\n",
              "      border: none;\n",
              "      border-radius: 50%;\n",
              "      cursor: pointer;\n",
              "      display: none;\n",
              "      fill: #1967D2;\n",
              "      height: 32px;\n",
              "      padding: 0 0 0 0;\n",
              "      width: 32px;\n",
              "    }\n",
              "\n",
              "    .colab-df-convert:hover {\n",
              "      background-color: #E2EBFA;\n",
              "      box-shadow: 0px 1px 2px rgba(60, 64, 67, 0.3), 0px 1px 3px 1px rgba(60, 64, 67, 0.15);\n",
              "      fill: #174EA6;\n",
              "    }\n",
              "\n",
              "    [theme=dark] .colab-df-convert {\n",
              "      background-color: #3B4455;\n",
              "      fill: #D2E3FC;\n",
              "    }\n",
              "\n",
              "    [theme=dark] .colab-df-convert:hover {\n",
              "      background-color: #434B5C;\n",
              "      box-shadow: 0px 1px 3px 1px rgba(0, 0, 0, 0.15);\n",
              "      filter: drop-shadow(0px 1px 2px rgba(0, 0, 0, 0.3));\n",
              "      fill: #FFFFFF;\n",
              "    }\n",
              "  </style>\n",
              "\n",
              "      <script>\n",
              "        const buttonEl =\n",
              "          document.querySelector('#df-1485350a-6470-4cad-ade6-60de4d551f6c button.colab-df-convert');\n",
              "        buttonEl.style.display =\n",
              "          google.colab.kernel.accessAllowed ? 'block' : 'none';\n",
              "\n",
              "        async function convertToInteractive(key) {\n",
              "          const element = document.querySelector('#df-1485350a-6470-4cad-ade6-60de4d551f6c');\n",
              "          const dataTable =\n",
              "            await google.colab.kernel.invokeFunction('convertToInteractive',\n",
              "                                                     [key], {});\n",
              "          if (!dataTable) return;\n",
              "\n",
              "          const docLinkHtml = 'Like what you see? Visit the ' +\n",
              "            '<a target=\"_blank\" href=https://colab.research.google.com/notebooks/data_table.ipynb>data table notebook</a>'\n",
              "            + ' to learn more about interactive tables.';\n",
              "          element.innerHTML = '';\n",
              "          dataTable['output_type'] = 'display_data';\n",
              "          await google.colab.output.renderOutput(dataTable, element);\n",
              "          const docLink = document.createElement('div');\n",
              "          docLink.innerHTML = docLinkHtml;\n",
              "          element.appendChild(docLink);\n",
              "        }\n",
              "      </script>\n",
              "    </div>\n",
              "  </div>\n",
              "  "
            ],
            "text/plain": [
              "       start station id  start station latitude  start station longitude  \\\n",
              "count     299831.000000           300000.000000            300000.000000   \n",
              "mean        1695.665665               40.737769               -73.982042   \n",
              "std         1458.264055                0.031999                 0.020207   \n",
              "min           72.000000               40.655400               -74.025353   \n",
              "25%          387.000000               40.716226               -73.995991   \n",
              "50%          519.000000               40.737262               -73.985162   \n",
              "75%         3282.000000               40.760683               -73.970416   \n",
              "max         3705.000000               40.869000               -73.878000   \n",
              "\n",
              "       end station id  end station latitude  end station longitude  \\\n",
              "count   299831.000000         300000.000000          300000.000000   \n",
              "mean      1684.624298             40.737294             -73.982330   \n",
              "std       1457.549589              0.031794               0.020261   \n",
              "min         72.000000             40.655400             -74.083639   \n",
              "25%        387.000000             40.716059             -73.996621   \n",
              "50%        519.000000             40.737050             -73.985649   \n",
              "75%       3282.000000             40.760094             -73.971092   \n",
              "max       3705.000000             40.869000             -73.878000   \n",
              "\n",
              "              bikeid     birth year         gender  \n",
              "count  300000.000000  300000.000000  300000.000000  \n",
              "mean    26688.525943    1979.364803       1.108647  \n",
              "std      6271.691143      11.920796       0.613398  \n",
              "min     14529.000000    1885.000000       0.000000  \n",
              "25%     20569.000000    1969.000000       1.000000  \n",
              "50%     28197.000000    1982.000000       1.000000  \n",
              "75%     32216.000000    1989.000000       1.000000  \n",
              "max     34863.000000    2002.000000       2.000000  "
            ]
          },
          "execution_count": 83,
          "metadata": {},
          "output_type": "execute_result"
        }
      ],
      "source": [
        "# Задание 6.7\n",
        "df_bike.describe()"
      ]
    },
    {
      "cell_type": "code",
      "execution_count": 86,
      "metadata": {
        "colab": {
          "base_uri": "https://localhost:8080/",
          "height": 236
        },
        "id": "EN_8ZF5vYMFs",
        "outputId": "c38ba24d-1322-4b0e-c48b-928b032d5a9e"
      },
      "outputs": [
        {
          "data": {
            "text/html": [
              "\n",
              "  <div id=\"df-21e6b426-a537-4288-9425-4d9d438b53f3\">\n",
              "    <div class=\"colab-df-container\">\n",
              "      <div>\n",
              "<style scoped>\n",
              "    .dataframe tbody tr th:only-of-type {\n",
              "        vertical-align: middle;\n",
              "    }\n",
              "\n",
              "    .dataframe tbody tr th {\n",
              "        vertical-align: top;\n",
              "    }\n",
              "\n",
              "    .dataframe thead th {\n",
              "        text-align: right;\n",
              "    }\n",
              "</style>\n",
              "<table border=\"1\" class=\"dataframe\">\n",
              "  <thead>\n",
              "    <tr style=\"text-align: right;\">\n",
              "      <th></th>\n",
              "      <th>starttime</th>\n",
              "      <th>stoptime</th>\n",
              "      <th>start station name</th>\n",
              "      <th>end station name</th>\n",
              "      <th>usertype</th>\n",
              "    </tr>\n",
              "  </thead>\n",
              "  <tbody>\n",
              "    <tr>\n",
              "      <th>count</th>\n",
              "      <td>300000</td>\n",
              "      <td>300000</td>\n",
              "      <td>299831</td>\n",
              "      <td>299831</td>\n",
              "      <td>300000</td>\n",
              "    </tr>\n",
              "    <tr>\n",
              "      <th>unique</th>\n",
              "      <td>299836</td>\n",
              "      <td>299813</td>\n",
              "      <td>759</td>\n",
              "      <td>765</td>\n",
              "      <td>2</td>\n",
              "    </tr>\n",
              "    <tr>\n",
              "      <th>top</th>\n",
              "      <td>2018-09-02 13:59:41.7770</td>\n",
              "      <td>2018-09-04 17:51:07.9110</td>\n",
              "      <td>Grand Army Plaza &amp; Central Park S</td>\n",
              "      <td>West St &amp; Chambers St</td>\n",
              "      <td>Subscriber</td>\n",
              "    </tr>\n",
              "    <tr>\n",
              "      <th>freq</th>\n",
              "      <td>2</td>\n",
              "      <td>2</td>\n",
              "      <td>1928</td>\n",
              "      <td>1963</td>\n",
              "      <td>232202</td>\n",
              "    </tr>\n",
              "  </tbody>\n",
              "</table>\n",
              "</div>\n",
              "      <button class=\"colab-df-convert\" onclick=\"convertToInteractive('df-21e6b426-a537-4288-9425-4d9d438b53f3')\"\n",
              "              title=\"Convert this dataframe to an interactive table.\"\n",
              "              style=\"display:none;\">\n",
              "        \n",
              "  <svg xmlns=\"http://www.w3.org/2000/svg\" height=\"24px\"viewBox=\"0 0 24 24\"\n",
              "       width=\"24px\">\n",
              "    <path d=\"M0 0h24v24H0V0z\" fill=\"none\"/>\n",
              "    <path d=\"M18.56 5.44l.94 2.06.94-2.06 2.06-.94-2.06-.94-.94-2.06-.94 2.06-2.06.94zm-11 1L8.5 8.5l.94-2.06 2.06-.94-2.06-.94L8.5 2.5l-.94 2.06-2.06.94zm10 10l.94 2.06.94-2.06 2.06-.94-2.06-.94-.94-2.06-.94 2.06-2.06.94z\"/><path d=\"M17.41 7.96l-1.37-1.37c-.4-.4-.92-.59-1.43-.59-.52 0-1.04.2-1.43.59L10.3 9.45l-7.72 7.72c-.78.78-.78 2.05 0 2.83L4 21.41c.39.39.9.59 1.41.59.51 0 1.02-.2 1.41-.59l7.78-7.78 2.81-2.81c.8-.78.8-2.07 0-2.86zM5.41 20L4 18.59l7.72-7.72 1.47 1.35L5.41 20z\"/>\n",
              "  </svg>\n",
              "      </button>\n",
              "      \n",
              "  <style>\n",
              "    .colab-df-container {\n",
              "      display:flex;\n",
              "      flex-wrap:wrap;\n",
              "      gap: 12px;\n",
              "    }\n",
              "\n",
              "    .colab-df-convert {\n",
              "      background-color: #E8F0FE;\n",
              "      border: none;\n",
              "      border-radius: 50%;\n",
              "      cursor: pointer;\n",
              "      display: none;\n",
              "      fill: #1967D2;\n",
              "      height: 32px;\n",
              "      padding: 0 0 0 0;\n",
              "      width: 32px;\n",
              "    }\n",
              "\n",
              "    .colab-df-convert:hover {\n",
              "      background-color: #E2EBFA;\n",
              "      box-shadow: 0px 1px 2px rgba(60, 64, 67, 0.3), 0px 1px 3px 1px rgba(60, 64, 67, 0.15);\n",
              "      fill: #174EA6;\n",
              "    }\n",
              "\n",
              "    [theme=dark] .colab-df-convert {\n",
              "      background-color: #3B4455;\n",
              "      fill: #D2E3FC;\n",
              "    }\n",
              "\n",
              "    [theme=dark] .colab-df-convert:hover {\n",
              "      background-color: #434B5C;\n",
              "      box-shadow: 0px 1px 3px 1px rgba(0, 0, 0, 0.15);\n",
              "      filter: drop-shadow(0px 1px 2px rgba(0, 0, 0, 0.3));\n",
              "      fill: #FFFFFF;\n",
              "    }\n",
              "  </style>\n",
              "\n",
              "      <script>\n",
              "        const buttonEl =\n",
              "          document.querySelector('#df-21e6b426-a537-4288-9425-4d9d438b53f3 button.colab-df-convert');\n",
              "        buttonEl.style.display =\n",
              "          google.colab.kernel.accessAllowed ? 'block' : 'none';\n",
              "\n",
              "        async function convertToInteractive(key) {\n",
              "          const element = document.querySelector('#df-21e6b426-a537-4288-9425-4d9d438b53f3');\n",
              "          const dataTable =\n",
              "            await google.colab.kernel.invokeFunction('convertToInteractive',\n",
              "                                                     [key], {});\n",
              "          if (!dataTable) return;\n",
              "\n",
              "          const docLinkHtml = 'Like what you see? Visit the ' +\n",
              "            '<a target=\"_blank\" href=https://colab.research.google.com/notebooks/data_table.ipynb>data table notebook</a>'\n",
              "            + ' to learn more about interactive tables.';\n",
              "          element.innerHTML = '';\n",
              "          dataTable['output_type'] = 'display_data';\n",
              "          await google.colab.output.renderOutput(dataTable, element);\n",
              "          const docLink = document.createElement('div');\n",
              "          docLink.innerHTML = docLinkHtml;\n",
              "          element.appendChild(docLink);\n",
              "        }\n",
              "      </script>\n",
              "    </div>\n",
              "  </div>\n",
              "  "
            ],
            "text/plain": [
              "                       starttime                  stoptime  \\\n",
              "count                     300000                    300000   \n",
              "unique                    299836                    299813   \n",
              "top     2018-09-02 13:59:41.7770  2018-09-04 17:51:07.9110   \n",
              "freq                           2                         2   \n",
              "\n",
              "                       start station name       end station name    usertype  \n",
              "count                              299831                 299831      300000  \n",
              "unique                                759                    765           2  \n",
              "top     Grand Army Plaza & Central Park S  West St & Chambers St  Subscriber  \n",
              "freq                                 1928                   1963      232202  "
            ]
          },
          "execution_count": 86,
          "metadata": {},
          "output_type": "execute_result"
        }
      ],
      "source": [
        "df_bike.describe(include=['object'])"
      ]
    },
    {
      "cell_type": "code",
      "execution_count": 93,
      "metadata": {
        "colab": {
          "base_uri": "https://localhost:8080/"
        },
        "id": "j1ys7Ky7Z06D",
        "outputId": "4789de35-79e0-48e8-92e4-9bd78bffaa0b"
      },
      "outputs": [
        {
          "data": {
            "text/plain": [
              "Eastern Pkwy & Washington Ave           6\n",
              "47 Ave & Skillman Ave                   7\n",
              "Railroad Ave & Kay Ave                  9\n",
              "Franklin Ave & Empire Blvd             11\n",
              "NYCBS Depot - GOW                      15\n",
              "                                     ... \n",
              "West St & Chambers St                1835\n",
              "12 Ave & W 40 St                     1845\n",
              "Pershing Square North                1873\n",
              "Central Park S & 6 Ave               1909\n",
              "Grand Army Plaza & Central Park S    1928\n",
              "Name: start station name, Length: 759, dtype: int64"
            ]
          },
          "execution_count": 93,
          "metadata": {},
          "output_type": "execute_result"
        }
      ],
      "source": [
        "df_bike['start station name'].value_counts(ascending=True)"
      ]
    },
    {
      "cell_type": "code",
      "execution_count": 92,
      "metadata": {
        "colab": {
          "base_uri": "https://localhost:8080/"
        },
        "id": "xohPSMgla_9r",
        "outputId": "b50d2c6f-fbab-44d5-aebe-669aa89f1ee7"
      },
      "outputs": [
        {
          "data": {
            "text/plain": [
              "Liberty Light Rail                1\n",
              "Montrose Ave & Bushwick Ave       1\n",
              "Warren St                         1\n",
              "Union St                          1\n",
              "Exchange Place                    3\n",
              "                               ... \n",
              "E 17 St & Broadway             1804\n",
              "Central Park S & 6 Ave         1828\n",
              "Pershing Square North          1850\n",
              "12 Ave & W 40 St               1909\n",
              "West St & Chambers St          1963\n",
              "Name: end station name, Length: 765, dtype: int64"
            ]
          },
          "execution_count": 92,
          "metadata": {},
          "output_type": "execute_result"
        }
      ],
      "source": [
        "df_bike['end station name'].value_counts(ascending=True)"
      ]
    },
    {
      "cell_type": "code",
      "execution_count": 95,
      "metadata": {
        "colab": {
          "base_uri": "https://localhost:8080/"
        },
        "id": "oD4irBEsbVRD",
        "outputId": "d233eca0-0c86-44d7-a476-dad486440ab0"
      },
      "outputs": [
        {
          "data": {
            "text/plain": [
              "759"
            ]
          },
          "execution_count": 95,
          "metadata": {},
          "output_type": "execute_result"
        }
      ],
      "source": [
        "df_bike['start station name'].nunique()"
      ]
    },
    {
      "cell_type": "code",
      "execution_count": 94,
      "metadata": {
        "colab": {
          "base_uri": "https://localhost:8080/"
        },
        "id": "SjtcDNuobMVj",
        "outputId": "03e0fc0c-b49f-4204-cd1a-09f303b11390"
      },
      "outputs": [
        {
          "data": {
            "text/plain": [
              "765"
            ]
          },
          "execution_count": 94,
          "metadata": {},
          "output_type": "execute_result"
        }
      ],
      "source": [
        "df_bike['end station name'].nunique()"
      ]
    },
    {
      "cell_type": "code",
      "execution_count": 96,
      "metadata": {
        "colab": {
          "base_uri": "https://localhost:8080/"
        },
        "id": "r6UEVdl9bfmj",
        "outputId": "795a50f6-3688-4bd5-db59-1180cd516b20"
      },
      "outputs": [
        {
          "data": {
            "text/plain": [
              "(300000, 14)"
            ]
          },
          "execution_count": 96,
          "metadata": {},
          "output_type": "execute_result"
        }
      ],
      "source": [
        "# Задание 6.8\n",
        "df_bike.shape"
      ]
    },
    {
      "cell_type": "code",
      "execution_count": 97,
      "metadata": {
        "colab": {
          "base_uri": "https://localhost:8080/"
        },
        "id": "_Vc05PlVbtDT",
        "outputId": "42b79fd6-afe2-40f3-e2ed-fd7ddd1df283"
      },
      "outputs": [
        {
          "data": {
            "text/plain": [
              "(300000, 12)"
            ]
          },
          "execution_count": 97,
          "metadata": {},
          "output_type": "execute_result"
        }
      ],
      "source": [
        "df_bike = df_bike.drop(['start station id', 'end station id'], axis=1)\n",
        "df_bike.shape"
      ]
    },
    {
      "cell_type": "code",
      "execution_count": null,
      "metadata": {
        "id": "2THcagWqccHr"
      },
      "outputs": [],
      "source": [
        "# Задание 6.9\n",
        "# Замените признак birth year на более понятный признак возраста клиента age. \n",
        "# Годом отсчёта возраста выберите 2018 год. \n",
        "# Столбец birth year удалите из таблицы. \n",
        "# Сколько поездок совершено клиентами старше 60 лет?\n",
        "\n",
        "df_bike['age'] = 2018 - df_bike['birth year']\n",
        "df_bike = df_bike.drop(['birth year'], axis=1)"
      ]
    },
    {
      "cell_type": "code",
      "execution_count": 102,
      "metadata": {
        "colab": {
          "base_uri": "https://localhost:8080/"
        },
        "id": "WLz4ePDQehiZ",
        "outputId": "bebe6d6a-5f4d-4ab4-af16-0818278fbea5"
      },
      "outputs": [
        {
          "data": {
            "text/plain": [
              "11837"
            ]
          },
          "execution_count": 102,
          "metadata": {},
          "output_type": "execute_result"
        }
      ],
      "source": [
        "df_bike[df_bike['age'] > 60].shape[0]"
      ]
    },
    {
      "cell_type": "code",
      "execution_count": 105,
      "metadata": {
        "id": "7s34-A5ae1PJ"
      },
      "outputs": [],
      "source": [
        "# Задание 6.10\n",
        "# Создайте признак длительности поездки trip duration. \n",
        "# Для этого вычислите интервал времени между временем окончания поездки (stoptime) \n",
        "# и её началом (starttime). \n",
        "# Сколько целых минут длилась поездка под индексом 3 в таблице?\n",
        "\n",
        "df_bike['starttime'] = pd.to_datetime(df_bike['starttime'])\n",
        "df_bike['stoptime']  = pd.to_datetime(df_bike['stoptime'])"
      ]
    },
    {
      "cell_type": "code",
      "execution_count": 115,
      "metadata": {
        "colab": {
          "base_uri": "https://localhost:8080/"
        },
        "id": "CKgwqP6Dg3qx",
        "outputId": "7e0e79df-7933-4a15-c55f-25578561d392"
      },
      "outputs": [
        {
          "data": {
            "text/plain": [
              "Timedelta('0 days 00:07:16.837000')"
            ]
          },
          "execution_count": 115,
          "metadata": {},
          "output_type": "execute_result"
        }
      ],
      "source": [
        "df_bike['trip duration'] = df_bike['stoptime'] - df_bike['starttime']\n",
        "df_bike['trip duration'][3]"
      ]
    },
    {
      "cell_type": "code",
      "execution_count": 130,
      "metadata": {
        "colab": {
          "base_uri": "https://localhost:8080/"
        },
        "id": "N-6XEY1Ss0v7",
        "outputId": "aec88e35-239f-4935-eed4-8b7d4baf6f2c"
      },
      "outputs": [
        {
          "data": {
            "text/plain": [
              "Timedelta('0 days 00:07:16.837000')"
            ]
          },
          "execution_count": 130,
          "metadata": {},
          "output_type": "execute_result"
        }
      ],
      "source": [
        "df_bike.loc[3, 'trip duration']"
      ]
    },
    {
      "cell_type": "code",
      "execution_count": 118,
      "metadata": {
        "colab": {
          "base_uri": "https://localhost:8080/"
        },
        "id": "zwf54PnHh_-J",
        "outputId": "c35e8c4b-935c-4b68-d507-148cb42a3089"
      },
      "outputs": [
        {
          "data": {
            "text/plain": [
              "115135"
            ]
          },
          "execution_count": 118,
          "metadata": {},
          "output_type": "execute_result"
        }
      ],
      "source": [
        "# Задание 6.11\n",
        "# Создайте «признак-мигалку» weekend, который равен 1, \n",
        "# если поездка начиналась в выходной день (суббота или воскресенье), \n",
        "# и 0 — в противном случае. \n",
        "# Выясните, сколько поездок начиналось в выходные.\n",
        "\n",
        "df_bike['weekend'] = df_bike['starttime'].dt.dayofweek\n",
        "weekend_count = df_bike[df_bike['weekend']>4].shape[0]\n",
        "weekend_count"
      ]
    },
    {
      "cell_type": "code",
      "execution_count": null,
      "metadata": {
        "id": "6lnvfizksPvN"
      },
      "outputs": [],
      "source": [
        "weekday = df_bike['starttime'].dt.dayofweek\n",
        "df_bike['weekend'] = weekday.apply(lambda x: 1 if x == 5 or x == 6 else 0)\n",
        "df_bike['weekend'].sum()"
      ]
    },
    {
      "cell_type": "code",
      "execution_count": 124,
      "metadata": {
        "colab": {
          "base_uri": "https://localhost:8080/"
        },
        "id": "XVEiRFevjHSo",
        "outputId": "3807d44f-a867-4812-a2cc-5346204b5d41"
      },
      "outputs": [
        {
          "data": {
            "text/plain": [
              "day        143012\n",
              "morning     95530\n",
              "evening     46373\n",
              "night       15085\n",
              "Name: time_of_day, dtype: int64"
            ]
          },
          "execution_count": 124,
          "metadata": {},
          "output_type": "execute_result"
        }
      ],
      "source": [
        "# Задание 6.12\n",
        "# Создайте признак времени суток поездки time_of_day. \n",
        "# Время суток будем определять из часа начала поездки. \n",
        "# Условимся, что:\n",
        "# поездка совершается ночью (night), \n",
        "# если её час приходится на интервал от 0 (включительно) до 6 (включительно) часов;\n",
        "# поездка совершается утром (morning), \n",
        "# если её час приходится на интервал от 6 (не включительно) до 12 (включительно) часов;\n",
        "# поездка совершается днём (day), \n",
        "# если её час приходится на интервал от 12 (не включительно) до 18 (включительно) часов;\n",
        "# поездка совершается вечером (evening), \n",
        "# если её час приходится на интервал от 18 (не включительно) до 23 часов (включительно).\n",
        "# Во сколько раз количество поездок, \n",
        "# совершённых днём, больше, чем количество поездок, совёршенных ночью, \n",
        "# за представленный в данных период времени? Ответ округлите до целых.\n",
        "def get_time_of_day(starttime):\n",
        "    if 0  <= starttime <=  6: return 'night'\n",
        "    if 6  <  starttime <= 12: return 'morning'\n",
        "    if 12 <  starttime <= 18: return 'day'\n",
        "    if 18 <  starttime <= 23: return 'evening'\n",
        "\n",
        "df_bike['time_of_day'] = df_bike['starttime'].dt.hour.apply(get_time_of_day)\n",
        "df_bike['time_of_day'].value_counts()"
      ]
    },
    {
      "cell_type": "code",
      "execution_count": 129,
      "metadata": {
        "colab": {
          "base_uri": "https://localhost:8080/"
        },
        "id": "upjvFUOCpi-P",
        "outputId": "7bb5634d-195a-4cd3-e01f-23bfce849942"
      },
      "outputs": [
        {
          "data": {
            "text/plain": [
              "9"
            ]
          },
          "execution_count": 129,
          "metadata": {},
          "output_type": "execute_result"
        }
      ],
      "source": [
        "round(df_bike[df_bike['time_of_day'] == 'day'].shape[0] \n",
        "      / \n",
        "      df_bike[df_bike['time_of_day'] == 'night'].shape[0])"
      ]
    }
  ],
  "metadata": {
    "colab": {
      "provenance": []
    },
    "kernelspec": {
      "display_name": "Python 3.10.7 64-bit",
      "language": "python",
      "name": "python3"
    },
    "language_info": {
      "name": "python",
      "version": "3.10.7"
    },
    "vscode": {
      "interpreter": {
        "hash": "fb4569285eef3a3450cb62085a5b1e0da4bce0af555edc33dcf29baf3acc1368"
      }
    }
  },
  "nbformat": 4,
  "nbformat_minor": 0
}
